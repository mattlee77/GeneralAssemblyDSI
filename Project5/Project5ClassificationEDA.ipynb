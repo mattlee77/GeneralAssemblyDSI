{
 "cells": [
  {
   "cell_type": "code",
   "execution_count": 3,
   "metadata": {
    "collapsed": false
   },
   "outputs": [],
   "source": [
    "import pandas as pd\n",
    "import numpy as np\n",
    "import matplotlib.pyplot as plt\n",
    "import seaborn as sns \n",
    "from sklearn.linear_model import LogisticRegression\n",
    "from sklearn.neighbors import KNeighborsClassifier\n",
    "from sklearn.feature_selection import SelectKBest, RFE\n",
    "from sklearn.model_selection import GridSearchCV, cross_val_score\n",
    "from sklearn import metrics\n",
    "from sklearn.preprocessing import FunctionTransformer,Binarizer, Imputer\n",
    "from sklearn.pipeline import Pipeline\n",
    "from sklearn.pipeline import make_pipeline, make_union, FeatureUnion\n",
    "from sklearn.preprocessing import StandardScaler\n",
    "%matplotlib inline"
   ]
  },
  {
   "cell_type": "markdown",
   "metadata": {},
   "source": [
    "DATA CLEANING AND EXPLORATORY ANALYSIS NOTEBOOK\n",
    "=="
   ]
  },
  {
   "cell_type": "code",
   "execution_count": 135,
   "metadata": {
    "collapsed": false
   },
   "outputs": [
    {
     "data": {
      "text/html": [
       "<div>\n",
       "<table border=\"1\" class=\"dataframe\">\n",
       "  <thead>\n",
       "    <tr style=\"text-align: right;\">\n",
       "      <th></th>\n",
       "      <th>Name of School</th>\n",
       "      <th>Elementary, Middle, or High School</th>\n",
       "      <th>Street Address</th>\n",
       "      <th>ZIP Code</th>\n",
       "      <th>Link</th>\n",
       "      <th>Healthy Schools Certified?</th>\n",
       "      <th>Safety Icon</th>\n",
       "      <th>Safety Score</th>\n",
       "      <th>Family Involvement Icon</th>\n",
       "      <th>Family Involvement Score</th>\n",
       "      <th>...</th>\n",
       "      <th>College Enrollment Rate %</th>\n",
       "      <th>College Enrollment (number of students)</th>\n",
       "      <th>General Services Route</th>\n",
       "      <th>Freshman on Track Rate %</th>\n",
       "      <th>Community Area Number</th>\n",
       "      <th>Community Area Name</th>\n",
       "      <th>Ward</th>\n",
       "      <th>Police District</th>\n",
       "      <th>probation</th>\n",
       "      <th>Id</th>\n",
       "    </tr>\n",
       "  </thead>\n",
       "  <tbody>\n",
       "    <tr>\n",
       "      <th>0</th>\n",
       "      <td>John Spry Elementary Community School</td>\n",
       "      <td>ES</td>\n",
       "      <td>2400 S Marshall Blvd</td>\n",
       "      <td>60623</td>\n",
       "      <td>http://schoolreports.cps.edu/SchoolProgressRep...</td>\n",
       "      <td>No</td>\n",
       "      <td>Strong</td>\n",
       "      <td>66.0</td>\n",
       "      <td>Average</td>\n",
       "      <td>59</td>\n",
       "      <td>...</td>\n",
       "      <td>NDA</td>\n",
       "      <td>809</td>\n",
       "      <td>39</td>\n",
       "      <td>NDA</td>\n",
       "      <td>30</td>\n",
       "      <td>SOUTH LAWNDALE</td>\n",
       "      <td>12</td>\n",
       "      <td>10</td>\n",
       "      <td>0</td>\n",
       "      <td>610184</td>\n",
       "    </tr>\n",
       "    <tr>\n",
       "      <th>1</th>\n",
       "      <td>Thomas A Edison Regional Gifted Center Element...</td>\n",
       "      <td>ES</td>\n",
       "      <td>4929 N Sawyer Ave</td>\n",
       "      <td>60625</td>\n",
       "      <td>http://schoolreports.cps.edu/SchoolProgressRep...</td>\n",
       "      <td>No</td>\n",
       "      <td>Very Strong</td>\n",
       "      <td>91.0</td>\n",
       "      <td>NDA</td>\n",
       "      <td>NDA</td>\n",
       "      <td>...</td>\n",
       "      <td>NDA</td>\n",
       "      <td>269</td>\n",
       "      <td>31</td>\n",
       "      <td>NDA</td>\n",
       "      <td>14</td>\n",
       "      <td>ALBANY PARK</td>\n",
       "      <td>39</td>\n",
       "      <td>17</td>\n",
       "      <td>0</td>\n",
       "      <td>609794</td>\n",
       "    </tr>\n",
       "    <tr>\n",
       "      <th>2</th>\n",
       "      <td>Milton Brunson Math &amp; Science Specialty Elemen...</td>\n",
       "      <td>ES</td>\n",
       "      <td>932 N Central Ave</td>\n",
       "      <td>60651</td>\n",
       "      <td>http://schoolreports.cps.edu/SchoolProgressRep...</td>\n",
       "      <td>No</td>\n",
       "      <td>Weak</td>\n",
       "      <td>30.0</td>\n",
       "      <td>NDA</td>\n",
       "      <td>NDA</td>\n",
       "      <td>...</td>\n",
       "      <td>NDA</td>\n",
       "      <td>658</td>\n",
       "      <td>36</td>\n",
       "      <td>NDA</td>\n",
       "      <td>25</td>\n",
       "      <td>AUSTIN</td>\n",
       "      <td>29</td>\n",
       "      <td>15</td>\n",
       "      <td>1</td>\n",
       "      <td>609830</td>\n",
       "    </tr>\n",
       "    <tr>\n",
       "      <th>3</th>\n",
       "      <td>Emil G Hirsch Metropolitan High School</td>\n",
       "      <td>HS</td>\n",
       "      <td>7740 S Ingleside Ave</td>\n",
       "      <td>60619</td>\n",
       "      <td>http://schoolreports.cps.edu/SchoolProgressRep...</td>\n",
       "      <td>No</td>\n",
       "      <td>Very Weak</td>\n",
       "      <td>13.0</td>\n",
       "      <td>Average</td>\n",
       "      <td>46</td>\n",
       "      <td>...</td>\n",
       "      <td>45.1</td>\n",
       "      <td>458</td>\n",
       "      <td>46</td>\n",
       "      <td>69.5</td>\n",
       "      <td>69</td>\n",
       "      <td>GREATER GRAND CROSSING</td>\n",
       "      <td>8</td>\n",
       "      <td>6</td>\n",
       "      <td>1</td>\n",
       "      <td>609712</td>\n",
       "    </tr>\n",
       "    <tr>\n",
       "      <th>4</th>\n",
       "      <td>Lawndale Elementary Community Academy</td>\n",
       "      <td>ES</td>\n",
       "      <td>3500 W Douglas Blvd</td>\n",
       "      <td>60623</td>\n",
       "      <td>http://schoolreports.cps.edu/SchoolProgressRep...</td>\n",
       "      <td>No</td>\n",
       "      <td>NDA</td>\n",
       "      <td>NaN</td>\n",
       "      <td>NDA</td>\n",
       "      <td>NDA</td>\n",
       "      <td>...</td>\n",
       "      <td>NDA</td>\n",
       "      <td>508</td>\n",
       "      <td>37</td>\n",
       "      <td>NDA</td>\n",
       "      <td>29</td>\n",
       "      <td>NORTH LAWNDALE</td>\n",
       "      <td>24</td>\n",
       "      <td>10</td>\n",
       "      <td>1</td>\n",
       "      <td>610034</td>\n",
       "    </tr>\n",
       "  </tbody>\n",
       "</table>\n",
       "<p>5 rows × 65 columns</p>\n",
       "</div>"
      ],
      "text/plain": [
       "                                      Name of School  \\\n",
       "0              John Spry Elementary Community School   \n",
       "1  Thomas A Edison Regional Gifted Center Element...   \n",
       "2  Milton Brunson Math & Science Specialty Elemen...   \n",
       "3             Emil G Hirsch Metropolitan High School   \n",
       "4              Lawndale Elementary Community Academy   \n",
       "\n",
       "  Elementary, Middle, or High School         Street Address  ZIP Code  \\\n",
       "0                                 ES  2400 S Marshall Blvd      60623   \n",
       "1                                 ES     4929 N Sawyer Ave      60625   \n",
       "2                                 ES     932 N Central Ave      60651   \n",
       "3                                 HS  7740 S Ingleside Ave      60619   \n",
       "4                                 ES   3500 W Douglas Blvd      60623   \n",
       "\n",
       "                                               Link   \\\n",
       "0  http://schoolreports.cps.edu/SchoolProgressRep...   \n",
       "1  http://schoolreports.cps.edu/SchoolProgressRep...   \n",
       "2  http://schoolreports.cps.edu/SchoolProgressRep...   \n",
       "3  http://schoolreports.cps.edu/SchoolProgressRep...   \n",
       "4  http://schoolreports.cps.edu/SchoolProgressRep...   \n",
       "\n",
       "  Healthy Schools Certified? Safety Icon   Safety Score  \\\n",
       "0                         No       Strong          66.0   \n",
       "1                         No  Very Strong          91.0   \n",
       "2                         No         Weak          30.0   \n",
       "3                         No    Very Weak          13.0   \n",
       "4                         No          NDA           NaN   \n",
       "\n",
       "  Family Involvement Icon Family Involvement Score   ...    \\\n",
       "0                 Average                       59   ...     \n",
       "1                     NDA                      NDA   ...     \n",
       "2                     NDA                      NDA   ...     \n",
       "3                 Average                       46   ...     \n",
       "4                     NDA                      NDA   ...     \n",
       "\n",
       "  College Enrollment Rate %  College Enrollment (number of students)   \\\n",
       "0                       NDA                                       809   \n",
       "1                       NDA                                       269   \n",
       "2                       NDA                                       658   \n",
       "3                      45.1                                       458   \n",
       "4                       NDA                                       508   \n",
       "\n",
       "  General Services Route   Freshman on Track Rate % Community Area Number  \\\n",
       "0                      39                       NDA                    30   \n",
       "1                      31                       NDA                    14   \n",
       "2                      36                       NDA                    25   \n",
       "3                      46                      69.5                    69   \n",
       "4                      37                       NDA                    29   \n",
       "\n",
       "      Community Area Name Ward Police District probation      Id  \n",
       "0          SOUTH LAWNDALE   12              10         0  610184  \n",
       "1             ALBANY PARK   39              17         0  609794  \n",
       "2                  AUSTIN   29              15         1  609830  \n",
       "3  GREATER GRAND CROSSING    8               6         1  609712  \n",
       "4          NORTH LAWNDALE   24              10         1  610034  \n",
       "\n",
       "[5 rows x 65 columns]"
      ]
     },
     "execution_count": 135,
     "metadata": {},
     "output_type": "execute_result"
    }
   ],
   "source": [
    "df = pd.read_csv('school_data_training.csv')\n",
    "df.head()"
   ]
  },
  {
   "cell_type": "code",
   "execution_count": 136,
   "metadata": {
    "collapsed": false
   },
   "outputs": [],
   "source": [
    "df = pd.concat([df,pd.get_dummies(df['Elementary, Middle, or High School'],drop_first=True,prefix = 'EMS')], axis = 1)\n",
    "df.drop('Elementary, Middle, or High School',axis = 1, inplace = True)\n",
    "#to get dummies and drop original column"
   ]
  },
  {
   "cell_type": "code",
   "execution_count": 137,
   "metadata": {
    "collapsed": false
   },
   "outputs": [],
   "source": [
    "df = pd.concat([df,pd.get_dummies(df['ZIP Code'],drop_first = True, prefix = 'ZIP')], axis = 1)\n",
    "df.drop('ZIP Code', axis = 1, inplace = True)"
   ]
  },
  {
   "cell_type": "code",
   "execution_count": 138,
   "metadata": {
    "collapsed": false
   },
   "outputs": [],
   "source": [
    "df['Healthy Schools Certified?'] = df['Healthy Schools Certified?'].apply(lambda x: 1 if x == 'Yes' else 0)\n",
    "#to make binary (0,1)"
   ]
  },
  {
   "cell_type": "code",
   "execution_count": 157,
   "metadata": {
    "collapsed": false
   },
   "outputs": [],
   "source": [
    "df.loc[df['Safety Icon '] == 'NDA', 'Safety Icon '] = 'Average'\n",
    "#consider using this feature with caution due to NDA values (34)"
   ]
  },
  {
   "cell_type": "code",
   "execution_count": 158,
   "metadata": {
    "collapsed": false
   },
   "outputs": [
    {
     "data": {
      "text/plain": [
       "Average        173\n",
       "Weak           117\n",
       "Strong          74\n",
       "Very Strong     32\n",
       "Very Weak       18\n",
       "Name: Safety Icon , dtype: int64"
      ]
     },
     "execution_count": 158,
     "metadata": {},
     "output_type": "execute_result"
    }
   ],
   "source": [
    "df['Safety Icon '].value_counts()"
   ]
  },
  {
   "cell_type": "code",
   "execution_count": 190,
   "metadata": {
    "collapsed": true
   },
   "outputs": [],
   "source": [
    "df = pd.concat([df,pd.get_dummies(df['Safety Icon '],drop_first = True, prefix = 'SafetyIcon')], axis = 1)\n",
    "df.drop('Safety Icon ', axis = 1, inplace = True)"
   ]
  },
  {
   "cell_type": "code",
   "execution_count": 159,
   "metadata": {
    "collapsed": false
   },
   "outputs": [
    {
     "data": {
      "text/plain": [
       "count    380.000000\n",
       "mean      49.023684\n",
       "std       19.891977\n",
       "min        1.000000\n",
       "25%       34.000000\n",
       "50%       46.000000\n",
       "75%       61.000000\n",
       "max       99.000000\n",
       "Name: Safety Score, dtype: float64"
      ]
     },
     "execution_count": 159,
     "metadata": {},
     "output_type": "execute_result"
    }
   ],
   "source": [
    "df['Safety Score'].describe()"
   ]
  },
  {
   "cell_type": "code",
   "execution_count": 161,
   "metadata": {
    "collapsed": false
   },
   "outputs": [],
   "source": [
    "df['Safety Score'].fillna(49.0, inplace = True)"
   ]
  },
  {
   "cell_type": "code",
   "execution_count": 166,
   "metadata": {
    "collapsed": false
   },
   "outputs": [],
   "source": [
    "df.loc[df['Family Involvement Icon'] == 'NDA', 'Family Involvement Icon'] = 'Average'\n",
    "#consider using this feature with caution due to NDA values (196)"
   ]
  },
  {
   "cell_type": "code",
   "execution_count": 191,
   "metadata": {
    "collapsed": true
   },
   "outputs": [],
   "source": [
    "df = pd.concat([df,pd.get_dummies(df['Family Involvement Icon'],drop_first = True, prefix = 'FamilyInvolvementIcon')], axis = 1)\n",
    "df.drop('Family Involvement Icon', axis = 1, inplace = True)"
   ]
  },
  {
   "cell_type": "code",
   "execution_count": 176,
   "metadata": {
    "collapsed": false
   },
   "outputs": [],
   "source": [
    "df.loc[df['Family Involvement Score'] == 'NDA','Family Involvement Score'] = 50\n",
    "#consider using this feature with caution due to NDA values (196)"
   ]
  },
  {
   "cell_type": "code",
   "execution_count": 184,
   "metadata": {
    "collapsed": false
   },
   "outputs": [],
   "source": [
    "df['Family Involvement Score'] = df['Family Involvement Score'].apply(int)"
   ]
  },
  {
   "cell_type": "code",
   "execution_count": 189,
   "metadata": {
    "collapsed": false
   },
   "outputs": [],
   "source": [
    "df.loc[df['Environment Icon '] == 'NDA','Environment Icon '] = 'Average'\n",
    "#consider using this feature with caution due to NDA values (34)"
   ]
  },
  {
   "cell_type": "code",
   "execution_count": 192,
   "metadata": {
    "collapsed": true
   },
   "outputs": [],
   "source": [
    "df = pd.concat([df,pd.get_dummies(df['Environment Icon '],drop_first = True, prefix = 'EnvironmentIcon')], axis = 1)\n",
    "df.drop('Environment Icon ', axis = 1, inplace = True)"
   ]
  },
  {
   "cell_type": "code",
   "execution_count": 197,
   "metadata": {
    "collapsed": false
   },
   "outputs": [],
   "source": [
    "df['Environment Score'].fillna(47.0, inplace = True)\n",
    "#consider using this feature with caution due to NDA values (34)"
   ]
  },
  {
   "cell_type": "code",
   "execution_count": 200,
   "metadata": {
    "collapsed": true
   },
   "outputs": [],
   "source": [
    "df.loc[df['Instruction Icon '] == 'NDA','Instruction Icon '] = 'Average'\n",
    "#consider using this feature with caution due to NDA values (34)"
   ]
  },
  {
   "cell_type": "code",
   "execution_count": 202,
   "metadata": {
    "collapsed": true
   },
   "outputs": [],
   "source": [
    "df = pd.concat([df,pd.get_dummies(df['Instruction Icon '],drop_first = True, prefix = 'InstructiontIcon')], axis = 1)\n",
    "df.drop('Instruction Icon ', axis = 1, inplace = True)"
   ]
  },
  {
   "cell_type": "code",
   "execution_count": 205,
   "metadata": {
    "collapsed": false
   },
   "outputs": [],
   "source": [
    "df['Instruction Score'].fillna(48.0, inplace = True)\n",
    "#consider using this feature with caution due to NDA values (34)"
   ]
  },
  {
   "cell_type": "code",
   "execution_count": 208,
   "metadata": {
    "collapsed": false
   },
   "outputs": [],
   "source": [
    "df.loc[df['Leaders Icon '] == 'NDA', 'Leaders Icon '] = 'Average'\n",
    "#consider using this feature with caution due to NDA values (196)"
   ]
  },
  {
   "cell_type": "code",
   "execution_count": 209,
   "metadata": {
    "collapsed": true
   },
   "outputs": [],
   "source": [
    "df = pd.concat([df,pd.get_dummies(df['Leaders Icon '],drop_first = True, prefix = 'LeaderIcon')], axis = 1)\n",
    "df.drop('Leaders Icon ', axis = 1, inplace = True)"
   ]
  },
  {
   "cell_type": "code",
   "execution_count": 216,
   "metadata": {
    "collapsed": false
   },
   "outputs": [],
   "source": [
    "df.loc[df['Leaders Score '] == 'NDA','Leaders Score '] = 49\n",
    "#consider using this feature with caution due to NDA values (196)"
   ]
  },
  {
   "cell_type": "code",
   "execution_count": 217,
   "metadata": {
    "collapsed": true
   },
   "outputs": [],
   "source": [
    "df['Leaders Score '] = df['Leaders Score '].apply(int)"
   ]
  },
  {
   "cell_type": "code",
   "execution_count": 221,
   "metadata": {
    "collapsed": false
   },
   "outputs": [],
   "source": [
    "df.loc[df['Teachers Icon '] == 'NDA', 'Teachers Icon '] = 'Average'\n",
    "#consider using this feature with caution due to NDA values (197)"
   ]
  },
  {
   "cell_type": "code",
   "execution_count": 222,
   "metadata": {
    "collapsed": true
   },
   "outputs": [],
   "source": [
    "df = pd.concat([df,pd.get_dummies(df['Teachers Icon '],drop_first = True, prefix = 'TeachersIcon')], axis = 1)\n",
    "df.drop('Teachers Icon ', axis = 1, inplace = True)"
   ]
  },
  {
   "cell_type": "code",
   "execution_count": 225,
   "metadata": {
    "collapsed": false
   },
   "outputs": [],
   "source": [
    "df.loc[df['Teachers Score'] == 'NDA','Teachers Score'] = 48.0\n",
    "#consider using this feature with caution due to NDA values (197)"
   ]
  },
  {
   "cell_type": "code",
   "execution_count": 227,
   "metadata": {
    "collapsed": false
   },
   "outputs": [],
   "source": [
    "df['Teachers Score'] = df['Teachers Score'].apply(int)"
   ]
  },
  {
   "cell_type": "code",
   "execution_count": 232,
   "metadata": {
    "collapsed": false
   },
   "outputs": [],
   "source": [
    "df.loc[df['Parent Engagement Icon '] == 'NDA', 'Parent Engagement Icon '] = 'Average'\n",
    "#consider using this feature with caution due to NDA values (99)"
   ]
  },
  {
   "cell_type": "code",
   "execution_count": 242,
   "metadata": {
    "collapsed": true
   },
   "outputs": [],
   "source": [
    "df = pd.concat([df,pd.get_dummies(df['Parent Engagement Icon '],drop_first = True, prefix = 'ParentEngIcon')], axis = 1)\n",
    "df.drop('Parent Engagement Icon ', axis = 1, inplace = True)"
   ]
  },
  {
   "cell_type": "code",
   "execution_count": 237,
   "metadata": {
    "collapsed": false
   },
   "outputs": [],
   "source": [
    "df.loc[df['Parent Engagement Score'] == 'NDA', 'Parent Engagement Score'] = 50.0"
   ]
  },
  {
   "cell_type": "code",
   "execution_count": 238,
   "metadata": {
    "collapsed": true
   },
   "outputs": [],
   "source": [
    "df['Parent Engagement Score'] = df['Parent Engagement Score'].apply(int)\n",
    "#consider using this feature with caution due to NDA values (99)"
   ]
  },
  {
   "cell_type": "code",
   "execution_count": 241,
   "metadata": {
    "collapsed": false
   },
   "outputs": [],
   "source": [
    "df.loc[df['Parent Environment Icon'] == 'NDA', 'Parent Environment Icon'] = 'Average'"
   ]
  },
  {
   "cell_type": "code",
   "execution_count": 243,
   "metadata": {
    "collapsed": true
   },
   "outputs": [],
   "source": [
    "df = pd.concat([df,pd.get_dummies(df['Parent Environment Icon'],drop_first = True, prefix = 'ParentEnvIcon')], axis = 1)\n",
    "df.drop('Parent Environment Icon', axis = 1, inplace = True)"
   ]
  },
  {
   "cell_type": "code",
   "execution_count": 246,
   "metadata": {
    "collapsed": false
   },
   "outputs": [],
   "source": [
    "df.loc[df['Parent Environment Score'] == 'NDA', 'Parent Environment Score'] = 50.0"
   ]
  },
  {
   "cell_type": "code",
   "execution_count": 247,
   "metadata": {
    "collapsed": true
   },
   "outputs": [],
   "source": [
    "df['Parent Environment Score'] = df['Parent Environment Score'].apply(int)"
   ]
  },
  {
   "cell_type": "code",
   "execution_count": 270,
   "metadata": {
    "collapsed": false
   },
   "outputs": [],
   "source": [
    "def percentage(series):\n",
    "    series = series.replace('%','')\n",
    "    return float(series)\n",
    "#create function to convert percentage columns to float"
   ]
  },
  {
   "cell_type": "code",
   "execution_count": 271,
   "metadata": {
    "collapsed": false
   },
   "outputs": [],
   "source": [
    "df['Average Student Attendance'] = df['Average Student Attendance'].apply(percentage)"
   ]
  },
  {
   "cell_type": "code",
   "execution_count": 282,
   "metadata": {
    "collapsed": false
   },
   "outputs": [
    {
     "data": {
      "text/plain": [
       "0"
      ]
     },
     "execution_count": 282,
     "metadata": {},
     "output_type": "execute_result"
    }
   ],
   "source": [
    "df['Rate of Misconducts (per 100 students) '].isnull().sum()"
   ]
  },
  {
   "cell_type": "code",
   "execution_count": 284,
   "metadata": {
    "collapsed": false
   },
   "outputs": [],
   "source": [
    "df['Average Teacher Attendance'] = df['Average Teacher Attendance'].apply(percentage)"
   ]
  },
  {
   "cell_type": "code",
   "execution_count": 288,
   "metadata": {
    "collapsed": false
   },
   "outputs": [],
   "source": [
    "df['Individualized Education Program Compliance Rate '] = df['Individualized Education Program Compliance Rate '].apply(percentage)"
   ]
  },
  {
   "cell_type": "code",
   "execution_count": 295,
   "metadata": {
    "collapsed": false
   },
   "outputs": [],
   "source": [
    "df.loc[df['Pk-2 Literacy %'] == 'NDA', 'Pk-2 Literacy %'] = 64.0"
   ]
  },
  {
   "cell_type": "code",
   "execution_count": 297,
   "metadata": {
    "collapsed": false
   },
   "outputs": [],
   "source": [
    "df['Pk-2 Literacy %'] = df['Pk-2 Literacy %'].apply(float)"
   ]
  },
  {
   "cell_type": "code",
   "execution_count": 302,
   "metadata": {
    "collapsed": false
   },
   "outputs": [],
   "source": [
    "df.loc[df['Pk-2 Math %'] == 'NDA', 'Pk-2 Math %'] = 44.0"
   ]
  },
  {
   "cell_type": "code",
   "execution_count": 303,
   "metadata": {
    "collapsed": true
   },
   "outputs": [],
   "source": [
    "df['Pk-2 Math %'] = df['Pk-2 Math %'].apply(float)"
   ]
  },
  {
   "cell_type": "code",
   "execution_count": 322,
   "metadata": {
    "collapsed": false
   },
   "outputs": [],
   "source": [
    "df.loc[df['Gr3-5 Grade Level Math %'] == 'NDA', 'Gr3-5 Grade Level Math %'] = 38.0"
   ]
  },
  {
   "cell_type": "code",
   "execution_count": 323,
   "metadata": {
    "collapsed": false
   },
   "outputs": [],
   "source": [
    "df['Gr3-5 Grade Level Math %'] = df['Gr3-5 Grade Level Math %'].apply(float)"
   ]
  },
  {
   "cell_type": "code",
   "execution_count": 328,
   "metadata": {
    "collapsed": false
   },
   "outputs": [],
   "source": [
    "def mathlit(df, column):\n",
    "    mean = df.loc[df[column] != 'NDA', column].astype(float).mean()\n",
    "    df.loc[df[column] == 'NDA', column] = mean\n",
    "    df[column] = df[column].apply(float)\n",
    "    return df[column]\n",
    "#make a function to apply for these types of columns, (has NDAs, string, no %)"
   ]
  },
  {
   "cell_type": "code",
   "execution_count": 347,
   "metadata": {
    "collapsed": false
   },
   "outputs": [],
   "source": [
    "lis = ['Gr3-5 Keep Pace Math %','Gr3-5 Keep Pace Read %','Gr6-8 Grade Level Math %','Gr6-8 Grade Level Read %',\n",
    "      'Gr6-8 Keep Pace Math%','Gr6-8 Keep Pace Read %','Gr-8 Explore Math %','Gr-8 Explore Read %']\n",
    "for li in lis:\n",
    "    df[li] = mathlit(df,li)"
   ]
  },
  {
   "cell_type": "code",
   "execution_count": 353,
   "metadata": {
    "collapsed": false
   },
   "outputs": [],
   "source": [
    "df['ISAT Value Add Math'].fillna(df['ISAT Value Add Math'].mean(), inplace = True)"
   ]
  },
  {
   "cell_type": "code",
   "execution_count": 359,
   "metadata": {
    "collapsed": false
   },
   "outputs": [],
   "source": [
    "df['ISAT Value Add Read'].fillna(df['ISAT Value Add Read'].mean(), inplace = True)"
   ]
  },
  {
   "cell_type": "code",
   "execution_count": 363,
   "metadata": {
    "collapsed": false
   },
   "outputs": [],
   "source": [
    "df['ISAT Exceeding Math %'].fillna(df['ISAT Exceeding Math %'].mean(), inplace = True)"
   ]
  },
  {
   "cell_type": "code",
   "execution_count": 367,
   "metadata": {
    "collapsed": false
   },
   "outputs": [],
   "source": [
    "df['ISAT Exceeding Reading % '].fillna(df['ISAT Exceeding Reading % '].mean(), inplace = True)\n",
    "#60 Nans"
   ]
  },
  {
   "cell_type": "code",
   "execution_count": 373,
   "metadata": {
    "collapsed": false
   },
   "outputs": [],
   "source": [
    "df.loc[df['ISAT Value Add Color Math'] == 'NDA', 'ISAT Value Add Color Math'] = 'Yellow'"
   ]
  },
  {
   "cell_type": "code",
   "execution_count": 374,
   "metadata": {
    "collapsed": true
   },
   "outputs": [],
   "source": [
    "df = pd.concat([df,pd.get_dummies(df['ISAT Value Add Color Math'],drop_first = True, prefix = 'ISATVAColorMath')], axis = 1)\n",
    "df.drop('ISAT Value Add Color Math', axis = 1, inplace = True)"
   ]
  },
  {
   "cell_type": "code",
   "execution_count": 376,
   "metadata": {
    "collapsed": false
   },
   "outputs": [],
   "source": [
    "df.loc[df['ISAT Value Add Color Read'] == 'NDA', 'ISAT Value Add Color Read'] = 'Yellow'\n",
    "#66 NDA"
   ]
  },
  {
   "cell_type": "code",
   "execution_count": 377,
   "metadata": {
    "collapsed": true
   },
   "outputs": [],
   "source": [
    "df = pd.concat([df,pd.get_dummies(df['ISAT Value Add Color Read'],drop_first = True, prefix = 'ISATVAColorRead')], axis = 1)\n",
    "df.drop('ISAT Value Add Color Read', axis = 1, inplace = True)"
   ]
  },
  {
   "cell_type": "code",
   "execution_count": 403,
   "metadata": {
    "collapsed": false
   },
   "outputs": [],
   "source": [
    "liz = ['Students Taking  Algebra %','Students Passing  Algebra %','9th Grade EXPLORE (2009) ','9th Grade EXPLORE (2010) ',\n",
    "      '10th Grade PLAN (2009) ','10th Grade PLAN (2010) ','Net Change EXPLORE and PLAN','11th Grade Average ACT (2011) ',\n",
    "      'Net Change PLAN and ACT','College Eligibility %','Graduation Rate %','College Enrollment Rate %',\n",
    "      'Freshman on Track Rate %']\n",
    "for li in liz:\n",
    "    df[li] = mathlit(df,li)\n",
    "#all these have at least 300 NDAs"
   ]
  },
  {
   "cell_type": "code",
   "execution_count": 409,
   "metadata": {
    "collapsed": false
   },
   "outputs": [],
   "source": [
    "df = pd.concat([df,pd.get_dummies(df['Community Area Number'],drop_first = True, prefix = 'CommAreaNumber')], axis = 1)\n",
    "df.drop('Community Area Number', axis = 1, inplace = True)"
   ]
  },
  {
   "cell_type": "code",
   "execution_count": null,
   "metadata": {
    "collapsed": true
   },
   "outputs": [],
   "source": [
    "df = pd.concat([df,pd.get_dummies(df['Community Area Number'],drop_first = True, prefix = 'CommAreaNumber')], axis = 1)\n",
    "df.drop('Community Area Number', axis = 1, inplace = True)"
   ]
  },
  {
   "cell_type": "code",
   "execution_count": 411,
   "metadata": {
    "collapsed": false
   },
   "outputs": [],
   "source": [
    "df_areaname = df['Community Area Name']\n",
    "#for reference purposes"
   ]
  },
  {
   "cell_type": "code",
   "execution_count": 412,
   "metadata": {
    "collapsed": true
   },
   "outputs": [],
   "source": [
    "df.drop('Community Area Name', axis = 1, inplace = True)"
   ]
  },
  {
   "cell_type": "code",
   "execution_count": 414,
   "metadata": {
    "collapsed": false
   },
   "outputs": [],
   "source": [
    "df = pd.concat([df,pd.get_dummies(df['Ward'],drop_first = True, prefix = 'Ward')], axis = 1)\n",
    "df.drop('Ward', axis = 1, inplace = True)"
   ]
  },
  {
   "cell_type": "code",
   "execution_count": 416,
   "metadata": {
    "collapsed": false
   },
   "outputs": [],
   "source": [
    "df = pd.concat([df,pd.get_dummies(df['Police District'],drop_first = True, prefix = 'Police')], axis = 1)\n",
    "df.drop('Police District', axis = 1, inplace = True)"
   ]
  },
  {
   "cell_type": "code",
   "execution_count": 417,
   "metadata": {
    "collapsed": false
   },
   "outputs": [
    {
     "data": {
      "text/html": [
       "<div>\n",
       "<table border=\"1\" class=\"dataframe\">\n",
       "  <thead>\n",
       "    <tr style=\"text-align: right;\">\n",
       "      <th></th>\n",
       "      <th>Name of School</th>\n",
       "      <th>Street Address</th>\n",
       "      <th>Link</th>\n",
       "      <th>Healthy Schools Certified?</th>\n",
       "      <th>Safety Score</th>\n",
       "      <th>Family Involvement Score</th>\n",
       "      <th>Environment Score</th>\n",
       "      <th>Instruction Score</th>\n",
       "      <th>Leaders Score</th>\n",
       "      <th>Teachers Score</th>\n",
       "      <th>...</th>\n",
       "      <th>Police_14</th>\n",
       "      <th>Police_15</th>\n",
       "      <th>Police_16</th>\n",
       "      <th>Police_17</th>\n",
       "      <th>Police_18</th>\n",
       "      <th>Police_19</th>\n",
       "      <th>Police_20</th>\n",
       "      <th>Police_22</th>\n",
       "      <th>Police_24</th>\n",
       "      <th>Police_25</th>\n",
       "    </tr>\n",
       "  </thead>\n",
       "  <tbody>\n",
       "    <tr>\n",
       "      <th>0</th>\n",
       "      <td>John Spry Elementary Community School</td>\n",
       "      <td>2400 S Marshall Blvd</td>\n",
       "      <td>http://schoolreports.cps.edu/SchoolProgressRep...</td>\n",
       "      <td>0</td>\n",
       "      <td>66.0</td>\n",
       "      <td>59</td>\n",
       "      <td>70.0</td>\n",
       "      <td>67.0</td>\n",
       "      <td>52</td>\n",
       "      <td>43</td>\n",
       "      <td>...</td>\n",
       "      <td>0</td>\n",
       "      <td>0</td>\n",
       "      <td>0</td>\n",
       "      <td>0</td>\n",
       "      <td>0</td>\n",
       "      <td>0</td>\n",
       "      <td>0</td>\n",
       "      <td>0</td>\n",
       "      <td>0</td>\n",
       "      <td>0</td>\n",
       "    </tr>\n",
       "    <tr>\n",
       "      <th>1</th>\n",
       "      <td>Thomas A Edison Regional Gifted Center Element...</td>\n",
       "      <td>4929 N Sawyer Ave</td>\n",
       "      <td>http://schoolreports.cps.edu/SchoolProgressRep...</td>\n",
       "      <td>0</td>\n",
       "      <td>91.0</td>\n",
       "      <td>50</td>\n",
       "      <td>64.0</td>\n",
       "      <td>56.0</td>\n",
       "      <td>49</td>\n",
       "      <td>48</td>\n",
       "      <td>...</td>\n",
       "      <td>0</td>\n",
       "      <td>0</td>\n",
       "      <td>0</td>\n",
       "      <td>1</td>\n",
       "      <td>0</td>\n",
       "      <td>0</td>\n",
       "      <td>0</td>\n",
       "      <td>0</td>\n",
       "      <td>0</td>\n",
       "      <td>0</td>\n",
       "    </tr>\n",
       "    <tr>\n",
       "      <th>2</th>\n",
       "      <td>Milton Brunson Math &amp; Science Specialty Elemen...</td>\n",
       "      <td>932 N Central Ave</td>\n",
       "      <td>http://schoolreports.cps.edu/SchoolProgressRep...</td>\n",
       "      <td>0</td>\n",
       "      <td>30.0</td>\n",
       "      <td>50</td>\n",
       "      <td>30.0</td>\n",
       "      <td>45.0</td>\n",
       "      <td>49</td>\n",
       "      <td>48</td>\n",
       "      <td>...</td>\n",
       "      <td>0</td>\n",
       "      <td>1</td>\n",
       "      <td>0</td>\n",
       "      <td>0</td>\n",
       "      <td>0</td>\n",
       "      <td>0</td>\n",
       "      <td>0</td>\n",
       "      <td>0</td>\n",
       "      <td>0</td>\n",
       "      <td>0</td>\n",
       "    </tr>\n",
       "    <tr>\n",
       "      <th>3</th>\n",
       "      <td>Emil G Hirsch Metropolitan High School</td>\n",
       "      <td>7740 S Ingleside Ave</td>\n",
       "      <td>http://schoolreports.cps.edu/SchoolProgressRep...</td>\n",
       "      <td>0</td>\n",
       "      <td>13.0</td>\n",
       "      <td>46</td>\n",
       "      <td>28.0</td>\n",
       "      <td>28.0</td>\n",
       "      <td>52</td>\n",
       "      <td>50</td>\n",
       "      <td>...</td>\n",
       "      <td>0</td>\n",
       "      <td>0</td>\n",
       "      <td>0</td>\n",
       "      <td>0</td>\n",
       "      <td>0</td>\n",
       "      <td>0</td>\n",
       "      <td>0</td>\n",
       "      <td>0</td>\n",
       "      <td>0</td>\n",
       "      <td>0</td>\n",
       "    </tr>\n",
       "    <tr>\n",
       "      <th>4</th>\n",
       "      <td>Lawndale Elementary Community Academy</td>\n",
       "      <td>3500 W Douglas Blvd</td>\n",
       "      <td>http://schoolreports.cps.edu/SchoolProgressRep...</td>\n",
       "      <td>0</td>\n",
       "      <td>49.0</td>\n",
       "      <td>50</td>\n",
       "      <td>47.0</td>\n",
       "      <td>48.0</td>\n",
       "      <td>49</td>\n",
       "      <td>48</td>\n",
       "      <td>...</td>\n",
       "      <td>0</td>\n",
       "      <td>0</td>\n",
       "      <td>0</td>\n",
       "      <td>0</td>\n",
       "      <td>0</td>\n",
       "      <td>0</td>\n",
       "      <td>0</td>\n",
       "      <td>0</td>\n",
       "      <td>0</td>\n",
       "      <td>0</td>\n",
       "    </tr>\n",
       "  </tbody>\n",
       "</table>\n",
       "<p>5 rows × 275 columns</p>\n",
       "</div>"
      ],
      "text/plain": [
       "                                      Name of School         Street Address  \\\n",
       "0              John Spry Elementary Community School  2400 S Marshall Blvd    \n",
       "1  Thomas A Edison Regional Gifted Center Element...     4929 N Sawyer Ave    \n",
       "2  Milton Brunson Math & Science Specialty Elemen...     932 N Central Ave    \n",
       "3             Emil G Hirsch Metropolitan High School  7740 S Ingleside Ave    \n",
       "4              Lawndale Elementary Community Academy   3500 W Douglas Blvd    \n",
       "\n",
       "                                               Link   \\\n",
       "0  http://schoolreports.cps.edu/SchoolProgressRep...   \n",
       "1  http://schoolreports.cps.edu/SchoolProgressRep...   \n",
       "2  http://schoolreports.cps.edu/SchoolProgressRep...   \n",
       "3  http://schoolreports.cps.edu/SchoolProgressRep...   \n",
       "4  http://schoolreports.cps.edu/SchoolProgressRep...   \n",
       "\n",
       "   Healthy Schools Certified?  Safety Score  Family Involvement Score  \\\n",
       "0                           0          66.0                        59   \n",
       "1                           0          91.0                        50   \n",
       "2                           0          30.0                        50   \n",
       "3                           0          13.0                        46   \n",
       "4                           0          49.0                        50   \n",
       "\n",
       "   Environment Score  Instruction Score  Leaders Score   Teachers Score  \\\n",
       "0               70.0               67.0              52              43   \n",
       "1               64.0               56.0              49              48   \n",
       "2               30.0               45.0              49              48   \n",
       "3               28.0               28.0              52              50   \n",
       "4               47.0               48.0              49              48   \n",
       "\n",
       "     ...      Police_14  Police_15  Police_16  Police_17  Police_18  \\\n",
       "0    ...              0          0          0          0          0   \n",
       "1    ...              0          0          0          1          0   \n",
       "2    ...              0          1          0          0          0   \n",
       "3    ...              0          0          0          0          0   \n",
       "4    ...              0          0          0          0          0   \n",
       "\n",
       "   Police_19  Police_20  Police_22  Police_24  Police_25  \n",
       "0          0          0          0          0          0  \n",
       "1          0          0          0          0          0  \n",
       "2          0          0          0          0          0  \n",
       "3          0          0          0          0          0  \n",
       "4          0          0          0          0          0  \n",
       "\n",
       "[5 rows x 275 columns]"
      ]
     },
     "execution_count": 417,
     "metadata": {},
     "output_type": "execute_result"
    }
   ],
   "source": [
    "df.head()"
   ]
  },
  {
   "cell_type": "code",
   "execution_count": 419,
   "metadata": {
    "collapsed": true
   },
   "outputs": [],
   "source": [
    "df1 = df\n",
    "#create another dataframe for dropping name, address, link (might try making features for them later)"
   ]
  },
  {
   "cell_type": "code",
   "execution_count": 420,
   "metadata": {
    "collapsed": true
   },
   "outputs": [],
   "source": [
    "y = df['probation'].values"
   ]
  },
  {
   "cell_type": "code",
   "execution_count": 422,
   "metadata": {
    "collapsed": true
   },
   "outputs": [],
   "source": [
    "X = df1.drop(['Name of School','Street Address','Link '], axis = 1)"
   ]
  },
  {
   "cell_type": "code",
   "execution_count": 423,
   "metadata": {
    "collapsed": false
   },
   "outputs": [
    {
     "data": {
      "text/html": [
       "<div>\n",
       "<table border=\"1\" class=\"dataframe\">\n",
       "  <thead>\n",
       "    <tr style=\"text-align: right;\">\n",
       "      <th></th>\n",
       "      <th>Healthy Schools Certified?</th>\n",
       "      <th>Safety Score</th>\n",
       "      <th>Family Involvement Score</th>\n",
       "      <th>Environment Score</th>\n",
       "      <th>Instruction Score</th>\n",
       "      <th>Leaders Score</th>\n",
       "      <th>Teachers Score</th>\n",
       "      <th>Parent Engagement Score</th>\n",
       "      <th>Parent Environment Score</th>\n",
       "      <th>Average Student Attendance</th>\n",
       "      <th>...</th>\n",
       "      <th>Police_14</th>\n",
       "      <th>Police_15</th>\n",
       "      <th>Police_16</th>\n",
       "      <th>Police_17</th>\n",
       "      <th>Police_18</th>\n",
       "      <th>Police_19</th>\n",
       "      <th>Police_20</th>\n",
       "      <th>Police_22</th>\n",
       "      <th>Police_24</th>\n",
       "      <th>Police_25</th>\n",
       "    </tr>\n",
       "  </thead>\n",
       "  <tbody>\n",
       "    <tr>\n",
       "      <th>0</th>\n",
       "      <td>0</td>\n",
       "      <td>66.0</td>\n",
       "      <td>59</td>\n",
       "      <td>70.0</td>\n",
       "      <td>67.0</td>\n",
       "      <td>52</td>\n",
       "      <td>43</td>\n",
       "      <td>46</td>\n",
       "      <td>48</td>\n",
       "      <td>96.2</td>\n",
       "      <td>...</td>\n",
       "      <td>0</td>\n",
       "      <td>0</td>\n",
       "      <td>0</td>\n",
       "      <td>0</td>\n",
       "      <td>0</td>\n",
       "      <td>0</td>\n",
       "      <td>0</td>\n",
       "      <td>0</td>\n",
       "      <td>0</td>\n",
       "      <td>0</td>\n",
       "    </tr>\n",
       "    <tr>\n",
       "      <th>1</th>\n",
       "      <td>0</td>\n",
       "      <td>91.0</td>\n",
       "      <td>50</td>\n",
       "      <td>64.0</td>\n",
       "      <td>56.0</td>\n",
       "      <td>49</td>\n",
       "      <td>48</td>\n",
       "      <td>55</td>\n",
       "      <td>57</td>\n",
       "      <td>96.6</td>\n",
       "      <td>...</td>\n",
       "      <td>0</td>\n",
       "      <td>0</td>\n",
       "      <td>0</td>\n",
       "      <td>1</td>\n",
       "      <td>0</td>\n",
       "      <td>0</td>\n",
       "      <td>0</td>\n",
       "      <td>0</td>\n",
       "      <td>0</td>\n",
       "      <td>0</td>\n",
       "    </tr>\n",
       "    <tr>\n",
       "      <th>2</th>\n",
       "      <td>0</td>\n",
       "      <td>30.0</td>\n",
       "      <td>50</td>\n",
       "      <td>30.0</td>\n",
       "      <td>45.0</td>\n",
       "      <td>49</td>\n",
       "      <td>48</td>\n",
       "      <td>47</td>\n",
       "      <td>55</td>\n",
       "      <td>91.3</td>\n",
       "      <td>...</td>\n",
       "      <td>0</td>\n",
       "      <td>1</td>\n",
       "      <td>0</td>\n",
       "      <td>0</td>\n",
       "      <td>0</td>\n",
       "      <td>0</td>\n",
       "      <td>0</td>\n",
       "      <td>0</td>\n",
       "      <td>0</td>\n",
       "      <td>0</td>\n",
       "    </tr>\n",
       "    <tr>\n",
       "      <th>3</th>\n",
       "      <td>0</td>\n",
       "      <td>13.0</td>\n",
       "      <td>46</td>\n",
       "      <td>28.0</td>\n",
       "      <td>28.0</td>\n",
       "      <td>52</td>\n",
       "      <td>50</td>\n",
       "      <td>50</td>\n",
       "      <td>50</td>\n",
       "      <td>84.8</td>\n",
       "      <td>...</td>\n",
       "      <td>0</td>\n",
       "      <td>0</td>\n",
       "      <td>0</td>\n",
       "      <td>0</td>\n",
       "      <td>0</td>\n",
       "      <td>0</td>\n",
       "      <td>0</td>\n",
       "      <td>0</td>\n",
       "      <td>0</td>\n",
       "      <td>0</td>\n",
       "    </tr>\n",
       "    <tr>\n",
       "      <th>4</th>\n",
       "      <td>0</td>\n",
       "      <td>49.0</td>\n",
       "      <td>50</td>\n",
       "      <td>47.0</td>\n",
       "      <td>48.0</td>\n",
       "      <td>49</td>\n",
       "      <td>48</td>\n",
       "      <td>50</td>\n",
       "      <td>50</td>\n",
       "      <td>91.0</td>\n",
       "      <td>...</td>\n",
       "      <td>0</td>\n",
       "      <td>0</td>\n",
       "      <td>0</td>\n",
       "      <td>0</td>\n",
       "      <td>0</td>\n",
       "      <td>0</td>\n",
       "      <td>0</td>\n",
       "      <td>0</td>\n",
       "      <td>0</td>\n",
       "      <td>0</td>\n",
       "    </tr>\n",
       "  </tbody>\n",
       "</table>\n",
       "<p>5 rows × 272 columns</p>\n",
       "</div>"
      ],
      "text/plain": [
       "   Healthy Schools Certified?  Safety Score  Family Involvement Score  \\\n",
       "0                           0          66.0                        59   \n",
       "1                           0          91.0                        50   \n",
       "2                           0          30.0                        50   \n",
       "3                           0          13.0                        46   \n",
       "4                           0          49.0                        50   \n",
       "\n",
       "   Environment Score  Instruction Score  Leaders Score   Teachers Score  \\\n",
       "0               70.0               67.0              52              43   \n",
       "1               64.0               56.0              49              48   \n",
       "2               30.0               45.0              49              48   \n",
       "3               28.0               28.0              52              50   \n",
       "4               47.0               48.0              49              48   \n",
       "\n",
       "   Parent Engagement Score  Parent Environment Score  \\\n",
       "0                       46                        48   \n",
       "1                       55                        57   \n",
       "2                       47                        55   \n",
       "3                       50                        50   \n",
       "4                       50                        50   \n",
       "\n",
       "   Average Student Attendance    ...      Police_14  Police_15  Police_16  \\\n",
       "0                        96.2    ...              0          0          0   \n",
       "1                        96.6    ...              0          0          0   \n",
       "2                        91.3    ...              0          1          0   \n",
       "3                        84.8    ...              0          0          0   \n",
       "4                        91.0    ...              0          0          0   \n",
       "\n",
       "   Police_17  Police_18  Police_19  Police_20  Police_22  Police_24  Police_25  \n",
       "0          0          0          0          0          0          0          0  \n",
       "1          1          0          0          0          0          0          0  \n",
       "2          0          0          0          0          0          0          0  \n",
       "3          0          0          0          0          0          0          0  \n",
       "4          0          0          0          0          0          0          0  \n",
       "\n",
       "[5 rows x 272 columns]"
      ]
     },
     "execution_count": 423,
     "metadata": {},
     "output_type": "execute_result"
    }
   ],
   "source": [
    "X.head()\n",
    "#df with all the available features"
   ]
  },
  {
   "cell_type": "code",
   "execution_count": 424,
   "metadata": {
    "collapsed": true
   },
   "outputs": [],
   "source": [
    "X.to_csv('p5classification.csv')\n",
    "#create clean CSV for modelling notebook (not sure if this is the correct workflow method in making pipelines)"
   ]
  },
  {
   "cell_type": "code",
   "execution_count": 426,
   "metadata": {
    "collapsed": false
   },
   "outputs": [],
   "source": [
    "yexport = pd.DataFrame(y)"
   ]
  },
  {
   "cell_type": "code",
   "execution_count": 428,
   "metadata": {
    "collapsed": false
   },
   "outputs": [],
   "source": [
    "yexport.to_csv('p5cloutput.csv')\n",
    "#export target for modelling notebook"
   ]
  },
  {
   "cell_type": "code",
   "execution_count": 44,
   "metadata": {
    "collapsed": false
   },
   "outputs": [
    {
     "name": "stdout",
     "output_type": "stream",
     "text": [
      "Name of School\n",
      "Street Address\n",
      "Link \n",
      "Healthy Schools Certified?\n",
      "Safety Icon \n",
      "Safety Score\n",
      "Family Involvement Icon\n",
      "Family Involvement Score\n",
      "Environment Icon \n",
      "Environment Score\n",
      "Instruction Icon \n",
      "Instruction Score\n",
      "Leaders Icon \n",
      "Leaders Score \n",
      "Teachers Icon \n",
      "Teachers Score\n",
      "Parent Engagement Icon \n",
      "Parent Engagement Score\n",
      "Parent Environment Icon\n",
      "Parent Environment Score\n",
      "Average Student Attendance\n",
      "Rate of Misconducts (per 100 students) \n",
      "Average Teacher Attendance\n",
      "Individualized Education Program Compliance Rate \n",
      "Pk-2 Literacy %\n",
      "Pk-2 Math %\n",
      "Gr3-5 Grade Level Math %\n",
      "Gr3-5 Grade Level Read % \n",
      "Gr3-5 Keep Pace Read %\n",
      "Gr3-5 Keep Pace Math %\n",
      "Gr6-8 Grade Level Math %\n",
      "Gr6-8 Grade Level Read %\n",
      "Gr6-8 Keep Pace Math%\n",
      "Gr6-8 Keep Pace Read %\n",
      "Gr-8 Explore Math %\n",
      "Gr-8 Explore Read %\n",
      "ISAT Exceeding Math %\n",
      "ISAT Exceeding Reading % \n",
      "ISAT Value Add Math\n",
      "ISAT Value Add Read\n",
      "ISAT Value Add Color Math\n",
      "ISAT Value Add Color Read\n",
      "Students Taking  Algebra %\n",
      "Students Passing  Algebra %\n",
      "9th Grade EXPLORE (2009) \n",
      "9th Grade EXPLORE (2010) \n",
      "10th Grade PLAN (2009) \n",
      "10th Grade PLAN (2010) \n",
      "Net Change EXPLORE and PLAN\n",
      "11th Grade Average ACT (2011) \n",
      "Net Change PLAN and ACT\n",
      "College Eligibility %\n",
      "Graduation Rate %\n",
      "College Enrollment Rate %\n",
      "College Enrollment (number of students) \n",
      "General Services Route \n",
      "Freshman on Track Rate %\n",
      "Community Area Number\n",
      "Community Area Name\n",
      "Ward\n",
      "Police District\n",
      "probation\n",
      "Id\n",
      "EMS_HS\n",
      "EMS_MS\n",
      "ZIP_60607\n",
      "ZIP_60608\n",
      "ZIP_60609\n",
      "ZIP_60610\n",
      "ZIP_60612\n",
      "ZIP_60613\n",
      "ZIP_60614\n",
      "ZIP_60615\n",
      "ZIP_60616\n",
      "ZIP_60617\n",
      "ZIP_60618\n",
      "ZIP_60619\n",
      "ZIP_60620\n",
      "ZIP_60621\n",
      "ZIP_60622\n",
      "ZIP_60623\n",
      "ZIP_60624\n",
      "ZIP_60625\n",
      "ZIP_60626\n",
      "ZIP_60628\n",
      "ZIP_60629\n",
      "ZIP_60630\n",
      "ZIP_60631\n",
      "ZIP_60632\n",
      "ZIP_60633\n",
      "ZIP_60634\n",
      "ZIP_60636\n",
      "ZIP_60637\n",
      "ZIP_60638\n",
      "ZIP_60639\n",
      "ZIP_60640\n",
      "ZIP_60641\n",
      "ZIP_60643\n",
      "ZIP_60644\n",
      "ZIP_60645\n",
      "ZIP_60646\n",
      "ZIP_60647\n",
      "ZIP_60649\n",
      "ZIP_60651\n",
      "ZIP_60652\n",
      "ZIP_60653\n",
      "ZIP_60655\n",
      "ZIP_60656\n",
      "ZIP_60657\n",
      "ZIP_60659\n",
      "ZIP_60660\n",
      "ZIP_60707\n",
      "ZIP_60827\n"
     ]
    }
   ],
   "source": [
    "for col in df.columns:\n",
    "    print col\n",
    "#for easier reference"
   ]
  },
  {
   "cell_type": "markdown",
   "metadata": {},
   "source": [
    "Notes on treatment of each column\n",
    "--"
   ]
  },
  {
   "cell_type": "markdown",
   "metadata": {},
   "source": [
    "Notes:\n",
    "Name of School - try to get keywords?\n",
    "EMS - get dummies\n",
    "Street Address - keywords?\n",
    "ZIP - dummies\n",
    "Link - keywords?\n",
    "Healthy Schools Certified - get dummies\n",
    "Safety Icon - get dummies\n",
    "Safety Score - use, fill na\n",
    "Family Involvement Icon - get dummies\n",
    "Family Involvement Score - use, fill na\n",
    "Environment Icon - get dummies\n",
    "Environment Score - use, fill na\n",
    "Instruction Icon - get dummies\n",
    "Instruction Score - use, fill na\n",
    "Leaders Icon - get dummies\n",
    "Leaders Score - use, fill na\n",
    "Teachers Icon - get dummies\n",
    "Teachers Score - use, fill na\n",
    "Parent Engagement Icon - get dummies\n",
    "Parent Engagement Score - use, fill na\n",
    "Parent Environment Icon - get dummies\n",
    "Parent Environment Score - use, fill na\n",
    "Average Student Attendance - use, has %\n",
    "Rate of Misconducts per 100 students - use, fill na\n",
    "Average Teacher Attendance - use, has %\n",
    "Individualized Education Program Compliance Rate - use, has %\n",
    "Pk-2 Literacy - use, has lot of NDA\n",
    "Pk-2 Math - use, has lot of NDA\n",
    "Gr3-5 Grade Level Math - use, has lot of NDA\n",
    "Gr3-5 Grade Level Read - use, has lot of NDA\n",
    "Gr3-5 Keep Pace Read - use, has lot of NDA\n",
    "Gr3-5 Keep Pace Math - use, has lot of NDA\n",
    "Gr6-8 Grade Level Math % - use, has lot of NDA\n",
    "Gr6-8 Grade Level Read - use, has lot of NDA\n",
    "Gr6-8 Keep Pace Math - use, has lot of NDA\n",
    "Gr6-8 Keep Pace Read - use, has lot of NDA\n",
    "Gr-8 Explore Math - use, has lot of NDA\n",
    "Gr-8 Explore Read - use, has lot of NDA\n",
    "ISAT Exceeding Math - use, no NDA\n",
    "ISAT Exceeding Read - use, no NDA\n",
    "ISAT Add Value Math - use, no NDA\n",
    "ISAT Add Value Read - use, no NDA\n",
    "ISAT Add Value Color Math - get dummies\n",
    "ISAT Add Value Color Read - get dummies\n",
    "Students Taking  Algebra % - use, has lot of NDA\n",
    "Students Passing Algebra % - use, has lot of NDA\n",
    "9th Grade Explore (2009) - use, has lot of NDA\n",
    "9th Grade Explore (2010) - use, has lot of NDA\n",
    "10th Grade PLAN (2009) - use, has lot of NDA\n",
    "10th Grade PLAN (2010) - use, has lot of NDA\n",
    "Net Change EXPLORE and PLAN - use, has lot of NDA\n",
    "11th Grade Average ACT (2011) - use, has lot of NDA\n",
    "Net Change PLAN and ACT - use, has lot of NDA\n",
    "College Eligibility % - use, has lot of NDA, has %\n",
    "Graduation Rate - use, has lot of NDA\n",
    "College Enrollment Rate - use, has lot of NDA\n",
    "College Enrollment (number of students) - use\n",
    "General Services Route - use (asbestos surveillance???)\n",
    "Freshman on Track Rate % - use, lot of NDA\n",
    "Community Area Name - create dummies\n",
    "Ward - create dummies\n",
    "Police - District - create dummies\n",
    "probation - TARGET\n",
    "\n"
   ]
  },
  {
   "cell_type": "markdown",
   "metadata": {},
   "source": [
    "Notes from Friday\n",
    "\n",
    "Model Generation:\n",
    "Question\n",
    "Data Acquisition (CSV, database, scrape)\n",
    "Data Exploration (Types, columns, shape, data generation process, missing data)\n",
    "Operationalize Y\n",
    "Modeling (Model type, Iteration (Feature Selection: KBest, Intuition, correlation, RFE, Regularization, Experiment),\n",
    "Transformation)\n",
    "Goodness of Fit - Regression(R^2, MSE, plot predict versus actual), no overfitting (always cross validate)\n",
    "- Classification (confusion matrix, Classification Report, mean accuracy)\n",
    "Linear regression\n",
    "knn, logistic\n",
    "Hyperparameters\n",
    "\n",
    "Pipeline:\n",
    "Raw Data\n",
    "Data Transformer(pandas, functions, skpipeline)\n",
    "Model\n",
    "Predictions\n"
   ]
  }
 ],
 "metadata": {
  "kernelspec": {
   "display_name": "Python 2",
   "language": "python",
   "name": "python2"
  },
  "language_info": {
   "codemirror_mode": {
    "name": "ipython",
    "version": 2
   },
   "file_extension": ".py",
   "mimetype": "text/x-python",
   "name": "python",
   "nbconvert_exporter": "python",
   "pygments_lexer": "ipython2",
   "version": "2.7.13"
  }
 },
 "nbformat": 4,
 "nbformat_minor": 2
}
