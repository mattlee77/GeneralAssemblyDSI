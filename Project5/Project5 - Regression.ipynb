{
 "cells": [
  {
   "cell_type": "code",
   "execution_count": 648,
   "metadata": {
    "collapsed": false
   },
   "outputs": [],
   "source": [
    "import pandas as pd\n",
    "import numpy as np\n",
    "import matplotlib.pyplot as plt\n",
    "import seaborn as sns\n",
    "from sklearn.linear_model import LinearRegression, Ridge, Lasso\n",
    "from sklearn.feature_selection import SelectKBest, RFE\n",
    "from sklearn.model_selection import GridSearchCV, cross_val_score\n",
    "from sklearn.preprocessing import FunctionTransformer,Binarizer, Imputer, LabelBinarizer, StandardScaler\n",
    "from sklearn.pipeline import Pipeline\n",
    "from sklearn.pipeline import make_pipeline, make_union, FeatureUnion\n",
    "from sklearn import metrics\n",
    "%matplotlib inline"
   ]
  },
  {
   "cell_type": "code",
   "execution_count": 29,
   "metadata": {
    "collapsed": false
   },
   "outputs": [
    {
     "data": {
      "text/html": [
       "<div>\n",
       "<table border=\"1\" class=\"dataframe\">\n",
       "  <thead>\n",
       "    <tr style=\"text-align: right;\">\n",
       "      <th></th>\n",
       "      <th>INSTNM</th>\n",
       "      <th>CITY</th>\n",
       "      <th>STABBR</th>\n",
       "      <th>ZIP</th>\n",
       "      <th>ACCREDAGENCY</th>\n",
       "      <th>MAIN</th>\n",
       "      <th>NUMBRANCH</th>\n",
       "      <th>PREDDEG</th>\n",
       "      <th>HIGHDEG</th>\n",
       "      <th>CONTROL</th>\n",
       "      <th>...</th>\n",
       "      <th>RELAFFIL</th>\n",
       "      <th>DISTANCEONLY</th>\n",
       "      <th>UGDS</th>\n",
       "      <th>AGE_ENTRY</th>\n",
       "      <th>FEMALE</th>\n",
       "      <th>MARRIED</th>\n",
       "      <th>DEPENDENT</th>\n",
       "      <th>MD_FAMINC</th>\n",
       "      <th>percent_on_student_loan</th>\n",
       "      <th>id_number</th>\n",
       "    </tr>\n",
       "  </thead>\n",
       "  <tbody>\n",
       "    <tr>\n",
       "      <th>0</th>\n",
       "      <td>Panola College</td>\n",
       "      <td>Carthage</td>\n",
       "      <td>TX</td>\n",
       "      <td>75633-2397</td>\n",
       "      <td>Southern Association of Colleges and Schools C...</td>\n",
       "      <td>1</td>\n",
       "      <td>1</td>\n",
       "      <td>1</td>\n",
       "      <td>2</td>\n",
       "      <td>1</td>\n",
       "      <td>...</td>\n",
       "      <td>-2.0</td>\n",
       "      <td>0.0</td>\n",
       "      <td>2056.0</td>\n",
       "      <td>25.927665</td>\n",
       "      <td>0.706853</td>\n",
       "      <td>0.176396</td>\n",
       "      <td>0.479061</td>\n",
       "      <td>19588.54338</td>\n",
       "      <td>26.05</td>\n",
       "      <td>3756</td>\n",
       "    </tr>\n",
       "    <tr>\n",
       "      <th>1</th>\n",
       "      <td>Palo Alto University</td>\n",
       "      <td>Palo Alto</td>\n",
       "      <td>CA</td>\n",
       "      <td>94304-1337</td>\n",
       "      <td>Western Association of Schools and Colleges Se...</td>\n",
       "      <td>1</td>\n",
       "      <td>1</td>\n",
       "      <td>3</td>\n",
       "      <td>4</td>\n",
       "      <td>2</td>\n",
       "      <td>...</td>\n",
       "      <td>-2.0</td>\n",
       "      <td>0.0</td>\n",
       "      <td>194.0</td>\n",
       "      <td>29.712871</td>\n",
       "      <td>0.732673</td>\n",
       "      <td>0.188119</td>\n",
       "      <td>0.306931</td>\n",
       "      <td>18157.66968</td>\n",
       "      <td>68.23</td>\n",
       "      <td>449</td>\n",
       "    </tr>\n",
       "    <tr>\n",
       "      <th>2</th>\n",
       "      <td>Quincy University</td>\n",
       "      <td>Quincy</td>\n",
       "      <td>IL</td>\n",
       "      <td>62301-2699</td>\n",
       "      <td>North Central Association of Colleges and Scho...</td>\n",
       "      <td>1</td>\n",
       "      <td>1</td>\n",
       "      <td>3</td>\n",
       "      <td>4</td>\n",
       "      <td>2</td>\n",
       "      <td>...</td>\n",
       "      <td>30.0</td>\n",
       "      <td>0.0</td>\n",
       "      <td>1075.0</td>\n",
       "      <td>21.532362</td>\n",
       "      <td>0.543689</td>\n",
       "      <td>0.061489</td>\n",
       "      <td>0.826861</td>\n",
       "      <td>50437.83939</td>\n",
       "      <td>70.23</td>\n",
       "      <td>1121</td>\n",
       "    </tr>\n",
       "    <tr>\n",
       "      <th>3</th>\n",
       "      <td>Fortis College-Orange Park</td>\n",
       "      <td>Orange Park</td>\n",
       "      <td>FL</td>\n",
       "      <td>32065</td>\n",
       "      <td>Accrediting Council for Independent Colleges a...</td>\n",
       "      <td>1</td>\n",
       "      <td>2</td>\n",
       "      <td>1</td>\n",
       "      <td>2</td>\n",
       "      <td>3</td>\n",
       "      <td>...</td>\n",
       "      <td>-2.0</td>\n",
       "      <td>0.0</td>\n",
       "      <td>312.0</td>\n",
       "      <td>29.542683</td>\n",
       "      <td>0.847561</td>\n",
       "      <td>0.288618</td>\n",
       "      <td>0.256098</td>\n",
       "      <td>15967.10174</td>\n",
       "      <td>69.55</td>\n",
       "      <td>5343</td>\n",
       "    </tr>\n",
       "    <tr>\n",
       "      <th>4</th>\n",
       "      <td>Southwestern Assemblies of God University</td>\n",
       "      <td>Waxahachie</td>\n",
       "      <td>TX</td>\n",
       "      <td>75165</td>\n",
       "      <td>Southern Association of Colleges and Schools C...</td>\n",
       "      <td>1</td>\n",
       "      <td>1</td>\n",
       "      <td>3</td>\n",
       "      <td>4</td>\n",
       "      <td>2</td>\n",
       "      <td>...</td>\n",
       "      <td>27.0</td>\n",
       "      <td>0.0</td>\n",
       "      <td>1656.0</td>\n",
       "      <td>22.794651</td>\n",
       "      <td>0.475645</td>\n",
       "      <td>0.120344</td>\n",
       "      <td>0.763133</td>\n",
       "      <td>41197.69899</td>\n",
       "      <td>74.29</td>\n",
       "      <td>3782</td>\n",
       "    </tr>\n",
       "  </tbody>\n",
       "</table>\n",
       "<p>5 rows × 27 columns</p>\n",
       "</div>"
      ],
      "text/plain": [
       "                                      INSTNM         CITY STABBR         ZIP  \\\n",
       "0                             Panola College     Carthage     TX  75633-2397   \n",
       "1                       Palo Alto University    Palo Alto     CA  94304-1337   \n",
       "2                          Quincy University       Quincy     IL  62301-2699   \n",
       "3                 Fortis College-Orange Park  Orange Park     FL       32065   \n",
       "4  Southwestern Assemblies of God University   Waxahachie     TX       75165   \n",
       "\n",
       "                                        ACCREDAGENCY  MAIN  NUMBRANCH  \\\n",
       "0  Southern Association of Colleges and Schools C...     1          1   \n",
       "1  Western Association of Schools and Colleges Se...     1          1   \n",
       "2  North Central Association of Colleges and Scho...     1          1   \n",
       "3  Accrediting Council for Independent Colleges a...     1          2   \n",
       "4  Southern Association of Colleges and Schools C...     1          1   \n",
       "\n",
       "   PREDDEG  HIGHDEG  CONTROL    ...      RELAFFIL  DISTANCEONLY    UGDS  \\\n",
       "0        1        2        1    ...          -2.0           0.0  2056.0   \n",
       "1        3        4        2    ...          -2.0           0.0   194.0   \n",
       "2        3        4        2    ...          30.0           0.0  1075.0   \n",
       "3        1        2        3    ...          -2.0           0.0   312.0   \n",
       "4        3        4        2    ...          27.0           0.0  1656.0   \n",
       "\n",
       "   AGE_ENTRY    FEMALE   MARRIED  DEPENDENT    MD_FAMINC  \\\n",
       "0  25.927665  0.706853  0.176396   0.479061  19588.54338   \n",
       "1  29.712871  0.732673  0.188119   0.306931  18157.66968   \n",
       "2  21.532362  0.543689  0.061489   0.826861  50437.83939   \n",
       "3  29.542683  0.847561  0.288618   0.256098  15967.10174   \n",
       "4  22.794651  0.475645  0.120344   0.763133  41197.69899   \n",
       "\n",
       "   percent_on_student_loan  id_number  \n",
       "0                    26.05       3756  \n",
       "1                    68.23        449  \n",
       "2                    70.23       1121  \n",
       "3                    69.55       5343  \n",
       "4                    74.29       3782  \n",
       "\n",
       "[5 rows x 27 columns]"
      ]
     },
     "execution_count": 29,
     "metadata": {},
     "output_type": "execute_result"
    }
   ],
   "source": [
    "df = pd.read_csv('university_train.csv')\n",
    "df.head()"
   ]
  },
  {
   "cell_type": "code",
   "execution_count": 6,
   "metadata": {
    "collapsed": false
   },
   "outputs": [
    {
     "data": {
      "text/plain": [
       "INSTNM                      object\n",
       "CITY                        object\n",
       "STABBR                      object\n",
       "ZIP                         object\n",
       "ACCREDAGENCY                object\n",
       "MAIN                         int64\n",
       "NUMBRANCH                    int64\n",
       "PREDDEG                      int64\n",
       "HIGHDEG                      int64\n",
       "CONTROL                      int64\n",
       "LOCALE                     float64\n",
       "CCUGPROF                   float64\n",
       "CCSIZSET                   float64\n",
       "HBCU                       float64\n",
       "PBI                        float64\n",
       "MENONLY                    float64\n",
       "WOMENONLY                  float64\n",
       "RELAFFIL                   float64\n",
       "DISTANCEONLY               float64\n",
       "UGDS                       float64\n",
       "AGE_ENTRY                  float64\n",
       "FEMALE                     float64\n",
       "MARRIED                    float64\n",
       "DEPENDENT                  float64\n",
       "MD_FAMINC                  float64\n",
       "percent_on_student_loan    float64\n",
       "id_number                    int64\n",
       "dtype: object"
      ]
     },
     "execution_count": 6,
     "metadata": {},
     "output_type": "execute_result"
    }
   ],
   "source": [
    "df.dtypes"
   ]
  },
  {
   "cell_type": "code",
   "execution_count": 7,
   "metadata": {
    "collapsed": false
   },
   "outputs": [
    {
     "data": {
      "text/plain": [
       "(3211, 27)"
      ]
     },
     "execution_count": 7,
     "metadata": {},
     "output_type": "execute_result"
    }
   ],
   "source": [
    "df.shape"
   ]
  },
  {
   "cell_type": "code",
   "execution_count": 8,
   "metadata": {
    "collapsed": false
   },
   "outputs": [
    {
     "data": {
      "text/plain": [
       "INSTNM                     0\n",
       "CITY                       0\n",
       "STABBR                     0\n",
       "ZIP                        0\n",
       "ACCREDAGENCY               0\n",
       "MAIN                       0\n",
       "NUMBRANCH                  0\n",
       "PREDDEG                    0\n",
       "HIGHDEG                    0\n",
       "CONTROL                    0\n",
       "LOCALE                     0\n",
       "CCUGPROF                   0\n",
       "CCSIZSET                   0\n",
       "HBCU                       0\n",
       "PBI                        0\n",
       "MENONLY                    0\n",
       "WOMENONLY                  0\n",
       "RELAFFIL                   0\n",
       "DISTANCEONLY               0\n",
       "UGDS                       0\n",
       "AGE_ENTRY                  0\n",
       "FEMALE                     0\n",
       "MARRIED                    0\n",
       "DEPENDENT                  0\n",
       "MD_FAMINC                  0\n",
       "percent_on_student_loan    0\n",
       "id_number                  0\n",
       "dtype: int64"
      ]
     },
     "execution_count": 8,
     "metadata": {},
     "output_type": "execute_result"
    }
   ],
   "source": [
    "df.isnull().sum()"
   ]
  },
  {
   "cell_type": "code",
   "execution_count": 9,
   "metadata": {
    "collapsed": true
   },
   "outputs": [],
   "source": [
    "#Goal is to predict percent_on_student_loans\n",
    "#Need to create some dummy variables"
   ]
  },
  {
   "cell_type": "code",
   "execution_count": 10,
   "metadata": {
    "collapsed": false
   },
   "outputs": [
    {
     "data": {
      "text/plain": [
       "1    1336\n",
       "3    1075\n",
       "2     793\n",
       "0       7\n",
       "Name: PREDDEG, dtype: int64"
      ]
     },
     "execution_count": 10,
     "metadata": {},
     "output_type": "execute_result"
    }
   ],
   "source": [
    "df['PREDDEG'].value_counts()"
   ]
  },
  {
   "cell_type": "code",
   "execution_count": 30,
   "metadata": {
    "collapsed": true
   },
   "outputs": [],
   "source": [
    "df = pd.concat([df, pd.get_dummies(df['PREDDEG'], drop_first=True, prefix = 'PREDDEG')], axis = 1)"
   ]
  },
  {
   "cell_type": "code",
   "execution_count": 11,
   "metadata": {
    "collapsed": false
   },
   "outputs": [
    {
     "data": {
      "text/plain": [
       "4    949\n",
       "2    948\n",
       "1    930\n",
       "3    372\n",
       "0     12\n",
       "Name: HIGHDEG, dtype: int64"
      ]
     },
     "execution_count": 11,
     "metadata": {},
     "output_type": "execute_result"
    }
   ],
   "source": [
    "df['HIGHDEG'].value_counts()"
   ]
  },
  {
   "cell_type": "code",
   "execution_count": 32,
   "metadata": {
    "collapsed": true
   },
   "outputs": [],
   "source": [
    "df = pd.concat([df,pd.get_dummies(df['HIGHDEG'], drop_first=True, prefix = 'HIGHDEG')], axis = 1)"
   ]
  },
  {
   "cell_type": "code",
   "execution_count": 34,
   "metadata": {
    "collapsed": false
   },
   "outputs": [
    {
     "data": {
      "text/plain": [
       "3    1303\n",
       "1    1233\n",
       "2     675\n",
       "Name: CONTROL, dtype: int64"
      ]
     },
     "execution_count": 34,
     "metadata": {},
     "output_type": "execute_result"
    }
   ],
   "source": [
    "df['CONTROL'].value_counts()"
   ]
  },
  {
   "cell_type": "code",
   "execution_count": 35,
   "metadata": {
    "collapsed": true
   },
   "outputs": [],
   "source": [
    "df = pd.concat([df,pd.get_dummies(df['CONTROL'], drop_first=True, prefix = 'CONTROL')], axis = 1)"
   ]
  },
  {
   "cell_type": "code",
   "execution_count": 37,
   "metadata": {
    "collapsed": false
   },
   "outputs": [
    {
     "data": {
      "text/plain": [
       " 21.0    805\n",
       " 11.0    723\n",
       " 13.0    448\n",
       " 12.0    384\n",
       " 41.0    203\n",
       " 32.0    187\n",
       " 33.0    165\n",
       " 22.0     81\n",
       " 31.0     66\n",
       " 23.0     60\n",
       " 42.0     55\n",
       " 43.0     32\n",
       "-3.0       2\n",
       "Name: LOCALE, dtype: int64"
      ]
     },
     "execution_count": 37,
     "metadata": {},
     "output_type": "execute_result"
    }
   ],
   "source": [
    "df['LOCALE'].value_counts()"
   ]
  },
  {
   "cell_type": "code",
   "execution_count": 40,
   "metadata": {
    "collapsed": false
   },
   "outputs": [],
   "source": [
    "df = df.loc[df['LOCALE'] != -3.0]\n",
    "#-3 is not documented as any locale type, so we drop it"
   ]
  },
  {
   "cell_type": "code",
   "execution_count": 42,
   "metadata": {
    "collapsed": false
   },
   "outputs": [],
   "source": [
    "df = pd.concat([df,pd.get_dummies(df['LOCALE'], drop_first=True,prefix = 'LOCALE')], axis = 1)"
   ]
  },
  {
   "cell_type": "code",
   "execution_count": 64,
   "metadata": {
    "collapsed": false
   },
   "outputs": [
    {
     "data": {
      "text/html": [
       "<div>\n",
       "<table border=\"1\" class=\"dataframe\">\n",
       "  <thead>\n",
       "    <tr style=\"text-align: right;\">\n",
       "      <th></th>\n",
       "      <th>INSTNM</th>\n",
       "      <th>CITY</th>\n",
       "      <th>STABBR</th>\n",
       "      <th>ZIP</th>\n",
       "      <th>ACCREDAGENCY</th>\n",
       "      <th>MAIN</th>\n",
       "      <th>NUMBRANCH</th>\n",
       "      <th>PREDDEG</th>\n",
       "      <th>HIGHDEG</th>\n",
       "      <th>CONTROL</th>\n",
       "      <th>...</th>\n",
       "      <th>LOCALE_13.0</th>\n",
       "      <th>LOCALE_21.0</th>\n",
       "      <th>LOCALE_22.0</th>\n",
       "      <th>LOCALE_23.0</th>\n",
       "      <th>LOCALE_31.0</th>\n",
       "      <th>LOCALE_32.0</th>\n",
       "      <th>LOCALE_33.0</th>\n",
       "      <th>LOCALE_41.0</th>\n",
       "      <th>LOCALE_42.0</th>\n",
       "      <th>LOCALE_43.0</th>\n",
       "    </tr>\n",
       "  </thead>\n",
       "  <tbody>\n",
       "    <tr>\n",
       "      <th>0</th>\n",
       "      <td>Panola College</td>\n",
       "      <td>Carthage</td>\n",
       "      <td>TX</td>\n",
       "      <td>75633-2397</td>\n",
       "      <td>Southern Association of Colleges and Schools C...</td>\n",
       "      <td>1</td>\n",
       "      <td>1</td>\n",
       "      <td>1</td>\n",
       "      <td>2</td>\n",
       "      <td>1</td>\n",
       "      <td>...</td>\n",
       "      <td>0</td>\n",
       "      <td>0</td>\n",
       "      <td>0</td>\n",
       "      <td>0</td>\n",
       "      <td>0</td>\n",
       "      <td>1</td>\n",
       "      <td>0</td>\n",
       "      <td>0</td>\n",
       "      <td>0</td>\n",
       "      <td>0</td>\n",
       "    </tr>\n",
       "    <tr>\n",
       "      <th>1</th>\n",
       "      <td>Palo Alto University</td>\n",
       "      <td>Palo Alto</td>\n",
       "      <td>CA</td>\n",
       "      <td>94304-1337</td>\n",
       "      <td>Western Association of Schools and Colleges Se...</td>\n",
       "      <td>1</td>\n",
       "      <td>1</td>\n",
       "      <td>3</td>\n",
       "      <td>4</td>\n",
       "      <td>2</td>\n",
       "      <td>...</td>\n",
       "      <td>0</td>\n",
       "      <td>0</td>\n",
       "      <td>0</td>\n",
       "      <td>0</td>\n",
       "      <td>0</td>\n",
       "      <td>0</td>\n",
       "      <td>0</td>\n",
       "      <td>1</td>\n",
       "      <td>0</td>\n",
       "      <td>0</td>\n",
       "    </tr>\n",
       "    <tr>\n",
       "      <th>2</th>\n",
       "      <td>Quincy University</td>\n",
       "      <td>Quincy</td>\n",
       "      <td>IL</td>\n",
       "      <td>62301-2699</td>\n",
       "      <td>North Central Association of Colleges and Scho...</td>\n",
       "      <td>1</td>\n",
       "      <td>1</td>\n",
       "      <td>3</td>\n",
       "      <td>4</td>\n",
       "      <td>2</td>\n",
       "      <td>...</td>\n",
       "      <td>0</td>\n",
       "      <td>0</td>\n",
       "      <td>0</td>\n",
       "      <td>0</td>\n",
       "      <td>0</td>\n",
       "      <td>0</td>\n",
       "      <td>1</td>\n",
       "      <td>0</td>\n",
       "      <td>0</td>\n",
       "      <td>0</td>\n",
       "    </tr>\n",
       "    <tr>\n",
       "      <th>3</th>\n",
       "      <td>Fortis College-Orange Park</td>\n",
       "      <td>Orange Park</td>\n",
       "      <td>FL</td>\n",
       "      <td>32065</td>\n",
       "      <td>Accrediting Council for Independent Colleges a...</td>\n",
       "      <td>1</td>\n",
       "      <td>2</td>\n",
       "      <td>1</td>\n",
       "      <td>2</td>\n",
       "      <td>3</td>\n",
       "      <td>...</td>\n",
       "      <td>0</td>\n",
       "      <td>1</td>\n",
       "      <td>0</td>\n",
       "      <td>0</td>\n",
       "      <td>0</td>\n",
       "      <td>0</td>\n",
       "      <td>0</td>\n",
       "      <td>0</td>\n",
       "      <td>0</td>\n",
       "      <td>0</td>\n",
       "    </tr>\n",
       "    <tr>\n",
       "      <th>4</th>\n",
       "      <td>Southwestern Assemblies of God University</td>\n",
       "      <td>Waxahachie</td>\n",
       "      <td>TX</td>\n",
       "      <td>75165</td>\n",
       "      <td>Southern Association of Colleges and Schools C...</td>\n",
       "      <td>1</td>\n",
       "      <td>1</td>\n",
       "      <td>3</td>\n",
       "      <td>4</td>\n",
       "      <td>2</td>\n",
       "      <td>...</td>\n",
       "      <td>0</td>\n",
       "      <td>1</td>\n",
       "      <td>0</td>\n",
       "      <td>0</td>\n",
       "      <td>0</td>\n",
       "      <td>0</td>\n",
       "      <td>0</td>\n",
       "      <td>0</td>\n",
       "      <td>0</td>\n",
       "      <td>0</td>\n",
       "    </tr>\n",
       "  </tbody>\n",
       "</table>\n",
       "<p>5 rows × 47 columns</p>\n",
       "</div>"
      ],
      "text/plain": [
       "                                      INSTNM         CITY STABBR         ZIP  \\\n",
       "0                             Panola College     Carthage     TX  75633-2397   \n",
       "1                       Palo Alto University    Palo Alto     CA  94304-1337   \n",
       "2                          Quincy University       Quincy     IL  62301-2699   \n",
       "3                 Fortis College-Orange Park  Orange Park     FL       32065   \n",
       "4  Southwestern Assemblies of God University   Waxahachie     TX       75165   \n",
       "\n",
       "                                        ACCREDAGENCY  MAIN  NUMBRANCH  \\\n",
       "0  Southern Association of Colleges and Schools C...     1          1   \n",
       "1  Western Association of Schools and Colleges Se...     1          1   \n",
       "2  North Central Association of Colleges and Scho...     1          1   \n",
       "3  Accrediting Council for Independent Colleges a...     1          2   \n",
       "4  Southern Association of Colleges and Schools C...     1          1   \n",
       "\n",
       "   PREDDEG  HIGHDEG  CONTROL     ...       LOCALE_13.0  LOCALE_21.0  \\\n",
       "0        1        2        1     ...                 0            0   \n",
       "1        3        4        2     ...                 0            0   \n",
       "2        3        4        2     ...                 0            0   \n",
       "3        1        2        3     ...                 0            1   \n",
       "4        3        4        2     ...                 0            1   \n",
       "\n",
       "   LOCALE_22.0  LOCALE_23.0  LOCALE_31.0  LOCALE_32.0  LOCALE_33.0  \\\n",
       "0            0            0            0            1            0   \n",
       "1            0            0            0            0            0   \n",
       "2            0            0            0            0            1   \n",
       "3            0            0            0            0            0   \n",
       "4            0            0            0            0            0   \n",
       "\n",
       "   LOCALE_41.0  LOCALE_42.0  LOCALE_43.0  \n",
       "0            0            0            0  \n",
       "1            1            0            0  \n",
       "2            0            0            0  \n",
       "3            0            0            0  \n",
       "4            0            0            0  \n",
       "\n",
       "[5 rows x 47 columns]"
      ]
     },
     "execution_count": 64,
     "metadata": {},
     "output_type": "execute_result"
    }
   ],
   "source": [
    "df.head()"
   ]
  },
  {
   "cell_type": "code",
   "execution_count": 72,
   "metadata": {
    "collapsed": false
   },
   "outputs": [],
   "source": [
    "df.drop('LOCALE', axis = 1, inplace = True)"
   ]
  },
  {
   "cell_type": "code",
   "execution_count": 73,
   "metadata": {
    "collapsed": true
   },
   "outputs": [],
   "source": [
    "df.drop('CONTROL', axis = 1, inplace = True)"
   ]
  },
  {
   "cell_type": "code",
   "execution_count": 74,
   "metadata": {
    "collapsed": true
   },
   "outputs": [],
   "source": [
    "df.drop('HIGHDEG', axis = 1, inplace = True)"
   ]
  },
  {
   "cell_type": "code",
   "execution_count": 76,
   "metadata": {
    "collapsed": false
   },
   "outputs": [],
   "source": [
    "df.drop('PREDDEG', axis = 1, inplace = True)"
   ]
  },
  {
   "cell_type": "code",
   "execution_count": 95,
   "metadata": {
    "collapsed": true
   },
   "outputs": [],
   "source": [
    "df.drop('MENONLY', axis = 1, inplace = True)"
   ]
  },
  {
   "cell_type": "code",
   "execution_count": 48,
   "metadata": {
    "collapsed": false
   },
   "outputs": [
    {
     "data": {
      "text/plain": [
       "-2.0     945\n",
       " 1.0     336\n",
       " 11.0    278\n",
       " 5.0     250\n",
       " 2.0     249\n",
       " 13.0    211\n",
       " 4.0     179\n",
       " 7.0     169\n",
       " 3.0     143\n",
       " 10.0     90\n",
       " 9.0      90\n",
       " 14.0     90\n",
       " 15.0     77\n",
       " 12.0     58\n",
       " 6.0      38\n",
       " 8.0       4\n",
       " 0.0       2\n",
       "Name: CCUGPROF, dtype: int64"
      ]
     },
     "execution_count": 48,
     "metadata": {},
     "output_type": "execute_result"
    }
   ],
   "source": [
    "df['CCUGPROF'].value_counts()\n",
    "#questionable to include this, as 30% of the values is not -2.0 (not applicable)"
   ]
  },
  {
   "cell_type": "code",
   "execution_count": 49,
   "metadata": {
    "collapsed": false
   },
   "outputs": [
    {
     "data": {
      "text/plain": [
       "-2.0     945\n",
       " 6.0     346\n",
       " 2.0     270\n",
       " 1.0     251\n",
       " 3.0     225\n",
       " 9.0     143\n",
       " 12.0    132\n",
       " 11.0    119\n",
       " 10.0    118\n",
       " 13.0    112\n",
       " 4.0     110\n",
       " 15.0     93\n",
       " 16.0     90\n",
       " 14.0     72\n",
       " 7.0      57\n",
       " 8.0      55\n",
       " 5.0      51\n",
       " 17.0     20\n",
       "Name: CCSIZSET, dtype: int64"
      ]
     },
     "execution_count": 49,
     "metadata": {},
     "output_type": "execute_result"
    }
   ],
   "source": [
    "df['CCSIZSET'].value_counts()\n",
    "#same as above"
   ]
  },
  {
   "cell_type": "code",
   "execution_count": 51,
   "metadata": {
    "collapsed": false
   },
   "outputs": [
    {
     "data": {
      "text/plain": [
       "119.0    10\n",
       "131.0    10\n",
       "114.0     9\n",
       "109.0     9\n",
       "94.0      9\n",
       "Name: UGDS, dtype: int64"
      ]
     },
     "execution_count": 51,
     "metadata": {},
     "output_type": "execute_result"
    }
   ],
   "source": [
    "df['UGDS'].value_counts().head()"
   ]
  },
  {
   "cell_type": "code",
   "execution_count": 53,
   "metadata": {
    "collapsed": false
   },
   "outputs": [
    {
     "data": {
      "text/plain": [
       "28.480271    26\n",
       "31.763343    25\n",
       "29.129327    21\n",
       "29.893959    18\n",
       "29.343011    17\n",
       "Name: AGE_ENTRY, dtype: int64"
      ]
     },
     "execution_count": 53,
     "metadata": {},
     "output_type": "execute_result"
    }
   ],
   "source": [
    "df['AGE_ENTRY'].value_counts().head()"
   ]
  },
  {
   "cell_type": "code",
   "execution_count": 56,
   "metadata": {
    "collapsed": false
   },
   "outputs": [
    {
     "data": {
      "text/plain": [
       "0.695178    26\n",
       "0.697885    25\n",
       "0.773162    21\n",
       "0.609785    18\n",
       "0.785069    17\n",
       "Name: FEMALE, dtype: int64"
      ]
     },
     "execution_count": 56,
     "metadata": {},
     "output_type": "execute_result"
    }
   ],
   "source": [
    "df['FEMALE'].value_counts().head()"
   ]
  },
  {
   "cell_type": "code",
   "execution_count": 59,
   "metadata": {
    "collapsed": false
   },
   "outputs": [
    {
     "data": {
      "text/plain": [
       "0.173287    26\n",
       "0.294515    25\n",
       "0.180720    21\n",
       "0.197571    18\n",
       "0.170113    17\n",
       "Name: MARRIED, dtype: int64"
      ]
     },
     "execution_count": 59,
     "metadata": {},
     "output_type": "execute_result"
    }
   ],
   "source": [
    "df['MARRIED'].value_counts().head()"
   ]
  },
  {
   "cell_type": "code",
   "execution_count": 61,
   "metadata": {
    "collapsed": false
   },
   "outputs": [
    {
     "data": {
      "text/plain": [
       "0.295522    26\n",
       "0.087442    25\n",
       "0.246662    21\n",
       "0.284949    18\n",
       "0.243902    17\n",
       "Name: DEPENDENT, dtype: int64"
      ]
     },
     "execution_count": 61,
     "metadata": {},
     "output_type": "execute_result"
    }
   ],
   "source": [
    "df['DEPENDENT'].value_counts().head()"
   ]
  },
  {
   "cell_type": "code",
   "execution_count": 79,
   "metadata": {
    "collapsed": false
   },
   "outputs": [
    {
     "data": {
      "text/plain": [
       "0.00000        62\n",
       "14678.55989    26\n",
       "16789.83113    25\n",
       "13449.66401    21\n",
       "15149.50454    18\n",
       "Name: MD_FAMINC, dtype: int64"
      ]
     },
     "execution_count": 79,
     "metadata": {},
     "output_type": "execute_result"
    }
   ],
   "source": [
    "df['MD_FAMINC'].value_counts().head()"
   ]
  },
  {
   "cell_type": "code",
   "execution_count": 92,
   "metadata": {
    "collapsed": false
   },
   "outputs": [
    {
     "data": {
      "text/plain": [
       "47"
      ]
     },
     "execution_count": 92,
     "metadata": {},
     "output_type": "execute_result"
    }
   ],
   "source": [
    "df['RELAFFIL'].nunique()\n",
    "#Religious affiliation"
   ]
  },
  {
   "cell_type": "code",
   "execution_count": 569,
   "metadata": {
    "collapsed": false
   },
   "outputs": [
    {
     "data": {
      "text/plain": [
       "0.0    3157\n",
       "1.0      52\n",
       "Name: HBCU, dtype: int64"
      ]
     },
     "execution_count": 569,
     "metadata": {},
     "output_type": "execute_result"
    }
   ],
   "source": [
    "df['HBCU'].value_counts()"
   ]
  },
  {
   "cell_type": "code",
   "execution_count": 570,
   "metadata": {
    "collapsed": false
   },
   "outputs": [
    {
     "data": {
      "text/plain": [
       "0.0    3148\n",
       "1.0      61\n",
       "Name: PBI, dtype: int64"
      ]
     },
     "execution_count": 570,
     "metadata": {},
     "output_type": "execute_result"
    }
   ],
   "source": [
    "df['PBI'].value_counts()"
   ]
  },
  {
   "cell_type": "code",
   "execution_count": 78,
   "metadata": {
    "collapsed": false
   },
   "outputs": [
    {
     "data": {
      "text/plain": [
       "Index([u'INSTNM', u'CITY', u'STABBR', u'ZIP', u'ACCREDAGENCY', u'MAIN',\n",
       "       u'NUMBRANCH', u'CCUGPROF', u'CCSIZSET', u'HBCU', u'PBI', u'MENONLY',\n",
       "       u'WOMENONLY', u'RELAFFIL', u'DISTANCEONLY', u'UGDS', u'AGE_ENTRY',\n",
       "       u'FEMALE', u'MARRIED', u'DEPENDENT', u'MD_FAMINC',\n",
       "       u'percent_on_student_loan', u'id_number', u'PREDDEG_1', u'PREDDEG_2',\n",
       "       u'PREDDEG_3', u'HIGHDEG_1', u'HIGHDEG_2', u'HIGHDEG_3', u'HIGHDEG_4',\n",
       "       u'CONTROL_2', u'CONTROL_3', u'LOCALE_12.0', u'LOCALE_13.0',\n",
       "       u'LOCALE_21.0', u'LOCALE_22.0', u'LOCALE_23.0', u'LOCALE_31.0',\n",
       "       u'LOCALE_32.0', u'LOCALE_33.0', u'LOCALE_41.0', u'LOCALE_42.0',\n",
       "       u'LOCALE_43.0'],\n",
       "      dtype='object')"
      ]
     },
     "execution_count": 78,
     "metadata": {},
     "output_type": "execute_result"
    }
   ],
   "source": [
    "df.columns"
   ]
  },
  {
   "cell_type": "code",
   "execution_count": 96,
   "metadata": {
    "collapsed": true
   },
   "outputs": [],
   "source": [
    "features = ['MAIN','NUMBRANCH','HBCU','PBI','WOMENONLY','DISTANCEONLY','UGDS','AGE_ENTRY','FEMALE',\n",
    "           'MARRIED','DEPENDENT','MD_FAMINC','PREDDEG_1','PREDDEG_2','PREDDEG_3','HIGHDEG_1','HIGHDEG_2','HIGHDEG_3',\n",
    "            'HIGHDEG_4','CONTROL_2','CONTROL_3','LOCALE_12.0','LOCALE_13.0','LOCALE_21.0','LOCALE_22.0','LOCALE_23.0',\n",
    "            'LOCALE_31.0','LOCALE_32.0','LOCALE_33.0','LOCALE_41.0','LOCALE_42.0','LOCALE_43.0']"
   ]
  },
  {
   "cell_type": "code",
   "execution_count": 97,
   "metadata": {
    "collapsed": false
   },
   "outputs": [],
   "source": [
    "X = df[features]\n",
    "y = df['percent_on_student_loan'].values"
   ]
  },
  {
   "cell_type": "markdown",
   "metadata": {},
   "source": [
    "SelectKBest\n",
    "--"
   ]
  },
  {
   "cell_type": "code",
   "execution_count": 538,
   "metadata": {
    "collapsed": true
   },
   "outputs": [],
   "source": [
    "kbest = SelectKBest(k=32)"
   ]
  },
  {
   "cell_type": "code",
   "execution_count": 539,
   "metadata": {
    "collapsed": false
   },
   "outputs": [],
   "source": [
    "kbest_columns = kbest.fit_transform(X,y)"
   ]
  },
  {
   "cell_type": "code",
   "execution_count": 540,
   "metadata": {
    "collapsed": false
   },
   "outputs": [
    {
     "name": "stdout",
     "output_type": "stream",
     "text": [
      "(3209, 32)\n",
      "[ 1.20452391  1.14537717  0.98433551  0.67426532  0.83968381  5.36661529\n",
      "  2.2426503   1.23308538  1.02370241  0.93903746  1.38396973  1.58238101\n",
      "  1.2253044   1.32736705  1.74522891  0.93072866  1.2820728   1.31300388\n",
      "  1.74743733  1.2848572   1.31617637  1.13175023  1.02101426  1.02576809\n",
      "  0.93924093  1.13598842  0.97789625  0.84498721  0.93286152  0.75688296\n",
      "  0.42473854  0.31127276]\n",
      "[  8.99034129e-004   1.11660197e-002   6.10500037e-001   1.00000000e+000\n",
      "   9.98833256e-001   4.41274207e-132   7.85863201e-038   2.25205371e-004\n",
      "   3.48312687e-001   8.62615102e-001   3.52811460e-008   2.72435175e-014\n",
      "   3.31684849e-004   1.21425927e-006   7.61940124e-020   8.93611260e-001\n",
      "   1.67610405e-005   2.85160430e-006   6.37552240e-020   1.43471419e-005\n",
      "   2.36542275e-006   1.85545120e-002   3.65022863e-001   3.35701357e-001\n",
      "   8.61790075e-001   1.58925134e-002   6.52946395e-001   9.98323083e-001\n",
      "   8.86154150e-001   9.99999490e-001   1.00000000e+000   1.00000000e+000]\n"
     ]
    }
   ],
   "source": [
    "print kbest_columns.shape \n",
    "print kbest.scores_ \n",
    "print kbest.pvalues_ "
   ]
  },
  {
   "cell_type": "code",
   "execution_count": 541,
   "metadata": {
    "collapsed": false
   },
   "outputs": [
    {
     "name": "stdout",
     "output_type": "stream",
     "text": [
      "MAIN  :  1.20452391348\n",
      "NUMBRANCH  :  1.14537716547\n",
      "HBCU  :  0.984335510326\n",
      "PBI  :  0.674265316\n",
      "WOMENONLY  :  0.839683808861\n",
      "DISTANCEONLY  :  5.36661528808\n",
      "UGDS  :  2.24265030198\n",
      "AGE_ENTRY  :  1.23308538112\n",
      "FEMALE  :  1.02370241088\n",
      "MARRIED  :  0.939037459574\n",
      "DEPENDENT  :  1.38396973182\n",
      "MD_FAMINC  :  1.58238100622\n",
      "PREDDEG_1  :  1.22530439643\n",
      "PREDDEG_2  :  1.32736705227\n",
      "PREDDEG_3  :  1.74522890624\n",
      "HIGHDEG_1  :  0.930728657623\n",
      "HIGHDEG_2  :  1.28207280027\n",
      "HIGHDEG_3  :  1.31300387599\n",
      "HIGHDEG_4  :  1.74743732993\n",
      "CONTROL_2  :  1.28485720039\n",
      "CONTROL_3  :  1.31617637203\n",
      "LOCALE_12.0  :  1.13175023496\n",
      "LOCALE_13.0  :  1.02101425646\n",
      "LOCALE_21.0  :  1.02576808682\n",
      "LOCALE_22.0  :  0.939240934447\n",
      "LOCALE_23.0  :  1.13598841753\n",
      "LOCALE_31.0  :  0.977896252485\n",
      "LOCALE_32.0  :  0.844987211139\n",
      "LOCALE_33.0  :  0.932861518549\n",
      "LOCALE_41.0  :  0.7568829623\n",
      "LOCALE_42.0  :  0.424738540798\n",
      "LOCALE_43.0  :  0.3112727574\n"
     ]
    }
   ],
   "source": [
    "for col_name, score in zip(X.columns, kbest.scores_):\n",
    "    print col_name, ' : ', score\n",
    "#to see column and its KBest Score"
   ]
  },
  {
   "cell_type": "code",
   "execution_count": 542,
   "metadata": {
    "collapsed": true
   },
   "outputs": [],
   "source": [
    "mask = kbest.get_support() #list of booleans\n",
    "new_features = [] # The list of your K best features\n",
    "\n",
    "for bool, feature in zip(mask, features):\n",
    "    if bool:\n",
    "        new_features.append(feature)\n",
    "#to help create a new dataframe with KBest columns"
   ]
  },
  {
   "cell_type": "code",
   "execution_count": 543,
   "metadata": {
    "collapsed": false
   },
   "outputs": [
    {
     "data": {
      "text/html": [
       "<div>\n",
       "<table border=\"1\" class=\"dataframe\">\n",
       "  <thead>\n",
       "    <tr style=\"text-align: right;\">\n",
       "      <th></th>\n",
       "      <th>MAIN</th>\n",
       "      <th>NUMBRANCH</th>\n",
       "      <th>HBCU</th>\n",
       "      <th>PBI</th>\n",
       "      <th>WOMENONLY</th>\n",
       "      <th>DISTANCEONLY</th>\n",
       "      <th>UGDS</th>\n",
       "      <th>AGE_ENTRY</th>\n",
       "      <th>FEMALE</th>\n",
       "      <th>MARRIED</th>\n",
       "      <th>...</th>\n",
       "      <th>LOCALE_13.0</th>\n",
       "      <th>LOCALE_21.0</th>\n",
       "      <th>LOCALE_22.0</th>\n",
       "      <th>LOCALE_23.0</th>\n",
       "      <th>LOCALE_31.0</th>\n",
       "      <th>LOCALE_32.0</th>\n",
       "      <th>LOCALE_33.0</th>\n",
       "      <th>LOCALE_41.0</th>\n",
       "      <th>LOCALE_42.0</th>\n",
       "      <th>LOCALE_43.0</th>\n",
       "    </tr>\n",
       "  </thead>\n",
       "  <tbody>\n",
       "    <tr>\n",
       "      <th>0</th>\n",
       "      <td>1.0</td>\n",
       "      <td>1.0</td>\n",
       "      <td>0.0</td>\n",
       "      <td>0.0</td>\n",
       "      <td>0.0</td>\n",
       "      <td>0.0</td>\n",
       "      <td>2056.0</td>\n",
       "      <td>25.927665</td>\n",
       "      <td>0.706853</td>\n",
       "      <td>0.176396</td>\n",
       "      <td>...</td>\n",
       "      <td>0.0</td>\n",
       "      <td>0.0</td>\n",
       "      <td>0.0</td>\n",
       "      <td>0.0</td>\n",
       "      <td>0.0</td>\n",
       "      <td>1.0</td>\n",
       "      <td>0.0</td>\n",
       "      <td>0.0</td>\n",
       "      <td>0.0</td>\n",
       "      <td>0.0</td>\n",
       "    </tr>\n",
       "    <tr>\n",
       "      <th>1</th>\n",
       "      <td>1.0</td>\n",
       "      <td>1.0</td>\n",
       "      <td>0.0</td>\n",
       "      <td>0.0</td>\n",
       "      <td>0.0</td>\n",
       "      <td>0.0</td>\n",
       "      <td>194.0</td>\n",
       "      <td>29.712871</td>\n",
       "      <td>0.732673</td>\n",
       "      <td>0.188119</td>\n",
       "      <td>...</td>\n",
       "      <td>0.0</td>\n",
       "      <td>0.0</td>\n",
       "      <td>0.0</td>\n",
       "      <td>0.0</td>\n",
       "      <td>0.0</td>\n",
       "      <td>0.0</td>\n",
       "      <td>0.0</td>\n",
       "      <td>1.0</td>\n",
       "      <td>0.0</td>\n",
       "      <td>0.0</td>\n",
       "    </tr>\n",
       "    <tr>\n",
       "      <th>2</th>\n",
       "      <td>1.0</td>\n",
       "      <td>1.0</td>\n",
       "      <td>0.0</td>\n",
       "      <td>0.0</td>\n",
       "      <td>0.0</td>\n",
       "      <td>0.0</td>\n",
       "      <td>1075.0</td>\n",
       "      <td>21.532362</td>\n",
       "      <td>0.543689</td>\n",
       "      <td>0.061489</td>\n",
       "      <td>...</td>\n",
       "      <td>0.0</td>\n",
       "      <td>0.0</td>\n",
       "      <td>0.0</td>\n",
       "      <td>0.0</td>\n",
       "      <td>0.0</td>\n",
       "      <td>0.0</td>\n",
       "      <td>1.0</td>\n",
       "      <td>0.0</td>\n",
       "      <td>0.0</td>\n",
       "      <td>0.0</td>\n",
       "    </tr>\n",
       "    <tr>\n",
       "      <th>3</th>\n",
       "      <td>1.0</td>\n",
       "      <td>2.0</td>\n",
       "      <td>0.0</td>\n",
       "      <td>0.0</td>\n",
       "      <td>0.0</td>\n",
       "      <td>0.0</td>\n",
       "      <td>312.0</td>\n",
       "      <td>29.542683</td>\n",
       "      <td>0.847561</td>\n",
       "      <td>0.288618</td>\n",
       "      <td>...</td>\n",
       "      <td>0.0</td>\n",
       "      <td>1.0</td>\n",
       "      <td>0.0</td>\n",
       "      <td>0.0</td>\n",
       "      <td>0.0</td>\n",
       "      <td>0.0</td>\n",
       "      <td>0.0</td>\n",
       "      <td>0.0</td>\n",
       "      <td>0.0</td>\n",
       "      <td>0.0</td>\n",
       "    </tr>\n",
       "    <tr>\n",
       "      <th>4</th>\n",
       "      <td>1.0</td>\n",
       "      <td>1.0</td>\n",
       "      <td>0.0</td>\n",
       "      <td>0.0</td>\n",
       "      <td>0.0</td>\n",
       "      <td>0.0</td>\n",
       "      <td>1656.0</td>\n",
       "      <td>22.794651</td>\n",
       "      <td>0.475645</td>\n",
       "      <td>0.120344</td>\n",
       "      <td>...</td>\n",
       "      <td>0.0</td>\n",
       "      <td>1.0</td>\n",
       "      <td>0.0</td>\n",
       "      <td>0.0</td>\n",
       "      <td>0.0</td>\n",
       "      <td>0.0</td>\n",
       "      <td>0.0</td>\n",
       "      <td>0.0</td>\n",
       "      <td>0.0</td>\n",
       "      <td>0.0</td>\n",
       "    </tr>\n",
       "  </tbody>\n",
       "</table>\n",
       "<p>5 rows × 32 columns</p>\n",
       "</div>"
      ],
      "text/plain": [
       "   MAIN  NUMBRANCH  HBCU  PBI  WOMENONLY  DISTANCEONLY    UGDS  AGE_ENTRY  \\\n",
       "0   1.0        1.0   0.0  0.0        0.0           0.0  2056.0  25.927665   \n",
       "1   1.0        1.0   0.0  0.0        0.0           0.0   194.0  29.712871   \n",
       "2   1.0        1.0   0.0  0.0        0.0           0.0  1075.0  21.532362   \n",
       "3   1.0        2.0   0.0  0.0        0.0           0.0   312.0  29.542683   \n",
       "4   1.0        1.0   0.0  0.0        0.0           0.0  1656.0  22.794651   \n",
       "\n",
       "     FEMALE   MARRIED     ...       LOCALE_13.0  LOCALE_21.0  LOCALE_22.0  \\\n",
       "0  0.706853  0.176396     ...               0.0          0.0          0.0   \n",
       "1  0.732673  0.188119     ...               0.0          0.0          0.0   \n",
       "2  0.543689  0.061489     ...               0.0          0.0          0.0   \n",
       "3  0.847561  0.288618     ...               0.0          1.0          0.0   \n",
       "4  0.475645  0.120344     ...               0.0          1.0          0.0   \n",
       "\n",
       "   LOCALE_23.0  LOCALE_31.0  LOCALE_32.0  LOCALE_33.0  LOCALE_41.0  \\\n",
       "0          0.0          0.0          1.0          0.0          0.0   \n",
       "1          0.0          0.0          0.0          0.0          1.0   \n",
       "2          0.0          0.0          0.0          1.0          0.0   \n",
       "3          0.0          0.0          0.0          0.0          0.0   \n",
       "4          0.0          0.0          0.0          0.0          0.0   \n",
       "\n",
       "   LOCALE_42.0  LOCALE_43.0  \n",
       "0          0.0          0.0  \n",
       "1          0.0          0.0  \n",
       "2          0.0          0.0  \n",
       "3          0.0          0.0  \n",
       "4          0.0          0.0  \n",
       "\n",
       "[5 rows x 32 columns]"
      ]
     },
     "execution_count": 543,
     "metadata": {},
     "output_type": "execute_result"
    }
   ],
   "source": [
    "dfkbest = pd.DataFrame(kbest_columns, columns = new_features)\n",
    "dfkbest.head()"
   ]
  },
  {
   "cell_type": "code",
   "execution_count": 544,
   "metadata": {
    "collapsed": true
   },
   "outputs": [],
   "source": [
    "lm = LinearRegression()"
   ]
  },
  {
   "cell_type": "code",
   "execution_count": 545,
   "metadata": {
    "collapsed": false
   },
   "outputs": [
    {
     "data": {
      "text/plain": [
       "(array([ -5.82043015e+00,  -2.59865175e-01,   3.03920246e+01,\n",
       "          7.56573573e+00,   4.83616607e+00,  -2.11350822e+01,\n",
       "         -2.85743173e-04,  -1.54207784e-01,   1.22428712e+01,\n",
       "         -7.47510312e+01,  -5.87765444e+01,   6.66092639e-04,\n",
       "         -2.27961865e+01,  -1.86730505e+01,  -1.28460189e+01,\n",
       "          1.24693158e+00,   3.25713296e+00,   1.28035021e+01,\n",
       "          1.00554521e+01,   1.46840007e+01,   3.18718991e+01,\n",
       "          2.68424977e+00,   4.45378914e+00,   2.86954854e+00,\n",
       "          1.62984020e+00,   1.95867177e+00,   8.27909225e+00,\n",
       "          6.36547479e+00,   6.97199044e+00,   4.18034074e+00,\n",
       "         -2.01090556e+00,  -7.86687016e+00]), 69.674333421099249)"
      ]
     },
     "execution_count": 545,
     "metadata": {},
     "output_type": "execute_result"
    }
   ],
   "source": [
    "model = lm.fit(dfkbest,y)\n",
    "model.coef_, model.intercept_"
   ]
  },
  {
   "cell_type": "code",
   "execution_count": 546,
   "metadata": {
    "collapsed": false
   },
   "outputs": [
    {
     "data": {
      "text/plain": [
       "array([ 0.45306362,  0.4875242 ,  0.46988523,  0.41282821,  0.43871388])"
      ]
     },
     "execution_count": 546,
     "metadata": {},
     "output_type": "execute_result"
    }
   ],
   "source": [
    "predictions = model.predict(dfkbest)\n",
    "scores = cross_val_score(model, dfkbest, y, cv=5)\n",
    "scores"
   ]
  },
  {
   "cell_type": "code",
   "execution_count": 547,
   "metadata": {
    "collapsed": false
   },
   "outputs": [
    {
     "name": "stdout",
     "output_type": "stream",
     "text": [
      "R^2: 0.465118136625\n",
      "RMSE: 20.4832683465\n"
     ]
    }
   ],
   "source": [
    "print 'R^2:', model.score(dfkbest, y)\n",
    "print 'RMSE:', np.sqrt(metrics.mean_squared_error(y, predictions))"
   ]
  },
  {
   "cell_type": "code",
   "execution_count": 548,
   "metadata": {
    "collapsed": false
   },
   "outputs": [],
   "source": [
    "lasso = Lasso(alpha =0.01)"
   ]
  },
  {
   "cell_type": "code",
   "execution_count": 549,
   "metadata": {
    "collapsed": false
   },
   "outputs": [
    {
     "name": "stdout",
     "output_type": "stream",
     "text": [
      "0.4645997972\n",
      "20.4931908315\n"
     ]
    }
   ],
   "source": [
    "modellasso = lasso.fit(dfkbest,y)\n",
    "print modellasso.score(dfkbest,y)\n",
    "predictionlasso = modellasso.predict(dfkbest)\n",
    "print np.sqrt(metrics.mean_squared_error(y, predictionlasso))"
   ]
  },
  {
   "cell_type": "code",
   "execution_count": 550,
   "metadata": {
    "collapsed": true
   },
   "outputs": [],
   "source": [
    "ridge = Ridge(alpha = 0.000000001)"
   ]
  },
  {
   "cell_type": "code",
   "execution_count": 551,
   "metadata": {
    "collapsed": false
   },
   "outputs": [
    {
     "name": "stdout",
     "output_type": "stream",
     "text": [
      "0.465118136625\n",
      "20.4832683465\n"
     ]
    }
   ],
   "source": [
    "modelridge = ridge.fit(dfkbest,y)\n",
    "print modelridge.score(dfkbest,y)\n",
    "predictionridge = modelridge.predict(dfkbest)\n",
    "print np.sqrt(metrics.mean_squared_error(y, predictionridge))"
   ]
  },
  {
   "cell_type": "markdown",
   "metadata": {},
   "source": [
    "RFE\n",
    "--"
   ]
  },
  {
   "cell_type": "code",
   "execution_count": 552,
   "metadata": {
    "collapsed": true
   },
   "outputs": [],
   "source": [
    "rfe = RFE(lm,n_features_to_select=32)"
   ]
  },
  {
   "cell_type": "code",
   "execution_count": 553,
   "metadata": {
    "collapsed": false
   },
   "outputs": [
    {
     "name": "stdout",
     "output_type": "stream",
     "text": [
      "32\n",
      "[ True  True  True  True  True  True  True  True  True  True  True  True\n",
      "  True  True  True  True  True  True  True  True  True  True  True  True\n",
      "  True  True  True  True  True  True  True  True]\n",
      "[1 1 1 1 1 1 1 1 1 1 1 1 1 1 1 1 1 1 1 1 1 1 1 1 1 1 1 1 1 1 1 1]\n"
     ]
    }
   ],
   "source": [
    "rfe.fit(X,y)\n",
    "print rfe.n_features_\n",
    "print rfe.support_\n",
    "print rfe.ranking_"
   ]
  },
  {
   "cell_type": "code",
   "execution_count": 554,
   "metadata": {
    "collapsed": false
   },
   "outputs": [
    {
     "data": {
      "text/plain": [
       "['MAIN',\n",
       " 'NUMBRANCH',\n",
       " 'HBCU',\n",
       " 'PBI',\n",
       " 'WOMENONLY',\n",
       " 'DISTANCEONLY',\n",
       " 'UGDS',\n",
       " 'AGE_ENTRY',\n",
       " 'FEMALE',\n",
       " 'MARRIED',\n",
       " 'DEPENDENT',\n",
       " 'MD_FAMINC',\n",
       " 'PREDDEG_1',\n",
       " 'PREDDEG_2',\n",
       " 'PREDDEG_3',\n",
       " 'HIGHDEG_1',\n",
       " 'HIGHDEG_2',\n",
       " 'HIGHDEG_3',\n",
       " 'HIGHDEG_4',\n",
       " 'CONTROL_2',\n",
       " 'CONTROL_3',\n",
       " 'LOCALE_12.0',\n",
       " 'LOCALE_13.0',\n",
       " 'LOCALE_21.0',\n",
       " 'LOCALE_22.0',\n",
       " 'LOCALE_23.0',\n",
       " 'LOCALE_31.0',\n",
       " 'LOCALE_32.0',\n",
       " 'LOCALE_33.0',\n",
       " 'LOCALE_41.0',\n",
       " 'LOCALE_42.0',\n",
       " 'LOCALE_43.0']"
      ]
     },
     "execution_count": 554,
     "metadata": {},
     "output_type": "execute_result"
    }
   ],
   "source": [
    "mask1 = rfe.get_support() #list of booleans\n",
    "new_features1 = [] # The list of your K best features\n",
    "\n",
    "for bool, feature in zip(mask1, features):\n",
    "    if bool:\n",
    "        new_features1.append(feature)\n",
    "new_features1"
   ]
  },
  {
   "cell_type": "code",
   "execution_count": 555,
   "metadata": {
    "collapsed": false
   },
   "outputs": [
    {
     "data": {
      "text/html": [
       "<div>\n",
       "<table border=\"1\" class=\"dataframe\">\n",
       "  <thead>\n",
       "    <tr style=\"text-align: right;\">\n",
       "      <th></th>\n",
       "      <th>MAIN</th>\n",
       "      <th>NUMBRANCH</th>\n",
       "      <th>HBCU</th>\n",
       "      <th>PBI</th>\n",
       "      <th>WOMENONLY</th>\n",
       "      <th>DISTANCEONLY</th>\n",
       "      <th>UGDS</th>\n",
       "      <th>AGE_ENTRY</th>\n",
       "      <th>FEMALE</th>\n",
       "      <th>MARRIED</th>\n",
       "      <th>...</th>\n",
       "      <th>LOCALE_13.0</th>\n",
       "      <th>LOCALE_21.0</th>\n",
       "      <th>LOCALE_22.0</th>\n",
       "      <th>LOCALE_23.0</th>\n",
       "      <th>LOCALE_31.0</th>\n",
       "      <th>LOCALE_32.0</th>\n",
       "      <th>LOCALE_33.0</th>\n",
       "      <th>LOCALE_41.0</th>\n",
       "      <th>LOCALE_42.0</th>\n",
       "      <th>LOCALE_43.0</th>\n",
       "    </tr>\n",
       "  </thead>\n",
       "  <tbody>\n",
       "    <tr>\n",
       "      <th>0</th>\n",
       "      <td>1</td>\n",
       "      <td>1</td>\n",
       "      <td>0.0</td>\n",
       "      <td>0.0</td>\n",
       "      <td>0.0</td>\n",
       "      <td>0.0</td>\n",
       "      <td>2056.0</td>\n",
       "      <td>25.927665</td>\n",
       "      <td>0.706853</td>\n",
       "      <td>0.176396</td>\n",
       "      <td>...</td>\n",
       "      <td>0</td>\n",
       "      <td>0</td>\n",
       "      <td>0</td>\n",
       "      <td>0</td>\n",
       "      <td>0</td>\n",
       "      <td>1</td>\n",
       "      <td>0</td>\n",
       "      <td>0</td>\n",
       "      <td>0</td>\n",
       "      <td>0</td>\n",
       "    </tr>\n",
       "    <tr>\n",
       "      <th>1</th>\n",
       "      <td>1</td>\n",
       "      <td>1</td>\n",
       "      <td>0.0</td>\n",
       "      <td>0.0</td>\n",
       "      <td>0.0</td>\n",
       "      <td>0.0</td>\n",
       "      <td>194.0</td>\n",
       "      <td>29.712871</td>\n",
       "      <td>0.732673</td>\n",
       "      <td>0.188119</td>\n",
       "      <td>...</td>\n",
       "      <td>0</td>\n",
       "      <td>0</td>\n",
       "      <td>0</td>\n",
       "      <td>0</td>\n",
       "      <td>0</td>\n",
       "      <td>0</td>\n",
       "      <td>0</td>\n",
       "      <td>1</td>\n",
       "      <td>0</td>\n",
       "      <td>0</td>\n",
       "    </tr>\n",
       "    <tr>\n",
       "      <th>2</th>\n",
       "      <td>1</td>\n",
       "      <td>1</td>\n",
       "      <td>0.0</td>\n",
       "      <td>0.0</td>\n",
       "      <td>0.0</td>\n",
       "      <td>0.0</td>\n",
       "      <td>1075.0</td>\n",
       "      <td>21.532362</td>\n",
       "      <td>0.543689</td>\n",
       "      <td>0.061489</td>\n",
       "      <td>...</td>\n",
       "      <td>0</td>\n",
       "      <td>0</td>\n",
       "      <td>0</td>\n",
       "      <td>0</td>\n",
       "      <td>0</td>\n",
       "      <td>0</td>\n",
       "      <td>1</td>\n",
       "      <td>0</td>\n",
       "      <td>0</td>\n",
       "      <td>0</td>\n",
       "    </tr>\n",
       "    <tr>\n",
       "      <th>3</th>\n",
       "      <td>1</td>\n",
       "      <td>2</td>\n",
       "      <td>0.0</td>\n",
       "      <td>0.0</td>\n",
       "      <td>0.0</td>\n",
       "      <td>0.0</td>\n",
       "      <td>312.0</td>\n",
       "      <td>29.542683</td>\n",
       "      <td>0.847561</td>\n",
       "      <td>0.288618</td>\n",
       "      <td>...</td>\n",
       "      <td>0</td>\n",
       "      <td>1</td>\n",
       "      <td>0</td>\n",
       "      <td>0</td>\n",
       "      <td>0</td>\n",
       "      <td>0</td>\n",
       "      <td>0</td>\n",
       "      <td>0</td>\n",
       "      <td>0</td>\n",
       "      <td>0</td>\n",
       "    </tr>\n",
       "    <tr>\n",
       "      <th>4</th>\n",
       "      <td>1</td>\n",
       "      <td>1</td>\n",
       "      <td>0.0</td>\n",
       "      <td>0.0</td>\n",
       "      <td>0.0</td>\n",
       "      <td>0.0</td>\n",
       "      <td>1656.0</td>\n",
       "      <td>22.794651</td>\n",
       "      <td>0.475645</td>\n",
       "      <td>0.120344</td>\n",
       "      <td>...</td>\n",
       "      <td>0</td>\n",
       "      <td>1</td>\n",
       "      <td>0</td>\n",
       "      <td>0</td>\n",
       "      <td>0</td>\n",
       "      <td>0</td>\n",
       "      <td>0</td>\n",
       "      <td>0</td>\n",
       "      <td>0</td>\n",
       "      <td>0</td>\n",
       "    </tr>\n",
       "  </tbody>\n",
       "</table>\n",
       "<p>5 rows × 32 columns</p>\n",
       "</div>"
      ],
      "text/plain": [
       "   MAIN  NUMBRANCH  HBCU  PBI  WOMENONLY  DISTANCEONLY    UGDS  AGE_ENTRY  \\\n",
       "0     1          1   0.0  0.0        0.0           0.0  2056.0  25.927665   \n",
       "1     1          1   0.0  0.0        0.0           0.0   194.0  29.712871   \n",
       "2     1          1   0.0  0.0        0.0           0.0  1075.0  21.532362   \n",
       "3     1          2   0.0  0.0        0.0           0.0   312.0  29.542683   \n",
       "4     1          1   0.0  0.0        0.0           0.0  1656.0  22.794651   \n",
       "\n",
       "     FEMALE   MARRIED     ...       LOCALE_13.0  LOCALE_21.0  LOCALE_22.0  \\\n",
       "0  0.706853  0.176396     ...                 0            0            0   \n",
       "1  0.732673  0.188119     ...                 0            0            0   \n",
       "2  0.543689  0.061489     ...                 0            0            0   \n",
       "3  0.847561  0.288618     ...                 0            1            0   \n",
       "4  0.475645  0.120344     ...                 0            1            0   \n",
       "\n",
       "   LOCALE_23.0  LOCALE_31.0  LOCALE_32.0  LOCALE_33.0  LOCALE_41.0  \\\n",
       "0            0            0            1            0            0   \n",
       "1            0            0            0            0            1   \n",
       "2            0            0            0            1            0   \n",
       "3            0            0            0            0            0   \n",
       "4            0            0            0            0            0   \n",
       "\n",
       "   LOCALE_42.0  LOCALE_43.0  \n",
       "0            0            0  \n",
       "1            0            0  \n",
       "2            0            0  \n",
       "3            0            0  \n",
       "4            0            0  \n",
       "\n",
       "[5 rows x 32 columns]"
      ]
     },
     "execution_count": 555,
     "metadata": {},
     "output_type": "execute_result"
    }
   ],
   "source": [
    "rfedf = X[new_features1]\n",
    "rfedf.head()"
   ]
  },
  {
   "cell_type": "code",
   "execution_count": 556,
   "metadata": {
    "collapsed": false
   },
   "outputs": [
    {
     "data": {
      "text/plain": [
       "array([ 0.45306362,  0.4875242 ,  0.46988523,  0.41282821,  0.43871388])"
      ]
     },
     "execution_count": 556,
     "metadata": {},
     "output_type": "execute_result"
    }
   ],
   "source": [
    "model1 = lm.fit(rfedf,y)\n",
    "predictions1 = model1.predict(rfedf)\n",
    "scores = cross_val_score(model1, rfedf, y, cv=5)\n",
    "scores"
   ]
  },
  {
   "cell_type": "code",
   "execution_count": 557,
   "metadata": {
    "collapsed": false
   },
   "outputs": [
    {
     "name": "stdout",
     "output_type": "stream",
     "text": [
      "R^2: 0.465118136625\n",
      "[ -5.82043015e+00  -2.59865175e-01   3.03920246e+01   7.56573573e+00\n",
      "   4.83616607e+00  -2.11350822e+01  -2.85743173e-04  -1.54207784e-01\n",
      "   1.22428712e+01  -7.47510312e+01  -5.87765444e+01   6.66092639e-04\n",
      "  -2.27961865e+01  -1.86730505e+01  -1.28460189e+01   1.24693158e+00\n",
      "   3.25713296e+00   1.28035021e+01   1.00554521e+01   1.46840007e+01\n",
      "   3.18718991e+01   2.68424977e+00   4.45378914e+00   2.86954854e+00\n",
      "   1.62984020e+00   1.95867177e+00   8.27909225e+00   6.36547479e+00\n",
      "   6.97199044e+00   4.18034074e+00  -2.01090556e+00  -7.86687016e+00]\n",
      "RMSE: 20.4832683465\n"
     ]
    }
   ],
   "source": [
    "print 'R^2:', model1.score(rfedf,y)\n",
    "print model1.coef_\n",
    "print 'RMSE:', np.sqrt(metrics.mean_squared_error(y, predictions1))"
   ]
  },
  {
   "cell_type": "code",
   "execution_count": 565,
   "metadata": {
    "collapsed": true
   },
   "outputs": [],
   "source": [
    "lasso = Lasso(alpha =.001)"
   ]
  },
  {
   "cell_type": "code",
   "execution_count": 566,
   "metadata": {
    "collapsed": false
   },
   "outputs": [
    {
     "name": "stdout",
     "output_type": "stream",
     "text": [
      "0.465086301596\n",
      "20.4838778977\n"
     ]
    }
   ],
   "source": [
    "modellasso = lasso.fit(rfedf,y)\n",
    "print modellasso.score(rfedf,y)\n",
    "predictionlasso = modellasso.predict(rfedf)\n",
    "print np.sqrt(metrics.mean_squared_error(y, predictionlasso))"
   ]
  },
  {
   "cell_type": "code",
   "execution_count": null,
   "metadata": {
    "collapsed": true
   },
   "outputs": [],
   "source": [
    "ridge = Ridge(alpha = 0.000000001)"
   ]
  },
  {
   "cell_type": "code",
   "execution_count": 567,
   "metadata": {
    "collapsed": false
   },
   "outputs": [
    {
     "name": "stdout",
     "output_type": "stream",
     "text": [
      "0.465118136625\n",
      "20.4832683465\n"
     ]
    }
   ],
   "source": [
    "modelridge = ridge.fit(rfedf,y)\n",
    "print modelridge.score(rfedf,y)\n",
    "predictionridge = modelridge.predict(rfedf)\n",
    "print np.sqrt(metrics.mean_squared_error(y, predictionridge))"
   ]
  },
  {
   "cell_type": "markdown",
   "metadata": {},
   "source": [
    "GridSearchCV\n",
    "--"
   ]
  },
  {
   "cell_type": "code",
   "execution_count": 239,
   "metadata": {
    "collapsed": true
   },
   "outputs": [],
   "source": [
    "hyperparameters = {'fit_intercept':[True,False], 'normalize':[True,False], 'copy_X':[True, False]}"
   ]
  },
  {
   "cell_type": "code",
   "execution_count": 238,
   "metadata": {
    "collapsed": false
   },
   "outputs": [
    {
     "data": {
      "text/plain": [
       "['copy_X', 'normalize', 'n_jobs', 'fit_intercept']"
      ]
     },
     "execution_count": 238,
     "metadata": {},
     "output_type": "execute_result"
    }
   ],
   "source": [
    "estimator = lm\n",
    "estimator.get_params().keys()"
   ]
  },
  {
   "cell_type": "code",
   "execution_count": 240,
   "metadata": {
    "collapsed": false
   },
   "outputs": [
    {
     "data": {
      "text/plain": [
       "GridSearchCV(cv=None, error_score='raise',\n",
       "       estimator=LinearRegression(copy_X=True, fit_intercept=True, n_jobs=1, normalize=False),\n",
       "       fit_params={}, iid=True, n_jobs=1,\n",
       "       param_grid={'normalize': [True, False], 'copy_X': [True, False], 'fit_intercept': [True, False]},\n",
       "       pre_dispatch='2*n_jobs', refit=True, return_train_score=True,\n",
       "       scoring=None, verbose=0)"
      ]
     },
     "execution_count": 240,
     "metadata": {},
     "output_type": "execute_result"
    }
   ],
   "source": [
    "grid_search = GridSearchCV(lm, hyperparameters)\n",
    "grid_search.fit(X,y)"
   ]
  },
  {
   "cell_type": "code",
   "execution_count": 241,
   "metadata": {
    "collapsed": false
   },
   "outputs": [
    {
     "data": {
      "text/plain": [
       "[('MAIN', array([-5.82043015])),\n",
       " ('NUMBRANCH', array([-0.25986517])),\n",
       " ('HBCU', array([ 30.39202457])),\n",
       " ('PBI', array([ 7.56573573])),\n",
       " ('WOMENONLY', array([ 4.83616607])),\n",
       " ('DISTANCEONLY', array([-21.13508217])),\n",
       " ('UGDS', array([-0.00028574])),\n",
       " ('AGE_ENTRY', array([-0.15420778])),\n",
       " ('FEMALE', array([ 12.24287117])),\n",
       " ('MARRIED', array([-74.75103116])),\n",
       " ('DEPENDENT', array([-58.77654444])),\n",
       " ('MD_FAMINC', array([ 0.00066609])),\n",
       " ('PREDDEG_1', array([-22.79618652])),\n",
       " ('PREDDEG_2', array([-18.67305051])),\n",
       " ('PREDDEG_3', array([-12.84601886])),\n",
       " ('HIGHDEG_1', array([ 1.24693158])),\n",
       " ('HIGHDEG_2', array([ 3.25713296])),\n",
       " ('HIGHDEG_3', array([ 12.80350212])),\n",
       " ('HIGHDEG_4', array([ 10.05545214])),\n",
       " ('CONTROL_2', array([ 14.6840007])),\n",
       " ('CONTROL_3', array([ 31.87189913])),\n",
       " ('LOCALE_12.0', array([ 2.68424977])),\n",
       " ('LOCALE_13.0', array([ 4.45378914])),\n",
       " ('LOCALE_21.0', array([ 2.86954854])),\n",
       " ('LOCALE_22.0', array([ 1.6298402])),\n",
       " ('LOCALE_23.0', array([ 1.95867177])),\n",
       " ('LOCALE_31.0', array([ 8.27909225])),\n",
       " ('LOCALE_32.0', array([ 6.36547479])),\n",
       " ('LOCALE_33.0', array([ 6.97199044])),\n",
       " ('LOCALE_41.0', array([ 4.18034074])),\n",
       " ('LOCALE_42.0', array([-2.01090556])),\n",
       " ('LOCALE_43.0', array([-7.86687016]))]"
      ]
     },
     "execution_count": 241,
     "metadata": {},
     "output_type": "execute_result"
    }
   ],
   "source": [
    "zip(features,grid_search.best_estimator_.coef_.reshape(-1,1))"
   ]
  },
  {
   "cell_type": "code",
   "execution_count": 245,
   "metadata": {
    "collapsed": false
   },
   "outputs": [],
   "source": [
    "best_features = []\n",
    "for i,k in zip(grid_search.best_estimator_.coef_, X.columns):\n",
    "    if abs(i) > 0.5:\n",
    "        best_features.append(k)"
   ]
  },
  {
   "cell_type": "code",
   "execution_count": 246,
   "metadata": {
    "collapsed": false
   },
   "outputs": [],
   "source": [
    "gsdf = X[best_features]"
   ]
  },
  {
   "cell_type": "code",
   "execution_count": 247,
   "metadata": {
    "collapsed": false
   },
   "outputs": [
    {
     "data": {
      "text/plain": [
       "['MAIN',\n",
       " 'HBCU',\n",
       " 'PBI',\n",
       " 'WOMENONLY',\n",
       " 'DISTANCEONLY',\n",
       " 'FEMALE',\n",
       " 'MARRIED',\n",
       " 'DEPENDENT',\n",
       " 'PREDDEG_1',\n",
       " 'PREDDEG_2',\n",
       " 'PREDDEG_3',\n",
       " 'HIGHDEG_1',\n",
       " 'HIGHDEG_2',\n",
       " 'HIGHDEG_3',\n",
       " 'HIGHDEG_4',\n",
       " 'CONTROL_2',\n",
       " 'CONTROL_3',\n",
       " 'LOCALE_12.0',\n",
       " 'LOCALE_13.0',\n",
       " 'LOCALE_21.0',\n",
       " 'LOCALE_22.0',\n",
       " 'LOCALE_23.0',\n",
       " 'LOCALE_31.0',\n",
       " 'LOCALE_32.0',\n",
       " 'LOCALE_33.0',\n",
       " 'LOCALE_41.0',\n",
       " 'LOCALE_42.0',\n",
       " 'LOCALE_43.0']"
      ]
     },
     "execution_count": 247,
     "metadata": {},
     "output_type": "execute_result"
    }
   ],
   "source": [
    "best_features"
   ]
  },
  {
   "cell_type": "code",
   "execution_count": 248,
   "metadata": {
    "collapsed": false
   },
   "outputs": [
    {
     "data": {
      "text/plain": [
       "array([ 0.39178039,  0.42862909,  0.40695938,  0.35586195,  0.35894649])"
      ]
     },
     "execution_count": 248,
     "metadata": {},
     "output_type": "execute_result"
    }
   ],
   "source": [
    "model2 = grid_search.best_estimator_.fit(gsdf,y)\n",
    "predictions2 = model2.predict(gsdf)\n",
    "scores = cross_val_score(model2, gsdf, y, cv=5)\n",
    "scores"
   ]
  },
  {
   "cell_type": "code",
   "execution_count": 249,
   "metadata": {
    "collapsed": false
   },
   "outputs": [
    {
     "name": "stdout",
     "output_type": "stream",
     "text": [
      "R^2: 0.400171192778\n",
      "[ -3.97320625  20.08562472   3.95345355   1.8097741  -19.58840473\n",
      "  16.04859906 -49.28044771 -18.70724398 -21.37307046 -17.92913374\n",
      "  -9.53027711  -0.93459063  -0.16184311  10.58535572  10.05946714\n",
      "  19.83304073  32.74052175   3.61613959   4.79147358   3.70890675\n",
      "   3.36195342   3.98915209   9.80937986   7.24113189   8.43633872\n",
      "   5.8655354   -1.90795705  -7.90396625]\n",
      "RMSE: 21.6912199501\n"
     ]
    }
   ],
   "source": [
    "print 'R^2:', model2.score(gsdf,y)\n",
    "print model2.coef_\n",
    "print 'RMSE:', np.sqrt(metrics.mean_squared_error(y, predictions2))"
   ]
  },
  {
   "cell_type": "code",
   "execution_count": 252,
   "metadata": {
    "collapsed": true
   },
   "outputs": [],
   "source": [
    "#Make a pipeline using SelectKBest"
   ]
  },
  {
   "cell_type": "code",
   "execution_count": 568,
   "metadata": {
    "collapsed": false
   },
   "outputs": [
    {
     "data": {
      "text/plain": [
       "Index([u'MAIN', u'NUMBRANCH', u'HBCU', u'PBI', u'WOMENONLY', u'DISTANCEONLY',\n",
       "       u'UGDS', u'AGE_ENTRY', u'FEMALE', u'MARRIED', u'DEPENDENT',\n",
       "       u'MD_FAMINC', u'PREDDEG_1', u'PREDDEG_2', u'PREDDEG_3', u'HIGHDEG_1',\n",
       "       u'HIGHDEG_2', u'HIGHDEG_3', u'HIGHDEG_4', u'CONTROL_2', u'CONTROL_3',\n",
       "       u'LOCALE_12.0', u'LOCALE_13.0', u'LOCALE_21.0', u'LOCALE_22.0',\n",
       "       u'LOCALE_23.0', u'LOCALE_31.0', u'LOCALE_32.0', u'LOCALE_33.0',\n",
       "       u'LOCALE_41.0', u'LOCALE_42.0', u'LOCALE_43.0'],\n",
       "      dtype='object')"
      ]
     },
     "execution_count": 568,
     "metadata": {},
     "output_type": "execute_result"
    }
   ],
   "source": [
    "dfkbest.columns"
   ]
  },
  {
   "cell_type": "code",
   "execution_count": 609,
   "metadata": {
    "collapsed": true
   },
   "outputs": [],
   "source": [
    "def main(dataframe):\n",
    "    return dataframe['MAIN'].values.reshape(-1,1)\n",
    "\n",
    "def branch(dataframe):\n",
    "    return dataframe['NUMBRANCH'].values.reshape(-1,1)\n",
    "\n",
    "def hbcu(dataframe):\n",
    "    return dataframe['HBCU'].values.reshape(-1,1)\n",
    "\n",
    "def pbi(dataframe):\n",
    "    return dataframe['PBI'].values.reshape(-1,1)\n",
    "\n",
    "def women(dataframe):\n",
    "    return dataframe['WOMENONLY'].values.reshape(-1,1)\n",
    "\n",
    "def distance(dataframe):\n",
    "    return dataframe['DISTANCEONLY'].values.reshape(-1,1)\n",
    "\n",
    "def ugds(dataframe):\n",
    "    return dataframe['UGDS'].values.reshape(-1,1)\n",
    "\n",
    "def ageentry(dataframe):\n",
    "    return dataframe['AGE_ENTRY'].values.reshape(-1,1)\n",
    "\n",
    "def female(dataframe):\n",
    "    return dataframe['FEMALE'].values.reshape(-1,1)\n",
    "\n",
    "def married(dataframe):\n",
    "    return dataframe['MARRIED'].values.reshape(-1,1)\n",
    "\n",
    "def dependent(dataframe):\n",
    "    return dataframe['DEPENDENT'].values.reshape(-1,1)\n",
    "\n",
    "def mdfam(dataframe):\n",
    "    return dataframe['MD_FAMINC'].values.reshape(-1,1)\n",
    "\n",
    "def preddeg(dataframe):\n",
    "    return dataframe['PREDDEG'].values.reshape(-1,1)\n",
    "\n",
    "def columnisopred(series):\n",
    "    return series[:,1:]\n",
    "\n",
    "def highdeg(dataframe):\n",
    "    return dataframe['HIGHDEG'].values.reshape(-1,1)\n",
    "\n",
    "def control(dataframe):\n",
    "    return dataframe['CONTROL'].values.reshape(-1,1)\n",
    "\n",
    "def locale(dataframe):\n",
    "#     dataframe['LOCALE'] = dataframe['LOCALE'].apply(lambda x: 21.0 if x == -3.0 else x)\n",
    "    return dataframe['LOCALE'].values.reshape(-1,1)\n",
    "\n",
    "def columnisoloc(series):\n",
    "    return series[:,2:]"
   ]
  },
  {
   "cell_type": "code",
   "execution_count": 626,
   "metadata": {
    "collapsed": true
   },
   "outputs": [],
   "source": [
    "main_pipe = make_pipeline(FunctionTransformer(main, validate = False),\n",
    "                         Imputer(strategy = 'most_frequent'))\n",
    "\n",
    "branch_pipe = make_pipeline(FunctionTransformer(branch, validate = False),\n",
    "                           Imputer())\n",
    "\n",
    "hbcu_pipe = make_pipeline(FunctionTransformer(hbcu, validate = False),\n",
    "                         Imputer(strategy = 'most_frequent'))\n",
    "\n",
    "pbi_pipe = make_pipeline(FunctionTransformer(pbi, validate = False),\n",
    "                        Imputer(strategy = 'most_frequent'))\n",
    "\n",
    "women_pipe = make_pipeline(FunctionTransformer(women, validate = False),\n",
    "                          Imputer(strategy = 'most_frequent'))\n",
    "\n",
    "distance_pipe = make_pipeline(FunctionTransformer(distance, validate = False),\n",
    "                             Imputer(strategy = 'most_frequent'))\n",
    "\n",
    "ugds_pipe = make_pipeline(FunctionTransformer(distance, validate = False),\n",
    "                         Imputer())\n",
    "\n",
    "ageentry_pipe = make_pipeline(FunctionTransformer(ageentry, validate = False),\n",
    "                             Imputer())\n",
    "\n",
    "female_pipe = make_pipeline(FunctionTransformer(female, validate = False),\n",
    "                           Imputer())\n",
    "\n",
    "married_pipe = make_pipeline(FunctionTransformer(married, validate = False),\n",
    "                            Imputer())\n",
    "\n",
    "dependent_pipe = make_pipeline(FunctionTransformer(dependent, validate = False),\n",
    "                              Imputer())\n",
    "\n",
    "mdfam_pipe = make_pipeline(FunctionTransformer(mdfam, validate = False),\n",
    "                          Imputer())\n",
    "\n",
    "preddeg_pipe = make_pipeline(FunctionTransformer(preddeg, validate = False),\n",
    "                             Imputer(),\n",
    "                            LabelBinarizer(),\n",
    "                            FunctionTransformer(columnisopred, validate = False))\n",
    "\n",
    "highdeg_pipe = make_pipeline(FunctionTransformer(highdeg, validate = False),\n",
    "                             Imputer(),\n",
    "                            LabelBinarizer(),\n",
    "                            FunctionTransformer(columnisopred, validate = False))\n",
    "\n",
    "control_pipe = make_pipeline(FunctionTransformer(control, validate = False),\n",
    "                             Imputer(),\n",
    "                            LabelBinarizer(),\n",
    "                            FunctionTransformer(columnisopred, validate = False))\n",
    "\n",
    "locale_pipe = make_pipeline(FunctionTransformer(locale, validate = False),\n",
    "                            Imputer(),\n",
    "                           LabelBinarizer(),\n",
    "                           FunctionTransformer(columnisoloc, validate = False))"
   ]
  },
  {
   "cell_type": "code",
   "execution_count": 608,
   "metadata": {
    "collapsed": false,
    "scrolled": true
   },
   "outputs": [
    {
     "data": {
      "text/plain": [
       "array([ -3.,  11.,  12.,  13.,  21.,  22.,  23.,  31.,  32.,  33.,  41.,\n",
       "        42.,  43.])"
      ]
     },
     "execution_count": 608,
     "metadata": {},
     "output_type": "execute_result"
    }
   ],
   "source": [
    "lb = LabelBinarizer()\n",
    "hi=lb.fit_transform(training['LOCALE'])\n",
    "lb.classes_\n",
    "#to test which column to isolate"
   ]
  },
  {
   "cell_type": "code",
   "execution_count": 577,
   "metadata": {
    "collapsed": true
   },
   "outputs": [],
   "source": [
    "test = pd.read_csv('university_test (1).csv')"
   ]
  },
  {
   "cell_type": "code",
   "execution_count": 581,
   "metadata": {
    "collapsed": true
   },
   "outputs": [],
   "source": [
    "training = pd.read_csv('university_train.csv')"
   ]
  },
  {
   "cell_type": "code",
   "execution_count": 627,
   "metadata": {
    "collapsed": true
   },
   "outputs": [],
   "source": [
    "fu = make_union(main_pipe,branch_pipe, hbcu_pipe, pbi_pipe,women_pipe, distance_pipe,ugds_pipe,ageentry_pipe,\n",
    "               female_pipe, married_pipe, dependent_pipe, dependent_pipe, mdfam_pipe, preddeg_pipe,\n",
    "               highdeg_pipe, control_pipe, locale_pipe)"
   ]
  },
  {
   "cell_type": "code",
   "execution_count": 628,
   "metadata": {
    "collapsed": false
   },
   "outputs": [
    {
     "data": {
      "text/plain": [
       "FeatureUnion(n_jobs=1,\n",
       "       transformer_list=[('pipeline-1', Pipeline(steps=[('functiontransformer', FunctionTransformer(accept_sparse=False, func=<function main at 0x11d1648c0>,\n",
       "          inv_kw_args=None, inverse_func=None, kw_args=None, pass_y=False,\n",
       "          validate=False)), ('imputer', Imputer(axis=0, copy=True, missing...48>, inv_kw_args=None,\n",
       "          inverse_func=None, kw_args=None, pass_y=False, validate=False))]))],\n",
       "       transformer_weights=None)"
      ]
     },
     "execution_count": 628,
     "metadata": {},
     "output_type": "execute_result"
    }
   ],
   "source": [
    "fu.fit(training)"
   ]
  },
  {
   "cell_type": "code",
   "execution_count": 643,
   "metadata": {
    "collapsed": true
   },
   "outputs": [],
   "source": [
    "ridge = Ridge(alpha = 0.1)"
   ]
  },
  {
   "cell_type": "code",
   "execution_count": 633,
   "metadata": {
    "collapsed": false
   },
   "outputs": [],
   "source": [
    "y = training['percent_on_student_loan'].values"
   ]
  },
  {
   "cell_type": "code",
   "execution_count": 644,
   "metadata": {
    "collapsed": false
   },
   "outputs": [
    {
     "data": {
      "text/plain": [
       "Ridge(alpha=0.1, copy_X=True, fit_intercept=True, max_iter=None,\n",
       "   normalize=False, random_state=None, solver='auto', tol=0.001)"
      ]
     },
     "execution_count": 644,
     "metadata": {},
     "output_type": "execute_result"
    }
   ],
   "source": [
    "ridge.fit(fu.transform(training),y)"
   ]
  },
  {
   "cell_type": "code",
   "execution_count": 645,
   "metadata": {
    "collapsed": false
   },
   "outputs": [
    {
     "data": {
      "text/plain": [
       "0.46387011721740318"
      ]
     },
     "execution_count": 645,
     "metadata": {},
     "output_type": "execute_result"
    }
   ],
   "source": [
    "ridge.score(fu.transform(training),y)"
   ]
  },
  {
   "cell_type": "code",
   "execution_count": 637,
   "metadata": {
    "collapsed": false
   },
   "outputs": [
    {
     "data": {
      "text/plain": [
       "0.46387926458217826"
      ]
     },
     "execution_count": 637,
     "metadata": {},
     "output_type": "execute_result"
    }
   ],
   "source": [
    "lm = LinearRegression()\n",
    "lm.fit(fu.transform(training),y)\n",
    "lm.score(fu.transform(training),y)"
   ]
  },
  {
   "cell_type": "code",
   "execution_count": 646,
   "metadata": {
    "collapsed": true
   },
   "outputs": [],
   "source": [
    "def evaluation_transformation(dataset, predictions):\n",
    "    dataset = dataset.join(pd.DataFrame(predictions, columns=['Prediction']))\n",
    "    dataset[['id_number', 'Prediction']].to_csv('submissionr.csv', index=False)\n",
    "    \n",
    "predictions = ridge.predict(fu.transform(test))\n",
    "\n",
    "evaluation_transformation(test, predictions)"
   ]
  },
  {
   "cell_type": "code",
   "execution_count": 642,
   "metadata": {
    "collapsed": true
   },
   "outputs": [],
   "source": [
    "def evaluation_transformationlm(dataset, predictions):\n",
    "    dataset = dataset.join(pd.DataFrame(predictions, columns=['Prediction']))\n",
    "    dataset[['id_number', 'Prediction']].to_csv('submissionlm.csv', index=False)\n",
    "    \n",
    "predictionlm = lm.predict(fu.transform(test))\n",
    "\n",
    "evaluation_transformationlm(test, predictionlm)"
   ]
  }
 ],
 "metadata": {
  "kernelspec": {
   "display_name": "Python 2",
   "language": "python",
   "name": "python2"
  },
  "language_info": {
   "codemirror_mode": {
    "name": "ipython",
    "version": 2
   },
   "file_extension": ".py",
   "mimetype": "text/x-python",
   "name": "python",
   "nbconvert_exporter": "python",
   "pygments_lexer": "ipython2",
   "version": "2.7.13"
  }
 },
 "nbformat": 4,
 "nbformat_minor": 2
}
