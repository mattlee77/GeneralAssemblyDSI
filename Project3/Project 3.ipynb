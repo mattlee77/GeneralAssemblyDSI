{
 "cells": [
  {
   "cell_type": "code",
   "execution_count": 360,
   "metadata": {
    "collapsed": false
   },
   "outputs": [
    {
     "data": {
      "text/html": [
       "<div>\n",
       "<table border=\"1\" class=\"dataframe\">\n",
       "  <thead>\n",
       "    <tr style=\"text-align: right;\">\n",
       "      <th></th>\n",
       "      <th>Unnamed: 0</th>\n",
       "      <th>ItinID</th>\n",
       "      <th>FarePerMile</th>\n",
       "      <th>Coupons</th>\n",
       "      <th>Origin</th>\n",
       "      <th>RoundTrip</th>\n",
       "      <th>OnLine</th>\n",
       "      <th>RPCarrier</th>\n",
       "      <th>Passengers</th>\n",
       "      <th>ItinFare</th>\n",
       "      <th>BulkFare</th>\n",
       "      <th>Distance</th>\n",
       "      <th>DistanceGroup</th>\n",
       "      <th>MilesFlown</th>\n",
       "      <th>OriginState</th>\n",
       "    </tr>\n",
       "  </thead>\n",
       "  <tbody>\n",
       "    <tr>\n",
       "      <th>0</th>\n",
       "      <td>303</td>\n",
       "      <td>201611931654</td>\n",
       "      <td>0.3505</td>\n",
       "      <td>2</td>\n",
       "      <td>ORD</td>\n",
       "      <td>0.0</td>\n",
       "      <td>1.0</td>\n",
       "      <td>DL</td>\n",
       "      <td>1.0</td>\n",
       "      <td>416.0</td>\n",
       "      <td>0.0</td>\n",
       "      <td>1187.0</td>\n",
       "      <td>3</td>\n",
       "      <td>1187.0</td>\n",
       "      <td>IL</td>\n",
       "    </tr>\n",
       "    <tr>\n",
       "      <th>1</th>\n",
       "      <td>304</td>\n",
       "      <td>201611935662</td>\n",
       "      <td>0.8851</td>\n",
       "      <td>2</td>\n",
       "      <td>ORD</td>\n",
       "      <td>1.0</td>\n",
       "      <td>1.0</td>\n",
       "      <td>DL</td>\n",
       "      <td>1.0</td>\n",
       "      <td>416.0</td>\n",
       "      <td>0.0</td>\n",
       "      <td>470.0</td>\n",
       "      <td>1</td>\n",
       "      <td>470.0</td>\n",
       "      <td>IL</td>\n",
       "    </tr>\n",
       "    <tr>\n",
       "      <th>2</th>\n",
       "      <td>464</td>\n",
       "      <td>201612288325</td>\n",
       "      <td>0.3562</td>\n",
       "      <td>2</td>\n",
       "      <td>ORD</td>\n",
       "      <td>1.0</td>\n",
       "      <td>1.0</td>\n",
       "      <td>EV</td>\n",
       "      <td>1.0</td>\n",
       "      <td>416.0</td>\n",
       "      <td>0.0</td>\n",
       "      <td>1168.0</td>\n",
       "      <td>3</td>\n",
       "      <td>1168.0</td>\n",
       "      <td>IL</td>\n",
       "    </tr>\n",
       "    <tr>\n",
       "      <th>3</th>\n",
       "      <td>465</td>\n",
       "      <td>201612288420</td>\n",
       "      <td>0.5086</td>\n",
       "      <td>2</td>\n",
       "      <td>ORD</td>\n",
       "      <td>1.0</td>\n",
       "      <td>0.0</td>\n",
       "      <td>EV</td>\n",
       "      <td>1.0</td>\n",
       "      <td>416.0</td>\n",
       "      <td>0.0</td>\n",
       "      <td>818.0</td>\n",
       "      <td>2</td>\n",
       "      <td>818.0</td>\n",
       "      <td>IL</td>\n",
       "    </tr>\n",
       "    <tr>\n",
       "      <th>4</th>\n",
       "      <td>466</td>\n",
       "      <td>201612288910</td>\n",
       "      <td>0.2737</td>\n",
       "      <td>2</td>\n",
       "      <td>ORD</td>\n",
       "      <td>1.0</td>\n",
       "      <td>0.0</td>\n",
       "      <td>EV</td>\n",
       "      <td>1.0</td>\n",
       "      <td>416.0</td>\n",
       "      <td>0.0</td>\n",
       "      <td>1520.0</td>\n",
       "      <td>4</td>\n",
       "      <td>1520.0</td>\n",
       "      <td>IL</td>\n",
       "    </tr>\n",
       "  </tbody>\n",
       "</table>\n",
       "</div>"
      ],
      "text/plain": [
       "   Unnamed: 0        ItinID  FarePerMile  Coupons Origin  RoundTrip  OnLine  \\\n",
       "0         303  201611931654       0.3505        2    ORD        0.0     1.0   \n",
       "1         304  201611935662       0.8851        2    ORD        1.0     1.0   \n",
       "2         464  201612288325       0.3562        2    ORD        1.0     1.0   \n",
       "3         465  201612288420       0.5086        2    ORD        1.0     0.0   \n",
       "4         466  201612288910       0.2737        2    ORD        1.0     0.0   \n",
       "\n",
       "  RPCarrier  Passengers  ItinFare  BulkFare  Distance  DistanceGroup  \\\n",
       "0        DL         1.0     416.0       0.0    1187.0              3   \n",
       "1        DL         1.0     416.0       0.0     470.0              1   \n",
       "2        EV         1.0     416.0       0.0    1168.0              3   \n",
       "3        EV         1.0     416.0       0.0     818.0              2   \n",
       "4        EV         1.0     416.0       0.0    1520.0              4   \n",
       "\n",
       "   MilesFlown OriginState  \n",
       "0      1187.0          IL  \n",
       "1       470.0          IL  \n",
       "2      1168.0          IL  \n",
       "3       818.0          IL  \n",
       "4      1520.0          IL  "
      ]
     },
     "execution_count": 360,
     "metadata": {},
     "output_type": "execute_result"
    }
   ],
   "source": [
    "import pandas as pd\n",
    "import numpy as np\n",
    "import matplotlib.pyplot as plt\n",
    "import seaborn as sns\n",
    "from sklearn.linear_model import LinearRegression, Ridge, RidgeCV\n",
    "from sklearn.model_selection import train_test_split, cross_val_score\n",
    "\n",
    "%matplotlib inline\n",
    "\n",
    "df = pd.read_csv('airline.csv')\n",
    "df.head()"
   ]
  },
  {
   "cell_type": "code",
   "execution_count": 361,
   "metadata": {
    "collapsed": false
   },
   "outputs": [
    {
     "name": "stdout",
     "output_type": "stream",
     "text": [
      "<class 'pandas.core.frame.DataFrame'>\n",
      "RangeIndex: 123086 entries, 0 to 123085\n",
      "Data columns (total 15 columns):\n",
      "Unnamed: 0       123086 non-null int64\n",
      "ItinID           123086 non-null int64\n",
      "FarePerMile      123086 non-null float64\n",
      "Coupons          123086 non-null int64\n",
      "Origin           123086 non-null object\n",
      "RoundTrip        123086 non-null float64\n",
      "OnLine           123086 non-null float64\n",
      "RPCarrier        123086 non-null object\n",
      "Passengers       123086 non-null float64\n",
      "ItinFare         123086 non-null float64\n",
      "BulkFare         123086 non-null float64\n",
      "Distance         123086 non-null float64\n",
      "DistanceGroup    123086 non-null int64\n",
      "MilesFlown       123086 non-null float64\n",
      "OriginState      123086 non-null object\n",
      "dtypes: float64(8), int64(4), object(3)\n",
      "memory usage: 14.1+ MB\n"
     ]
    }
   ],
   "source": [
    "df.info()"
   ]
  },
  {
   "cell_type": "code",
   "execution_count": 362,
   "metadata": {
    "collapsed": false
   },
   "outputs": [
    {
     "data": {
      "text/plain": [
       "Unnamed: 0         int64\n",
       "ItinID             int64\n",
       "FarePerMile      float64\n",
       "Coupons            int64\n",
       "Origin            object\n",
       "RoundTrip        float64\n",
       "OnLine           float64\n",
       "RPCarrier         object\n",
       "Passengers       float64\n",
       "ItinFare         float64\n",
       "BulkFare         float64\n",
       "Distance         float64\n",
       "DistanceGroup      int64\n",
       "MilesFlown       float64\n",
       "OriginState       object\n",
       "dtype: object"
      ]
     },
     "execution_count": 362,
     "metadata": {},
     "output_type": "execute_result"
    }
   ],
   "source": [
    "df.dtypes"
   ]
  },
  {
   "cell_type": "markdown",
   "metadata": {},
   "source": [
    "<h1 align='center'>Exploratory Data Analysis</h1>"
   ]
  },
  {
   "cell_type": "code",
   "execution_count": 363,
   "metadata": {
    "collapsed": false
   },
   "outputs": [
    {
     "data": {
      "text/plain": [
       "count    123086.000000\n",
       "mean        393.376322\n",
       "std         197.107510\n",
       "min         101.000000\n",
       "25%         241.000000\n",
       "50%         356.000000\n",
       "75%         506.000000\n",
       "max        1000.000000\n",
       "Name: ItinFare, dtype: float64"
      ]
     },
     "execution_count": 363,
     "metadata": {},
     "output_type": "execute_result"
    }
   ],
   "source": [
    "df['ItinFare'].describe()"
   ]
  },
  {
   "cell_type": "code",
   "execution_count": 364,
   "metadata": {
    "collapsed": false
   },
   "outputs": [
    {
     "data": {
      "text/plain": [
       "count    123086.000000\n",
       "mean       1856.113677\n",
       "std        1252.732645\n",
       "min          67.000000\n",
       "25%         977.000000\n",
       "50%        1628.000000\n",
       "75%        2364.000000\n",
       "max       11598.000000\n",
       "Name: MilesFlown, dtype: float64"
      ]
     },
     "execution_count": 364,
     "metadata": {},
     "output_type": "execute_result"
    }
   ],
   "source": [
    "df['MilesFlown'].describe()"
   ]
  },
  {
   "cell_type": "code",
   "execution_count": 365,
   "metadata": {
    "collapsed": false
   },
   "outputs": [
    {
     "data": {
      "text/plain": [
       "count    123086.000000\n",
       "mean       1865.977317\n",
       "std        1260.047352\n",
       "min          67.000000\n",
       "25%         977.000000\n",
       "50%        1650.000000\n",
       "75%        2368.000000\n",
       "max       11598.000000\n",
       "Name: Distance, dtype: float64"
      ]
     },
     "execution_count": 365,
     "metadata": {},
     "output_type": "execute_result"
    }
   ],
   "source": [
    "df['Distance'].describe()\n",
    "#Includes ground transport distance"
   ]
  },
  {
   "cell_type": "code",
   "execution_count": 168,
   "metadata": {
    "collapsed": false
   },
   "outputs": [
    {
     "data": {
      "text/plain": [
       "count    123086.000000\n",
       "mean          2.324749\n",
       "std           5.355503\n",
       "min           1.000000\n",
       "25%           1.000000\n",
       "50%           1.000000\n",
       "75%           2.000000\n",
       "max         259.000000\n",
       "Name: Passengers, dtype: float64"
      ]
     },
     "execution_count": 168,
     "metadata": {},
     "output_type": "execute_result"
    }
   ],
   "source": [
    "df['Passengers'].describe()"
   ]
  },
  {
   "cell_type": "code",
   "execution_count": 366,
   "metadata": {
    "collapsed": false
   },
   "outputs": [
    {
     "data": {
      "text/plain": [
       "count    123086.000000\n",
       "mean          2.120322\n",
       "std           0.852858\n",
       "min           1.000000\n",
       "25%           2.000000\n",
       "50%           2.000000\n",
       "75%           2.000000\n",
       "max           9.000000\n",
       "Name: Coupons, dtype: float64"
      ]
     },
     "execution_count": 366,
     "metadata": {},
     "output_type": "execute_result"
    }
   ],
   "source": [
    "df['Coupons'].describe()"
   ]
  },
  {
   "cell_type": "code",
   "execution_count": 367,
   "metadata": {
    "collapsed": false
   },
   "outputs": [
    {
     "data": {
      "text/plain": [
       "AA    30028\n",
       "UA    27629\n",
       "WN    19962\n",
       "MQ     8379\n",
       "OO     6906\n",
       "DL     6199\n",
       "EV     5880\n",
       "YX     3699\n",
       "G7     3604\n",
       "S5     3051\n",
       "NK     2726\n",
       "B6      997\n",
       "F9      976\n",
       "AS      974\n",
       "9E      943\n",
       "CP      566\n",
       "VX      557\n",
       "YV       10\n",
       "Name: RPCarrier, dtype: int64"
      ]
     },
     "execution_count": 367,
     "metadata": {},
     "output_type": "execute_result"
    }
   ],
   "source": [
    "df['RPCarrier'].value_counts()"
   ]
  },
  {
   "cell_type": "code",
   "execution_count": 368,
   "metadata": {
    "collapsed": false
   },
   "outputs": [
    {
     "data": {
      "text/plain": [
       "ORD    100159\n",
       "MDW     22927\n",
       "Name: Origin, dtype: int64"
      ]
     },
     "execution_count": 368,
     "metadata": {},
     "output_type": "execute_result"
    }
   ],
   "source": [
    "df['Origin'].value_counts()"
   ]
  },
  {
   "cell_type": "code",
   "execution_count": 369,
   "metadata": {
    "collapsed": false
   },
   "outputs": [
    {
     "data": {
      "text/html": [
       "<div>\n",
       "<table border=\"1\" class=\"dataframe\">\n",
       "  <thead>\n",
       "    <tr style=\"text-align: right;\">\n",
       "      <th></th>\n",
       "      <th>Unnamed: 0</th>\n",
       "      <th>ItinID</th>\n",
       "      <th>FarePerMile</th>\n",
       "      <th>Coupons</th>\n",
       "      <th>RoundTrip</th>\n",
       "      <th>OnLine</th>\n",
       "      <th>Passengers</th>\n",
       "      <th>ItinFare</th>\n",
       "      <th>BulkFare</th>\n",
       "      <th>Distance</th>\n",
       "      <th>DistanceGroup</th>\n",
       "      <th>MilesFlown</th>\n",
       "    </tr>\n",
       "  </thead>\n",
       "  <tbody>\n",
       "    <tr>\n",
       "      <th>Unnamed: 0</th>\n",
       "      <td>1.000000</td>\n",
       "      <td>-0.043635</td>\n",
       "      <td>-0.074984</td>\n",
       "      <td>0.514145</td>\n",
       "      <td>0.164347</td>\n",
       "      <td>-0.197722</td>\n",
       "      <td>-0.093143</td>\n",
       "      <td>0.244461</td>\n",
       "      <td>NaN</td>\n",
       "      <td>0.289079</td>\n",
       "      <td>0.287439</td>\n",
       "      <td>0.279095</td>\n",
       "    </tr>\n",
       "    <tr>\n",
       "      <th>ItinID</th>\n",
       "      <td>-0.043635</td>\n",
       "      <td>1.000000</td>\n",
       "      <td>0.116424</td>\n",
       "      <td>-0.067241</td>\n",
       "      <td>-0.009427</td>\n",
       "      <td>0.002662</td>\n",
       "      <td>-0.012712</td>\n",
       "      <td>-0.022657</td>\n",
       "      <td>NaN</td>\n",
       "      <td>-0.146532</td>\n",
       "      <td>-0.143366</td>\n",
       "      <td>-0.146555</td>\n",
       "    </tr>\n",
       "    <tr>\n",
       "      <th>FarePerMile</th>\n",
       "      <td>-0.074984</td>\n",
       "      <td>0.116424</td>\n",
       "      <td>1.000000</td>\n",
       "      <td>-0.249469</td>\n",
       "      <td>-0.187428</td>\n",
       "      <td>0.014739</td>\n",
       "      <td>-0.075430</td>\n",
       "      <td>0.298878</td>\n",
       "      <td>NaN</td>\n",
       "      <td>-0.433051</td>\n",
       "      <td>-0.427641</td>\n",
       "      <td>-0.434393</td>\n",
       "    </tr>\n",
       "    <tr>\n",
       "      <th>Coupons</th>\n",
       "      <td>0.514145</td>\n",
       "      <td>-0.067241</td>\n",
       "      <td>-0.249469</td>\n",
       "      <td>1.000000</td>\n",
       "      <td>0.529316</td>\n",
       "      <td>-0.381468</td>\n",
       "      <td>-0.114784</td>\n",
       "      <td>0.264324</td>\n",
       "      <td>NaN</td>\n",
       "      <td>0.537046</td>\n",
       "      <td>0.534743</td>\n",
       "      <td>0.529238</td>\n",
       "    </tr>\n",
       "    <tr>\n",
       "      <th>RoundTrip</th>\n",
       "      <td>0.164347</td>\n",
       "      <td>-0.009427</td>\n",
       "      <td>-0.187428</td>\n",
       "      <td>0.529316</td>\n",
       "      <td>1.000000</td>\n",
       "      <td>-0.202568</td>\n",
       "      <td>-0.011121</td>\n",
       "      <td>0.256498</td>\n",
       "      <td>NaN</td>\n",
       "      <td>0.362516</td>\n",
       "      <td>0.358755</td>\n",
       "      <td>0.360742</td>\n",
       "    </tr>\n",
       "    <tr>\n",
       "      <th>OnLine</th>\n",
       "      <td>-0.197722</td>\n",
       "      <td>0.002662</td>\n",
       "      <td>0.014739</td>\n",
       "      <td>-0.381468</td>\n",
       "      <td>-0.202568</td>\n",
       "      <td>1.000000</td>\n",
       "      <td>0.140218</td>\n",
       "      <td>-0.090924</td>\n",
       "      <td>NaN</td>\n",
       "      <td>-0.021370</td>\n",
       "      <td>-0.021762</td>\n",
       "      <td>-0.009162</td>\n",
       "    </tr>\n",
       "    <tr>\n",
       "      <th>Passengers</th>\n",
       "      <td>-0.093143</td>\n",
       "      <td>-0.012712</td>\n",
       "      <td>-0.075430</td>\n",
       "      <td>-0.114784</td>\n",
       "      <td>-0.011121</td>\n",
       "      <td>0.140218</td>\n",
       "      <td>1.000000</td>\n",
       "      <td>-0.135531</td>\n",
       "      <td>NaN</td>\n",
       "      <td>-0.009770</td>\n",
       "      <td>-0.011116</td>\n",
       "      <td>-0.007931</td>\n",
       "    </tr>\n",
       "    <tr>\n",
       "      <th>ItinFare</th>\n",
       "      <td>0.244461</td>\n",
       "      <td>-0.022657</td>\n",
       "      <td>0.298878</td>\n",
       "      <td>0.264324</td>\n",
       "      <td>0.256498</td>\n",
       "      <td>-0.090924</td>\n",
       "      <td>-0.135531</td>\n",
       "      <td>1.000000</td>\n",
       "      <td>NaN</td>\n",
       "      <td>0.311157</td>\n",
       "      <td>0.310981</td>\n",
       "      <td>0.309425</td>\n",
       "    </tr>\n",
       "    <tr>\n",
       "      <th>BulkFare</th>\n",
       "      <td>NaN</td>\n",
       "      <td>NaN</td>\n",
       "      <td>NaN</td>\n",
       "      <td>NaN</td>\n",
       "      <td>NaN</td>\n",
       "      <td>NaN</td>\n",
       "      <td>NaN</td>\n",
       "      <td>NaN</td>\n",
       "      <td>NaN</td>\n",
       "      <td>NaN</td>\n",
       "      <td>NaN</td>\n",
       "      <td>NaN</td>\n",
       "    </tr>\n",
       "    <tr>\n",
       "      <th>Distance</th>\n",
       "      <td>0.289079</td>\n",
       "      <td>-0.146532</td>\n",
       "      <td>-0.433051</td>\n",
       "      <td>0.537046</td>\n",
       "      <td>0.362516</td>\n",
       "      <td>-0.021370</td>\n",
       "      <td>-0.009770</td>\n",
       "      <td>0.311157</td>\n",
       "      <td>NaN</td>\n",
       "      <td>1.000000</td>\n",
       "      <td>0.993134</td>\n",
       "      <td>0.997754</td>\n",
       "    </tr>\n",
       "    <tr>\n",
       "      <th>DistanceGroup</th>\n",
       "      <td>0.287439</td>\n",
       "      <td>-0.143366</td>\n",
       "      <td>-0.427641</td>\n",
       "      <td>0.534743</td>\n",
       "      <td>0.358755</td>\n",
       "      <td>-0.021762</td>\n",
       "      <td>-0.011116</td>\n",
       "      <td>0.310981</td>\n",
       "      <td>NaN</td>\n",
       "      <td>0.993134</td>\n",
       "      <td>1.000000</td>\n",
       "      <td>0.990902</td>\n",
       "    </tr>\n",
       "    <tr>\n",
       "      <th>MilesFlown</th>\n",
       "      <td>0.279095</td>\n",
       "      <td>-0.146555</td>\n",
       "      <td>-0.434393</td>\n",
       "      <td>0.529238</td>\n",
       "      <td>0.360742</td>\n",
       "      <td>-0.009162</td>\n",
       "      <td>-0.007931</td>\n",
       "      <td>0.309425</td>\n",
       "      <td>NaN</td>\n",
       "      <td>0.997754</td>\n",
       "      <td>0.990902</td>\n",
       "      <td>1.000000</td>\n",
       "    </tr>\n",
       "  </tbody>\n",
       "</table>\n",
       "</div>"
      ],
      "text/plain": [
       "               Unnamed: 0    ItinID  FarePerMile   Coupons  RoundTrip  \\\n",
       "Unnamed: 0       1.000000 -0.043635    -0.074984  0.514145   0.164347   \n",
       "ItinID          -0.043635  1.000000     0.116424 -0.067241  -0.009427   \n",
       "FarePerMile     -0.074984  0.116424     1.000000 -0.249469  -0.187428   \n",
       "Coupons          0.514145 -0.067241    -0.249469  1.000000   0.529316   \n",
       "RoundTrip        0.164347 -0.009427    -0.187428  0.529316   1.000000   \n",
       "OnLine          -0.197722  0.002662     0.014739 -0.381468  -0.202568   \n",
       "Passengers      -0.093143 -0.012712    -0.075430 -0.114784  -0.011121   \n",
       "ItinFare         0.244461 -0.022657     0.298878  0.264324   0.256498   \n",
       "BulkFare              NaN       NaN          NaN       NaN        NaN   \n",
       "Distance         0.289079 -0.146532    -0.433051  0.537046   0.362516   \n",
       "DistanceGroup    0.287439 -0.143366    -0.427641  0.534743   0.358755   \n",
       "MilesFlown       0.279095 -0.146555    -0.434393  0.529238   0.360742   \n",
       "\n",
       "                 OnLine  Passengers  ItinFare  BulkFare  Distance  \\\n",
       "Unnamed: 0    -0.197722   -0.093143  0.244461       NaN  0.289079   \n",
       "ItinID         0.002662   -0.012712 -0.022657       NaN -0.146532   \n",
       "FarePerMile    0.014739   -0.075430  0.298878       NaN -0.433051   \n",
       "Coupons       -0.381468   -0.114784  0.264324       NaN  0.537046   \n",
       "RoundTrip     -0.202568   -0.011121  0.256498       NaN  0.362516   \n",
       "OnLine         1.000000    0.140218 -0.090924       NaN -0.021370   \n",
       "Passengers     0.140218    1.000000 -0.135531       NaN -0.009770   \n",
       "ItinFare      -0.090924   -0.135531  1.000000       NaN  0.311157   \n",
       "BulkFare            NaN         NaN       NaN       NaN       NaN   \n",
       "Distance      -0.021370   -0.009770  0.311157       NaN  1.000000   \n",
       "DistanceGroup -0.021762   -0.011116  0.310981       NaN  0.993134   \n",
       "MilesFlown    -0.009162   -0.007931  0.309425       NaN  0.997754   \n",
       "\n",
       "               DistanceGroup  MilesFlown  \n",
       "Unnamed: 0          0.287439    0.279095  \n",
       "ItinID             -0.143366   -0.146555  \n",
       "FarePerMile        -0.427641   -0.434393  \n",
       "Coupons             0.534743    0.529238  \n",
       "RoundTrip           0.358755    0.360742  \n",
       "OnLine             -0.021762   -0.009162  \n",
       "Passengers         -0.011116   -0.007931  \n",
       "ItinFare            0.310981    0.309425  \n",
       "BulkFare                 NaN         NaN  \n",
       "Distance            0.993134    0.997754  \n",
       "DistanceGroup       1.000000    0.990902  \n",
       "MilesFlown          0.990902    1.000000  "
      ]
     },
     "execution_count": 369,
     "metadata": {},
     "output_type": "execute_result"
    }
   ],
   "source": [
    "df.corr()"
   ]
  },
  {
   "cell_type": "markdown",
   "metadata": {},
   "source": [
    "Just from the initial observation of the correlation table above, the strongest correlations of ItinFare are with Distance/DistanceGroup/MilesFlown\n",
    "The other strong relationships are Coupons:Distance (53.7%), Coupons:DistanceGroup (53.4%), Coupons:MilesFlown (52.9%), Coupons:RoundTrip (52.9%). We can also analyze why ItinFare and FarePerMile don't have a high correlation."
   ]
  },
  {
   "cell_type": "code",
   "execution_count": 370,
   "metadata": {
    "collapsed": false
   },
   "outputs": [],
   "source": [
    "df['Top3'] = [1 if x in ['AA','UA','WN'] else 0 for x in df['RPCarrier']]"
   ]
  },
  {
   "cell_type": "code",
   "execution_count": 371,
   "metadata": {
    "collapsed": true
   },
   "outputs": [],
   "source": [
    "df['OHare'] = [1 if x == 'ORD' else 0 for x in df['Origin']]"
   ]
  },
  {
   "cell_type": "code",
   "execution_count": null,
   "metadata": {
    "collapsed": true
   },
   "outputs": [],
   "source": []
  },
  {
   "cell_type": "code",
   "execution_count": 372,
   "metadata": {
    "collapsed": false
   },
   "outputs": [],
   "source": [
    "df = df.drop('BulkFare',axis = 1)\n",
    "#we drop BulkFare as it has nothing in it"
   ]
  },
  {
   "cell_type": "code",
   "execution_count": 555,
   "metadata": {
    "collapsed": false
   },
   "outputs": [
    {
     "data": {
      "text/plain": [
       "<matplotlib.axes._subplots.AxesSubplot at 0x12fca2c90>"
      ]
     },
     "execution_count": 555,
     "metadata": {},
     "output_type": "execute_result"
    },
    {
     "data": {
      "image/png": "[encoded data removed]",
      "text/plain": [
       "<matplotlib.figure.Figure at 0x121f0cf10>"
      ]
     },
     "metadata": {},
     "output_type": "display_data"
    }
   ],
   "source": [
    "fig, ax = plt.subplots(figsize = (10,8))\n",
    "sns.heatmap(df.corr(), cmap = 'coolwarm', annot = True)\n",
    "#heatmap of correlation"
   ]
  },
  {
   "cell_type": "code",
   "execution_count": 374,
   "metadata": {
    "collapsed": false
   },
   "outputs": [
    {
     "data": {
      "text/plain": [
       "Unnamed: 0       0.244461\n",
       "ItinID          -0.022657\n",
       "FarePerMile      0.298878\n",
       "Coupons          0.264324\n",
       "RoundTrip        0.256498\n",
       "OnLine          -0.090924\n",
       "Passengers      -0.135531\n",
       "ItinFare         1.000000\n",
       "Distance         0.311157\n",
       "DistanceGroup    0.310981\n",
       "MilesFlown       0.309425\n",
       "Top3             0.063941\n",
       "OHare            0.093472\n",
       "Name: ItinFare, dtype: float64"
      ]
     },
     "execution_count": 374,
     "metadata": {},
     "output_type": "execute_result"
    }
   ],
   "source": [
    "df.corr()['ItinFare']"
   ]
  },
  {
   "cell_type": "code",
   "execution_count": 375,
   "metadata": {
    "collapsed": false
   },
   "outputs": [
    {
     "data": {
      "image/png": "[encoded data removed]",
      "text/plain": [
       "<matplotlib.figure.Figure at 0x12ac47b90>"
      ]
     },
     "metadata": {},
     "output_type": "display_data"
    }
   ],
   "source": [
    "sns.distplot(df['ItinFare'])\n",
    "plt.show()"
   ]
  },
  {
   "cell_type": "code",
   "execution_count": 376,
   "metadata": {
    "collapsed": false
   },
   "outputs": [],
   "source": [
    "#We identified that ItinFare is our result that we want to predict, so we separate it from the dataframe in order to\n",
    "#run the linear regression\n",
    "df1 = df['ItinFare']\n"
   ]
  },
  {
   "cell_type": "code",
   "execution_count": 377,
   "metadata": {
    "collapsed": false
   },
   "outputs": [],
   "source": [
    "dfx = df.drop('ItinFare',axis = 1)"
   ]
  },
  {
   "cell_type": "code",
   "execution_count": 378,
   "metadata": {
    "collapsed": true
   },
   "outputs": [],
   "source": [
    "#We perform a first run with the all the features and no transformations\n",
    "features = ['Coupons','RoundTrip','OnLine','Passengers','Distance','DistanceGroup','MilesFlown']"
   ]
  },
  {
   "cell_type": "code",
   "execution_count": 379,
   "metadata": {
    "collapsed": true
   },
   "outputs": [],
   "source": [
    "X_train, X_test, y_train, y_test = train_test_split(dfx[features], df1, test_size = 0.3)"
   ]
  },
  {
   "cell_type": "code",
   "execution_count": 380,
   "metadata": {
    "collapsed": false
   },
   "outputs": [
    {
     "data": {
      "text/html": [
       "<div>\n",
       "<table border=\"1\" class=\"dataframe\">\n",
       "  <thead>\n",
       "    <tr style=\"text-align: right;\">\n",
       "      <th></th>\n",
       "      <th>Coefficients</th>\n",
       "    </tr>\n",
       "  </thead>\n",
       "  <tbody>\n",
       "    <tr>\n",
       "      <th>Coupons</th>\n",
       "      <td>8.122219</td>\n",
       "    </tr>\n",
       "    <tr>\n",
       "      <th>RoundTrip</th>\n",
       "      <td>62.177009</td>\n",
       "    </tr>\n",
       "    <tr>\n",
       "      <th>OnLine</th>\n",
       "      <td>-12.194311</td>\n",
       "    </tr>\n",
       "    <tr>\n",
       "      <th>Passengers</th>\n",
       "      <td>-4.372632</td>\n",
       "    </tr>\n",
       "    <tr>\n",
       "      <th>Distance</th>\n",
       "      <td>0.024491</td>\n",
       "    </tr>\n",
       "    <tr>\n",
       "      <th>DistanceGroup</th>\n",
       "      <td>9.652752</td>\n",
       "    </tr>\n",
       "    <tr>\n",
       "      <th>MilesFlown</th>\n",
       "      <td>-0.006227</td>\n",
       "    </tr>\n",
       "  </tbody>\n",
       "</table>\n",
       "</div>"
      ],
      "text/plain": [
       "               Coefficients\n",
       "Coupons            8.122219\n",
       "RoundTrip         62.177009\n",
       "OnLine           -12.194311\n",
       "Passengers        -4.372632\n",
       "Distance           0.024491\n",
       "DistanceGroup      9.652752\n",
       "MilesFlown        -0.006227"
      ]
     },
     "execution_count": 380,
     "metadata": {},
     "output_type": "execute_result"
    }
   ],
   "source": [
    "lm = LinearRegression()\n",
    "testmodel = lm.fit(X_train, y_train)\n",
    "X_train.columns\n",
    "dftest = pd.DataFrame(testmodel.coef_,X_train.columns, columns = ['Coefficients'])\n",
    "dftest\n",
    "#We examine the coefficients, RoundTrip "
   ]
  },
  {
   "cell_type": "code",
   "execution_count": 381,
   "metadata": {
    "collapsed": false
   },
   "outputs": [
    {
     "data": {
      "text/plain": [
       "275.51536392279831"
      ]
     },
     "execution_count": 381,
     "metadata": {},
     "output_type": "execute_result"
    }
   ],
   "source": [
    "testmodel.intercept_\n",
    "#Base price, we can see that this is already way off as the minimum price was $101"
   ]
  },
  {
   "cell_type": "code",
   "execution_count": 382,
   "metadata": {
    "collapsed": false
   },
   "outputs": [],
   "source": [
    "prediction = testmodel.predict(X_train)"
   ]
  },
  {
   "cell_type": "code",
   "execution_count": 383,
   "metadata": {
    "collapsed": false
   },
   "outputs": [
    {
     "data": {
      "text/plain": [
       "<matplotlib.collections.PathCollection at 0x12c6c4310>"
      ]
     },
     "execution_count": 383,
     "metadata": {},
     "output_type": "execute_result"
    },
    {
     "data": {
      "image/png": "[encoded data removed]",
      "text/plain": [
       "<matplotlib.figure.Figure at 0x12addd110>"
      ]
     },
     "metadata": {},
     "output_type": "display_data"
    }
   ],
   "source": [
    "plt.scatter(x = y_train, y = prediction)"
   ]
  },
  {
   "cell_type": "code",
   "execution_count": 384,
   "metadata": {
    "collapsed": false
   },
   "outputs": [
    {
     "name": "stdout",
     "output_type": "stream",
     "text": [
      "R^2: 0.140194599685\n",
      "MAE: 145.338418843\n",
      "MSE: 33276.5373504\n",
      "RMSE: 182.418577317\n"
     ]
    }
   ],
   "source": [
    "from sklearn import metrics\n",
    "print 'R^2:', testmodel.score(X_train, y_train)\n",
    "print 'MAE:', metrics.mean_absolute_error(y_train, prediction)\n",
    "print 'MSE:', metrics.mean_squared_error(y_train, prediction)\n",
    "print 'RMSE:', np.sqrt(metrics.mean_squared_error(y_train, prediction))\n",
    "#Low R^2 value and high errors"
   ]
  },
  {
   "cell_type": "code",
   "execution_count": 385,
   "metadata": {
    "collapsed": false
   },
   "outputs": [
    {
     "name": "stdout",
     "output_type": "stream",
     "text": [
      "One score I got in Prototype Model 1 was -1.36014188223e-06\n",
      "One score I got in Prototype Model 1 was -0.00064920882866\n",
      "One score I got in Prototype Model 1 was -0.000634109197337\n"
     ]
    }
   ],
   "source": [
    "score = cross_val_score(testmodel, x_train, y_train)\n",
    "for score in score:\n",
    "    print 'One score I got in Prototype Model 1 was %s' % score"
   ]
  },
  {
   "cell_type": "code",
   "execution_count": 386,
   "metadata": {
    "collapsed": false
   },
   "outputs": [
    {
     "data": {
      "text/html": [
       "<div>\n",
       "<table border=\"1\" class=\"dataframe\">\n",
       "  <thead>\n",
       "    <tr style=\"text-align: right;\">\n",
       "      <th></th>\n",
       "      <th>Coefficients</th>\n",
       "    </tr>\n",
       "  </thead>\n",
       "  <tbody>\n",
       "    <tr>\n",
       "      <th>Coupons</th>\n",
       "      <td>8.240283</td>\n",
       "    </tr>\n",
       "    <tr>\n",
       "      <th>RoundTrip</th>\n",
       "      <td>61.704483</td>\n",
       "    </tr>\n",
       "    <tr>\n",
       "      <th>OnLine</th>\n",
       "      <td>-12.139330</td>\n",
       "    </tr>\n",
       "    <tr>\n",
       "      <th>Passengers</th>\n",
       "      <td>-4.371532</td>\n",
       "    </tr>\n",
       "    <tr>\n",
       "      <th>Distance</th>\n",
       "      <td>0.024757</td>\n",
       "    </tr>\n",
       "    <tr>\n",
       "      <th>DistanceGroup</th>\n",
       "      <td>9.513276</td>\n",
       "    </tr>\n",
       "    <tr>\n",
       "      <th>MilesFlown</th>\n",
       "      <td>-0.006196</td>\n",
       "    </tr>\n",
       "  </tbody>\n",
       "</table>\n",
       "</div>"
      ],
      "text/plain": [
       "               Coefficients\n",
       "Coupons            8.240283\n",
       "RoundTrip         61.704483\n",
       "OnLine           -12.139330\n",
       "Passengers        -4.371532\n",
       "Distance           0.024757\n",
       "DistanceGroup      9.513276\n",
       "MilesFlown        -0.006196"
      ]
     },
     "execution_count": 386,
     "metadata": {},
     "output_type": "execute_result"
    }
   ],
   "source": [
    "ridge = Ridge(alpha = 100)\n",
    "testridge = testr.fit(X_train, y_train)\n",
    "dfrtest = pd.DataFrame(testridge.coef_,X_train.columns,columns = ['Coefficients'])\n",
    "dfrtest\n"
   ]
  },
  {
   "cell_type": "code",
   "execution_count": 387,
   "metadata": {
    "collapsed": false
   },
   "outputs": [
    {
     "data": {
      "text/plain": [
       "0.1401936945336355"
      ]
     },
     "execution_count": 387,
     "metadata": {},
     "output_type": "execute_result"
    }
   ],
   "source": [
    "testridge.score(X_train,y_train)"
   ]
  },
  {
   "cell_type": "code",
   "execution_count": 388,
   "metadata": {
    "collapsed": true
   },
   "outputs": [],
   "source": [
    "#Lets only include features that have strong correlation to ItinFare"
   ]
  },
  {
   "cell_type": "code",
   "execution_count": 389,
   "metadata": {
    "collapsed": true
   },
   "outputs": [],
   "source": [
    "features = ['Coupons','RoundTrip','Distance','DistanceGroup','MilesFlown']"
   ]
  },
  {
   "cell_type": "code",
   "execution_count": 390,
   "metadata": {
    "collapsed": true
   },
   "outputs": [],
   "source": [
    "X_train, X_test, y_train, y_test = train_test_split(dfx[features], df1, test_size = 0.3)"
   ]
  },
  {
   "cell_type": "code",
   "execution_count": 391,
   "metadata": {
    "collapsed": false
   },
   "outputs": [
    {
     "name": "stdout",
     "output_type": "stream",
     "text": [
      "               Coefficients\n",
      "Coupons           16.761433\n",
      "RoundTrip         58.840601\n",
      "Distance           0.028935\n",
      "DistanceGroup     12.069647\n",
      "MilesFlown        -0.018050\n",
      "245.223897924\n"
     ]
    }
   ],
   "source": [
    "model1 = lm.fit(X_train,y_train)\n",
    "dfm1 = pd.DataFrame(model1.coef_,X_train.columns, columns = ['Coefficients'])\n",
    "print dfm1\n",
    "print model1.intercept_"
   ]
  },
  {
   "cell_type": "code",
   "execution_count": 392,
   "metadata": {
    "collapsed": false
   },
   "outputs": [
    {
     "name": "stdout",
     "output_type": "stream",
     "text": [
      "R^2 0.124150117885\n"
     ]
    },
    {
     "data": {
      "text/plain": [
       "<matplotlib.collections.PathCollection at 0x12ace0710>"
      ]
     },
     "execution_count": 392,
     "metadata": {},
     "output_type": "execute_result"
    },
    {
     "data": {
      "image/png": "[encoded data removed]",
      "text/plain": [
       "<matplotlib.figure.Figure at 0x12781af50>"
      ]
     },
     "metadata": {},
     "output_type": "display_data"
    }
   ],
   "source": [
    "predictions = model1.predict(X_train)\n",
    "print \"R^2\", model1.score(X_train,y_train)\n",
    "plt.scatter(x=y_train, y = predictions)"
   ]
  },
  {
   "cell_type": "code",
   "execution_count": 393,
   "metadata": {
    "collapsed": false
   },
   "outputs": [
    {
     "name": "stdout",
     "output_type": "stream",
     "text": [
      "MAE: 147.627041393\n",
      "MSE: 34205.026641\n",
      "RMSE: 184.946010071\n"
     ]
    }
   ],
   "source": [
    "print 'MAE:', metrics.mean_absolute_error(y_train, predictions)\n",
    "print 'MSE:', metrics.mean_squared_error(y_train, predictions)\n",
    "print 'RMSE:', np.sqrt(metrics.mean_squared_error(y_train, predictions))\n",
    "#Even worse R^2 value and errors"
   ]
  },
  {
   "cell_type": "code",
   "execution_count": 394,
   "metadata": {
    "collapsed": true
   },
   "outputs": [],
   "source": [
    "#We will apply the log function to distance and miles flown"
   ]
  },
  {
   "cell_type": "code",
   "execution_count": 395,
   "metadata": {
    "collapsed": false
   },
   "outputs": [
    {
     "data": {
      "text/html": [
       "<div>\n",
       "<table border=\"1\" class=\"dataframe\">\n",
       "  <thead>\n",
       "    <tr style=\"text-align: right;\">\n",
       "      <th></th>\n",
       "      <th>Unnamed: 0</th>\n",
       "      <th>ItinID</th>\n",
       "      <th>FarePerMile</th>\n",
       "      <th>Coupons</th>\n",
       "      <th>Origin</th>\n",
       "      <th>RoundTrip</th>\n",
       "      <th>OnLine</th>\n",
       "      <th>RPCarrier</th>\n",
       "      <th>Passengers</th>\n",
       "      <th>Distance</th>\n",
       "      <th>DistanceGroup</th>\n",
       "      <th>MilesFlown</th>\n",
       "      <th>OriginState</th>\n",
       "      <th>Top3</th>\n",
       "      <th>OHare</th>\n",
       "      <th>DistanceLog</th>\n",
       "      <th>MilesFlownLog</th>\n",
       "    </tr>\n",
       "  </thead>\n",
       "  <tbody>\n",
       "    <tr>\n",
       "      <th>0</th>\n",
       "      <td>303</td>\n",
       "      <td>201611931654</td>\n",
       "      <td>0.3505</td>\n",
       "      <td>2</td>\n",
       "      <td>ORD</td>\n",
       "      <td>0.0</td>\n",
       "      <td>1.0</td>\n",
       "      <td>DL</td>\n",
       "      <td>1.0</td>\n",
       "      <td>1187.0</td>\n",
       "      <td>3</td>\n",
       "      <td>1187.0</td>\n",
       "      <td>IL</td>\n",
       "      <td>0</td>\n",
       "      <td>1</td>\n",
       "      <td>7.079184</td>\n",
       "      <td>7.079184</td>\n",
       "    </tr>\n",
       "    <tr>\n",
       "      <th>1</th>\n",
       "      <td>304</td>\n",
       "      <td>201611935662</td>\n",
       "      <td>0.8851</td>\n",
       "      <td>2</td>\n",
       "      <td>ORD</td>\n",
       "      <td>1.0</td>\n",
       "      <td>1.0</td>\n",
       "      <td>DL</td>\n",
       "      <td>1.0</td>\n",
       "      <td>470.0</td>\n",
       "      <td>1</td>\n",
       "      <td>470.0</td>\n",
       "      <td>IL</td>\n",
       "      <td>0</td>\n",
       "      <td>1</td>\n",
       "      <td>6.152733</td>\n",
       "      <td>6.152733</td>\n",
       "    </tr>\n",
       "    <tr>\n",
       "      <th>2</th>\n",
       "      <td>464</td>\n",
       "      <td>201612288325</td>\n",
       "      <td>0.3562</td>\n",
       "      <td>2</td>\n",
       "      <td>ORD</td>\n",
       "      <td>1.0</td>\n",
       "      <td>1.0</td>\n",
       "      <td>EV</td>\n",
       "      <td>1.0</td>\n",
       "      <td>1168.0</td>\n",
       "      <td>3</td>\n",
       "      <td>1168.0</td>\n",
       "      <td>IL</td>\n",
       "      <td>0</td>\n",
       "      <td>1</td>\n",
       "      <td>7.063048</td>\n",
       "      <td>7.063048</td>\n",
       "    </tr>\n",
       "    <tr>\n",
       "      <th>3</th>\n",
       "      <td>465</td>\n",
       "      <td>201612288420</td>\n",
       "      <td>0.5086</td>\n",
       "      <td>2</td>\n",
       "      <td>ORD</td>\n",
       "      <td>1.0</td>\n",
       "      <td>0.0</td>\n",
       "      <td>EV</td>\n",
       "      <td>1.0</td>\n",
       "      <td>818.0</td>\n",
       "      <td>2</td>\n",
       "      <td>818.0</td>\n",
       "      <td>IL</td>\n",
       "      <td>0</td>\n",
       "      <td>1</td>\n",
       "      <td>6.706862</td>\n",
       "      <td>6.706862</td>\n",
       "    </tr>\n",
       "    <tr>\n",
       "      <th>4</th>\n",
       "      <td>466</td>\n",
       "      <td>201612288910</td>\n",
       "      <td>0.2737</td>\n",
       "      <td>2</td>\n",
       "      <td>ORD</td>\n",
       "      <td>1.0</td>\n",
       "      <td>0.0</td>\n",
       "      <td>EV</td>\n",
       "      <td>1.0</td>\n",
       "      <td>1520.0</td>\n",
       "      <td>4</td>\n",
       "      <td>1520.0</td>\n",
       "      <td>IL</td>\n",
       "      <td>0</td>\n",
       "      <td>1</td>\n",
       "      <td>7.326466</td>\n",
       "      <td>7.326466</td>\n",
       "    </tr>\n",
       "  </tbody>\n",
       "</table>\n",
       "</div>"
      ],
      "text/plain": [
       "   Unnamed: 0        ItinID  FarePerMile  Coupons Origin  RoundTrip  OnLine  \\\n",
       "0         303  201611931654       0.3505        2    ORD        0.0     1.0   \n",
       "1         304  201611935662       0.8851        2    ORD        1.0     1.0   \n",
       "2         464  201612288325       0.3562        2    ORD        1.0     1.0   \n",
       "3         465  201612288420       0.5086        2    ORD        1.0     0.0   \n",
       "4         466  201612288910       0.2737        2    ORD        1.0     0.0   \n",
       "\n",
       "  RPCarrier  Passengers  Distance  DistanceGroup  MilesFlown OriginState  \\\n",
       "0        DL         1.0    1187.0              3      1187.0          IL   \n",
       "1        DL         1.0     470.0              1       470.0          IL   \n",
       "2        EV         1.0    1168.0              3      1168.0          IL   \n",
       "3        EV         1.0     818.0              2       818.0          IL   \n",
       "4        EV         1.0    1520.0              4      1520.0          IL   \n",
       "\n",
       "   Top3  OHare  DistanceLog  MilesFlownLog  \n",
       "0     0      1     7.079184       7.079184  \n",
       "1     0      1     6.152733       6.152733  \n",
       "2     0      1     7.063048       7.063048  \n",
       "3     0      1     6.706862       6.706862  \n",
       "4     0      1     7.326466       7.326466  "
      ]
     },
     "execution_count": 395,
     "metadata": {},
     "output_type": "execute_result"
    }
   ],
   "source": [
    "dfx['DistanceLog'] = dfx['Distance'].apply(lambda x: np.log(x))\n",
    "dfx['MilesFlownLog'] = dfx['MilesFlown'].apply(lambda x: np.log(x))\n",
    "dfx.head()"
   ]
  },
  {
   "cell_type": "code",
   "execution_count": 396,
   "metadata": {
    "collapsed": true
   },
   "outputs": [],
   "source": [
    "features = ['Coupons','RoundTrip','DistanceLog','DistanceGroup','MilesFlownLog']"
   ]
  },
  {
   "cell_type": "code",
   "execution_count": 397,
   "metadata": {
    "collapsed": true
   },
   "outputs": [],
   "source": [
    "X_train, X_test, y_train, y_test = train_test_split(dfx[features], df1, test_size = 0.3)"
   ]
  },
  {
   "cell_type": "code",
   "execution_count": 398,
   "metadata": {
    "collapsed": false
   },
   "outputs": [
    {
     "data": {
      "text/html": [
       "<div>\n",
       "<table border=\"1\" class=\"dataframe\">\n",
       "  <thead>\n",
       "    <tr style=\"text-align: right;\">\n",
       "      <th></th>\n",
       "      <th>Coefficients</th>\n",
       "    </tr>\n",
       "  </thead>\n",
       "  <tbody>\n",
       "    <tr>\n",
       "      <th>Coupons</th>\n",
       "      <td>17.015867</td>\n",
       "    </tr>\n",
       "    <tr>\n",
       "      <th>RoundTrip</th>\n",
       "      <td>71.498100</td>\n",
       "    </tr>\n",
       "    <tr>\n",
       "      <th>DistanceLog</th>\n",
       "      <td>81.511171</td>\n",
       "    </tr>\n",
       "    <tr>\n",
       "      <th>DistanceGroup</th>\n",
       "      <td>29.899306</td>\n",
       "    </tr>\n",
       "    <tr>\n",
       "      <th>MilesFlownLog</th>\n",
       "      <td>-136.584702</td>\n",
       "    </tr>\n",
       "  </tbody>\n",
       "</table>\n",
       "</div>"
      ],
      "text/plain": [
       "               Coefficients\n",
       "Coupons           17.015867\n",
       "RoundTrip         71.498100\n",
       "DistanceLog       81.511171\n",
       "DistanceGroup     29.899306\n",
       "MilesFlownLog   -136.584702"
      ]
     },
     "execution_count": 398,
     "metadata": {},
     "output_type": "execute_result"
    }
   ],
   "source": [
    "model2 = lm.fit(X_train,y_train)\n",
    "dfm2 = pd.DataFrame(model2.coef_,X_train.columns,columns = ['Coefficients'])\n",
    "dfm2"
   ]
  },
  {
   "cell_type": "code",
   "execution_count": 399,
   "metadata": {
    "collapsed": false
   },
   "outputs": [
    {
     "data": {
      "text/plain": [
       "582.23852357454905"
      ]
     },
     "execution_count": 399,
     "metadata": {},
     "output_type": "execute_result"
    }
   ],
   "source": [
    "model2.intercept_"
   ]
  },
  {
   "cell_type": "code",
   "execution_count": 400,
   "metadata": {
    "collapsed": false
   },
   "outputs": [
    {
     "data": {
      "text/plain": [
       "<matplotlib.collections.PathCollection at 0x12a272790>"
      ]
     },
     "execution_count": 400,
     "metadata": {},
     "output_type": "execute_result"
    },
    {
     "data": {
      "image/png": "[encoded data removed]",
      "text/plain": [
       "<matplotlib.figure.Figure at 0x12acace10>"
      ]
     },
     "metadata": {},
     "output_type": "display_data"
    }
   ],
   "source": [
    "predictions = model2.predict(X_train)\n",
    "plt.scatter(x = y_train,y = predictions)"
   ]
  },
  {
   "cell_type": "code",
   "execution_count": 401,
   "metadata": {
    "collapsed": false
   },
   "outputs": [
    {
     "name": "stdout",
     "output_type": "stream",
     "text": [
      "R^2 0.132683299057\n",
      "MAE: 146.065651584\n",
      "MSE: 33754.8983743\n",
      "RMSE: 183.725061911\n"
     ]
    }
   ],
   "source": [
    "print \"R^2\", model1.score(X_train,y_train)\n",
    "print 'MAE:', metrics.mean_absolute_error(y_train, predictions)\n",
    "print 'MSE:', metrics.mean_squared_error(y_train, predictions)\n",
    "print 'RMSE:', np.sqrt(metrics.mean_squared_error(y_train, predictions))"
   ]
  },
  {
   "cell_type": "code",
   "execution_count": 402,
   "metadata": {
    "collapsed": false
   },
   "outputs": [
    {
     "data": {
      "text/html": [
       "<div>\n",
       "<table border=\"1\" class=\"dataframe\">\n",
       "  <thead>\n",
       "    <tr style=\"text-align: right;\">\n",
       "      <th></th>\n",
       "      <th>Coefficients</th>\n",
       "    </tr>\n",
       "  </thead>\n",
       "  <tbody>\n",
       "    <tr>\n",
       "      <th>Coupons</th>\n",
       "      <td>17.731318</td>\n",
       "    </tr>\n",
       "    <tr>\n",
       "      <th>RoundTrip</th>\n",
       "      <td>70.822948</td>\n",
       "    </tr>\n",
       "    <tr>\n",
       "      <th>DistanceLog</th>\n",
       "      <td>10.450930</td>\n",
       "    </tr>\n",
       "    <tr>\n",
       "      <th>DistanceGroup</th>\n",
       "      <td>29.834495</td>\n",
       "    </tr>\n",
       "    <tr>\n",
       "      <th>MilesFlownLog</th>\n",
       "      <td>-65.412979</td>\n",
       "    </tr>\n",
       "  </tbody>\n",
       "</table>\n",
       "</div>"
      ],
      "text/plain": [
       "               Coefficients\n",
       "Coupons           17.731318\n",
       "RoundTrip         70.822948\n",
       "DistanceLog       10.450930\n",
       "DistanceGroup     29.834495\n",
       "MilesFlownLog    -65.412979"
      ]
     },
     "execution_count": 402,
     "metadata": {},
     "output_type": "execute_result"
    }
   ],
   "source": [
    "ridge = Ridge(alpha = 100)\n",
    "model2r = ridge.fit(X_train,y_train)\n",
    "dfm2r = pd.DataFrame(model2r.coef_,X_train.columns,columns = ['Coefficients'])\n",
    "dfm2r"
   ]
  },
  {
   "cell_type": "code",
   "execution_count": 403,
   "metadata": {
    "collapsed": false
   },
   "outputs": [
    {
     "data": {
      "text/plain": [
       "0.13252120919186239"
      ]
     },
     "execution_count": 403,
     "metadata": {},
     "output_type": "execute_result"
    }
   ],
   "source": [
    "model2r.score(X_train,y_train)"
   ]
  },
  {
   "cell_type": "code",
   "execution_count": 483,
   "metadata": {
    "collapsed": false
   },
   "outputs": [
    {
     "data": {
      "text/html": [
       "<div>\n",
       "<table border=\"1\" class=\"dataframe\">\n",
       "  <thead>\n",
       "    <tr style=\"text-align: right;\">\n",
       "      <th></th>\n",
       "      <th>Unnamed: 0</th>\n",
       "      <th>ItinID</th>\n",
       "      <th>FarePerMile</th>\n",
       "      <th>Coupons</th>\n",
       "      <th>Origin</th>\n",
       "      <th>RoundTrip</th>\n",
       "      <th>OnLine</th>\n",
       "      <th>RPCarrier</th>\n",
       "      <th>Passengers</th>\n",
       "      <th>Distance</th>\n",
       "      <th>DistanceGroup</th>\n",
       "      <th>MilesFlown</th>\n",
       "      <th>OriginState</th>\n",
       "      <th>Top3</th>\n",
       "      <th>OHare</th>\n",
       "      <th>DistanceLog</th>\n",
       "      <th>MilesFlownLog</th>\n",
       "      <th>Distance2</th>\n",
       "      <th>MilesFlown2</th>\n",
       "    </tr>\n",
       "  </thead>\n",
       "  <tbody>\n",
       "    <tr>\n",
       "      <th>0</th>\n",
       "      <td>303</td>\n",
       "      <td>201611931654</td>\n",
       "      <td>0.3505</td>\n",
       "      <td>2</td>\n",
       "      <td>ORD</td>\n",
       "      <td>0.0</td>\n",
       "      <td>1.0</td>\n",
       "      <td>DL</td>\n",
       "      <td>1.0</td>\n",
       "      <td>1187.0</td>\n",
       "      <td>3</td>\n",
       "      <td>1187.0</td>\n",
       "      <td>IL</td>\n",
       "      <td>0</td>\n",
       "      <td>1</td>\n",
       "      <td>7.079184</td>\n",
       "      <td>7.079184</td>\n",
       "      <td>1408969.0</td>\n",
       "      <td>1408969.0</td>\n",
       "    </tr>\n",
       "    <tr>\n",
       "      <th>1</th>\n",
       "      <td>304</td>\n",
       "      <td>201611935662</td>\n",
       "      <td>0.8851</td>\n",
       "      <td>2</td>\n",
       "      <td>ORD</td>\n",
       "      <td>1.0</td>\n",
       "      <td>1.0</td>\n",
       "      <td>DL</td>\n",
       "      <td>1.0</td>\n",
       "      <td>470.0</td>\n",
       "      <td>1</td>\n",
       "      <td>470.0</td>\n",
       "      <td>IL</td>\n",
       "      <td>0</td>\n",
       "      <td>1</td>\n",
       "      <td>6.152733</td>\n",
       "      <td>6.152733</td>\n",
       "      <td>220900.0</td>\n",
       "      <td>220900.0</td>\n",
       "    </tr>\n",
       "    <tr>\n",
       "      <th>2</th>\n",
       "      <td>464</td>\n",
       "      <td>201612288325</td>\n",
       "      <td>0.3562</td>\n",
       "      <td>2</td>\n",
       "      <td>ORD</td>\n",
       "      <td>1.0</td>\n",
       "      <td>1.0</td>\n",
       "      <td>EV</td>\n",
       "      <td>1.0</td>\n",
       "      <td>1168.0</td>\n",
       "      <td>3</td>\n",
       "      <td>1168.0</td>\n",
       "      <td>IL</td>\n",
       "      <td>0</td>\n",
       "      <td>1</td>\n",
       "      <td>7.063048</td>\n",
       "      <td>7.063048</td>\n",
       "      <td>1364224.0</td>\n",
       "      <td>1364224.0</td>\n",
       "    </tr>\n",
       "    <tr>\n",
       "      <th>3</th>\n",
       "      <td>465</td>\n",
       "      <td>201612288420</td>\n",
       "      <td>0.5086</td>\n",
       "      <td>2</td>\n",
       "      <td>ORD</td>\n",
       "      <td>1.0</td>\n",
       "      <td>0.0</td>\n",
       "      <td>EV</td>\n",
       "      <td>1.0</td>\n",
       "      <td>818.0</td>\n",
       "      <td>2</td>\n",
       "      <td>818.0</td>\n",
       "      <td>IL</td>\n",
       "      <td>0</td>\n",
       "      <td>1</td>\n",
       "      <td>6.706862</td>\n",
       "      <td>6.706862</td>\n",
       "      <td>669124.0</td>\n",
       "      <td>669124.0</td>\n",
       "    </tr>\n",
       "    <tr>\n",
       "      <th>4</th>\n",
       "      <td>466</td>\n",
       "      <td>201612288910</td>\n",
       "      <td>0.2737</td>\n",
       "      <td>2</td>\n",
       "      <td>ORD</td>\n",
       "      <td>1.0</td>\n",
       "      <td>0.0</td>\n",
       "      <td>EV</td>\n",
       "      <td>1.0</td>\n",
       "      <td>1520.0</td>\n",
       "      <td>4</td>\n",
       "      <td>1520.0</td>\n",
       "      <td>IL</td>\n",
       "      <td>0</td>\n",
       "      <td>1</td>\n",
       "      <td>7.326466</td>\n",
       "      <td>7.326466</td>\n",
       "      <td>2310400.0</td>\n",
       "      <td>2310400.0</td>\n",
       "    </tr>\n",
       "  </tbody>\n",
       "</table>\n",
       "</div>"
      ],
      "text/plain": [
       "   Unnamed: 0        ItinID  FarePerMile  Coupons Origin  RoundTrip  OnLine  \\\n",
       "0         303  201611931654       0.3505        2    ORD        0.0     1.0   \n",
       "1         304  201611935662       0.8851        2    ORD        1.0     1.0   \n",
       "2         464  201612288325       0.3562        2    ORD        1.0     1.0   \n",
       "3         465  201612288420       0.5086        2    ORD        1.0     0.0   \n",
       "4         466  201612288910       0.2737        2    ORD        1.0     0.0   \n",
       "\n",
       "  RPCarrier  Passengers  Distance  DistanceGroup  MilesFlown OriginState  \\\n",
       "0        DL         1.0    1187.0              3      1187.0          IL   \n",
       "1        DL         1.0     470.0              1       470.0          IL   \n",
       "2        EV         1.0    1168.0              3      1168.0          IL   \n",
       "3        EV         1.0     818.0              2       818.0          IL   \n",
       "4        EV         1.0    1520.0              4      1520.0          IL   \n",
       "\n",
       "   Top3  OHare  DistanceLog  MilesFlownLog  Distance2  MilesFlown2  \n",
       "0     0      1     7.079184       7.079184  1408969.0    1408969.0  \n",
       "1     0      1     6.152733       6.152733   220900.0     220900.0  \n",
       "2     0      1     7.063048       7.063048  1364224.0    1364224.0  \n",
       "3     0      1     6.706862       6.706862   669124.0     669124.0  \n",
       "4     0      1     7.326466       7.326466  2310400.0    2310400.0  "
      ]
     },
     "execution_count": 483,
     "metadata": {},
     "output_type": "execute_result"
    }
   ],
   "source": [
    "dfx['Distance2'] = dfx['Distance'].apply(lambda x: x ** 2)\n",
    "dfx['MilesFlown2'] = dfx['Distance'].apply(lambda x: x ** 2)\n",
    "dfx.head()\n",
    "#We will square and cube the distances to see if it improves our model"
   ]
  },
  {
   "cell_type": "code",
   "execution_count": 504,
   "metadata": {
    "collapsed": true
   },
   "outputs": [],
   "source": [
    "features = ['Distance2','RoundTrip','Coupons','OHare']"
   ]
  },
  {
   "cell_type": "code",
   "execution_count": 512,
   "metadata": {
    "collapsed": true
   },
   "outputs": [],
   "source": [
    "X_train, X_test, y_train, y_test = train_test_split(dfx[features], df1, test_size = 0.3)"
   ]
  },
  {
   "cell_type": "code",
   "execution_count": 513,
   "metadata": {
    "collapsed": false
   },
   "outputs": [
    {
     "data": {
      "text/html": [
       "<div>\n",
       "<table border=\"1\" class=\"dataframe\">\n",
       "  <thead>\n",
       "    <tr style=\"text-align: right;\">\n",
       "      <th></th>\n",
       "      <th>Coefficients</th>\n",
       "    </tr>\n",
       "  </thead>\n",
       "  <tbody>\n",
       "    <tr>\n",
       "      <th>Distance2</th>\n",
       "      <td>0.000005</td>\n",
       "    </tr>\n",
       "    <tr>\n",
       "      <th>RoundTrip</th>\n",
       "      <td>68.331255</td>\n",
       "    </tr>\n",
       "    <tr>\n",
       "      <th>Coupons</th>\n",
       "      <td>19.400206</td>\n",
       "    </tr>\n",
       "    <tr>\n",
       "      <th>OHare</th>\n",
       "      <td>45.553248</td>\n",
       "    </tr>\n",
       "  </tbody>\n",
       "</table>\n",
       "</div>"
      ],
      "text/plain": [
       "           Coefficients\n",
       "Distance2      0.000005\n",
       "RoundTrip     68.331255\n",
       "Coupons       19.400206\n",
       "OHare         45.553248"
      ]
     },
     "execution_count": 513,
     "metadata": {},
     "output_type": "execute_result"
    }
   ],
   "source": [
    "model3 = lm.fit(X_train,y_train)\n",
    "dfm3 = pd.DataFrame(model3.coef_,X_train.columns,columns = ['Coefficients'])\n",
    "dfm3"
   ]
  },
  {
   "cell_type": "code",
   "execution_count": 507,
   "metadata": {
    "collapsed": false
   },
   "outputs": [
    {
     "data": {
      "text/plain": [
       "0.14138401119542443"
      ]
     },
     "execution_count": 507,
     "metadata": {},
     "output_type": "execute_result"
    }
   ],
   "source": [
    "model3.score(X_train,y_train)"
   ]
  },
  {
   "cell_type": "code",
   "execution_count": null,
   "metadata": {
    "collapsed": true
   },
   "outputs": [],
   "source": [
    "#What if we try using a log function on the target"
   ]
  },
  {
   "cell_type": "code",
   "execution_count": 452,
   "metadata": {
    "collapsed": false
   },
   "outputs": [],
   "source": [
    "df1l = df1.apply(lambda x: np.log(x))\n"
   ]
  },
  {
   "cell_type": "code",
   "execution_count": 496,
   "metadata": {
    "collapsed": false
   },
   "outputs": [],
   "source": [
    "features = ['RoundTrip','Coupons','Distance2','OHare','Top3']"
   ]
  },
  {
   "cell_type": "code",
   "execution_count": 497,
   "metadata": {
    "collapsed": true
   },
   "outputs": [],
   "source": [
    "X_train, X_test, y_train, y_test = train_test_split(dfx[features], df1l, test_size = 0.3)"
   ]
  },
  {
   "cell_type": "code",
   "execution_count": 498,
   "metadata": {
    "collapsed": false
   },
   "outputs": [
    {
     "data": {
      "text/html": [
       "<div>\n",
       "<table border=\"1\" class=\"dataframe\">\n",
       "  <thead>\n",
       "    <tr style=\"text-align: right;\">\n",
       "      <th></th>\n",
       "      <th>Coefficients</th>\n",
       "    </tr>\n",
       "  </thead>\n",
       "  <tbody>\n",
       "    <tr>\n",
       "      <th>RoundTrip</th>\n",
       "      <td>2.345960e-01</td>\n",
       "    </tr>\n",
       "    <tr>\n",
       "      <th>Coupons</th>\n",
       "      <td>6.701470e-02</td>\n",
       "    </tr>\n",
       "    <tr>\n",
       "      <th>Distance2</th>\n",
       "      <td>9.862868e-09</td>\n",
       "    </tr>\n",
       "    <tr>\n",
       "      <th>OHare</th>\n",
       "      <td>1.202211e-01</td>\n",
       "    </tr>\n",
       "    <tr>\n",
       "      <th>Top3</th>\n",
       "      <td>3.694673e-02</td>\n",
       "    </tr>\n",
       "  </tbody>\n",
       "</table>\n",
       "</div>"
      ],
      "text/plain": [
       "           Coefficients\n",
       "RoundTrip  2.345960e-01\n",
       "Coupons    6.701470e-02\n",
       "Distance2  9.862868e-09\n",
       "OHare      1.202211e-01\n",
       "Top3       3.694673e-02"
      ]
     },
     "execution_count": 498,
     "metadata": {},
     "output_type": "execute_result"
    }
   ],
   "source": [
    "model4 = lm.fit(X_train,y_train)\n",
    "dfm4 = pd.DataFrame(model4.coef_,X_train.columns,columns = ['Coefficients'])\n",
    "dfm4"
   ]
  },
  {
   "cell_type": "code",
   "execution_count": 499,
   "metadata": {
    "collapsed": false
   },
   "outputs": [
    {
     "data": {
      "text/plain": [
       "0.14985754552334352"
      ]
     },
     "execution_count": 499,
     "metadata": {},
     "output_type": "execute_result"
    }
   ],
   "source": [
    "model4.score(X_train,y_train)"
   ]
  },
  {
   "cell_type": "code",
   "execution_count": 517,
   "metadata": {
    "collapsed": false
   },
   "outputs": [],
   "source": [
    "dfx['BI'] = [1 if x in ['AA','NK','B6','DL','AS','UA','WN'] else 0 for x in df['RPCarrier']]\n",
    "#Ranking according to Business Insider"
   ]
  },
  {
   "cell_type": "code",
   "execution_count": 527,
   "metadata": {
    "collapsed": true
   },
   "outputs": [],
   "source": [
    "features = ['RoundTrip','Coupons','Distance2','OHare','BI']"
   ]
  },
  {
   "cell_type": "code",
   "execution_count": 528,
   "metadata": {
    "collapsed": true
   },
   "outputs": [],
   "source": [
    "X_train, X_test, y_train, y_test = train_test_split(dfx[features], df1l, test_size = 0.3)"
   ]
  },
  {
   "cell_type": "code",
   "execution_count": 547,
   "metadata": {
    "collapsed": false
   },
   "outputs": [
    {
     "data": {
      "text/html": [
       "<div>\n",
       "<table border=\"1\" class=\"dataframe\">\n",
       "  <thead>\n",
       "    <tr style=\"text-align: right;\">\n",
       "      <th></th>\n",
       "      <th>Coefficients</th>\n",
       "    </tr>\n",
       "  </thead>\n",
       "  <tbody>\n",
       "    <tr>\n",
       "      <th>RoundTrip</th>\n",
       "      <td>2.303793e-01</td>\n",
       "    </tr>\n",
       "    <tr>\n",
       "      <th>Coupons</th>\n",
       "      <td>6.684561e-02</td>\n",
       "    </tr>\n",
       "    <tr>\n",
       "      <th>Distance2</th>\n",
       "      <td>1.107496e-08</td>\n",
       "    </tr>\n",
       "    <tr>\n",
       "      <th>OHare</th>\n",
       "      <td>8.730433e-02</td>\n",
       "    </tr>\n",
       "    <tr>\n",
       "      <th>BI</th>\n",
       "      <td>-7.001235e-02</td>\n",
       "    </tr>\n",
       "  </tbody>\n",
       "</table>\n",
       "</div>"
      ],
      "text/plain": [
       "           Coefficients\n",
       "RoundTrip  2.303793e-01\n",
       "Coupons    6.684561e-02\n",
       "Distance2  1.107496e-08\n",
       "OHare      8.730433e-02\n",
       "BI        -7.001235e-02"
      ]
     },
     "execution_count": 547,
     "metadata": {},
     "output_type": "execute_result"
    },
    {
     "name": "stdout",
     "output_type": "stream",
     "text": [
      "\n"
     ]
    }
   ],
   "source": [
    "model5 = lm.fit(X_train,y_train)\n",
    "dfm5 = pd.DataFrame(model5.coef_,X_train.columns,columns = ['Coefficients'])\n",
    "dfm5"
   ]
  },
  {
   "cell_type": "code",
   "execution_count": 548,
   "metadata": {
    "collapsed": true
   },
   "outputs": [],
   "source": [
    "predictions = model5.predict(X_train)"
   ]
  },
  {
   "cell_type": "code",
   "execution_count": 549,
   "metadata": {
    "collapsed": false
   },
   "outputs": [
    {
     "name": "stdout",
     "output_type": "stream",
     "text": [
      "R^2 0.150059560731\n",
      "MAE: 0.386693050604\n",
      "MSE: 0.2257489587\n",
      "RMSE: 0.475130464925\n"
     ]
    }
   ],
   "source": [
    "print \"R^2\", model5.score(X_train,y_train)\n",
    "print 'MAE:', metrics.mean_absolute_error(y_train, predictions)\n",
    "print 'MSE:', metrics.mean_squared_error(y_train, predictions)\n",
    "print 'RMSE:', np.sqrt(metrics.mean_squared_error(y_train, predictions))"
   ]
  },
  {
   "cell_type": "code",
   "execution_count": 531,
   "metadata": {
    "collapsed": false
   },
   "outputs": [
    {
     "data": {
      "text/plain": [
       "0.15005956073080562"
      ]
     },
     "execution_count": 531,
     "metadata": {},
     "output_type": "execute_result"
    }
   ],
   "source": [
    "model5.score(X_train,y_train)"
   ]
  },
  {
   "cell_type": "code",
   "execution_count": 536,
   "metadata": {
    "collapsed": false
   },
   "outputs": [
    {
     "data": {
      "text/html": [
       "<div>\n",
       "<table border=\"1\" class=\"dataframe\">\n",
       "  <thead>\n",
       "    <tr style=\"text-align: right;\">\n",
       "      <th></th>\n",
       "      <th>Coefficients</th>\n",
       "    </tr>\n",
       "  </thead>\n",
       "  <tbody>\n",
       "    <tr>\n",
       "      <th>RoundTrip</th>\n",
       "      <td>2.287720e-01</td>\n",
       "    </tr>\n",
       "    <tr>\n",
       "      <th>Coupons</th>\n",
       "      <td>6.713439e-02</td>\n",
       "    </tr>\n",
       "    <tr>\n",
       "      <th>Distance2</th>\n",
       "      <td>1.108051e-08</td>\n",
       "    </tr>\n",
       "    <tr>\n",
       "      <th>OHare</th>\n",
       "      <td>8.673123e-02</td>\n",
       "    </tr>\n",
       "    <tr>\n",
       "      <th>BI</th>\n",
       "      <td>-6.977666e-02</td>\n",
       "    </tr>\n",
       "  </tbody>\n",
       "</table>\n",
       "</div>"
      ],
      "text/plain": [
       "           Coefficients\n",
       "RoundTrip  2.287720e-01\n",
       "Coupons    6.713439e-02\n",
       "Distance2  1.108051e-08\n",
       "OHare      8.673123e-02\n",
       "BI        -6.977666e-02"
      ]
     },
     "execution_count": 536,
     "metadata": {},
     "output_type": "execute_result"
    }
   ],
   "source": [
    "ridge = Ridge(alpha = 100)\n",
    "model5r = ridge.fit(X_train,y_train)\n",
    "dfm5r = pd.DataFrame(model5r.coef_,X_train.columns,columns = ['Coefficients'])\n",
    "dfm5r"
   ]
  },
  {
   "cell_type": "code",
   "execution_count": 537,
   "metadata": {
    "collapsed": false
   },
   "outputs": [
    {
     "data": {
      "text/plain": [
       "0.15005774959251839"
      ]
     },
     "execution_count": 537,
     "metadata": {},
     "output_type": "execute_result"
    }
   ],
   "source": [
    "model5r.score(X_train,y_train)"
   ]
  },
  {
   "cell_type": "code",
   "execution_count": null,
   "metadata": {
    "collapsed": true
   },
   "outputs": [],
   "source": [
    "#15% is the highest I could achieve based on the workings above, so we will be using model5"
   ]
  },
  {
   "cell_type": "code",
   "execution_count": 538,
   "metadata": {
    "collapsed": false
   },
   "outputs": [
    {
     "data": {
      "text/plain": [
       "0.15243235382570219"
      ]
     },
     "execution_count": 538,
     "metadata": {},
     "output_type": "execute_result"
    }
   ],
   "source": [
    "model5.score(X_test,y_test)"
   ]
  },
  {
   "cell_type": "code",
   "execution_count": 550,
   "metadata": {
    "collapsed": true
   },
   "outputs": [],
   "source": [
    "predictions = model5.predict(X_test)\n"
   ]
  },
  {
   "cell_type": "code",
   "execution_count": 551,
   "metadata": {
    "collapsed": false
   },
   "outputs": [
    {
     "data": {
      "text/plain": [
       "<seaborn.axisgrid.JointGrid at 0x126aac310>"
      ]
     },
     "execution_count": 551,
     "metadata": {},
     "output_type": "execute_result"
    },
    {
     "data": {
      "image/png": "[encoded data removed]",
      "text/plain": [
       "<matplotlib.figure.Figure at 0x126aacfd0>"
      ]
     },
     "metadata": {},
     "output_type": "display_data"
    }
   ],
   "source": [
    "sns.jointplot(x = y_test, y = pd.Series(predictions), kind = 'scatter')"
   ]
  },
  {
   "cell_type": "code",
   "execution_count": 552,
   "metadata": {
    "collapsed": false
   },
   "outputs": [
    {
     "name": "stdout",
     "output_type": "stream",
     "text": [
      "R^2 0.152432353826\n",
      "MAE: 0.387178537523\n",
      "MSE: 0.22649489954\n",
      "RMSE: 0.475914802817\n"
     ]
    }
   ],
   "source": [
    "print \"R^2\", model5.score(X_test,y_test)\n",
    "print 'MAE:', metrics.mean_absolute_error(y_test, predictions)\n",
    "print 'MSE:', metrics.mean_squared_error(y_test, predictions)\n",
    "print 'RMSE:', np.sqrt(metrics.mean_squared_error(y_test, predictions))"
   ]
  },
  {
   "cell_type": "code",
   "execution_count": 553,
   "metadata": {
    "collapsed": false
   },
   "outputs": [
    {
     "data": {
      "text/html": [
       "<div>\n",
       "<table border=\"1\" class=\"dataframe\">\n",
       "  <thead>\n",
       "    <tr style=\"text-align: right;\">\n",
       "      <th></th>\n",
       "      <th>Coefficients</th>\n",
       "    </tr>\n",
       "  </thead>\n",
       "  <tbody>\n",
       "    <tr>\n",
       "      <th>RoundTrip</th>\n",
       "      <td>2.303793e-01</td>\n",
       "    </tr>\n",
       "    <tr>\n",
       "      <th>Coupons</th>\n",
       "      <td>6.684561e-02</td>\n",
       "    </tr>\n",
       "    <tr>\n",
       "      <th>Distance2</th>\n",
       "      <td>1.107496e-08</td>\n",
       "    </tr>\n",
       "    <tr>\n",
       "      <th>OHare</th>\n",
       "      <td>8.730433e-02</td>\n",
       "    </tr>\n",
       "    <tr>\n",
       "      <th>BI</th>\n",
       "      <td>-7.001235e-02</td>\n",
       "    </tr>\n",
       "  </tbody>\n",
       "</table>\n",
       "</div>"
      ],
      "text/plain": [
       "           Coefficients\n",
       "RoundTrip  2.303793e-01\n",
       "Coupons    6.684561e-02\n",
       "Distance2  1.107496e-08\n",
       "OHare      8.730433e-02\n",
       "BI        -7.001235e-02"
      ]
     },
     "execution_count": 553,
     "metadata": {},
     "output_type": "execute_result"
    }
   ],
   "source": [
    "dfm5"
   ]
  },
  {
   "cell_type": "code",
   "execution_count": 554,
   "metadata": {
    "collapsed": false
   },
   "outputs": [
    {
     "data": {
      "text/plain": [
       "5.4654181422775316"
      ]
     },
     "execution_count": 554,
     "metadata": {},
     "output_type": "execute_result"
    }
   ],
   "source": [
    "model5.intercept_"
   ]
  },
  {
   "cell_type": "code",
   "execution_count": 1,
   "metadata": {
    "collapsed": true
   },
   "outputs": [],
   "source": [
    "#We are using log(ItinFare) as the target, and it seems like RoundTrip has the biggest effect on log(ItinFare)"
   ]
  },
  {
   "cell_type": "code",
   "execution_count": null,
   "metadata": {
    "collapsed": true
   },
   "outputs": [],
   "source": [
    "#Would appreciate if you can share how Richard got a R^2 of 40%, thanks!"
   ]
  }
 ],
 "metadata": {
  "kernelspec": {
   "display_name": "Python 2",
   "language": "python",
   "name": "python2"
  },
  "language_info": {
   "codemirror_mode": {
    "name": "ipython",
    "version": 2
   },
   "file_extension": ".py",
   "mimetype": "text/x-python",
   "name": "python",
   "nbconvert_exporter": "python",
   "pygments_lexer": "ipython2",
   "version": "2.7.13"
  }
 },
 "nbformat": 4,
 "nbformat_minor": 2
}
