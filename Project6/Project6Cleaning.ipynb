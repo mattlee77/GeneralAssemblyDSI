{
 "cells": [
  {
   "cell_type": "code",
   "execution_count": 27,
   "metadata": {
    "collapsed": true
   },
   "outputs": [],
   "source": [
    "import pandas as pd\n",
    "import numpy as np\n",
    "import matplotlib.pyplot as plt\n",
    "import seaborn as sns\n",
    "from datetime import datetime\n",
    "from sklearn.linear_model import LogisticRegression\n",
    "from sklearn.neighbors import KNeighborsClassifier\n",
    "from sklearn.feature_selection import SelectKBest, RFE\n",
    "from sklearn.model_selection import GridSearchCV, cross_val_score, train_test_split\n",
    "from sklearn import metrics\n",
    "from sklearn.preprocessing import FunctionTransformer,Binarizer, Imputer, LabelBinarizer\n",
    "from sklearn.pipeline import Pipeline\n",
    "from sklearn.pipeline import make_pipeline, make_union, FeatureUnion\n",
    "from sklearn.preprocessing import StandardScaler\n",
    "from sklearn.ensemble import AdaBoostClassifier, RandomForestClassifier, ExtraTreesClassifier, BaggingClassifier, GradientBoostingClassifier\n",
    "%matplotlib inline"
   ]
  },
  {
   "cell_type": "code",
   "execution_count": 28,
   "metadata": {
    "collapsed": false
   },
   "outputs": [],
   "source": [
    "df = pd.read_csv('dffinal.csv')\n",
    "df.drop('Unnamed: 0', axis = 1, inplace = True)\n",
    "df.drop('Response', axis = 1, inplace = True)\n",
    "df.drop('Type', axis = 1, inplace = True)"
   ]
  },
  {
   "cell_type": "code",
   "execution_count": 22,
   "metadata": {
    "collapsed": false
   },
   "outputs": [
    {
     "data": {
      "text/plain": [
       "Actors         object\n",
       "Awards         object\n",
       "Country        object\n",
       "Director       object\n",
       "Genre          object\n",
       "Language       object\n",
       "Metascore     float64\n",
       "Plot           object\n",
       "Poster         object\n",
       "Rated          object\n",
       "Released       object\n",
       "Runtime        object\n",
       "Title          object\n",
       "Writer         object\n",
       "Year            int64\n",
       "imdbID         object\n",
       "imdbRating    float64\n",
       "imdbVotes      object\n",
       "top250          int64\n",
       "dtype: object"
      ]
     },
     "execution_count": 22,
     "metadata": {},
     "output_type": "execute_result"
    }
   ],
   "source": [
    "df.dtypes"
   ]
  },
  {
   "cell_type": "code",
   "execution_count": 284,
   "metadata": {
    "collapsed": false
   },
   "outputs": [],
   "source": [
    "pd.set_option(\"display.max_columns\", 35)\n",
    "pd.set_option(\"display.max_rows\", 501)"
   ]
  },
  {
   "cell_type": "code",
   "execution_count": 23,
   "metadata": {
    "collapsed": false
   },
   "outputs": [
    {
     "data": {
      "text/html": [
       "<div>\n",
       "<table border=\"1\" class=\"dataframe\">\n",
       "  <thead>\n",
       "    <tr style=\"text-align: right;\">\n",
       "      <th></th>\n",
       "      <th>Actors</th>\n",
       "      <th>Awards</th>\n",
       "      <th>Country</th>\n",
       "      <th>Director</th>\n",
       "      <th>Genre</th>\n",
       "      <th>Language</th>\n",
       "      <th>Metascore</th>\n",
       "      <th>Plot</th>\n",
       "      <th>Poster</th>\n",
       "      <th>Rated</th>\n",
       "      <th>Released</th>\n",
       "      <th>Runtime</th>\n",
       "      <th>Title</th>\n",
       "      <th>Writer</th>\n",
       "      <th>Year</th>\n",
       "      <th>imdbID</th>\n",
       "      <th>imdbRating</th>\n",
       "      <th>imdbVotes</th>\n",
       "      <th>top250</th>\n",
       "    </tr>\n",
       "  </thead>\n",
       "  <tbody>\n",
       "    <tr>\n",
       "      <th>0</th>\n",
       "      <td>Tim Robbins, Morgan Freeman, Bob Gunton, Willi...</td>\n",
       "      <td>Nominated for 7 Oscars. Another 19 wins &amp; 30 n...</td>\n",
       "      <td>USA</td>\n",
       "      <td>Frank Darabont</td>\n",
       "      <td>Crime, Drama</td>\n",
       "      <td>English</td>\n",
       "      <td>80.0</td>\n",
       "      <td>Two imprisoned men bond over a number of years...</td>\n",
       "      <td>https://images-na.ssl-images-amazon.com/images...</td>\n",
       "      <td>R</td>\n",
       "      <td>14 Oct 1994</td>\n",
       "      <td>142 min</td>\n",
       "      <td>The Shawshank Redemption</td>\n",
       "      <td>Stephen King (short story \"Rita Hayworth and S...</td>\n",
       "      <td>1994</td>\n",
       "      <td>tt0111161</td>\n",
       "      <td>9.3</td>\n",
       "      <td>1,786,262</td>\n",
       "      <td>1</td>\n",
       "    </tr>\n",
       "    <tr>\n",
       "      <th>1</th>\n",
       "      <td>Marlon Brando, Al Pacino, James Caan, Richard ...</td>\n",
       "      <td>Won 3 Oscars. Another 23 wins &amp; 27 nominations.</td>\n",
       "      <td>USA</td>\n",
       "      <td>Francis Ford Coppola</td>\n",
       "      <td>Crime, Drama</td>\n",
       "      <td>English, Italian, Latin</td>\n",
       "      <td>100.0</td>\n",
       "      <td>The aging patriarch of an organized crime dyna...</td>\n",
       "      <td>https://images-na.ssl-images-amazon.com/images...</td>\n",
       "      <td>R</td>\n",
       "      <td>24 Mar 1972</td>\n",
       "      <td>175 min</td>\n",
       "      <td>The Godfather</td>\n",
       "      <td>Mario Puzo (screenplay), Francis Ford Coppola ...</td>\n",
       "      <td>1972</td>\n",
       "      <td>tt0068646</td>\n",
       "      <td>9.2</td>\n",
       "      <td>1,219,320</td>\n",
       "      <td>1</td>\n",
       "    </tr>\n",
       "  </tbody>\n",
       "</table>\n",
       "</div>"
      ],
      "text/plain": [
       "                                              Actors  \\\n",
       "0  Tim Robbins, Morgan Freeman, Bob Gunton, Willi...   \n",
       "1  Marlon Brando, Al Pacino, James Caan, Richard ...   \n",
       "\n",
       "                                              Awards Country  \\\n",
       "0  Nominated for 7 Oscars. Another 19 wins & 30 n...     USA   \n",
       "1    Won 3 Oscars. Another 23 wins & 27 nominations.     USA   \n",
       "\n",
       "               Director         Genre                 Language  Metascore  \\\n",
       "0        Frank Darabont  Crime, Drama                  English       80.0   \n",
       "1  Francis Ford Coppola  Crime, Drama  English, Italian, Latin      100.0   \n",
       "\n",
       "                                                Plot  \\\n",
       "0  Two imprisoned men bond over a number of years...   \n",
       "1  The aging patriarch of an organized crime dyna...   \n",
       "\n",
       "                                              Poster Rated     Released  \\\n",
       "0  https://images-na.ssl-images-amazon.com/images...     R  14 Oct 1994   \n",
       "1  https://images-na.ssl-images-amazon.com/images...     R  24 Mar 1972   \n",
       "\n",
       "   Runtime                     Title  \\\n",
       "0  142 min  The Shawshank Redemption   \n",
       "1  175 min             The Godfather   \n",
       "\n",
       "                                              Writer  Year     imdbID  \\\n",
       "0  Stephen King (short story \"Rita Hayworth and S...  1994  tt0111161   \n",
       "1  Mario Puzo (screenplay), Francis Ford Coppola ...  1972  tt0068646   \n",
       "\n",
       "   imdbRating  imdbVotes  top250  \n",
       "0         9.3  1,786,262       1  \n",
       "1         9.2  1,219,320       1  "
      ]
     },
     "execution_count": 23,
     "metadata": {},
     "output_type": "execute_result"
    }
   ],
   "source": [
    "df.head(2)"
   ]
  },
  {
   "cell_type": "markdown",
   "metadata": {},
   "source": [
    "Actors\n",
    "--\n",
    "This appears to be the first four names in the Cast section. Maybe we can make dummy variables if 'x' actor/actress was in the movie."
   ]
  },
  {
   "cell_type": "code",
   "execution_count": 24,
   "metadata": {
    "collapsed": false
   },
   "outputs": [
    {
     "data": {
      "text/plain": [
       "'Liam Neeson, Ben Kingsley, Ralph Fiennes, Caroline Goodall'"
      ]
     },
     "execution_count": 24,
     "metadata": {},
     "output_type": "execute_result"
    }
   ],
   "source": [
    "df['Actors'][5]"
   ]
  },
  {
   "cell_type": "markdown",
   "metadata": {},
   "source": [
    "Awards\n",
    "--\n",
    "We can create columns for Oscar wins, other wins, and nominations"
   ]
  },
  {
   "cell_type": "code",
   "execution_count": 29,
   "metadata": {
    "collapsed": false
   },
   "outputs": [],
   "source": [
    "df['Awards'].fillna('0 wins', inplace = True)"
   ]
  },
  {
   "cell_type": "code",
   "execution_count": 209,
   "metadata": {
    "collapsed": false
   },
   "outputs": [
    {
     "data": {
      "text/plain": [
       "' 1 Oscar. Another 9 wins & 13 nominations.'"
      ]
     },
     "execution_count": 209,
     "metadata": {},
     "output_type": "execute_result"
    }
   ],
   "source": [
    "df['Awards'][116].split('Won')[1]#.split('Oscar')[0].strip()"
   ]
  },
  {
   "cell_type": "code",
   "execution_count": 30,
   "metadata": {
    "collapsed": false
   },
   "outputs": [],
   "source": [
    "def oscars(series):\n",
    "    split = series.split('Won')\n",
    "    if len(split) < 2:\n",
    "        return 0\n",
    "    else:\n",
    "        if 'Oscar' not in split[1]:\n",
    "            return 0\n",
    "        else:\n",
    "            return split[1].split('Oscar')[0].strip()"
   ]
  },
  {
   "cell_type": "code",
   "execution_count": 31,
   "metadata": {
    "collapsed": false
   },
   "outputs": [],
   "source": [
    "df['OscarsWin'] = df['Awards'].apply(oscars)"
   ]
  },
  {
   "cell_type": "code",
   "execution_count": 211,
   "metadata": {
    "collapsed": false
   },
   "outputs": [
    {
     "data": {
      "text/plain": [
       "0     377\n",
       "1      42\n",
       "2      23\n",
       "4      18\n",
       "3      15\n",
       "5       9\n",
       "6       5\n",
       "7       5\n",
       "8       4\n",
       "11      2\n",
       "Name: OscarsWin, dtype: int64"
      ]
     },
     "execution_count": 211,
     "metadata": {},
     "output_type": "execute_result"
    }
   ],
   "source": [
    "df['OscarsWin'].value_counts()"
   ]
  },
  {
   "cell_type": "code",
   "execution_count": 171,
   "metadata": {
    "collapsed": false
   },
   "outputs": [
    {
     "data": {
      "text/plain": [
       "'Nominated for 1 BAFTA Film Award. Another 2 wins & 1 nomination.'"
      ]
     },
     "execution_count": 171,
     "metadata": {},
     "output_type": "execute_result"
    }
   ],
   "source": [
    "df['Awards'][309]"
   ]
  },
  {
   "cell_type": "code",
   "execution_count": 212,
   "metadata": {
    "collapsed": false
   },
   "outputs": [
    {
     "data": {
      "text/plain": [
       "'23'"
      ]
     },
     "execution_count": 212,
     "metadata": {},
     "output_type": "execute_result"
    }
   ],
   "source": [
    "df['Awards'][1].split('Another')[1].split()[0]"
   ]
  },
  {
   "cell_type": "code",
   "execution_count": 213,
   "metadata": {
    "collapsed": false
   },
   "outputs": [
    {
     "data": {
      "text/plain": [
       "'30'"
      ]
     },
     "execution_count": 213,
     "metadata": {},
     "output_type": "execute_result"
    }
   ],
   "source": [
    "df['Awards'][0].split('&')[1].split('nominations')[0].strip()"
   ]
  },
  {
   "cell_type": "code",
   "execution_count": 32,
   "metadata": {
    "collapsed": true
   },
   "outputs": [],
   "source": [
    "def nominations(series):\n",
    "    nom = 0\n",
    "    split = series.split('for')\n",
    "    if len(split) > 1:\n",
    "        nom += int(split[1].split()[0])\n",
    "    else:\n",
    "        nom += 0\n",
    "    newsplit = series.split('&')\n",
    "    if len(newsplit) > 1:\n",
    "        nom += int(newsplit[1].split()[0])\n",
    "    else:\n",
    "        nom += 0\n",
    "    return nom"
   ]
  },
  {
   "cell_type": "code",
   "execution_count": 33,
   "metadata": {
    "collapsed": false
   },
   "outputs": [],
   "source": [
    "df['Nominations'] = df['Awards'].apply(nominations)"
   ]
  },
  {
   "cell_type": "code",
   "execution_count": 34,
   "metadata": {
    "collapsed": true
   },
   "outputs": [],
   "source": [
    "def otherwins(series):\n",
    "    split = series.split('Another')\n",
    "    if len(split) > 1:\n",
    "        return split[1].split()[0]\n",
    "    else:\n",
    "        return 0"
   ]
  },
  {
   "cell_type": "code",
   "execution_count": 175,
   "metadata": {
    "collapsed": false
   },
   "outputs": [
    {
     "data": {
      "text/plain": [
       "'1 win & 2 nominations.'"
      ]
     },
     "execution_count": 175,
     "metadata": {},
     "output_type": "execute_result"
    }
   ],
   "source": [
    "df['Awards'][8]"
   ]
  },
  {
   "cell_type": "code",
   "execution_count": 35,
   "metadata": {
    "collapsed": false
   },
   "outputs": [],
   "source": [
    "df['OtherWins'] = df['Awards'].apply(otherwins)"
   ]
  },
  {
   "cell_type": "markdown",
   "metadata": {},
   "source": [
    "Country\n",
    "--\n",
    "Since most movies come from USA, we will just make a dummy variable to classify if movies are from USA."
   ]
  },
  {
   "cell_type": "code",
   "execution_count": 36,
   "metadata": {
    "collapsed": false
   },
   "outputs": [],
   "source": [
    "df['USA'] = df['Country'].apply(lambda x: 1 if 'USA' in x else 0)"
   ]
  },
  {
   "cell_type": "markdown",
   "metadata": {},
   "source": [
    "Director\n",
    "--\n",
    "We can try to create dummy variables for directors who have appeared in the top 250 list for a certain number of times"
   ]
  },
  {
   "cell_type": "code",
   "execution_count": 193,
   "metadata": {
    "collapsed": false
   },
   "outputs": [
    {
     "data": {
      "text/plain": [
       "Stanley Kubrick      7\n",
       "Christopher Nolan    7\n",
       "Alfred Hitchcock     7\n",
       "Martin Scorsese      7\n",
       "Steven Spielberg     7\n",
       "Hayao Miyazaki       5\n",
       "Akira Kurosawa       5\n",
       "Charles Chaplin      5\n",
       "Billy Wilder         5\n",
       "Name: Director, dtype: int64"
      ]
     },
     "execution_count": 193,
     "metadata": {},
     "output_type": "execute_result"
    }
   ],
   "source": [
    "df.loc[df['top250'] == 1, 'Director'].value_counts().head(9)\n",
    "#cutoff at 5?"
   ]
  },
  {
   "cell_type": "markdown",
   "metadata": {},
   "source": [
    "Genre\n",
    "--\n",
    "We can create dummy columns of genres"
   ]
  },
  {
   "cell_type": "code",
   "execution_count": 194,
   "metadata": {
    "collapsed": false
   },
   "outputs": [
    {
     "data": {
      "text/plain": [
       "Drama                            29\n",
       "Comedy, Drama, Romance           17\n",
       "Comedy                           16\n",
       "Crime, Drama                     16\n",
       "Crime, Drama, Mystery            14\n",
       "Comedy, Drama                    13\n",
       "Comedy, Romance                  12\n",
       "Animation, Adventure, Comedy     11\n",
       "Biography, Drama, History        11\n",
       "Crime, Drama, Thriller           11\n",
       "Horror                           11\n",
       "Drama, War                        9\n",
       "Action, Adventure, Fantasy        8\n",
       "Drama, Romance                    8\n",
       "Action, Comedy, Crime             7\n",
       "Biography, Crime, Drama           7\n",
       "Action, Crime, Drama              6\n",
       "Action, Adventure, Drama          6\n",
       "Action, Adventure, Sci-Fi         6\n",
       "Action, Crime, Thriller           6\n",
       "Drama, Mystery, Thriller          5\n",
       "Drama, Thriller                   5\n",
       "Comedy, Crime, Drama              5\n",
       "Adventure, Drama, Fantasy         5\n",
       "Action, Adventure, Comedy         5\n",
       "Adventure, Family, Fantasy        4\n",
       "Crime, Drama, Romance             4\n",
       "Western                           4\n",
       "Biography, Drama                  4\n",
       "Action, Sci-Fi                    4\n",
       "Action, Adventure, Mystery        4\n",
       "Drama, Sport                      4\n",
       "Mystery, Thriller                 4\n",
       "Comedy, Horror                    4\n",
       "Animation, Adventure, Family      4\n",
       "Comedy, Drama, Family             4\n",
       "Adventure, Biography, Drama       4\n",
       "Drama, Music                      4\n",
       "Action, Biography, Drama          3\n",
       "Drama, Horror, Mystery            3\n",
       "Action, Thriller                  3\n",
       "Adventure, Drama                  3\n",
       "Action, Drama, Thriller           3\n",
       "Adventure, Comedy, Drama          3\n",
       "Drama, Mystery, Sci-Fi            3\n",
       "Adventure, Drama, Thriller        3\n",
       "Comedy, Fantasy, Horror           3\n",
       "Drama, Horror, Sci-Fi             3\n",
       "Drama, Mystery                    3\n",
       "Adventure, Drama, History         3\n",
       "Drama, History, War               3\n",
       "Drama, Fantasy                    3\n",
       "Action, Drama                     2\n",
       "Crime, Drama, Film-Noir           2\n",
       "Biography, Drama, Sport           2\n",
       "Animation, Adventure, Fantasy     2\n",
       "Action, Adventure, Thriller       2\n",
       "Horror, Sci-Fi, Thriller          2\n",
       "Action, Adventure                 2\n",
       "Animation, Action, Adventure      2\n",
       "Adventure, Drama, War             2\n",
       "Action, Fantasy, Horror           2\n",
       "Comedy, Music                     2\n",
       "Crime, Drama, Horror              2\n",
       "Drama, Romance, Sci-Fi            2\n",
       "Drama, Family, Fantasy            2\n",
       "Drama, History                    2\n",
       "Comedy, Crime                     2\n",
       "Drama, Romance, War               2\n",
       "Drama, Family                     2\n",
       "Action, Drama, Sci-Fi             2\n",
       "Horror, Mystery                   2\n",
       "Action, Horror, Sci-Fi            2\n",
       "Drama, Mystery, Romance           2\n",
       "Horror, Mystery, Thriller         2\n",
       "Horror, Mystery, Sci-Fi           2\n",
       "Action, Mystery, Thriller         2\n",
       "Comedy, Fantasy, Romance          2\n",
       "Comedy, Drama, War                2\n",
       "Adventure, Comedy, Fantasy        2\n",
       "Crime, Film-Noir, Thriller        2\n",
       "Documentary                       2\n",
       "Drama, Sci-Fi                     2\n",
       "Drama, Western                    2\n",
       "Action, Biography, Crime          2\n",
       "Action, Comedy                    2\n",
       "Action, Adventure, Biography      2\n",
       "Drama, Horror, Thriller           2\n",
       "Drama, Fantasy, Romance           1\n",
       "Action, Comedy, Romance           1\n",
       "Mystery, Sci-Fi, Thriller         1\n",
       "Action, Drama, Sport              1\n",
       "Adventure, Comedy, Western        1\n",
       "Adventure, Drama, Western         1\n",
       "Drama, Mystery, War               1\n",
       "Comedy, Romance, Sport            1\n",
       "Horror, Sci-Fi                    1\n",
       "Action, Sci-Fi, Thriller          1\n",
       "Crime, Film-Noir, Mystery         1\n",
       "Comedy, Drama, Musical            1\n",
       "Drama, Fantasy, Thriller          1\n",
       "Romance, Adventure, Drama         1\n",
       "Action, Comedy, Mystery           1\n",
       "Comedy, Drama, Thriller           1\n",
       "Comedy, Drama, Fantasy            1\n",
       "Action, Sport                     1\n",
       "Comedy, Family, Romance           1\n",
       "Adventure, Drama, Romance         1\n",
       "Animation, Comedy, Drama          1\n",
       "Adventure, Sci-Fi                 1\n",
       "Comedy, Drama, Music              1\n",
       "Adventure, Drama, Musical         1\n",
       "Mystery, Romance, Thriller        1\n",
       "Drama, Horror                     1\n",
       "Comedy, Sci-Fi, Thriller          1\n",
       "Sci-Fi                            1\n",
       "Drama, Family, Music              1\n",
       "Crime, Thriller                   1\n",
       "Comedy, Horror, Thriller          1\n",
       "Animation, Drama, War             1\n",
       "Horror, Thriller                  1\n",
       "Comedy, Family                    1\n",
       "Drama, Romance, Thriller          1\n",
       "Comedy, Crime, Romance            1\n",
       "Adventure, Comedy, Horror         1\n",
       "Adventure, Drama, Horror          1\n",
       "Adventure, Comedy, Sci-Fi         1\n",
       "Drama, Family, Romance            1\n",
       "Crime, Drama, Music               1\n",
       "Adventure, Drama, Sci-Fi          1\n",
       "Comedy, Musical, Romance          1\n",
       "Biography, Drama, War             1\n",
       "Drama, Music, Romance             1\n",
       "Comedy, Drama, History            1\n",
       "Sci-Fi, Action                    1\n",
       "Biography, Drama, Romance         1\n",
       "Biography, Drama, Western         1\n",
       "Crime, Drama, Sci-Fi              1\n",
       "Adventure, Horror, Thriller       1\n",
       "Film-Noir, Mystery, Thriller      1\n",
       "Comedy, Action                    1\n",
       "Drama, Fantasy, War               1\n",
       "Animation, Family, Fantasy        1\n",
       "Adventure, Drama, Family          1\n",
       "Action                            1\n",
       "Action, Comedy, Horror            1\n",
       "Comedy, Crime, Mystery            1\n",
       "Sci-Fi, Thriller                  1\n",
       "Family, Fantasy, Musical          1\n",
       "Drama, Horror, Romance            1\n",
       "Crime, Drama, Fantasy             1\n",
       "Animation, Adventure, Drama       1\n",
       "Comedy, Western                   1\n",
       "Adventure, Comedy, Family         1\n",
       "Adventure, Sci-Fi, Thriller       1\n",
       "Biography, Comedy, Crime          1\n",
       "Biography, Drama, Music           1\n",
       "Drama, Sci-Fi, Thriller           1\n",
       "Fantasy, Mystery, Thriller        1\n",
       "Comedy, Crime, Thriller           1\n",
       "Comedy, Drama, Mystery            1\n",
       "Action, Comedy, Drama             1\n",
       "Comedy, Sport                     1\n",
       "Biography, Comedy, Drama          1\n",
       "Comedy, Drama, Sci-Fi             1\n",
       "Comedy, Family, Fantasy           1\n",
       "Comedy, Family, Sport             1\n",
       "Drama, Film-Noir                  1\n",
       "Sci-Fi, Horror                    1\n",
       "Drama, History, Romance           1\n",
       "Crime, Drama, History             1\n",
       "Documentary, Comedy               1\n",
       "Documentary, Biography            1\n",
       "Name: Genre, dtype: int64"
      ]
     },
     "execution_count": 194,
     "metadata": {},
     "output_type": "execute_result"
    }
   ],
   "source": [
    "df['Genre'].value_counts()"
   ]
  },
  {
   "cell_type": "markdown",
   "metadata": {},
   "source": [
    "Language\n",
    "--\n",
    "We can create dummy variables of language"
   ]
  },
  {
   "cell_type": "code",
   "execution_count": 195,
   "metadata": {
    "collapsed": false
   },
   "outputs": [
    {
     "data": {
      "text/plain": [
       "English                                                                  265\n",
       "English, Spanish                                                          23\n",
       "English, French                                                           19\n",
       "Japanese                                                                  11\n",
       "Hindi                                                                      9\n",
       "Italian                                                                    7\n",
       "English, Russian                                                           6\n",
       "English, German                                                            6\n",
       "Spanish                                                                    5\n",
       "French                                                                     4\n",
       "German                                                                     3\n",
       "French, English                                                            3\n",
       "English, Italian                                                           3\n",
       "English, Arabic                                                            3\n",
       "English, Japanese                                                          3\n",
       "Hindi, English                                                             3\n",
       "Turkish                                                                    2\n",
       "English, German, Russian                                                   2\n",
       "English, Vietnamese                                                        2\n",
       "English, Spanish, French                                                   2\n",
       "English, German, French, Italian                                           2\n",
       "Russian, German                                                            2\n",
       "English, Danish                                                            2\n",
       "English, Hindi                                                             2\n",
       "Persian                                                                    2\n",
       "Portuguese                                                                 2\n",
       "Italian, English                                                           2\n",
       "English, Italian, French                                                   2\n",
       "Swedish, Latin                                                             2\n",
       "English, Japanese, French                                                  2\n",
       "French, Arabic, English                                                    2\n",
       "Japanese, English                                                          2\n",
       "English, American Sign Language                                            2\n",
       "English, German, French                                                    2\n",
       "English, Welsh, Italian, Latin, Russian, Hungarian                         1\n",
       "English, Thai, Spanish, Hebrew, French                                     1\n",
       "English, Russian, Vietnamese, French                                       1\n",
       "English, Cantonese, Korean                                                 1\n",
       "English, Romanian                                                          1\n",
       "Swedish, English                                                           1\n",
       "English, Hungarian, Spanish, French                                        1\n",
       "English, Hmong                                                             1\n",
       "English, Sindarin                                                          1\n",
       "Korean                                                                     1\n",
       "English, French, Italian                                                   1\n",
       "English, Latin, French                                                     1\n",
       "English, Tamil                                                             1\n",
       "English, Latin                                                             1\n",
       "Italian, Spanish                                                           1\n",
       "English, Hebrew, German, Polish                                            1\n",
       "English, German, Italian, French, Spanish                                  1\n",
       "Russian                                                                    1\n",
       "English, Mandarin                                                          1\n",
       "English, Tamil, French, Japanese, Hindi, Chinese                           1\n",
       "English, Japanese, Thai                                                    1\n",
       "Danish, English, Polish                                                    1\n",
       "English, French, German                                                    1\n",
       "Polish, Latin, French                                                      1\n",
       "English, French, Cantonese                                                 1\n",
       "English, French, Spanish                                                   1\n",
       "English, French, German, Italian                                           1\n",
       "English, Swedish                                                           1\n",
       "Cantonese, English, Thai                                                   1\n",
       "English, Yiddish                                                           1\n",
       "English, German, French, Swedish                                           1\n",
       "English, French, Arabic, Russian, Spanish                                  1\n",
       "English, Esperanto                                                         1\n",
       "English, German, Hebrew, Spanish, Arabic, Nepali                           1\n",
       "English, Quenya, Old English, Sindarin                                     1\n",
       "Italian, French, English, German                                           1\n",
       "Hindi, Panjabi, English                                                    1\n",
       "English, Spanish, Italian                                                  1\n",
       "German, Russian, Hungarian                                                 1\n",
       "Russian, Italian, Tatar                                                    1\n",
       "English, French, German, Czech                                             1\n",
       "English, Arabic, Sioux                                                     1\n",
       "English, Urdu, Arabic, Persian, French, Mandarin                           1\n",
       "French, German, Corsican                                                   1\n",
       "Italian, German, English                                                   1\n",
       "English, Sindarin, Old English                                             1\n",
       "English, Hebrew                                                            1\n",
       "English, Bengali                                                           1\n",
       "Spanish, English                                                           1\n",
       "English, Norwegian                                                         1\n",
       "Korean, English                                                            1\n",
       "English, Spanish, German                                                   1\n",
       "English, Italian, Latin, German                                            1\n",
       "English, German, Cantonese, Japanese, Hungarian                            1\n",
       "Belarusian, Russian, German                                                1\n",
       "English, French, Latin                                                     1\n",
       "English, Spanish, Latin                                                    1\n",
       "English, Arabic, French, German, Russian, Czech, Slovak, Dari, Pushto      1\n",
       "English, Maya, Spanish, Greek, German                                      1\n",
       "English, Greek,  Ancient (to 1453)                                         1\n",
       "English, Italian, Spanish, Latin, Sicilian                                 1\n",
       "French, English, Spanish, German, Italian, Russian                         1\n",
       "German, English, French                                                    1\n",
       "Hindi, English, Awadhi, Urdu                                               1\n",
       "French, Russian, English                                                   1\n",
       "English, Cantonese, Spanish                                                1\n",
       "English, Swahili, Xhosa, Zulu                                              1\n",
       "English, German, Latin                                                     1\n",
       "English, German, Italian                                                   1\n",
       "Icelandic, Swedish, English, Spanish, Russian                              1\n",
       "English, Irish                                                             1\n",
       "English, Thai                                                              1\n",
       "English, French, Latin, Scottish Gaelic                                    1\n",
       "English, Spanish, Latin, French                                            1\n",
       "English, German, Dutch, Polish, Latin                                      1\n",
       "Cantonese                                                                  1\n",
       "English, Korean                                                            1\n",
       "English, Latin, Spanish                                                    1\n",
       "English, Italian, Latin                                                    1\n",
       "English, German, French, Russian, Spanish                                  1\n",
       "English, Cantonese                                                         1\n",
       "English, Norwegian, French, Spanish                                        1\n",
       "English, Arabic, Turkish                                                   1\n",
       "English, Dutch                                                             1\n",
       "English, Serbo-Croatian                                                    1\n",
       "English, French, Vietnamese                                                1\n",
       "English, German, Greek, Arabic                                             1\n",
       "English, German, Hebrew, Spanish                                           1\n",
       "English, Urdu, Mandarin                                                    1\n",
       "English, German, Mandarin, Tibetan, Hindi                                  1\n",
       "Name: Language, dtype: int64"
      ]
     },
     "execution_count": 195,
     "metadata": {},
     "output_type": "execute_result"
    }
   ],
   "source": [
    "df['Language'].value_counts()"
   ]
  },
  {
   "cell_type": "markdown",
   "metadata": {},
   "source": [
    "Metascore\n",
    "--\n",
    "We can fill NaNs with the mean"
   ]
  },
  {
   "cell_type": "code",
   "execution_count": 199,
   "metadata": {
    "collapsed": false
   },
   "outputs": [
    {
     "data": {
      "text/plain": [
       "count    346.000000\n",
       "mean      64.973988\n",
       "std       21.057187\n",
       "min       15.000000\n",
       "25%       50.250000\n",
       "50%       68.000000\n",
       "75%       82.000000\n",
       "max      100.000000\n",
       "Name: Metascore, dtype: float64"
      ]
     },
     "execution_count": 199,
     "metadata": {},
     "output_type": "execute_result"
    }
   ],
   "source": [
    "df['Metascore'].describe()"
   ]
  },
  {
   "cell_type": "code",
   "execution_count": 37,
   "metadata": {
    "collapsed": false
   },
   "outputs": [],
   "source": [
    "df['Metascore'].fillna(df['Metascore'].mean(), inplace = True)"
   ]
  },
  {
   "cell_type": "markdown",
   "metadata": {},
   "source": [
    "Plot\n",
    "--\n",
    "We can attempt to find keywords"
   ]
  },
  {
   "cell_type": "code",
   "execution_count": null,
   "metadata": {
    "collapsed": true
   },
   "outputs": [],
   "source": []
  },
  {
   "cell_type": "markdown",
   "metadata": {},
   "source": [
    "Poster\n",
    "--\n",
    "TBD"
   ]
  },
  {
   "cell_type": "code",
   "execution_count": null,
   "metadata": {
    "collapsed": false
   },
   "outputs": [],
   "source": []
  },
  {
   "cell_type": "markdown",
   "metadata": {},
   "source": [
    "Rated\n",
    "--\n",
    "We can create dummy variables. Since R is clear majority, we will just create one dummy. "
   ]
  },
  {
   "cell_type": "code",
   "execution_count": 203,
   "metadata": {
    "collapsed": false
   },
   "outputs": [
    {
     "data": {
      "text/plain": [
       "R            213\n",
       "PG-13        102\n",
       "PG            72\n",
       "NOT RATED     40\n",
       "APPROVED      21\n",
       "G             18\n",
       "UNRATED       12\n",
       "PASSED         3\n",
       "TV-PG          1\n",
       "NC-17          1\n",
       "TV-14          1\n",
       "Name: Rated, dtype: int64"
      ]
     },
     "execution_count": 203,
     "metadata": {},
     "output_type": "execute_result"
    }
   ],
   "source": [
    "df['Rated'].value_counts()"
   ]
  },
  {
   "cell_type": "code",
   "execution_count": 38,
   "metadata": {
    "collapsed": true
   },
   "outputs": [],
   "source": [
    "df['IsR'] = df['Rated'].apply(lambda x: 1 if x == 'R' else 0)"
   ]
  },
  {
   "cell_type": "markdown",
   "metadata": {},
   "source": [
    "Released\n",
    "--\n",
    "We convert values to datetime"
   ]
  },
  {
   "cell_type": "code",
   "execution_count": 225,
   "metadata": {
    "collapsed": false
   },
   "outputs": [
    {
     "data": {
      "text/plain": [
       "131                       Andrei Rublev\n",
       "135                       The Gold Rush\n",
       "248    What Ever Happened to Baby Jane?\n",
       "411                         3 Backyards\n",
       "437                        Pledge This!\n",
       "Name: Title, dtype: object"
      ]
     },
     "execution_count": 225,
     "metadata": {},
     "output_type": "execute_result"
    }
   ],
   "source": [
    "df.loc[df['Released'].isnull(), 'Title']"
   ]
  },
  {
   "cell_type": "markdown",
   "metadata": {},
   "source": [
    "There are some missing dates, and for convenience purposes, we will manually fill the 5 missing dates so we can convert everything to a datetime object"
   ]
  },
  {
   "cell_type": "code",
   "execution_count": 39,
   "metadata": {
    "collapsed": false
   },
   "outputs": [],
   "source": [
    "df.loc[df['Title'] == 'Andrei Rublev', 'Released'] = '1 Apr 1973'"
   ]
  },
  {
   "cell_type": "code",
   "execution_count": 40,
   "metadata": {
    "collapsed": false
   },
   "outputs": [],
   "source": [
    "df.loc[df['Title'] == 'The Gold Rush', 'Released'] = '26 Jun 1925'"
   ]
  },
  {
   "cell_type": "code",
   "execution_count": 41,
   "metadata": {
    "collapsed": false
   },
   "outputs": [],
   "source": [
    "df.loc[df['Title'] == 'What Ever Happened to Baby Jane?', 'Released'] = '31 Oct 1962'"
   ]
  },
  {
   "cell_type": "code",
   "execution_count": 42,
   "metadata": {
    "collapsed": false
   },
   "outputs": [],
   "source": [
    "df.loc[df['Title'] == '3 Backyards', 'Released'] = '24 Jan 2010'"
   ]
  },
  {
   "cell_type": "code",
   "execution_count": 43,
   "metadata": {
    "collapsed": false
   },
   "outputs": [],
   "source": [
    "df.loc[df['Title'] == 'Pledge This!', 'Released'] = '19 Dec 2006'"
   ]
  },
  {
   "cell_type": "code",
   "execution_count": 44,
   "metadata": {
    "collapsed": true
   },
   "outputs": [],
   "source": [
    "df['ReleasedDate'] = df['Released'].apply(lambda x: datetime.strptime(x, '%d %b %Y'))"
   ]
  },
  {
   "cell_type": "markdown",
   "metadata": {},
   "source": [
    "Now we can decide whether to create dummy variables of the month of release, or we can convert the dates to an integer value indicating days since 'x'."
   ]
  },
  {
   "cell_type": "code",
   "execution_count": 45,
   "metadata": {
    "collapsed": true
   },
   "outputs": [],
   "source": [
    "df['ReleaseOrdinal'] = df['ReleasedDate'].apply(lambda x: x.toordinal())"
   ]
  },
  {
   "cell_type": "markdown",
   "metadata": {},
   "source": [
    "Above was since January 1 of Year 1, now we apply it so we can the difference between a value and the minimum date, divided by the range of all dates"
   ]
  },
  {
   "cell_type": "code",
   "execution_count": 46,
   "metadata": {
    "collapsed": false
   },
   "outputs": [
    {
     "data": {
      "text/plain": [
       "26913.0"
      ]
     },
     "execution_count": 46,
     "metadata": {},
     "output_type": "execute_result"
    }
   ],
   "source": [
    "((df['ReleasedDate'][0] - df['ReleasedDate'].min())/np.timedelta64(1, 'D')).astype(float)"
   ]
  },
  {
   "cell_type": "code",
   "execution_count": 47,
   "metadata": {
    "collapsed": false
   },
   "outputs": [],
   "source": [
    "df['ReleaseDaysDiff'] = df['ReleasedDate'].apply(lambda x: ((x - df['ReleasedDate'].min())/np.timedelta64(1,'D')).astype(float)/((df['ReleasedDate'].max() - df['ReleasedDate'].min())/np.timedelta64(1,'D')).astype(int))"
   ]
  },
  {
   "cell_type": "markdown",
   "metadata": {},
   "source": [
    "Now we have a column that gets the difference between the release date and the earliest release date, and divides the result by the range of release dates. The larger the value gets, the later the film was released."
   ]
  },
  {
   "cell_type": "code",
   "execution_count": 50,
   "metadata": {
    "collapsed": false
   },
   "outputs": [
    {
     "data": {
      "text/plain": [
       "Timestamp('1921-02-06 00:00:00')"
      ]
     },
     "execution_count": 50,
     "metadata": {},
     "output_type": "execute_result"
    }
   ],
   "source": [
    "df['ReleasedDate'].min()"
   ]
  },
  {
   "cell_type": "code",
   "execution_count": 51,
   "metadata": {
    "collapsed": false
   },
   "outputs": [
    {
     "data": {
      "text/plain": [
       "Timestamp('2017-03-03 00:00:00')"
      ]
     },
     "execution_count": 51,
     "metadata": {},
     "output_type": "execute_result"
    }
   ],
   "source": [
    "df['ReleasedDate'].max()"
   ]
  },
  {
   "cell_type": "markdown",
   "metadata": {},
   "source": [
    "Runtime \n",
    "--\n",
    "We just replace the 'min' string and convert to integer."
   ]
  },
  {
   "cell_type": "code",
   "execution_count": 48,
   "metadata": {
    "collapsed": false
   },
   "outputs": [],
   "source": [
    "df['Runtime'] = df['Runtime'].apply(lambda x: int(x.replace(' min','')))"
   ]
  },
  {
   "cell_type": "code",
   "execution_count": 270,
   "metadata": {
    "collapsed": false
   },
   "outputs": [
    {
     "data": {
      "text/plain": [
       "count    500.000000\n",
       "mean     117.870000\n",
       "std       29.233445\n",
       "min       66.000000\n",
       "25%       97.000000\n",
       "50%      110.000000\n",
       "75%      131.000000\n",
       "max      320.000000\n",
       "Name: Runtime, dtype: float64"
      ]
     },
     "execution_count": 270,
     "metadata": {},
     "output_type": "execute_result"
    }
   ],
   "source": [
    "df['Runtime'].describe()"
   ]
  },
  {
   "cell_type": "markdown",
   "metadata": {},
   "source": [
    "Title\n",
    "--\n",
    "We can try to find key words"
   ]
  },
  {
   "cell_type": "code",
   "execution_count": null,
   "metadata": {
    "collapsed": true
   },
   "outputs": [],
   "source": []
  },
  {
   "cell_type": "markdown",
   "metadata": {},
   "source": [
    "Writer\n",
    "--\n",
    "We can try to make dummy variables"
   ]
  },
  {
   "cell_type": "code",
   "execution_count": null,
   "metadata": {
    "collapsed": false
   },
   "outputs": [],
   "source": []
  },
  {
   "cell_type": "markdown",
   "metadata": {},
   "source": [
    "Year\n",
    "--\n",
    "We already have a similar feature with ReleasedDate"
   ]
  },
  {
   "cell_type": "code",
   "execution_count": null,
   "metadata": {
    "collapsed": true
   },
   "outputs": [],
   "source": []
  },
  {
   "cell_type": "markdown",
   "metadata": {},
   "source": [
    "imdbID\n",
    "--\n",
    "Movie identifier"
   ]
  },
  {
   "cell_type": "code",
   "execution_count": null,
   "metadata": {
    "collapsed": true
   },
   "outputs": [],
   "source": []
  },
  {
   "cell_type": "markdown",
   "metadata": {},
   "source": [
    "imdbRating\n",
    "--"
   ]
  },
  {
   "cell_type": "code",
   "execution_count": 274,
   "metadata": {
    "collapsed": false
   },
   "outputs": [
    {
     "data": {
      "text/plain": [
       "count    500.000000\n",
       "mean       7.239600\n",
       "std        1.409754\n",
       "min        1.600000\n",
       "25%        6.400000\n",
       "50%        8.000000\n",
       "75%        8.300000\n",
       "max        9.300000\n",
       "Name: imdbRating, dtype: float64"
      ]
     },
     "execution_count": 274,
     "metadata": {},
     "output_type": "execute_result"
    }
   ],
   "source": [
    "df['imdbRating'].describe()"
   ]
  },
  {
   "cell_type": "code",
   "execution_count": 275,
   "metadata": {
    "collapsed": false
   },
   "outputs": [
    {
     "data": {
      "text/plain": [
       "<matplotlib.axes._subplots.AxesSubplot at 0x11168ce50>"
      ]
     },
     "execution_count": 275,
     "metadata": {},
     "output_type": "execute_result"
    },
    {
     "data": {
      "image/png": "[encoded data removed]",
      "text/plain": [
       "<matplotlib.figure.Figure at 0x1115eab10>"
      ]
     },
     "metadata": {},
     "output_type": "display_data"
    }
   ],
   "source": [
    "sns.distplot(df['imdbRating'])"
   ]
  },
  {
   "cell_type": "markdown",
   "metadata": {},
   "source": [
    "Most movies have a pretty high imdbRating around 8"
   ]
  },
  {
   "cell_type": "markdown",
   "metadata": {},
   "source": [
    "imdbVotes\n",
    "--"
   ]
  },
  {
   "cell_type": "code",
   "execution_count": 49,
   "metadata": {
    "collapsed": false
   },
   "outputs": [],
   "source": [
    "df['imdbVotes'] = df['imdbVotes'].apply(lambda x: int(x.replace(',','')))"
   ]
  },
  {
   "cell_type": "code",
   "execution_count": 279,
   "metadata": {
    "collapsed": false
   },
   "outputs": [
    {
     "data": {
      "text/plain": [
       "count    5.000000e+02\n",
       "mean     2.382183e+05\n",
       "std      3.120997e+05\n",
       "min      2.100000e+01\n",
       "25%      2.829825e+04\n",
       "50%      9.644900e+04\n",
       "75%      3.350362e+05\n",
       "max      1.786262e+06\n",
       "Name: imdbVotes, dtype: float64"
      ]
     },
     "execution_count": 279,
     "metadata": {},
     "output_type": "execute_result"
    }
   ],
   "source": [
    "df['imdbVotes'].describe()"
   ]
  },
  {
   "cell_type": "code",
   "execution_count": 280,
   "metadata": {
    "collapsed": false
   },
   "outputs": [
    {
     "data": {
      "text/plain": [
       "<matplotlib.axes._subplots.AxesSubplot at 0x1115ea810>"
      ]
     },
     "execution_count": 280,
     "metadata": {},
     "output_type": "execute_result"
    },
    {
     "data": {
      "image/png": "[encoded data removed]",
      "text/plain": [
       "<matplotlib.figure.Figure at 0x110912350>"
      ]
     },
     "metadata": {},
     "output_type": "display_data"
    }
   ],
   "source": [
    "sns.distplot(df['imdbVotes'])"
   ]
  },
  {
   "cell_type": "markdown",
   "metadata": {},
   "source": [
    "We can see that the number of votes isn't too high, although the number of votes required to make the top 250 list is only 25,000."
   ]
  },
  {
   "cell_type": "markdown",
   "metadata": {},
   "source": [
    "top250\n",
    "--"
   ]
  },
  {
   "cell_type": "code",
   "execution_count": 281,
   "metadata": {
    "collapsed": false
   },
   "outputs": [
    {
     "data": {
      "text/plain": [
       "1    250\n",
       "0    250\n",
       "Name: top250, dtype: int64"
      ]
     },
     "execution_count": 281,
     "metadata": {},
     "output_type": "execute_result"
    }
   ],
   "source": [
    "df['top250'].value_counts()"
   ]
  },
  {
   "cell_type": "code",
   "execution_count": 285,
   "metadata": {
    "collapsed": false
   },
   "outputs": [
    {
     "data": {
      "text/html": [
       "<div>\n",
       "<table border=\"1\" class=\"dataframe\">\n",
       "  <thead>\n",
       "    <tr style=\"text-align: right;\">\n",
       "      <th></th>\n",
       "      <th>Actors</th>\n",
       "      <th>Awards</th>\n",
       "      <th>Country</th>\n",
       "      <th>Director</th>\n",
       "      <th>Genre</th>\n",
       "      <th>Language</th>\n",
       "      <th>Metascore</th>\n",
       "      <th>Plot</th>\n",
       "      <th>Poster</th>\n",
       "      <th>Rated</th>\n",
       "      <th>Released</th>\n",
       "      <th>Runtime</th>\n",
       "      <th>Title</th>\n",
       "      <th>Writer</th>\n",
       "      <th>Year</th>\n",
       "      <th>imdbID</th>\n",
       "      <th>imdbRating</th>\n",
       "      <th>imdbVotes</th>\n",
       "      <th>top250</th>\n",
       "      <th>OscarsWin</th>\n",
       "      <th>Nominations</th>\n",
       "      <th>OtherWins</th>\n",
       "      <th>USA</th>\n",
       "      <th>IsR</th>\n",
       "      <th>ReleasedDate</th>\n",
       "      <th>ReleaseOrdinal</th>\n",
       "      <th>ReleaseDaysDiff</th>\n",
       "    </tr>\n",
       "  </thead>\n",
       "  <tbody>\n",
       "    <tr>\n",
       "      <th>0</th>\n",
       "      <td>Tim Robbins, Morgan Freeman, Bob Gunton, Willi...</td>\n",
       "      <td>Nominated for 7 Oscars. Another 19 wins &amp; 30 n...</td>\n",
       "      <td>USA</td>\n",
       "      <td>Frank Darabont</td>\n",
       "      <td>Crime, Drama</td>\n",
       "      <td>English</td>\n",
       "      <td>80.0</td>\n",
       "      <td>Two imprisoned men bond over a number of years...</td>\n",
       "      <td>https://images-na.ssl-images-amazon.com/images...</td>\n",
       "      <td>R</td>\n",
       "      <td>14 Oct 1994</td>\n",
       "      <td>142</td>\n",
       "      <td>The Shawshank Redemption</td>\n",
       "      <td>Stephen King (short story \"Rita Hayworth and S...</td>\n",
       "      <td>1994</td>\n",
       "      <td>tt0111161</td>\n",
       "      <td>9.3</td>\n",
       "      <td>1786262</td>\n",
       "      <td>1</td>\n",
       "      <td>0</td>\n",
       "      <td>37</td>\n",
       "      <td>19</td>\n",
       "      <td>1</td>\n",
       "      <td>1</td>\n",
       "      <td>1994-10-14</td>\n",
       "      <td>728215</td>\n",
       "      <td>0.766993</td>\n",
       "    </tr>\n",
       "  </tbody>\n",
       "</table>\n",
       "</div>"
      ],
      "text/plain": [
       "                                              Actors  \\\n",
       "0  Tim Robbins, Morgan Freeman, Bob Gunton, Willi...   \n",
       "\n",
       "                                              Awards Country        Director  \\\n",
       "0  Nominated for 7 Oscars. Another 19 wins & 30 n...     USA  Frank Darabont   \n",
       "\n",
       "          Genre Language  Metascore  \\\n",
       "0  Crime, Drama  English       80.0   \n",
       "\n",
       "                                                Plot  \\\n",
       "0  Two imprisoned men bond over a number of years...   \n",
       "\n",
       "                                              Poster Rated     Released  \\\n",
       "0  https://images-na.ssl-images-amazon.com/images...     R  14 Oct 1994   \n",
       "\n",
       "   Runtime                     Title  \\\n",
       "0      142  The Shawshank Redemption   \n",
       "\n",
       "                                              Writer  Year     imdbID  \\\n",
       "0  Stephen King (short story \"Rita Hayworth and S...  1994  tt0111161   \n",
       "\n",
       "   imdbRating  imdbVotes  top250 OscarsWin  Nominations OtherWins  USA  IsR  \\\n",
       "0         9.3    1786262       1         0           37        19    1    1   \n",
       "\n",
       "  ReleasedDate  ReleaseOrdinal  ReleaseDaysDiff  \n",
       "0   1994-10-14          728215         0.766993  "
      ]
     },
     "execution_count": 285,
     "metadata": {},
     "output_type": "execute_result"
    }
   ],
   "source": [
    "df.head(1)"
   ]
  },
  {
   "cell_type": "code",
   "execution_count": 25,
   "metadata": {
    "collapsed": false
   },
   "outputs": [],
   "source": [
    "modeldf = df[['Metascore','Runtime','imdbRating','imdbVotes','OscarsWin','Nominations',\n",
    "             'OtherWins','USA','IsR','ReleaseOrdinal','ReleaseDaysDiff','top250']]\n",
    "\n",
    "modeldf.to_csv('modeldf.csv', encoding = 'utf-8')"
   ]
  },
  {
   "cell_type": "code",
   "execution_count": 52,
   "metadata": {
    "collapsed": false
   },
   "outputs": [
    {
     "data": {
      "image/png": "[encoded data removed]",
      "text/plain": [
       "<matplotlib.figure.Figure at 0x119cdae10>"
      ]
     },
     "metadata": {},
     "output_type": "display_data"
    }
   ],
   "source": [
    "sns.heatmap(modeldf.corr(), annot = True)\n",
    "plt.tight_layout()\n",
    "plt.savefig('corrmap.png')"
   ]
  },
  {
   "cell_type": "code",
   "execution_count": null,
   "metadata": {
    "collapsed": true
   },
   "outputs": [],
   "source": []
  }
 ],
 "metadata": {
  "kernelspec": {
   "display_name": "Python 2",
   "language": "python",
   "name": "python2"
  },
  "language_info": {
   "codemirror_mode": {
    "name": "ipython",
    "version": 2
   },
   "file_extension": ".py",
   "mimetype": "text/x-python",
   "name": "python",
   "nbconvert_exporter": "python",
   "pygments_lexer": "ipython2",
   "version": "2.7.13"
  }
 },
 "nbformat": 4,
 "nbformat_minor": 2
}
