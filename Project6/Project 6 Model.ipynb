{
 "cells": [
  {
   "cell_type": "code",
   "execution_count": 1,
   "metadata": {
    "collapsed": true
   },
   "outputs": [],
   "source": [
    "import pandas as pd\n",
    "import numpy as np\n",
    "import matplotlib.pyplot as plt\n",
    "import seaborn as sns\n",
    "from datetime import datetime\n",
    "from sklearn.linear_model import LogisticRegression\n",
    "from sklearn.neighbors import KNeighborsClassifier\n",
    "from sklearn.feature_selection import SelectKBest, RFE\n",
    "from sklearn.model_selection import GridSearchCV, cross_val_score, train_test_split\n",
    "from sklearn import metrics\n",
    "from sklearn.preprocessing import FunctionTransformer,Binarizer, Imputer, LabelBinarizer\n",
    "from sklearn.pipeline import Pipeline\n",
    "from sklearn.pipeline import make_pipeline, make_union, FeatureUnion\n",
    "from sklearn.preprocessing import StandardScaler\n",
    "from sklearn.tree import DecisionTreeClassifier\n",
    "from sklearn.ensemble import AdaBoostClassifier, RandomForestClassifier, ExtraTreesClassifier, BaggingClassifier, GradientBoostingClassifier\n",
    "from xgboost import XGBClassifier\n",
    "%matplotlib inline"
   ]
  },
  {
   "cell_type": "code",
   "execution_count": 3,
   "metadata": {
    "collapsed": false
   },
   "outputs": [],
   "source": [
    "df = pd.read_csv('modeldf.csv')\n",
    "df.drop('Unnamed: 0', axis = 1, inplace = True)\n"
   ]
  },
  {
   "cell_type": "code",
   "execution_count": 4,
   "metadata": {
    "collapsed": false
   },
   "outputs": [],
   "source": [
    "y = df['top250']"
   ]
  },
  {
   "cell_type": "code",
   "execution_count": 5,
   "metadata": {
    "collapsed": false
   },
   "outputs": [],
   "source": [
    "df.drop('top250', axis = 1, inplace = True)"
   ]
  },
  {
   "cell_type": "code",
   "execution_count": 6,
   "metadata": {
    "collapsed": true
   },
   "outputs": [],
   "source": [
    "df.drop('ReleaseOrdinal', axis = 1, inplace = True)\n",
    "#realized that ReleaseOrdinal and ReleaseDaysDiff are perfectly correlated"
   ]
  },
  {
   "cell_type": "code",
   "execution_count": 7,
   "metadata": {
    "collapsed": false
   },
   "outputs": [],
   "source": [
    "x = df"
   ]
  },
  {
   "cell_type": "code",
   "execution_count": 8,
   "metadata": {
    "collapsed": false
   },
   "outputs": [],
   "source": [
    "x_train, x_test, y_train, y_test = train_test_split(x,y, test_size = 0.3)"
   ]
  },
  {
   "cell_type": "markdown",
   "metadata": {},
   "source": [
    "Decision Tree\n",
    "--"
   ]
  },
  {
   "cell_type": "code",
   "execution_count": 8,
   "metadata": {
    "collapsed": true
   },
   "outputs": [],
   "source": [
    "dt = DecisionTreeClassifier()"
   ]
  },
  {
   "cell_type": "code",
   "execution_count": 33,
   "metadata": {
    "collapsed": true
   },
   "outputs": [],
   "source": [
    "params = {'criterion': ['gini','entropy'],\n",
    "         'max_features':['auto','sqrt'],\n",
    "         'max_depth': [1,3,8,12,None]}"
   ]
  },
  {
   "cell_type": "code",
   "execution_count": 81,
   "metadata": {
    "collapsed": false
   },
   "outputs": [
    {
     "data": {
      "text/plain": [
       "GridSearchCV(cv=None, error_score='raise',\n",
       "       estimator=DecisionTreeClassifier(class_weight=None, criterion='gini', max_depth=None,\n",
       "            max_features=None, max_leaf_nodes=None,\n",
       "            min_impurity_split=1e-07, min_samples_leaf=1,\n",
       "            min_samples_split=2, min_weight_fraction_leaf=0.0,\n",
       "            presort=False, random_state=None, splitter='best'),\n",
       "       fit_params={}, iid=True, n_jobs=1,\n",
       "       param_grid={'max_features': ['auto', 'sqrt'], 'criterion': ['gini', 'entropy'], 'max_depth': [1, 3, 8, 12, None]},\n",
       "       pre_dispatch='2*n_jobs', refit=True, return_train_score=True,\n",
       "       scoring=None, verbose=0)"
      ]
     },
     "execution_count": 81,
     "metadata": {},
     "output_type": "execute_result"
    }
   ],
   "source": [
    "grid_search = GridSearchCV(dt, params)\n",
    "grid_search.fit(x_train, y_train)"
   ]
  },
  {
   "cell_type": "code",
   "execution_count": 82,
   "metadata": {
    "collapsed": false
   },
   "outputs": [
    {
     "data": {
      "text/plain": [
       "DecisionTreeClassifier(class_weight=None, criterion='entropy', max_depth=8,\n",
       "            max_features='sqrt', max_leaf_nodes=None,\n",
       "            min_impurity_split=1e-07, min_samples_leaf=1,\n",
       "            min_samples_split=2, min_weight_fraction_leaf=0.0,\n",
       "            presort=False, random_state=None, splitter='best')"
      ]
     },
     "execution_count": 82,
     "metadata": {},
     "output_type": "execute_result"
    }
   ],
   "source": [
    "grid_search.best_estimator_"
   ]
  },
  {
   "cell_type": "code",
   "execution_count": 83,
   "metadata": {
    "collapsed": false
   },
   "outputs": [
    {
     "data": {
      "text/plain": [
       "DecisionTreeClassifier(class_weight=None, criterion='entropy', max_depth=8,\n",
       "            max_features='sqrt', max_leaf_nodes=None,\n",
       "            min_impurity_split=1e-07, min_samples_leaf=1,\n",
       "            min_samples_split=2, min_weight_fraction_leaf=0.0,\n",
       "            presort=False, random_state=None, splitter='best')"
      ]
     },
     "execution_count": 83,
     "metadata": {},
     "output_type": "execute_result"
    }
   ],
   "source": [
    "grid_search.best_estimator_.fit(x_train, y_train)"
   ]
  },
  {
   "cell_type": "code",
   "execution_count": 84,
   "metadata": {
    "collapsed": false
   },
   "outputs": [
    {
     "data": {
      "text/plain": [
       "1.0"
      ]
     },
     "execution_count": 84,
     "metadata": {},
     "output_type": "execute_result"
    }
   ],
   "source": [
    "grid_search.best_estimator_.score(x_train, y_train)"
   ]
  },
  {
   "cell_type": "code",
   "execution_count": 85,
   "metadata": {
    "collapsed": true
   },
   "outputs": [],
   "source": [
    "predictions = grid_search.best_estimator_.predict(x_test)"
   ]
  },
  {
   "cell_type": "code",
   "execution_count": 86,
   "metadata": {
    "collapsed": false
   },
   "outputs": [
    {
     "data": {
      "text/html": [
       "<div>\n",
       "<table border=\"1\" class=\"dataframe\">\n",
       "  <thead>\n",
       "    <tr style=\"text-align: right;\">\n",
       "      <th></th>\n",
       "      <th>Predict Not 250</th>\n",
       "      <th>Predict In 250</th>\n",
       "    </tr>\n",
       "  </thead>\n",
       "  <tbody>\n",
       "    <tr>\n",
       "      <th>Not 250</th>\n",
       "      <td>72</td>\n",
       "      <td>0</td>\n",
       "    </tr>\n",
       "    <tr>\n",
       "      <th>250</th>\n",
       "      <td>2</td>\n",
       "      <td>76</td>\n",
       "    </tr>\n",
       "  </tbody>\n",
       "</table>\n",
       "</div>"
      ],
      "text/plain": [
       "         Predict Not 250  Predict In 250\n",
       "Not 250               72               0\n",
       "250                    2              76"
      ]
     },
     "execution_count": 86,
     "metadata": {},
     "output_type": "execute_result"
    }
   ],
   "source": [
    "cm = metrics.confusion_matrix(y_test, predictions)\n",
    "pd.DataFrame(cm, index = ['Not 250','250'], columns = ['Predict Not 250','Predict In 250'])"
   ]
  },
  {
   "cell_type": "code",
   "execution_count": 87,
   "metadata": {
    "collapsed": false
   },
   "outputs": [
    {
     "data": {
      "text/plain": [
       "0.98666666666666669"
      ]
     },
     "execution_count": 87,
     "metadata": {},
     "output_type": "execute_result"
    }
   ],
   "source": [
    "grid_search.best_estimator_.score(x_test,y_test)"
   ]
  },
  {
   "cell_type": "code",
   "execution_count": 88,
   "metadata": {
    "collapsed": false
   },
   "outputs": [
    {
     "data": {
      "text/plain": [
       "[('Metascore', 0.0057154973895989702),\n",
       " ('Runtime', 0.1723313096017228),\n",
       " ('imdbRating', 0.71937051491170079),\n",
       " ('imdbVotes', 0.0092737160051698433),\n",
       " ('OscarsWin', 0.0),\n",
       " ('Nominations', 0.0087326136446997469),\n",
       " ('OtherWins', 0.082014099677083382),\n",
       " ('USA', 0.0),\n",
       " ('IsR', 0.0025622487700243729),\n",
       " ('ReleaseDaysDiff', 0.0)]"
      ]
     },
     "execution_count": 88,
     "metadata": {},
     "output_type": "execute_result"
    }
   ],
   "source": [
    "zip(x_train.columns,grid_search.best_estimator_.feature_importances_)"
   ]
  },
  {
   "cell_type": "markdown",
   "metadata": {},
   "source": [
    "Random Forest\n",
    "--"
   ]
  },
  {
   "cell_type": "code",
   "execution_count": 48,
   "metadata": {
    "collapsed": true
   },
   "outputs": [],
   "source": [
    "rfc = RandomForestClassifier()"
   ]
  },
  {
   "cell_type": "code",
   "execution_count": 49,
   "metadata": {
    "collapsed": false
   },
   "outputs": [
    {
     "data": {
      "text/plain": [
       "{'bootstrap': True,\n",
       " 'class_weight': None,\n",
       " 'criterion': 'gini',\n",
       " 'max_depth': None,\n",
       " 'max_features': 'auto',\n",
       " 'max_leaf_nodes': None,\n",
       " 'min_impurity_split': 1e-07,\n",
       " 'min_samples_leaf': 1,\n",
       " 'min_samples_split': 2,\n",
       " 'min_weight_fraction_leaf': 0.0,\n",
       " 'n_estimators': 10,\n",
       " 'n_jobs': 1,\n",
       " 'oob_score': False,\n",
       " 'random_state': None,\n",
       " 'verbose': 0,\n",
       " 'warm_start': False}"
      ]
     },
     "execution_count": 49,
     "metadata": {},
     "output_type": "execute_result"
    }
   ],
   "source": [
    "rfc.get_params()"
   ]
  },
  {
   "cell_type": "code",
   "execution_count": 185,
   "metadata": {
    "collapsed": true
   },
   "outputs": [],
   "source": [
    "parameters = {'n_estimators': [10,500,1000],\n",
    "             'criterion': ['gini'],\n",
    "             'max_features':['auto','log2',None],\n",
    "              'min_samples_leaf': [1,50],\n",
    "             'n_jobs': [-1]}"
   ]
  },
  {
   "cell_type": "code",
   "execution_count": 90,
   "metadata": {
    "collapsed": false
   },
   "outputs": [],
   "source": [
    "grid_searchrfc = GridSearchCV(rfc,parameters)"
   ]
  },
  {
   "cell_type": "code",
   "execution_count": 91,
   "metadata": {
    "collapsed": false
   },
   "outputs": [
    {
     "data": {
      "text/plain": [
       "GridSearchCV(cv=None, error_score='raise',\n",
       "       estimator=RandomForestClassifier(bootstrap=True, class_weight=None, criterion='gini',\n",
       "            max_depth=None, max_features='auto', max_leaf_nodes=None,\n",
       "            min_impurity_split=1e-07, min_samples_leaf=1,\n",
       "            min_samples_split=2, min_weight_fraction_leaf=0.0,\n",
       "            n_estimators=10, n_jobs=1, oob_score=False, random_state=None,\n",
       "            verbose=0, warm_start=False),\n",
       "       fit_params={}, iid=True, n_jobs=1,\n",
       "       param_grid={'n_estimators': [10, 100, 500, 1000], 'max_features': ['auto', 'log2', None], 'n_jobs': [-1], 'criterion': ['gini', 'entropy'], 'max_depth': [5, 10, 50, 100, None]},\n",
       "       pre_dispatch='2*n_jobs', refit=True, return_train_score=True,\n",
       "       scoring=None, verbose=0)"
      ]
     },
     "execution_count": 91,
     "metadata": {},
     "output_type": "execute_result"
    }
   ],
   "source": [
    "grid_searchrfc.fit(x_train, y_train)"
   ]
  },
  {
   "cell_type": "code",
   "execution_count": 92,
   "metadata": {
    "collapsed": false
   },
   "outputs": [
    {
     "data": {
      "text/plain": [
       "RandomForestClassifier(bootstrap=True, class_weight=None, criterion='gini',\n",
       "            max_depth=5, max_features='auto', max_leaf_nodes=None,\n",
       "            min_impurity_split=1e-07, min_samples_leaf=1,\n",
       "            min_samples_split=2, min_weight_fraction_leaf=0.0,\n",
       "            n_estimators=10, n_jobs=-1, oob_score=False, random_state=None,\n",
       "            verbose=0, warm_start=False)"
      ]
     },
     "execution_count": 92,
     "metadata": {},
     "output_type": "execute_result"
    }
   ],
   "source": [
    "grid_searchrfc.best_estimator_"
   ]
  },
  {
   "cell_type": "code",
   "execution_count": 93,
   "metadata": {
    "collapsed": false
   },
   "outputs": [
    {
     "data": {
      "text/plain": [
       "RandomForestClassifier(bootstrap=True, class_weight=None, criterion='gini',\n",
       "            max_depth=5, max_features='auto', max_leaf_nodes=None,\n",
       "            min_impurity_split=1e-07, min_samples_leaf=1,\n",
       "            min_samples_split=2, min_weight_fraction_leaf=0.0,\n",
       "            n_estimators=10, n_jobs=-1, oob_score=False, random_state=None,\n",
       "            verbose=0, warm_start=False)"
      ]
     },
     "execution_count": 93,
     "metadata": {},
     "output_type": "execute_result"
    }
   ],
   "source": [
    "grid_searchrfc.best_estimator_.fit(x_train, y_train)"
   ]
  },
  {
   "cell_type": "code",
   "execution_count": 94,
   "metadata": {
    "collapsed": false
   },
   "outputs": [
    {
     "data": {
      "text/plain": [
       "0.99714285714285711"
      ]
     },
     "execution_count": 94,
     "metadata": {},
     "output_type": "execute_result"
    }
   ],
   "source": [
    "grid_searchrfc.best_estimator_.score(x_train, y_train)"
   ]
  },
  {
   "cell_type": "code",
   "execution_count": 95,
   "metadata": {
    "collapsed": true
   },
   "outputs": [],
   "source": [
    "predictionsrfc = grid_searchrfc.best_estimator_.predict(x_test)"
   ]
  },
  {
   "cell_type": "code",
   "execution_count": 96,
   "metadata": {
    "collapsed": false
   },
   "outputs": [
    {
     "data": {
      "text/html": [
       "<div>\n",
       "<table border=\"1\" class=\"dataframe\">\n",
       "  <thead>\n",
       "    <tr style=\"text-align: right;\">\n",
       "      <th></th>\n",
       "      <th>Predict Not 250</th>\n",
       "      <th>Predict In 250</th>\n",
       "    </tr>\n",
       "  </thead>\n",
       "  <tbody>\n",
       "    <tr>\n",
       "      <th>Not 250</th>\n",
       "      <td>71</td>\n",
       "      <td>1</td>\n",
       "    </tr>\n",
       "    <tr>\n",
       "      <th>250</th>\n",
       "      <td>0</td>\n",
       "      <td>78</td>\n",
       "    </tr>\n",
       "  </tbody>\n",
       "</table>\n",
       "</div>"
      ],
      "text/plain": [
       "         Predict Not 250  Predict In 250\n",
       "Not 250               71               1\n",
       "250                    0              78"
      ]
     },
     "execution_count": 96,
     "metadata": {},
     "output_type": "execute_result"
    }
   ],
   "source": [
    "cmrfc = metrics.confusion_matrix(y_test, predictionsrfc)\n",
    "pd.DataFrame(cmrfc, index = ['Not 250','250'], columns = ['Predict Not 250','Predict In 250'])"
   ]
  },
  {
   "cell_type": "code",
   "execution_count": 97,
   "metadata": {
    "collapsed": false
   },
   "outputs": [
    {
     "data": {
      "text/plain": [
       "0.99333333333333329"
      ]
     },
     "execution_count": 97,
     "metadata": {},
     "output_type": "execute_result"
    }
   ],
   "source": [
    "grid_searchrfc.best_estimator_.score(x_test,y_test)"
   ]
  },
  {
   "cell_type": "code",
   "execution_count": 98,
   "metadata": {
    "collapsed": false
   },
   "outputs": [
    {
     "data": {
      "text/plain": [
       "[('Metascore', 0.1014898351442507),\n",
       " ('Runtime', 0.013977323644573672),\n",
       " ('imdbRating', 0.52763828227155907),\n",
       " ('imdbVotes', 0.16883559554242414),\n",
       " ('OscarsWin', 0.0034401397689336464),\n",
       " ('Nominations', 0.049404101800520038),\n",
       " ('OtherWins', 0.060009629069178283),\n",
       " ('USA', 0.0016490806404407493),\n",
       " ('IsR', 0.0053431595849997935),\n",
       " ('ReleaseDaysDiff', 0.068212852533119886)]"
      ]
     },
     "execution_count": 98,
     "metadata": {},
     "output_type": "execute_result"
    }
   ],
   "source": [
    "zip(x_train.columns,grid_searchrfc.best_estimator_.feature_importances_)"
   ]
  },
  {
   "cell_type": "markdown",
   "metadata": {},
   "source": [
    "Bagging Classifier (using decision trees)\n",
    "--"
   ]
  },
  {
   "cell_type": "code",
   "execution_count": 99,
   "metadata": {
    "collapsed": true
   },
   "outputs": [],
   "source": [
    "bagging = BaggingClassifier()"
   ]
  },
  {
   "cell_type": "code",
   "execution_count": 100,
   "metadata": {
    "collapsed": false
   },
   "outputs": [
    {
     "data": {
      "text/plain": [
       "{'base_estimator': None,\n",
       " 'bootstrap': True,\n",
       " 'bootstrap_features': False,\n",
       " 'max_features': 1.0,\n",
       " 'max_samples': 1.0,\n",
       " 'n_estimators': 10,\n",
       " 'n_jobs': 1,\n",
       " 'oob_score': False,\n",
       " 'random_state': None,\n",
       " 'verbose': 0,\n",
       " 'warm_start': False}"
      ]
     },
     "execution_count": 100,
     "metadata": {},
     "output_type": "execute_result"
    }
   ],
   "source": [
    "bagging.get_params()"
   ]
  },
  {
   "cell_type": "code",
   "execution_count": 101,
   "metadata": {
    "collapsed": true
   },
   "outputs": [],
   "source": [
    "paramsb = {'bootstrap': [True,False],\n",
    "          'bootstrap_features':[True,False],\n",
    "          'max_features': [0.5, 1.0],\n",
    "          'max_samples': [0.5, 1.0],\n",
    "          'n_estimators':[10,100]}"
   ]
  },
  {
   "cell_type": "code",
   "execution_count": 102,
   "metadata": {
    "collapsed": true
   },
   "outputs": [],
   "source": [
    "grid_searchb = GridSearchCV(bagging,paramsb)"
   ]
  },
  {
   "cell_type": "code",
   "execution_count": 103,
   "metadata": {
    "collapsed": false
   },
   "outputs": [
    {
     "data": {
      "text/plain": [
       "GridSearchCV(cv=None, error_score='raise',\n",
       "       estimator=BaggingClassifier(base_estimator=None, bootstrap=True,\n",
       "         bootstrap_features=False, max_features=1.0, max_samples=1.0,\n",
       "         n_estimators=10, n_jobs=1, oob_score=False, random_state=None,\n",
       "         verbose=0, warm_start=False),\n",
       "       fit_params={}, iid=True, n_jobs=1,\n",
       "       param_grid={'max_features': [0.5, 1.0], 'max_samples': [0.5, 1.0], 'bootstrap': [True, False], 'n_estimators': [10, 100], 'bootstrap_features': [True, False]},\n",
       "       pre_dispatch='2*n_jobs', refit=True, return_train_score=True,\n",
       "       scoring=None, verbose=0)"
      ]
     },
     "execution_count": 103,
     "metadata": {},
     "output_type": "execute_result"
    }
   ],
   "source": [
    "grid_searchb.fit(x_train, y_train)"
   ]
  },
  {
   "cell_type": "code",
   "execution_count": 104,
   "metadata": {
    "collapsed": false
   },
   "outputs": [
    {
     "data": {
      "text/plain": [
       "BaggingClassifier(base_estimator=None, bootstrap=True,\n",
       "         bootstrap_features=True, max_features=1.0, max_samples=1.0,\n",
       "         n_estimators=100, n_jobs=1, oob_score=False, random_state=None,\n",
       "         verbose=0, warm_start=False)"
      ]
     },
     "execution_count": 104,
     "metadata": {},
     "output_type": "execute_result"
    }
   ],
   "source": [
    "grid_searchb.best_estimator_"
   ]
  },
  {
   "cell_type": "code",
   "execution_count": 105,
   "metadata": {
    "collapsed": false
   },
   "outputs": [
    {
     "data": {
      "text/plain": [
       "BaggingClassifier(base_estimator=None, bootstrap=True,\n",
       "         bootstrap_features=True, max_features=1.0, max_samples=1.0,\n",
       "         n_estimators=100, n_jobs=1, oob_score=False, random_state=None,\n",
       "         verbose=0, warm_start=False)"
      ]
     },
     "execution_count": 105,
     "metadata": {},
     "output_type": "execute_result"
    }
   ],
   "source": [
    "grid_searchb.best_estimator_.fit(x_train, y_train)"
   ]
  },
  {
   "cell_type": "code",
   "execution_count": 106,
   "metadata": {
    "collapsed": false
   },
   "outputs": [
    {
     "data": {
      "text/plain": [
       "1.0"
      ]
     },
     "execution_count": 106,
     "metadata": {},
     "output_type": "execute_result"
    }
   ],
   "source": [
    "grid_searchb.best_estimator_.score(x_train, y_train)"
   ]
  },
  {
   "cell_type": "code",
   "execution_count": 107,
   "metadata": {
    "collapsed": true
   },
   "outputs": [],
   "source": [
    "predictionsb = grid_searchb.best_estimator_.predict(x_test)"
   ]
  },
  {
   "cell_type": "code",
   "execution_count": 108,
   "metadata": {
    "collapsed": false
   },
   "outputs": [
    {
     "data": {
      "text/html": [
       "<div>\n",
       "<table border=\"1\" class=\"dataframe\">\n",
       "  <thead>\n",
       "    <tr style=\"text-align: right;\">\n",
       "      <th></th>\n",
       "      <th>Predict Not 250</th>\n",
       "      <th>Predict In 250</th>\n",
       "    </tr>\n",
       "  </thead>\n",
       "  <tbody>\n",
       "    <tr>\n",
       "      <th>Not 250</th>\n",
       "      <td>71</td>\n",
       "      <td>1</td>\n",
       "    </tr>\n",
       "    <tr>\n",
       "      <th>250</th>\n",
       "      <td>0</td>\n",
       "      <td>78</td>\n",
       "    </tr>\n",
       "  </tbody>\n",
       "</table>\n",
       "</div>"
      ],
      "text/plain": [
       "         Predict Not 250  Predict In 250\n",
       "Not 250               71               1\n",
       "250                    0              78"
      ]
     },
     "execution_count": 108,
     "metadata": {},
     "output_type": "execute_result"
    }
   ],
   "source": [
    "cmb = metrics.confusion_matrix(y_test, predictionsb)\n",
    "pd.DataFrame(cmb, index = ['Not 250','250'], columns = ['Predict Not 250','Predict In 250'])"
   ]
  },
  {
   "cell_type": "code",
   "execution_count": 109,
   "metadata": {
    "collapsed": false
   },
   "outputs": [
    {
     "data": {
      "text/plain": [
       "0.99333333333333329"
      ]
     },
     "execution_count": 109,
     "metadata": {},
     "output_type": "execute_result"
    }
   ],
   "source": [
    "grid_searchb.best_estimator_.score(x_test, y_test)"
   ]
  },
  {
   "cell_type": "markdown",
   "metadata": {},
   "source": [
    "We will try to model without IMDB Rating and Votes, since we are getting really high scores and the top 250 list relies quite heavily on IMDB Ratings and Votes.\n",
    "=="
   ]
  },
  {
   "cell_type": "code",
   "execution_count": 34,
   "metadata": {
    "collapsed": true
   },
   "outputs": [],
   "source": [
    "new_x = x"
   ]
  },
  {
   "cell_type": "code",
   "execution_count": 35,
   "metadata": {
    "collapsed": true
   },
   "outputs": [],
   "source": [
    "new_x.drop('imdbRating', axis = 1, inplace = True)"
   ]
  },
  {
   "cell_type": "code",
   "execution_count": 36,
   "metadata": {
    "collapsed": true
   },
   "outputs": [],
   "source": [
    "new_x.drop('imdbVotes', axis = 1, inplace = True)"
   ]
  },
  {
   "cell_type": "code",
   "execution_count": 37,
   "metadata": {
    "collapsed": true
   },
   "outputs": [],
   "source": [
    "x_train, x_test, y_train, y_test = train_test_split(new_x,y, test_size = 0.3)"
   ]
  },
  {
   "cell_type": "code",
   "execution_count": 115,
   "metadata": {
    "collapsed": true
   },
   "outputs": [],
   "source": [
    "params = {'criterion': ['gini','entropy'],\n",
    "         'max_features':['auto','sqrt'],\n",
    "         'max_depth': [1,3,8,12,None]}"
   ]
  },
  {
   "cell_type": "markdown",
   "metadata": {},
   "source": [
    "Decision Tree\n",
    "--"
   ]
  },
  {
   "cell_type": "code",
   "execution_count": 116,
   "metadata": {
    "collapsed": false
   },
   "outputs": [
    {
     "data": {
      "text/plain": [
       "GridSearchCV(cv=None, error_score='raise',\n",
       "       estimator=DecisionTreeClassifier(class_weight=None, criterion='gini', max_depth=None,\n",
       "            max_features=None, max_leaf_nodes=None,\n",
       "            min_impurity_split=1e-07, min_samples_leaf=1,\n",
       "            min_samples_split=2, min_weight_fraction_leaf=0.0,\n",
       "            presort=False, random_state=None, splitter='best'),\n",
       "       fit_params={}, iid=True, n_jobs=1,\n",
       "       param_grid={'max_features': ['auto', 'sqrt'], 'criterion': ['gini', 'entropy'], 'max_depth': [1, 3, 8, 12, None]},\n",
       "       pre_dispatch='2*n_jobs', refit=True, return_train_score=True,\n",
       "       scoring=None, verbose=0)"
      ]
     },
     "execution_count": 116,
     "metadata": {},
     "output_type": "execute_result"
    }
   ],
   "source": [
    "grid_search = GridSearchCV(dt, params)\n",
    "grid_search.fit(x_train, y_train)"
   ]
  },
  {
   "cell_type": "code",
   "execution_count": 117,
   "metadata": {
    "collapsed": false
   },
   "outputs": [
    {
     "data": {
      "text/plain": [
       "DecisionTreeClassifier(class_weight=None, criterion='entropy', max_depth=None,\n",
       "            max_features='sqrt', max_leaf_nodes=None,\n",
       "            min_impurity_split=1e-07, min_samples_leaf=1,\n",
       "            min_samples_split=2, min_weight_fraction_leaf=0.0,\n",
       "            presort=False, random_state=None, splitter='best')"
      ]
     },
     "execution_count": 117,
     "metadata": {},
     "output_type": "execute_result"
    }
   ],
   "source": [
    "grid_search.best_estimator_.fit(x_train, y_train)"
   ]
  },
  {
   "cell_type": "code",
   "execution_count": 118,
   "metadata": {
    "collapsed": false
   },
   "outputs": [
    {
     "data": {
      "text/plain": [
       "1.0"
      ]
     },
     "execution_count": 118,
     "metadata": {},
     "output_type": "execute_result"
    }
   ],
   "source": [
    "grid_search.best_estimator_.score(x_train, y_train)"
   ]
  },
  {
   "cell_type": "code",
   "execution_count": 119,
   "metadata": {
    "collapsed": true
   },
   "outputs": [],
   "source": [
    "predictions = grid_search.best_estimator_.predict(x_test)"
   ]
  },
  {
   "cell_type": "code",
   "execution_count": 120,
   "metadata": {
    "collapsed": false
   },
   "outputs": [
    {
     "data": {
      "text/html": [
       "<div>\n",
       "<table border=\"1\" class=\"dataframe\">\n",
       "  <thead>\n",
       "    <tr style=\"text-align: right;\">\n",
       "      <th></th>\n",
       "      <th>Predict Not 250</th>\n",
       "      <th>Predict In 250</th>\n",
       "    </tr>\n",
       "  </thead>\n",
       "  <tbody>\n",
       "    <tr>\n",
       "      <th>Not 250</th>\n",
       "      <td>69</td>\n",
       "      <td>11</td>\n",
       "    </tr>\n",
       "    <tr>\n",
       "      <th>250</th>\n",
       "      <td>17</td>\n",
       "      <td>53</td>\n",
       "    </tr>\n",
       "  </tbody>\n",
       "</table>\n",
       "</div>"
      ],
      "text/plain": [
       "         Predict Not 250  Predict In 250\n",
       "Not 250               69              11\n",
       "250                   17              53"
      ]
     },
     "execution_count": 120,
     "metadata": {},
     "output_type": "execute_result"
    }
   ],
   "source": [
    "cm = metrics.confusion_matrix(y_test, predictions)\n",
    "pd.DataFrame(cm, index = ['Not 250','250'], columns = ['Predict Not 250','Predict In 250'])"
   ]
  },
  {
   "cell_type": "code",
   "execution_count": 121,
   "metadata": {
    "collapsed": false
   },
   "outputs": [
    {
     "data": {
      "text/plain": [
       "0.81333333333333335"
      ]
     },
     "execution_count": 121,
     "metadata": {},
     "output_type": "execute_result"
    }
   ],
   "source": [
    "grid_search.best_estimator_.score(x_test,y_test)"
   ]
  },
  {
   "cell_type": "markdown",
   "metadata": {},
   "source": [
    "Random Forest\n",
    "--"
   ]
  },
  {
   "cell_type": "code",
   "execution_count": 186,
   "metadata": {
    "collapsed": true
   },
   "outputs": [],
   "source": [
    "grid_searchrfc = GridSearchCV(rfc,parameters)"
   ]
  },
  {
   "cell_type": "code",
   "execution_count": 187,
   "metadata": {
    "collapsed": false
   },
   "outputs": [
    {
     "data": {
      "text/plain": [
       "GridSearchCV(cv=None, error_score='raise',\n",
       "       estimator=RandomForestClassifier(bootstrap=True, class_weight=None, criterion='gini',\n",
       "            max_depth=None, max_features='auto', max_leaf_nodes=None,\n",
       "            min_impurity_split=1e-07, min_samples_leaf=1,\n",
       "            min_samples_split=2, min_weight_fraction_leaf=0.0,\n",
       "            n_estimators=10, n_jobs=1, oob_score=False, random_state=None,\n",
       "            verbose=0, warm_start=False),\n",
       "       fit_params={}, iid=True, n_jobs=1,\n",
       "       param_grid={'n_estimators': [10, 500, 1000], 'max_features': ['auto', 'log2', None], 'n_jobs': [-1], 'criterion': ['gini'], 'min_samples_leaf': [1, 50]},\n",
       "       pre_dispatch='2*n_jobs', refit=True, return_train_score=True,\n",
       "       scoring=None, verbose=0)"
      ]
     },
     "execution_count": 187,
     "metadata": {},
     "output_type": "execute_result"
    }
   ],
   "source": [
    "grid_searchrfc.fit(x_train, y_train)"
   ]
  },
  {
   "cell_type": "code",
   "execution_count": 193,
   "metadata": {
    "collapsed": false
   },
   "outputs": [
    {
     "data": {
      "text/plain": [
       "RandomForestClassifier(bootstrap=True, class_weight=None, criterion='gini',\n",
       "            max_depth=None, max_features='auto', max_leaf_nodes=None,\n",
       "            min_impurity_split=1e-07, min_samples_leaf=1,\n",
       "            min_samples_split=2, min_weight_fraction_leaf=0.0,\n",
       "            n_estimators=500, n_jobs=-1, oob_score=False,\n",
       "            random_state=None, verbose=0, warm_start=False)"
      ]
     },
     "execution_count": 193,
     "metadata": {},
     "output_type": "execute_result"
    }
   ],
   "source": [
    "grid_searchrfc.best_estimator_.fit(x_train, y_train)"
   ]
  },
  {
   "cell_type": "code",
   "execution_count": 194,
   "metadata": {
    "collapsed": false
   },
   "outputs": [
    {
     "data": {
      "text/plain": [
       "1.0"
      ]
     },
     "execution_count": 194,
     "metadata": {},
     "output_type": "execute_result"
    }
   ],
   "source": [
    "grid_searchrfc.best_estimator_.score(x_train, y_train)"
   ]
  },
  {
   "cell_type": "code",
   "execution_count": 195,
   "metadata": {
    "collapsed": true
   },
   "outputs": [],
   "source": [
    "predictionsrfc = grid_searchrfc.best_estimator_.predict(x_test)"
   ]
  },
  {
   "cell_type": "code",
   "execution_count": 196,
   "metadata": {
    "collapsed": false
   },
   "outputs": [
    {
     "data": {
      "text/html": [
       "<div>\n",
       "<table border=\"1\" class=\"dataframe\">\n",
       "  <thead>\n",
       "    <tr style=\"text-align: right;\">\n",
       "      <th></th>\n",
       "      <th>Predict Not 250</th>\n",
       "      <th>Predict In 250</th>\n",
       "    </tr>\n",
       "  </thead>\n",
       "  <tbody>\n",
       "    <tr>\n",
       "      <th>Not 250</th>\n",
       "      <td>69</td>\n",
       "      <td>11</td>\n",
       "    </tr>\n",
       "    <tr>\n",
       "      <th>250</th>\n",
       "      <td>13</td>\n",
       "      <td>57</td>\n",
       "    </tr>\n",
       "  </tbody>\n",
       "</table>\n",
       "</div>"
      ],
      "text/plain": [
       "         Predict Not 250  Predict In 250\n",
       "Not 250               69              11\n",
       "250                   13              57"
      ]
     },
     "execution_count": 196,
     "metadata": {},
     "output_type": "execute_result"
    }
   ],
   "source": [
    "cmrfc = metrics.confusion_matrix(y_test, predictionsrfc)\n",
    "pd.DataFrame(cmrfc, index = ['Not 250','250'], columns = ['Predict Not 250','Predict In 250'])"
   ]
  },
  {
   "cell_type": "code",
   "execution_count": 197,
   "metadata": {
    "collapsed": false
   },
   "outputs": [
    {
     "data": {
      "text/plain": [
       "0.83999999999999997"
      ]
     },
     "execution_count": 197,
     "metadata": {},
     "output_type": "execute_result"
    }
   ],
   "source": [
    "grid_searchrfc.best_estimator_.score(x_test,y_test)"
   ]
  },
  {
   "cell_type": "code",
   "execution_count": 198,
   "metadata": {
    "collapsed": false
   },
   "outputs": [
    {
     "data": {
      "text/plain": [
       "[('Metascore', 0.21396354655870489),\n",
       " ('Runtime', 0.17408653113973105),\n",
       " ('OscarsWin', 0.057238846870078276),\n",
       " ('Nominations', 0.11863573309597322),\n",
       " ('OtherWins', 0.18934052144631944),\n",
       " ('USA', 0.034576899734391299),\n",
       " ('IsR', 0.01723707013458008),\n",
       " ('ReleaseDaysDiff', 0.19492085102022158)]"
      ]
     },
     "execution_count": 198,
     "metadata": {},
     "output_type": "execute_result"
    }
   ],
   "source": [
    "zip(x_train.columns,grid_searchrfc.best_estimator_.feature_importances_)"
   ]
  },
  {
   "cell_type": "markdown",
   "metadata": {},
   "source": [
    "Bagging Classifier (using Decision Trees)\n",
    "--"
   ]
  },
  {
   "cell_type": "code",
   "execution_count": 136,
   "metadata": {
    "collapsed": true
   },
   "outputs": [],
   "source": [
    "grid_searchb = GridSearchCV(bagging,paramsb)"
   ]
  },
  {
   "cell_type": "code",
   "execution_count": 137,
   "metadata": {
    "collapsed": false
   },
   "outputs": [
    {
     "data": {
      "text/plain": [
       "GridSearchCV(cv=None, error_score='raise',\n",
       "       estimator=BaggingClassifier(base_estimator=None, bootstrap=True,\n",
       "         bootstrap_features=False, max_features=1.0, max_samples=1.0,\n",
       "         n_estimators=10, n_jobs=1, oob_score=False, random_state=None,\n",
       "         verbose=0, warm_start=False),\n",
       "       fit_params={}, iid=True, n_jobs=1,\n",
       "       param_grid={'max_features': [0.5, 1.0], 'max_samples': [0.5, 1.0], 'bootstrap': [True, False], 'n_estimators': [10, 100], 'bootstrap_features': [True, False]},\n",
       "       pre_dispatch='2*n_jobs', refit=True, return_train_score=True,\n",
       "       scoring=None, verbose=0)"
      ]
     },
     "execution_count": 137,
     "metadata": {},
     "output_type": "execute_result"
    }
   ],
   "source": [
    "grid_searchb.fit(x_train, y_train)"
   ]
  },
  {
   "cell_type": "code",
   "execution_count": 138,
   "metadata": {
    "collapsed": false
   },
   "outputs": [
    {
     "data": {
      "text/plain": [
       "BaggingClassifier(base_estimator=None, bootstrap=False,\n",
       "         bootstrap_features=True, max_features=0.5, max_samples=1.0,\n",
       "         n_estimators=100, n_jobs=1, oob_score=False, random_state=None,\n",
       "         verbose=0, warm_start=False)"
      ]
     },
     "execution_count": 138,
     "metadata": {},
     "output_type": "execute_result"
    }
   ],
   "source": [
    "grid_searchb.best_estimator_.fit(x_train, y_train)"
   ]
  },
  {
   "cell_type": "code",
   "execution_count": 139,
   "metadata": {
    "collapsed": false
   },
   "outputs": [
    {
     "data": {
      "text/plain": [
       "1.0"
      ]
     },
     "execution_count": 139,
     "metadata": {},
     "output_type": "execute_result"
    }
   ],
   "source": [
    "grid_searchb.best_estimator_.score(x_train, y_train)"
   ]
  },
  {
   "cell_type": "code",
   "execution_count": 140,
   "metadata": {
    "collapsed": true
   },
   "outputs": [],
   "source": [
    "predictionsb = grid_searchb.best_estimator_.predict(x_test)"
   ]
  },
  {
   "cell_type": "code",
   "execution_count": 141,
   "metadata": {
    "collapsed": false
   },
   "outputs": [
    {
     "data": {
      "text/html": [
       "<div>\n",
       "<table border=\"1\" class=\"dataframe\">\n",
       "  <thead>\n",
       "    <tr style=\"text-align: right;\">\n",
       "      <th></th>\n",
       "      <th>Predict Not 250</th>\n",
       "      <th>Predict In 250</th>\n",
       "    </tr>\n",
       "  </thead>\n",
       "  <tbody>\n",
       "    <tr>\n",
       "      <th>Not 250</th>\n",
       "      <td>70</td>\n",
       "      <td>10</td>\n",
       "    </tr>\n",
       "    <tr>\n",
       "      <th>250</th>\n",
       "      <td>18</td>\n",
       "      <td>52</td>\n",
       "    </tr>\n",
       "  </tbody>\n",
       "</table>\n",
       "</div>"
      ],
      "text/plain": [
       "         Predict Not 250  Predict In 250\n",
       "Not 250               70              10\n",
       "250                   18              52"
      ]
     },
     "execution_count": 141,
     "metadata": {},
     "output_type": "execute_result"
    }
   ],
   "source": [
    "cmb = metrics.confusion_matrix(y_test, predictionsb)\n",
    "pd.DataFrame(cmb, index = ['Not 250','250'], columns = ['Predict Not 250','Predict In 250'])"
   ]
  },
  {
   "cell_type": "code",
   "execution_count": 142,
   "metadata": {
    "collapsed": false
   },
   "outputs": [
    {
     "data": {
      "text/plain": [
       "0.81333333333333335"
      ]
     },
     "execution_count": 142,
     "metadata": {},
     "output_type": "execute_result"
    }
   ],
   "source": [
    "grid_searchb.best_estimator_.score(x_test, y_test)"
   ]
  },
  {
   "cell_type": "markdown",
   "metadata": {},
   "source": [
    "Extra Trees Classifier\n",
    "--"
   ]
  },
  {
   "cell_type": "code",
   "execution_count": 58,
   "metadata": {
    "collapsed": true
   },
   "outputs": [],
   "source": [
    "et = ExtraTreesClassifier()"
   ]
  },
  {
   "cell_type": "code",
   "execution_count": 144,
   "metadata": {
    "collapsed": false
   },
   "outputs": [
    {
     "data": {
      "text/plain": [
       "{'bootstrap': False,\n",
       " 'class_weight': None,\n",
       " 'criterion': 'gini',\n",
       " 'max_depth': None,\n",
       " 'max_features': 'auto',\n",
       " 'max_leaf_nodes': None,\n",
       " 'min_impurity_split': 1e-07,\n",
       " 'min_samples_leaf': 1,\n",
       " 'min_samples_split': 2,\n",
       " 'min_weight_fraction_leaf': 0.0,\n",
       " 'n_estimators': 10,\n",
       " 'n_jobs': 1,\n",
       " 'oob_score': False,\n",
       " 'random_state': None,\n",
       " 'verbose': 0,\n",
       " 'warm_start': False}"
      ]
     },
     "execution_count": 144,
     "metadata": {},
     "output_type": "execute_result"
    }
   ],
   "source": [
    "et.get_params()"
   ]
  },
  {
   "cell_type": "code",
   "execution_count": 59,
   "metadata": {
    "collapsed": true
   },
   "outputs": [],
   "source": [
    "paramset = {'n_estimators':[10,100,500,1000],\n",
    "           'max_features': ['auto','log2'],\n",
    "           'min_samples_leaf': [1,50],\n",
    "           'n_jobs': [-1]}"
   ]
  },
  {
   "cell_type": "code",
   "execution_count": 60,
   "metadata": {
    "collapsed": true
   },
   "outputs": [],
   "source": [
    "grid_searchet = GridSearchCV(et, paramset)"
   ]
  },
  {
   "cell_type": "code",
   "execution_count": 61,
   "metadata": {
    "collapsed": false
   },
   "outputs": [
    {
     "data": {
      "text/plain": [
       "GridSearchCV(cv=None, error_score='raise',\n",
       "       estimator=ExtraTreesClassifier(bootstrap=False, class_weight=None, criterion='gini',\n",
       "           max_depth=None, max_features='auto', max_leaf_nodes=None,\n",
       "           min_impurity_split=1e-07, min_samples_leaf=1,\n",
       "           min_samples_split=2, min_weight_fraction_leaf=0.0,\n",
       "           n_estimators=10, n_jobs=1, oob_score=False, random_state=None,\n",
       "           verbose=0, warm_start=False),\n",
       "       fit_params={}, iid=True, n_jobs=1,\n",
       "       param_grid={'n_estimators': [10, 100, 500, 1000], 'max_features': ['auto', 'log2'], 'n_jobs': [-1], 'min_samples_leaf': [1, 50]},\n",
       "       pre_dispatch='2*n_jobs', refit=True, return_train_score=True,\n",
       "       scoring=None, verbose=0)"
      ]
     },
     "execution_count": 61,
     "metadata": {},
     "output_type": "execute_result"
    }
   ],
   "source": [
    "grid_searchet.fit(x_train, y_train)"
   ]
  },
  {
   "cell_type": "code",
   "execution_count": 62,
   "metadata": {
    "collapsed": false
   },
   "outputs": [
    {
     "data": {
      "text/plain": [
       "ExtraTreesClassifier(bootstrap=False, class_weight=None, criterion='gini',\n",
       "           max_depth=None, max_features='auto', max_leaf_nodes=None,\n",
       "           min_impurity_split=1e-07, min_samples_leaf=1,\n",
       "           min_samples_split=2, min_weight_fraction_leaf=0.0,\n",
       "           n_estimators=1000, n_jobs=-1, oob_score=False,\n",
       "           random_state=None, verbose=0, warm_start=False)"
      ]
     },
     "execution_count": 62,
     "metadata": {},
     "output_type": "execute_result"
    }
   ],
   "source": [
    "grid_searchet.best_estimator_.fit(x_train, y_train)"
   ]
  },
  {
   "cell_type": "code",
   "execution_count": 63,
   "metadata": {
    "collapsed": false
   },
   "outputs": [
    {
     "data": {
      "text/plain": [
       "1.0"
      ]
     },
     "execution_count": 63,
     "metadata": {},
     "output_type": "execute_result"
    }
   ],
   "source": [
    "grid_searchet.best_estimator_.score(x_train, y_train)"
   ]
  },
  {
   "cell_type": "code",
   "execution_count": 64,
   "metadata": {
    "collapsed": true
   },
   "outputs": [],
   "source": [
    "predictionset = grid_searchet.best_estimator_.predict(x_test)"
   ]
  },
  {
   "cell_type": "code",
   "execution_count": 65,
   "metadata": {
    "collapsed": false
   },
   "outputs": [
    {
     "data": {
      "text/html": [
       "<div>\n",
       "<table border=\"1\" class=\"dataframe\">\n",
       "  <thead>\n",
       "    <tr style=\"text-align: right;\">\n",
       "      <th></th>\n",
       "      <th>Predict Not 250</th>\n",
       "      <th>Predict In 250</th>\n",
       "    </tr>\n",
       "  </thead>\n",
       "  <tbody>\n",
       "    <tr>\n",
       "      <th>Not 250</th>\n",
       "      <td>59</td>\n",
       "      <td>10</td>\n",
       "    </tr>\n",
       "    <tr>\n",
       "      <th>250</th>\n",
       "      <td>11</td>\n",
       "      <td>70</td>\n",
       "    </tr>\n",
       "  </tbody>\n",
       "</table>\n",
       "</div>"
      ],
      "text/plain": [
       "         Predict Not 250  Predict In 250\n",
       "Not 250               59              10\n",
       "250                   11              70"
      ]
     },
     "execution_count": 65,
     "metadata": {},
     "output_type": "execute_result"
    }
   ],
   "source": [
    "cmet = metrics.confusion_matrix(y_test, predictionset)\n",
    "pd.DataFrame(cmet, index = ['Not 250','250'], columns = ['Predict Not 250','Predict In 250'])"
   ]
  },
  {
   "cell_type": "code",
   "execution_count": 66,
   "metadata": {
    "collapsed": false
   },
   "outputs": [
    {
     "data": {
      "text/plain": [
       "0.85999999999999999"
      ]
     },
     "execution_count": 66,
     "metadata": {},
     "output_type": "execute_result"
    }
   ],
   "source": [
    "grid_searchet.best_estimator_.score(x_test, y_test)"
   ]
  },
  {
   "cell_type": "code",
   "execution_count": 68,
   "metadata": {
    "collapsed": false
   },
   "outputs": [
    {
     "data": {
      "text/plain": [
       "[('Metascore', 0.19919708807628186),\n",
       " ('Runtime', 0.14904687328838978),\n",
       " ('OscarsWin', 0.07902733487143758),\n",
       " ('Nominations', 0.12820320875172622),\n",
       " ('OtherWins', 0.14141184739894294),\n",
       " ('USA', 0.044277072801837958),\n",
       " ('IsR', 0.027706236912581405),\n",
       " ('ReleaseDaysDiff', 0.23113033789880186)]"
      ]
     },
     "execution_count": 68,
     "metadata": {},
     "output_type": "execute_result"
    }
   ],
   "source": [
    "zip(x_train.columns,grid_searchet.best_estimator_.feature_importances_)"
   ]
  },
  {
   "cell_type": "markdown",
   "metadata": {},
   "source": [
    "Adaboost with Decision Tree or Decision Stump (tree with max_depth = 1)\n",
    "--"
   ]
  },
  {
   "cell_type": "code",
   "execution_count": 158,
   "metadata": {
    "collapsed": true
   },
   "outputs": [],
   "source": [
    "dts = DecisionTreeClassifier(max_depth = 1)\n",
    "dtn = DecisionTreeClassifier()\n",
    "ada = AdaBoostClassifier()"
   ]
  },
  {
   "cell_type": "code",
   "execution_count": 160,
   "metadata": {
    "collapsed": true
   },
   "outputs": [],
   "source": [
    "paramada = {'base_estimator': [dtn, dts],\n",
    "            'n_estimators': [50,100,500]}"
   ]
  },
  {
   "cell_type": "code",
   "execution_count": 161,
   "metadata": {
    "collapsed": true
   },
   "outputs": [],
   "source": [
    "grid_searchada = GridSearchCV(ada, paramada)"
   ]
  },
  {
   "cell_type": "code",
   "execution_count": 162,
   "metadata": {
    "collapsed": false
   },
   "outputs": [
    {
     "data": {
      "text/plain": [
       "GridSearchCV(cv=None, error_score='raise',\n",
       "       estimator=AdaBoostClassifier(algorithm='SAMME.R', base_estimator=None,\n",
       "          learning_rate=1.0, n_estimators=50, random_state=None),\n",
       "       fit_params={}, iid=True, n_jobs=1,\n",
       "       param_grid={'n_estimators': [50, 100, 500], 'base_estimator': [DecisionTreeClassifier(class_weight=None, criterion='gini', max_depth=None,\n",
       "            max_features=None, max_leaf_nodes=None,\n",
       "            min_impurity_split=1e-07, min_samples_leaf=1,\n",
       "            min_samples_split=2, min_weight_fractio...it=2, min_weight_fraction_leaf=0.0,\n",
       "            presort=False, random_state=None, splitter='best')]},\n",
       "       pre_dispatch='2*n_jobs', refit=True, return_train_score=True,\n",
       "       scoring=None, verbose=0)"
      ]
     },
     "execution_count": 162,
     "metadata": {},
     "output_type": "execute_result"
    }
   ],
   "source": [
    "grid_searchada.fit(x_train,y_train)"
   ]
  },
  {
   "cell_type": "code",
   "execution_count": 163,
   "metadata": {
    "collapsed": false
   },
   "outputs": [
    {
     "data": {
      "text/plain": [
       "AdaBoostClassifier(algorithm='SAMME.R',\n",
       "          base_estimator=DecisionTreeClassifier(class_weight=None, criterion='gini', max_depth=1,\n",
       "            max_features=None, max_leaf_nodes=None,\n",
       "            min_impurity_split=1e-07, min_samples_leaf=1,\n",
       "            min_samples_split=2, min_weight_fraction_leaf=0.0,\n",
       "            presort=False, random_state=None, splitter='best'),\n",
       "          learning_rate=1.0, n_estimators=100, random_state=None)"
      ]
     },
     "execution_count": 163,
     "metadata": {},
     "output_type": "execute_result"
    }
   ],
   "source": [
    "grid_searchada.best_estimator_.fit(x_train, y_train)"
   ]
  },
  {
   "cell_type": "markdown",
   "metadata": {},
   "source": [
    "Decision stump was used"
   ]
  },
  {
   "cell_type": "code",
   "execution_count": 164,
   "metadata": {
    "collapsed": false
   },
   "outputs": [
    {
     "data": {
      "text/plain": [
       "0.97428571428571431"
      ]
     },
     "execution_count": 164,
     "metadata": {},
     "output_type": "execute_result"
    }
   ],
   "source": [
    "grid_searchada.best_estimator_.score(x_train, y_train)"
   ]
  },
  {
   "cell_type": "code",
   "execution_count": 165,
   "metadata": {
    "collapsed": true
   },
   "outputs": [],
   "source": [
    "predictionsada = grid_searchada.best_estimator_.predict(x_test)"
   ]
  },
  {
   "cell_type": "code",
   "execution_count": 166,
   "metadata": {
    "collapsed": false
   },
   "outputs": [
    {
     "data": {
      "text/html": [
       "<div>\n",
       "<table border=\"1\" class=\"dataframe\">\n",
       "  <thead>\n",
       "    <tr style=\"text-align: right;\">\n",
       "      <th></th>\n",
       "      <th>Predict Not 250</th>\n",
       "      <th>Predict In 250</th>\n",
       "    </tr>\n",
       "  </thead>\n",
       "  <tbody>\n",
       "    <tr>\n",
       "      <th>Not 250</th>\n",
       "      <td>64</td>\n",
       "      <td>16</td>\n",
       "    </tr>\n",
       "    <tr>\n",
       "      <th>250</th>\n",
       "      <td>15</td>\n",
       "      <td>55</td>\n",
       "    </tr>\n",
       "  </tbody>\n",
       "</table>\n",
       "</div>"
      ],
      "text/plain": [
       "         Predict Not 250  Predict In 250\n",
       "Not 250               64              16\n",
       "250                   15              55"
      ]
     },
     "execution_count": 166,
     "metadata": {},
     "output_type": "execute_result"
    }
   ],
   "source": [
    "cmada = metrics.confusion_matrix(y_test, predictionsada)\n",
    "pd.DataFrame(cmada, index = ['Not 250','250'], columns = ['Predict Not 250','Predict In 250'])"
   ]
  },
  {
   "cell_type": "code",
   "execution_count": 167,
   "metadata": {
    "collapsed": false
   },
   "outputs": [
    {
     "data": {
      "text/plain": [
       "0.79333333333333333"
      ]
     },
     "execution_count": 167,
     "metadata": {},
     "output_type": "execute_result"
    }
   ],
   "source": [
    "grid_searchada.best_estimator_.score(x_test, y_test)"
   ]
  },
  {
   "cell_type": "markdown",
   "metadata": {},
   "source": [
    "Gradient Boosting\n",
    "--"
   ]
  },
  {
   "cell_type": "code",
   "execution_count": 168,
   "metadata": {
    "collapsed": true
   },
   "outputs": [],
   "source": [
    "gbc = GradientBoostingClassifier()"
   ]
  },
  {
   "cell_type": "code",
   "execution_count": 169,
   "metadata": {
    "collapsed": true
   },
   "outputs": [],
   "source": [
    "paramsgbc = {'n_estimators':[100,500,1000],\n",
    "            'max_depth':[3,5,10,25],\n",
    "            'min_samples_leaf': [1,50],\n",
    "            'max_features': ['auto','sqrt']}"
   ]
  },
  {
   "cell_type": "code",
   "execution_count": 170,
   "metadata": {
    "collapsed": true
   },
   "outputs": [],
   "source": [
    "grid_searchgbc = GridSearchCV(gbc, paramsgbc)"
   ]
  },
  {
   "cell_type": "code",
   "execution_count": 171,
   "metadata": {
    "collapsed": false
   },
   "outputs": [
    {
     "data": {
      "text/plain": [
       "GridSearchCV(cv=None, error_score='raise',\n",
       "       estimator=GradientBoostingClassifier(criterion='friedman_mse', init=None,\n",
       "              learning_rate=0.1, loss='deviance', max_depth=3,\n",
       "              max_features=None, max_leaf_nodes=None,\n",
       "              min_impurity_split=1e-07, min_samples_leaf=1,\n",
       "              min_samples_split=2, min_weight_fraction_leaf=0.0,\n",
       "              n_estimators=100, presort='auto', random_state=None,\n",
       "              subsample=1.0, verbose=0, warm_start=False),\n",
       "       fit_params={}, iid=True, n_jobs=1,\n",
       "       param_grid={'n_estimators': [100, 500, 1000], 'max_features': ['auto', 'sqrt'], 'max_depth': [3, 5, 10, 25], 'min_samples_leaf': [1, 50]},\n",
       "       pre_dispatch='2*n_jobs', refit=True, return_train_score=True,\n",
       "       scoring=None, verbose=0)"
      ]
     },
     "execution_count": 171,
     "metadata": {},
     "output_type": "execute_result"
    }
   ],
   "source": [
    "grid_searchgbc.fit(x_train, y_train)"
   ]
  },
  {
   "cell_type": "code",
   "execution_count": 172,
   "metadata": {
    "collapsed": false
   },
   "outputs": [
    {
     "data": {
      "text/plain": [
       "GradientBoostingClassifier(criterion='friedman_mse', init=None,\n",
       "              learning_rate=0.1, loss='deviance', max_depth=25,\n",
       "              max_features='sqrt', max_leaf_nodes=None,\n",
       "              min_impurity_split=1e-07, min_samples_leaf=1,\n",
       "              min_samples_split=2, min_weight_fraction_leaf=0.0,\n",
       "              n_estimators=1000, presort='auto', random_state=None,\n",
       "              subsample=1.0, verbose=0, warm_start=False)"
      ]
     },
     "execution_count": 172,
     "metadata": {},
     "output_type": "execute_result"
    }
   ],
   "source": [
    "grid_searchgbc.best_estimator_.fit(x_train, y_train)"
   ]
  },
  {
   "cell_type": "code",
   "execution_count": 173,
   "metadata": {
    "collapsed": false
   },
   "outputs": [
    {
     "data": {
      "text/plain": [
       "1.0"
      ]
     },
     "execution_count": 173,
     "metadata": {},
     "output_type": "execute_result"
    }
   ],
   "source": [
    "grid_searchgbc.best_estimator_.score(x_train, y_train)"
   ]
  },
  {
   "cell_type": "code",
   "execution_count": 174,
   "metadata": {
    "collapsed": true
   },
   "outputs": [],
   "source": [
    "predictionsgbc = grid_searchgbc.best_estimator_.predict(x_test)"
   ]
  },
  {
   "cell_type": "code",
   "execution_count": 175,
   "metadata": {
    "collapsed": false
   },
   "outputs": [
    {
     "data": {
      "text/html": [
       "<div>\n",
       "<table border=\"1\" class=\"dataframe\">\n",
       "  <thead>\n",
       "    <tr style=\"text-align: right;\">\n",
       "      <th></th>\n",
       "      <th>Predict Not 250</th>\n",
       "      <th>Predict In 250</th>\n",
       "    </tr>\n",
       "  </thead>\n",
       "  <tbody>\n",
       "    <tr>\n",
       "      <th>Not 250</th>\n",
       "      <td>70</td>\n",
       "      <td>10</td>\n",
       "    </tr>\n",
       "    <tr>\n",
       "      <th>250</th>\n",
       "      <td>14</td>\n",
       "      <td>56</td>\n",
       "    </tr>\n",
       "  </tbody>\n",
       "</table>\n",
       "</div>"
      ],
      "text/plain": [
       "         Predict Not 250  Predict In 250\n",
       "Not 250               70              10\n",
       "250                   14              56"
      ]
     },
     "execution_count": 175,
     "metadata": {},
     "output_type": "execute_result"
    }
   ],
   "source": [
    "cmgbc = metrics.confusion_matrix(y_test, predictionsgbc)\n",
    "pd.DataFrame(cmgbc, index = ['Not 250','250'], columns = ['Predict Not 250','Predict In 250'])"
   ]
  },
  {
   "cell_type": "code",
   "execution_count": 176,
   "metadata": {
    "collapsed": false
   },
   "outputs": [
    {
     "data": {
      "text/plain": [
       "0.83999999999999997"
      ]
     },
     "execution_count": 176,
     "metadata": {},
     "output_type": "execute_result"
    }
   ],
   "source": [
    "grid_searchgbc.best_estimator_.score(x_test, y_test)"
   ]
  },
  {
   "cell_type": "markdown",
   "metadata": {},
   "source": [
    "Extreme Gradient Boosting\n",
    "--"
   ]
  },
  {
   "cell_type": "code",
   "execution_count": 38,
   "metadata": {
    "collapsed": false
   },
   "outputs": [],
   "source": [
    "xgb = XGBClassifier()"
   ]
  },
  {
   "cell_type": "code",
   "execution_count": 39,
   "metadata": {
    "collapsed": false
   },
   "outputs": [
    {
     "data": {
      "text/plain": [
       "XGBClassifier(base_score=0.5, colsample_bylevel=1, colsample_bytree=1,\n",
       "       gamma=0, learning_rate=0.1, max_delta_step=0, max_depth=3,\n",
       "       min_child_weight=1, missing=None, n_estimators=100, nthread=-1,\n",
       "       objective='binary:logistic', reg_alpha=0, reg_lambda=1,\n",
       "       scale_pos_weight=1, seed=0, silent=True, subsample=1)"
      ]
     },
     "execution_count": 39,
     "metadata": {},
     "output_type": "execute_result"
    }
   ],
   "source": [
    "xgb"
   ]
  },
  {
   "cell_type": "code",
   "execution_count": 40,
   "metadata": {
    "collapsed": true
   },
   "outputs": [],
   "source": [
    "xgbparam = {'learning_rate': [0.01,0.1],\n",
    "           'n_estimators':[100,1000],\n",
    "           'objective': ['binary:logistic'],\n",
    "           'max_depth': [5,6],\n",
    "           'min_child_weight':[1,10],\n",
    "           'subsample': [0.8],\n",
    "           'colsample_bytree':[0.8,1]\n",
    "           }"
   ]
  },
  {
   "cell_type": "code",
   "execution_count": 41,
   "metadata": {
    "collapsed": true
   },
   "outputs": [],
   "source": [
    "grid_searchxgb = GridSearchCV(xgb,xgbparam)"
   ]
  },
  {
   "cell_type": "code",
   "execution_count": 42,
   "metadata": {
    "collapsed": false
   },
   "outputs": [
    {
     "data": {
      "text/plain": [
       "GridSearchCV(cv=None, error_score='raise',\n",
       "       estimator=XGBClassifier(base_score=0.5, colsample_bylevel=1, colsample_bytree=1,\n",
       "       gamma=0, learning_rate=0.1, max_delta_step=0, max_depth=3,\n",
       "       min_child_weight=1, missing=None, n_estimators=100, nthread=-1,\n",
       "       objective='binary:logistic', reg_alpha=0, reg_lambda=1,\n",
       "       scale_pos_weight=1, seed=0, silent=True, subsample=1),\n",
       "       fit_params={}, iid=True, n_jobs=1,\n",
       "       param_grid={'colsample_bytree': [0.8, 1], 'learning_rate': [0.01, 0.1], 'min_child_weight': [1, 10], 'n_estimators': [100, 1000], 'subsample': [0.8], 'objective': ['binary:logistic'], 'max_depth': [5, 6]},\n",
       "       pre_dispatch='2*n_jobs', refit=True, return_train_score=True,\n",
       "       scoring=None, verbose=0)"
      ]
     },
     "execution_count": 42,
     "metadata": {},
     "output_type": "execute_result"
    }
   ],
   "source": [
    "grid_searchxgb.fit(x_train, y_train)"
   ]
  },
  {
   "cell_type": "code",
   "execution_count": 43,
   "metadata": {
    "collapsed": false
   },
   "outputs": [
    {
     "data": {
      "text/plain": [
       "XGBClassifier(base_score=0.5, colsample_bylevel=1, colsample_bytree=0.8,\n",
       "       gamma=0, learning_rate=0.01, max_delta_step=0, max_depth=5,\n",
       "       min_child_weight=1, missing=None, n_estimators=100, nthread=-1,\n",
       "       objective='binary:logistic', reg_alpha=0, reg_lambda=1,\n",
       "       scale_pos_weight=1, seed=0, silent=True, subsample=0.8)"
      ]
     },
     "execution_count": 43,
     "metadata": {},
     "output_type": "execute_result"
    }
   ],
   "source": [
    "grid_searchxgb.best_estimator_.fit(x_train, y_train)"
   ]
  },
  {
   "cell_type": "code",
   "execution_count": 44,
   "metadata": {
    "collapsed": true
   },
   "outputs": [],
   "source": [
    "predictionsxgb = grid_searchxgb.best_estimator_.predict(x_train)"
   ]
  },
  {
   "cell_type": "code",
   "execution_count": 45,
   "metadata": {
    "collapsed": false
   },
   "outputs": [
    {
     "data": {
      "text/plain": [
       "0.91714285714285715"
      ]
     },
     "execution_count": 45,
     "metadata": {},
     "output_type": "execute_result"
    }
   ],
   "source": [
    "accuracy = metrics.accuracy_score(y_train, predictionsxgb)\n",
    "accuracy"
   ]
  },
  {
   "cell_type": "code",
   "execution_count": 46,
   "metadata": {
    "collapsed": false
   },
   "outputs": [
    {
     "data": {
      "text/plain": [
       "array([[ 0.8032093 ,  0.19679071],\n",
       "       [ 0.23907048,  0.76092952],\n",
       "       [ 0.75856465,  0.24143536],\n",
       "       [ 0.233042  ,  0.766958  ],\n",
       "       [ 0.2401706 ,  0.7598294 ],\n",
       "       [ 0.79148912,  0.20851085],\n",
       "       [ 0.21565741,  0.78434259],\n",
       "       [ 0.23802549,  0.76197451],\n",
       "       [ 0.66109943,  0.33890057],\n",
       "       [ 0.45967007,  0.54032993],\n",
       "       [ 0.31954592,  0.68045408],\n",
       "       [ 0.80392456,  0.19607547],\n",
       "       [ 0.3066712 ,  0.6933288 ],\n",
       "       [ 0.67936248,  0.32063752],\n",
       "       [ 0.23800725,  0.76199275],\n",
       "       [ 0.2737155 ,  0.7262845 ],\n",
       "       [ 0.23079598,  0.76920402],\n",
       "       [ 0.80392456,  0.19607547],\n",
       "       [ 0.80392456,  0.19607547],\n",
       "       [ 0.80392456,  0.19607547],\n",
       "       [ 0.80392456,  0.19607547],\n",
       "       [ 0.73876977,  0.2612302 ],\n",
       "       [ 0.22927541,  0.77072459],\n",
       "       [ 0.3283096 ,  0.6716904 ],\n",
       "       [ 0.80279362,  0.19720638],\n",
       "       [ 0.24911559,  0.75088441],\n",
       "       [ 0.48291141,  0.51708859],\n",
       "       [ 0.80392456,  0.19607547],\n",
       "       [ 0.70450461,  0.29549539],\n",
       "       [ 0.30699843,  0.69300157],\n",
       "       [ 0.66033888,  0.33966112],\n",
       "       [ 0.2312237 ,  0.7687763 ],\n",
       "       [ 0.31647062,  0.68352938],\n",
       "       [ 0.23120511,  0.76879489],\n",
       "       [ 0.44418442,  0.55581558],\n",
       "       [ 0.80392456,  0.19607547],\n",
       "       [ 0.22240269,  0.77759731],\n",
       "       [ 0.42551315,  0.57448685],\n",
       "       [ 0.27366138,  0.72633862],\n",
       "       [ 0.25183976,  0.74816024],\n",
       "       [ 0.70367253,  0.29632744],\n",
       "       [ 0.62597835,  0.37402162],\n",
       "       [ 0.24336064,  0.75663936],\n",
       "       [ 0.34811747,  0.65188253],\n",
       "       [ 0.49378538,  0.50621462],\n",
       "       [ 0.7220602 ,  0.27793983],\n",
       "       [ 0.3679952 ,  0.6320048 ],\n",
       "       [ 0.34181035,  0.65818965],\n",
       "       [ 0.29059666,  0.70940334],\n",
       "       [ 0.55708969,  0.44291028],\n",
       "       [ 0.21842426,  0.78157574],\n",
       "       [ 0.80279362,  0.19720638],\n",
       "       [ 0.46574426,  0.53425574],\n",
       "       [ 0.27977836,  0.72022164],\n",
       "       [ 0.77747744,  0.22252256],\n",
       "       [ 0.77976698,  0.22023302],\n",
       "       [ 0.80392456,  0.19607547],\n",
       "       [ 0.33820415,  0.66179585],\n",
       "       [ 0.74623775,  0.25376222],\n",
       "       [ 0.22257799,  0.77742201],\n",
       "       [ 0.80392456,  0.19607547],\n",
       "       [ 0.31683999,  0.68316001],\n",
       "       [ 0.41107744,  0.58892256],\n",
       "       [ 0.32910854,  0.67089146],\n",
       "       [ 0.23172706,  0.76827294],\n",
       "       [ 0.8032093 ,  0.19679071],\n",
       "       [ 0.51829362,  0.48170641],\n",
       "       [ 0.27284616,  0.72715384],\n",
       "       [ 0.60869062,  0.39130941],\n",
       "       [ 0.39210457,  0.60789543],\n",
       "       [ 0.22353899,  0.77646101],\n",
       "       [ 0.64025891,  0.35974106],\n",
       "       [ 0.22921664,  0.77078336],\n",
       "       [ 0.2333948 ,  0.7666052 ],\n",
       "       [ 0.56863099,  0.43136901],\n",
       "       [ 0.80279362,  0.19720638],\n",
       "       [ 0.80392456,  0.19607547],\n",
       "       [ 0.76779449,  0.23220554],\n",
       "       [ 0.73994011,  0.26005989],\n",
       "       [ 0.72281671,  0.27718326],\n",
       "       [ 0.80279362,  0.19720638],\n",
       "       [ 0.26833421,  0.73166579],\n",
       "       [ 0.80039072,  0.19960925],\n",
       "       [ 0.7967    ,  0.20329998],\n",
       "       [ 0.4116376 ,  0.5883624 ],\n",
       "       [ 0.80392456,  0.19607547],\n",
       "       [ 0.78017086,  0.21982914],\n",
       "       [ 0.63128012,  0.36871988],\n",
       "       [ 0.77800238,  0.22199765],\n",
       "       [ 0.23949397,  0.76050603],\n",
       "       [ 0.41671163,  0.58328837],\n",
       "       [ 0.80392456,  0.19607547],\n",
       "       [ 0.47650939,  0.52349061],\n",
       "       [ 0.8032093 ,  0.19679071],\n",
       "       [ 0.35571843,  0.64428157],\n",
       "       [ 0.76711321,  0.23288681],\n",
       "       [ 0.80392456,  0.19607547],\n",
       "       [ 0.73994011,  0.26005989],\n",
       "       [ 0.80392456,  0.19607547],\n",
       "       [ 0.80207527,  0.19792475],\n",
       "       [ 0.7967    ,  0.20329998],\n",
       "       [ 0.80392456,  0.19607547],\n",
       "       [ 0.69991976,  0.30008024],\n",
       "       [ 0.26517779,  0.73482221],\n",
       "       [ 0.59732139,  0.40267864],\n",
       "       [ 0.23208207,  0.76791793],\n",
       "       [ 0.64324868,  0.35675132],\n",
       "       [ 0.80392456,  0.19607547],\n",
       "       [ 0.70693332,  0.29306668],\n",
       "       [ 0.22520906,  0.77479094],\n",
       "       [ 0.22237331,  0.77762669],\n",
       "       [ 0.77784735,  0.22215264],\n",
       "       [ 0.28695977,  0.71304023],\n",
       "       [ 0.26587969,  0.73412031],\n",
       "       [ 0.43476313,  0.56523687],\n",
       "       [ 0.22039014,  0.77960986],\n",
       "       [ 0.80392456,  0.19607547],\n",
       "       [ 0.47884899,  0.52115101],\n",
       "       [ 0.2432009 ,  0.7567991 ],\n",
       "       [ 0.21923298,  0.78076702],\n",
       "       [ 0.41373014,  0.58626986],\n",
       "       [ 0.68784094,  0.31215909],\n",
       "       [ 0.25378495,  0.74621505],\n",
       "       [ 0.79636657,  0.2036334 ],\n",
       "       [ 0.23398536,  0.76601464],\n",
       "       [ 0.25518769,  0.74481231],\n",
       "       [ 0.62387258,  0.37612742],\n",
       "       [ 0.60148501,  0.39851499],\n",
       "       [ 0.41365904,  0.58634096],\n",
       "       [ 0.77408767,  0.22591235],\n",
       "       [ 0.8032093 ,  0.19679071],\n",
       "       [ 0.22586006,  0.77413994],\n",
       "       [ 0.64043975,  0.35956025],\n",
       "       [ 0.26124203,  0.73875797],\n",
       "       [ 0.77976698,  0.22023302],\n",
       "       [ 0.26836371,  0.73163629],\n",
       "       [ 0.22020125,  0.77979875],\n",
       "       [ 0.79586256,  0.20413743],\n",
       "       [ 0.80279362,  0.19720638],\n",
       "       [ 0.7043649 ,  0.2956351 ],\n",
       "       [ 0.23222876,  0.76777124],\n",
       "       [ 0.24101287,  0.75898713],\n",
       "       [ 0.65025663,  0.34974334],\n",
       "       [ 0.68062228,  0.31937772],\n",
       "       [ 0.80392456,  0.19607547],\n",
       "       [ 0.2238189 ,  0.7761811 ],\n",
       "       [ 0.26221538,  0.73778462],\n",
       "       [ 0.46202767,  0.53797233],\n",
       "       [ 0.31233096,  0.68766904],\n",
       "       [ 0.35416245,  0.64583755],\n",
       "       [ 0.7596513 ,  0.2403487 ],\n",
       "       [ 0.22437561,  0.77562439],\n",
       "       [ 0.80392456,  0.19607547],\n",
       "       [ 0.66864383,  0.33135614],\n",
       "       [ 0.54801738,  0.45198265],\n",
       "       [ 0.77961284,  0.22038716],\n",
       "       [ 0.54846227,  0.4515377 ],\n",
       "       [ 0.80392456,  0.19607547],\n",
       "       [ 0.42563069,  0.57436931],\n",
       "       [ 0.24181741,  0.75818259],\n",
       "       [ 0.40150595,  0.59849405],\n",
       "       [ 0.62480885,  0.37519115],\n",
       "       [ 0.50095022,  0.49904981],\n",
       "       [ 0.33339232,  0.66660768],\n",
       "       [ 0.80392456,  0.19607547],\n",
       "       [ 0.8032093 ,  0.19679071],\n",
       "       [ 0.34062922,  0.65937078],\n",
       "       [ 0.48577249,  0.51422751],\n",
       "       [ 0.77154535,  0.22845465],\n",
       "       [ 0.80249017,  0.19750981],\n",
       "       [ 0.26860565,  0.73139435],\n",
       "       [ 0.25583905,  0.74416095],\n",
       "       [ 0.61448532,  0.38551468],\n",
       "       [ 0.22780508,  0.77219492],\n",
       "       [ 0.77961284,  0.22038716],\n",
       "       [ 0.3566131 ,  0.6433869 ],\n",
       "       [ 0.7723003 ,  0.2276997 ],\n",
       "       [ 0.24978393,  0.75021607],\n",
       "       [ 0.7719909 ,  0.22800912],\n",
       "       [ 0.31261677,  0.68738323],\n",
       "       [ 0.29461563,  0.70538437],\n",
       "       [ 0.78212422,  0.21787578],\n",
       "       [ 0.24501395,  0.75498605],\n",
       "       [ 0.28972358,  0.71027642],\n",
       "       [ 0.38813561,  0.61186439],\n",
       "       [ 0.7348544 ,  0.2651456 ],\n",
       "       [ 0.65319151,  0.34680849],\n",
       "       [ 0.24944216,  0.75055784],\n",
       "       [ 0.26814848,  0.73185152],\n",
       "       [ 0.68895638,  0.31104362],\n",
       "       [ 0.80392456,  0.19607547],\n",
       "       [ 0.80392456,  0.19607547],\n",
       "       [ 0.54903364,  0.45096639],\n",
       "       [ 0.80145329,  0.19854671],\n",
       "       [ 0.80392456,  0.19607547],\n",
       "       [ 0.2279101 ,  0.7720899 ],\n",
       "       [ 0.44562012,  0.55437988],\n",
       "       [ 0.25204307,  0.74795693],\n",
       "       [ 0.77976698,  0.22023302],\n",
       "       [ 0.75314784,  0.24685216],\n",
       "       [ 0.80392456,  0.19607547],\n",
       "       [ 0.2420004 ,  0.7579996 ],\n",
       "       [ 0.64631069,  0.35368931],\n",
       "       [ 0.23156875,  0.76843125],\n",
       "       [ 0.71885395,  0.28114602],\n",
       "       [ 0.32796216,  0.67203784],\n",
       "       [ 0.6673336 ,  0.33266637],\n",
       "       [ 0.23941505,  0.76058495],\n",
       "       [ 0.22477335,  0.77522665],\n",
       "       [ 0.43202609,  0.56797391],\n",
       "       [ 0.57285947,  0.42714053],\n",
       "       [ 0.74967766,  0.25032234],\n",
       "       [ 0.47119021,  0.52880979],\n",
       "       [ 0.74134338,  0.25865665],\n",
       "       [ 0.45073509,  0.54926491],\n",
       "       [ 0.77976698,  0.22023302],\n",
       "       [ 0.67588162,  0.32411841],\n",
       "       [ 0.25426853,  0.74573147],\n",
       "       [ 0.80392456,  0.19607547],\n",
       "       [ 0.34059447,  0.65940553],\n",
       "       [ 0.80068481,  0.19931521],\n",
       "       [ 0.7967    ,  0.20329998],\n",
       "       [ 0.46118766,  0.53881234],\n",
       "       [ 0.66749972,  0.33250028],\n",
       "       [ 0.45535284,  0.54464716],\n",
       "       [ 0.30482411,  0.69517589],\n",
       "       [ 0.46517724,  0.53482276],\n",
       "       [ 0.80392456,  0.19607547],\n",
       "       [ 0.79903817,  0.20096181],\n",
       "       [ 0.38726366,  0.61273634],\n",
       "       [ 0.27404749,  0.72595251],\n",
       "       [ 0.25012082,  0.74987918],\n",
       "       [ 0.27907395,  0.72092605],\n",
       "       [ 0.23729503,  0.76270497],\n",
       "       [ 0.80392456,  0.19607547],\n",
       "       [ 0.77965635,  0.22034363],\n",
       "       [ 0.51534569,  0.48465431],\n",
       "       [ 0.23742384,  0.76257616],\n",
       "       [ 0.80392456,  0.19607547],\n",
       "       [ 0.80279362,  0.19720638],\n",
       "       [ 0.25631744,  0.74368256],\n",
       "       [ 0.60455823,  0.3954418 ],\n",
       "       [ 0.79755616,  0.20244382],\n",
       "       [ 0.65717876,  0.34282124],\n",
       "       [ 0.36962986,  0.63037014],\n",
       "       [ 0.29526103,  0.70473897],\n",
       "       [ 0.29772782,  0.70227218],\n",
       "       [ 0.35691047,  0.64308953],\n",
       "       [ 0.233042  ,  0.766958  ],\n",
       "       [ 0.23388809,  0.76611191],\n",
       "       [ 0.55148673,  0.44851327],\n",
       "       [ 0.58867967,  0.41132033],\n",
       "       [ 0.24231821,  0.75768179],\n",
       "       [ 0.62068665,  0.37931332],\n",
       "       [ 0.79093385,  0.20906614],\n",
       "       [ 0.28330171,  0.71669829],\n",
       "       [ 0.61101204,  0.38898796],\n",
       "       [ 0.24871999,  0.75128001],\n",
       "       [ 0.55349505,  0.44650495],\n",
       "       [ 0.23351461,  0.76648539],\n",
       "       [ 0.26657391,  0.73342609],\n",
       "       [ 0.27519572,  0.72480428],\n",
       "       [ 0.2543909 ,  0.7456091 ],\n",
       "       [ 0.23574227,  0.76425773],\n",
       "       [ 0.30510026,  0.69489974],\n",
       "       [ 0.77412724,  0.22587274],\n",
       "       [ 0.75121605,  0.24878393],\n",
       "       [ 0.77600944,  0.22399056],\n",
       "       [ 0.80392456,  0.19607547],\n",
       "       [ 0.80392456,  0.19607547],\n",
       "       [ 0.22163677,  0.77836323],\n",
       "       [ 0.24551386,  0.75448614],\n",
       "       [ 0.6328432 ,  0.3671568 ],\n",
       "       [ 0.57783872,  0.42216128],\n",
       "       [ 0.77585775,  0.22414227],\n",
       "       [ 0.80039072,  0.19960925],\n",
       "       [ 0.24441278,  0.75558722],\n",
       "       [ 0.23375368,  0.76624632],\n",
       "       [ 0.77976698,  0.22023302],\n",
       "       [ 0.26853603,  0.73146397],\n",
       "       [ 0.80392456,  0.19607547],\n",
       "       [ 0.80259001,  0.19741   ],\n",
       "       [ 0.78317273,  0.2168273 ],\n",
       "       [ 0.3122552 ,  0.6877448 ],\n",
       "       [ 0.56013525,  0.43986472],\n",
       "       [ 0.28041166,  0.71958834],\n",
       "       [ 0.80279362,  0.19720638],\n",
       "       [ 0.77543944,  0.22456054],\n",
       "       [ 0.22904932,  0.77095068],\n",
       "       [ 0.29457676,  0.70542324],\n",
       "       [ 0.77142942,  0.22857055],\n",
       "       [ 0.80392456,  0.19607547],\n",
       "       [ 0.35163313,  0.64836687],\n",
       "       [ 0.45155126,  0.54844874],\n",
       "       [ 0.731233  ,  0.26876697],\n",
       "       [ 0.26517779,  0.73482221],\n",
       "       [ 0.80392456,  0.19607547],\n",
       "       [ 0.36705369,  0.63294631],\n",
       "       [ 0.3343277 ,  0.6656723 ],\n",
       "       [ 0.23982257,  0.76017743],\n",
       "       [ 0.21983081,  0.78016919],\n",
       "       [ 0.27229309,  0.72770691],\n",
       "       [ 0.3280521 ,  0.6719479 ],\n",
       "       [ 0.24422473,  0.75577527],\n",
       "       [ 0.78514731,  0.21485269],\n",
       "       [ 0.51917529,  0.48082468],\n",
       "       [ 0.71976495,  0.28023502],\n",
       "       [ 0.77130222,  0.22869781],\n",
       "       [ 0.78460324,  0.21539676],\n",
       "       [ 0.40620166,  0.59379834],\n",
       "       [ 0.26158029,  0.73841971],\n",
       "       [ 0.2590698 ,  0.7409302 ],\n",
       "       [ 0.38359541,  0.61640459],\n",
       "       [ 0.48601294,  0.51398706],\n",
       "       [ 0.23916453,  0.76083547],\n",
       "       [ 0.62919426,  0.37080577],\n",
       "       [ 0.7393738 ,  0.26062623],\n",
       "       [ 0.79800487,  0.20199515],\n",
       "       [ 0.80392456,  0.19607547],\n",
       "       [ 0.22889763,  0.77110237],\n",
       "       [ 0.24017483,  0.75982517],\n",
       "       [ 0.7265687 ,  0.27343127],\n",
       "       [ 0.27401161,  0.72598839],\n",
       "       [ 0.59258026,  0.40741974],\n",
       "       [ 0.44048417,  0.55951583],\n",
       "       [ 0.80392456,  0.19607547],\n",
       "       [ 0.80279362,  0.19720638],\n",
       "       [ 0.25797945,  0.74202055],\n",
       "       [ 0.23377466,  0.76622534],\n",
       "       [ 0.27765268,  0.72234732],\n",
       "       [ 0.69845319,  0.30154678],\n",
       "       [ 0.58963597,  0.41036406],\n",
       "       [ 0.57851452,  0.42148548],\n",
       "       [ 0.59386688,  0.40613312],\n",
       "       [ 0.23669469,  0.76330531],\n",
       "       [ 0.41706586,  0.58293414],\n",
       "       [ 0.36033517,  0.63966483],\n",
       "       [ 0.27857977,  0.72142023],\n",
       "       [ 0.29611719,  0.70388281],\n",
       "       [ 0.64995801,  0.35004199],\n",
       "       [ 0.80392456,  0.19607547],\n",
       "       [ 0.35997462,  0.64002538],\n",
       "       [ 0.50058901,  0.49941102],\n",
       "       [ 0.29686081,  0.70313919],\n",
       "       [ 0.32265371,  0.67734629],\n",
       "       [ 0.74333233,  0.25666767],\n",
       "       [ 0.80392456,  0.19607547],\n",
       "       [ 0.69739443,  0.30260557],\n",
       "       [ 0.6625278 ,  0.3374722 ],\n",
       "       [ 0.37345368,  0.62654632]], dtype=float32)"
      ]
     },
     "execution_count": 46,
     "metadata": {},
     "output_type": "execute_result"
    }
   ],
   "source": [
    "predictprobxgb = grid_searchxgb.best_estimator_.predict_proba(x_train)\n",
    "predictprobxgb"
   ]
  },
  {
   "cell_type": "code",
   "execution_count": 47,
   "metadata": {
    "collapsed": false
   },
   "outputs": [
    {
     "data": {
      "text/plain": [
       "array([ 0.,  1.,  0.,  1.,  1.,  0.,  1.,  1.,  0.,  1.,  1.,  0.,  1.,\n",
       "        0.,  1.,  1.,  1.,  0.,  0.,  0.,  0.,  0.,  1.,  1.,  0.,  1.,\n",
       "        1.,  0.,  0.,  1.,  0.,  1.,  1.,  1.,  1.,  0.,  1.,  1.,  1.,\n",
       "        1.,  0.,  0.,  1.,  1.,  1.,  0.,  1.,  1.,  1.,  0.,  1.,  0.,\n",
       "        1.,  1.,  0.,  0.,  0.,  1.,  0.,  1.,  0.,  1.,  1.,  1.,  1.,\n",
       "        0.,  0.,  1.,  0.,  1.,  1.,  0.,  1.,  1.,  0.,  0.,  0.,  0.,\n",
       "        0.,  0.,  0.,  1.,  0.,  0.,  1.,  0.,  0.,  0.,  0.,  1.,  1.,\n",
       "        0.,  1.,  0.,  1.,  0.,  0.,  0.,  0.,  0.,  0.,  0.,  0.,  1.,\n",
       "        0.,  1.,  0.,  0.,  0.,  1.,  1.,  0.,  1.,  1.,  1.,  1.,  0.,\n",
       "        1.,  1.,  1.,  1.,  0.,  1.,  0.,  1.,  1.,  0.,  0.,  1.,  0.,\n",
       "        0.,  1.,  0.,  1.,  0.,  1.,  1.,  0.,  0.,  0.,  1.,  1.,  0.,\n",
       "        0.,  0.,  1.,  1.,  1.,  1.,  1.,  0.,  1.,  0.,  0.,  0.,  0.,\n",
       "        0.,  0.,  1.,  1.,  1.,  0.,  0.,  1.,  0.,  0.,  1.,  1.,  0.,\n",
       "        0.,  1.,  1.,  0.,  1.,  0.,  1.,  0.,  1.,  0.,  1.,  1.,  0.,\n",
       "        1.,  1.,  1.,  0.,  0.,  1.,  1.,  0.,  0.,  0.,  0.,  0.,  0.,\n",
       "        1.,  1.,  1.,  0.,  0.,  0.,  1.,  0.,  1.,  0.,  1.,  0.,  1.,\n",
       "        1.,  1.,  0.,  0.,  1.,  0.,  1.,  0.,  0.,  1.,  0.,  1.,  0.,\n",
       "        0.,  1.,  0.,  1.,  1.,  1.,  0.,  0.,  1.,  1.,  1.,  1.,  1.,\n",
       "        0.,  0.,  0.,  1.,  0.,  0.,  1.,  0.,  0.,  0.,  1.,  1.,  1.,\n",
       "        1.,  1.,  1.,  0.,  0.,  1.,  0.,  0.,  1.,  0.,  1.,  0.,  1.,\n",
       "        1.,  1.,  1.,  1.,  1.,  0.,  0.,  0.,  0.,  0.,  1.,  1.,  0.,\n",
       "        0.,  0.,  0.,  1.,  1.,  0.,  1.,  0.,  0.,  0.,  1.,  0.,  1.,\n",
       "        0.,  0.,  1.,  1.,  0.,  0.,  1.,  1.,  0.,  1.,  0.,  1.,  1.,\n",
       "        1.,  1.,  1.,  1.,  1.,  0.,  0.,  0.,  0.,  0.,  1.,  1.,  1.,\n",
       "        1.,  1.,  1.,  0.,  0.,  0.,  0.,  1.,  1.,  0.,  1.,  0.,  1.,\n",
       "        0.,  0.,  1.,  1.,  1.,  0.,  0.,  0.,  0.,  1.,  1.,  1.,  1.,\n",
       "        1.,  0.,  0.,  1.,  0.,  1.,  1.,  0.,  0.,  0.,  0.,  1.], dtype=float32)"
      ]
     },
     "execution_count": 47,
     "metadata": {},
     "output_type": "execute_result"
    }
   ],
   "source": [
    "predict_proba = predictprobxgb[:,1]\n",
    "predict_proba[predict_proba > 0.5] = 1\n",
    "predict_proba[predict_proba <= 0.5] = 0\n",
    "predict_proba"
   ]
  },
  {
   "cell_type": "code",
   "execution_count": 48,
   "metadata": {
    "collapsed": false
   },
   "outputs": [
    {
     "data": {
      "text/plain": [
       "0.91773186439569776"
      ]
     },
     "execution_count": 48,
     "metadata": {},
     "output_type": "execute_result"
    }
   ],
   "source": [
    "auc = metrics.roc_auc_score(y_train, predict_proba)\n",
    "auc"
   ]
  },
  {
   "cell_type": "code",
   "execution_count": 32,
   "metadata": {
    "collapsed": true
   },
   "outputs": [],
   "source": [
    "import xgboost"
   ]
  },
  {
   "cell_type": "code",
   "execution_count": 69,
   "metadata": {
    "collapsed": false
   },
   "outputs": [
    {
     "data": {
      "image/png": "[encoded data removed]",
      "text/plain": [
       "<matplotlib.figure.Figure at 0x11c4ba150>"
      ]
     },
     "metadata": {},
     "output_type": "display_data"
    }
   ],
   "source": [
    "xgboost.plot_importance(grid_searchxgb.best_estimator_)\n",
    "plt.tight_layout()\n",
    "plt.savefig('xgboostfi.png')"
   ]
  },
  {
   "cell_type": "code",
   "execution_count": 50,
   "metadata": {
    "collapsed": true
   },
   "outputs": [],
   "source": [
    "predictionsxgbtest = grid_searchxgb.best_estimator_.predict(x_test)"
   ]
  },
  {
   "cell_type": "code",
   "execution_count": 51,
   "metadata": {
    "collapsed": false
   },
   "outputs": [
    {
     "data": {
      "text/plain": [
       "0.83999999999999997"
      ]
     },
     "execution_count": 51,
     "metadata": {},
     "output_type": "execute_result"
    }
   ],
   "source": [
    "testaccuracy = metrics.accuracy_score(y_test, predictionsxgbtest)\n",
    "testaccuracy"
   ]
  },
  {
   "cell_type": "code",
   "execution_count": 52,
   "metadata": {
    "collapsed": true
   },
   "outputs": [],
   "source": [
    "predictprobabtest = grid_searchxgb.best_estimator_.predict_proba(x_test)"
   ]
  },
  {
   "cell_type": "code",
   "execution_count": 53,
   "metadata": {
    "collapsed": true
   },
   "outputs": [],
   "source": [
    "predict_probatest = predictprobabtest[:,1]\n",
    "predict_probatest[predict_probatest > 0.5] = 1\n",
    "predict_probatest[predict_probatest <= 0.5] = 0\n"
   ]
  },
  {
   "cell_type": "code",
   "execution_count": 54,
   "metadata": {
    "collapsed": false
   },
   "outputs": [
    {
     "data": {
      "text/plain": [
       "0.84004294149221681"
      ]
     },
     "execution_count": 54,
     "metadata": {},
     "output_type": "execute_result"
    }
   ],
   "source": [
    "auctest = metrics.roc_auc_score(y_test, predict_probatest)\n",
    "auctest"
   ]
  },
  {
   "cell_type": "markdown",
   "metadata": {},
   "source": [
    "Final Scores (Mean-accuracy or ROC-AUC)\n",
    "--"
   ]
  },
  {
   "cell_type": "markdown",
   "metadata": {},
   "source": [
    "* **Decision Tree**: 81.33%\n",
    "* **Random Forest**: 83.97%\n",
    "* **Bagging Decision Tree**: 81.33%\n",
    "* **Extre Trees**: 85.99%\n",
    "* **Adaboost Decision Stump**: 79.33%\n",
    "* **Gradient Boosting**: 83.97%\n",
    "* **Extreme Gradient Boosting**: 84%"
   ]
  }
 ],
 "metadata": {
  "kernelspec": {
   "display_name": "Python 2",
   "language": "python",
   "name": "python2"
  },
  "language_info": {
   "codemirror_mode": {
    "name": "ipython",
    "version": 2
   },
   "file_extension": ".py",
   "mimetype": "text/x-python",
   "name": "python",
   "nbconvert_exporter": "python",
   "pygments_lexer": "ipython2",
   "version": "2.7.13"
  }
 },
 "nbformat": 4,
 "nbformat_minor": 2
}
