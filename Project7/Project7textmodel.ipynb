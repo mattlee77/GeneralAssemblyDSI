{
 "cells": [
  {
   "cell_type": "code",
   "execution_count": 1,
   "metadata": {
    "collapsed": true
   },
   "outputs": [],
   "source": [
    "import numpy as np\n",
    "import pandas as pd\n",
    "import matplotlib.pyplot as plt\n",
    "import seaborn as sns\n",
    "from nltk.stem import PorterStemmer\n",
    "from sklearn.feature_extraction.text import CountVectorizer, HashingVectorizer, TfidfVectorizer\n",
    "from nltk.tokenize import PunktSentenceTokenizer, WordPunctTokenizer\n",
    "from nltk.corpus import stopwords\n",
    "from sklearn.preprocessing import StandardScaler\n",
    "from sklearn.decomposition import PCA, TruncatedSVD\n",
    "from sklearn.cluster import KMeans, AgglomerativeClustering\n",
    "from scipy.cluster.hierarchy import dendrogram, linkage, cophenet, fcluster\n",
    "from scipy.spatial.distance import pdist\n",
    "from sklearn.manifold import TSNE\n",
    "from sklearn import metrics\n",
    "%matplotlib inline"
   ]
  },
  {
   "cell_type": "code",
   "execution_count": 4,
   "metadata": {
    "collapsed": true
   },
   "outputs": [],
   "source": [
    "text = pd.read_csv('textdf.csv', names = ['Text'])"
   ]
  },
  {
   "cell_type": "code",
   "execution_count": 5,
   "metadata": {
    "collapsed": false
   },
   "outputs": [
    {
     "data": {
      "text/html": [
       "<div>\n",
       "<table border=\"1\" class=\"dataframe\">\n",
       "  <thead>\n",
       "    <tr style=\"text-align: right;\">\n",
       "      <th></th>\n",
       "      <th>Text</th>\n",
       "    </tr>\n",
       "  </thead>\n",
       "  <tbody>\n",
       "    <tr>\n",
       "      <th>0</th>\n",
       "      <td>I have a Sony surround sound system for a blu-...</td>\n",
       "    </tr>\n",
       "    <tr>\n",
       "      <th>1</th>\n",
       "      <td>I've written what seems to be a prohibitively ...</td>\n",
       "    </tr>\n",
       "    <tr>\n",
       "      <th>2</th>\n",
       "      <td>I'm writing an article called \"Video Games Tha...</td>\n",
       "    </tr>\n",
       "    <tr>\n",
       "      <th>3</th>\n",
       "      <td>[deleted]</td>\n",
       "    </tr>\n",
       "    <tr>\n",
       "      <th>4</th>\n",
       "      <td>I have the following representation of argumen...</td>\n",
       "    </tr>\n",
       "  </tbody>\n",
       "</table>\n",
       "</div>"
      ],
      "text/plain": [
       "                                                Text\n",
       "0  I have a Sony surround sound system for a blu-...\n",
       "1  I've written what seems to be a prohibitively ...\n",
       "2  I'm writing an article called \"Video Games Tha...\n",
       "3                                          [deleted]\n",
       "4  I have the following representation of argumen..."
      ]
     },
     "execution_count": 5,
     "metadata": {},
     "output_type": "execute_result"
    }
   ],
   "source": [
    "text.head()"
   ]
  },
  {
   "cell_type": "code",
   "execution_count": 6,
   "metadata": {
    "collapsed": true
   },
   "outputs": [],
   "source": [
    "tfidf = TfidfVectorizer(stop_words='english')"
   ]
  },
  {
   "cell_type": "code",
   "execution_count": 7,
   "metadata": {
    "collapsed": true
   },
   "outputs": [],
   "source": [
    "tfidf_vectorized = tfidf.fit_transform(text['Text'])"
   ]
  },
  {
   "cell_type": "code",
   "execution_count": 8,
   "metadata": {
    "collapsed": false
   },
   "outputs": [
    {
     "data": {
      "text/plain": [
       "(24594, 61315)"
      ]
     },
     "execution_count": 8,
     "metadata": {},
     "output_type": "execute_result"
    }
   ],
   "source": [
    "tfidf_vectorized.shape"
   ]
  },
  {
   "cell_type": "code",
   "execution_count": 9,
   "metadata": {
    "collapsed": true
   },
   "outputs": [],
   "source": [
    "tsvd = TruncatedSVD()"
   ]
  },
  {
   "cell_type": "code",
   "execution_count": 10,
   "metadata": {
    "collapsed": true
   },
   "outputs": [],
   "source": [
    "tsvd_transformed = tsvd.fit_transform(tfidf_vectorized)"
   ]
  },
  {
   "cell_type": "code",
   "execution_count": 11,
   "metadata": {
    "collapsed": false
   },
   "outputs": [
    {
     "data": {
      "text/plain": [
       "0.23602493135654198"
      ]
     },
     "execution_count": 11,
     "metadata": {},
     "output_type": "execute_result"
    }
   ],
   "source": [
    "tsvd.explained_variance_ratio_.sum()"
   ]
  },
  {
   "cell_type": "code",
   "execution_count": 12,
   "metadata": {
    "collapsed": true
   },
   "outputs": [],
   "source": [
    "tsvd10 = TruncatedSVD(n_components= 10)"
   ]
  },
  {
   "cell_type": "code",
   "execution_count": 13,
   "metadata": {
    "collapsed": true
   },
   "outputs": [],
   "source": [
    "tsvd10_transformed = tsvd10.fit_transform(tfidf_vectorized)"
   ]
  },
  {
   "cell_type": "code",
   "execution_count": 14,
   "metadata": {
    "collapsed": false
   },
   "outputs": [
    {
     "data": {
      "text/plain": [
       "0.26589993575848103"
      ]
     },
     "execution_count": 14,
     "metadata": {},
     "output_type": "execute_result"
    }
   ],
   "source": [
    "tsvd10.explained_variance_ratio_.sum()"
   ]
  },
  {
   "cell_type": "code",
   "execution_count": 15,
   "metadata": {
    "collapsed": true
   },
   "outputs": [],
   "source": [
    "tsvd50 = TruncatedSVD(n_components=50)"
   ]
  },
  {
   "cell_type": "code",
   "execution_count": 16,
   "metadata": {
    "collapsed": true
   },
   "outputs": [],
   "source": [
    "tsvd50_transformed = tsvd50.fit_transform(tfidf_vectorized)"
   ]
  },
  {
   "cell_type": "code",
   "execution_count": 17,
   "metadata": {
    "collapsed": false
   },
   "outputs": [
    {
     "data": {
      "text/plain": [
       "0.31699141000387021"
      ]
     },
     "execution_count": 17,
     "metadata": {},
     "output_type": "execute_result"
    }
   ],
   "source": [
    "tsvd50.explained_variance_ratio_.sum()"
   ]
  },
  {
   "cell_type": "code",
   "execution_count": 18,
   "metadata": {
    "collapsed": true
   },
   "outputs": [],
   "source": [
    "ac = AgglomerativeClustering(n_clusters=2)"
   ]
  },
  {
   "cell_type": "code",
   "execution_count": 19,
   "metadata": {
    "collapsed": true
   },
   "outputs": [],
   "source": [
    "labels = ac.fit_predict(tsvd50_transformed)"
   ]
  },
  {
   "cell_type": "code",
   "execution_count": 20,
   "metadata": {
    "collapsed": true
   },
   "outputs": [],
   "source": [
    "tsne = TSNE()"
   ]
  },
  {
   "cell_type": "code",
   "execution_count": 21,
   "metadata": {
    "collapsed": true
   },
   "outputs": [],
   "source": [
    "tsne50 = tsne.fit_transform(tsvd50_transformed)"
   ]
  },
  {
   "cell_type": "code",
   "execution_count": 22,
   "metadata": {
    "collapsed": false
   },
   "outputs": [
    {
     "data": {
      "text/plain": [
       "<matplotlib.text.Text at 0x114b89d50>"
      ]
     },
     "execution_count": 22,
     "metadata": {},
     "output_type": "execute_result"
    },
    {
     "data": {
      "image/png": "[encoded data removed]",
      "text/plain": [
       "<matplotlib.figure.Figure at 0x113ebf810>"
      ]
     },
     "metadata": {},
     "output_type": "display_data"
    }
   ],
   "source": [
    "plt.scatter(tsne50[:,0], tsne50[:,1], c = labels)\n",
    "plt.title('Truncated SVD 50 Components fed into tsne colored by cluster')"
   ]
  },
  {
   "cell_type": "code",
   "execution_count": 30,
   "metadata": {
    "collapsed": false
   },
   "outputs": [
    {
     "data": {
      "text/plain": [
       "array([1, 0, 0, 0, 1])"
      ]
     },
     "execution_count": 30,
     "metadata": {},
     "output_type": "execute_result"
    }
   ],
   "source": [
    "labels[8:13]"
   ]
  },
  {
   "cell_type": "code",
   "execution_count": 27,
   "metadata": {
    "collapsed": false
   },
   "outputs": [
    {
     "data": {
      "text/plain": [
       "Text    [removed]\n",
       "Name: 8, dtype: object"
      ]
     },
     "execution_count": 27,
     "metadata": {},
     "output_type": "execute_result"
    }
   ],
   "source": [
    "text.iloc[8]"
   ]
  },
  {
   "cell_type": "code",
   "execution_count": 28,
   "metadata": {
    "collapsed": false
   },
   "outputs": [
    {
     "data": {
      "text/plain": [
       "Text    As the title says. Yesterday I've finally had ...\n",
       "Name: 9, dtype: object"
      ]
     },
     "execution_count": 28,
     "metadata": {},
     "output_type": "execute_result"
    }
   ],
   "source": [
    "text.iloc[9]"
   ]
  },
  {
   "cell_type": "code",
   "execution_count": 32,
   "metadata": {
    "collapsed": false
   },
   "outputs": [
    {
     "data": {
      "text/plain": [
       "Text    [removed]\n",
       "Name: 14, dtype: object"
      ]
     },
     "execution_count": 32,
     "metadata": {},
     "output_type": "execute_result"
    }
   ],
   "source": [
    "text.iloc[12]"
   ]
  },
  {
   "cell_type": "markdown",
   "metadata": {},
   "source": [
    "**Looks like from 2 clusters we were able to group up the [removed] posts with all the other posts**"
   ]
  },
  {
   "cell_type": "code",
   "execution_count": 33,
   "metadata": {
    "collapsed": true
   },
   "outputs": [],
   "source": [
    "ac3 = AgglomerativeClustering(n_clusters=3)"
   ]
  },
  {
   "cell_type": "code",
   "execution_count": 34,
   "metadata": {
    "collapsed": true
   },
   "outputs": [],
   "source": [
    "labels3 = ac3.fit_predict(tsvd50_transformed)"
   ]
  },
  {
   "cell_type": "code",
   "execution_count": 36,
   "metadata": {
    "collapsed": false
   },
   "outputs": [
    {
     "data": {
      "text/plain": [
       "<matplotlib.text.Text at 0x114e30250>"
      ]
     },
     "execution_count": 36,
     "metadata": {},
     "output_type": "execute_result"
    },
    {
     "data": {
      "image/png": "[encoded data removed]",
      "text/plain": [
       "<matplotlib.figure.Figure at 0x114db9d50>"
      ]
     },
     "metadata": {},
     "output_type": "display_data"
    }
   ],
   "source": [
    "plt.scatter(tsne50[:,0], tsne50[:,1], c = labels3)\n",
    "plt.title('Truncated SVD 50 Components fed into tsne colored by cluster')"
   ]
  },
  {
   "cell_type": "code",
   "execution_count": 39,
   "metadata": {
    "collapsed": false
   },
   "outputs": [
    {
     "data": {
      "text/plain": [
       "array([0, 2, 0, 1, 0])"
      ]
     },
     "execution_count": 39,
     "metadata": {},
     "output_type": "execute_result"
    }
   ],
   "source": [
    "labels3[5:10]"
   ]
  },
  {
   "cell_type": "code",
   "execution_count": 40,
   "metadata": {
    "collapsed": false
   },
   "outputs": [
    {
     "data": {
      "text/plain": [
       "Text    I am about to create a website where users use...\n",
       "Name: 5, dtype: object"
      ]
     },
     "execution_count": 40,
     "metadata": {},
     "output_type": "execute_result"
    }
   ],
   "source": [
    "text.iloc[5]"
   ]
  },
  {
   "cell_type": "code",
   "execution_count": 41,
   "metadata": {
    "collapsed": false
   },
   "outputs": [
    {
     "data": {
      "text/plain": [
       "Text    [deleted]\n",
       "Name: 6, dtype: object"
      ]
     },
     "execution_count": 41,
     "metadata": {},
     "output_type": "execute_result"
    }
   ],
   "source": [
    "text.iloc[6]"
   ]
  },
  {
   "cell_type": "code",
   "execution_count": 42,
   "metadata": {
    "collapsed": false
   },
   "outputs": [
    {
     "data": {
      "text/plain": [
       "Text    This [post](https://www.reddit.com/r/learnpyth...\n",
       "Name: 7, dtype: object"
      ]
     },
     "execution_count": 42,
     "metadata": {},
     "output_type": "execute_result"
    }
   ],
   "source": [
    "text.iloc[7]"
   ]
  },
  {
   "cell_type": "code",
   "execution_count": 43,
   "metadata": {
    "collapsed": false
   },
   "outputs": [
    {
     "data": {
      "text/plain": [
       "Text    [removed]\n",
       "Name: 8, dtype: object"
      ]
     },
     "execution_count": 43,
     "metadata": {},
     "output_type": "execute_result"
    }
   ],
   "source": [
    "text.iloc[8]"
   ]
  },
  {
   "cell_type": "markdown",
   "metadata": {},
   "source": [
    "**3 clusters divide posts into [deleted],[removed],and everything else**"
   ]
  },
  {
   "cell_type": "code",
   "execution_count": 44,
   "metadata": {
    "collapsed": true
   },
   "outputs": [],
   "source": [
    "ac4 = AgglomerativeClustering(n_clusters=4)"
   ]
  },
  {
   "cell_type": "code",
   "execution_count": 45,
   "metadata": {
    "collapsed": true
   },
   "outputs": [],
   "source": [
    "labels4 = ac4.fit_predict(tsvd50_transformed)"
   ]
  },
  {
   "cell_type": "code",
   "execution_count": 46,
   "metadata": {
    "collapsed": false
   },
   "outputs": [
    {
     "data": {
      "text/plain": [
       "<matplotlib.text.Text at 0x115193e10>"
      ]
     },
     "execution_count": 46,
     "metadata": {},
     "output_type": "execute_result"
    },
    {
     "data": {
      "image/png": "[encoded data removed]",
      "text/plain": [
       "<matplotlib.figure.Figure at 0x114e5dbd0>"
      ]
     },
     "metadata": {},
     "output_type": "display_data"
    }
   ],
   "source": [
    "plt.scatter(tsne50[:,0], tsne50[:,1], c = labels4)\n",
    "plt.title('Truncated SVD 50 Components fed into tsne colored by cluster')"
   ]
  },
  {
   "cell_type": "code",
   "execution_count": 48,
   "metadata": {
    "collapsed": false
   },
   "outputs": [
    {
     "data": {
      "text/plain": [
       "array([2, 0, 3, 1])"
      ]
     },
     "execution_count": 48,
     "metadata": {},
     "output_type": "execute_result"
    }
   ],
   "source": [
    "labels4[6:10]"
   ]
  },
  {
   "cell_type": "code",
   "execution_count": 49,
   "metadata": {
    "collapsed": false
   },
   "outputs": [
    {
     "data": {
      "text/plain": [
       "Text    [deleted]\n",
       "Name: 6, dtype: object"
      ]
     },
     "execution_count": 49,
     "metadata": {},
     "output_type": "execute_result"
    }
   ],
   "source": [
    "text.iloc[6]"
   ]
  },
  {
   "cell_type": "code",
   "execution_count": 50,
   "metadata": {
    "collapsed": false
   },
   "outputs": [
    {
     "data": {
      "text/plain": [
       "Text    This [post](https://www.reddit.com/r/learnpyth...\n",
       "Name: 7, dtype: object"
      ]
     },
     "execution_count": 50,
     "metadata": {},
     "output_type": "execute_result"
    }
   ],
   "source": [
    "text.iloc[7]"
   ]
  },
  {
   "cell_type": "code",
   "execution_count": 51,
   "metadata": {
    "collapsed": false
   },
   "outputs": [
    {
     "data": {
      "text/plain": [
       "Text    [removed]\n",
       "Name: 8, dtype: object"
      ]
     },
     "execution_count": 51,
     "metadata": {},
     "output_type": "execute_result"
    }
   ],
   "source": [
    "text.iloc[8]"
   ]
  },
  {
   "cell_type": "code",
   "execution_count": 52,
   "metadata": {
    "collapsed": false
   },
   "outputs": [
    {
     "data": {
      "text/plain": [
       "Text    As the title says. Yesterday I've finally had ...\n",
       "Name: 9, dtype: object"
      ]
     },
     "execution_count": 52,
     "metadata": {},
     "output_type": "execute_result"
    }
   ],
   "source": [
    "text.iloc[9]"
   ]
  },
  {
   "cell_type": "markdown",
   "metadata": {},
   "source": [
    "**Lets compare 7 and 9**"
   ]
  },
  {
   "cell_type": "code",
   "execution_count": 53,
   "metadata": {
    "collapsed": false
   },
   "outputs": [
    {
     "data": {
      "text/plain": [
       "'This [post](https://www.reddit.com/r/learnpython/comments/5fi5sq/every_possible_4_digit_number_that_has_no/) is a great example. It shows a great start and the top post has great explanation and its a lot more efficient. \\n\\nAre there blogs or sites which show python code in this format?'"
      ]
     },
     "execution_count": 53,
     "metadata": {},
     "output_type": "execute_result"
    }
   ],
   "source": [
    "text['Text'][7]"
   ]
  },
  {
   "cell_type": "code",
   "execution_count": 54,
   "metadata": {
    "collapsed": false
   },
   "outputs": [
    {
     "data": {
      "text/plain": [
       "'As the title says. Yesterday I\\'ve finally had a few days off and managed to finally mount my parts that arrived on tuesday, two http://www.lg.com/hk_en/monitor/lg-23MP68VQ-P and 6700k + MSI Z170A M5 + 2x 8 GB kingston hyperx @ 2400 mhz. So I tried a lot of combinations, switched every single thing in BIOS, primary graphic device is set to PEG but no matter the settings if a display is connected via HDMI then my r9 380 takes it as a priority so even displaying it on a device connected via DVI is possibly not going to work, VGA already does not. During the boot the display just says \"HDMI Out of range\", then it blinks black and then again the same message until Windows pops up. After a few hours of switching between IGD, IGD Multi-monitor and restoring defaults in MSI\\'s BIOS I just turned freesync off during the boot on the display and the issue disappeared. Note that I\\'m running 75 hz. This is somewhat weird awkward because last night I switched from M5A97 R2 and FX-6300 and that was not the issue. Also, I did google a lot and the issue seems freesync/refresh rate related. At this point I can say that nothing is damaged. Anyone encountered such issue, any way to mitigate? It\\'s important to me because I also formatted my ssd and going to encrypt it as always so I need to be aware when am I supposed to enter a password or when something goes wrong. \\n\\nTo satisfy the rules: \\nCPU: i7 6700k at stock frequencies\\nMemory: 2x Kingston HyperX 8 GB @2400\\nMotherboard: MSI Z170A Gaming M5\\nSSD: Samsung 850 EVO 250G\\nHDD: Two 2-years old seagates, it\\'s not relevant\\nGraphics: AMD Radeon R9 380 (Gigabyte Windforce)\\nDisplay: 2x http://www.lg.com/hk_en/monitor/lg-23MP68VQ-P\\nOS: Windows 10 Education 1607, build 14393.0\\n\\nMy previous configuration:\\nCPU: FX-6300\\nMemory: 2x Kingston HyperX 4 GB @1866\\nMotherboard: ASUS M5A97 R2.0\\nSSD: same as above\\nHDD: same as above\\nGraphics: same as above\\nDisplay: same as above\\nOS: almost the same, I\\'m sure it was 1607, just not sure if the same build but I don\\'t think that\\'s relevant'"
      ]
     },
     "execution_count": 54,
     "metadata": {},
     "output_type": "execute_result"
    }
   ],
   "source": [
    "text['Text'][9]"
   ]
  },
  {
   "cell_type": "markdown",
   "metadata": {},
   "source": [
    "**Hard to say what is the difference. Length? Phrased as question? External links? Lots of numbers?**"
   ]
  },
  {
   "cell_type": "code",
   "execution_count": 139,
   "metadata": {
    "collapsed": true
   },
   "outputs": [],
   "source": [
    "df1 = pd.read_csv('df1.csv')"
   ]
  },
  {
   "cell_type": "code",
   "execution_count": 140,
   "metadata": {
    "collapsed": true
   },
   "outputs": [],
   "source": [
    "df1.drop('Unnamed: 0', axis = 1, inplace = True)"
   ]
  },
  {
   "cell_type": "code",
   "execution_count": 141,
   "metadata": {
    "collapsed": true
   },
   "outputs": [],
   "source": [
    "lb4 = pd.DataFrame(labels4, columns = ['Clusters'])"
   ]
  },
  {
   "cell_type": "code",
   "execution_count": 142,
   "metadata": {
    "collapsed": true
   },
   "outputs": [],
   "source": [
    "df1 = pd.concat([df1,lb4], axis = 1)"
   ]
  },
  {
   "cell_type": "code",
   "execution_count": 143,
   "metadata": {
    "collapsed": false
   },
   "outputs": [
    {
     "data": {
      "text/plain": [
       "count    11077.000000\n",
       "mean         8.715537\n",
       "std         66.462266\n",
       "min          0.000000\n",
       "25%          2.000000\n",
       "50%          4.000000\n",
       "75%          8.000000\n",
       "max       6109.000000\n",
       "Name: num_comments, dtype: float64"
      ]
     },
     "execution_count": 143,
     "metadata": {},
     "output_type": "execute_result"
    }
   ],
   "source": [
    "df1.loc[df1['Clusters'] == 0, 'num_comments'].describe()"
   ]
  },
  {
   "cell_type": "code",
   "execution_count": 144,
   "metadata": {
    "collapsed": false
   },
   "outputs": [
    {
     "data": {
      "text/plain": [
       "count    7131.000000\n",
       "mean        4.112467\n",
       "std         7.926201\n",
       "min         0.000000\n",
       "25%         0.000000\n",
       "50%         2.000000\n",
       "75%         5.000000\n",
       "max       337.000000\n",
       "Name: num_comments, dtype: float64"
      ]
     },
     "execution_count": 144,
     "metadata": {},
     "output_type": "execute_result"
    }
   ],
   "source": [
    "df1.loc[df1['Clusters'] == 1, 'num_comments'].describe()"
   ]
  },
  {
   "cell_type": "code",
   "execution_count": 145,
   "metadata": {
    "collapsed": false
   },
   "outputs": [
    {
     "data": {
      "text/plain": [
       "count    11077.000000\n",
       "mean        12.246818\n",
       "std        267.202945\n",
       "min          0.000000\n",
       "25%          1.000000\n",
       "50%          1.000000\n",
       "75%          3.000000\n",
       "max      26573.000000\n",
       "Name: score, dtype: float64"
      ]
     },
     "execution_count": 145,
     "metadata": {},
     "output_type": "execute_result"
    }
   ],
   "source": [
    "df1.loc[df1['Clusters'] == 0, 'score'].describe()"
   ]
  },
  {
   "cell_type": "code",
   "execution_count": 146,
   "metadata": {
    "collapsed": false
   },
   "outputs": [
    {
     "data": {
      "text/plain": [
       "count    7131.000000\n",
       "mean        2.113729\n",
       "std        13.835209\n",
       "min         0.000000\n",
       "25%         1.000000\n",
       "50%         1.000000\n",
       "75%         1.000000\n",
       "max       716.000000\n",
       "Name: score, dtype: float64"
      ]
     },
     "execution_count": 146,
     "metadata": {},
     "output_type": "execute_result"
    }
   ],
   "source": [
    "df1.loc[df1['Clusters'] == 1, 'score'].describe()"
   ]
  },
  {
   "cell_type": "markdown",
   "metadata": {},
   "source": [
    "**In general, the two text clusters separate popular and unpopular posts**"
   ]
  },
  {
   "cell_type": "code",
   "execution_count": 55,
   "metadata": {
    "collapsed": true
   },
   "outputs": [],
   "source": [
    "ac5 = AgglomerativeClustering(n_clusters=5)"
   ]
  },
  {
   "cell_type": "code",
   "execution_count": 56,
   "metadata": {
    "collapsed": true
   },
   "outputs": [],
   "source": [
    "labels5 = ac5.fit_predict(tsvd50_transformed)"
   ]
  },
  {
   "cell_type": "code",
   "execution_count": 90,
   "metadata": {
    "collapsed": false
   },
   "outputs": [
    {
     "data": {
      "text/plain": [
       "<matplotlib.legend.Legend at 0x11ce45790>"
      ]
     },
     "execution_count": 90,
     "metadata": {},
     "output_type": "execute_result"
    },
    {
     "data": {
      "image/png": "[encoded data removed]",
      "text/plain": [
       "<matplotlib.figure.Figure at 0x11cf9d090>"
      ]
     },
     "metadata": {},
     "output_type": "display_data"
    }
   ],
   "source": [
    "plt.scatter(tsne50[:,0], tsne50[:,1], c = labels5, label = ['0'])\n",
    "plt.title('Truncated SVD 50 Components fed into tsne colored by cluster')\n",
    "plt.legend()"
   ]
  },
  {
   "cell_type": "code",
   "execution_count": 76,
   "metadata": {
    "collapsed": false
   },
   "outputs": [
    {
     "data": {
      "text/plain": [
       "array([0, 4, 2, 1, 3, 0, 0, 1])"
      ]
     },
     "execution_count": 76,
     "metadata": {},
     "output_type": "execute_result"
    }
   ],
   "source": [
    "labels5[367:375]"
   ]
  },
  {
   "cell_type": "code",
   "execution_count": 77,
   "metadata": {
    "collapsed": false
   },
   "outputs": [
    {
     "data": {
      "text/plain": [
       "'I have a Nixeus Moda v2 mechanical keyboard and often when I touch it there is a static shock that shorts out the keyboard for a moment. Usually it comes back, though one time it busted a keyboard and I had to have it replaced.\\n\\nIs there anything I can do to avoid this short of hitting metal before my PC every time, as I will often forget to do that? Maybe a mat I can put under my keyboard (it is currently on a wood and glass table) or something else to avoid the static?'"
      ]
     },
     "execution_count": 77,
     "metadata": {},
     "output_type": "execute_result"
    }
   ],
   "source": [
    "text['Text'].iloc[367]"
   ]
  },
  {
   "cell_type": "markdown",
   "metadata": {},
   "source": [
    "**Cluster 0**"
   ]
  },
  {
   "cell_type": "code",
   "execution_count": 78,
   "metadata": {
    "collapsed": false
   },
   "outputs": [
    {
     "data": {
      "text/plain": [
       "'When an iMessage app runs in the Messages app, its bounds get set automatically by the Messages app. However, this stops working when the user enables the Subject Field in Settings \\xe2\\x86\\x92 Messages \\xe2\\x86\\x92 Show Subject Field (tested on iOS 10.0.2 &amp; 10.1.1). Somehow Apple seems to have messed up the NSLayoutConstraints of the Messages app because the console output reads:  \\n\\n&gt; 2016-12-03 01:35:05.424120 MobileSMS[2693:763891] [LayoutConstraints] Unable to simultaneously satisfy constraints.  \\n&gt; Probably at least one of the constraints in the following list is one you don\\'t want.  \\n&gt; Try this: \\xe2\\x80\\xa6\\n&gt; (\\n&gt;  \"&lt;NSAutoresizingMaskLayoutConstraint:0x170291a30 h=-&amp;- v=--&amp; CKMessageEntryView:0x137e49870.midX == UIInputSetHostView:0x137d2e760.midX + 187.5   (active)&gt;\",\\n&gt;  \"&lt;NSAutoresizingMaskLayoutConstraint:0x170291a80 h=-&amp;- v=--&amp; CKMessageEntryView:0x137e49870.width == UIInputSetHostView:0x137d2e760.width + 375   (active)&gt;\",\\n&gt;  \"&lt;NSLayoutConstraint:0x17068f230 CKMessageEntryView:0x137e49870.right == UIInputSetHostView:0x137d2e760.right   (active)&gt;\"\\n&gt; ) \\n&gt;  \\n&gt; Will attempt to recover by breaking constraint \\n&gt; &lt;NSLayoutConstraint:0x17068f230 CKMessageEntryView:0x137e49870.right == UIInputSetHostView:0x137d2e760.right   (active)&gt;\\n\\nPlease refer to this Imgur post for screenshots of the bug: [http://imgur.com/a/aNPI4](http://imgur.com/a/aNPI4)\\nThis broken NSLayoutConstraint results in about 1/10th of the iMessage app\\'s height being hidden behind the Subject Field when in MSMessagesAppPresentationStyle.expanded.  \\nThe Dropbox iMessage app seems to detect the Subject Field\\'s presence somehow because it adds a white border to the bottom of its view when the Subject Field is enabled. However I could not find any Apple documentation on how to detect this. None of the UIViews in my app\\'s view hierarchy change in bounds when the Subject Field is enabled. So the question is: how does the Dropbox app find out and how can I replicate that? :D'"
      ]
     },
     "execution_count": 78,
     "metadata": {},
     "output_type": "execute_result"
    }
   ],
   "source": [
    "text['Text'].iloc[368]"
   ]
  },
  {
   "cell_type": "markdown",
   "metadata": {},
   "source": [
    "**Cluster 4**"
   ]
  },
  {
   "cell_type": "code",
   "execution_count": 79,
   "metadata": {
    "collapsed": false
   },
   "outputs": [
    {
     "data": {
      "text/plain": [
       "'[deleted]'"
      ]
     },
     "execution_count": 79,
     "metadata": {},
     "output_type": "execute_result"
    }
   ],
   "source": [
    "text['Text'].iloc[369]"
   ]
  },
  {
   "cell_type": "markdown",
   "metadata": {},
   "source": [
    "**Cluster 2**"
   ]
  },
  {
   "cell_type": "code",
   "execution_count": 80,
   "metadata": {
    "collapsed": false
   },
   "outputs": [
    {
     "data": {
      "text/plain": [
       "\"My boyfriend is graduating with a B.S. in Engineering this year. I want to get him something that he will use in his career or is just interesting/funny. I'm also broke so suggestions for something that I could make instead of buy would be awesome!\""
      ]
     },
     "execution_count": 80,
     "metadata": {},
     "output_type": "execute_result"
    }
   ],
   "source": [
    "text['Text'].iloc[370]"
   ]
  },
  {
   "cell_type": "markdown",
   "metadata": {},
   "source": [
    "**Cluster 1**"
   ]
  },
  {
   "cell_type": "code",
   "execution_count": 81,
   "metadata": {
    "collapsed": false
   },
   "outputs": [
    {
     "data": {
      "text/plain": [
       "'[removed]'"
      ]
     },
     "execution_count": 81,
     "metadata": {},
     "output_type": "execute_result"
    }
   ],
   "source": [
    "text['Text'].iloc[371]"
   ]
  },
  {
   "cell_type": "markdown",
   "metadata": {},
   "source": [
    "**Cluster 3**"
   ]
  },
  {
   "cell_type": "markdown",
   "metadata": {},
   "source": [
    "**Firstly, [removed] and [deleted] are two groups. So we don't need to analyze clusters 2 and 3.**"
   ]
  },
  {
   "cell_type": "code",
   "execution_count": 82,
   "metadata": {
    "collapsed": false
   },
   "outputs": [
    {
     "data": {
      "text/plain": [
       "\"Hello, I have been experiencing computer reboots with a few games. Battlerite, Tyranny, and divinity original sin 2. all these games are run with the Unity engine I believe. It's always in the load screens, towards the end of the load screens when its finishing up that my computer will reboot. Somehow battlerite stopped crashing my pc when I increased the tdrdelay in the regedit, but that didn't help with the other games.\\n\\n\\nI don't get any BSOD even though I turned off the 'restart on system failure' advanced settings. I do get a memory dump, but it's only one each time, but I am able to view it with bluescreen viewer. I can replicate the crash with 100% consistency, all I have to do is load up tyranny and go into a specific room. The load screen going into that specific room in the game causes a reboot. Divinity 2 will reboot on the startup load screen, sometimes it makes it through , but it will reboot on the 2nd or 3rd load screen (before and/or after character creation).\\n\\n\\nI've tried all sorts of things, apparently bluescreen viewer shows the error : SYSTEM-THREAD-EXCEPTION-NOT-HANDLED\\nand When i look down the list atikmdag.sys appears to be highlighted red, as if that is the source of the crash. I've reinstalled drivers, rollbacked to 1 year old drivers, tried different settings, changed tdrdelay back to 2, then up to 99 no fix. It's really odd that Tyranny will crash only at a certain load screen for a specific room, and that divinity sometimes doesnt crash on loadup screen.\\nSpecs- mobo: h81m-p33 cpu: i5 4430 gpu: r9 280x ram: 8gb adata psu: xfx ts 550w bronze+ OS: windows 7\\nhere is an image of the bluescreen viewer http://imgur.com/a/HZvNU\\n\\nI am attempting a disk check and will report in after to see if that helps. I got a bsod when I tried to chkdsk but 2nd time around it no bsod, so maybe I'll be closer to some solution here.\\n\\nafte the disk check i booted dvinity 2 up and it crashed on the load screen again. However the resulting error I get from the bluescreen viewer is different now. It points to NTOSKRNL.exe and the error is a critical service failed.\\n\\nhere is an image of new error on bluescreen viewer\\n\\nhttp://imgur.com/a/FzGvF\""
      ]
     },
     "execution_count": 82,
     "metadata": {},
     "output_type": "execute_result"
    }
   ],
   "source": [
    "text['Text'].iloc[372]"
   ]
  },
  {
   "cell_type": "code",
   "execution_count": 83,
   "metadata": {
    "collapsed": false
   },
   "outputs": [
    {
     "data": {
      "text/plain": [
       "\"I have an ASUS Z170AR motherboard a i7 6700k and loading BIOS the defaults sets cores 1 and 2 to 4.3ghz and cores 3 and 4 to 4.1ghz. Normally this wouldn't be that big of an issue but this things auto voltage is off the wall regularly pulling 1.4v - any idea on why the defaults are so ambitious? Every motherboards BIOS default settings I have worked with prior don't have OC as the default. Any idea of what voltage I should run if I just wanna keep it stable with ideal temperatures at stock 4.0? So far I have set each core back to 4.0 and the voltage at 1.25\""
      ]
     },
     "execution_count": 83,
     "metadata": {},
     "output_type": "execute_result"
    }
   ],
   "source": [
    "text['Text'].iloc[373]"
   ]
  },
  {
   "cell_type": "markdown",
   "metadata": {},
   "source": [
    "**One similarity with cluster 0 is that all of them have the phrase 'I have...'**"
   ]
  },
  {
   "cell_type": "code",
   "execution_count": 84,
   "metadata": {
    "collapsed": false
   },
   "outputs": [
    {
     "data": {
      "text/plain": [
       "'Hey guys,\\n\\nI just made a new video that teaches you how to use state of the art Deep Learning in Python to make an amazing chatbot! Hope you like it \\n\\nhttps://www.youtube.com/watch?v=SJDEOWLHYVo'"
      ]
     },
     "execution_count": 84,
     "metadata": {},
     "output_type": "execute_result"
    }
   ],
   "source": [
    "text['Text'].iloc[374]"
   ]
  },
  {
   "cell_type": "markdown",
   "metadata": {},
   "source": [
    "**Looks like cluster 1 has something to do with short statements and exclamation marks?**"
   ]
  },
  {
   "cell_type": "markdown",
   "metadata": {},
   "source": [
    "**To examine the clusters more closely, we will add the labels to the original dateframe**"
   ]
  },
  {
   "cell_type": "code",
   "execution_count": 91,
   "metadata": {
    "collapsed": true
   },
   "outputs": [],
   "source": [
    "df = pd.read_csv('df1.csv')"
   ]
  },
  {
   "cell_type": "code",
   "execution_count": 93,
   "metadata": {
    "collapsed": false
   },
   "outputs": [],
   "source": [
    "df.drop('Unnamed: 0', axis = 1, inplace = True)"
   ]
  },
  {
   "cell_type": "code",
   "execution_count": 101,
   "metadata": {
    "collapsed": false
   },
   "outputs": [],
   "source": [
    "lb = pd.DataFrame(labels5, columns = ['Clusters'])"
   ]
  },
  {
   "cell_type": "code",
   "execution_count": 103,
   "metadata": {
    "collapsed": false
   },
   "outputs": [],
   "source": [
    "df = pd.concat([df,lb], axis = 1)"
   ]
  },
  {
   "cell_type": "code",
   "execution_count": 104,
   "metadata": {
    "collapsed": false
   },
   "outputs": [
    {
     "data": {
      "text/plain": [
       "count    10814.000000\n",
       "mean         8.759571\n",
       "std         67.220674\n",
       "min          0.000000\n",
       "25%          2.000000\n",
       "50%          4.000000\n",
       "75%          8.000000\n",
       "max       6109.000000\n",
       "Name: num_comments, dtype: float64"
      ]
     },
     "execution_count": 104,
     "metadata": {},
     "output_type": "execute_result"
    }
   ],
   "source": [
    "df.loc[(df['Clusters'] == 1), 'num_comments'].describe()"
   ]
  },
  {
   "cell_type": "code",
   "execution_count": 105,
   "metadata": {
    "collapsed": false
   },
   "outputs": [
    {
     "data": {
      "text/plain": [
       "count    10814.000000\n",
       "mean        12.416867\n",
       "std        270.409586\n",
       "min          0.000000\n",
       "25%          1.000000\n",
       "50%          1.000000\n",
       "75%          3.000000\n",
       "max      26573.000000\n",
       "Name: score, dtype: float64"
      ]
     },
     "execution_count": 105,
     "metadata": {},
     "output_type": "execute_result"
    }
   ],
   "source": [
    "df.loc[(df['Clusters'] == 1), 'score'].describe()"
   ]
  },
  {
   "cell_type": "markdown",
   "metadata": {},
   "source": [
    "**The averages of these features are higher in cluster 1 when compared to the entire dataset**"
   ]
  },
  {
   "cell_type": "code",
   "execution_count": 149,
   "metadata": {
    "collapsed": false
   },
   "outputs": [
    {
     "data": {
      "text/plain": [
       "techsupport         2711\n",
       "learnprogramming    2538\n",
       "learnpython         1359\n",
       "gamedev              787\n",
       "web_design           425\n",
       "Name: subreddit, dtype: int64"
      ]
     },
     "execution_count": 149,
     "metadata": {},
     "output_type": "execute_result"
    }
   ],
   "source": [
    "df.loc[df['Clusters'] == 1, 'subreddit'].value_counts().head()"
   ]
  },
  {
   "cell_type": "markdown",
   "metadata": {},
   "source": [
    "**More learning orientated subreddits?**"
   ]
  },
  {
   "cell_type": "code",
   "execution_count": 110,
   "metadata": {
    "collapsed": false
   },
   "outputs": [
    {
     "data": {
      "text/plain": [
       "count    7131.000000\n",
       "mean        4.112467\n",
       "std         7.926201\n",
       "min         0.000000\n",
       "25%         0.000000\n",
       "50%         2.000000\n",
       "75%         5.000000\n",
       "max       337.000000\n",
       "Name: num_comments, dtype: float64"
      ]
     },
     "execution_count": 110,
     "metadata": {},
     "output_type": "execute_result"
    }
   ],
   "source": [
    "df.loc[(df['Clusters'] == 0), 'num_comments'].describe()"
   ]
  },
  {
   "cell_type": "code",
   "execution_count": 111,
   "metadata": {
    "collapsed": false
   },
   "outputs": [
    {
     "data": {
      "text/plain": [
       "count    7131.000000\n",
       "mean        2.113729\n",
       "std        13.835209\n",
       "min         0.000000\n",
       "25%         1.000000\n",
       "50%         1.000000\n",
       "75%         1.000000\n",
       "max       716.000000\n",
       "Name: score, dtype: float64"
      ]
     },
     "execution_count": 111,
     "metadata": {},
     "output_type": "execute_result"
    }
   ],
   "source": [
    "df.loc[(df['Clusters'] == 0), 'score'].describe()"
   ]
  },
  {
   "cell_type": "code",
   "execution_count": 112,
   "metadata": {
    "collapsed": false
   },
   "outputs": [
    {
     "data": {
      "text/plain": [
       "techsupport         6828\n",
       "learnprogramming      97\n",
       "linux                 48\n",
       "computerscience       34\n",
       "learnpython           30\n",
       "Name: subreddit, dtype: int64"
      ]
     },
     "execution_count": 112,
     "metadata": {},
     "output_type": "execute_result"
    }
   ],
   "source": [
    "df.loc[df['Clusters'] == 0, 'subreddit'].value_counts().head()"
   ]
  },
  {
   "cell_type": "markdown",
   "metadata": {},
   "source": [
    "**Cluster 0 has lower scores and comments than cluster 1, and is more tech support related**"
   ]
  },
  {
   "cell_type": "code",
   "execution_count": 113,
   "metadata": {
    "collapsed": false
   },
   "outputs": [
    {
     "data": {
      "text/plain": [
       "count    263.000000\n",
       "mean       6.904943\n",
       "std       15.697598\n",
       "min        0.000000\n",
       "25%        2.000000\n",
       "50%        4.000000\n",
       "75%        7.000000\n",
       "max      223.000000\n",
       "Name: num_comments, dtype: float64"
      ]
     },
     "execution_count": 113,
     "metadata": {},
     "output_type": "execute_result"
    }
   ],
   "source": [
    "df.loc[(df['Clusters'] == 4), 'num_comments'].describe()"
   ]
  },
  {
   "cell_type": "code",
   "execution_count": 114,
   "metadata": {
    "collapsed": false
   },
   "outputs": [
    {
     "data": {
      "text/plain": [
       "count    263.000000\n",
       "mean       5.254753\n",
       "std       21.709914\n",
       "min        0.000000\n",
       "25%        1.000000\n",
       "50%        1.000000\n",
       "75%        3.000000\n",
       "max      319.000000\n",
       "Name: score, dtype: float64"
      ]
     },
     "execution_count": 114,
     "metadata": {},
     "output_type": "execute_result"
    }
   ],
   "source": [
    "df.loc[(df['Clusters'] == 4), 'score'].describe()"
   ]
  },
  {
   "cell_type": "code",
   "execution_count": 150,
   "metadata": {
    "collapsed": false
   },
   "outputs": [
    {
     "data": {
      "text/plain": [
       "learnprogramming    75\n",
       "learnpython         36\n",
       "techsupport         30\n",
       "javascript          26\n",
       "engineering         18\n",
       "Name: subreddit, dtype: int64"
      ]
     },
     "execution_count": 150,
     "metadata": {},
     "output_type": "execute_result"
    }
   ],
   "source": [
    "df.loc[df['Clusters'] == 4, 'subreddit'].value_counts().head()"
   ]
  },
  {
   "cell_type": "code",
   "execution_count": 125,
   "metadata": {
    "collapsed": false
   },
   "outputs": [
    {
     "data": {
      "text/plain": [
       "1    I've written what seems to be a prohibitively ...\n",
       "2    I'm writing an article called \"Video Games Tha...\n",
       "4    I have the following representation of argumen...\n",
       "5    I am about to create a website where users use...\n",
       "7    This [post](https://www.reddit.com/r/learnpyth...\n",
       "Name: selftext, dtype: object"
      ]
     },
     "execution_count": 125,
     "metadata": {},
     "output_type": "execute_result"
    }
   ],
   "source": [
    "df.loc[df['Clusters'] == 1, 'selftext'].head()"
   ]
  },
  {
   "cell_type": "code",
   "execution_count": 123,
   "metadata": {
    "collapsed": false
   },
   "outputs": [
    {
     "data": {
      "text/plain": [
       "204    I have an expect script that loads data from a...\n",
       "252    I'm trying to loop through the $result variabl...\n",
       "309    I have 6 &lt;p&gt; elements with the IDs of `p...\n",
       "368    When an iMessage app runs in the Messages app,...\n",
       "476    Could someone explain better what this does\\n[...\n",
       "Name: selftext, dtype: object"
      ]
     },
     "execution_count": 123,
     "metadata": {},
     "output_type": "execute_result"
    }
   ],
   "source": [
    "df.loc[df['Clusters'] == 4, 'selftext'].head()"
   ]
  },
  {
   "cell_type": "code",
   "execution_count": 138,
   "metadata": {
    "collapsed": false
   },
   "outputs": [
    {
     "data": {
      "text/plain": [
       "'This [post](https://www.reddit.com/r/learnpython/comments/5fi5sq/every_possible_4_digit_number_that_has_no/) is a great example. It shows a great start and the top post has great explanation and its a lot more efficient. \\n\\nAre there blogs or sites which show python code in this format?'"
      ]
     },
     "execution_count": 138,
     "metadata": {},
     "output_type": "execute_result"
    }
   ],
   "source": [
    "df['selftext'][7]"
   ]
  },
  {
   "cell_type": "code",
   "execution_count": 135,
   "metadata": {
    "collapsed": false
   },
   "outputs": [
    {
     "data": {
      "text/plain": [
       "'Could someone explain better what this does\\n[i for i, in range(x) xxx] perhaps that is a bad example.\\n\\nAnd lets say my code is\\n\\n    if x = &lt;value&gt;:\\n        do something\\n\\nis there a way I could have that all on one line'"
      ]
     },
     "execution_count": 135,
     "metadata": {},
     "output_type": "execute_result"
    }
   ],
   "source": [
    "df['selftext'][476]"
   ]
  },
  {
   "cell_type": "markdown",
   "metadata": {},
   "source": [
    "**It's difficult to distinguish between cluster 1 and 4, but from the descriptive statistics, cluster 4 is much less popular.**"
   ]
  },
  {
   "cell_type": "code",
   "execution_count": null,
   "metadata": {
    "collapsed": true
   },
   "outputs": [],
   "source": []
  }
 ],
 "metadata": {
  "kernelspec": {
   "display_name": "Python 2",
   "language": "python",
   "name": "python2"
  },
  "language_info": {
   "codemirror_mode": {
    "name": "ipython",
    "version": 2
   },
   "file_extension": ".py",
   "mimetype": "text/x-python",
   "name": "python",
   "nbconvert_exporter": "python",
   "pygments_lexer": "ipython2",
   "version": "2.7.13"
  }
 },
 "nbformat": 4,
 "nbformat_minor": 2
}
