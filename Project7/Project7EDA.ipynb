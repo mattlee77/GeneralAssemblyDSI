{
 "cells": [
  {
   "cell_type": "code",
   "execution_count": 35,
   "metadata": {
    "collapsed": false
   },
   "outputs": [],
   "source": [
    "import numpy as np\n",
    "import pandas as pd\n",
    "import matplotlib.pyplot as plt\n",
    "import seaborn as sns\n",
    "from nltk.stem import PorterStemmer\n",
    "from sklearn.feature_extraction.text import CountVectorizer, HashingVectorizer, TfidfVectorizer\n",
    "from nltk.tokenize import PunktSentenceTokenizer, WordPunctTokenizer\n",
    "from nltk.corpus import stopwords\n",
    "%matplotlib inline"
   ]
  },
  {
   "cell_type": "code",
   "execution_count": 3,
   "metadata": {
    "collapsed": false
   },
   "outputs": [
    {
     "data": {
      "text/html": [
       "<div>\n",
       "<table border=\"1\" class=\"dataframe\">\n",
       "  <thead>\n",
       "    <tr style=\"text-align: right;\">\n",
       "      <th></th>\n",
       "      <th>adserver_click_url</th>\n",
       "      <th>adserver_imp_pixel</th>\n",
       "      <th>archived</th>\n",
       "      <th>author</th>\n",
       "      <th>author_flair_css_class</th>\n",
       "      <th>author_flair_text</th>\n",
       "      <th>contest_mode</th>\n",
       "      <th>created_utc</th>\n",
       "      <th>disable_comments</th>\n",
       "      <th>distinguished</th>\n",
       "      <th>...</th>\n",
       "      <th>spoiler</th>\n",
       "      <th>stickied</th>\n",
       "      <th>subreddit</th>\n",
       "      <th>subreddit_id</th>\n",
       "      <th>third_party_tracking</th>\n",
       "      <th>third_party_tracking_2</th>\n",
       "      <th>thumbnail</th>\n",
       "      <th>title</th>\n",
       "      <th>ups</th>\n",
       "      <th>url</th>\n",
       "    </tr>\n",
       "  </thead>\n",
       "  <tbody>\n",
       "    <tr>\n",
       "      <th>0</th>\n",
       "      <td>NaN</td>\n",
       "      <td>NaN</td>\n",
       "      <td>False</td>\n",
       "      <td>johnnyawesome0</td>\n",
       "      <td>NaN</td>\n",
       "      <td>NaN</td>\n",
       "      <td>False</td>\n",
       "      <td>1480697304</td>\n",
       "      <td>NaN</td>\n",
       "      <td>NaN</td>\n",
       "      <td>...</td>\n",
       "      <td>False</td>\n",
       "      <td>False</td>\n",
       "      <td>techsupport</td>\n",
       "      <td>t5_2qioo</td>\n",
       "      <td>NaN</td>\n",
       "      <td>NaN</td>\n",
       "      <td>self</td>\n",
       "      <td>Help with audio set-up</td>\n",
       "      <td>1.0</td>\n",
       "      <td>https://www.reddit.com/r/techsupport/comments/...</td>\n",
       "    </tr>\n",
       "    <tr>\n",
       "      <th>1</th>\n",
       "      <td>NaN</td>\n",
       "      <td>NaN</td>\n",
       "      <td>False</td>\n",
       "      <td>Silverfin113</td>\n",
       "      <td>NaN</td>\n",
       "      <td>NaN</td>\n",
       "      <td>False</td>\n",
       "      <td>1480697424</td>\n",
       "      <td>NaN</td>\n",
       "      <td>NaN</td>\n",
       "      <td>...</td>\n",
       "      <td>False</td>\n",
       "      <td>False</td>\n",
       "      <td>learnprogramming</td>\n",
       "      <td>t5_2r7yd</td>\n",
       "      <td>NaN</td>\n",
       "      <td>NaN</td>\n",
       "      <td>self</td>\n",
       "      <td>Optimizing code for speed</td>\n",
       "      <td>23.0</td>\n",
       "      <td>https://www.reddit.com/r/learnprogramming/comm...</td>\n",
       "    </tr>\n",
       "    <tr>\n",
       "      <th>2</th>\n",
       "      <td>NaN</td>\n",
       "      <td>NaN</td>\n",
       "      <td>False</td>\n",
       "      <td>bookbooksbooks</td>\n",
       "      <td>NaN</td>\n",
       "      <td>NaN</td>\n",
       "      <td>False</td>\n",
       "      <td>1480697613</td>\n",
       "      <td>NaN</td>\n",
       "      <td>NaN</td>\n",
       "      <td>...</td>\n",
       "      <td>False</td>\n",
       "      <td>False</td>\n",
       "      <td>gamedev</td>\n",
       "      <td>t5_2qi0a</td>\n",
       "      <td>NaN</td>\n",
       "      <td>NaN</td>\n",
       "      <td>self</td>\n",
       "      <td>Seeking Tales of Development Woe (and Triumph)...</td>\n",
       "      <td>12.0</td>\n",
       "      <td>https://www.reddit.com/r/gamedev/comments/5g4a...</td>\n",
       "    </tr>\n",
       "    <tr>\n",
       "      <th>3</th>\n",
       "      <td>NaN</td>\n",
       "      <td>NaN</td>\n",
       "      <td>False</td>\n",
       "      <td>[deleted]</td>\n",
       "      <td>NaN</td>\n",
       "      <td>NaN</td>\n",
       "      <td>False</td>\n",
       "      <td>1480697634</td>\n",
       "      <td>NaN</td>\n",
       "      <td>NaN</td>\n",
       "      <td>...</td>\n",
       "      <td>False</td>\n",
       "      <td>False</td>\n",
       "      <td>learnprogramming</td>\n",
       "      <td>t5_2r7yd</td>\n",
       "      <td>NaN</td>\n",
       "      <td>NaN</td>\n",
       "      <td>default</td>\n",
       "      <td>[Java] Finding smallest value in an array</td>\n",
       "      <td>0.0</td>\n",
       "      <td>https://www.reddit.com/r/learnprogramming/comm...</td>\n",
       "    </tr>\n",
       "    <tr>\n",
       "      <th>4</th>\n",
       "      <td>NaN</td>\n",
       "      <td>NaN</td>\n",
       "      <td>False</td>\n",
       "      <td>caffeine_potent</td>\n",
       "      <td>NaN</td>\n",
       "      <td>NaN</td>\n",
       "      <td>False</td>\n",
       "      <td>1480697748</td>\n",
       "      <td>NaN</td>\n",
       "      <td>NaN</td>\n",
       "      <td>...</td>\n",
       "      <td>False</td>\n",
       "      <td>False</td>\n",
       "      <td>learnpython</td>\n",
       "      <td>t5_2r8ot</td>\n",
       "      <td>NaN</td>\n",
       "      <td>NaN</td>\n",
       "      <td>self</td>\n",
       "      <td>currying functions using functools</td>\n",
       "      <td>6.0</td>\n",
       "      <td>https://www.reddit.com/r/learnpython/comments/...</td>\n",
       "    </tr>\n",
       "  </tbody>\n",
       "</table>\n",
       "<p>5 rows × 53 columns</p>\n",
       "</div>"
      ],
      "text/plain": [
       "   adserver_click_url  adserver_imp_pixel archived           author  \\\n",
       "0                 NaN                 NaN    False   johnnyawesome0   \n",
       "1                 NaN                 NaN    False     Silverfin113   \n",
       "2                 NaN                 NaN    False   bookbooksbooks   \n",
       "3                 NaN                 NaN    False        [deleted]   \n",
       "4                 NaN                 NaN    False  caffeine_potent   \n",
       "\n",
       "  author_flair_css_class author_flair_text contest_mode  created_utc  \\\n",
       "0                    NaN               NaN        False   1480697304   \n",
       "1                    NaN               NaN        False   1480697424   \n",
       "2                    NaN               NaN        False   1480697613   \n",
       "3                    NaN               NaN        False   1480697634   \n",
       "4                    NaN               NaN        False   1480697748   \n",
       "\n",
       "   disable_comments distinguished  \\\n",
       "0               NaN           NaN   \n",
       "1               NaN           NaN   \n",
       "2               NaN           NaN   \n",
       "3               NaN           NaN   \n",
       "4               NaN           NaN   \n",
       "\n",
       "                         ...                         spoiler  stickied  \\\n",
       "0                        ...                           False     False   \n",
       "1                        ...                           False     False   \n",
       "2                        ...                           False     False   \n",
       "3                        ...                           False     False   \n",
       "4                        ...                           False     False   \n",
       "\n",
       "          subreddit  subreddit_id third_party_tracking  \\\n",
       "0       techsupport      t5_2qioo                  NaN   \n",
       "1  learnprogramming      t5_2r7yd                  NaN   \n",
       "2           gamedev      t5_2qi0a                  NaN   \n",
       "3  learnprogramming      t5_2r7yd                  NaN   \n",
       "4       learnpython      t5_2r8ot                  NaN   \n",
       "\n",
       "   third_party_tracking_2 thumbnail  \\\n",
       "0                     NaN      self   \n",
       "1                     NaN      self   \n",
       "2                     NaN      self   \n",
       "3                     NaN   default   \n",
       "4                     NaN      self   \n",
       "\n",
       "                                               title   ups  \\\n",
       "0                             Help with audio set-up   1.0   \n",
       "1                          Optimizing code for speed  23.0   \n",
       "2  Seeking Tales of Development Woe (and Triumph)...  12.0   \n",
       "3          [Java] Finding smallest value in an array   0.0   \n",
       "4                 currying functions using functools   6.0   \n",
       "\n",
       "                                                 url  \n",
       "0  https://www.reddit.com/r/techsupport/comments/...  \n",
       "1  https://www.reddit.com/r/learnprogramming/comm...  \n",
       "2  https://www.reddit.com/r/gamedev/comments/5g4a...  \n",
       "3  https://www.reddit.com/r/learnprogramming/comm...  \n",
       "4  https://www.reddit.com/r/learnpython/comments/...  \n",
       "\n",
       "[5 rows x 53 columns]"
      ]
     },
     "execution_count": 3,
     "metadata": {},
     "output_type": "execute_result"
    }
   ],
   "source": [
    "df = pd.read_csv('reddit_posts.csv')\n",
    "df.head()"
   ]
  },
  {
   "cell_type": "code",
   "execution_count": 4,
   "metadata": {
    "collapsed": false
   },
   "outputs": [
    {
     "data": {
      "text/plain": [
       "adserver_click_url        26688\n",
       "adserver_imp_pixel        26688\n",
       "archived                      0\n",
       "author                        0\n",
       "author_flair_css_class    26253\n",
       "author_flair_text         26337\n",
       "contest_mode                  0\n",
       "created_utc                   0\n",
       "disable_comments          26688\n",
       "distinguished             26603\n",
       "domain                        0\n",
       "downs                         0\n",
       "edited                        0\n",
       "gilded                        0\n",
       "hide_score                    0\n",
       "href_url                  26688\n",
       "id                            0\n",
       "imp_pixel                 26688\n",
       "is_self                       0\n",
       "link_flair_css_class      22396\n",
       "link_flair_text           22078\n",
       "locked                        0\n",
       "media                     26420\n",
       "media_embed                   0\n",
       "mobile_ad_url             26688\n",
       "name                          0\n",
       "num_comments                  0\n",
       "original_link             26688\n",
       "over_18                       0\n",
       "permalink                     0\n",
       "post_hint                 23175\n",
       "preview                   23175\n",
       "promoted                  26688\n",
       "promoted_by               26688\n",
       "promoted_display_name     26688\n",
       "promoted_url              26688\n",
       "quarantine                    0\n",
       "retrieved_on                  0\n",
       "saved                         0\n",
       "score                         0\n",
       "secure_media              26420\n",
       "secure_media_embed            0\n",
       "selftext                      0\n",
       "spoiler                       0\n",
       "stickied                      0\n",
       "subreddit                     0\n",
       "subreddit_id                  0\n",
       "third_party_tracking      26688\n",
       "third_party_tracking_2    26688\n",
       "thumbnail                     0\n",
       "title                         0\n",
       "ups                           0\n",
       "url                           0\n",
       "dtype: int64"
      ]
     },
     "execution_count": 4,
     "metadata": {},
     "output_type": "execute_result"
    }
   ],
   "source": [
    "df.isnull().sum()"
   ]
  },
  {
   "cell_type": "code",
   "execution_count": 5,
   "metadata": {
    "collapsed": false
   },
   "outputs": [
    {
     "data": {
      "text/plain": [
       "(26688, 53)"
      ]
     },
     "execution_count": 5,
     "metadata": {},
     "output_type": "execute_result"
    }
   ],
   "source": [
    "df.shape"
   ]
  },
  {
   "cell_type": "markdown",
   "metadata": {},
   "source": [
    "**We are just going to drop all columns that have 26,688 null values**"
   ]
  },
  {
   "cell_type": "code",
   "execution_count": 8,
   "metadata": {
    "collapsed": false
   },
   "outputs": [],
   "source": [
    "df.drop(df.columns[df.isnull().sum() == 26688], axis = 1, inplace = True)"
   ]
  },
  {
   "cell_type": "code",
   "execution_count": 9,
   "metadata": {
    "collapsed": false
   },
   "outputs": [
    {
     "data": {
      "text/plain": [
       "archived                      0\n",
       "author                        0\n",
       "author_flair_css_class    26253\n",
       "author_flair_text         26337\n",
       "contest_mode                  0\n",
       "created_utc                   0\n",
       "distinguished             26603\n",
       "domain                        0\n",
       "downs                         0\n",
       "edited                        0\n",
       "gilded                        0\n",
       "hide_score                    0\n",
       "id                            0\n",
       "is_self                       0\n",
       "link_flair_css_class      22396\n",
       "link_flair_text           22078\n",
       "locked                        0\n",
       "media                     26420\n",
       "media_embed                   0\n",
       "name                          0\n",
       "num_comments                  0\n",
       "over_18                       0\n",
       "permalink                     0\n",
       "post_hint                 23175\n",
       "preview                   23175\n",
       "quarantine                    0\n",
       "retrieved_on                  0\n",
       "saved                         0\n",
       "score                         0\n",
       "secure_media              26420\n",
       "secure_media_embed            0\n",
       "selftext                      0\n",
       "spoiler                       0\n",
       "stickied                      0\n",
       "subreddit                     0\n",
       "subreddit_id                  0\n",
       "thumbnail                     0\n",
       "title                         0\n",
       "ups                           0\n",
       "url                           0\n",
       "dtype: int64"
      ]
     },
     "execution_count": 9,
     "metadata": {},
     "output_type": "execute_result"
    }
   ],
   "source": [
    "df.isnull().sum()"
   ]
  },
  {
   "cell_type": "markdown",
   "metadata": {},
   "source": [
    "**There are only a few more that are mostly nulls, we will investigate as to why**"
   ]
  },
  {
   "cell_type": "code",
   "execution_count": 10,
   "metadata": {
    "collapsed": false
   },
   "outputs": [
    {
     "data": {
      "text/plain": [
       "py32bg                 84\n",
       "commercial-indie       46\n",
       "py27bg                 43\n",
       "hobbyist               33\n",
       "py32bggh               29\n",
       "none                   29\n",
       "py3int                 25\n",
       "noob                   21\n",
       "intermediate           15\n",
       "py3intgh               13\n",
       "student                13\n",
       "py27bggh               12\n",
       "DefaultFlair            9\n",
       "py2int                  8\n",
       "trusted                 8\n",
       "commercial-other        8\n",
       "py3-empty               7\n",
       "swift                   7\n",
       "objc-swift              5\n",
       "flair                   3\n",
       "bell-bronze             3\n",
       "pro                     3\n",
       "python                  2\n",
       "py2intgh                1\n",
       "php-contributor         1\n",
       "emacs                   1\n",
       "ex-commercial-other     1\n",
       "py32ad                  1\n",
       "py27ad                  1\n",
       "py27exgh                1\n",
       "objc                    1\n",
       "py2-empty               1\n",
       "Name: author_flair_css_class, dtype: int64"
      ]
     },
     "execution_count": 10,
     "metadata": {},
     "output_type": "execute_result"
    }
   ],
   "source": [
    "df['author_flair_css_class'].value_counts()"
   ]
  },
  {
   "cell_type": "markdown",
   "metadata": {},
   "source": [
    "**It appears that these are the flairs of authors, we will check the subreddits and see how often people have flairs**"
   ]
  },
  {
   "cell_type": "code",
   "execution_count": 11,
   "metadata": {
    "collapsed": false
   },
   "outputs": [
    {
     "data": {
      "text/plain": [
       "techsupport         11423\n",
       "learnprogramming     3448\n",
       "technology           2321\n",
       "learnpython          1724\n",
       "gamedev              1281\n",
       "web_design            864\n",
       "Python                603\n",
       "javascript            546\n",
       "linux                 545\n",
       "javahelp              536\n",
       "engineering           525\n",
       "csshelp               393\n",
       "iOSProgramming        330\n",
       "swift                 261\n",
       "programming           254\n",
       "PHP                   192\n",
       "computerscience       162\n",
       "netsec                159\n",
       "java                  157\n",
       "compsci               154\n",
       "django                127\n",
       "css                   106\n",
       "cpp                    86\n",
       "HTML                   85\n",
       "ruby                   77\n",
       "flask                  71\n",
       "html5                  62\n",
       "jquery                 46\n",
       "coding                 34\n",
       "pygame                 34\n",
       "perl                   24\n",
       "lisp                   16\n",
       "programmer             13\n",
       "dailyprogrammer        10\n",
       "IPython                 8\n",
       "inventwithpython        6\n",
       "pystats                 3\n",
       "pythoncoding            2\n",
       "Name: subreddit, dtype: int64"
      ]
     },
     "execution_count": 11,
     "metadata": {},
     "output_type": "execute_result"
    }
   ],
   "source": [
    "df['subreddit'].value_counts()"
   ]
  },
  {
   "cell_type": "markdown",
   "metadata": {},
   "source": [
    "**Checked r/techsupport and very few people have flairs. Might as well drop this column**"
   ]
  },
  {
   "cell_type": "code",
   "execution_count": 12,
   "metadata": {
    "collapsed": true
   },
   "outputs": [],
   "source": [
    "df.drop('author_flair_css_class', axis = 1, inplace = True)"
   ]
  },
  {
   "cell_type": "code",
   "execution_count": 14,
   "metadata": {
    "collapsed": false
   },
   "outputs": [
    {
     "data": {
      "text/plain": [
       "@LucklessSeven      17\n",
       "Nooblet Brewer      10\n",
       "☺                   10\n",
       "HH0718               8\n",
       "@TheThroneOfLies     7\n",
       "Name: author_flair_text, dtype: int64"
      ]
     },
     "execution_count": 14,
     "metadata": {},
     "output_type": "execute_result"
    }
   ],
   "source": [
    "df['author_flair_text'].value_counts().head()"
   ]
  },
  {
   "cell_type": "markdown",
   "metadata": {},
   "source": [
    "**These seem pretty useless and a lot of people don't have them or just have a unique text. Will drop as well.**"
   ]
  },
  {
   "cell_type": "code",
   "execution_count": 15,
   "metadata": {
    "collapsed": true
   },
   "outputs": [],
   "source": [
    "df.drop('author_flair_text', axis = 1, inplace = True)"
   ]
  },
  {
   "cell_type": "code",
   "execution_count": 16,
   "metadata": {
    "collapsed": false
   },
   "outputs": [
    {
     "data": {
      "text/plain": [
       "moderator    85\n",
       "Name: distinguished, dtype: int64"
      ]
     },
     "execution_count": 16,
     "metadata": {},
     "output_type": "execute_result"
    }
   ],
   "source": [
    "df['distinguished'].value_counts()"
   ]
  },
  {
   "cell_type": "markdown",
   "metadata": {},
   "source": [
    "**It looks like these are all posts by moderators, and there are only 85 of them in the dataset. Due to the imbalanced nature of this feature, we will exclude it from our feature selection.**"
   ]
  },
  {
   "cell_type": "code",
   "execution_count": 18,
   "metadata": {
    "collapsed": true
   },
   "outputs": [],
   "source": [
    "df.drop('distinguished', axis = 1, inplace = True)"
   ]
  },
  {
   "cell_type": "code",
   "execution_count": 19,
   "metadata": {
    "collapsed": true
   },
   "outputs": [],
   "source": [
    "df.drop('link_flair_css_class', axis = 1, inplace = True)"
   ]
  },
  {
   "cell_type": "code",
   "execution_count": 20,
   "metadata": {
    "collapsed": true
   },
   "outputs": [],
   "source": [
    "df.drop('link_flair_text', axis = 1, inplace = True)"
   ]
  },
  {
   "cell_type": "markdown",
   "metadata": {},
   "source": [
    "**Dropped these columns as they are related to the flairs.**"
   ]
  },
  {
   "cell_type": "code",
   "execution_count": 22,
   "metadata": {
    "collapsed": false
   },
   "outputs": [],
   "source": [
    "df.drop('media', axis = 1, inplace = True)"
   ]
  },
  {
   "cell_type": "markdown",
   "metadata": {},
   "source": [
    "**Imbalanced column, seems to be if any media was embedded in the post e.g. Youtube videos**"
   ]
  },
  {
   "cell_type": "code",
   "execution_count": 25,
   "metadata": {
    "collapsed": false
   },
   "outputs": [],
   "source": [
    "df.drop('post_hint', axis = 1, inplace = True)"
   ]
  },
  {
   "cell_type": "code",
   "execution_count": 26,
   "metadata": {
    "collapsed": true
   },
   "outputs": [],
   "source": [
    "df.drop('preview', axis = 1, inplace = True)"
   ]
  },
  {
   "cell_type": "markdown",
   "metadata": {},
   "source": [
    "**These columns seem useless and imbalanced**"
   ]
  },
  {
   "cell_type": "code",
   "execution_count": 28,
   "metadata": {
    "collapsed": false
   },
   "outputs": [],
   "source": [
    "df.drop('secure_media', axis = 1, inplace = True)"
   ]
  },
  {
   "cell_type": "markdown",
   "metadata": {},
   "source": [
    "**Same as above**"
   ]
  },
  {
   "cell_type": "code",
   "execution_count": 29,
   "metadata": {
    "collapsed": false
   },
   "outputs": [
    {
     "data": {
      "text/plain": [
       "archived              0\n",
       "author                0\n",
       "contest_mode          0\n",
       "created_utc           0\n",
       "domain                0\n",
       "downs                 0\n",
       "edited                0\n",
       "gilded                0\n",
       "hide_score            0\n",
       "id                    0\n",
       "is_self               0\n",
       "locked                0\n",
       "media_embed           0\n",
       "name                  0\n",
       "num_comments          0\n",
       "over_18               0\n",
       "permalink             0\n",
       "quarantine            0\n",
       "retrieved_on          0\n",
       "saved                 0\n",
       "score                 0\n",
       "secure_media_embed    0\n",
       "selftext              0\n",
       "spoiler               0\n",
       "stickied              0\n",
       "subreddit             0\n",
       "subreddit_id          0\n",
       "thumbnail             0\n",
       "title                 0\n",
       "ups                   0\n",
       "url                   0\n",
       "dtype: int64"
      ]
     },
     "execution_count": 29,
     "metadata": {},
     "output_type": "execute_result"
    }
   ],
   "source": [
    "df.isnull().sum()"
   ]
  },
  {
   "cell_type": "markdown",
   "metadata": {},
   "source": [
    "**Now we will go through each feature and describe how we will treat them**"
   ]
  },
  {
   "cell_type": "code",
   "execution_count": 30,
   "metadata": {
    "collapsed": false
   },
   "outputs": [
    {
     "data": {
      "text/plain": [
       "False    26688\n",
       "Name: archived, dtype: int64"
      ]
     },
     "execution_count": 30,
     "metadata": {},
     "output_type": "execute_result"
    }
   ],
   "source": [
    "df['archived'].value_counts()"
   ]
  },
  {
   "cell_type": "markdown",
   "metadata": {},
   "source": [
    "**No point keeping this column**"
   ]
  },
  {
   "cell_type": "code",
   "execution_count": 31,
   "metadata": {
    "collapsed": true
   },
   "outputs": [],
   "source": [
    "df.drop('archived', axis = 1, inplace = True)"
   ]
  },
  {
   "cell_type": "markdown",
   "metadata": {},
   "source": [
    "Author usernames\n",
    "--"
   ]
  },
  {
   "cell_type": "code",
   "execution_count": 33,
   "metadata": {
    "collapsed": false
   },
   "outputs": [
    {
     "data": {
      "text/plain": [
       "[deleted]        5947\n",
       "wilsonharry       156\n",
       "AutoModerator      90\n",
       "ebpnovin           58\n",
       "Hgbnty             46\n",
       "Name: author, dtype: int64"
      ]
     },
     "execution_count": 33,
     "metadata": {},
     "output_type": "execute_result"
    }
   ],
   "source": [
    "df['author'].value_counts().head()"
   ]
  },
  {
   "cell_type": "markdown",
   "metadata": {},
   "source": [
    "**Use NLP on usernames if possible (Stem?)**"
   ]
  },
  {
   "cell_type": "code",
   "execution_count": 36,
   "metadata": {
    "collapsed": false
   },
   "outputs": [
    {
     "data": {
      "text/plain": [
       "False    26683\n",
       "True         5\n",
       "Name: contest_mode, dtype: int64"
      ]
     },
     "execution_count": 36,
     "metadata": {},
     "output_type": "execute_result"
    }
   ],
   "source": [
    "df['contest_mode'].value_counts()"
   ]
  },
  {
   "cell_type": "markdown",
   "metadata": {},
   "source": [
    "**Another unusable feature**"
   ]
  },
  {
   "cell_type": "code",
   "execution_count": 37,
   "metadata": {
    "collapsed": true
   },
   "outputs": [],
   "source": [
    "df.drop('contest_mode', axis = 1, inplace = True)"
   ]
  },
  {
   "cell_type": "markdown",
   "metadata": {},
   "source": [
    "**Time created (UTC)**\n",
    "--"
   ]
  },
  {
   "cell_type": "code",
   "execution_count": 39,
   "metadata": {
    "collapsed": false
   },
   "outputs": [
    {
     "data": {
      "text/plain": [
       "1482356776    3\n",
       "1481768887    3\n",
       "1480868953    2\n",
       "1480718188    2\n",
       "1482008551    2\n",
       "Name: created_utc, dtype: int64"
      ]
     },
     "execution_count": 39,
     "metadata": {},
     "output_type": "execute_result"
    }
   ],
   "source": [
    "df['created_utc'].value_counts().head()"
   ]
  },
  {
   "cell_type": "markdown",
   "metadata": {},
   "source": [
    "**We can convert these to datetime, or keep them as is, or create dummy variables after converting to datetime (e.g. day of week)**"
   ]
  },
  {
   "cell_type": "markdown",
   "metadata": {},
   "source": [
    "Domain\n",
    "--"
   ]
  },
  {
   "cell_type": "code",
   "execution_count": 46,
   "metadata": {
    "collapsed": false
   },
   "outputs": [
    {
     "data": {
      "text/plain": [
       "self.techsupport                11423\n",
       "self.learnprogramming            3448\n",
       "self.learnpython                 1724\n",
       "self.gamedev                     1191\n",
       "self.technology                  1152\n",
       "self.web_design                   749\n",
       "self.Python                       566\n",
       "self.javahelp                     536\n",
       "self.javascript                   482\n",
       "self.linux                        465\n",
       "self.engineering                  454\n",
       "self.csshelp                      393\n",
       "self.iOSProgramming               315\n",
       "self.swift                        249\n",
       "youtube.com                       188\n",
       "self.PHP                          175\n",
       "self.computerscience              159\n",
       "self.compsci                      147\n",
       "self.java                         138\n",
       "self.django                       124\n",
       "self.netsec                        97\n",
       "self.css                           94\n",
       "self.HTML                          85\n",
       "self.cpp                           83\n",
       "github.com                         75\n",
       "self.ruby                          72\n",
       "self.flask                         71\n",
       "youtu.be                           63\n",
       "i.redd.it                          58\n",
       "self.html5                         50\n",
       "                                ...  \n",
       "solid-angle.blogspot.fi             1\n",
       "info.michael-simons.eu              1\n",
       "bandt.com.au                        1\n",
       "sistec.ac.in                        1\n",
       "vikings.net                         1\n",
       "unu.ai                              1\n",
       "dreamworth.tumblr.com               1\n",
       "iclarified.com                      1\n",
       "news.vice.com                       1\n",
       "heatst.com                          1\n",
       "krebsonsecurity.com                 1\n",
       "dotzweb.com                         1\n",
       "post-gazette.com                    1\n",
       "thegeoscholar.wordpress.com         1\n",
       "rtn.asia                            1\n",
       "j.gifs.com                          1\n",
       "deedok.com                          1\n",
       "newstatesman.com                    1\n",
       "thehackertoday.com                  1\n",
       "store.steampowered.com              1\n",
       "blog.rebelmouse.com                 1\n",
       "arkatechture.com                    1\n",
       "developer.oculus.com                1\n",
       "breadjaam.com                       1\n",
       "ksl.com                             1\n",
       "arvaantechnolab.com                 1\n",
       "baptiste-wicht.com                  1\n",
       "economictimes.indiatimes.com        1\n",
       "techvibes.com                       1\n",
       "vrindies.com                        1\n",
       "Name: domain, dtype: int64"
      ]
     },
     "execution_count": 46,
     "metadata": {},
     "output_type": "execute_result"
    }
   ],
   "source": [
    "df['domain'].value_counts()"
   ]
  },
  {
   "cell_type": "code",
   "execution_count": 51,
   "metadata": {
    "collapsed": false
   },
   "outputs": [
    {
     "data": {
      "text/html": [
       "<div>\n",
       "<table border=\"1\" class=\"dataframe\">\n",
       "  <thead>\n",
       "    <tr style=\"text-align: right;\">\n",
       "      <th></th>\n",
       "      <th>author</th>\n",
       "      <th>created_utc</th>\n",
       "      <th>domain</th>\n",
       "      <th>downs</th>\n",
       "      <th>edited</th>\n",
       "      <th>gilded</th>\n",
       "      <th>hide_score</th>\n",
       "      <th>id</th>\n",
       "      <th>is_self</th>\n",
       "      <th>locked</th>\n",
       "      <th>...</th>\n",
       "      <th>secure_media_embed</th>\n",
       "      <th>selftext</th>\n",
       "      <th>spoiler</th>\n",
       "      <th>stickied</th>\n",
       "      <th>subreddit</th>\n",
       "      <th>subreddit_id</th>\n",
       "      <th>thumbnail</th>\n",
       "      <th>title</th>\n",
       "      <th>ups</th>\n",
       "      <th>url</th>\n",
       "    </tr>\n",
       "  </thead>\n",
       "  <tbody>\n",
       "  </tbody>\n",
       "</table>\n",
       "<p>0 rows × 29 columns</p>\n",
       "</div>"
      ],
      "text/plain": [
       "Empty DataFrame\n",
       "Columns: [author, created_utc, domain, downs, edited, gilded, hide_score, id, is_self, locked, media_embed, name, num_comments, over_18, permalink, quarantine, retrieved_on, saved, score, secure_media_embed, selftext, spoiler, stickied, subreddit, subreddit_id, thumbnail, title, ups, url]\n",
       "Index: []\n",
       "\n",
       "[0 rows x 29 columns]"
      ]
     },
     "execution_count": 51,
     "metadata": {},
     "output_type": "execute_result"
    }
   ],
   "source": [
    "df.loc[(df['domain'] == 'youtube.com') &(df['author'] != '[deleted]')]"
   ]
  },
  {
   "cell_type": "markdown",
   "metadata": {},
   "source": [
    "**As mentioned in the project prompt, this dataset should only contain self posts, posts which are purely text and do not link to an external website. However, it seems like this 'domain' column shows where the post was linked to, and it seems like there are external websites. Every non-self domain I checked always has the author as '[deleted]', which may mean that the post does not exist anymore. After checking on Reddit using the 'title' value, I did not receive any search results. We will drop all rows where the domain is not 'self...'.**"
   ]
  },
  {
   "cell_type": "code",
   "execution_count": 52,
   "metadata": {
    "collapsed": false
   },
   "outputs": [
    {
     "data": {
      "text/html": [
       "<div>\n",
       "<table border=\"1\" class=\"dataframe\">\n",
       "  <thead>\n",
       "    <tr style=\"text-align: right;\">\n",
       "      <th></th>\n",
       "      <th>author</th>\n",
       "      <th>created_utc</th>\n",
       "      <th>domain</th>\n",
       "      <th>downs</th>\n",
       "      <th>edited</th>\n",
       "      <th>gilded</th>\n",
       "      <th>hide_score</th>\n",
       "      <th>id</th>\n",
       "      <th>is_self</th>\n",
       "      <th>locked</th>\n",
       "      <th>...</th>\n",
       "      <th>secure_media_embed</th>\n",
       "      <th>selftext</th>\n",
       "      <th>spoiler</th>\n",
       "      <th>stickied</th>\n",
       "      <th>subreddit</th>\n",
       "      <th>subreddit_id</th>\n",
       "      <th>thumbnail</th>\n",
       "      <th>title</th>\n",
       "      <th>ups</th>\n",
       "      <th>url</th>\n",
       "    </tr>\n",
       "  </thead>\n",
       "  <tbody>\n",
       "    <tr>\n",
       "      <th>49</th>\n",
       "      <td>[deleted]</td>\n",
       "      <td>1480701022</td>\n",
       "      <td>youtube.com</td>\n",
       "      <td>0.0</td>\n",
       "      <td>False</td>\n",
       "      <td>0.0</td>\n",
       "      <td>False</td>\n",
       "      <td>5g4mvj</td>\n",
       "      <td>False</td>\n",
       "      <td>False</td>\n",
       "      <td>...</td>\n",
       "      <td>{u'content': u'&amp;lt;iframe class=\"embedly-embed...</td>\n",
       "      <td>[deleted]</td>\n",
       "      <td>False</td>\n",
       "      <td>False</td>\n",
       "      <td>technology</td>\n",
       "      <td>t5_2qh16</td>\n",
       "      <td>default</td>\n",
       "      <td>HURRYGet free Rs8 paytm cash</td>\n",
       "      <td>1.0</td>\n",
       "      <td>https://www.youtube.com/attribution_link?a=X8C...</td>\n",
       "    </tr>\n",
       "    <tr>\n",
       "      <th>127</th>\n",
       "      <td>[deleted]</td>\n",
       "      <td>1480706118</td>\n",
       "      <td>youtube.com</td>\n",
       "      <td>0.0</td>\n",
       "      <td>False</td>\n",
       "      <td>0.0</td>\n",
       "      <td>False</td>\n",
       "      <td>5g54r7</td>\n",
       "      <td>False</td>\n",
       "      <td>False</td>\n",
       "      <td>...</td>\n",
       "      <td>{u'content': u'&amp;lt;iframe width=\"600\" height=\"...</td>\n",
       "      <td>[deleted]</td>\n",
       "      <td>False</td>\n",
       "      <td>False</td>\n",
       "      <td>netsec</td>\n",
       "      <td>t5_1rqwi</td>\n",
       "      <td>default</td>\n",
       "      <td>Apple iOS v10.1.1 - Device Lock Bypass via loc...</td>\n",
       "      <td>1.0</td>\n",
       "      <td>https://www.youtube.com/watch?v=yygvBJBFy4s</td>\n",
       "    </tr>\n",
       "    <tr>\n",
       "      <th>284</th>\n",
       "      <td>[deleted]</td>\n",
       "      <td>1480718306</td>\n",
       "      <td>youtube.com</td>\n",
       "      <td>0.0</td>\n",
       "      <td>False</td>\n",
       "      <td>0.0</td>\n",
       "      <td>False</td>\n",
       "      <td>5g6a7j</td>\n",
       "      <td>False</td>\n",
       "      <td>False</td>\n",
       "      <td>...</td>\n",
       "      <td>{u'content': u'&amp;lt;iframe width=\"600\" height=\"...</td>\n",
       "      <td>[deleted]</td>\n",
       "      <td>False</td>\n",
       "      <td>False</td>\n",
       "      <td>gamedev</td>\n",
       "      <td>t5_2qi0a</td>\n",
       "      <td>default</td>\n",
       "      <td>Late Night - The evening antics of a small ind...</td>\n",
       "      <td>1.0</td>\n",
       "      <td>https://www.youtube.com/watch?v=1iaH64mCf-c</td>\n",
       "    </tr>\n",
       "    <tr>\n",
       "      <th>701</th>\n",
       "      <td>[deleted]</td>\n",
       "      <td>1480762030</td>\n",
       "      <td>youtube.com</td>\n",
       "      <td>0.0</td>\n",
       "      <td>False</td>\n",
       "      <td>0.0</td>\n",
       "      <td>False</td>\n",
       "      <td>5g925x</td>\n",
       "      <td>False</td>\n",
       "      <td>False</td>\n",
       "      <td>...</td>\n",
       "      <td>{u'content': u'&amp;lt;iframe width=\"600\" height=\"...</td>\n",
       "      <td>[deleted]</td>\n",
       "      <td>False</td>\n",
       "      <td>False</td>\n",
       "      <td>javascript</td>\n",
       "      <td>t5_2qh30</td>\n",
       "      <td>default</td>\n",
       "      <td>Advanced JS performance with V8 and Web Assemb...</td>\n",
       "      <td>1.0</td>\n",
       "      <td>https://www.youtube.com/watch?v=PvZdTZ1Nl5o</td>\n",
       "    </tr>\n",
       "    <tr>\n",
       "      <th>727</th>\n",
       "      <td>[deleted]</td>\n",
       "      <td>1480766655</td>\n",
       "      <td>youtube.com</td>\n",
       "      <td>0.0</td>\n",
       "      <td>False</td>\n",
       "      <td>0.0</td>\n",
       "      <td>False</td>\n",
       "      <td>5g99xd</td>\n",
       "      <td>False</td>\n",
       "      <td>False</td>\n",
       "      <td>...</td>\n",
       "      <td>{}</td>\n",
       "      <td>[deleted]</td>\n",
       "      <td>False</td>\n",
       "      <td>False</td>\n",
       "      <td>technology</td>\n",
       "      <td>t5_2qh16</td>\n",
       "      <td>default</td>\n",
       "      <td>How To Create A Google Plus Local Business Pag...</td>\n",
       "      <td>1.0</td>\n",
       "      <td>https://www.youtube.com/attribution_link?a=Bo4...</td>\n",
       "    </tr>\n",
       "    <tr>\n",
       "      <th>756</th>\n",
       "      <td>[deleted]</td>\n",
       "      <td>1480769933</td>\n",
       "      <td>youtube.com</td>\n",
       "      <td>0.0</td>\n",
       "      <td>False</td>\n",
       "      <td>0.0</td>\n",
       "      <td>False</td>\n",
       "      <td>5g9g2r</td>\n",
       "      <td>False</td>\n",
       "      <td>False</td>\n",
       "      <td>...</td>\n",
       "      <td>{u'content': u'&amp;lt;iframe width=\"600\" height=\"...</td>\n",
       "      <td>[deleted]</td>\n",
       "      <td>False</td>\n",
       "      <td>False</td>\n",
       "      <td>technology</td>\n",
       "      <td>t5_2qh16</td>\n",
       "      <td>default</td>\n",
       "      <td>Fighting Robots</td>\n",
       "      <td>1.0</td>\n",
       "      <td>https://www.youtube.com/watch?v=KHfYy9reU7U</td>\n",
       "    </tr>\n",
       "    <tr>\n",
       "      <th>761</th>\n",
       "      <td>[deleted]</td>\n",
       "      <td>1480770721</td>\n",
       "      <td>youtube.com</td>\n",
       "      <td>0.0</td>\n",
       "      <td>False</td>\n",
       "      <td>0.0</td>\n",
       "      <td>False</td>\n",
       "      <td>5g9hr9</td>\n",
       "      <td>False</td>\n",
       "      <td>False</td>\n",
       "      <td>...</td>\n",
       "      <td>{u'content': u'&amp;lt;iframe width=\"600\" height=\"...</td>\n",
       "      <td>[deleted]</td>\n",
       "      <td>False</td>\n",
       "      <td>False</td>\n",
       "      <td>engineering</td>\n",
       "      <td>t5_2qhpi</td>\n",
       "      <td>default</td>\n",
       "      <td>Robots Fight In Japan</td>\n",
       "      <td>417.0</td>\n",
       "      <td>https://www.youtube.com/watch?v=KHfYy9reU7U</td>\n",
       "    </tr>\n",
       "    <tr>\n",
       "      <th>765</th>\n",
       "      <td>[deleted]</td>\n",
       "      <td>1480771636</td>\n",
       "      <td>youtube.com</td>\n",
       "      <td>0.0</td>\n",
       "      <td>False</td>\n",
       "      <td>0.0</td>\n",
       "      <td>False</td>\n",
       "      <td>5g9jp8</td>\n",
       "      <td>False</td>\n",
       "      <td>False</td>\n",
       "      <td>...</td>\n",
       "      <td>{u'content': u'&amp;lt;iframe width=\"600\" height=\"...</td>\n",
       "      <td>[deleted]</td>\n",
       "      <td>False</td>\n",
       "      <td>False</td>\n",
       "      <td>engineering</td>\n",
       "      <td>t5_2qhpi</td>\n",
       "      <td>default</td>\n",
       "      <td>That’s a Fact - Ant Engineer</td>\n",
       "      <td>0.0</td>\n",
       "      <td>https://www.youtube.com/watch?v=tLAXdpKRfbU</td>\n",
       "    </tr>\n",
       "    <tr>\n",
       "      <th>826</th>\n",
       "      <td>[deleted]</td>\n",
       "      <td>1480777849</td>\n",
       "      <td>youtube.com</td>\n",
       "      <td>0.0</td>\n",
       "      <td>False</td>\n",
       "      <td>0.0</td>\n",
       "      <td>False</td>\n",
       "      <td>5g9y1p</td>\n",
       "      <td>False</td>\n",
       "      <td>False</td>\n",
       "      <td>...</td>\n",
       "      <td>{u'content': u'&amp;lt;iframe width=\"600\" height=\"...</td>\n",
       "      <td>[deleted]</td>\n",
       "      <td>False</td>\n",
       "      <td>False</td>\n",
       "      <td>technology</td>\n",
       "      <td>t5_2qh16</td>\n",
       "      <td>default</td>\n",
       "      <td>Remove Shortcut Virus From Your Memory or Pen ...</td>\n",
       "      <td>1.0</td>\n",
       "      <td>https://www.youtube.com/watch?v=qg3lFtZKr0k</td>\n",
       "    </tr>\n",
       "    <tr>\n",
       "      <th>940</th>\n",
       "      <td>[deleted]</td>\n",
       "      <td>1480787642</td>\n",
       "      <td>youtube.com</td>\n",
       "      <td>0.0</td>\n",
       "      <td>False</td>\n",
       "      <td>0.0</td>\n",
       "      <td>False</td>\n",
       "      <td>5gaq57</td>\n",
       "      <td>False</td>\n",
       "      <td>False</td>\n",
       "      <td>...</td>\n",
       "      <td>{u'content': u'&amp;lt;iframe width=\"459\" height=\"...</td>\n",
       "      <td>[deleted]</td>\n",
       "      <td>False</td>\n",
       "      <td>False</td>\n",
       "      <td>technology</td>\n",
       "      <td>t5_2qh16</td>\n",
       "      <td>default</td>\n",
       "      <td>\"Year 1999 AD\" - A 1967 Film Imagines the Future</td>\n",
       "      <td>1.0</td>\n",
       "      <td>https://www.youtube.com/watch?v=S1p6fmPzoJk</td>\n",
       "    </tr>\n",
       "    <tr>\n",
       "      <th>1025</th>\n",
       "      <td>[deleted]</td>\n",
       "      <td>1480793656</td>\n",
       "      <td>youtube.com</td>\n",
       "      <td>0.0</td>\n",
       "      <td>False</td>\n",
       "      <td>0.0</td>\n",
       "      <td>False</td>\n",
       "      <td>5gb9ga</td>\n",
       "      <td>False</td>\n",
       "      <td>False</td>\n",
       "      <td>...</td>\n",
       "      <td>{u'content': u'&amp;lt;iframe width=\"600\" height=\"...</td>\n",
       "      <td>[deleted]</td>\n",
       "      <td>False</td>\n",
       "      <td>False</td>\n",
       "      <td>engineering</td>\n",
       "      <td>t5_2qhpi</td>\n",
       "      <td>default</td>\n",
       "      <td>Forging a Ship Propeller</td>\n",
       "      <td>1.0</td>\n",
       "      <td>https://www.youtube.com/watch?v=Di6fu7F2BxQ</td>\n",
       "    </tr>\n",
       "    <tr>\n",
       "      <th>1061</th>\n",
       "      <td>[deleted]</td>\n",
       "      <td>1480796320</td>\n",
       "      <td>youtube.com</td>\n",
       "      <td>0.0</td>\n",
       "      <td>False</td>\n",
       "      <td>0.0</td>\n",
       "      <td>False</td>\n",
       "      <td>5gbhsw</td>\n",
       "      <td>False</td>\n",
       "      <td>False</td>\n",
       "      <td>...</td>\n",
       "      <td>{u'content': u'&amp;lt;iframe width=\"459\" height=\"...</td>\n",
       "      <td>[deleted]</td>\n",
       "      <td>False</td>\n",
       "      <td>False</td>\n",
       "      <td>programming</td>\n",
       "      <td>t5_2fwo</td>\n",
       "      <td>default</td>\n",
       "      <td>I created a bot that finds rhymes in music vid...</td>\n",
       "      <td>0.0</td>\n",
       "      <td>https://www.youtube.com/watch?v=py_DStBkJko</td>\n",
       "    </tr>\n",
       "    <tr>\n",
       "      <th>1068</th>\n",
       "      <td>[deleted]</td>\n",
       "      <td>1480797281</td>\n",
       "      <td>youtube.com</td>\n",
       "      <td>0.0</td>\n",
       "      <td>False</td>\n",
       "      <td>0.0</td>\n",
       "      <td>False</td>\n",
       "      <td>5gbkpy</td>\n",
       "      <td>False</td>\n",
       "      <td>False</td>\n",
       "      <td>...</td>\n",
       "      <td>{u'content': u'&amp;lt;iframe class=\"embedly-embed...</td>\n",
       "      <td>[deleted]</td>\n",
       "      <td>False</td>\n",
       "      <td>False</td>\n",
       "      <td>technology</td>\n",
       "      <td>t5_2qh16</td>\n",
       "      <td>default</td>\n",
       "      <td>RetroTech: Hewlett Packard HP-01 1977's Smarte...</td>\n",
       "      <td>1.0</td>\n",
       "      <td>https://www.youtube.com/attribution_link?a=Scq...</td>\n",
       "    </tr>\n",
       "    <tr>\n",
       "      <th>1144</th>\n",
       "      <td>[deleted]</td>\n",
       "      <td>1480802943</td>\n",
       "      <td>youtube.com</td>\n",
       "      <td>0.0</td>\n",
       "      <td>False</td>\n",
       "      <td>0.0</td>\n",
       "      <td>False</td>\n",
       "      <td>5gc24h</td>\n",
       "      <td>False</td>\n",
       "      <td>False</td>\n",
       "      <td>...</td>\n",
       "      <td>{u'content': u'&amp;lt;iframe width=\"459\" height=\"...</td>\n",
       "      <td>[deleted]</td>\n",
       "      <td>False</td>\n",
       "      <td>False</td>\n",
       "      <td>coding</td>\n",
       "      <td>t5_2rb2y</td>\n",
       "      <td>default</td>\n",
       "      <td>I created a bot that finds rhymes in music vid...</td>\n",
       "      <td>0.0</td>\n",
       "      <td>https://www.youtube.com/watch?v=py_DStBkJko</td>\n",
       "    </tr>\n",
       "    <tr>\n",
       "      <th>1689</th>\n",
       "      <td>[deleted]</td>\n",
       "      <td>1480862038</td>\n",
       "      <td>youtube.com</td>\n",
       "      <td>0.0</td>\n",
       "      <td>False</td>\n",
       "      <td>0.0</td>\n",
       "      <td>False</td>\n",
       "      <td>5gfnnp</td>\n",
       "      <td>False</td>\n",
       "      <td>False</td>\n",
       "      <td>...</td>\n",
       "      <td>{u'content': u'&amp;lt;iframe width=\"600\" height=\"...</td>\n",
       "      <td>[deleted]</td>\n",
       "      <td>False</td>\n",
       "      <td>False</td>\n",
       "      <td>engineering</td>\n",
       "      <td>t5_2qhpi</td>\n",
       "      <td>default</td>\n",
       "      <td>RC Combat Robot Wars</td>\n",
       "      <td>0.0</td>\n",
       "      <td>https://www.youtube.com/watch?v=saNDM8szNFg</td>\n",
       "    </tr>\n",
       "    <tr>\n",
       "      <th>1774</th>\n",
       "      <td>[deleted]</td>\n",
       "      <td>1480869664</td>\n",
       "      <td>youtube.com</td>\n",
       "      <td>0.0</td>\n",
       "      <td>False</td>\n",
       "      <td>0.0</td>\n",
       "      <td>False</td>\n",
       "      <td>5gg8iu</td>\n",
       "      <td>False</td>\n",
       "      <td>False</td>\n",
       "      <td>...</td>\n",
       "      <td>{u'content': u'&amp;lt;iframe width=\"600\" height=\"...</td>\n",
       "      <td>[deleted]</td>\n",
       "      <td>False</td>\n",
       "      <td>False</td>\n",
       "      <td>technology</td>\n",
       "      <td>t5_2qh16</td>\n",
       "      <td>default</td>\n",
       "      <td>Fix your windows black screen</td>\n",
       "      <td>1.0</td>\n",
       "      <td>https://www.youtube.com/watch?v=U0_f4yj8afU</td>\n",
       "    </tr>\n",
       "    <tr>\n",
       "      <th>2248</th>\n",
       "      <td>[deleted]</td>\n",
       "      <td>1480903974</td>\n",
       "      <td>youtube.com</td>\n",
       "      <td>0.0</td>\n",
       "      <td>False</td>\n",
       "      <td>0.0</td>\n",
       "      <td>False</td>\n",
       "      <td>5gjb8v</td>\n",
       "      <td>False</td>\n",
       "      <td>False</td>\n",
       "      <td>...</td>\n",
       "      <td>{u'content': u'&amp;lt;iframe width=\"600\" height=\"...</td>\n",
       "      <td>[deleted]</td>\n",
       "      <td>False</td>\n",
       "      <td>False</td>\n",
       "      <td>programming</td>\n",
       "      <td>t5_2fwo</td>\n",
       "      <td>default</td>\n",
       "      <td>The Problem With Brogrammers</td>\n",
       "      <td>0.0</td>\n",
       "      <td>https://www.youtube.com/watch?v=8dmSE4vKL7k</td>\n",
       "    </tr>\n",
       "    <tr>\n",
       "      <th>2250</th>\n",
       "      <td>[deleted]</td>\n",
       "      <td>1480904048</td>\n",
       "      <td>youtube.com</td>\n",
       "      <td>0.0</td>\n",
       "      <td>False</td>\n",
       "      <td>0.0</td>\n",
       "      <td>False</td>\n",
       "      <td>5gjbfo</td>\n",
       "      <td>False</td>\n",
       "      <td>False</td>\n",
       "      <td>...</td>\n",
       "      <td>{u'content': u'&amp;lt;iframe width=\"600\" height=\"...</td>\n",
       "      <td>[deleted]</td>\n",
       "      <td>False</td>\n",
       "      <td>False</td>\n",
       "      <td>coding</td>\n",
       "      <td>t5_2rb2y</td>\n",
       "      <td>default</td>\n",
       "      <td>The Problem With Brogrammers</td>\n",
       "      <td>1.0</td>\n",
       "      <td>https://www.youtube.com/watch?v=8dmSE4vKL7k</td>\n",
       "    </tr>\n",
       "    <tr>\n",
       "      <th>2479</th>\n",
       "      <td>[deleted]</td>\n",
       "      <td>1480929237</td>\n",
       "      <td>youtube.com</td>\n",
       "      <td>0.0</td>\n",
       "      <td>False</td>\n",
       "      <td>0.0</td>\n",
       "      <td>False</td>\n",
       "      <td>5gl05d</td>\n",
       "      <td>False</td>\n",
       "      <td>False</td>\n",
       "      <td>...</td>\n",
       "      <td>{u'content': u'&amp;lt;iframe width=\"600\" height=\"...</td>\n",
       "      <td>[deleted]</td>\n",
       "      <td>False</td>\n",
       "      <td>False</td>\n",
       "      <td>jquery</td>\n",
       "      <td>t5_2qhs4</td>\n",
       "      <td>default</td>\n",
       "      <td>Build a simple ToDo Serverless application, us...</td>\n",
       "      <td>1.0</td>\n",
       "      <td>https://www.youtube.com/watch?v=5AIS_y6CJ6E</td>\n",
       "    </tr>\n",
       "    <tr>\n",
       "      <th>2486</th>\n",
       "      <td>[deleted]</td>\n",
       "      <td>1480929855</td>\n",
       "      <td>youtube.com</td>\n",
       "      <td>0.0</td>\n",
       "      <td>False</td>\n",
       "      <td>0.0</td>\n",
       "      <td>False</td>\n",
       "      <td>5gl1bb</td>\n",
       "      <td>False</td>\n",
       "      <td>False</td>\n",
       "      <td>...</td>\n",
       "      <td>{u'content': u'&amp;lt;iframe width=\"600\" height=\"...</td>\n",
       "      <td>[deleted]</td>\n",
       "      <td>False</td>\n",
       "      <td>False</td>\n",
       "      <td>programming</td>\n",
       "      <td>t5_2fwo</td>\n",
       "      <td>default</td>\n",
       "      <td>[JavaScript] Tutorial: A simple ToDo Serverles...</td>\n",
       "      <td>0.0</td>\n",
       "      <td>https://www.youtube.com/watch?v=5AIS_y6CJ6E</td>\n",
       "    </tr>\n",
       "    <tr>\n",
       "      <th>2612</th>\n",
       "      <td>[deleted]</td>\n",
       "      <td>1480944311</td>\n",
       "      <td>youtube.com</td>\n",
       "      <td>0.0</td>\n",
       "      <td>False</td>\n",
       "      <td>0.0</td>\n",
       "      <td>False</td>\n",
       "      <td>5glvgf</td>\n",
       "      <td>False</td>\n",
       "      <td>False</td>\n",
       "      <td>...</td>\n",
       "      <td>{u'content': u'&amp;lt;iframe width=\"600\" height=\"...</td>\n",
       "      <td>[deleted]</td>\n",
       "      <td>False</td>\n",
       "      <td>False</td>\n",
       "      <td>engineering</td>\n",
       "      <td>t5_2qhpi</td>\n",
       "      <td>default</td>\n",
       "      <td>US Military Robot Technology to collect Tax Mo...</td>\n",
       "      <td>7.0</td>\n",
       "      <td>https://www.youtube.com/watch?v=KjwTnonQV7E</td>\n",
       "    </tr>\n",
       "    <tr>\n",
       "      <th>2618</th>\n",
       "      <td>[deleted]</td>\n",
       "      <td>1480944823</td>\n",
       "      <td>youtube.com</td>\n",
       "      <td>0.0</td>\n",
       "      <td>False</td>\n",
       "      <td>0.0</td>\n",
       "      <td>False</td>\n",
       "      <td>5glwql</td>\n",
       "      <td>False</td>\n",
       "      <td>False</td>\n",
       "      <td>...</td>\n",
       "      <td>{u'content': u'&amp;lt;iframe width=\"600\" height=\"...</td>\n",
       "      <td>[deleted]</td>\n",
       "      <td>False</td>\n",
       "      <td>False</td>\n",
       "      <td>technology</td>\n",
       "      <td>t5_2qh16</td>\n",
       "      <td>default</td>\n",
       "      <td>World Most Awesome Heavy Equipment Machines Am...</td>\n",
       "      <td>1.0</td>\n",
       "      <td>https://www.youtube.com/watch?v=HckPFYWuV0o</td>\n",
       "    </tr>\n",
       "    <tr>\n",
       "      <th>2625</th>\n",
       "      <td>[deleted]</td>\n",
       "      <td>1480945489</td>\n",
       "      <td>youtube.com</td>\n",
       "      <td>0.0</td>\n",
       "      <td>False</td>\n",
       "      <td>0.0</td>\n",
       "      <td>False</td>\n",
       "      <td>5glygd</td>\n",
       "      <td>False</td>\n",
       "      <td>False</td>\n",
       "      <td>...</td>\n",
       "      <td>{u'content': u'&amp;lt;iframe width=\"600\" height=\"...</td>\n",
       "      <td>[deleted]</td>\n",
       "      <td>False</td>\n",
       "      <td>False</td>\n",
       "      <td>technology</td>\n",
       "      <td>t5_2qh16</td>\n",
       "      <td>default</td>\n",
       "      <td>Apple iPhone 7 Best New Features</td>\n",
       "      <td>1.0</td>\n",
       "      <td>https://www.youtube.com/watch?v=yW9pS7w8YcE</td>\n",
       "    </tr>\n",
       "    <tr>\n",
       "      <th>2660</th>\n",
       "      <td>[deleted]</td>\n",
       "      <td>1480949415</td>\n",
       "      <td>youtube.com</td>\n",
       "      <td>0.0</td>\n",
       "      <td>False</td>\n",
       "      <td>0.0</td>\n",
       "      <td>False</td>\n",
       "      <td>5gm9p4</td>\n",
       "      <td>False</td>\n",
       "      <td>False</td>\n",
       "      <td>...</td>\n",
       "      <td>{u'content': u'&amp;lt;iframe width=\"600\" height=\"...</td>\n",
       "      <td>[deleted]</td>\n",
       "      <td>False</td>\n",
       "      <td>False</td>\n",
       "      <td>engineering</td>\n",
       "      <td>t5_2qhpi</td>\n",
       "      <td>default</td>\n",
       "      <td>US Military Robot Technology to collect Tax Money</td>\n",
       "      <td>0.0</td>\n",
       "      <td>https://www.youtube.com/watch?v=KjwTnonQV7E</td>\n",
       "    </tr>\n",
       "    <tr>\n",
       "      <th>2791</th>\n",
       "      <td>[deleted]</td>\n",
       "      <td>1480958026</td>\n",
       "      <td>youtube.com</td>\n",
       "      <td>0.0</td>\n",
       "      <td>False</td>\n",
       "      <td>0.0</td>\n",
       "      <td>False</td>\n",
       "      <td>5gn2ne</td>\n",
       "      <td>False</td>\n",
       "      <td>False</td>\n",
       "      <td>...</td>\n",
       "      <td>{u'content': u'&amp;lt;iframe width=\"600\" height=\"...</td>\n",
       "      <td>[deleted]</td>\n",
       "      <td>False</td>\n",
       "      <td>False</td>\n",
       "      <td>technology</td>\n",
       "      <td>t5_2qh16</td>\n",
       "      <td>default</td>\n",
       "      <td>How to buy a sandwich at a store in 12 seconds...</td>\n",
       "      <td>1.0</td>\n",
       "      <td>https://www.youtube.com/watch?v=NrmMk1Myrxc&amp;am...</td>\n",
       "    </tr>\n",
       "    <tr>\n",
       "      <th>2875</th>\n",
       "      <td>[deleted]</td>\n",
       "      <td>1480963234</td>\n",
       "      <td>youtube.com</td>\n",
       "      <td>0.0</td>\n",
       "      <td>False</td>\n",
       "      <td>0.0</td>\n",
       "      <td>False</td>\n",
       "      <td>5gnltd</td>\n",
       "      <td>False</td>\n",
       "      <td>False</td>\n",
       "      <td>...</td>\n",
       "      <td>{u'content': u'&amp;lt;iframe width=\"600\" height=\"...</td>\n",
       "      <td>[deleted]</td>\n",
       "      <td>False</td>\n",
       "      <td>False</td>\n",
       "      <td>technology</td>\n",
       "      <td>t5_2qh16</td>\n",
       "      <td>default</td>\n",
       "      <td>Amazon is taking over.</td>\n",
       "      <td>1.0</td>\n",
       "      <td>https://www.youtube.com/watch?v=tniKLukudzA&amp;am...</td>\n",
       "    </tr>\n",
       "    <tr>\n",
       "      <th>3388</th>\n",
       "      <td>[deleted]</td>\n",
       "      <td>1480996598</td>\n",
       "      <td>youtube.com</td>\n",
       "      <td>0.0</td>\n",
       "      <td>False</td>\n",
       "      <td>0.0</td>\n",
       "      <td>False</td>\n",
       "      <td>5gqqab</td>\n",
       "      <td>False</td>\n",
       "      <td>False</td>\n",
       "      <td>...</td>\n",
       "      <td>{u'content': u'&amp;lt;iframe class=\"embedly-embed...</td>\n",
       "      <td>[deleted]</td>\n",
       "      <td>False</td>\n",
       "      <td>False</td>\n",
       "      <td>technology</td>\n",
       "      <td>t5_2qh16</td>\n",
       "      <td>default</td>\n",
       "      <td>WhatsApp Will Not Support These Smartphones by...</td>\n",
       "      <td>1.0</td>\n",
       "      <td>https://www.youtube.com/attribution_link?a=7js...</td>\n",
       "    </tr>\n",
       "    <tr>\n",
       "      <th>3864</th>\n",
       "      <td>[deleted]</td>\n",
       "      <td>1481045463</td>\n",
       "      <td>youtube.com</td>\n",
       "      <td>0.0</td>\n",
       "      <td>False</td>\n",
       "      <td>0.0</td>\n",
       "      <td>False</td>\n",
       "      <td>5gu5x2</td>\n",
       "      <td>False</td>\n",
       "      <td>False</td>\n",
       "      <td>...</td>\n",
       "      <td>{u'content': u'&amp;lt;iframe class=\"embedly-embed...</td>\n",
       "      <td>[deleted]</td>\n",
       "      <td>False</td>\n",
       "      <td>False</td>\n",
       "      <td>technology</td>\n",
       "      <td>t5_2qh16</td>\n",
       "      <td>default</td>\n",
       "      <td>Google Wifi: Home Wifi Simply Solved</td>\n",
       "      <td>1.0</td>\n",
       "      <td>https://www.youtube.com/attribution_link?a=REx...</td>\n",
       "    </tr>\n",
       "    <tr>\n",
       "      <th>3942</th>\n",
       "      <td>[deleted]</td>\n",
       "      <td>1481050161</td>\n",
       "      <td>youtube.com</td>\n",
       "      <td>0.0</td>\n",
       "      <td>False</td>\n",
       "      <td>0.0</td>\n",
       "      <td>False</td>\n",
       "      <td>5gumxv</td>\n",
       "      <td>False</td>\n",
       "      <td>False</td>\n",
       "      <td>...</td>\n",
       "      <td>{u'content': u'&amp;lt;iframe width=\"600\" height=\"...</td>\n",
       "      <td>[deleted]</td>\n",
       "      <td>False</td>\n",
       "      <td>False</td>\n",
       "      <td>technology</td>\n",
       "      <td>t5_2qh16</td>\n",
       "      <td>default</td>\n",
       "      <td>These T.V.s Are As Thin As Credit Cards</td>\n",
       "      <td>1.0</td>\n",
       "      <td>https://www.youtube.com/watch?v=AJAC2dbm17w&amp;am...</td>\n",
       "    </tr>\n",
       "    <tr>\n",
       "      <th>4140</th>\n",
       "      <td>[deleted]</td>\n",
       "      <td>1481062303</td>\n",
       "      <td>youtube.com</td>\n",
       "      <td>0.0</td>\n",
       "      <td>False</td>\n",
       "      <td>0.0</td>\n",
       "      <td>False</td>\n",
       "      <td>5gvvnk</td>\n",
       "      <td>False</td>\n",
       "      <td>False</td>\n",
       "      <td>...</td>\n",
       "      <td>{u'content': u'&amp;lt;iframe width=\"600\" height=\"...</td>\n",
       "      <td>[deleted]</td>\n",
       "      <td>False</td>\n",
       "      <td>False</td>\n",
       "      <td>programming</td>\n",
       "      <td>t5_2fwo</td>\n",
       "      <td>default</td>\n",
       "      <td>Object-Oriented Programming is Bad</td>\n",
       "      <td>1.0</td>\n",
       "      <td>https://www.youtube.com/watch?v=QM1iUe6IofM&amp;am...</td>\n",
       "    </tr>\n",
       "    <tr>\n",
       "      <th>...</th>\n",
       "      <td>...</td>\n",
       "      <td>...</td>\n",
       "      <td>...</td>\n",
       "      <td>...</td>\n",
       "      <td>...</td>\n",
       "      <td>...</td>\n",
       "      <td>...</td>\n",
       "      <td>...</td>\n",
       "      <td>...</td>\n",
       "      <td>...</td>\n",
       "      <td>...</td>\n",
       "      <td>...</td>\n",
       "      <td>...</td>\n",
       "      <td>...</td>\n",
       "      <td>...</td>\n",
       "      <td>...</td>\n",
       "      <td>...</td>\n",
       "      <td>...</td>\n",
       "      <td>...</td>\n",
       "      <td>...</td>\n",
       "      <td>...</td>\n",
       "    </tr>\n",
       "    <tr>\n",
       "      <th>19632</th>\n",
       "      <td>[deleted]</td>\n",
       "      <td>1482376276</td>\n",
       "      <td>youtube.com</td>\n",
       "      <td>0.0</td>\n",
       "      <td>False</td>\n",
       "      <td>0.0</td>\n",
       "      <td>False</td>\n",
       "      <td>5joa4w</td>\n",
       "      <td>False</td>\n",
       "      <td>False</td>\n",
       "      <td>...</td>\n",
       "      <td>{}</td>\n",
       "      <td>[deleted]</td>\n",
       "      <td>False</td>\n",
       "      <td>False</td>\n",
       "      <td>technology</td>\n",
       "      <td>t5_2qh16</td>\n",
       "      <td>default</td>\n",
       "      <td>\"HUMAN FLYING DRONE\"</td>\n",
       "      <td>1.0</td>\n",
       "      <td>https://www.youtube.com/shared?ci=yLNGPwnZeb8</td>\n",
       "    </tr>\n",
       "    <tr>\n",
       "      <th>19647</th>\n",
       "      <td>[deleted]</td>\n",
       "      <td>1482377340</td>\n",
       "      <td>youtube.com</td>\n",
       "      <td>0.0</td>\n",
       "      <td>False</td>\n",
       "      <td>0.0</td>\n",
       "      <td>False</td>\n",
       "      <td>5jod4u</td>\n",
       "      <td>False</td>\n",
       "      <td>False</td>\n",
       "      <td>...</td>\n",
       "      <td>{u'content': u'&amp;lt;iframe width=\"459\" height=\"...</td>\n",
       "      <td>[deleted]</td>\n",
       "      <td>False</td>\n",
       "      <td>False</td>\n",
       "      <td>technology</td>\n",
       "      <td>t5_2qh16</td>\n",
       "      <td>default</td>\n",
       "      <td>Steve Jobs on product development in a company...</td>\n",
       "      <td>1.0</td>\n",
       "      <td>https://www.youtube.com/watch?v=h1orCiYdwyo</td>\n",
       "    </tr>\n",
       "    <tr>\n",
       "      <th>19938</th>\n",
       "      <td>[deleted]</td>\n",
       "      <td>1482412761</td>\n",
       "      <td>youtube.com</td>\n",
       "      <td>0.0</td>\n",
       "      <td>False</td>\n",
       "      <td>0.0</td>\n",
       "      <td>False</td>\n",
       "      <td>5jqivl</td>\n",
       "      <td>False</td>\n",
       "      <td>False</td>\n",
       "      <td>...</td>\n",
       "      <td>{u'content': u'&amp;lt;iframe width=\"600\" height=\"...</td>\n",
       "      <td>[deleted]</td>\n",
       "      <td>False</td>\n",
       "      <td>False</td>\n",
       "      <td>netsec</td>\n",
       "      <td>t5_1rqwi</td>\n",
       "      <td>default</td>\n",
       "      <td>What are the chances the small images download...</td>\n",
       "      <td>0.0</td>\n",
       "      <td>https://www.youtube.com/watch?v=weJcF5EgLnA</td>\n",
       "    </tr>\n",
       "    <tr>\n",
       "      <th>20023</th>\n",
       "      <td>[deleted]</td>\n",
       "      <td>1482420611</td>\n",
       "      <td>youtube.com</td>\n",
       "      <td>0.0</td>\n",
       "      <td>False</td>\n",
       "      <td>0.0</td>\n",
       "      <td>False</td>\n",
       "      <td>5jr4ud</td>\n",
       "      <td>False</td>\n",
       "      <td>False</td>\n",
       "      <td>...</td>\n",
       "      <td>{u'content': u'&amp;lt;iframe width=\"600\" height=\"...</td>\n",
       "      <td>[deleted]</td>\n",
       "      <td>False</td>\n",
       "      <td>False</td>\n",
       "      <td>technology</td>\n",
       "      <td>t5_2qh16</td>\n",
       "      <td>default</td>\n",
       "      <td>My new animation video. Let me know, how is it...</td>\n",
       "      <td>1.0</td>\n",
       "      <td>https://www.youtube.com/watch?v=UNCSg7NiIo0</td>\n",
       "    </tr>\n",
       "    <tr>\n",
       "      <th>20168</th>\n",
       "      <td>[deleted]</td>\n",
       "      <td>1482431757</td>\n",
       "      <td>youtube.com</td>\n",
       "      <td>0.0</td>\n",
       "      <td>False</td>\n",
       "      <td>0.0</td>\n",
       "      <td>False</td>\n",
       "      <td>5js67d</td>\n",
       "      <td>False</td>\n",
       "      <td>False</td>\n",
       "      <td>...</td>\n",
       "      <td>{u'content': u'&amp;lt;iframe width=\"600\" height=\"...</td>\n",
       "      <td>[deleted]</td>\n",
       "      <td>False</td>\n",
       "      <td>False</td>\n",
       "      <td>PHP</td>\n",
       "      <td>t5_2qh38</td>\n",
       "      <td>default</td>\n",
       "      <td>How to Build A Calendar Using PHP</td>\n",
       "      <td>0.0</td>\n",
       "      <td>https://www.youtube.com/watch?v=Q5scINo6oyo</td>\n",
       "    </tr>\n",
       "    <tr>\n",
       "      <th>20259</th>\n",
       "      <td>[deleted]</td>\n",
       "      <td>1482439414</td>\n",
       "      <td>youtube.com</td>\n",
       "      <td>0.0</td>\n",
       "      <td>False</td>\n",
       "      <td>0.0</td>\n",
       "      <td>False</td>\n",
       "      <td>5jsx4e</td>\n",
       "      <td>False</td>\n",
       "      <td>False</td>\n",
       "      <td>...</td>\n",
       "      <td>{u'content': u'&amp;lt;iframe width=\"600\" height=\"...</td>\n",
       "      <td>[deleted]</td>\n",
       "      <td>False</td>\n",
       "      <td>False</td>\n",
       "      <td>technology</td>\n",
       "      <td>t5_2qh16</td>\n",
       "      <td>default</td>\n",
       "      <td>New Apple Laptops Get Low Rating | Consumer Re...</td>\n",
       "      <td>1.0</td>\n",
       "      <td>https://www.youtube.com/watch?v=6cH4XTE2pIQ</td>\n",
       "    </tr>\n",
       "    <tr>\n",
       "      <th>20264</th>\n",
       "      <td>[deleted]</td>\n",
       "      <td>1482439806</td>\n",
       "      <td>youtube.com</td>\n",
       "      <td>0.0</td>\n",
       "      <td>False</td>\n",
       "      <td>0.0</td>\n",
       "      <td>False</td>\n",
       "      <td>5jsygh</td>\n",
       "      <td>False</td>\n",
       "      <td>False</td>\n",
       "      <td>...</td>\n",
       "      <td>{}</td>\n",
       "      <td>[deleted]</td>\n",
       "      <td>False</td>\n",
       "      <td>False</td>\n",
       "      <td>technology</td>\n",
       "      <td>t5_2qh16</td>\n",
       "      <td>default</td>\n",
       "      <td>How to HACK wifi WOKING 100%</td>\n",
       "      <td>1.0</td>\n",
       "      <td>https://www.youtube.com/attribution_link?a=Yux...</td>\n",
       "    </tr>\n",
       "    <tr>\n",
       "      <th>20268</th>\n",
       "      <td>[deleted]</td>\n",
       "      <td>1482440029</td>\n",
       "      <td>youtube.com</td>\n",
       "      <td>0.0</td>\n",
       "      <td>False</td>\n",
       "      <td>0.0</td>\n",
       "      <td>False</td>\n",
       "      <td>5jsz9x</td>\n",
       "      <td>False</td>\n",
       "      <td>False</td>\n",
       "      <td>...</td>\n",
       "      <td>{u'content': u'&amp;lt;iframe width=\"600\" height=\"...</td>\n",
       "      <td>[deleted]</td>\n",
       "      <td>False</td>\n",
       "      <td>False</td>\n",
       "      <td>programming</td>\n",
       "      <td>t5_2fwo</td>\n",
       "      <td>default</td>\n",
       "      <td>I made this video about using neural networks ...</td>\n",
       "      <td>1.0</td>\n",
       "      <td>https://www.youtube.com/watch?v=o1_SkiEAjmA</td>\n",
       "    </tr>\n",
       "    <tr>\n",
       "      <th>20527</th>\n",
       "      <td>[deleted]</td>\n",
       "      <td>1482464272</td>\n",
       "      <td>youtube.com</td>\n",
       "      <td>0.0</td>\n",
       "      <td>False</td>\n",
       "      <td>0.0</td>\n",
       "      <td>False</td>\n",
       "      <td>5juz98</td>\n",
       "      <td>False</td>\n",
       "      <td>False</td>\n",
       "      <td>...</td>\n",
       "      <td>{u'content': u'&amp;lt;iframe width=\"600\" height=\"...</td>\n",
       "      <td>[deleted]</td>\n",
       "      <td>False</td>\n",
       "      <td>False</td>\n",
       "      <td>technology</td>\n",
       "      <td>t5_2qh16</td>\n",
       "      <td>default</td>\n",
       "      <td>Smartphone Awards 2016! (MKBHD)</td>\n",
       "      <td>1.0</td>\n",
       "      <td>https://www.youtube.com/watch?v=NKY93vCiPIo</td>\n",
       "    </tr>\n",
       "    <tr>\n",
       "      <th>20689</th>\n",
       "      <td>[deleted]</td>\n",
       "      <td>1482486011</td>\n",
       "      <td>youtube.com</td>\n",
       "      <td>0.0</td>\n",
       "      <td>False</td>\n",
       "      <td>0.0</td>\n",
       "      <td>False</td>\n",
       "      <td>5jwbel</td>\n",
       "      <td>False</td>\n",
       "      <td>False</td>\n",
       "      <td>...</td>\n",
       "      <td>{u'content': u'&amp;lt;iframe width=\"600\" height=\"...</td>\n",
       "      <td>[deleted]</td>\n",
       "      <td>False</td>\n",
       "      <td>False</td>\n",
       "      <td>engineering</td>\n",
       "      <td>t5_2qhpi</td>\n",
       "      <td>default</td>\n",
       "      <td>Casey Neistat - Explaining behind-the-scenes f...</td>\n",
       "      <td>0.0</td>\n",
       "      <td>https://www.youtube.com/watch?v=DyUrqZBs2XA</td>\n",
       "    </tr>\n",
       "    <tr>\n",
       "      <th>20811</th>\n",
       "      <td>[deleted]</td>\n",
       "      <td>1482502322</td>\n",
       "      <td>youtube.com</td>\n",
       "      <td>0.0</td>\n",
       "      <td>False</td>\n",
       "      <td>0.0</td>\n",
       "      <td>False</td>\n",
       "      <td>5jx9gs</td>\n",
       "      <td>False</td>\n",
       "      <td>False</td>\n",
       "      <td>...</td>\n",
       "      <td>{u'content': u'&amp;lt;iframe width=\"600\" height=\"...</td>\n",
       "      <td>[deleted]</td>\n",
       "      <td>False</td>\n",
       "      <td>False</td>\n",
       "      <td>technology</td>\n",
       "      <td>t5_2qh16</td>\n",
       "      <td>default</td>\n",
       "      <td>samsung galaxy s8 dream concept review officia...</td>\n",
       "      <td>1.0</td>\n",
       "      <td>https://www.youtube.com/watch?v=J7T-VUTOetI</td>\n",
       "    </tr>\n",
       "    <tr>\n",
       "      <th>20833</th>\n",
       "      <td>[deleted]</td>\n",
       "      <td>1482504540</td>\n",
       "      <td>youtube.com</td>\n",
       "      <td>0.0</td>\n",
       "      <td>False</td>\n",
       "      <td>0.0</td>\n",
       "      <td>False</td>\n",
       "      <td>5jxf8s</td>\n",
       "      <td>False</td>\n",
       "      <td>False</td>\n",
       "      <td>...</td>\n",
       "      <td>{u'content': u'&amp;lt;iframe width=\"600\" height=\"...</td>\n",
       "      <td>[deleted]</td>\n",
       "      <td>False</td>\n",
       "      <td>False</td>\n",
       "      <td>engineering</td>\n",
       "      <td>t5_2qhpi</td>\n",
       "      <td>default</td>\n",
       "      <td>Flight Test Engineering... dare I say the most...</td>\n",
       "      <td>1.0</td>\n",
       "      <td>https://www.youtube.com/watch?v=XpZJGTuESBw</td>\n",
       "    </tr>\n",
       "    <tr>\n",
       "      <th>21526</th>\n",
       "      <td>[deleted]</td>\n",
       "      <td>1482578625</td>\n",
       "      <td>youtube.com</td>\n",
       "      <td>0.0</td>\n",
       "      <td>False</td>\n",
       "      <td>0.0</td>\n",
       "      <td>False</td>\n",
       "      <td>5k2ni7</td>\n",
       "      <td>False</td>\n",
       "      <td>False</td>\n",
       "      <td>...</td>\n",
       "      <td>{u'content': u'&amp;lt;iframe width=\"600\" height=\"...</td>\n",
       "      <td>[deleted]</td>\n",
       "      <td>False</td>\n",
       "      <td>False</td>\n",
       "      <td>gamedev</td>\n",
       "      <td>t5_2qi0a</td>\n",
       "      <td>default</td>\n",
       "      <td>Making PONG In PHASERJS - #1 - Introduction</td>\n",
       "      <td>1.0</td>\n",
       "      <td>https://www.youtube.com/watch?v=4dHlbXigtss&amp;am...</td>\n",
       "    </tr>\n",
       "    <tr>\n",
       "      <th>22398</th>\n",
       "      <td>[deleted]</td>\n",
       "      <td>1482694732</td>\n",
       "      <td>youtube.com</td>\n",
       "      <td>0.0</td>\n",
       "      <td>False</td>\n",
       "      <td>0.0</td>\n",
       "      <td>False</td>\n",
       "      <td>5k9rj3</td>\n",
       "      <td>False</td>\n",
       "      <td>False</td>\n",
       "      <td>...</td>\n",
       "      <td>{u'content': u'&amp;lt;iframe width=\"600\" height=\"...</td>\n",
       "      <td>[deleted]</td>\n",
       "      <td>False</td>\n",
       "      <td>False</td>\n",
       "      <td>gamedev</td>\n",
       "      <td>t5_2qi0a</td>\n",
       "      <td>default</td>\n",
       "      <td>A Realtime World Generation Tool</td>\n",
       "      <td>1.0</td>\n",
       "      <td>http://www.youtube.com/watch?v=lntbdItSFtg</td>\n",
       "    </tr>\n",
       "    <tr>\n",
       "      <th>22851</th>\n",
       "      <td>[deleted]</td>\n",
       "      <td>1482740809</td>\n",
       "      <td>youtube.com</td>\n",
       "      <td>0.0</td>\n",
       "      <td>False</td>\n",
       "      <td>0.0</td>\n",
       "      <td>False</td>\n",
       "      <td>5kcuqo</td>\n",
       "      <td>False</td>\n",
       "      <td>False</td>\n",
       "      <td>...</td>\n",
       "      <td>{u'content': u'&amp;lt;iframe width=\"459\" height=\"...</td>\n",
       "      <td>[deleted]</td>\n",
       "      <td>False</td>\n",
       "      <td>False</td>\n",
       "      <td>programming</td>\n",
       "      <td>t5_2fwo</td>\n",
       "      <td>default</td>\n",
       "      <td>ASSEMBLY LANGUAGE BASIC CODE AND SYNTAX.</td>\n",
       "      <td>0.0</td>\n",
       "      <td>https://www.youtube.com/watch?v=JJFKUDO4gHU</td>\n",
       "    </tr>\n",
       "    <tr>\n",
       "      <th>23070</th>\n",
       "      <td>[deleted]</td>\n",
       "      <td>1482769807</td>\n",
       "      <td>youtube.com</td>\n",
       "      <td>0.0</td>\n",
       "      <td>False</td>\n",
       "      <td>0.0</td>\n",
       "      <td>False</td>\n",
       "      <td>5kefqf</td>\n",
       "      <td>False</td>\n",
       "      <td>False</td>\n",
       "      <td>...</td>\n",
       "      <td>{u'content': u'&amp;lt;iframe width=\"600\" height=\"...</td>\n",
       "      <td>[deleted]</td>\n",
       "      <td>False</td>\n",
       "      <td>False</td>\n",
       "      <td>technology</td>\n",
       "      <td>t5_2qh16</td>\n",
       "      <td>default</td>\n",
       "      <td>Where do you think the media will go next to d...</td>\n",
       "      <td>1.0</td>\n",
       "      <td>https://www.youtube.com/watch?v=4YC6FRDS9GU</td>\n",
       "    </tr>\n",
       "    <tr>\n",
       "      <th>23197</th>\n",
       "      <td>[deleted]</td>\n",
       "      <td>1482780198</td>\n",
       "      <td>youtube.com</td>\n",
       "      <td>0.0</td>\n",
       "      <td>False</td>\n",
       "      <td>0.0</td>\n",
       "      <td>False</td>\n",
       "      <td>5kfa19</td>\n",
       "      <td>False</td>\n",
       "      <td>False</td>\n",
       "      <td>...</td>\n",
       "      <td>{u'content': u'&amp;lt;iframe width=\"600\" height=\"...</td>\n",
       "      <td>[deleted]</td>\n",
       "      <td>False</td>\n",
       "      <td>False</td>\n",
       "      <td>programming</td>\n",
       "      <td>t5_2fwo</td>\n",
       "      <td>default</td>\n",
       "      <td>[ASSEMBLY LANGUAGE ] MOVE AND EXCHANGE INSTRUC...</td>\n",
       "      <td>0.0</td>\n",
       "      <td>https://www.youtube.com/watch?v=2DsvyaSex-k</td>\n",
       "    </tr>\n",
       "    <tr>\n",
       "      <th>23483</th>\n",
       "      <td>[deleted]</td>\n",
       "      <td>1482799535</td>\n",
       "      <td>youtube.com</td>\n",
       "      <td>0.0</td>\n",
       "      <td>False</td>\n",
       "      <td>0.0</td>\n",
       "      <td>False</td>\n",
       "      <td>5kgt6p</td>\n",
       "      <td>False</td>\n",
       "      <td>False</td>\n",
       "      <td>...</td>\n",
       "      <td>{u'content': u'&amp;lt;iframe width=\"600\" height=\"...</td>\n",
       "      <td>[deleted]</td>\n",
       "      <td>False</td>\n",
       "      <td>False</td>\n",
       "      <td>gamedev</td>\n",
       "      <td>t5_2qi0a</td>\n",
       "      <td>default</td>\n",
       "      <td>Planet Editor Prototype : Scene Editing Workflow</td>\n",
       "      <td>2.0</td>\n",
       "      <td>https://www.youtube.com/watch?v=tDEC33aHsfg</td>\n",
       "    </tr>\n",
       "    <tr>\n",
       "      <th>23930</th>\n",
       "      <td>[deleted]</td>\n",
       "      <td>1482849258</td>\n",
       "      <td>youtube.com</td>\n",
       "      <td>0.0</td>\n",
       "      <td>False</td>\n",
       "      <td>0.0</td>\n",
       "      <td>False</td>\n",
       "      <td>5kjzai</td>\n",
       "      <td>False</td>\n",
       "      <td>False</td>\n",
       "      <td>...</td>\n",
       "      <td>{u'content': u'&amp;lt;iframe width=\"600\" height=\"...</td>\n",
       "      <td>[deleted]</td>\n",
       "      <td>False</td>\n",
       "      <td>False</td>\n",
       "      <td>technology</td>\n",
       "      <td>t5_2qh16</td>\n",
       "      <td>default</td>\n",
       "      <td>Demo of a new TV technology which uses no powe...</td>\n",
       "      <td>1.0</td>\n",
       "      <td>https://www.youtube.com/watch?v=ayeZMAmORkk</td>\n",
       "    </tr>\n",
       "    <tr>\n",
       "      <th>24005</th>\n",
       "      <td>[deleted]</td>\n",
       "      <td>1482856075</td>\n",
       "      <td>youtube.com</td>\n",
       "      <td>0.0</td>\n",
       "      <td>False</td>\n",
       "      <td>0.0</td>\n",
       "      <td>False</td>\n",
       "      <td>5kkitf</td>\n",
       "      <td>False</td>\n",
       "      <td>False</td>\n",
       "      <td>...</td>\n",
       "      <td>{u'content': u'&amp;lt;iframe class=\"embedly-embed...</td>\n",
       "      <td>[deleted]</td>\n",
       "      <td>False</td>\n",
       "      <td>False</td>\n",
       "      <td>web_design</td>\n",
       "      <td>t5_2qh1m</td>\n",
       "      <td>default</td>\n",
       "      <td>Best Free Website Builders 2017 Free Hosting a...</td>\n",
       "      <td>1.0</td>\n",
       "      <td>https://www.youtube.com/attribution_link?a=O66...</td>\n",
       "    </tr>\n",
       "    <tr>\n",
       "      <th>24211</th>\n",
       "      <td>[deleted]</td>\n",
       "      <td>1482871375</td>\n",
       "      <td>youtube.com</td>\n",
       "      <td>0.0</td>\n",
       "      <td>False</td>\n",
       "      <td>0.0</td>\n",
       "      <td>False</td>\n",
       "      <td>5klyxv</td>\n",
       "      <td>False</td>\n",
       "      <td>False</td>\n",
       "      <td>...</td>\n",
       "      <td>{u'content': u'&amp;lt;iframe width=\"600\" height=\"...</td>\n",
       "      <td>[deleted]</td>\n",
       "      <td>False</td>\n",
       "      <td>False</td>\n",
       "      <td>gamedev</td>\n",
       "      <td>t5_2qi0a</td>\n",
       "      <td>default</td>\n",
       "      <td>Unity Tutorial (Intermediate) - All Game Level...</td>\n",
       "      <td>1.0</td>\n",
       "      <td>https://www.youtube.com/watch?v=k7gQqOD_uWk</td>\n",
       "    </tr>\n",
       "    <tr>\n",
       "      <th>24974</th>\n",
       "      <td>[deleted]</td>\n",
       "      <td>1482944484</td>\n",
       "      <td>youtube.com</td>\n",
       "      <td>0.0</td>\n",
       "      <td>False</td>\n",
       "      <td>0.0</td>\n",
       "      <td>False</td>\n",
       "      <td>5kr8ea</td>\n",
       "      <td>False</td>\n",
       "      <td>False</td>\n",
       "      <td>...</td>\n",
       "      <td>{u'content': u'&amp;lt;iframe width=\"600\" height=\"...</td>\n",
       "      <td>[deleted]</td>\n",
       "      <td>False</td>\n",
       "      <td>False</td>\n",
       "      <td>technology</td>\n",
       "      <td>t5_2qh16</td>\n",
       "      <td>default</td>\n",
       "      <td>how to use 4g sim in 2G and 3G device</td>\n",
       "      <td>1.0</td>\n",
       "      <td>https://www.youtube.com/watch?v=RwDQV6hIrRg</td>\n",
       "    </tr>\n",
       "    <tr>\n",
       "      <th>25023</th>\n",
       "      <td>[deleted]</td>\n",
       "      <td>1482948478</td>\n",
       "      <td>youtube.com</td>\n",
       "      <td>0.0</td>\n",
       "      <td>False</td>\n",
       "      <td>0.0</td>\n",
       "      <td>False</td>\n",
       "      <td>5krlwo</td>\n",
       "      <td>False</td>\n",
       "      <td>False</td>\n",
       "      <td>...</td>\n",
       "      <td>{u'content': u'&amp;lt;iframe width=\"459\" height=\"...</td>\n",
       "      <td>[deleted]</td>\n",
       "      <td>False</td>\n",
       "      <td>False</td>\n",
       "      <td>technology</td>\n",
       "      <td>t5_2qh16</td>\n",
       "      <td>default</td>\n",
       "      <td>Building And Construction | Building Construct...</td>\n",
       "      <td>1.0</td>\n",
       "      <td>https://www.youtube.com/watch?v=-oqE55Sbtxs</td>\n",
       "    </tr>\n",
       "    <tr>\n",
       "      <th>25419</th>\n",
       "      <td>[deleted]</td>\n",
       "      <td>1482977048</td>\n",
       "      <td>youtube.com</td>\n",
       "      <td>0.0</td>\n",
       "      <td>False</td>\n",
       "      <td>0.0</td>\n",
       "      <td>False</td>\n",
       "      <td>5ku78e</td>\n",
       "      <td>False</td>\n",
       "      <td>False</td>\n",
       "      <td>...</td>\n",
       "      <td>{u'content': u'&amp;lt;iframe width=\"600\" height=\"...</td>\n",
       "      <td>[deleted]</td>\n",
       "      <td>False</td>\n",
       "      <td>False</td>\n",
       "      <td>technology</td>\n",
       "      <td>t5_2qh16</td>\n",
       "      <td>default</td>\n",
       "      <td>Korea's Giant Walking Robot Warrior \"Method 2\"...</td>\n",
       "      <td>1.0</td>\n",
       "      <td>https://www.youtube.com/watch?v=Aq_lvEWFwjg</td>\n",
       "    </tr>\n",
       "    <tr>\n",
       "      <th>25514</th>\n",
       "      <td>[deleted]</td>\n",
       "      <td>1482985610</td>\n",
       "      <td>youtube.com</td>\n",
       "      <td>0.0</td>\n",
       "      <td>False</td>\n",
       "      <td>0.0</td>\n",
       "      <td>False</td>\n",
       "      <td>5kuvcw</td>\n",
       "      <td>False</td>\n",
       "      <td>False</td>\n",
       "      <td>...</td>\n",
       "      <td>{u'content': u'&amp;lt;iframe width=\"459\" height=\"...</td>\n",
       "      <td>[deleted]</td>\n",
       "      <td>False</td>\n",
       "      <td>False</td>\n",
       "      <td>technology</td>\n",
       "      <td>t5_2qh16</td>\n",
       "      <td>default</td>\n",
       "      <td>HOW TO INCREASE LIKE ON INSTAGRAM</td>\n",
       "      <td>1.0</td>\n",
       "      <td>https://www.youtube.com/watch?v=ffTNWf-Quy0</td>\n",
       "    </tr>\n",
       "    <tr>\n",
       "      <th>25590</th>\n",
       "      <td>[deleted]</td>\n",
       "      <td>1482993655</td>\n",
       "      <td>youtube.com</td>\n",
       "      <td>0.0</td>\n",
       "      <td>False</td>\n",
       "      <td>0.0</td>\n",
       "      <td>False</td>\n",
       "      <td>5kvfok</td>\n",
       "      <td>False</td>\n",
       "      <td>False</td>\n",
       "      <td>...</td>\n",
       "      <td>{u'content': u'&amp;lt;iframe width=\"600\" height=\"...</td>\n",
       "      <td>[deleted]</td>\n",
       "      <td>False</td>\n",
       "      <td>False</td>\n",
       "      <td>engineering</td>\n",
       "      <td>t5_2qhpi</td>\n",
       "      <td>default</td>\n",
       "      <td>Fighting robot</td>\n",
       "      <td>109.0</td>\n",
       "      <td>https://www.youtube.com/watch?v=0x7wqWzjzB4</td>\n",
       "    </tr>\n",
       "    <tr>\n",
       "      <th>25626</th>\n",
       "      <td>[deleted]</td>\n",
       "      <td>1482998739</td>\n",
       "      <td>youtube.com</td>\n",
       "      <td>0.0</td>\n",
       "      <td>False</td>\n",
       "      <td>0.0</td>\n",
       "      <td>False</td>\n",
       "      <td>5kvqmr</td>\n",
       "      <td>False</td>\n",
       "      <td>False</td>\n",
       "      <td>...</td>\n",
       "      <td>{}</td>\n",
       "      <td>[deleted]</td>\n",
       "      <td>False</td>\n",
       "      <td>False</td>\n",
       "      <td>technology</td>\n",
       "      <td>t5_2qh16</td>\n",
       "      <td>default</td>\n",
       "      <td>How To Track Cell Phone Location USING GOOGLE</td>\n",
       "      <td>1.0</td>\n",
       "      <td>http://www.youtube.com/attribution_link?a=pPNa...</td>\n",
       "    </tr>\n",
       "    <tr>\n",
       "      <th>25636</th>\n",
       "      <td>[deleted]</td>\n",
       "      <td>1482999976</td>\n",
       "      <td>youtube.com</td>\n",
       "      <td>0.0</td>\n",
       "      <td>False</td>\n",
       "      <td>0.0</td>\n",
       "      <td>False</td>\n",
       "      <td>5kvsyg</td>\n",
       "      <td>False</td>\n",
       "      <td>False</td>\n",
       "      <td>...</td>\n",
       "      <td>{}</td>\n",
       "      <td>[deleted]</td>\n",
       "      <td>False</td>\n",
       "      <td>False</td>\n",
       "      <td>technology</td>\n",
       "      <td>t5_2qh16</td>\n",
       "      <td>default</td>\n",
       "      <td>How To Track Cell Phone Location USING GOOGLE</td>\n",
       "      <td>1.0</td>\n",
       "      <td>http://www.youtube.com/attribution_link?a=pPNa...</td>\n",
       "    </tr>\n",
       "    <tr>\n",
       "      <th>25653</th>\n",
       "      <td>[deleted]</td>\n",
       "      <td>1483002656</td>\n",
       "      <td>youtube.com</td>\n",
       "      <td>0.0</td>\n",
       "      <td>False</td>\n",
       "      <td>0.0</td>\n",
       "      <td>False</td>\n",
       "      <td>5kvxye</td>\n",
       "      <td>False</td>\n",
       "      <td>False</td>\n",
       "      <td>...</td>\n",
       "      <td>{u'content': u'&amp;lt;iframe width=\"600\" height=\"...</td>\n",
       "      <td>[deleted]</td>\n",
       "      <td>False</td>\n",
       "      <td>False</td>\n",
       "      <td>technology</td>\n",
       "      <td>t5_2qh16</td>\n",
       "      <td>default</td>\n",
       "      <td>Future Technology Our Digital World 2020</td>\n",
       "      <td>1.0</td>\n",
       "      <td>https://www.youtube.com/watch?v=VFBOczc3L40</td>\n",
       "    </tr>\n",
       "    <tr>\n",
       "      <th>25776</th>\n",
       "      <td>[deleted]</td>\n",
       "      <td>1483019111</td>\n",
       "      <td>youtube.com</td>\n",
       "      <td>0.0</td>\n",
       "      <td>False</td>\n",
       "      <td>0.0</td>\n",
       "      <td>False</td>\n",
       "      <td>5kwv2d</td>\n",
       "      <td>False</td>\n",
       "      <td>False</td>\n",
       "      <td>...</td>\n",
       "      <td>{u'content': u'&amp;lt;iframe class=\"embedly-embed...</td>\n",
       "      <td>[deleted]</td>\n",
       "      <td>False</td>\n",
       "      <td>False</td>\n",
       "      <td>technology</td>\n",
       "      <td>t5_2qh16</td>\n",
       "      <td>default</td>\n",
       "      <td>EXPERIMENT Glowing 1000-degree KNIFE VS Apple</td>\n",
       "      <td>1.0</td>\n",
       "      <td>https://www.youtube.com/attribution_link?a=7X4...</td>\n",
       "    </tr>\n",
       "  </tbody>\n",
       "</table>\n",
       "<p>188 rows × 29 columns</p>\n",
       "</div>"
      ],
      "text/plain": [
       "          author  created_utc       domain  downs edited  gilded hide_score  \\\n",
       "49     [deleted]   1480701022  youtube.com    0.0  False     0.0      False   \n",
       "127    [deleted]   1480706118  youtube.com    0.0  False     0.0      False   \n",
       "284    [deleted]   1480718306  youtube.com    0.0  False     0.0      False   \n",
       "701    [deleted]   1480762030  youtube.com    0.0  False     0.0      False   \n",
       "727    [deleted]   1480766655  youtube.com    0.0  False     0.0      False   \n",
       "756    [deleted]   1480769933  youtube.com    0.0  False     0.0      False   \n",
       "761    [deleted]   1480770721  youtube.com    0.0  False     0.0      False   \n",
       "765    [deleted]   1480771636  youtube.com    0.0  False     0.0      False   \n",
       "826    [deleted]   1480777849  youtube.com    0.0  False     0.0      False   \n",
       "940    [deleted]   1480787642  youtube.com    0.0  False     0.0      False   \n",
       "1025   [deleted]   1480793656  youtube.com    0.0  False     0.0      False   \n",
       "1061   [deleted]   1480796320  youtube.com    0.0  False     0.0      False   \n",
       "1068   [deleted]   1480797281  youtube.com    0.0  False     0.0      False   \n",
       "1144   [deleted]   1480802943  youtube.com    0.0  False     0.0      False   \n",
       "1689   [deleted]   1480862038  youtube.com    0.0  False     0.0      False   \n",
       "1774   [deleted]   1480869664  youtube.com    0.0  False     0.0      False   \n",
       "2248   [deleted]   1480903974  youtube.com    0.0  False     0.0      False   \n",
       "2250   [deleted]   1480904048  youtube.com    0.0  False     0.0      False   \n",
       "2479   [deleted]   1480929237  youtube.com    0.0  False     0.0      False   \n",
       "2486   [deleted]   1480929855  youtube.com    0.0  False     0.0      False   \n",
       "2612   [deleted]   1480944311  youtube.com    0.0  False     0.0      False   \n",
       "2618   [deleted]   1480944823  youtube.com    0.0  False     0.0      False   \n",
       "2625   [deleted]   1480945489  youtube.com    0.0  False     0.0      False   \n",
       "2660   [deleted]   1480949415  youtube.com    0.0  False     0.0      False   \n",
       "2791   [deleted]   1480958026  youtube.com    0.0  False     0.0      False   \n",
       "2875   [deleted]   1480963234  youtube.com    0.0  False     0.0      False   \n",
       "3388   [deleted]   1480996598  youtube.com    0.0  False     0.0      False   \n",
       "3864   [deleted]   1481045463  youtube.com    0.0  False     0.0      False   \n",
       "3942   [deleted]   1481050161  youtube.com    0.0  False     0.0      False   \n",
       "4140   [deleted]   1481062303  youtube.com    0.0  False     0.0      False   \n",
       "...          ...          ...          ...    ...    ...     ...        ...   \n",
       "19632  [deleted]   1482376276  youtube.com    0.0  False     0.0      False   \n",
       "19647  [deleted]   1482377340  youtube.com    0.0  False     0.0      False   \n",
       "19938  [deleted]   1482412761  youtube.com    0.0  False     0.0      False   \n",
       "20023  [deleted]   1482420611  youtube.com    0.0  False     0.0      False   \n",
       "20168  [deleted]   1482431757  youtube.com    0.0  False     0.0      False   \n",
       "20259  [deleted]   1482439414  youtube.com    0.0  False     0.0      False   \n",
       "20264  [deleted]   1482439806  youtube.com    0.0  False     0.0      False   \n",
       "20268  [deleted]   1482440029  youtube.com    0.0  False     0.0      False   \n",
       "20527  [deleted]   1482464272  youtube.com    0.0  False     0.0      False   \n",
       "20689  [deleted]   1482486011  youtube.com    0.0  False     0.0      False   \n",
       "20811  [deleted]   1482502322  youtube.com    0.0  False     0.0      False   \n",
       "20833  [deleted]   1482504540  youtube.com    0.0  False     0.0      False   \n",
       "21526  [deleted]   1482578625  youtube.com    0.0  False     0.0      False   \n",
       "22398  [deleted]   1482694732  youtube.com    0.0  False     0.0      False   \n",
       "22851  [deleted]   1482740809  youtube.com    0.0  False     0.0      False   \n",
       "23070  [deleted]   1482769807  youtube.com    0.0  False     0.0      False   \n",
       "23197  [deleted]   1482780198  youtube.com    0.0  False     0.0      False   \n",
       "23483  [deleted]   1482799535  youtube.com    0.0  False     0.0      False   \n",
       "23930  [deleted]   1482849258  youtube.com    0.0  False     0.0      False   \n",
       "24005  [deleted]   1482856075  youtube.com    0.0  False     0.0      False   \n",
       "24211  [deleted]   1482871375  youtube.com    0.0  False     0.0      False   \n",
       "24974  [deleted]   1482944484  youtube.com    0.0  False     0.0      False   \n",
       "25023  [deleted]   1482948478  youtube.com    0.0  False     0.0      False   \n",
       "25419  [deleted]   1482977048  youtube.com    0.0  False     0.0      False   \n",
       "25514  [deleted]   1482985610  youtube.com    0.0  False     0.0      False   \n",
       "25590  [deleted]   1482993655  youtube.com    0.0  False     0.0      False   \n",
       "25626  [deleted]   1482998739  youtube.com    0.0  False     0.0      False   \n",
       "25636  [deleted]   1482999976  youtube.com    0.0  False     0.0      False   \n",
       "25653  [deleted]   1483002656  youtube.com    0.0  False     0.0      False   \n",
       "25776  [deleted]   1483019111  youtube.com    0.0  False     0.0      False   \n",
       "\n",
       "           id is_self locked  \\\n",
       "49     5g4mvj   False  False   \n",
       "127    5g54r7   False  False   \n",
       "284    5g6a7j   False  False   \n",
       "701    5g925x   False  False   \n",
       "727    5g99xd   False  False   \n",
       "756    5g9g2r   False  False   \n",
       "761    5g9hr9   False  False   \n",
       "765    5g9jp8   False  False   \n",
       "826    5g9y1p   False  False   \n",
       "940    5gaq57   False  False   \n",
       "1025   5gb9ga   False  False   \n",
       "1061   5gbhsw   False  False   \n",
       "1068   5gbkpy   False  False   \n",
       "1144   5gc24h   False  False   \n",
       "1689   5gfnnp   False  False   \n",
       "1774   5gg8iu   False  False   \n",
       "2248   5gjb8v   False  False   \n",
       "2250   5gjbfo   False  False   \n",
       "2479   5gl05d   False  False   \n",
       "2486   5gl1bb   False  False   \n",
       "2612   5glvgf   False  False   \n",
       "2618   5glwql   False  False   \n",
       "2625   5glygd   False  False   \n",
       "2660   5gm9p4   False  False   \n",
       "2791   5gn2ne   False  False   \n",
       "2875   5gnltd   False  False   \n",
       "3388   5gqqab   False  False   \n",
       "3864   5gu5x2   False  False   \n",
       "3942   5gumxv   False  False   \n",
       "4140   5gvvnk   False  False   \n",
       "...       ...     ...    ...   \n",
       "19632  5joa4w   False  False   \n",
       "19647  5jod4u   False  False   \n",
       "19938  5jqivl   False  False   \n",
       "20023  5jr4ud   False  False   \n",
       "20168  5js67d   False  False   \n",
       "20259  5jsx4e   False  False   \n",
       "20264  5jsygh   False  False   \n",
       "20268  5jsz9x   False  False   \n",
       "20527  5juz98   False  False   \n",
       "20689  5jwbel   False  False   \n",
       "20811  5jx9gs   False  False   \n",
       "20833  5jxf8s   False  False   \n",
       "21526  5k2ni7   False  False   \n",
       "22398  5k9rj3   False  False   \n",
       "22851  5kcuqo   False  False   \n",
       "23070  5kefqf   False  False   \n",
       "23197  5kfa19   False  False   \n",
       "23483  5kgt6p   False  False   \n",
       "23930  5kjzai   False  False   \n",
       "24005  5kkitf   False  False   \n",
       "24211  5klyxv   False  False   \n",
       "24974  5kr8ea   False  False   \n",
       "25023  5krlwo   False  False   \n",
       "25419  5ku78e   False  False   \n",
       "25514  5kuvcw   False  False   \n",
       "25590  5kvfok   False  False   \n",
       "25626  5kvqmr   False  False   \n",
       "25636  5kvsyg   False  False   \n",
       "25653  5kvxye   False  False   \n",
       "25776  5kwv2d   False  False   \n",
       "\n",
       "                             ...                          \\\n",
       "49                           ...                           \n",
       "127                          ...                           \n",
       "284                          ...                           \n",
       "701                          ...                           \n",
       "727                          ...                           \n",
       "756                          ...                           \n",
       "761                          ...                           \n",
       "765                          ...                           \n",
       "826                          ...                           \n",
       "940                          ...                           \n",
       "1025                         ...                           \n",
       "1061                         ...                           \n",
       "1068                         ...                           \n",
       "1144                         ...                           \n",
       "1689                         ...                           \n",
       "1774                         ...                           \n",
       "2248                         ...                           \n",
       "2250                         ...                           \n",
       "2479                         ...                           \n",
       "2486                         ...                           \n",
       "2612                         ...                           \n",
       "2618                         ...                           \n",
       "2625                         ...                           \n",
       "2660                         ...                           \n",
       "2791                         ...                           \n",
       "2875                         ...                           \n",
       "3388                         ...                           \n",
       "3864                         ...                           \n",
       "3942                         ...                           \n",
       "4140                         ...                           \n",
       "...                          ...                           \n",
       "19632                        ...                           \n",
       "19647                        ...                           \n",
       "19938                        ...                           \n",
       "20023                        ...                           \n",
       "20168                        ...                           \n",
       "20259                        ...                           \n",
       "20264                        ...                           \n",
       "20268                        ...                           \n",
       "20527                        ...                           \n",
       "20689                        ...                           \n",
       "20811                        ...                           \n",
       "20833                        ...                           \n",
       "21526                        ...                           \n",
       "22398                        ...                           \n",
       "22851                        ...                           \n",
       "23070                        ...                           \n",
       "23197                        ...                           \n",
       "23483                        ...                           \n",
       "23930                        ...                           \n",
       "24005                        ...                           \n",
       "24211                        ...                           \n",
       "24974                        ...                           \n",
       "25023                        ...                           \n",
       "25419                        ...                           \n",
       "25514                        ...                           \n",
       "25590                        ...                           \n",
       "25626                        ...                           \n",
       "25636                        ...                           \n",
       "25653                        ...                           \n",
       "25776                        ...                           \n",
       "\n",
       "                                      secure_media_embed   selftext  spoiler  \\\n",
       "49     {u'content': u'&lt;iframe class=\"embedly-embed...  [deleted]    False   \n",
       "127    {u'content': u'&lt;iframe width=\"600\" height=\"...  [deleted]    False   \n",
       "284    {u'content': u'&lt;iframe width=\"600\" height=\"...  [deleted]    False   \n",
       "701    {u'content': u'&lt;iframe width=\"600\" height=\"...  [deleted]    False   \n",
       "727                                                   {}  [deleted]    False   \n",
       "756    {u'content': u'&lt;iframe width=\"600\" height=\"...  [deleted]    False   \n",
       "761    {u'content': u'&lt;iframe width=\"600\" height=\"...  [deleted]    False   \n",
       "765    {u'content': u'&lt;iframe width=\"600\" height=\"...  [deleted]    False   \n",
       "826    {u'content': u'&lt;iframe width=\"600\" height=\"...  [deleted]    False   \n",
       "940    {u'content': u'&lt;iframe width=\"459\" height=\"...  [deleted]    False   \n",
       "1025   {u'content': u'&lt;iframe width=\"600\" height=\"...  [deleted]    False   \n",
       "1061   {u'content': u'&lt;iframe width=\"459\" height=\"...  [deleted]    False   \n",
       "1068   {u'content': u'&lt;iframe class=\"embedly-embed...  [deleted]    False   \n",
       "1144   {u'content': u'&lt;iframe width=\"459\" height=\"...  [deleted]    False   \n",
       "1689   {u'content': u'&lt;iframe width=\"600\" height=\"...  [deleted]    False   \n",
       "1774   {u'content': u'&lt;iframe width=\"600\" height=\"...  [deleted]    False   \n",
       "2248   {u'content': u'&lt;iframe width=\"600\" height=\"...  [deleted]    False   \n",
       "2250   {u'content': u'&lt;iframe width=\"600\" height=\"...  [deleted]    False   \n",
       "2479   {u'content': u'&lt;iframe width=\"600\" height=\"...  [deleted]    False   \n",
       "2486   {u'content': u'&lt;iframe width=\"600\" height=\"...  [deleted]    False   \n",
       "2612   {u'content': u'&lt;iframe width=\"600\" height=\"...  [deleted]    False   \n",
       "2618   {u'content': u'&lt;iframe width=\"600\" height=\"...  [deleted]    False   \n",
       "2625   {u'content': u'&lt;iframe width=\"600\" height=\"...  [deleted]    False   \n",
       "2660   {u'content': u'&lt;iframe width=\"600\" height=\"...  [deleted]    False   \n",
       "2791   {u'content': u'&lt;iframe width=\"600\" height=\"...  [deleted]    False   \n",
       "2875   {u'content': u'&lt;iframe width=\"600\" height=\"...  [deleted]    False   \n",
       "3388   {u'content': u'&lt;iframe class=\"embedly-embed...  [deleted]    False   \n",
       "3864   {u'content': u'&lt;iframe class=\"embedly-embed...  [deleted]    False   \n",
       "3942   {u'content': u'&lt;iframe width=\"600\" height=\"...  [deleted]    False   \n",
       "4140   {u'content': u'&lt;iframe width=\"600\" height=\"...  [deleted]    False   \n",
       "...                                                  ...        ...      ...   \n",
       "19632                                                 {}  [deleted]    False   \n",
       "19647  {u'content': u'&lt;iframe width=\"459\" height=\"...  [deleted]    False   \n",
       "19938  {u'content': u'&lt;iframe width=\"600\" height=\"...  [deleted]    False   \n",
       "20023  {u'content': u'&lt;iframe width=\"600\" height=\"...  [deleted]    False   \n",
       "20168  {u'content': u'&lt;iframe width=\"600\" height=\"...  [deleted]    False   \n",
       "20259  {u'content': u'&lt;iframe width=\"600\" height=\"...  [deleted]    False   \n",
       "20264                                                 {}  [deleted]    False   \n",
       "20268  {u'content': u'&lt;iframe width=\"600\" height=\"...  [deleted]    False   \n",
       "20527  {u'content': u'&lt;iframe width=\"600\" height=\"...  [deleted]    False   \n",
       "20689  {u'content': u'&lt;iframe width=\"600\" height=\"...  [deleted]    False   \n",
       "20811  {u'content': u'&lt;iframe width=\"600\" height=\"...  [deleted]    False   \n",
       "20833  {u'content': u'&lt;iframe width=\"600\" height=\"...  [deleted]    False   \n",
       "21526  {u'content': u'&lt;iframe width=\"600\" height=\"...  [deleted]    False   \n",
       "22398  {u'content': u'&lt;iframe width=\"600\" height=\"...  [deleted]    False   \n",
       "22851  {u'content': u'&lt;iframe width=\"459\" height=\"...  [deleted]    False   \n",
       "23070  {u'content': u'&lt;iframe width=\"600\" height=\"...  [deleted]    False   \n",
       "23197  {u'content': u'&lt;iframe width=\"600\" height=\"...  [deleted]    False   \n",
       "23483  {u'content': u'&lt;iframe width=\"600\" height=\"...  [deleted]    False   \n",
       "23930  {u'content': u'&lt;iframe width=\"600\" height=\"...  [deleted]    False   \n",
       "24005  {u'content': u'&lt;iframe class=\"embedly-embed...  [deleted]    False   \n",
       "24211  {u'content': u'&lt;iframe width=\"600\" height=\"...  [deleted]    False   \n",
       "24974  {u'content': u'&lt;iframe width=\"600\" height=\"...  [deleted]    False   \n",
       "25023  {u'content': u'&lt;iframe width=\"459\" height=\"...  [deleted]    False   \n",
       "25419  {u'content': u'&lt;iframe width=\"600\" height=\"...  [deleted]    False   \n",
       "25514  {u'content': u'&lt;iframe width=\"459\" height=\"...  [deleted]    False   \n",
       "25590  {u'content': u'&lt;iframe width=\"600\" height=\"...  [deleted]    False   \n",
       "25626                                                 {}  [deleted]    False   \n",
       "25636                                                 {}  [deleted]    False   \n",
       "25653  {u'content': u'&lt;iframe width=\"600\" height=\"...  [deleted]    False   \n",
       "25776  {u'content': u'&lt;iframe class=\"embedly-embed...  [deleted]    False   \n",
       "\n",
       "      stickied    subreddit subreddit_id  thumbnail  \\\n",
       "49       False   technology     t5_2qh16    default   \n",
       "127      False       netsec     t5_1rqwi    default   \n",
       "284      False      gamedev     t5_2qi0a    default   \n",
       "701      False   javascript     t5_2qh30    default   \n",
       "727      False   technology     t5_2qh16    default   \n",
       "756      False   technology     t5_2qh16    default   \n",
       "761      False  engineering     t5_2qhpi    default   \n",
       "765      False  engineering     t5_2qhpi    default   \n",
       "826      False   technology     t5_2qh16    default   \n",
       "940      False   technology     t5_2qh16    default   \n",
       "1025     False  engineering     t5_2qhpi    default   \n",
       "1061     False  programming      t5_2fwo    default   \n",
       "1068     False   technology     t5_2qh16    default   \n",
       "1144     False       coding     t5_2rb2y    default   \n",
       "1689     False  engineering     t5_2qhpi    default   \n",
       "1774     False   technology     t5_2qh16    default   \n",
       "2248     False  programming      t5_2fwo    default   \n",
       "2250     False       coding     t5_2rb2y    default   \n",
       "2479     False       jquery     t5_2qhs4    default   \n",
       "2486     False  programming      t5_2fwo    default   \n",
       "2612     False  engineering     t5_2qhpi    default   \n",
       "2618     False   technology     t5_2qh16    default   \n",
       "2625     False   technology     t5_2qh16    default   \n",
       "2660     False  engineering     t5_2qhpi    default   \n",
       "2791     False   technology     t5_2qh16    default   \n",
       "2875     False   technology     t5_2qh16    default   \n",
       "3388     False   technology     t5_2qh16    default   \n",
       "3864     False   technology     t5_2qh16    default   \n",
       "3942     False   technology     t5_2qh16    default   \n",
       "4140     False  programming      t5_2fwo    default   \n",
       "...        ...          ...          ...        ...   \n",
       "19632    False   technology     t5_2qh16    default   \n",
       "19647    False   technology     t5_2qh16    default   \n",
       "19938    False       netsec     t5_1rqwi    default   \n",
       "20023    False   technology     t5_2qh16    default   \n",
       "20168    False          PHP     t5_2qh38    default   \n",
       "20259    False   technology     t5_2qh16    default   \n",
       "20264    False   technology     t5_2qh16    default   \n",
       "20268    False  programming      t5_2fwo    default   \n",
       "20527    False   technology     t5_2qh16    default   \n",
       "20689    False  engineering     t5_2qhpi    default   \n",
       "20811    False   technology     t5_2qh16    default   \n",
       "20833    False  engineering     t5_2qhpi    default   \n",
       "21526    False      gamedev     t5_2qi0a    default   \n",
       "22398    False      gamedev     t5_2qi0a    default   \n",
       "22851    False  programming      t5_2fwo    default   \n",
       "23070    False   technology     t5_2qh16    default   \n",
       "23197    False  programming      t5_2fwo    default   \n",
       "23483    False      gamedev     t5_2qi0a    default   \n",
       "23930    False   technology     t5_2qh16    default   \n",
       "24005    False   web_design     t5_2qh1m    default   \n",
       "24211    False      gamedev     t5_2qi0a    default   \n",
       "24974    False   technology     t5_2qh16    default   \n",
       "25023    False   technology     t5_2qh16    default   \n",
       "25419    False   technology     t5_2qh16    default   \n",
       "25514    False   technology     t5_2qh16    default   \n",
       "25590    False  engineering     t5_2qhpi    default   \n",
       "25626    False   technology     t5_2qh16    default   \n",
       "25636    False   technology     t5_2qh16    default   \n",
       "25653    False   technology     t5_2qh16    default   \n",
       "25776    False   technology     t5_2qh16    default   \n",
       "\n",
       "                                                   title    ups  \\\n",
       "49                          HURRYGet free Rs8 paytm cash    1.0   \n",
       "127    Apple iOS v10.1.1 - Device Lock Bypass via loc...    1.0   \n",
       "284    Late Night - The evening antics of a small ind...    1.0   \n",
       "701    Advanced JS performance with V8 and Web Assemb...    1.0   \n",
       "727    How To Create A Google Plus Local Business Pag...    1.0   \n",
       "756                                      Fighting Robots    1.0   \n",
       "761                                Robots Fight In Japan  417.0   \n",
       "765                         That’s a Fact - Ant Engineer    0.0   \n",
       "826    Remove Shortcut Virus From Your Memory or Pen ...    1.0   \n",
       "940     \"Year 1999 AD\" - A 1967 Film Imagines the Future    1.0   \n",
       "1025                            Forging a Ship Propeller    1.0   \n",
       "1061   I created a bot that finds rhymes in music vid...    0.0   \n",
       "1068   RetroTech: Hewlett Packard HP-01 1977's Smarte...    1.0   \n",
       "1144   I created a bot that finds rhymes in music vid...    0.0   \n",
       "1689                                RC Combat Robot Wars    0.0   \n",
       "1774                       Fix your windows black screen    1.0   \n",
       "2248                        The Problem With Brogrammers    0.0   \n",
       "2250                        The Problem With Brogrammers    1.0   \n",
       "2479   Build a simple ToDo Serverless application, us...    1.0   \n",
       "2486   [JavaScript] Tutorial: A simple ToDo Serverles...    0.0   \n",
       "2612   US Military Robot Technology to collect Tax Mo...    7.0   \n",
       "2618   World Most Awesome Heavy Equipment Machines Am...    1.0   \n",
       "2625                    Apple iPhone 7 Best New Features    1.0   \n",
       "2660   US Military Robot Technology to collect Tax Money    0.0   \n",
       "2791   How to buy a sandwich at a store in 12 seconds...    1.0   \n",
       "2875                              Amazon is taking over.    1.0   \n",
       "3388   WhatsApp Will Not Support These Smartphones by...    1.0   \n",
       "3864                Google Wifi: Home Wifi Simply Solved    1.0   \n",
       "3942             These T.V.s Are As Thin As Credit Cards    1.0   \n",
       "4140                  Object-Oriented Programming is Bad    1.0   \n",
       "...                                                  ...    ...   \n",
       "19632                               \"HUMAN FLYING DRONE\"    1.0   \n",
       "19647  Steve Jobs on product development in a company...    1.0   \n",
       "19938  What are the chances the small images download...    0.0   \n",
       "20023  My new animation video. Let me know, how is it...    1.0   \n",
       "20168                  How to Build A Calendar Using PHP    0.0   \n",
       "20259  New Apple Laptops Get Low Rating | Consumer Re...    1.0   \n",
       "20264                       How to HACK wifi WOKING 100%    1.0   \n",
       "20268  I made this video about using neural networks ...    1.0   \n",
       "20527                    Smartphone Awards 2016! (MKBHD)    1.0   \n",
       "20689  Casey Neistat - Explaining behind-the-scenes f...    0.0   \n",
       "20811  samsung galaxy s8 dream concept review officia...    1.0   \n",
       "20833  Flight Test Engineering... dare I say the most...    1.0   \n",
       "21526        Making PONG In PHASERJS - #1 - Introduction    1.0   \n",
       "22398                   A Realtime World Generation Tool    1.0   \n",
       "22851           ASSEMBLY LANGUAGE BASIC CODE AND SYNTAX.    0.0   \n",
       "23070  Where do you think the media will go next to d...    1.0   \n",
       "23197  [ASSEMBLY LANGUAGE ] MOVE AND EXCHANGE INSTRUC...    0.0   \n",
       "23483   Planet Editor Prototype : Scene Editing Workflow    2.0   \n",
       "23930  Demo of a new TV technology which uses no powe...    1.0   \n",
       "24005  Best Free Website Builders 2017 Free Hosting a...    1.0   \n",
       "24211  Unity Tutorial (Intermediate) - All Game Level...    1.0   \n",
       "24974              how to use 4g sim in 2G and 3G device    1.0   \n",
       "25023  Building And Construction | Building Construct...    1.0   \n",
       "25419  Korea's Giant Walking Robot Warrior \"Method 2\"...    1.0   \n",
       "25514                  HOW TO INCREASE LIKE ON INSTAGRAM    1.0   \n",
       "25590                                     Fighting robot  109.0   \n",
       "25626      How To Track Cell Phone Location USING GOOGLE    1.0   \n",
       "25636      How To Track Cell Phone Location USING GOOGLE    1.0   \n",
       "25653           Future Technology Our Digital World 2020    1.0   \n",
       "25776      EXPERIMENT Glowing 1000-degree KNIFE VS Apple    1.0   \n",
       "\n",
       "                                                     url  \n",
       "49     https://www.youtube.com/attribution_link?a=X8C...  \n",
       "127          https://www.youtube.com/watch?v=yygvBJBFy4s  \n",
       "284          https://www.youtube.com/watch?v=1iaH64mCf-c  \n",
       "701          https://www.youtube.com/watch?v=PvZdTZ1Nl5o  \n",
       "727    https://www.youtube.com/attribution_link?a=Bo4...  \n",
       "756          https://www.youtube.com/watch?v=KHfYy9reU7U  \n",
       "761          https://www.youtube.com/watch?v=KHfYy9reU7U  \n",
       "765          https://www.youtube.com/watch?v=tLAXdpKRfbU  \n",
       "826          https://www.youtube.com/watch?v=qg3lFtZKr0k  \n",
       "940          https://www.youtube.com/watch?v=S1p6fmPzoJk  \n",
       "1025         https://www.youtube.com/watch?v=Di6fu7F2BxQ  \n",
       "1061         https://www.youtube.com/watch?v=py_DStBkJko  \n",
       "1068   https://www.youtube.com/attribution_link?a=Scq...  \n",
       "1144         https://www.youtube.com/watch?v=py_DStBkJko  \n",
       "1689         https://www.youtube.com/watch?v=saNDM8szNFg  \n",
       "1774         https://www.youtube.com/watch?v=U0_f4yj8afU  \n",
       "2248         https://www.youtube.com/watch?v=8dmSE4vKL7k  \n",
       "2250         https://www.youtube.com/watch?v=8dmSE4vKL7k  \n",
       "2479         https://www.youtube.com/watch?v=5AIS_y6CJ6E  \n",
       "2486         https://www.youtube.com/watch?v=5AIS_y6CJ6E  \n",
       "2612         https://www.youtube.com/watch?v=KjwTnonQV7E  \n",
       "2618         https://www.youtube.com/watch?v=HckPFYWuV0o  \n",
       "2625         https://www.youtube.com/watch?v=yW9pS7w8YcE  \n",
       "2660         https://www.youtube.com/watch?v=KjwTnonQV7E  \n",
       "2791   https://www.youtube.com/watch?v=NrmMk1Myrxc&am...  \n",
       "2875   https://www.youtube.com/watch?v=tniKLukudzA&am...  \n",
       "3388   https://www.youtube.com/attribution_link?a=7js...  \n",
       "3864   https://www.youtube.com/attribution_link?a=REx...  \n",
       "3942   https://www.youtube.com/watch?v=AJAC2dbm17w&am...  \n",
       "4140   https://www.youtube.com/watch?v=QM1iUe6IofM&am...  \n",
       "...                                                  ...  \n",
       "19632      https://www.youtube.com/shared?ci=yLNGPwnZeb8  \n",
       "19647        https://www.youtube.com/watch?v=h1orCiYdwyo  \n",
       "19938        https://www.youtube.com/watch?v=weJcF5EgLnA  \n",
       "20023        https://www.youtube.com/watch?v=UNCSg7NiIo0  \n",
       "20168        https://www.youtube.com/watch?v=Q5scINo6oyo  \n",
       "20259        https://www.youtube.com/watch?v=6cH4XTE2pIQ  \n",
       "20264  https://www.youtube.com/attribution_link?a=Yux...  \n",
       "20268        https://www.youtube.com/watch?v=o1_SkiEAjmA  \n",
       "20527        https://www.youtube.com/watch?v=NKY93vCiPIo  \n",
       "20689        https://www.youtube.com/watch?v=DyUrqZBs2XA  \n",
       "20811        https://www.youtube.com/watch?v=J7T-VUTOetI  \n",
       "20833        https://www.youtube.com/watch?v=XpZJGTuESBw  \n",
       "21526  https://www.youtube.com/watch?v=4dHlbXigtss&am...  \n",
       "22398         http://www.youtube.com/watch?v=lntbdItSFtg  \n",
       "22851        https://www.youtube.com/watch?v=JJFKUDO4gHU  \n",
       "23070        https://www.youtube.com/watch?v=4YC6FRDS9GU  \n",
       "23197        https://www.youtube.com/watch?v=2DsvyaSex-k  \n",
       "23483        https://www.youtube.com/watch?v=tDEC33aHsfg  \n",
       "23930        https://www.youtube.com/watch?v=ayeZMAmORkk  \n",
       "24005  https://www.youtube.com/attribution_link?a=O66...  \n",
       "24211        https://www.youtube.com/watch?v=k7gQqOD_uWk  \n",
       "24974        https://www.youtube.com/watch?v=RwDQV6hIrRg  \n",
       "25023        https://www.youtube.com/watch?v=-oqE55Sbtxs  \n",
       "25419        https://www.youtube.com/watch?v=Aq_lvEWFwjg  \n",
       "25514        https://www.youtube.com/watch?v=ffTNWf-Quy0  \n",
       "25590        https://www.youtube.com/watch?v=0x7wqWzjzB4  \n",
       "25626  http://www.youtube.com/attribution_link?a=pPNa...  \n",
       "25636  http://www.youtube.com/attribution_link?a=pPNa...  \n",
       "25653        https://www.youtube.com/watch?v=VFBOczc3L40  \n",
       "25776  https://www.youtube.com/attribution_link?a=7X4...  \n",
       "\n",
       "[188 rows x 29 columns]"
      ]
     },
     "execution_count": 52,
     "metadata": {},
     "output_type": "execute_result"
    }
   ],
   "source": [
    "df.loc[df['domain'] == 'youtube.com']"
   ]
  },
  {
   "cell_type": "code",
   "execution_count": 61,
   "metadata": {
    "collapsed": false
   },
   "outputs": [],
   "source": [
    "df1 = df[df['domain'].str.contains('self')].copy()"
   ]
  },
  {
   "cell_type": "code",
   "execution_count": 62,
   "metadata": {
    "collapsed": false
   },
   "outputs": [
    {
     "data": {
      "text/plain": [
       "self.techsupport         11423\n",
       "self.learnprogramming     3448\n",
       "self.learnpython          1724\n",
       "self.gamedev              1191\n",
       "self.technology           1152\n",
       "self.web_design            749\n",
       "self.Python                566\n",
       "self.javahelp              536\n",
       "self.javascript            482\n",
       "self.linux                 465\n",
       "self.engineering           454\n",
       "self.csshelp               393\n",
       "self.iOSProgramming        315\n",
       "self.swift                 249\n",
       "self.PHP                   175\n",
       "self.computerscience       159\n",
       "self.compsci               147\n",
       "self.java                  138\n",
       "self.django                124\n",
       "self.netsec                 97\n",
       "self.css                    94\n",
       "self.HTML                   85\n",
       "self.cpp                    83\n",
       "self.ruby                   72\n",
       "self.flask                  71\n",
       "self.html5                  50\n",
       "self.jquery                 41\n",
       "self.pygame                 34\n",
       "self.perl                   24\n",
       "self.lisp                   14\n",
       "self.programmer             11\n",
       "self.dailyprogrammer        10\n",
       "self.IPython                 8\n",
       "self.inventwithpython        6\n",
       "self.pythoncoding            2\n",
       "self.pystats                 2\n",
       "Name: domain, dtype: int64"
      ]
     },
     "execution_count": 62,
     "metadata": {},
     "output_type": "execute_result"
    }
   ],
   "source": [
    "df1['domain'].value_counts()"
   ]
  },
  {
   "cell_type": "markdown",
   "metadata": {},
   "source": [
    "**We can try making dummy variables**"
   ]
  },
  {
   "cell_type": "code",
   "execution_count": 63,
   "metadata": {
    "collapsed": false
   },
   "outputs": [
    {
     "data": {
      "text/plain": [
       "0.0    24594\n",
       "Name: downs, dtype: int64"
      ]
     },
     "execution_count": 63,
     "metadata": {},
     "output_type": "execute_result"
    }
   ],
   "source": [
    "df1['downs'].value_counts()"
   ]
  },
  {
   "cell_type": "markdown",
   "metadata": {},
   "source": [
    "**We can drop this column**"
   ]
  },
  {
   "cell_type": "code",
   "execution_count": 64,
   "metadata": {
    "collapsed": false
   },
   "outputs": [],
   "source": [
    "df1.drop('downs', axis = 1, inplace = True)"
   ]
  },
  {
   "cell_type": "markdown",
   "metadata": {},
   "source": [
    "Edited \n",
    "--"
   ]
  },
  {
   "cell_type": "code",
   "execution_count": 71,
   "metadata": {
    "collapsed": false
   },
   "outputs": [
    {
     "data": {
      "text/plain": [
       "(3516,)"
      ]
     },
     "execution_count": 71,
     "metadata": {},
     "output_type": "execute_result"
    }
   ],
   "source": [
    "df1.loc[df1['edited'] != 'False', 'edited'].shape"
   ]
  },
  {
   "cell_type": "markdown",
   "metadata": {},
   "source": [
    "**Not sure if we should use this, as it is quite imbalanced, but seeing if the post was edited or not seems interesting for clustering**"
   ]
  },
  {
   "cell_type": "markdown",
   "metadata": {},
   "source": [
    "Gilded\n",
    "--"
   ]
  },
  {
   "cell_type": "code",
   "execution_count": 72,
   "metadata": {
    "collapsed": false
   },
   "outputs": [
    {
     "data": {
      "text/plain": [
       "0.0    24584\n",
       "1.0        8\n",
       "6.0        1\n",
       "2.0        1\n",
       "Name: gilded, dtype: int64"
      ]
     },
     "execution_count": 72,
     "metadata": {},
     "output_type": "execute_result"
    }
   ],
   "source": [
    "df1['gilded'].value_counts()"
   ]
  },
  {
   "cell_type": "markdown",
   "metadata": {},
   "source": [
    "**Again, very imbalanced feature, but interesting to see**"
   ]
  },
  {
   "cell_type": "code",
   "execution_count": 74,
   "metadata": {
    "collapsed": false
   },
   "outputs": [
    {
     "data": {
      "text/plain": [
       "False    24594\n",
       "Name: hide_score, dtype: int64"
      ]
     },
     "execution_count": 74,
     "metadata": {},
     "output_type": "execute_result"
    }
   ],
   "source": [
    "df1['hide_score'].value_counts()"
   ]
  },
  {
   "cell_type": "markdown",
   "metadata": {},
   "source": [
    "**We can drop this feature**"
   ]
  },
  {
   "cell_type": "code",
   "execution_count": 75,
   "metadata": {
    "collapsed": true
   },
   "outputs": [],
   "source": [
    "df1.drop('hide_score', axis = 1, inplace = True)"
   ]
  },
  {
   "cell_type": "markdown",
   "metadata": {},
   "source": [
    "ID of post\n",
    "--"
   ]
  },
  {
   "cell_type": "code",
   "execution_count": 77,
   "metadata": {
    "collapsed": false
   },
   "outputs": [
    {
     "data": {
      "text/plain": [
       "5iepj7    1\n",
       "Name: id, dtype: int64"
      ]
     },
     "execution_count": 77,
     "metadata": {},
     "output_type": "execute_result"
    }
   ],
   "source": [
    "df1['id'].value_counts().head(1)"
   ]
  },
  {
   "cell_type": "markdown",
   "metadata": {},
   "source": [
    "**ID of the post, won't be using**"
   ]
  },
  {
   "cell_type": "code",
   "execution_count": 78,
   "metadata": {
    "collapsed": false
   },
   "outputs": [
    {
     "data": {
      "text/plain": [
       "True    24594\n",
       "Name: is_self, dtype: int64"
      ]
     },
     "execution_count": 78,
     "metadata": {},
     "output_type": "execute_result"
    }
   ],
   "source": [
    "df1['is_self'].value_counts()"
   ]
  },
  {
   "cell_type": "markdown",
   "metadata": {},
   "source": [
    "**All true since we filtered out the non-self posts, so we can drop it**"
   ]
  },
  {
   "cell_type": "code",
   "execution_count": 79,
   "metadata": {
    "collapsed": true
   },
   "outputs": [],
   "source": [
    "df1.drop('is_self', axis = 1, inplace = True)"
   ]
  },
  {
   "cell_type": "markdown",
   "metadata": {},
   "source": [
    "Locked\n",
    "--"
   ]
  },
  {
   "cell_type": "code",
   "execution_count": 80,
   "metadata": {
    "collapsed": false
   },
   "outputs": [
    {
     "data": {
      "text/plain": [
       "False    24574\n",
       "True        20\n",
       "Name: locked, dtype: int64"
      ]
     },
     "execution_count": 80,
     "metadata": {},
     "output_type": "execute_result"
    }
   ],
   "source": [
    "df1['locked'].value_counts()"
   ]
  },
  {
   "cell_type": "markdown",
   "metadata": {},
   "source": [
    "**Again, very imbalanced feature, but might be useful to see**"
   ]
  },
  {
   "cell_type": "code",
   "execution_count": 81,
   "metadata": {
    "collapsed": false
   },
   "outputs": [
    {
     "data": {
      "text/plain": [
       "{}    24594\n",
       "Name: media_embed, dtype: int64"
      ]
     },
     "execution_count": 81,
     "metadata": {},
     "output_type": "execute_result"
    }
   ],
   "source": [
    "df1['media_embed'].value_counts()"
   ]
  },
  {
   "cell_type": "markdown",
   "metadata": {},
   "source": [
    "**We can drop this feature**"
   ]
  },
  {
   "cell_type": "code",
   "execution_count": 82,
   "metadata": {
    "collapsed": true
   },
   "outputs": [],
   "source": [
    "df1.drop('media_embed', axis = 1, inplace = True)"
   ]
  },
  {
   "cell_type": "code",
   "execution_count": 84,
   "metadata": {
    "collapsed": false
   },
   "outputs": [
    {
     "data": {
      "text/plain": [
       "t3_5km58z    1\n",
       "Name: name, dtype: int64"
      ]
     },
     "execution_count": 84,
     "metadata": {},
     "output_type": "execute_result"
    }
   ],
   "source": [
    "df1['name'].value_counts().head(1)"
   ]
  },
  {
   "cell_type": "markdown",
   "metadata": {},
   "source": [
    "**Some sort of identifier again?**"
   ]
  },
  {
   "cell_type": "markdown",
   "metadata": {},
   "source": [
    "Number of Comments\n",
    "--"
   ]
  },
  {
   "cell_type": "code",
   "execution_count": 86,
   "metadata": {
    "collapsed": false
   },
   "outputs": [
    {
     "data": {
      "text/plain": [
       "count    24594.000000\n",
       "mean         5.860454\n",
       "std         48.288929\n",
       "min          0.000000\n",
       "25%          1.000000\n",
       "50%          2.000000\n",
       "75%          6.000000\n",
       "max       6109.000000\n",
       "Name: num_comments, dtype: float64"
      ]
     },
     "execution_count": 86,
     "metadata": {},
     "output_type": "execute_result"
    }
   ],
   "source": [
    "df1['num_comments'].describe()"
   ]
  },
  {
   "cell_type": "markdown",
   "metadata": {},
   "source": [
    "**We can use this feature, from quick glance, most of the posts have very little response, and the highest number of comments is huge at 6,109**"
   ]
  },
  {
   "cell_type": "code",
   "execution_count": 96,
   "metadata": {
    "collapsed": false
   },
   "outputs": [
    {
     "data": {
      "text/html": [
       "<div>\n",
       "<table border=\"1\" class=\"dataframe\">\n",
       "  <thead>\n",
       "    <tr style=\"text-align: right;\">\n",
       "      <th></th>\n",
       "      <th>author</th>\n",
       "      <th>created_utc</th>\n",
       "      <th>domain</th>\n",
       "      <th>edited</th>\n",
       "      <th>gilded</th>\n",
       "      <th>id</th>\n",
       "      <th>locked</th>\n",
       "      <th>name</th>\n",
       "      <th>num_comments</th>\n",
       "      <th>over_18</th>\n",
       "      <th>...</th>\n",
       "      <th>secure_media_embed</th>\n",
       "      <th>selftext</th>\n",
       "      <th>spoiler</th>\n",
       "      <th>stickied</th>\n",
       "      <th>subreddit</th>\n",
       "      <th>subreddit_id</th>\n",
       "      <th>thumbnail</th>\n",
       "      <th>title</th>\n",
       "      <th>ups</th>\n",
       "      <th>url</th>\n",
       "    </tr>\n",
       "  </thead>\n",
       "  <tbody>\n",
       "    <tr>\n",
       "      <th>21737</th>\n",
       "      <td>BryAallDay</td>\n",
       "      <td>1482604753</td>\n",
       "      <td>self.technology</td>\n",
       "      <td>1482623455</td>\n",
       "      <td>2.0</td>\n",
       "      <td>5k4dn8</td>\n",
       "      <td>False</td>\n",
       "      <td>t3_5k4dn8</td>\n",
       "      <td>6109.0</td>\n",
       "      <td>False</td>\n",
       "      <td>...</td>\n",
       "      <td>{}</td>\n",
       "      <td>**Edit 2:  It's Christmas Eve, everyone; let's...</td>\n",
       "      <td>False</td>\n",
       "      <td>False</td>\n",
       "      <td>technology</td>\n",
       "      <td>t5_2qh16</td>\n",
       "      <td>self</td>\n",
       "      <td>I'm becoming scared of Facebook.</td>\n",
       "      <td>26573.0</td>\n",
       "      <td>https://www.reddit.com/r/technology/comments/5...</td>\n",
       "    </tr>\n",
       "  </tbody>\n",
       "</table>\n",
       "<p>1 rows × 25 columns</p>\n",
       "</div>"
      ],
      "text/plain": [
       "           author  created_utc           domain      edited  gilded      id  \\\n",
       "21737  BryAallDay   1482604753  self.technology  1482623455     2.0  5k4dn8   \n",
       "\n",
       "      locked       name  num_comments over_18  \\\n",
       "21737  False  t3_5k4dn8        6109.0   False   \n",
       "\n",
       "                             ...                         secure_media_embed  \\\n",
       "21737                        ...                                         {}   \n",
       "\n",
       "                                                selftext  spoiler stickied  \\\n",
       "21737  **Edit 2:  It's Christmas Eve, everyone; let's...    False    False   \n",
       "\n",
       "        subreddit subreddit_id thumbnail                             title  \\\n",
       "21737  technology     t5_2qh16      self  I'm becoming scared of Facebook.   \n",
       "\n",
       "           ups                                                url  \n",
       "21737  26573.0  https://www.reddit.com/r/technology/comments/5...  \n",
       "\n",
       "[1 rows x 25 columns]"
      ]
     },
     "execution_count": 96,
     "metadata": {},
     "output_type": "execute_result"
    }
   ],
   "source": [
    "df1.loc[df1['num_comments'] == 6109]"
   ]
  },
  {
   "cell_type": "code",
   "execution_count": 97,
   "metadata": {
    "collapsed": false
   },
   "outputs": [
    {
     "data": {
      "text/plain": [
       "'https://www.reddit.com/r/technology/comments/5k4dn8/im_becoming_scared_of_facebook/'"
      ]
     },
     "execution_count": 97,
     "metadata": {},
     "output_type": "execute_result"
    }
   ],
   "source": [
    "df1['url'][21737]"
   ]
  },
  {
   "cell_type": "markdown",
   "metadata": {},
   "source": [
    "**Highest number of commented post was about Facebook and concern on user privacy**"
   ]
  },
  {
   "cell_type": "markdown",
   "metadata": {},
   "source": [
    "Over 18\n",
    "--"
   ]
  },
  {
   "cell_type": "code",
   "execution_count": 99,
   "metadata": {
    "collapsed": false
   },
   "outputs": [
    {
     "data": {
      "text/plain": [
       "False    24561\n",
       "True        33\n",
       "Name: over_18, dtype: int64"
      ]
     },
     "execution_count": 99,
     "metadata": {},
     "output_type": "execute_result"
    }
   ],
   "source": [
    "df1['over_18'].value_counts()"
   ]
  },
  {
   "cell_type": "markdown",
   "metadata": {},
   "source": [
    "**Imbalanced, but might be interesting to see for clustering**"
   ]
  },
  {
   "cell_type": "markdown",
   "metadata": {},
   "source": [
    "Permalink\n",
    "--"
   ]
  },
  {
   "cell_type": "code",
   "execution_count": 101,
   "metadata": {
    "collapsed": false
   },
   "outputs": [
    {
     "data": {
      "text/plain": [
       "/r/javascript/comments/5kh0rk/how_can_i_create_a_shopping_cart/    1\n",
       "Name: permalink, dtype: int64"
      ]
     },
     "execution_count": 101,
     "metadata": {},
     "output_type": "execute_result"
    }
   ],
   "source": [
    "df1['permalink'].value_counts().head(1)"
   ]
  },
  {
   "cell_type": "markdown",
   "metadata": {},
   "source": [
    "**Seems to contain information we already have in other columns**"
   ]
  },
  {
   "cell_type": "code",
   "execution_count": 104,
   "metadata": {
    "collapsed": false
   },
   "outputs": [
    {
     "data": {
      "text/plain": [
       "False    24594\n",
       "Name: quarantine, dtype: int64"
      ]
     },
     "execution_count": 104,
     "metadata": {},
     "output_type": "execute_result"
    }
   ],
   "source": [
    "df1['quarantine'].value_counts()"
   ]
  },
  {
   "cell_type": "markdown",
   "metadata": {},
   "source": [
    "**We can drop this feature**"
   ]
  },
  {
   "cell_type": "code",
   "execution_count": 105,
   "metadata": {
    "collapsed": true
   },
   "outputs": [],
   "source": [
    "df1.drop('quarantine', axis = 1, inplace = True)"
   ]
  },
  {
   "cell_type": "markdown",
   "metadata": {},
   "source": [
    "Retrieved On\n",
    "--"
   ]
  },
  {
   "cell_type": "code",
   "execution_count": 107,
   "metadata": {
    "collapsed": false
   },
   "outputs": [
    {
     "data": {
      "text/plain": [
       "1.484401e+09    5\n",
       "Name: retrieved_on, dtype: int64"
      ]
     },
     "execution_count": 107,
     "metadata": {},
     "output_type": "execute_result"
    }
   ],
   "source": [
    "df1['retrieved_on'].value_counts().head(1)"
   ]
  },
  {
   "cell_type": "code",
   "execution_count": 108,
   "metadata": {
    "collapsed": false
   },
   "outputs": [
    {
     "data": {
      "text/plain": [
       "1481768887    3\n",
       "Name: created_utc, dtype: int64"
      ]
     },
     "execution_count": 108,
     "metadata": {},
     "output_type": "execute_result"
    }
   ],
   "source": [
    "df1['created_utc'].value_counts().head(1)"
   ]
  },
  {
   "cell_type": "markdown",
   "metadata": {},
   "source": [
    "**Not sure what this column is, but is probably in time UTC format. Maybe the time it was scraped?**"
   ]
  },
  {
   "cell_type": "code",
   "execution_count": 109,
   "metadata": {
    "collapsed": false
   },
   "outputs": [
    {
     "data": {
      "text/plain": [
       "False    24594\n",
       "Name: saved, dtype: int64"
      ]
     },
     "execution_count": 109,
     "metadata": {},
     "output_type": "execute_result"
    }
   ],
   "source": [
    "df1['saved'].value_counts()"
   ]
  },
  {
   "cell_type": "markdown",
   "metadata": {},
   "source": [
    "**We can drop this feature**"
   ]
  },
  {
   "cell_type": "code",
   "execution_count": 110,
   "metadata": {
    "collapsed": true
   },
   "outputs": [],
   "source": [
    "def dropcol(dataframe,name):\n",
    "    dataframe.drop(name, axis = 1, inplace = True)"
   ]
  },
  {
   "cell_type": "code",
   "execution_count": 111,
   "metadata": {
    "collapsed": true
   },
   "outputs": [],
   "source": [
    "dropcol(df1, 'saved')"
   ]
  },
  {
   "cell_type": "code",
   "execution_count": 112,
   "metadata": {
    "collapsed": false
   },
   "outputs": [
    {
     "data": {
      "text/plain": [
       "Index([u'author', u'created_utc', u'domain', u'edited', u'gilded', u'id',\n",
       "       u'locked', u'name', u'num_comments', u'over_18', u'permalink',\n",
       "       u'retrieved_on', u'score', u'secure_media_embed', u'selftext',\n",
       "       u'spoiler', u'stickied', u'subreddit', u'subreddit_id', u'thumbnail',\n",
       "       u'title', u'ups', u'url'],\n",
       "      dtype='object')"
      ]
     },
     "execution_count": 112,
     "metadata": {},
     "output_type": "execute_result"
    }
   ],
   "source": [
    "df1.columns"
   ]
  },
  {
   "cell_type": "markdown",
   "metadata": {},
   "source": [
    "Score\n",
    "--"
   ]
  },
  {
   "cell_type": "code",
   "execution_count": 114,
   "metadata": {
    "collapsed": false
   },
   "outputs": [
    {
     "data": {
      "text/plain": [
       "count    24594.000000\n",
       "mean         6.989957\n",
       "std        184.860840\n",
       "min          0.000000\n",
       "25%          1.000000\n",
       "50%          1.000000\n",
       "75%          2.000000\n",
       "max      26573.000000\n",
       "Name: score, dtype: float64"
      ]
     },
     "execution_count": 114,
     "metadata": {},
     "output_type": "execute_result"
    }
   ],
   "source": [
    "df1['score'].describe()"
   ]
  },
  {
   "cell_type": "markdown",
   "metadata": {},
   "source": [
    "**We can use. Lots of low scores a few extremely high scores**"
   ]
  },
  {
   "cell_type": "code",
   "execution_count": 115,
   "metadata": {
    "collapsed": false
   },
   "outputs": [
    {
     "data": {
      "text/plain": [
       "{}    24594\n",
       "Name: secure_media_embed, dtype: int64"
      ]
     },
     "execution_count": 115,
     "metadata": {},
     "output_type": "execute_result"
    }
   ],
   "source": [
    "df1['secure_media_embed'].value_counts()"
   ]
  },
  {
   "cell_type": "markdown",
   "metadata": {},
   "source": [
    "**We can drop this column**"
   ]
  },
  {
   "cell_type": "code",
   "execution_count": 116,
   "metadata": {
    "collapsed": true
   },
   "outputs": [],
   "source": [
    "dropcol(df1, 'secure_media_embed')"
   ]
  },
  {
   "cell_type": "markdown",
   "metadata": {},
   "source": [
    "Selftext\n",
    "--"
   ]
  },
  {
   "cell_type": "code",
   "execution_count": 118,
   "metadata": {
    "collapsed": false
   },
   "outputs": [
    {
     "data": {
      "text/plain": [
       "'I have a Sony surround sound system for a blu-ray player with the 4.2mm connectors. Is there a way I can play all my other devices through my speakers. What kind of connectors and amps do I need to get it to work'"
      ]
     },
     "execution_count": 118,
     "metadata": {},
     "output_type": "execute_result"
    }
   ],
   "source": [
    "df1['selftext'][0]"
   ]
  },
  {
   "cell_type": "markdown",
   "metadata": {},
   "source": [
    "**Feature we will be using NLP on**"
   ]
  },
  {
   "cell_type": "code",
   "execution_count": 120,
   "metadata": {
    "collapsed": false
   },
   "outputs": [
    {
     "data": {
      "text/plain": [
       "False    24594\n",
       "Name: spoiler, dtype: int64"
      ]
     },
     "execution_count": 120,
     "metadata": {},
     "output_type": "execute_result"
    }
   ],
   "source": [
    "df1['spoiler'].value_counts()"
   ]
  },
  {
   "cell_type": "markdown",
   "metadata": {},
   "source": [
    "**We can drop this column**"
   ]
  },
  {
   "cell_type": "code",
   "execution_count": 121,
   "metadata": {
    "collapsed": true
   },
   "outputs": [],
   "source": [
    "dropcol(df1, 'spoiler')"
   ]
  },
  {
   "cell_type": "code",
   "execution_count": 122,
   "metadata": {
    "collapsed": false
   },
   "outputs": [
    {
     "data": {
      "text/plain": [
       "False    24593\n",
       "True         1\n",
       "Name: stickied, dtype: int64"
      ]
     },
     "execution_count": 122,
     "metadata": {},
     "output_type": "execute_result"
    }
   ],
   "source": [
    "df1['stickied'].value_counts()"
   ]
  },
  {
   "cell_type": "markdown",
   "metadata": {},
   "source": [
    "**Too imbalanced, we will not use**"
   ]
  },
  {
   "cell_type": "code",
   "execution_count": 125,
   "metadata": {
    "collapsed": false
   },
   "outputs": [
    {
     "data": {
      "text/plain": [
       "techsupport         11423\n",
       "learnprogramming     3448\n",
       "learnpython          1724\n",
       "gamedev              1191\n",
       "technology           1152\n",
       "Name: subreddit, dtype: int64"
      ]
     },
     "execution_count": 125,
     "metadata": {},
     "output_type": "execute_result"
    }
   ],
   "source": [
    "df1['subreddit'].value_counts().head()"
   ]
  },
  {
   "cell_type": "markdown",
   "metadata": {},
   "source": [
    "**Similar to domains, we will choose either one and make dummy variables**"
   ]
  },
  {
   "cell_type": "code",
   "execution_count": 127,
   "metadata": {
    "collapsed": false
   },
   "outputs": [
    {
     "data": {
      "text/plain": [
       "t5_2qioo    11423\n",
       "t5_2r7yd     3448\n",
       "t5_2r8ot     1724\n",
       "t5_2qi0a     1191\n",
       "t5_2qh16     1152\n",
       "Name: subreddit_id, dtype: int64"
      ]
     },
     "execution_count": 127,
     "metadata": {},
     "output_type": "execute_result"
    }
   ],
   "source": [
    "df1['subreddit_id'].value_counts().head()"
   ]
  },
  {
   "cell_type": "markdown",
   "metadata": {},
   "source": [
    "**Subreddit ID, won't use**"
   ]
  },
  {
   "cell_type": "code",
   "execution_count": 128,
   "metadata": {
    "collapsed": false
   },
   "outputs": [
    {
     "data": {
      "text/plain": [
       "self       18192\n",
       "default     6386\n",
       "nsfw          16\n",
       "Name: thumbnail, dtype: int64"
      ]
     },
     "execution_count": 128,
     "metadata": {},
     "output_type": "execute_result"
    }
   ],
   "source": [
    "df1['thumbnail'].value_counts()"
   ]
  },
  {
   "cell_type": "markdown",
   "metadata": {},
   "source": [
    "**Not sure if I should use**"
   ]
  },
  {
   "cell_type": "markdown",
   "metadata": {},
   "source": [
    "Title of post\n",
    "--"
   ]
  },
  {
   "cell_type": "code",
   "execution_count": 131,
   "metadata": {
    "collapsed": false
   },
   "outputs": [
    {
     "data": {
      "text/plain": [
       "'Help with audio set-up'"
      ]
     },
     "execution_count": 131,
     "metadata": {},
     "output_type": "execute_result"
    }
   ],
   "source": [
    "df1['title'][0]"
   ]
  },
  {
   "cell_type": "markdown",
   "metadata": {},
   "source": [
    "**We can conduct NLP on title as well**"
   ]
  },
  {
   "cell_type": "code",
   "execution_count": 133,
   "metadata": {
    "collapsed": false
   },
   "outputs": [
    {
     "data": {
      "text/plain": [
       "count    24594.000000\n",
       "mean         6.989957\n",
       "std        184.860840\n",
       "min          0.000000\n",
       "25%          1.000000\n",
       "50%          1.000000\n",
       "75%          2.000000\n",
       "max      26573.000000\n",
       "Name: ups, dtype: float64"
      ]
     },
     "execution_count": 133,
     "metadata": {},
     "output_type": "execute_result"
    }
   ],
   "source": [
    "df1['ups'].describe()"
   ]
  },
  {
   "cell_type": "markdown",
   "metadata": {},
   "source": [
    "**Seems to be the same as Score, we will use one of them as a feature**"
   ]
  },
  {
   "cell_type": "code",
   "execution_count": 135,
   "metadata": {
    "collapsed": false
   },
   "outputs": [
    {
     "data": {
      "text/plain": [
       "https://www.reddit.com/r/csshelp/comments/5g8df7/having_difficulties_adding_the_logo_to_my_private/    1\n",
       "Name: url, dtype: int64"
      ]
     },
     "execution_count": 135,
     "metadata": {},
     "output_type": "execute_result"
    }
   ],
   "source": [
    "df1['url'].value_counts().head(1)"
   ]
  },
  {
   "cell_type": "markdown",
   "metadata": {},
   "source": [
    "**URL, won't use**"
   ]
  },
  {
   "cell_type": "code",
   "execution_count": 139,
   "metadata": {
    "collapsed": false
   },
   "outputs": [
    {
     "data": {
      "text/plain": [
       "<matplotlib.axes._subplots.AxesSubplot at 0x1154b11d0>"
      ]
     },
     "execution_count": 139,
     "metadata": {},
     "output_type": "execute_result"
    },
    {
     "data": {
      "image/png": "[encoded data removed]",
      "text/plain": [
       "<matplotlib.figure.Figure at 0x1159d5610>"
      ]
     },
     "metadata": {},
     "output_type": "display_data"
    }
   ],
   "source": [
    "sns.heatmap(df1.corr(), annot = True)"
   ]
  },
  {
   "cell_type": "code",
   "execution_count": 136,
   "metadata": {
    "collapsed": true
   },
   "outputs": [],
   "source": [
    "titledf = df1['title'].copy()"
   ]
  },
  {
   "cell_type": "code",
   "execution_count": 137,
   "metadata": {
    "collapsed": true
   },
   "outputs": [],
   "source": [
    "textdf = df1['selftext'].copy()"
   ]
  },
  {
   "cell_type": "code",
   "execution_count": 140,
   "metadata": {
    "collapsed": true
   },
   "outputs": [],
   "source": [
    "titledf.to_csv('titledf.csv')"
   ]
  },
  {
   "cell_type": "code",
   "execution_count": 141,
   "metadata": {
    "collapsed": true
   },
   "outputs": [],
   "source": [
    "textdf.to_csv('textdf.csv')"
   ]
  },
  {
   "cell_type": "code",
   "execution_count": 142,
   "metadata": {
    "collapsed": true
   },
   "outputs": [],
   "source": [
    "df1.to_csv('df1.csv')"
   ]
  }
 ],
 "metadata": {
  "kernelspec": {
   "display_name": "Python 2",
   "language": "python",
   "name": "python2"
  },
  "language_info": {
   "codemirror_mode": {
    "name": "ipython",
    "version": 2
   },
   "file_extension": ".py",
   "mimetype": "text/x-python",
   "name": "python",
   "nbconvert_exporter": "python",
   "pygments_lexer": "ipython2",
   "version": "2.7.13"
  }
 },
 "nbformat": 4,
 "nbformat_minor": 2
}
