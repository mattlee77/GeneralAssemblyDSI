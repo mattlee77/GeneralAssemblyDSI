{
 "cells": [
  {
   "cell_type": "code",
   "execution_count": 630,
   "metadata": {
    "collapsed": false
   },
   "outputs": [],
   "source": [
    "import pandas as pd\n",
    "import numpy as np\n",
    "import matplotlib.pyplot as plt\n",
    "import seaborn as sns\n",
    "from sklearn.linear_model import LinearRegression, Ridge, LogisticRegression\n",
    "from sklearn.neighbors import KNeighborsClassifier\n",
    "from sklearn.model_selection import train_test_split, GridSearchCV\n",
    "from sklearn import metrics\n",
    "%matplotlib inline"
   ]
  },
  {
   "cell_type": "code",
   "execution_count": 535,
   "metadata": {
    "collapsed": false
   },
   "outputs": [
    {
     "data": {
      "text/html": [
       "<div>\n",
       "<table border=\"1\" class=\"dataframe\">\n",
       "  <thead>\n",
       "    <tr style=\"text-align: right;\">\n",
       "      <th></th>\n",
       "      <th>address</th>\n",
       "      <th>bed_bath</th>\n",
       "      <th>more_info</th>\n",
       "      <th>price</th>\n",
       "      <th>status</th>\n",
       "      <th>zip_code</th>\n",
       "    </tr>\n",
       "  </thead>\n",
       "  <tbody>\n",
       "    <tr>\n",
       "      <th>0</th>\n",
       "      <td>360 E Randolph St # 601-602, Chicago, IL</td>\n",
       "      <td>3 bds · 4 ba · 2,700 sqft</td>\n",
       "      <td>http://www.zillow.com/homedetails/360-E-Randol...</td>\n",
       "      <td>$1,299,000</td>\n",
       "      <td>Condo For Sale</td>\n",
       "      <td>60601</td>\n",
       "    </tr>\n",
       "    <tr>\n",
       "      <th>1</th>\n",
       "      <td>8 E Randolph St UNIT 1006, Chicago, IL</td>\n",
       "      <td>1 bd · 1 ba · 850 sqft</td>\n",
       "      <td>http://www.zillow.com/homedetails/8-E-Randolph...</td>\n",
       "      <td>$324,900</td>\n",
       "      <td>Condo For Sale</td>\n",
       "      <td>60601</td>\n",
       "    </tr>\n",
       "    <tr>\n",
       "      <th>2</th>\n",
       "      <td>NaN</td>\n",
       "      <td>NaN</td>\n",
       "      <td>NaN</td>\n",
       "      <td>NaN</td>\n",
       "      <td>NaN</td>\n",
       "      <td>60601</td>\n",
       "    </tr>\n",
       "    <tr>\n",
       "      <th>3</th>\n",
       "      <td>340 E Randolph St APT 704, Chicago, IL</td>\n",
       "      <td>2 bds · 3 ba · 1,902 sqft</td>\n",
       "      <td>http://www.zillow.com/homedetails/340-E-Randol...</td>\n",
       "      <td>$1,099,000</td>\n",
       "      <td>Condo For Sale</td>\n",
       "      <td>60601</td>\n",
       "    </tr>\n",
       "    <tr>\n",
       "      <th>4</th>\n",
       "      <td>420 E Waterside Dr UNIT 310, Chicago, IL</td>\n",
       "      <td>2 bds · 3 ba · 1,500 sqft</td>\n",
       "      <td>http://www.zillow.com/homedetails/420-E-Waters...</td>\n",
       "      <td>$567,770</td>\n",
       "      <td>Condo For Sale</td>\n",
       "      <td>60601</td>\n",
       "    </tr>\n",
       "  </tbody>\n",
       "</table>\n",
       "</div>"
      ],
      "text/plain": [
       "                                    address                   bed_bath  \\\n",
       "0  360 E Randolph St # 601-602, Chicago, IL  3 bds · 4 ba · 2,700 sqft   \n",
       "1    8 E Randolph St UNIT 1006, Chicago, IL     1 bd · 1 ba · 850 sqft   \n",
       "2                                       NaN                        NaN   \n",
       "3    340 E Randolph St APT 704, Chicago, IL  2 bds · 3 ba · 1,902 sqft   \n",
       "4  420 E Waterside Dr UNIT 310, Chicago, IL  2 bds · 3 ba · 1,500 sqft   \n",
       "\n",
       "                                           more_info       price  \\\n",
       "0  http://www.zillow.com/homedetails/360-E-Randol...  $1,299,000   \n",
       "1  http://www.zillow.com/homedetails/8-E-Randolph...    $324,900   \n",
       "2                                                NaN         NaN   \n",
       "3  http://www.zillow.com/homedetails/340-E-Randol...  $1,099,000   \n",
       "4  http://www.zillow.com/homedetails/420-E-Waters...    $567,770   \n",
       "\n",
       "           status  zip_code  \n",
       "0  Condo For Sale     60601  \n",
       "1  Condo For Sale     60601  \n",
       "2             NaN     60601  \n",
       "3  Condo For Sale     60601  \n",
       "4  Condo For Sale     60601  "
      ]
     },
     "execution_count": 535,
     "metadata": {},
     "output_type": "execute_result"
    }
   ],
   "source": [
    "df = pd.read_csv('housing.csv')\n",
    "df.head()"
   ]
  },
  {
   "cell_type": "code",
   "execution_count": 536,
   "metadata": {
    "collapsed": false
   },
   "outputs": [
    {
     "data": {
      "text/plain": [
       "(7468, 6)"
      ]
     },
     "execution_count": 536,
     "metadata": {},
     "output_type": "execute_result"
    }
   ],
   "source": [
    "df.shape"
   ]
  },
  {
   "cell_type": "code",
   "execution_count": 537,
   "metadata": {
    "collapsed": false
   },
   "outputs": [
    {
     "data": {
      "text/plain": [
       "address       280\n",
       "bed_bath      280\n",
       "more_info     280\n",
       "price        2542\n",
       "status        280\n",
       "zip_code        0\n",
       "dtype: int64"
      ]
     },
     "execution_count": 537,
     "metadata": {},
     "output_type": "execute_result"
    }
   ],
   "source": [
    "df.isnull().sum()"
   ]
  },
  {
   "cell_type": "code",
   "execution_count": 538,
   "metadata": {
    "collapsed": false
   },
   "outputs": [
    {
     "data": {
      "text/plain": [
       "\"280 rows of address/bed_bath/more_info/status is null. We really can't base anything off the zip code, \\nso we will drop these rows\""
      ]
     },
     "execution_count": 538,
     "metadata": {},
     "output_type": "execute_result"
    }
   ],
   "source": [
    "df[df['address'].isnull()]\n",
    "'''280 rows of address/bed_bath/more_info/status is null. We really can't base anything off the zip code, \n",
    "so we will drop these rows'''"
   ]
  },
  {
   "cell_type": "code",
   "execution_count": 539,
   "metadata": {
    "collapsed": false
   },
   "outputs": [
    {
     "data": {
      "text/plain": [
       "address         0\n",
       "bed_bath        0\n",
       "more_info       0\n",
       "price        2262\n",
       "status          0\n",
       "zip_code        0\n",
       "dtype: int64"
      ]
     },
     "execution_count": 539,
     "metadata": {},
     "output_type": "execute_result"
    }
   ],
   "source": [
    "df = df[df['address'].notnull()]\n",
    "df.isnull().sum()"
   ]
  },
  {
   "cell_type": "code",
   "execution_count": 540,
   "metadata": {
    "collapsed": false
   },
   "outputs": [
    {
     "data": {
      "text/plain": [
       "Pre-Foreclosure              1182\n",
       "Foreclosed                    530\n",
       "Pre-Foreclosure (Auction)     395\n",
       "Auction                       121\n",
       "Foreclosure                    32\n",
       "House For Sale                  1\n",
       "Make Me Move®                   1\n",
       "Name: status, dtype: int64"
      ]
     },
     "execution_count": 540,
     "metadata": {},
     "output_type": "execute_result"
    }
   ],
   "source": [
    "df[df['price'].isnull()]['status'].value_counts()"
   ]
  },
  {
   "cell_type": "code",
   "execution_count": 541,
   "metadata": {
    "collapsed": false
   },
   "outputs": [
    {
     "data": {
      "text/html": [
       "<div>\n",
       "<table border=\"1\" class=\"dataframe\">\n",
       "  <thead>\n",
       "    <tr style=\"text-align: right;\">\n",
       "      <th></th>\n",
       "      <th>address</th>\n",
       "      <th>bed_bath</th>\n",
       "      <th>more_info</th>\n",
       "      <th>price</th>\n",
       "      <th>status</th>\n",
       "      <th>zip_code</th>\n",
       "    </tr>\n",
       "  </thead>\n",
       "  <tbody>\n",
       "    <tr>\n",
       "      <th>1884</th>\n",
       "      <td>1515 E 52nd Pl STE 210, Chicago, IL</td>\n",
       "      <td>Studio · -- ba · -- sqft</td>\n",
       "      <td>http://www.zillow.com/homedetails/1515-E-52nd-...</td>\n",
       "      <td>NaN</td>\n",
       "      <td>House For Sale</td>\n",
       "      <td>60615</td>\n",
       "    </tr>\n",
       "  </tbody>\n",
       "</table>\n",
       "</div>"
      ],
      "text/plain": [
       "                                  address                  bed_bath  \\\n",
       "1884  1515 E 52nd Pl STE 210, Chicago, IL  Studio · -- ba · -- sqft   \n",
       "\n",
       "                                              more_info price          status  \\\n",
       "1884  http://www.zillow.com/homedetails/1515-E-52nd-...   NaN  House For Sale   \n",
       "\n",
       "      zip_code  \n",
       "1884     60615  "
      ]
     },
     "execution_count": 541,
     "metadata": {},
     "output_type": "execute_result"
    }
   ],
   "source": [
    "df.loc[(df['price'].isnull())&(df['status'] == 'House For Sale'), ['address','bed_bath','more_info','price','status','zip_code']]"
   ]
  },
  {
   "cell_type": "code",
   "execution_count": 542,
   "metadata": {
    "collapsed": false
   },
   "outputs": [
    {
     "data": {
      "text/plain": [
       "array([ 'http://www.zillow.com/homedetails/1515-E-52nd-Pl-STE-210-Chicago-IL-60615/2098853430_zpid/'], dtype=object)"
      ]
     },
     "execution_count": 542,
     "metadata": {},
     "output_type": "execute_result"
    }
   ],
   "source": [
    "df.loc[df['price'].isnull() & (df['status'] == 'House For Sale'), 'more_info'].values"
   ]
  },
  {
   "cell_type": "code",
   "execution_count": 543,
   "metadata": {
    "collapsed": false
   },
   "outputs": [
    {
     "data": {
      "text/plain": [
       "array([ 'http://www.zillow.com/homedetails/8136-W-Summerdale-Ave-Chicago-IL-60656/3581759_zpid/'], dtype=object)"
      ]
     },
     "execution_count": 543,
     "metadata": {},
     "output_type": "execute_result"
    }
   ],
   "source": [
    "df.loc[(df['price'].isnull()) & (df['status'] == 'Make Me Move®'), 'more_info'].values"
   ]
  },
  {
   "cell_type": "code",
   "execution_count": 544,
   "metadata": {
    "collapsed": false
   },
   "outputs": [
    {
     "data": {
      "text/plain": [
       "array(['http://www.zillow.com/homedetail/AuthRequired.htm?r=pfc&zpid=126074971',\n",
       "       'http://www.zillow.com/homedetail/AuthRequired.htm?r=pfc&zpid=126059118',\n",
       "       'http://www.zillow.com/homedetail/AuthRequired.htm?r=pfc&zpid=128635066',\n",
       "       ...,\n",
       "       'http://www.zillow.com/homedetail/AuthRequired.htm?r=pfc&zpid=128460478',\n",
       "       'http://www.zillow.com/homedetail/AuthRequired.htm?r=pfc&zpid=128631954',\n",
       "       'http://www.zillow.com/homedetail/AuthRequired.htm?r=pfc&zpid=127009323'], dtype=object)"
      ]
     },
     "execution_count": 544,
     "metadata": {},
     "output_type": "execute_result"
    }
   ],
   "source": [
    "df.loc[(df['price'].isnull()) & (df['status'] == 'Pre-Foreclosure'), 'more_info'].values"
   ]
  },
  {
   "cell_type": "code",
   "execution_count": 545,
   "metadata": {
    "collapsed": false
   },
   "outputs": [
    {
     "data": {
      "text/plain": [
       "(7188, 6)"
      ]
     },
     "execution_count": 545,
     "metadata": {},
     "output_type": "execute_result"
    }
   ],
   "source": [
    "df.shape"
   ]
  },
  {
   "cell_type": "code",
   "execution_count": 546,
   "metadata": {
    "collapsed": false
   },
   "outputs": [
    {
     "data": {
      "text/plain": [
       "0.3536449638286032"
      ]
     },
     "execution_count": 546,
     "metadata": {},
     "output_type": "execute_result"
    }
   ],
   "source": [
    "(2262+280)/7188.0"
   ]
  },
  {
   "cell_type": "markdown",
   "metadata": {},
   "source": [
    "**I am considering dropping all the NULL entries (2,262) of price as they are either Foreclosed or in the process of doing so. The foreclosed price is set by the bank and is made up of a number of factors(Broker's Price Opinion, Oustanding Amount Owed, Late Penalties, Auction Bids, Discounted Prices, etc.) depending on the timing of the foreclosure process, which we do not have information on. Pre-foreclosed listings are hidden and the user needs to be signed in in order to view it, and are not necessarily listed for sale. Pre-foreclosure is the grace period (~90 days) when the borrower defaults on mortgage payments, and there are many options for the borrower (repaying the mortgages, short selling, negotiating with bank etc.). The listing prices would be 'Zestimates', which are Zillow-predicted prices when the property forecloses, which would not be an accurate market valuation.**\n",
    "\n",
    "**We can obtain more samples through our own webscraping**"
   ]
  },
  {
   "cell_type": "code",
   "execution_count": 547,
   "metadata": {
    "collapsed": true
   },
   "outputs": [],
   "source": [
    "df = df[df['price'].notnull()]"
   ]
  },
  {
   "cell_type": "code",
   "execution_count": 548,
   "metadata": {
    "collapsed": false
   },
   "outputs": [
    {
     "data": {
      "text/plain": [
       "(4926, 6)"
      ]
     },
     "execution_count": 548,
     "metadata": {},
     "output_type": "execute_result"
    }
   ],
   "source": [
    "df.shape"
   ]
  },
  {
   "cell_type": "code",
   "execution_count": 549,
   "metadata": {
    "collapsed": false
   },
   "outputs": [
    {
     "data": {
      "text/plain": [
       "address      0\n",
       "bed_bath     0\n",
       "more_info    0\n",
       "price        0\n",
       "status       0\n",
       "zip_code     0\n",
       "dtype: int64"
      ]
     },
     "execution_count": 549,
     "metadata": {},
     "output_type": "execute_result"
    }
   ],
   "source": [
    "df.isnull().sum()"
   ]
  },
  {
   "cell_type": "code",
   "execution_count": 550,
   "metadata": {
    "collapsed": false
   },
   "outputs": [
    {
     "data": {
      "text/plain": [
       "Condo For Sale        1943\n",
       "House For Sale        1335\n",
       "Apartment For Sale     476\n",
       "Lot/Land For Sale      250\n",
       "Auction                207\n",
       "Foreclosure            200\n",
       "For Sale by Owner      166\n",
       "New Construction       143\n",
       "Townhouse For Sale     109\n",
       "Make Me Move®           68\n",
       "Co-op For Sale          20\n",
       "Coming Soon              9\n",
       "Name: status, dtype: int64"
      ]
     },
     "execution_count": 550,
     "metadata": {},
     "output_type": "execute_result"
    }
   ],
   "source": [
    "df['status'].value_counts()"
   ]
  },
  {
   "cell_type": "code",
   "execution_count": 551,
   "metadata": {
    "collapsed": false
   },
   "outputs": [
    {
     "data": {
      "text/plain": [
       "Condo For Sale        1943\n",
       "House For Sale        1335\n",
       "Apartment For Sale     476\n",
       "Lot/Land For Sale      250\n",
       "For Sale by Owner      166\n",
       "New Construction       143\n",
       "Townhouse For Sale     109\n",
       "Make Me Move®           68\n",
       "Co-op For Sale          20\n",
       "Coming Soon              9\n",
       "Name: status, dtype: int64"
      ]
     },
     "execution_count": 551,
     "metadata": {},
     "output_type": "execute_result"
    }
   ],
   "source": [
    "df = df[(df['status'] != 'Auction') & (df['status'] != 'Foreclosure')]\n",
    "df['status'].value_counts()\n",
    "#We remove the rest of the Foreclosed and Auctioned properties"
   ]
  },
  {
   "cell_type": "code",
   "execution_count": 552,
   "metadata": {
    "collapsed": false
   },
   "outputs": [
    {
     "data": {
      "text/plain": [
       "(4519, 6)"
      ]
     },
     "execution_count": 552,
     "metadata": {},
     "output_type": "execute_result"
    }
   ],
   "source": [
    "df.shape"
   ]
  },
  {
   "cell_type": "markdown",
   "metadata": {
    "collapsed": true
   },
   "source": [
    "<h1 align='center'>Webscraping</h1>"
   ]
  },
  {
   "cell_type": "code",
   "execution_count": 100,
   "metadata": {
    "collapsed": true
   },
   "outputs": [],
   "source": [
    "#TESTING SECTION\n",
    "# import requests\n",
    "# from bs4 import BeautifulSoup\n",
    "\n",
    "# #use df.drop_duplicates if you scrape additional Chicago data\n",
    "# website = 'https://www.zillow.com/homes/for_sale/Chicago-IL/fsba,fsbo,new_lt/17426_rid/42.032974,-87.495461,41.633407,-87.967873_rect/10_zm/%s_p/0_mmm/'\n",
    "\n",
    "# r = requests.get(website)\n",
    "\n",
    "# # with open('chicago_houses.html', 'w') as f:\n",
    "# #     f.write(r.content)\n",
    "\n",
    "# # with open('chicago_houses.html', 'r') as f:\n",
    "# soup = BeautifulSoup(r.content,'lxml')"
   ]
  },
  {
   "cell_type": "code",
   "execution_count": 141,
   "metadata": {
    "collapsed": false
   },
   "outputs": [],
   "source": [
    "import time\n",
    "import urlparse\n",
    "rg = range(3,11)\n",
    "for rge in rg:\n",
    "    website = 'https://www.zillow.com/homes/for_sale/Chicago-IL/fsba,fsbo,new_lt/17426_rid/42.032974,-87.495461,41.633407,-87.967873_rect/10_zm/%s_p/0_mmm/' % rge\n",
    "    r = requests.get(website)\n",
    "    soup = BeautifulSoup(r.content,'lxml')\n",
    "    base = 'https://www.zillow.com'\n",
    "    data = {}\n",
    "    housing_cards = soup.find_all('div',{'class':'zsg-photo-card-content zsg-aspect-ratio-content'})\n",
    "    for i, card in enumerate(housing_cards):\n",
    "        data[i] = {}\n",
    "        address = card.find('span',{'class':'zsg-photo-card-address'})\n",
    "        if len(address) == 0 or address is None:\n",
    "            data[i]['address'] = 'MISSING'\n",
    "        else:\n",
    "            data[i]['address'] = address.text\n",
    "        bed_bath = card.find('span',{'class':'zsg-photo-card-info'})\n",
    "        if len(bed_bath) == 0 or bed_bath is None:\n",
    "            data[i]['bed_bath'] = 'MISSING'\n",
    "        else:\n",
    "            data[i]['bed_bath'] = bed_bath.text.encode('ascii', 'ignore')\n",
    "        price = card.find('span',{'class':'zsg-photo-card-price'})\n",
    "        if price is None or len(price) == 0:\n",
    "            data[i]['price'] = 'MISSING'\n",
    "        else:\n",
    "            data[i]['price'] = price.text\n",
    "        link = card.find('a', href=True)\n",
    "        data[i]['link'] = urlparse.urljoin(base,link.get('href'))\n",
    "        status = card.find('span',{'class':'zsg-photo-card-status'})\n",
    "        if len(status) == 0 or status is None:\n",
    "            data[i]['status'] = 'MISSING'\n",
    "        else:\n",
    "            data[i]['status'] = status.text.encode('ascii','ignore')\n",
    "            time.sleep(3)\n",
    "    ds = pd.DataFrame().from_dict(data, orient = 'index')\n",
    "    ds.to_csv('test%s.csv' % rge, index = False)\n",
    "        \n",
    "\n",
    "#this is the script to scrape all the columns from the original dataframe except for the ZIP code for the listings\n",
    "#on pages 3 - 10 and save them as CSVs called 'test3.csv, test4.csv etc'. I had already scraped page 2 and saved it to\n",
    "#'test.csv', and the code for it was written over by the code above."
   ]
  },
  {
   "cell_type": "code",
   "execution_count": 144,
   "metadata": {
    "collapsed": false
   },
   "outputs": [],
   "source": [
    "testdf = pd.read_csv('test.csv')\n",
    "test3df = pd.read_csv('test3.csv')\n",
    "test4df = pd.read_csv('test4.csv')\n",
    "test5df = pd.read_csv('test5.csv')\n",
    "test6df = pd.read_csv('test6.csv')\n",
    "test7df = pd.read_csv('test7.csv')\n",
    "test8df = pd.read_csv('test8.csv')\n",
    "test9df = pd.read_csv('test9.csv')\n",
    "test10df = pd.read_csv('test10.csv')\n",
    "#We read the scraped CSVs into DataFrames."
   ]
  },
  {
   "cell_type": "code",
   "execution_count": 214,
   "metadata": {
    "collapsed": false
   },
   "outputs": [],
   "source": [
    "dataframes = [testdf, test3df, test4df, test5df, test6df, test7df, test8df, test9df, test10df]"
   ]
  },
  {
   "cell_type": "code",
   "execution_count": 215,
   "metadata": {
    "collapsed": false
   },
   "outputs": [
    {
     "data": {
      "text/html": [
       "<div>\n",
       "<table border=\"1\" class=\"dataframe\">\n",
       "  <thead>\n",
       "    <tr style=\"text-align: right;\">\n",
       "      <th></th>\n",
       "      <th>status</th>\n",
       "      <th>price</th>\n",
       "      <th>bed_bath</th>\n",
       "      <th>more_info</th>\n",
       "      <th>address</th>\n",
       "      <th>zip_code</th>\n",
       "    </tr>\n",
       "  </thead>\n",
       "  <tbody>\n",
       "    <tr>\n",
       "      <th>0</th>\n",
       "      <td>Condo For Sale</td>\n",
       "      <td>$259,000</td>\n",
       "      <td>3 bds  2 ba  1,300 sqft</td>\n",
       "      <td>https://www.zillow.com/homedetails/2613-S-Lowe...</td>\n",
       "      <td>2613 S Lowe Ave # 1, Chicago, IL</td>\n",
       "      <td>60616</td>\n",
       "    </tr>\n",
       "    <tr>\n",
       "      <th>1</th>\n",
       "      <td>Condo For Sale</td>\n",
       "      <td>$124,750</td>\n",
       "      <td>1 bd  2 ba  800 sqft</td>\n",
       "      <td>https://www.zillow.com/homedetails/7433-N-Clar...</td>\n",
       "      <td>7433 N Claremont Ave # G, Chicago, IL</td>\n",
       "      <td>60645</td>\n",
       "    </tr>\n",
       "    <tr>\n",
       "      <th>2</th>\n",
       "      <td>Condo For Sale</td>\n",
       "      <td>$188,000</td>\n",
       "      <td>1 bd  1 ba  950 sqft</td>\n",
       "      <td>https://www.zillow.com/homedetails/2309-W-Ains...</td>\n",
       "      <td>2309 W Ainslie St # 2, Chicago, IL</td>\n",
       "      <td>60625</td>\n",
       "    </tr>\n",
       "    <tr>\n",
       "      <th>3</th>\n",
       "      <td>Condo For Sale</td>\n",
       "      <td>$264,900</td>\n",
       "      <td>1 bd  1 ba  850 sqft</td>\n",
       "      <td>https://www.zillow.com/homedetails/535-N-Michi...</td>\n",
       "      <td>535 N Michigan Ave APT 2009, Chicago, IL</td>\n",
       "      <td>60611</td>\n",
       "    </tr>\n",
       "    <tr>\n",
       "      <th>4</th>\n",
       "      <td>Condo For Sale</td>\n",
       "      <td>$799,000</td>\n",
       "      <td>3 bds  3 ba  -- sqft</td>\n",
       "      <td>https://www.zillow.com/homedetails/3735-N-Wilt...</td>\n",
       "      <td>3735 N Wilton Ave APT 1S, Chicago, IL</td>\n",
       "      <td>60613</td>\n",
       "    </tr>\n",
       "  </tbody>\n",
       "</table>\n",
       "</div>"
      ],
      "text/plain": [
       "           status     price                 bed_bath  \\\n",
       "0  Condo For Sale  $259,000  3 bds  2 ba  1,300 sqft   \n",
       "1  Condo For Sale  $124,750     1 bd  2 ba  800 sqft   \n",
       "2  Condo For Sale  $188,000     1 bd  1 ba  950 sqft   \n",
       "3  Condo For Sale  $264,900     1 bd  1 ba  850 sqft   \n",
       "4  Condo For Sale  $799,000     3 bds  3 ba  -- sqft   \n",
       "\n",
       "                                           more_info  \\\n",
       "0  https://www.zillow.com/homedetails/2613-S-Lowe...   \n",
       "1  https://www.zillow.com/homedetails/7433-N-Clar...   \n",
       "2  https://www.zillow.com/homedetails/2309-W-Ains...   \n",
       "3  https://www.zillow.com/homedetails/535-N-Michi...   \n",
       "4  https://www.zillow.com/homedetails/3735-N-Wilt...   \n",
       "\n",
       "                                    address zip_code  \n",
       "0          2613 S Lowe Ave # 1, Chicago, IL    60616  \n",
       "1     7433 N Claremont Ave # G, Chicago, IL    60645  \n",
       "2        2309 W Ainslie St # 2, Chicago, IL    60625  \n",
       "3  535 N Michigan Ave APT 2009, Chicago, IL    60611  \n",
       "4     3735 N Wilton Ave APT 1S, Chicago, IL    60613  "
      ]
     },
     "execution_count": 215,
     "metadata": {},
     "output_type": "execute_result"
    }
   ],
   "source": [
    "for x in dataframes:\n",
    "    x.rename(columns = {'link': 'more_info'}, inplace = True)\n",
    "testdf.head()\n",
    "#we rename the link column to more_info so it matches the original dataframe"
   ]
  },
  {
   "cell_type": "code",
   "execution_count": 216,
   "metadata": {
    "collapsed": false
   },
   "outputs": [],
   "source": [
    "dframes = [test3df, test4df, test5df, test6df, test7df, test8df, test9df, test10df]\n",
    "for dframe in dframes:\n",
    "    dframe['zip_code'] = dframe['more_info'].apply(lambda x: x.split('IL-')[1][:5])\n",
    "#We add back the zip_code column by grabbing it from the URL link in the more_info column"
   ]
  },
  {
   "cell_type": "code",
   "execution_count": 553,
   "metadata": {
    "collapsed": false
   },
   "outputs": [
    {
     "data": {
      "text/plain": [
       "address      0\n",
       "bed_bath     0\n",
       "more_info    0\n",
       "price        0\n",
       "status       0\n",
       "zip_code     0\n",
       "dtype: int64"
      ]
     },
     "execution_count": 553,
     "metadata": {},
     "output_type": "execute_result"
    }
   ],
   "source": [
    "mergeframes = [df, test3df, test4df, test5df, test6df, test7df, test8df, test9df, test10df]\n",
    "df1 = pd.concat(mergeframes)\n",
    "df1.isnull().sum()"
   ]
  },
  {
   "cell_type": "code",
   "execution_count": 554,
   "metadata": {
    "collapsed": false
   },
   "outputs": [
    {
     "data": {
      "text/plain": [
       "(4727, 6)"
      ]
     },
     "execution_count": 554,
     "metadata": {},
     "output_type": "execute_result"
    }
   ],
   "source": [
    "df1.shape"
   ]
  },
  {
   "cell_type": "code",
   "execution_count": 555,
   "metadata": {
    "collapsed": false
   },
   "outputs": [
    {
     "data": {
      "text/html": [
       "<div>\n",
       "<table border=\"1\" class=\"dataframe\">\n",
       "  <thead>\n",
       "    <tr style=\"text-align: right;\">\n",
       "      <th></th>\n",
       "      <th>address</th>\n",
       "      <th>bed_bath</th>\n",
       "      <th>more_info</th>\n",
       "      <th>price</th>\n",
       "      <th>status</th>\n",
       "      <th>zip_code</th>\n",
       "    </tr>\n",
       "  </thead>\n",
       "  <tbody>\n",
       "    <tr>\n",
       "      <th>0</th>\n",
       "      <td>360 E Randolph St # 601-602, Chicago, IL</td>\n",
       "      <td>3 bds · 4 ba · 2,700 sqft</td>\n",
       "      <td>http://www.zillow.com/homedetails/360-E-Randol...</td>\n",
       "      <td>$1,299,000</td>\n",
       "      <td>Condo For Sale</td>\n",
       "      <td>60601</td>\n",
       "    </tr>\n",
       "    <tr>\n",
       "      <th>1</th>\n",
       "      <td>8 E Randolph St UNIT 1006, Chicago, IL</td>\n",
       "      <td>1 bd · 1 ba · 850 sqft</td>\n",
       "      <td>http://www.zillow.com/homedetails/8-E-Randolph...</td>\n",
       "      <td>$324,900</td>\n",
       "      <td>Condo For Sale</td>\n",
       "      <td>60601</td>\n",
       "    </tr>\n",
       "    <tr>\n",
       "      <th>3</th>\n",
       "      <td>340 E Randolph St APT 704, Chicago, IL</td>\n",
       "      <td>2 bds · 3 ba · 1,902 sqft</td>\n",
       "      <td>http://www.zillow.com/homedetails/340-E-Randol...</td>\n",
       "      <td>$1,099,000</td>\n",
       "      <td>Condo For Sale</td>\n",
       "      <td>60601</td>\n",
       "    </tr>\n",
       "    <tr>\n",
       "      <th>4</th>\n",
       "      <td>420 E Waterside Dr UNIT 310, Chicago, IL</td>\n",
       "      <td>2 bds · 3 ba · 1,500 sqft</td>\n",
       "      <td>http://www.zillow.com/homedetails/420-E-Waters...</td>\n",
       "      <td>$567,770</td>\n",
       "      <td>Condo For Sale</td>\n",
       "      <td>60601</td>\n",
       "    </tr>\n",
       "    <tr>\n",
       "      <th>5</th>\n",
       "      <td>155 N Harbor Dr # 1212-13, Chicago, IL</td>\n",
       "      <td>3 bds · 3 ba · 2,367 sqft</td>\n",
       "      <td>http://www.zillow.com/homedetails/155-N-Harbor...</td>\n",
       "      <td>$1,350,000</td>\n",
       "      <td>Condo For Sale</td>\n",
       "      <td>60601</td>\n",
       "    </tr>\n",
       "  </tbody>\n",
       "</table>\n",
       "</div>"
      ],
      "text/plain": [
       "                                    address                   bed_bath  \\\n",
       "0  360 E Randolph St # 601-602, Chicago, IL  3 bds · 4 ba · 2,700 sqft   \n",
       "1    8 E Randolph St UNIT 1006, Chicago, IL     1 bd · 1 ba · 850 sqft   \n",
       "3    340 E Randolph St APT 704, Chicago, IL  2 bds · 3 ba · 1,902 sqft   \n",
       "4  420 E Waterside Dr UNIT 310, Chicago, IL  2 bds · 3 ba · 1,500 sqft   \n",
       "5    155 N Harbor Dr # 1212-13, Chicago, IL  3 bds · 3 ba · 2,367 sqft   \n",
       "\n",
       "                                           more_info       price  \\\n",
       "0  http://www.zillow.com/homedetails/360-E-Randol...  $1,299,000   \n",
       "1  http://www.zillow.com/homedetails/8-E-Randolph...    $324,900   \n",
       "3  http://www.zillow.com/homedetails/340-E-Randol...  $1,099,000   \n",
       "4  http://www.zillow.com/homedetails/420-E-Waters...    $567,770   \n",
       "5  http://www.zillow.com/homedetails/155-N-Harbor...  $1,350,000   \n",
       "\n",
       "           status zip_code  \n",
       "0  Condo For Sale    60601  \n",
       "1  Condo For Sale    60601  \n",
       "3  Condo For Sale    60601  \n",
       "4  Condo For Sale    60601  \n",
       "5  Condo For Sale    60601  "
      ]
     },
     "execution_count": 555,
     "metadata": {},
     "output_type": "execute_result"
    }
   ],
   "source": [
    "df1.head()"
   ]
  },
  {
   "cell_type": "code",
   "execution_count": 556,
   "metadata": {
    "collapsed": false
   },
   "outputs": [
    {
     "data": {
      "text/plain": [
       "address      object\n",
       "bed_bath     object\n",
       "more_info    object\n",
       "price        object\n",
       "status       object\n",
       "zip_code     object\n",
       "dtype: object"
      ]
     },
     "execution_count": 556,
     "metadata": {},
     "output_type": "execute_result"
    }
   ],
   "source": [
    "df1.dtypes"
   ]
  },
  {
   "cell_type": "markdown",
   "metadata": {},
   "source": [
    "<h1 align='center'>Data Cleaning</h1>"
   ]
  },
  {
   "cell_type": "code",
   "execution_count": 557,
   "metadata": {
    "collapsed": false
   },
   "outputs": [],
   "source": [
    "def money(values):\n",
    "    values = values.replace('$','')\n",
    "    values = values.replace(',','')\n",
    "    values = values.replace('+','')\n",
    "    return float(values)\n",
    "# df1['price'] = df1['price'].apply(money)\n",
    "df1.reset_index(inplace = True)\n",
    "#We first reset the index"
   ]
  },
  {
   "cell_type": "code",
   "execution_count": 558,
   "metadata": {
    "collapsed": false
   },
   "outputs": [],
   "source": [
    "df1 = df1[df1['status'] != 'Auction']"
   ]
  },
  {
   "cell_type": "code",
   "execution_count": 559,
   "metadata": {
    "collapsed": false
   },
   "outputs": [],
   "source": [
    "df1['price'] = df1['price'].apply(money)"
   ]
  },
  {
   "cell_type": "code",
   "execution_count": 560,
   "metadata": {
    "collapsed": false
   },
   "outputs": [],
   "source": [
    "df1['bed_bath'] = df1['bed_bath'].apply(lambda x: x.replace('bd','X'))"
   ]
  },
  {
   "cell_type": "code",
   "execution_count": 561,
   "metadata": {
    "collapsed": false
   },
   "outputs": [],
   "source": [
    "df1['beds'] = df1['bed_bath'].apply(lambda x: x.split('X')[0])"
   ]
  },
  {
   "cell_type": "code",
   "execution_count": 562,
   "metadata": {
    "collapsed": false
   },
   "outputs": [
    {
     "data": {
      "text/html": [
       "<div>\n",
       "<table border=\"1\" class=\"dataframe\">\n",
       "  <thead>\n",
       "    <tr style=\"text-align: right;\">\n",
       "      <th></th>\n",
       "      <th>index</th>\n",
       "      <th>address</th>\n",
       "      <th>bed_bath</th>\n",
       "      <th>more_info</th>\n",
       "      <th>price</th>\n",
       "      <th>status</th>\n",
       "      <th>zip_code</th>\n",
       "      <th>beds</th>\n",
       "    </tr>\n",
       "  </thead>\n",
       "  <tbody>\n",
       "    <tr>\n",
       "      <th>88</th>\n",
       "      <td>100</td>\n",
       "      <td>400 E Randolph St APT 1311, Chicago, IL</td>\n",
       "      <td>Studio · 1 ba · 650 sqft</td>\n",
       "      <td>http://www.zillow.com/homedetails/400-E-Randol...</td>\n",
       "      <td>320000.0</td>\n",
       "      <td>Condo For Sale</td>\n",
       "      <td>60601</td>\n",
       "      <td>Studio · 1 ba · 650 sqft</td>\n",
       "    </tr>\n",
       "    <tr>\n",
       "      <th>104</th>\n",
       "      <td>117</td>\n",
       "      <td>450 E Waterside Dr UNIT 907, Chicago, IL</td>\n",
       "      <td>Studio · 1 ba · 650 sqft</td>\n",
       "      <td>http://www.zillow.com/homedetails/450-E-Waters...</td>\n",
       "      <td>300000.0</td>\n",
       "      <td>Condo For Sale</td>\n",
       "      <td>60601</td>\n",
       "      <td>Studio · 1 ba · 650 sqft</td>\n",
       "    </tr>\n",
       "    <tr>\n",
       "      <th>399</th>\n",
       "      <td>439</td>\n",
       "      <td>40 E 9th St # GU-39, Chicago, IL</td>\n",
       "      <td>Studio · -- ba · -- sqft</td>\n",
       "      <td>http://www.zillow.com/homedetails/40-E-9th-St-...</td>\n",
       "      <td>38000.0</td>\n",
       "      <td>House For Sale</td>\n",
       "      <td>60605</td>\n",
       "      <td>Studio · -- ba · -- sqft</td>\n",
       "    </tr>\n",
       "    <tr>\n",
       "      <th>400</th>\n",
       "      <td>440</td>\n",
       "      <td>40 E 9th St # GU-23, Chicago, IL</td>\n",
       "      <td>Studio · -- ba · -- sqft</td>\n",
       "      <td>http://www.zillow.com/homedetails/40-E-9th-St-...</td>\n",
       "      <td>38000.0</td>\n",
       "      <td>House For Sale</td>\n",
       "      <td>60605</td>\n",
       "      <td>Studio · -- ba · -- sqft</td>\n",
       "    </tr>\n",
       "    <tr>\n",
       "      <th>437</th>\n",
       "      <td>479</td>\n",
       "      <td>41 E 8th St # P-34, Chicago, IL</td>\n",
       "      <td>Studio · -- ba · -- sqft</td>\n",
       "      <td>http://www.zillow.com/homedetails/41-E-8th-St-...</td>\n",
       "      <td>34000.0</td>\n",
       "      <td>House For Sale</td>\n",
       "      <td>60605</td>\n",
       "      <td>Studio · -- ba · -- sqft</td>\n",
       "    </tr>\n",
       "    <tr>\n",
       "      <th>452</th>\n",
       "      <td>515</td>\n",
       "      <td>1250 S Michigan Ave # P-222, Chicago, IL</td>\n",
       "      <td>Studio · -- ba · -- sqft</td>\n",
       "      <td>http://www.zillow.com/homedetails/1250-S-Michi...</td>\n",
       "      <td>30000.0</td>\n",
       "      <td>House For Sale</td>\n",
       "      <td>60605</td>\n",
       "      <td>Studio · -- ba · -- sqft</td>\n",
       "    </tr>\n",
       "    <tr>\n",
       "      <th>468</th>\n",
       "      <td>533</td>\n",
       "      <td>740 S Federal St APT 802, Chicago, IL</td>\n",
       "      <td>Studio · 1 ba · 658 sqft</td>\n",
       "      <td>http://www.zillow.com/homedetails/740-S-Federa...</td>\n",
       "      <td>124900.0</td>\n",
       "      <td>Condo For Sale</td>\n",
       "      <td>60605</td>\n",
       "      <td>Studio · 1 ba · 658 sqft</td>\n",
       "    </tr>\n",
       "    <tr>\n",
       "      <th>469</th>\n",
       "      <td>534</td>\n",
       "      <td>633 S Plymouth Ct APT 1208, Chicago, IL</td>\n",
       "      <td>Studio · 1 ba · 1,100 sqft</td>\n",
       "      <td>http://www.zillow.com/homedetails/633-S-Plymou...</td>\n",
       "      <td>229900.0</td>\n",
       "      <td>Condo For Sale</td>\n",
       "      <td>60605</td>\n",
       "      <td>Studio · 1 ba · 1,100 sqft</td>\n",
       "    </tr>\n",
       "    <tr>\n",
       "      <th>577</th>\n",
       "      <td>668</td>\n",
       "      <td>611 S Wells St APT 710, Chicago, IL</td>\n",
       "      <td>Studio · 1 ba · 524 sqft</td>\n",
       "      <td>http://www.zillow.com/homedetails/611-S-Wells-...</td>\n",
       "      <td>211000.0</td>\n",
       "      <td>Condo For Sale</td>\n",
       "      <td>60607</td>\n",
       "      <td>Studio · 1 ba · 524 sqft</td>\n",
       "    </tr>\n",
       "    <tr>\n",
       "      <th>601</th>\n",
       "      <td>694</td>\n",
       "      <td>800 S Wells St # M44, Chicago, IL</td>\n",
       "      <td>Studio · -- ba · -- sqft</td>\n",
       "      <td>http://www.zillow.com/homedetails/800-S-Wells-...</td>\n",
       "      <td>50000.0</td>\n",
       "      <td>For Sale by Owner</td>\n",
       "      <td>60607</td>\n",
       "      <td>Studio · -- ba · -- sqft</td>\n",
       "    </tr>\n",
       "    <tr>\n",
       "      <th>627</th>\n",
       "      <td>723</td>\n",
       "      <td>222 S Racine Ave # P-11, Chicago, IL</td>\n",
       "      <td>Studio · -- ba · -- sqft</td>\n",
       "      <td>http://www.zillow.com/homedetails/222-S-Racine...</td>\n",
       "      <td>39900.0</td>\n",
       "      <td>House For Sale</td>\n",
       "      <td>60607</td>\n",
       "      <td>Studio · -- ba · -- sqft</td>\n",
       "    </tr>\n",
       "    <tr>\n",
       "      <th>629</th>\n",
       "      <td>727</td>\n",
       "      <td>235 W Van Buren St # P387T, Chicago, IL</td>\n",
       "      <td>Studio · -- ba · -- sqft</td>\n",
       "      <td>http://www.zillow.com/homedetails/235-W-Van-Bu...</td>\n",
       "      <td>39800.0</td>\n",
       "      <td>House For Sale</td>\n",
       "      <td>60607</td>\n",
       "      <td>Studio · -- ba · -- sqft</td>\n",
       "    </tr>\n",
       "    <tr>\n",
       "      <th>687</th>\n",
       "      <td>802</td>\n",
       "      <td>1000 W 15th St # GU106, Chicago, IL</td>\n",
       "      <td>Studio · -- ba · -- sqft</td>\n",
       "      <td>http://www.zillow.com/homedetails/1000-W-15th-...</td>\n",
       "      <td>30000.0</td>\n",
       "      <td>House For Sale</td>\n",
       "      <td>60608</td>\n",
       "      <td>Studio · -- ba · -- sqft</td>\n",
       "    </tr>\n",
       "    <tr>\n",
       "      <th>738</th>\n",
       "      <td>893</td>\n",
       "      <td>2979 S Archer Ave UNIT 1, Chicago, IL</td>\n",
       "      <td>Studio · -- ba · -- sqft</td>\n",
       "      <td>http://www.zillow.com/homedetails/2979-S-Arche...</td>\n",
       "      <td>799900.0</td>\n",
       "      <td>Apartment For Sale</td>\n",
       "      <td>60608</td>\n",
       "      <td>Studio · -- ba · -- sqft</td>\n",
       "    </tr>\n",
       "    <tr>\n",
       "      <th>746</th>\n",
       "      <td>902</td>\n",
       "      <td>1942 S Carpenter St, Chicago, IL</td>\n",
       "      <td>Studio · -- ba · -- sqft</td>\n",
       "      <td>http://www.zillow.com/homedetails/1942-S-Carpe...</td>\n",
       "      <td>1500000.0</td>\n",
       "      <td>Apartment For Sale</td>\n",
       "      <td>60608</td>\n",
       "      <td>Studio · -- ba · -- sqft</td>\n",
       "    </tr>\n",
       "    <tr>\n",
       "      <th>768</th>\n",
       "      <td>925</td>\n",
       "      <td>4550 S Ashland Ave, Chicago, IL</td>\n",
       "      <td>Studio · -- ba · -- sqft</td>\n",
       "      <td>http://www.zillow.com/homedetails/4550-S-Ashla...</td>\n",
       "      <td>289900.0</td>\n",
       "      <td>Lot/Land For Sale</td>\n",
       "      <td>60609</td>\n",
       "      <td>Studio · -- ba · -- sqft</td>\n",
       "    </tr>\n",
       "    <tr>\n",
       "      <th>794</th>\n",
       "      <td>958</td>\n",
       "      <td>642 W 48th Pl, Chicago, IL</td>\n",
       "      <td>Studio · -- ba · -- sqft</td>\n",
       "      <td>http://www.zillow.com/homedetails/642-W-48th-P...</td>\n",
       "      <td>54900.0</td>\n",
       "      <td>For Sale by Owner</td>\n",
       "      <td>60609</td>\n",
       "      <td>Studio · -- ba · -- sqft</td>\n",
       "    </tr>\n",
       "    <tr>\n",
       "      <th>827</th>\n",
       "      <td>1005</td>\n",
       "      <td>5140 S Union Ave, Chicago, IL</td>\n",
       "      <td>Studio · -- ba · -- sqft</td>\n",
       "      <td>http://www.zillow.com/homedetails/5140-S-Union...</td>\n",
       "      <td>18000.0</td>\n",
       "      <td>For Sale by Owner</td>\n",
       "      <td>60609</td>\n",
       "      <td>Studio · -- ba · -- sqft</td>\n",
       "    </tr>\n",
       "    <tr>\n",
       "      <th>869</th>\n",
       "      <td>1082</td>\n",
       "      <td>1440 N Lake Shore Dr APT 12F, Chicago, IL</td>\n",
       "      <td>Studio · 1 ba · 650 sqft</td>\n",
       "      <td>http://www.zillow.com/homedetails/1440-N-Lake-...</td>\n",
       "      <td>171000.0</td>\n",
       "      <td>Condo For Sale</td>\n",
       "      <td>60610</td>\n",
       "      <td>Studio · 1 ba · 650 sqft</td>\n",
       "    </tr>\n",
       "    <tr>\n",
       "      <th>883</th>\n",
       "      <td>1097</td>\n",
       "      <td>1546 N Orleans St APT 602, Chicago, IL</td>\n",
       "      <td>Studio · 1 ba · 600 sqft</td>\n",
       "      <td>http://www.zillow.com/homedetails/1546-N-Orlea...</td>\n",
       "      <td>215000.0</td>\n",
       "      <td>Condo For Sale</td>\n",
       "      <td>60610</td>\n",
       "      <td>Studio · 1 ba · 600 sqft</td>\n",
       "    </tr>\n",
       "    <tr>\n",
       "      <th>891</th>\n",
       "      <td>1105</td>\n",
       "      <td>1440 N Lake Shore Dr APT 12F, Chicago, IL</td>\n",
       "      <td>Studio · 1 ba · 650 sqft</td>\n",
       "      <td>http://www.zillow.com/homedetails/1440-N-Lake-...</td>\n",
       "      <td>171000.0</td>\n",
       "      <td>Condo For Sale</td>\n",
       "      <td>60610</td>\n",
       "      <td>Studio · 1 ba · 650 sqft</td>\n",
       "    </tr>\n",
       "    <tr>\n",
       "      <th>920</th>\n",
       "      <td>1136</td>\n",
       "      <td>1344 N Dearborn St APT 8E, Chicago, IL</td>\n",
       "      <td>Studio · 1 ba · 625 sqft</td>\n",
       "      <td>http://www.zillow.com/homedetails/1344-N-Dearb...</td>\n",
       "      <td>168000.0</td>\n",
       "      <td>Condo For Sale</td>\n",
       "      <td>60610</td>\n",
       "      <td>Studio · 1 ba · 625 sqft</td>\n",
       "    </tr>\n",
       "    <tr>\n",
       "      <th>950</th>\n",
       "      <td>1167</td>\n",
       "      <td>900 N Kingsbury St APT 880, Chicago, IL</td>\n",
       "      <td>Studio · 1 ba · -- sqft</td>\n",
       "      <td>http://www.zillow.com/homedetails/900-N-Kingsb...</td>\n",
       "      <td>315000.0</td>\n",
       "      <td>Condo For Sale</td>\n",
       "      <td>60610</td>\n",
       "      <td>Studio · 1 ba · -- sqft</td>\n",
       "    </tr>\n",
       "    <tr>\n",
       "      <th>956</th>\n",
       "      <td>1174</td>\n",
       "      <td>1508 N State Pkwy, Chicago, IL</td>\n",
       "      <td>Studio · -- ba · 10,000 sqft</td>\n",
       "      <td>http://www.zillow.com/homedetails/1508-N-State...</td>\n",
       "      <td>6500000.0</td>\n",
       "      <td>Apartment For Sale</td>\n",
       "      <td>60610</td>\n",
       "      <td>Studio · -- ba · 10,000 sqft</td>\n",
       "    </tr>\n",
       "    <tr>\n",
       "      <th>958</th>\n",
       "      <td>1178</td>\n",
       "      <td>1444 N Orleans St # G-24, Chicago, IL</td>\n",
       "      <td>Studio · -- ba · -- sqft</td>\n",
       "      <td>http://www.zillow.com/homedetails/1444-N-Orlea...</td>\n",
       "      <td>16500.0</td>\n",
       "      <td>House For Sale</td>\n",
       "      <td>60610</td>\n",
       "      <td>Studio · -- ba · -- sqft</td>\n",
       "    </tr>\n",
       "    <tr>\n",
       "      <th>981</th>\n",
       "      <td>1214</td>\n",
       "      <td>253 E Delaware Pl APT 10E, Chicago, IL</td>\n",
       "      <td>Studio · 1 ba · 600 sqft</td>\n",
       "      <td>http://www.zillow.com/homedetails/253-E-Delawa...</td>\n",
       "      <td>147000.0</td>\n",
       "      <td>Condo For Sale</td>\n",
       "      <td>60611</td>\n",
       "      <td>Studio · 1 ba · 600 sqft</td>\n",
       "    </tr>\n",
       "    <tr>\n",
       "      <th>982</th>\n",
       "      <td>1215</td>\n",
       "      <td>2 E Oak St APT 2603, Chicago, IL</td>\n",
       "      <td>Studio · 1 ba · 650 sqft</td>\n",
       "      <td>http://www.zillow.com/homedetails/2-E-Oak-St-A...</td>\n",
       "      <td>182000.0</td>\n",
       "      <td>Condo For Sale</td>\n",
       "      <td>60611</td>\n",
       "      <td>Studio · 1 ba · 650 sqft</td>\n",
       "    </tr>\n",
       "    <tr>\n",
       "      <th>984</th>\n",
       "      <td>1217</td>\n",
       "      <td>401 N Wabash Ave # 1712, Chicago, IL</td>\n",
       "      <td>Studio · 1 ba · 604 sqft</td>\n",
       "      <td>http://www.zillow.com/homedetails/401-N-Wabash...</td>\n",
       "      <td>279000.0</td>\n",
       "      <td>Condo For Sale</td>\n",
       "      <td>60611</td>\n",
       "      <td>Studio · 1 ba · 604 sqft</td>\n",
       "    </tr>\n",
       "    <tr>\n",
       "      <th>987</th>\n",
       "      <td>1220</td>\n",
       "      <td>260 E Chestnut St APT 1201, Chicago, IL</td>\n",
       "      <td>Studio · 1 ba · -- sqft</td>\n",
       "      <td>http://www.zillow.com/homedetails/260-E-Chestn...</td>\n",
       "      <td>165000.0</td>\n",
       "      <td>Condo For Sale</td>\n",
       "      <td>60611</td>\n",
       "      <td>Studio · 1 ba · -- sqft</td>\n",
       "    </tr>\n",
       "    <tr>\n",
       "      <th>991</th>\n",
       "      <td>1224</td>\n",
       "      <td>2 E Oak St APT 2204, Chicago, IL</td>\n",
       "      <td>Studio · 1 ba · 500 sqft</td>\n",
       "      <td>http://www.zillow.com/homedetails/2-E-Oak-St-A...</td>\n",
       "      <td>176900.0</td>\n",
       "      <td>Condo For Sale</td>\n",
       "      <td>60611</td>\n",
       "      <td>Studio · 1 ba · 500 sqft</td>\n",
       "    </tr>\n",
       "    <tr>\n",
       "      <th>...</th>\n",
       "      <td>...</td>\n",
       "      <td>...</td>\n",
       "      <td>...</td>\n",
       "      <td>...</td>\n",
       "      <td>...</td>\n",
       "      <td>...</td>\n",
       "      <td>...</td>\n",
       "      <td>...</td>\n",
       "    </tr>\n",
       "    <tr>\n",
       "      <th>2872</th>\n",
       "      <td>4252</td>\n",
       "      <td>6249 W Belmont Ave, Chicago, IL</td>\n",
       "      <td>Studio · 1 ba · 3,000 sqft</td>\n",
       "      <td>http://www.zillow.com/homedetails/6249-W-Belmo...</td>\n",
       "      <td>319900.0</td>\n",
       "      <td>For Sale by Owner</td>\n",
       "      <td>60634</td>\n",
       "      <td>Studio · 1 ba · 3,000 sqft</td>\n",
       "    </tr>\n",
       "    <tr>\n",
       "      <th>2917</th>\n",
       "      <td>4374</td>\n",
       "      <td>5315 W North Ave, Chicago, IL</td>\n",
       "      <td>Studio · 2 ba · 2,000 sqft</td>\n",
       "      <td>http://www.zillow.com/homedetails/5315-W-North...</td>\n",
       "      <td>145000.0</td>\n",
       "      <td>House For Sale</td>\n",
       "      <td>60635</td>\n",
       "      <td>Studio · 2 ba · 2,000 sqft</td>\n",
       "    </tr>\n",
       "    <tr>\n",
       "      <th>2935</th>\n",
       "      <td>4474</td>\n",
       "      <td>1214 W 71st St, Chicago, IL</td>\n",
       "      <td>Studio · -- ba · 900 sqft</td>\n",
       "      <td>http://www.zillow.com/homedetails/1214-W-71st-...</td>\n",
       "      <td>99900.0</td>\n",
       "      <td>Apartment For Sale</td>\n",
       "      <td>60636</td>\n",
       "      <td>Studio · -- ba · 900 sqft</td>\n",
       "    </tr>\n",
       "    <tr>\n",
       "      <th>2972</th>\n",
       "      <td>4546</td>\n",
       "      <td>6515 S Hermitage Ave # 2, Chicago, IL</td>\n",
       "      <td>Studio · -- ba · -- sqft</td>\n",
       "      <td>http://www.zillow.com/homedetails/6515-S-Hermi...</td>\n",
       "      <td>15000.0</td>\n",
       "      <td>For Sale by Owner</td>\n",
       "      <td>60636</td>\n",
       "      <td>Studio · -- ba · -- sqft</td>\n",
       "    </tr>\n",
       "    <tr>\n",
       "      <th>2973</th>\n",
       "      <td>4547</td>\n",
       "      <td>6521 S Hermitage Ave # 1, Chicago, IL</td>\n",
       "      <td>Studio · -- ba · -- sqft</td>\n",
       "      <td>http://www.zillow.com/homedetails/6521-S-Hermi...</td>\n",
       "      <td>17000.0</td>\n",
       "      <td>For Sale by Owner</td>\n",
       "      <td>60636</td>\n",
       "      <td>Studio · -- ba · -- sqft</td>\n",
       "    </tr>\n",
       "    <tr>\n",
       "      <th>3028</th>\n",
       "      <td>4717</td>\n",
       "      <td>6430 S Ellis Ave, Chicago, IL</td>\n",
       "      <td>Studio · -- ba · 6,972 sqft</td>\n",
       "      <td>http://www.zillow.com/homedetails/6430-S-Ellis...</td>\n",
       "      <td>549000.0</td>\n",
       "      <td>Apartment For Sale</td>\n",
       "      <td>60637</td>\n",
       "      <td>Studio · -- ba · 6,972 sqft</td>\n",
       "    </tr>\n",
       "    <tr>\n",
       "      <th>3035</th>\n",
       "      <td>4741</td>\n",
       "      <td>6636 S Rhodes Ave, Chicago, IL</td>\n",
       "      <td>Studio · -- ba · -- sqft</td>\n",
       "      <td>http://www.zillow.com/homedetails/6636-S-Rhode...</td>\n",
       "      <td>174000.0</td>\n",
       "      <td>Apartment For Sale</td>\n",
       "      <td>60637</td>\n",
       "      <td>Studio · -- ba · -- sqft</td>\n",
       "    </tr>\n",
       "    <tr>\n",
       "      <th>3060</th>\n",
       "      <td>4775</td>\n",
       "      <td>6253 S Archer Ave, Chicago, IL</td>\n",
       "      <td>Studio · -- ba · -- sqft</td>\n",
       "      <td>http://www.zillow.com/homedetails/6253-S-Arche...</td>\n",
       "      <td>60000.0</td>\n",
       "      <td>For Sale by Owner</td>\n",
       "      <td>60638</td>\n",
       "      <td>Studio · -- ba · -- sqft</td>\n",
       "    </tr>\n",
       "    <tr>\n",
       "      <th>3109</th>\n",
       "      <td>4925</td>\n",
       "      <td>5315 W North Ave, Chicago, IL</td>\n",
       "      <td>Studio · 2 ba · 2,000 sqft</td>\n",
       "      <td>http://www.zillow.com/homedetails/5315-W-North...</td>\n",
       "      <td>145000.0</td>\n",
       "      <td>House For Sale</td>\n",
       "      <td>60639</td>\n",
       "      <td>Studio · 2 ba · 2,000 sqft</td>\n",
       "    </tr>\n",
       "    <tr>\n",
       "      <th>3133</th>\n",
       "      <td>5030</td>\n",
       "      <td>5415 N Sheridan Rd APT 4312, Chicago, IL</td>\n",
       "      <td>Studio · 1 ba · 600 sqft</td>\n",
       "      <td>http://www.zillow.com/homedetails/5415-N-Sheri...</td>\n",
       "      <td>124900.0</td>\n",
       "      <td>Condo For Sale</td>\n",
       "      <td>60640</td>\n",
       "      <td>Studio · 1 ba · 600 sqft</td>\n",
       "    </tr>\n",
       "    <tr>\n",
       "      <th>3142</th>\n",
       "      <td>5039</td>\n",
       "      <td>5415 N Sheridan Rd APT 5112, Chicago, IL</td>\n",
       "      <td>Studio · 1 ba · 600 sqft</td>\n",
       "      <td>http://www.zillow.com/homedetails/5415-N-Sheri...</td>\n",
       "      <td>110000.0</td>\n",
       "      <td>Condo For Sale</td>\n",
       "      <td>60640</td>\n",
       "      <td>Studio · 1 ba · 600 sqft</td>\n",
       "    </tr>\n",
       "    <tr>\n",
       "      <th>3201</th>\n",
       "      <td>5105</td>\n",
       "      <td>816 W Lakeside Pl APT 3S, Chicago, IL</td>\n",
       "      <td>Studio · 1 ba · -- sqft</td>\n",
       "      <td>http://www.zillow.com/homedetails/816-W-Lakesi...</td>\n",
       "      <td>109900.0</td>\n",
       "      <td>Condo For Sale</td>\n",
       "      <td>60640</td>\n",
       "      <td>Studio · 1 ba · -- sqft</td>\n",
       "    </tr>\n",
       "    <tr>\n",
       "      <th>3218</th>\n",
       "      <td>5126</td>\n",
       "      <td>5455 N Sheridan Rd APT 3409, Chicago, IL</td>\n",
       "      <td>Studio · 1 ba · 600 sqft</td>\n",
       "      <td>http://www.zillow.com/homedetails/5455-N-Sheri...</td>\n",
       "      <td>137000.0</td>\n",
       "      <td>Condo For Sale</td>\n",
       "      <td>60640</td>\n",
       "      <td>Studio · 1 ba · 600 sqft</td>\n",
       "    </tr>\n",
       "    <tr>\n",
       "      <th>3374</th>\n",
       "      <td>5459</td>\n",
       "      <td>4915 W Jackson Blvd, Chicago, IL</td>\n",
       "      <td>Studio · 3 ba · -- sqft</td>\n",
       "      <td>http://www.zillow.com/homedetails/4915-W-Jacks...</td>\n",
       "      <td>94900.0</td>\n",
       "      <td>Apartment For Sale</td>\n",
       "      <td>60644</td>\n",
       "      <td>Studio · 3 ba · -- sqft</td>\n",
       "    </tr>\n",
       "    <tr>\n",
       "      <th>3448</th>\n",
       "      <td>5640</td>\n",
       "      <td>2639 W Fitch Ave APT 2, Chicago, IL</td>\n",
       "      <td>Studio · -- ba · 75,000 sqft</td>\n",
       "      <td>http://www.zillow.com/homedetails/2639-W-Fitch...</td>\n",
       "      <td>114000.0</td>\n",
       "      <td>Condo For Sale</td>\n",
       "      <td>60645</td>\n",
       "      <td>Studio · -- ba · 75,000 sqft</td>\n",
       "    </tr>\n",
       "    <tr>\n",
       "      <th>3589</th>\n",
       "      <td>5825</td>\n",
       "      <td>6154 N Melvina Ave, Chicago, IL</td>\n",
       "      <td>Studio · -- ba · 1 sqft</td>\n",
       "      <td>http://www.zillow.com/homedetails/6154-N-Melvi...</td>\n",
       "      <td>519900.0</td>\n",
       "      <td>Apartment For Sale</td>\n",
       "      <td>60646</td>\n",
       "      <td>Studio · -- ba · 1 sqft</td>\n",
       "    </tr>\n",
       "    <tr>\n",
       "      <th>3597</th>\n",
       "      <td>5833</td>\n",
       "      <td>5338 W Devon Ave, Chicago, IL</td>\n",
       "      <td>Studio · -- ba · -- sqft</td>\n",
       "      <td>http://www.zillow.com/homedetails/5338-W-Devon...</td>\n",
       "      <td>550000.0</td>\n",
       "      <td>Lot/Land For Sale</td>\n",
       "      <td>60646</td>\n",
       "      <td>Studio · -- ba · -- sqft</td>\n",
       "    </tr>\n",
       "    <tr>\n",
       "      <th>3636</th>\n",
       "      <td>5877</td>\n",
       "      <td>1736 N Kedzie Ave, Chicago, IL</td>\n",
       "      <td>Studio · -- ba · -- sqft</td>\n",
       "      <td>http://www.zillow.com/homedetails/1736-N-Kedzi...</td>\n",
       "      <td>350000.0</td>\n",
       "      <td>Lot/Land For Sale</td>\n",
       "      <td>60647</td>\n",
       "      <td>Studio · -- ba · -- sqft</td>\n",
       "    </tr>\n",
       "    <tr>\n",
       "      <th>3656</th>\n",
       "      <td>5900</td>\n",
       "      <td>2040 W Webster Ave STE 1, Chicago, IL</td>\n",
       "      <td>Studio · -- ba · -- sqft</td>\n",
       "      <td>http://www.zillow.com/homedetails/2040-W-Webst...</td>\n",
       "      <td>148000.0</td>\n",
       "      <td>House For Sale</td>\n",
       "      <td>60647</td>\n",
       "      <td>Studio · -- ba · -- sqft</td>\n",
       "    </tr>\n",
       "    <tr>\n",
       "      <th>3716</th>\n",
       "      <td>5986</td>\n",
       "      <td>7145 S Ridgeland Ave, Chicago, IL</td>\n",
       "      <td>Studio · -- ba · 1,312 sqft</td>\n",
       "      <td>http://www.zillow.com/homedetails/7145-S-Ridge...</td>\n",
       "      <td>233500.0</td>\n",
       "      <td>Lot/Land For Sale</td>\n",
       "      <td>60649</td>\n",
       "      <td>Studio · -- ba · 1,312 sqft</td>\n",
       "    </tr>\n",
       "    <tr>\n",
       "      <th>3785</th>\n",
       "      <td>6168</td>\n",
       "      <td>1133 N Waller Ave, Chicago, IL</td>\n",
       "      <td>Studio · -- ba · -- sqft</td>\n",
       "      <td>http://www.zillow.com/homedetails/1133-N-Walle...</td>\n",
       "      <td>14990.0</td>\n",
       "      <td>Lot/Land For Sale</td>\n",
       "      <td>60651</td>\n",
       "      <td>Studio · -- ba · -- sqft</td>\n",
       "    </tr>\n",
       "    <tr>\n",
       "      <th>4111</th>\n",
       "      <td>6844</td>\n",
       "      <td>2828 N Burling St APT 306, Chicago, IL</td>\n",
       "      <td>Studio · 1 ba · -- sqft</td>\n",
       "      <td>http://www.zillow.com/homedetails/2828-N-Burli...</td>\n",
       "      <td>169900.0</td>\n",
       "      <td>Condo For Sale</td>\n",
       "      <td>60657</td>\n",
       "      <td>Studio · 1 ba · -- sqft</td>\n",
       "    </tr>\n",
       "    <tr>\n",
       "      <th>4225</th>\n",
       "      <td>6984</td>\n",
       "      <td>6128 N Seeley Ave # 1AN, Chicago, IL</td>\n",
       "      <td>Studio · 1 ba · 650 sqft</td>\n",
       "      <td>http://www.zillow.com/homedetails/6128-N-Seele...</td>\n",
       "      <td>69900.0</td>\n",
       "      <td>Condo For Sale</td>\n",
       "      <td>60659</td>\n",
       "      <td>Studio · 1 ba · 650 sqft</td>\n",
       "    </tr>\n",
       "    <tr>\n",
       "      <th>4364</th>\n",
       "      <td>7168</td>\n",
       "      <td>5858 N Sheridan Rd APT 706, Chicago, IL</td>\n",
       "      <td>Studio · 1 ba · -- sqft</td>\n",
       "      <td>http://www.zillow.com/homedetails/5858-N-Sheri...</td>\n",
       "      <td>89000.0</td>\n",
       "      <td>Condo For Sale</td>\n",
       "      <td>60660</td>\n",
       "      <td>Studio · 1 ba · -- sqft</td>\n",
       "    </tr>\n",
       "    <tr>\n",
       "      <th>4411</th>\n",
       "      <td>7222</td>\n",
       "      <td>125 S Jefferson St # P-98, Chicago, IL</td>\n",
       "      <td>Studio · -- ba · -- sqft</td>\n",
       "      <td>http://www.zillow.com/homedetails/125-S-Jeffer...</td>\n",
       "      <td>32000.0</td>\n",
       "      <td>House For Sale</td>\n",
       "      <td>60661</td>\n",
       "      <td>Studio · -- ba · -- sqft</td>\n",
       "    </tr>\n",
       "    <tr>\n",
       "      <th>4435</th>\n",
       "      <td>7255</td>\n",
       "      <td>125 S Jefferson St # P-98, Chicago, IL</td>\n",
       "      <td>Studio · -- ba · -- sqft</td>\n",
       "      <td>http://www.zillow.com/homedetails/125-S-Jeffer...</td>\n",
       "      <td>32000.0</td>\n",
       "      <td>House For Sale</td>\n",
       "      <td>60661</td>\n",
       "      <td>Studio · -- ba · -- sqft</td>\n",
       "    </tr>\n",
       "    <tr>\n",
       "      <th>4453</th>\n",
       "      <td>7280</td>\n",
       "      <td>125 S Jefferson St # P-98, Chicago, IL</td>\n",
       "      <td>Studio · -- ba · -- sqft</td>\n",
       "      <td>http://www.zillow.com/homedetails/125-S-Jeffer...</td>\n",
       "      <td>32000.0</td>\n",
       "      <td>House For Sale</td>\n",
       "      <td>60661</td>\n",
       "      <td>Studio · -- ba · -- sqft</td>\n",
       "    </tr>\n",
       "    <tr>\n",
       "      <th>4476</th>\n",
       "      <td>7308</td>\n",
       "      <td>125 S Jefferson St # P-98, Chicago, IL</td>\n",
       "      <td>Studio · -- ba · -- sqft</td>\n",
       "      <td>http://www.zillow.com/homedetails/125-S-Jeffer...</td>\n",
       "      <td>32000.0</td>\n",
       "      <td>House For Sale</td>\n",
       "      <td>60661</td>\n",
       "      <td>Studio · -- ba · -- sqft</td>\n",
       "    </tr>\n",
       "    <tr>\n",
       "      <th>4513</th>\n",
       "      <td>7432</td>\n",
       "      <td>14141 S Tracy Ave, Riverdale, IL</td>\n",
       "      <td>Studio · -- ba · 4,687 sqft</td>\n",
       "      <td>http://www.zillow.com/homedetails/14141-S-Trac...</td>\n",
       "      <td>100000.0</td>\n",
       "      <td>Apartment For Sale</td>\n",
       "      <td>60827</td>\n",
       "      <td>Studio · -- ba · 4,687 sqft</td>\n",
       "    </tr>\n",
       "    <tr>\n",
       "      <th>4550</th>\n",
       "      <td>5</td>\n",
       "      <td>655 W Irving Park Rd APT 5109, Chicago, IL</td>\n",
       "      <td>Studio  1 ba  540 sqft</td>\n",
       "      <td>https://www.zillow.com/homedetails/655-W-Irvin...</td>\n",
       "      <td>147500.0</td>\n",
       "      <td>Condo For Sale</td>\n",
       "      <td>60613</td>\n",
       "      <td>Studio  1 ba  540 sqft</td>\n",
       "    </tr>\n",
       "  </tbody>\n",
       "</table>\n",
       "<p>100 rows × 8 columns</p>\n",
       "</div>"
      ],
      "text/plain": [
       "      index                                     address  \\\n",
       "88      100     400 E Randolph St APT 1311, Chicago, IL   \n",
       "104     117    450 E Waterside Dr UNIT 907, Chicago, IL   \n",
       "399     439            40 E 9th St # GU-39, Chicago, IL   \n",
       "400     440            40 E 9th St # GU-23, Chicago, IL   \n",
       "437     479             41 E 8th St # P-34, Chicago, IL   \n",
       "452     515    1250 S Michigan Ave # P-222, Chicago, IL   \n",
       "468     533       740 S Federal St APT 802, Chicago, IL   \n",
       "469     534     633 S Plymouth Ct APT 1208, Chicago, IL   \n",
       "577     668         611 S Wells St APT 710, Chicago, IL   \n",
       "601     694           800 S Wells St # M44, Chicago, IL   \n",
       "627     723        222 S Racine Ave # P-11, Chicago, IL   \n",
       "629     727     235 W Van Buren St # P387T, Chicago, IL   \n",
       "687     802         1000 W 15th St # GU106, Chicago, IL   \n",
       "738     893       2979 S Archer Ave UNIT 1, Chicago, IL   \n",
       "746     902            1942 S Carpenter St, Chicago, IL   \n",
       "768     925             4550 S Ashland Ave, Chicago, IL   \n",
       "794     958                  642 W 48th Pl, Chicago, IL   \n",
       "827    1005               5140 S Union Ave, Chicago, IL   \n",
       "869    1082   1440 N Lake Shore Dr APT 12F, Chicago, IL   \n",
       "883    1097      1546 N Orleans St APT 602, Chicago, IL   \n",
       "891    1105   1440 N Lake Shore Dr APT 12F, Chicago, IL   \n",
       "920    1136      1344 N Dearborn St APT 8E, Chicago, IL   \n",
       "950    1167     900 N Kingsbury St APT 880, Chicago, IL   \n",
       "956    1174              1508 N State Pkwy, Chicago, IL   \n",
       "958    1178       1444 N Orleans St # G-24, Chicago, IL   \n",
       "981    1214      253 E Delaware Pl APT 10E, Chicago, IL   \n",
       "982    1215            2 E Oak St APT 2603, Chicago, IL   \n",
       "984    1217        401 N Wabash Ave # 1712, Chicago, IL   \n",
       "987    1220     260 E Chestnut St APT 1201, Chicago, IL   \n",
       "991    1224            2 E Oak St APT 2204, Chicago, IL   \n",
       "...     ...                                         ...   \n",
       "2872   4252             6249 W Belmont Ave, Chicago, IL   \n",
       "2917   4374               5315 W North Ave, Chicago, IL   \n",
       "2935   4474                 1214 W 71st St, Chicago, IL   \n",
       "2972   4546       6515 S Hermitage Ave # 2, Chicago, IL   \n",
       "2973   4547       6521 S Hermitage Ave # 1, Chicago, IL   \n",
       "3028   4717               6430 S Ellis Ave, Chicago, IL   \n",
       "3035   4741              6636 S Rhodes Ave, Chicago, IL   \n",
       "3060   4775              6253 S Archer Ave, Chicago, IL   \n",
       "3109   4925               5315 W North Ave, Chicago, IL   \n",
       "3133   5030    5415 N Sheridan Rd APT 4312, Chicago, IL   \n",
       "3142   5039    5415 N Sheridan Rd APT 5112, Chicago, IL   \n",
       "3201   5105       816 W Lakeside Pl APT 3S, Chicago, IL   \n",
       "3218   5126    5455 N Sheridan Rd APT 3409, Chicago, IL   \n",
       "3374   5459            4915 W Jackson Blvd, Chicago, IL   \n",
       "3448   5640         2639 W Fitch Ave APT 2, Chicago, IL   \n",
       "3589   5825             6154 N Melvina Ave, Chicago, IL   \n",
       "3597   5833               5338 W Devon Ave, Chicago, IL   \n",
       "3636   5877              1736 N Kedzie Ave, Chicago, IL   \n",
       "3656   5900       2040 W Webster Ave STE 1, Chicago, IL   \n",
       "3716   5986           7145 S Ridgeland Ave, Chicago, IL   \n",
       "3785   6168              1133 N Waller Ave, Chicago, IL   \n",
       "4111   6844      2828 N Burling St APT 306, Chicago, IL   \n",
       "4225   6984        6128 N Seeley Ave # 1AN, Chicago, IL   \n",
       "4364   7168     5858 N Sheridan Rd APT 706, Chicago, IL   \n",
       "4411   7222      125 S Jefferson St # P-98, Chicago, IL   \n",
       "4435   7255      125 S Jefferson St # P-98, Chicago, IL   \n",
       "4453   7280      125 S Jefferson St # P-98, Chicago, IL   \n",
       "4476   7308      125 S Jefferson St # P-98, Chicago, IL   \n",
       "4513   7432            14141 S Tracy Ave, Riverdale, IL   \n",
       "4550      5  655 W Irving Park Rd APT 5109, Chicago, IL   \n",
       "\n",
       "                          bed_bath  \\\n",
       "88        Studio · 1 ba · 650 sqft   \n",
       "104       Studio · 1 ba · 650 sqft   \n",
       "399       Studio · -- ba · -- sqft   \n",
       "400       Studio · -- ba · -- sqft   \n",
       "437       Studio · -- ba · -- sqft   \n",
       "452       Studio · -- ba · -- sqft   \n",
       "468       Studio · 1 ba · 658 sqft   \n",
       "469     Studio · 1 ba · 1,100 sqft   \n",
       "577       Studio · 1 ba · 524 sqft   \n",
       "601       Studio · -- ba · -- sqft   \n",
       "627       Studio · -- ba · -- sqft   \n",
       "629       Studio · -- ba · -- sqft   \n",
       "687       Studio · -- ba · -- sqft   \n",
       "738       Studio · -- ba · -- sqft   \n",
       "746       Studio · -- ba · -- sqft   \n",
       "768       Studio · -- ba · -- sqft   \n",
       "794       Studio · -- ba · -- sqft   \n",
       "827       Studio · -- ba · -- sqft   \n",
       "869       Studio · 1 ba · 650 sqft   \n",
       "883       Studio · 1 ba · 600 sqft   \n",
       "891       Studio · 1 ba · 650 sqft   \n",
       "920       Studio · 1 ba · 625 sqft   \n",
       "950        Studio · 1 ba · -- sqft   \n",
       "956   Studio · -- ba · 10,000 sqft   \n",
       "958       Studio · -- ba · -- sqft   \n",
       "981       Studio · 1 ba · 600 sqft   \n",
       "982       Studio · 1 ba · 650 sqft   \n",
       "984       Studio · 1 ba · 604 sqft   \n",
       "987        Studio · 1 ba · -- sqft   \n",
       "991       Studio · 1 ba · 500 sqft   \n",
       "...                            ...   \n",
       "2872    Studio · 1 ba · 3,000 sqft   \n",
       "2917    Studio · 2 ba · 2,000 sqft   \n",
       "2935     Studio · -- ba · 900 sqft   \n",
       "2972      Studio · -- ba · -- sqft   \n",
       "2973      Studio · -- ba · -- sqft   \n",
       "3028   Studio · -- ba · 6,972 sqft   \n",
       "3035      Studio · -- ba · -- sqft   \n",
       "3060      Studio · -- ba · -- sqft   \n",
       "3109    Studio · 2 ba · 2,000 sqft   \n",
       "3133      Studio · 1 ba · 600 sqft   \n",
       "3142      Studio · 1 ba · 600 sqft   \n",
       "3201       Studio · 1 ba · -- sqft   \n",
       "3218      Studio · 1 ba · 600 sqft   \n",
       "3374       Studio · 3 ba · -- sqft   \n",
       "3448  Studio · -- ba · 75,000 sqft   \n",
       "3589       Studio · -- ba · 1 sqft   \n",
       "3597      Studio · -- ba · -- sqft   \n",
       "3636      Studio · -- ba · -- sqft   \n",
       "3656      Studio · -- ba · -- sqft   \n",
       "3716   Studio · -- ba · 1,312 sqft   \n",
       "3785      Studio · -- ba · -- sqft   \n",
       "4111       Studio · 1 ba · -- sqft   \n",
       "4225      Studio · 1 ba · 650 sqft   \n",
       "4364       Studio · 1 ba · -- sqft   \n",
       "4411      Studio · -- ba · -- sqft   \n",
       "4435      Studio · -- ba · -- sqft   \n",
       "4453      Studio · -- ba · -- sqft   \n",
       "4476      Studio · -- ba · -- sqft   \n",
       "4513   Studio · -- ba · 4,687 sqft   \n",
       "4550        Studio  1 ba  540 sqft   \n",
       "\n",
       "                                              more_info      price  \\\n",
       "88    http://www.zillow.com/homedetails/400-E-Randol...   320000.0   \n",
       "104   http://www.zillow.com/homedetails/450-E-Waters...   300000.0   \n",
       "399   http://www.zillow.com/homedetails/40-E-9th-St-...    38000.0   \n",
       "400   http://www.zillow.com/homedetails/40-E-9th-St-...    38000.0   \n",
       "437   http://www.zillow.com/homedetails/41-E-8th-St-...    34000.0   \n",
       "452   http://www.zillow.com/homedetails/1250-S-Michi...    30000.0   \n",
       "468   http://www.zillow.com/homedetails/740-S-Federa...   124900.0   \n",
       "469   http://www.zillow.com/homedetails/633-S-Plymou...   229900.0   \n",
       "577   http://www.zillow.com/homedetails/611-S-Wells-...   211000.0   \n",
       "601   http://www.zillow.com/homedetails/800-S-Wells-...    50000.0   \n",
       "627   http://www.zillow.com/homedetails/222-S-Racine...    39900.0   \n",
       "629   http://www.zillow.com/homedetails/235-W-Van-Bu...    39800.0   \n",
       "687   http://www.zillow.com/homedetails/1000-W-15th-...    30000.0   \n",
       "738   http://www.zillow.com/homedetails/2979-S-Arche...   799900.0   \n",
       "746   http://www.zillow.com/homedetails/1942-S-Carpe...  1500000.0   \n",
       "768   http://www.zillow.com/homedetails/4550-S-Ashla...   289900.0   \n",
       "794   http://www.zillow.com/homedetails/642-W-48th-P...    54900.0   \n",
       "827   http://www.zillow.com/homedetails/5140-S-Union...    18000.0   \n",
       "869   http://www.zillow.com/homedetails/1440-N-Lake-...   171000.0   \n",
       "883   http://www.zillow.com/homedetails/1546-N-Orlea...   215000.0   \n",
       "891   http://www.zillow.com/homedetails/1440-N-Lake-...   171000.0   \n",
       "920   http://www.zillow.com/homedetails/1344-N-Dearb...   168000.0   \n",
       "950   http://www.zillow.com/homedetails/900-N-Kingsb...   315000.0   \n",
       "956   http://www.zillow.com/homedetails/1508-N-State...  6500000.0   \n",
       "958   http://www.zillow.com/homedetails/1444-N-Orlea...    16500.0   \n",
       "981   http://www.zillow.com/homedetails/253-E-Delawa...   147000.0   \n",
       "982   http://www.zillow.com/homedetails/2-E-Oak-St-A...   182000.0   \n",
       "984   http://www.zillow.com/homedetails/401-N-Wabash...   279000.0   \n",
       "987   http://www.zillow.com/homedetails/260-E-Chestn...   165000.0   \n",
       "991   http://www.zillow.com/homedetails/2-E-Oak-St-A...   176900.0   \n",
       "...                                                 ...        ...   \n",
       "2872  http://www.zillow.com/homedetails/6249-W-Belmo...   319900.0   \n",
       "2917  http://www.zillow.com/homedetails/5315-W-North...   145000.0   \n",
       "2935  http://www.zillow.com/homedetails/1214-W-71st-...    99900.0   \n",
       "2972  http://www.zillow.com/homedetails/6515-S-Hermi...    15000.0   \n",
       "2973  http://www.zillow.com/homedetails/6521-S-Hermi...    17000.0   \n",
       "3028  http://www.zillow.com/homedetails/6430-S-Ellis...   549000.0   \n",
       "3035  http://www.zillow.com/homedetails/6636-S-Rhode...   174000.0   \n",
       "3060  http://www.zillow.com/homedetails/6253-S-Arche...    60000.0   \n",
       "3109  http://www.zillow.com/homedetails/5315-W-North...   145000.0   \n",
       "3133  http://www.zillow.com/homedetails/5415-N-Sheri...   124900.0   \n",
       "3142  http://www.zillow.com/homedetails/5415-N-Sheri...   110000.0   \n",
       "3201  http://www.zillow.com/homedetails/816-W-Lakesi...   109900.0   \n",
       "3218  http://www.zillow.com/homedetails/5455-N-Sheri...   137000.0   \n",
       "3374  http://www.zillow.com/homedetails/4915-W-Jacks...    94900.0   \n",
       "3448  http://www.zillow.com/homedetails/2639-W-Fitch...   114000.0   \n",
       "3589  http://www.zillow.com/homedetails/6154-N-Melvi...   519900.0   \n",
       "3597  http://www.zillow.com/homedetails/5338-W-Devon...   550000.0   \n",
       "3636  http://www.zillow.com/homedetails/1736-N-Kedzi...   350000.0   \n",
       "3656  http://www.zillow.com/homedetails/2040-W-Webst...   148000.0   \n",
       "3716  http://www.zillow.com/homedetails/7145-S-Ridge...   233500.0   \n",
       "3785  http://www.zillow.com/homedetails/1133-N-Walle...    14990.0   \n",
       "4111  http://www.zillow.com/homedetails/2828-N-Burli...   169900.0   \n",
       "4225  http://www.zillow.com/homedetails/6128-N-Seele...    69900.0   \n",
       "4364  http://www.zillow.com/homedetails/5858-N-Sheri...    89000.0   \n",
       "4411  http://www.zillow.com/homedetails/125-S-Jeffer...    32000.0   \n",
       "4435  http://www.zillow.com/homedetails/125-S-Jeffer...    32000.0   \n",
       "4453  http://www.zillow.com/homedetails/125-S-Jeffer...    32000.0   \n",
       "4476  http://www.zillow.com/homedetails/125-S-Jeffer...    32000.0   \n",
       "4513  http://www.zillow.com/homedetails/14141-S-Trac...   100000.0   \n",
       "4550  https://www.zillow.com/homedetails/655-W-Irvin...   147500.0   \n",
       "\n",
       "                  status zip_code                          beds  \n",
       "88        Condo For Sale    60601      Studio · 1 ba · 650 sqft  \n",
       "104       Condo For Sale    60601      Studio · 1 ba · 650 sqft  \n",
       "399       House For Sale    60605      Studio · -- ba · -- sqft  \n",
       "400       House For Sale    60605      Studio · -- ba · -- sqft  \n",
       "437       House For Sale    60605      Studio · -- ba · -- sqft  \n",
       "452       House For Sale    60605      Studio · -- ba · -- sqft  \n",
       "468       Condo For Sale    60605      Studio · 1 ba · 658 sqft  \n",
       "469       Condo For Sale    60605    Studio · 1 ba · 1,100 sqft  \n",
       "577       Condo For Sale    60607      Studio · 1 ba · 524 sqft  \n",
       "601    For Sale by Owner    60607      Studio · -- ba · -- sqft  \n",
       "627       House For Sale    60607      Studio · -- ba · -- sqft  \n",
       "629       House For Sale    60607      Studio · -- ba · -- sqft  \n",
       "687       House For Sale    60608      Studio · -- ba · -- sqft  \n",
       "738   Apartment For Sale    60608      Studio · -- ba · -- sqft  \n",
       "746   Apartment For Sale    60608      Studio · -- ba · -- sqft  \n",
       "768    Lot/Land For Sale    60609      Studio · -- ba · -- sqft  \n",
       "794    For Sale by Owner    60609      Studio · -- ba · -- sqft  \n",
       "827    For Sale by Owner    60609      Studio · -- ba · -- sqft  \n",
       "869       Condo For Sale    60610      Studio · 1 ba · 650 sqft  \n",
       "883       Condo For Sale    60610      Studio · 1 ba · 600 sqft  \n",
       "891       Condo For Sale    60610      Studio · 1 ba · 650 sqft  \n",
       "920       Condo For Sale    60610      Studio · 1 ba · 625 sqft  \n",
       "950       Condo For Sale    60610       Studio · 1 ba · -- sqft  \n",
       "956   Apartment For Sale    60610  Studio · -- ba · 10,000 sqft  \n",
       "958       House For Sale    60610      Studio · -- ba · -- sqft  \n",
       "981       Condo For Sale    60611      Studio · 1 ba · 600 sqft  \n",
       "982       Condo For Sale    60611      Studio · 1 ba · 650 sqft  \n",
       "984       Condo For Sale    60611      Studio · 1 ba · 604 sqft  \n",
       "987       Condo For Sale    60611       Studio · 1 ba · -- sqft  \n",
       "991       Condo For Sale    60611      Studio · 1 ba · 500 sqft  \n",
       "...                  ...      ...                           ...  \n",
       "2872   For Sale by Owner    60634    Studio · 1 ba · 3,000 sqft  \n",
       "2917      House For Sale    60635    Studio · 2 ba · 2,000 sqft  \n",
       "2935  Apartment For Sale    60636     Studio · -- ba · 900 sqft  \n",
       "2972   For Sale by Owner    60636      Studio · -- ba · -- sqft  \n",
       "2973   For Sale by Owner    60636      Studio · -- ba · -- sqft  \n",
       "3028  Apartment For Sale    60637   Studio · -- ba · 6,972 sqft  \n",
       "3035  Apartment For Sale    60637      Studio · -- ba · -- sqft  \n",
       "3060   For Sale by Owner    60638      Studio · -- ba · -- sqft  \n",
       "3109      House For Sale    60639    Studio · 2 ba · 2,000 sqft  \n",
       "3133      Condo For Sale    60640      Studio · 1 ba · 600 sqft  \n",
       "3142      Condo For Sale    60640      Studio · 1 ba · 600 sqft  \n",
       "3201      Condo For Sale    60640       Studio · 1 ba · -- sqft  \n",
       "3218      Condo For Sale    60640      Studio · 1 ba · 600 sqft  \n",
       "3374  Apartment For Sale    60644       Studio · 3 ba · -- sqft  \n",
       "3448      Condo For Sale    60645  Studio · -- ba · 75,000 sqft  \n",
       "3589  Apartment For Sale    60646       Studio · -- ba · 1 sqft  \n",
       "3597   Lot/Land For Sale    60646      Studio · -- ba · -- sqft  \n",
       "3636   Lot/Land For Sale    60647      Studio · -- ba · -- sqft  \n",
       "3656      House For Sale    60647      Studio · -- ba · -- sqft  \n",
       "3716   Lot/Land For Sale    60649   Studio · -- ba · 1,312 sqft  \n",
       "3785   Lot/Land For Sale    60651      Studio · -- ba · -- sqft  \n",
       "4111      Condo For Sale    60657       Studio · 1 ba · -- sqft  \n",
       "4225      Condo For Sale    60659      Studio · 1 ba · 650 sqft  \n",
       "4364      Condo For Sale    60660       Studio · 1 ba · -- sqft  \n",
       "4411      House For Sale    60661      Studio · -- ba · -- sqft  \n",
       "4435      House For Sale    60661      Studio · -- ba · -- sqft  \n",
       "4453      House For Sale    60661      Studio · -- ba · -- sqft  \n",
       "4476      House For Sale    60661      Studio · -- ba · -- sqft  \n",
       "4513  Apartment For Sale    60827   Studio · -- ba · 4,687 sqft  \n",
       "4550      Condo For Sale    60613        Studio  1 ba  540 sqft  \n",
       "\n",
       "[100 rows x 8 columns]"
      ]
     },
     "execution_count": 562,
     "metadata": {},
     "output_type": "execute_result"
    }
   ],
   "source": [
    "df1[df1['beds'].str.contains('Studio')]"
   ]
  },
  {
   "cell_type": "code",
   "execution_count": 563,
   "metadata": {
    "collapsed": false
   },
   "outputs": [],
   "source": [
    "df1.loc[df1['beds'].str.contains('Studio'), 'beds'] = 0"
   ]
  },
  {
   "cell_type": "code",
   "execution_count": 564,
   "metadata": {
    "collapsed": false
   },
   "outputs": [
    {
     "data": {
      "text/plain": [
       "'http://www.zillow.com/homedetails/8-W-Monroe-St-PL-5-Chicago-IL-60603/2096002760_zpid/'"
      ]
     },
     "execution_count": 564,
     "metadata": {},
     "output_type": "execute_result"
    }
   ],
   "source": [
    "df1['more_info'][209]"
   ]
  },
  {
   "cell_type": "code",
   "execution_count": 565,
   "metadata": {
    "collapsed": false
   },
   "outputs": [
    {
     "data": {
      "text/plain": [
       "'http://www.zillow.com/homedetails/40-E-9th-St-GU-23-Chicago-IL-60605/2095274652_zpid/'"
      ]
     },
     "execution_count": 565,
     "metadata": {},
     "output_type": "execute_result"
    }
   ],
   "source": [
    "df1['more_info'][400]"
   ]
  },
  {
   "cell_type": "code",
   "execution_count": 566,
   "metadata": {
    "collapsed": true
   },
   "outputs": [],
   "source": [
    "#These links above are actually for parking spaces, we will attempt to remove them from the dataset"
   ]
  },
  {
   "cell_type": "code",
   "execution_count": 567,
   "metadata": {
    "collapsed": false
   },
   "outputs": [
    {
     "data": {
      "text/plain": [
       "Condo For Sale        2059\n",
       "House For Sale        1379\n",
       "Apartment For Sale     497\n",
       "Lot/Land For Sale      250\n",
       "For Sale by Owner      167\n",
       "New Construction       156\n",
       "Townhouse For Sale     112\n",
       "Make Me Move®           68\n",
       "Co-op For Sale          20\n",
       "Coming Soon              9\n",
       "Name: status, dtype: int64"
      ]
     },
     "execution_count": 567,
     "metadata": {},
     "output_type": "execute_result"
    }
   ],
   "source": [
    "df1['status'].value_counts()"
   ]
  },
  {
   "cell_type": "code",
   "execution_count": 568,
   "metadata": {
    "collapsed": false
   },
   "outputs": [
    {
     "data": {
      "text/html": [
       "<div>\n",
       "<table border=\"1\" class=\"dataframe\">\n",
       "  <thead>\n",
       "    <tr style=\"text-align: right;\">\n",
       "      <th></th>\n",
       "      <th>index</th>\n",
       "      <th>price</th>\n",
       "    </tr>\n",
       "  </thead>\n",
       "  <tbody>\n",
       "    <tr>\n",
       "      <th>count</th>\n",
       "      <td>250.000000</td>\n",
       "      <td>2.500000e+02</td>\n",
       "    </tr>\n",
       "    <tr>\n",
       "      <th>mean</th>\n",
       "      <td>3060.704000</td>\n",
       "      <td>1.820857e+05</td>\n",
       "    </tr>\n",
       "    <tr>\n",
       "      <th>std</th>\n",
       "      <td>1859.321481</td>\n",
       "      <td>4.751539e+05</td>\n",
       "    </tr>\n",
       "    <tr>\n",
       "      <th>min</th>\n",
       "      <td>236.000000</td>\n",
       "      <td>1.000000e+03</td>\n",
       "    </tr>\n",
       "    <tr>\n",
       "      <th>25%</th>\n",
       "      <td>1449.500000</td>\n",
       "      <td>1.700000e+04</td>\n",
       "    </tr>\n",
       "    <tr>\n",
       "      <th>50%</th>\n",
       "      <td>2947.500000</td>\n",
       "      <td>3.500000e+04</td>\n",
       "    </tr>\n",
       "    <tr>\n",
       "      <th>75%</th>\n",
       "      <td>4099.500000</td>\n",
       "      <td>1.230000e+05</td>\n",
       "    </tr>\n",
       "    <tr>\n",
       "      <th>max</th>\n",
       "      <td>7199.000000</td>\n",
       "      <td>3.449000e+06</td>\n",
       "    </tr>\n",
       "  </tbody>\n",
       "</table>\n",
       "</div>"
      ],
      "text/plain": [
       "             index         price\n",
       "count   250.000000  2.500000e+02\n",
       "mean   3060.704000  1.820857e+05\n",
       "std    1859.321481  4.751539e+05\n",
       "min     236.000000  1.000000e+03\n",
       "25%    1449.500000  1.700000e+04\n",
       "50%    2947.500000  3.500000e+04\n",
       "75%    4099.500000  1.230000e+05\n",
       "max    7199.000000  3.449000e+06"
      ]
     },
     "execution_count": 568,
     "metadata": {},
     "output_type": "execute_result"
    }
   ],
   "source": [
    "df1.loc[df1['status'] == 'Lot/Land For Sale'].describe()"
   ]
  },
  {
   "cell_type": "code",
   "execution_count": 569,
   "metadata": {
    "collapsed": false
   },
   "outputs": [
    {
     "data": {
      "text/plain": [
       "(4467, 8)"
      ]
     },
     "execution_count": 569,
     "metadata": {},
     "output_type": "execute_result"
    }
   ],
   "source": [
    "df1 = df1[df1['status'] != 'Lot/Land For Sale']\n",
    "df1.shape"
   ]
  },
  {
   "cell_type": "code",
   "execution_count": 570,
   "metadata": {
    "collapsed": false
   },
   "outputs": [],
   "source": [
    "df1 = df1.drop_duplicates(['address']).reset_index(drop = True)"
   ]
  },
  {
   "cell_type": "code",
   "execution_count": 571,
   "metadata": {
    "collapsed": false
   },
   "outputs": [
    {
     "data": {
      "text/plain": [
       "(3911, 8)"
      ]
     },
     "execution_count": 571,
     "metadata": {},
     "output_type": "execute_result"
    }
   ],
   "source": [
    "df1.shape"
   ]
  },
  {
   "cell_type": "code",
   "execution_count": 572,
   "metadata": {
    "collapsed": false
   },
   "outputs": [
    {
     "data": {
      "text/html": [
       "<div>\n",
       "<table border=\"1\" class=\"dataframe\">\n",
       "  <thead>\n",
       "    <tr style=\"text-align: right;\">\n",
       "      <th></th>\n",
       "      <th>index</th>\n",
       "      <th>address</th>\n",
       "      <th>bed_bath</th>\n",
       "      <th>more_info</th>\n",
       "      <th>price</th>\n",
       "      <th>status</th>\n",
       "      <th>zip_code</th>\n",
       "      <th>beds</th>\n",
       "    </tr>\n",
       "  </thead>\n",
       "  <tbody>\n",
       "    <tr>\n",
       "      <th>205</th>\n",
       "      <td>439</td>\n",
       "      <td>40 E 9th St # GU-39, Chicago, IL</td>\n",
       "      <td>Studio · -- ba · -- sqft</td>\n",
       "      <td>http://www.zillow.com/homedetails/40-E-9th-St-...</td>\n",
       "      <td>38000.0</td>\n",
       "      <td>House For Sale</td>\n",
       "      <td>60605</td>\n",
       "      <td>0</td>\n",
       "    </tr>\n",
       "    <tr>\n",
       "      <th>206</th>\n",
       "      <td>440</td>\n",
       "      <td>40 E 9th St # GU-23, Chicago, IL</td>\n",
       "      <td>Studio · -- ba · -- sqft</td>\n",
       "      <td>http://www.zillow.com/homedetails/40-E-9th-St-...</td>\n",
       "      <td>38000.0</td>\n",
       "      <td>House For Sale</td>\n",
       "      <td>60605</td>\n",
       "      <td>0</td>\n",
       "    </tr>\n",
       "    <tr>\n",
       "      <th>2409</th>\n",
       "      <td>4485</td>\n",
       "      <td>5733 S Ada St, Chicago, IL</td>\n",
       "      <td>5 Xs · 2 ba · 3,250 sqft</td>\n",
       "      <td>http://www.zillow.com/homedetails/5733-S-Ada-S...</td>\n",
       "      <td>38000.0</td>\n",
       "      <td>House For Sale</td>\n",
       "      <td>60636</td>\n",
       "      <td>5</td>\n",
       "    </tr>\n",
       "  </tbody>\n",
       "</table>\n",
       "</div>"
      ],
      "text/plain": [
       "      index                           address                  bed_bath  \\\n",
       "205     439  40 E 9th St # GU-39, Chicago, IL  Studio · -- ba · -- sqft   \n",
       "206     440  40 E 9th St # GU-23, Chicago, IL  Studio · -- ba · -- sqft   \n",
       "2409   4485        5733 S Ada St, Chicago, IL  5 Xs · 2 ba · 3,250 sqft   \n",
       "\n",
       "                                              more_info    price  \\\n",
       "205   http://www.zillow.com/homedetails/40-E-9th-St-...  38000.0   \n",
       "206   http://www.zillow.com/homedetails/40-E-9th-St-...  38000.0   \n",
       "2409  http://www.zillow.com/homedetails/5733-S-Ada-S...  38000.0   \n",
       "\n",
       "              status zip_code beds  \n",
       "205   House For Sale    60605    0  \n",
       "206   House For Sale    60605    0  \n",
       "2409  House For Sale    60636   5   "
      ]
     },
     "execution_count": 572,
     "metadata": {},
     "output_type": "execute_result"
    }
   ],
   "source": [
    "df1[df1['price'] == 38000]"
   ]
  },
  {
   "cell_type": "code",
   "execution_count": 573,
   "metadata": {
    "collapsed": false
   },
   "outputs": [],
   "source": [
    "df1.drop([205,206], inplace = True)\n",
    "#dropped two parking lots classified as House For Sale"
   ]
  },
  {
   "cell_type": "code",
   "execution_count": 574,
   "metadata": {
    "collapsed": false
   },
   "outputs": [
    {
     "ename": "ValueError",
     "evalue": "Unable to parse string \"-- \" at position 218",
     "output_type": "error",
     "traceback": [
      "\u001b[0;31m---------------------------------------------------------------------------\u001b[0m",
      "\u001b[0;31mValueError\u001b[0m                                Traceback (most recent call last)",
      "\u001b[0;32m<ipython-input-574-7a788fe2cd6e>\u001b[0m in \u001b[0;36m<module>\u001b[0;34m()\u001b[0m\n\u001b[0;32m----> 1\u001b[0;31m \u001b[0mpd\u001b[0m\u001b[0;34m.\u001b[0m\u001b[0mto_numeric\u001b[0m\u001b[0;34m(\u001b[0m\u001b[0mdf1\u001b[0m\u001b[0;34m[\u001b[0m\u001b[0;34m'beds'\u001b[0m\u001b[0;34m]\u001b[0m\u001b[0;34m)\u001b[0m\u001b[0;34m\u001b[0m\u001b[0m\n\u001b[0m",
      "\u001b[0;32m/Users/mattlee/anaconda/lib/python2.7/site-packages/pandas/tools/util.pyc\u001b[0m in \u001b[0;36mto_numeric\u001b[0;34m(arg, errors, downcast)\u001b[0m\n\u001b[1;32m    193\u001b[0m             \u001b[0mcoerce_numeric\u001b[0m \u001b[0;34m=\u001b[0m \u001b[0mFalse\u001b[0m \u001b[0;32mif\u001b[0m \u001b[0merrors\u001b[0m \u001b[0;32min\u001b[0m \u001b[0;34m(\u001b[0m\u001b[0;34m'ignore'\u001b[0m\u001b[0;34m,\u001b[0m \u001b[0;34m'raise'\u001b[0m\u001b[0;34m)\u001b[0m \u001b[0;32melse\u001b[0m \u001b[0mTrue\u001b[0m\u001b[0;34m\u001b[0m\u001b[0m\n\u001b[1;32m    194\u001b[0m             values = lib.maybe_convert_numeric(values, set(),\n\u001b[0;32m--> 195\u001b[0;31m                                                coerce_numeric=coerce_numeric)\n\u001b[0m\u001b[1;32m    196\u001b[0m \u001b[0;34m\u001b[0m\u001b[0m\n\u001b[1;32m    197\u001b[0m     \u001b[0;32mexcept\u001b[0m \u001b[0mException\u001b[0m\u001b[0;34m:\u001b[0m\u001b[0;34m\u001b[0m\u001b[0m\n",
      "\u001b[0;32mpandas/src/inference.pyx\u001b[0m in \u001b[0;36mpandas.lib.maybe_convert_numeric (pandas/lib.c:56097)\u001b[0;34m()\u001b[0m\n",
      "\u001b[0;31mValueError\u001b[0m: Unable to parse string \"-- \" at position 218"
     ]
    }
   ],
   "source": [
    "pd.to_numeric(df1['beds'])"
   ]
  },
  {
   "cell_type": "code",
   "execution_count": 575,
   "metadata": {
    "collapsed": false
   },
   "outputs": [
    {
     "data": {
      "text/html": [
       "<div>\n",
       "<table border=\"1\" class=\"dataframe\">\n",
       "  <thead>\n",
       "    <tr style=\"text-align: right;\">\n",
       "      <th></th>\n",
       "      <th>index</th>\n",
       "      <th>address</th>\n",
       "      <th>bed_bath</th>\n",
       "      <th>more_info</th>\n",
       "      <th>price</th>\n",
       "      <th>status</th>\n",
       "      <th>zip_code</th>\n",
       "      <th>beds</th>\n",
       "    </tr>\n",
       "  </thead>\n",
       "  <tbody>\n",
       "    <tr>\n",
       "      <th>220</th>\n",
       "      <td>454</td>\n",
       "      <td>801 S Plymouth Ct # P209, Chicago, IL</td>\n",
       "      <td>-- Xs · -- ba · -- sqft</td>\n",
       "      <td>http://www.zillow.com/homedetails/801-S-Plymou...</td>\n",
       "      <td>45000.0</td>\n",
       "      <td>House For Sale</td>\n",
       "      <td>60605</td>\n",
       "      <td>--</td>\n",
       "    </tr>\n",
       "    <tr>\n",
       "      <th>721</th>\n",
       "      <td>1269</td>\n",
       "      <td>405 N Wabash Ave # D55, Chicago, IL</td>\n",
       "      <td>-- Xs · -- ba · -- sqft</td>\n",
       "      <td>http://www.zillow.com/homedetails/405-N-Wabash...</td>\n",
       "      <td>55000.0</td>\n",
       "      <td>House For Sale</td>\n",
       "      <td>60611</td>\n",
       "      <td>--</td>\n",
       "    </tr>\n",
       "    <tr>\n",
       "      <th>811</th>\n",
       "      <td>1380</td>\n",
       "      <td>2516-20 W Harrison St, Chicago, IL</td>\n",
       "      <td>-- Xs · -- ba · -- sqft</td>\n",
       "      <td>http://www.zillow.com/homedetails/2516-20-W-Ha...</td>\n",
       "      <td>2985000.0</td>\n",
       "      <td>Apartment For Sale</td>\n",
       "      <td>60612</td>\n",
       "      <td>--</td>\n",
       "    </tr>\n",
       "    <tr>\n",
       "      <th>825</th>\n",
       "      <td>1412</td>\n",
       "      <td>513 N Albany Ave # 0, Chicago, IL</td>\n",
       "      <td>-- Xs · -- ba · -- sqft</td>\n",
       "      <td>http://www.zillow.com/homedetails/513-N-Albany...</td>\n",
       "      <td>28000.0</td>\n",
       "      <td>House For Sale</td>\n",
       "      <td>60612</td>\n",
       "      <td>--</td>\n",
       "    </tr>\n",
       "    <tr>\n",
       "      <th>944</th>\n",
       "      <td>1580</td>\n",
       "      <td>3660 N Lake Shore Dr APT 4209, Chicago, IL</td>\n",
       "      <td>-- Xs · 1 ba · -- sqft</td>\n",
       "      <td>http://www.zillow.com/homedetails/3660-N-Lake-...</td>\n",
       "      <td>175000.0</td>\n",
       "      <td>Condo For Sale</td>\n",
       "      <td>60613</td>\n",
       "      <td>--</td>\n",
       "    </tr>\n",
       "    <tr>\n",
       "      <th>970</th>\n",
       "      <td>1608</td>\n",
       "      <td>3844 N Clark St # P-15, Chicago, IL</td>\n",
       "      <td>-- Xs · -- ba · -- sqft</td>\n",
       "      <td>http://www.zillow.com/homedetails/3844-N-Clark...</td>\n",
       "      <td>25000.0</td>\n",
       "      <td>Make Me Move®</td>\n",
       "      <td>60613</td>\n",
       "      <td>--</td>\n",
       "    </tr>\n",
       "    <tr>\n",
       "      <th>1515</th>\n",
       "      <td>2534</td>\n",
       "      <td>8547 S May St, Chicago, IL</td>\n",
       "      <td>-- Xs · -- ba · -- sqft</td>\n",
       "      <td>http://www.zillow.com/homedetails/8547-S-May-S...</td>\n",
       "      <td>215000.0</td>\n",
       "      <td>Apartment For Sale</td>\n",
       "      <td>60620</td>\n",
       "      <td>--</td>\n",
       "    </tr>\n",
       "    <tr>\n",
       "      <th>1697</th>\n",
       "      <td>2865</td>\n",
       "      <td>2808 S Sawyer Ave # SIGLE-FAM, Chicago, IL</td>\n",
       "      <td>-- Xs · 3 ba · -- sqft</td>\n",
       "      <td>http://www.zillow.com/homedetails/2808-S-Sawye...</td>\n",
       "      <td>55000.0</td>\n",
       "      <td>House For Sale</td>\n",
       "      <td>60623</td>\n",
       "      <td>--</td>\n",
       "    </tr>\n",
       "    <tr>\n",
       "      <th>2059</th>\n",
       "      <td>3622</td>\n",
       "      <td>6557 S Maplewood Ave, Chicago, IL</td>\n",
       "      <td>-- Xs · -- ba · -- sqft</td>\n",
       "      <td>http://www.zillow.com/homedetails/6557-S-Maple...</td>\n",
       "      <td>239900.0</td>\n",
       "      <td>Apartment For Sale</td>\n",
       "      <td>60629</td>\n",
       "      <td>--</td>\n",
       "    </tr>\n",
       "    <tr>\n",
       "      <th>2073</th>\n",
       "      <td>3643</td>\n",
       "      <td>6156 S Washtenaw Ave, Chicago, IL</td>\n",
       "      <td>-- Xs · -- ba · -- sqft</td>\n",
       "      <td>http://www.zillow.com/homedetails/6156-S-Washt...</td>\n",
       "      <td>365000.0</td>\n",
       "      <td>Apartment For Sale</td>\n",
       "      <td>60629</td>\n",
       "      <td>--</td>\n",
       "    </tr>\n",
       "    <tr>\n",
       "      <th>2236</th>\n",
       "      <td>3953</td>\n",
       "      <td>2655 W 47th St, Chicago, IL</td>\n",
       "      <td>-- Xs · -- ba · -- sqft</td>\n",
       "      <td>http://www.zillow.com/homedetails/2655-W-47th-...</td>\n",
       "      <td>399899.0</td>\n",
       "      <td>Apartment For Sale</td>\n",
       "      <td>60632</td>\n",
       "      <td>--</td>\n",
       "    </tr>\n",
       "    <tr>\n",
       "      <th>2318</th>\n",
       "      <td>4214</td>\n",
       "      <td>3904 N Nora Ave, Chicago, IL</td>\n",
       "      <td>-- Xs · -- ba · -- sqft</td>\n",
       "      <td>http://www.zillow.com/homedetails/3904-N-Nora-...</td>\n",
       "      <td>389500.0</td>\n",
       "      <td>Apartment For Sale</td>\n",
       "      <td>60634</td>\n",
       "      <td>--</td>\n",
       "    </tr>\n",
       "    <tr>\n",
       "      <th>2332</th>\n",
       "      <td>4232</td>\n",
       "      <td>7035 1/2 W Addison St, Chicago, IL</td>\n",
       "      <td>-- Xs · -- ba · 1,000 sqft</td>\n",
       "      <td>http://www.zillow.com/homedetails/7035-1-2-W-A...</td>\n",
       "      <td>65000.0</td>\n",
       "      <td>House For Sale</td>\n",
       "      <td>60634</td>\n",
       "      <td>--</td>\n",
       "    </tr>\n",
       "    <tr>\n",
       "      <th>2586</th>\n",
       "      <td>5078</td>\n",
       "      <td>901 W Windsor Ave # P-63, Chicago, IL</td>\n",
       "      <td>-- Xs · -- ba · -- sqft</td>\n",
       "      <td>http://www.zillow.com/homedetails/901-W-Windso...</td>\n",
       "      <td>17500.0</td>\n",
       "      <td>House For Sale</td>\n",
       "      <td>60640</td>\n",
       "      <td>--</td>\n",
       "    </tr>\n",
       "    <tr>\n",
       "      <th>3057</th>\n",
       "      <td>5937</td>\n",
       "      <td>1851 N Winnebago Ave, Chicago, IL</td>\n",
       "      <td>-- Xs · -- ba · -- sqft</td>\n",
       "      <td>http://www.zillow.com/homedetails/1851-N-Winne...</td>\n",
       "      <td>2770000.0</td>\n",
       "      <td>Apartment For Sale</td>\n",
       "      <td>60647</td>\n",
       "      <td>--</td>\n",
       "    </tr>\n",
       "    <tr>\n",
       "      <th>3100</th>\n",
       "      <td>6008</td>\n",
       "      <td>7502 S Kingston Ave, Chicago, IL</td>\n",
       "      <td>-- Xs · -- ba · -- sqft</td>\n",
       "      <td>http://www.zillow.com/homedetails/7502-S-Kings...</td>\n",
       "      <td>750000.0</td>\n",
       "      <td>Apartment For Sale</td>\n",
       "      <td>60649</td>\n",
       "      <td>--</td>\n",
       "    </tr>\n",
       "    <tr>\n",
       "      <th>3337</th>\n",
       "      <td>6685</td>\n",
       "      <td>5200 N Oakview St, Chicago, IL</td>\n",
       "      <td>-- Xs · -- ba · -- sqft</td>\n",
       "      <td>http://www.zillow.com/homedetails/5200-N-Oakvi...</td>\n",
       "      <td>874900.0</td>\n",
       "      <td>Apartment For Sale</td>\n",
       "      <td>60656</td>\n",
       "      <td>--</td>\n",
       "    </tr>\n",
       "    <tr>\n",
       "      <th>3386</th>\n",
       "      <td>6783</td>\n",
       "      <td>8600 W Berwyn Ave, Chicago, IL</td>\n",
       "      <td>-- Xs · -- ba · -- sqft</td>\n",
       "      <td>http://www.zillow.com/homedetails/8600-W-Berwy...</td>\n",
       "      <td>824900.0</td>\n",
       "      <td>Apartment For Sale</td>\n",
       "      <td>60656</td>\n",
       "      <td>--</td>\n",
       "    </tr>\n",
       "  </tbody>\n",
       "</table>\n",
       "</div>"
      ],
      "text/plain": [
       "      index                                     address  \\\n",
       "220     454       801 S Plymouth Ct # P209, Chicago, IL   \n",
       "721    1269         405 N Wabash Ave # D55, Chicago, IL   \n",
       "811    1380          2516-20 W Harrison St, Chicago, IL   \n",
       "825    1412           513 N Albany Ave # 0, Chicago, IL   \n",
       "944    1580  3660 N Lake Shore Dr APT 4209, Chicago, IL   \n",
       "970    1608         3844 N Clark St # P-15, Chicago, IL   \n",
       "1515   2534                  8547 S May St, Chicago, IL   \n",
       "1697   2865  2808 S Sawyer Ave # SIGLE-FAM, Chicago, IL   \n",
       "2059   3622           6557 S Maplewood Ave, Chicago, IL   \n",
       "2073   3643           6156 S Washtenaw Ave, Chicago, IL   \n",
       "2236   3953                 2655 W 47th St, Chicago, IL   \n",
       "2318   4214                3904 N Nora Ave, Chicago, IL   \n",
       "2332   4232          7035 1/2 W Addison St, Chicago, IL   \n",
       "2586   5078       901 W Windsor Ave # P-63, Chicago, IL   \n",
       "3057   5937           1851 N Winnebago Ave, Chicago, IL   \n",
       "3100   6008            7502 S Kingston Ave, Chicago, IL   \n",
       "3337   6685              5200 N Oakview St, Chicago, IL   \n",
       "3386   6783              8600 W Berwyn Ave, Chicago, IL   \n",
       "\n",
       "                        bed_bath  \\\n",
       "220      -- Xs · -- ba · -- sqft   \n",
       "721      -- Xs · -- ba · -- sqft   \n",
       "811      -- Xs · -- ba · -- sqft   \n",
       "825      -- Xs · -- ba · -- sqft   \n",
       "944       -- Xs · 1 ba · -- sqft   \n",
       "970      -- Xs · -- ba · -- sqft   \n",
       "1515     -- Xs · -- ba · -- sqft   \n",
       "1697      -- Xs · 3 ba · -- sqft   \n",
       "2059     -- Xs · -- ba · -- sqft   \n",
       "2073     -- Xs · -- ba · -- sqft   \n",
       "2236     -- Xs · -- ba · -- sqft   \n",
       "2318     -- Xs · -- ba · -- sqft   \n",
       "2332  -- Xs · -- ba · 1,000 sqft   \n",
       "2586     -- Xs · -- ba · -- sqft   \n",
       "3057     -- Xs · -- ba · -- sqft   \n",
       "3100     -- Xs · -- ba · -- sqft   \n",
       "3337     -- Xs · -- ba · -- sqft   \n",
       "3386     -- Xs · -- ba · -- sqft   \n",
       "\n",
       "                                              more_info      price  \\\n",
       "220   http://www.zillow.com/homedetails/801-S-Plymou...    45000.0   \n",
       "721   http://www.zillow.com/homedetails/405-N-Wabash...    55000.0   \n",
       "811   http://www.zillow.com/homedetails/2516-20-W-Ha...  2985000.0   \n",
       "825   http://www.zillow.com/homedetails/513-N-Albany...    28000.0   \n",
       "944   http://www.zillow.com/homedetails/3660-N-Lake-...   175000.0   \n",
       "970   http://www.zillow.com/homedetails/3844-N-Clark...    25000.0   \n",
       "1515  http://www.zillow.com/homedetails/8547-S-May-S...   215000.0   \n",
       "1697  http://www.zillow.com/homedetails/2808-S-Sawye...    55000.0   \n",
       "2059  http://www.zillow.com/homedetails/6557-S-Maple...   239900.0   \n",
       "2073  http://www.zillow.com/homedetails/6156-S-Washt...   365000.0   \n",
       "2236  http://www.zillow.com/homedetails/2655-W-47th-...   399899.0   \n",
       "2318  http://www.zillow.com/homedetails/3904-N-Nora-...   389500.0   \n",
       "2332  http://www.zillow.com/homedetails/7035-1-2-W-A...    65000.0   \n",
       "2586  http://www.zillow.com/homedetails/901-W-Windso...    17500.0   \n",
       "3057  http://www.zillow.com/homedetails/1851-N-Winne...  2770000.0   \n",
       "3100  http://www.zillow.com/homedetails/7502-S-Kings...   750000.0   \n",
       "3337  http://www.zillow.com/homedetails/5200-N-Oakvi...   874900.0   \n",
       "3386  http://www.zillow.com/homedetails/8600-W-Berwy...   824900.0   \n",
       "\n",
       "                  status zip_code beds  \n",
       "220       House For Sale    60605  --   \n",
       "721       House For Sale    60611  --   \n",
       "811   Apartment For Sale    60612  --   \n",
       "825       House For Sale    60612  --   \n",
       "944       Condo For Sale    60613  --   \n",
       "970        Make Me Move®    60613  --   \n",
       "1515  Apartment For Sale    60620  --   \n",
       "1697      House For Sale    60623  --   \n",
       "2059  Apartment For Sale    60629  --   \n",
       "2073  Apartment For Sale    60629  --   \n",
       "2236  Apartment For Sale    60632  --   \n",
       "2318  Apartment For Sale    60634  --   \n",
       "2332      House For Sale    60634  --   \n",
       "2586      House For Sale    60640  --   \n",
       "3057  Apartment For Sale    60647  --   \n",
       "3100  Apartment For Sale    60649  --   \n",
       "3337  Apartment For Sale    60656  --   \n",
       "3386  Apartment For Sale    60656  --   "
      ]
     },
     "execution_count": 575,
     "metadata": {},
     "output_type": "execute_result"
    }
   ],
   "source": [
    "df1[df1['beds'] == '-- ']"
   ]
  },
  {
   "cell_type": "code",
   "execution_count": 576,
   "metadata": {
    "collapsed": false
   },
   "outputs": [],
   "source": [
    "df1 = df1[df1['beds'] != '-- ']"
   ]
  },
  {
   "cell_type": "code",
   "execution_count": 577,
   "metadata": {
    "collapsed": false
   },
   "outputs": [
    {
     "data": {
      "text/html": [
       "<div>\n",
       "<table border=\"1\" class=\"dataframe\">\n",
       "  <thead>\n",
       "    <tr style=\"text-align: right;\">\n",
       "      <th></th>\n",
       "      <th>index</th>\n",
       "      <th>address</th>\n",
       "      <th>bed_bath</th>\n",
       "      <th>more_info</th>\n",
       "      <th>price</th>\n",
       "      <th>status</th>\n",
       "      <th>zip_code</th>\n",
       "      <th>beds</th>\n",
       "    </tr>\n",
       "  </thead>\n",
       "  <tbody>\n",
       "    <tr>\n",
       "      <th>2161</th>\n",
       "      <td>3828</td>\n",
       "      <td>6209 N Nordica Ave, Chicago, IL</td>\n",
       "      <td>6,800 sqft lot</td>\n",
       "      <td>http://www.zillow.com/homedetails/6209-N-Nordi...</td>\n",
       "      <td>299900.0</td>\n",
       "      <td>For Sale by Owner</td>\n",
       "      <td>60631</td>\n",
       "      <td>6,800 sqft lot</td>\n",
       "    </tr>\n",
       "  </tbody>\n",
       "</table>\n",
       "</div>"
      ],
      "text/plain": [
       "      index                          address        bed_bath  \\\n",
       "2161   3828  6209 N Nordica Ave, Chicago, IL  6,800 sqft lot   \n",
       "\n",
       "                                              more_info     price  \\\n",
       "2161  http://www.zillow.com/homedetails/6209-N-Nordi...  299900.0   \n",
       "\n",
       "                 status zip_code            beds  \n",
       "2161  For Sale by Owner    60631  6,800 sqft lot  "
      ]
     },
     "execution_count": 577,
     "metadata": {},
     "output_type": "execute_result"
    }
   ],
   "source": [
    "df1[df1['beds'] == '6,800 sqft lot']"
   ]
  },
  {
   "cell_type": "code",
   "execution_count": 578,
   "metadata": {
    "collapsed": false
   },
   "outputs": [],
   "source": [
    "df1 = df1[df1['beds'] != '6,800 sqft lot']"
   ]
  },
  {
   "cell_type": "code",
   "execution_count": 579,
   "metadata": {
    "collapsed": false
   },
   "outputs": [
    {
     "data": {
      "text/html": [
       "<div>\n",
       "<table border=\"1\" class=\"dataframe\">\n",
       "  <thead>\n",
       "    <tr style=\"text-align: right;\">\n",
       "      <th></th>\n",
       "      <th>index</th>\n",
       "      <th>address</th>\n",
       "      <th>bed_bath</th>\n",
       "      <th>more_info</th>\n",
       "      <th>price</th>\n",
       "      <th>status</th>\n",
       "      <th>zip_code</th>\n",
       "      <th>beds</th>\n",
       "    </tr>\n",
       "  </thead>\n",
       "  <tbody>\n",
       "    <tr>\n",
       "      <th>2428</th>\n",
       "      <td>4534</td>\n",
       "      <td>6409 S Racine Ave, Chicago, IL</td>\n",
       "      <td>3,135 sqft lot</td>\n",
       "      <td>http://www.zillow.com/homedetails/6409-S-Racin...</td>\n",
       "      <td>5000.0</td>\n",
       "      <td>For Sale by Owner</td>\n",
       "      <td>60636</td>\n",
       "      <td>3,135 sqft lot</td>\n",
       "    </tr>\n",
       "  </tbody>\n",
       "</table>\n",
       "</div>"
      ],
      "text/plain": [
       "      index                         address        bed_bath  \\\n",
       "2428   4534  6409 S Racine Ave, Chicago, IL  3,135 sqft lot   \n",
       "\n",
       "                                              more_info   price  \\\n",
       "2428  http://www.zillow.com/homedetails/6409-S-Racin...  5000.0   \n",
       "\n",
       "                 status zip_code            beds  \n",
       "2428  For Sale by Owner    60636  3,135 sqft lot  "
      ]
     },
     "execution_count": 579,
     "metadata": {},
     "output_type": "execute_result"
    }
   ],
   "source": [
    "df1[df1['beds'].str.contains('sqft') == True]"
   ]
  },
  {
   "cell_type": "code",
   "execution_count": 580,
   "metadata": {
    "collapsed": true
   },
   "outputs": [],
   "source": [
    "df1 = df1[df1['beds'] != '3,135 sqft lot']"
   ]
  },
  {
   "cell_type": "code",
   "execution_count": 581,
   "metadata": {
    "collapsed": false
   },
   "outputs": [],
   "source": [
    "df1['beds_int'] = pd.to_numeric(df1['beds'])"
   ]
  },
  {
   "cell_type": "code",
   "execution_count": 582,
   "metadata": {
    "collapsed": false
   },
   "outputs": [
    {
     "data": {
      "text/plain": [
       "index          int64\n",
       "address       object\n",
       "bed_bath      object\n",
       "more_info     object\n",
       "price        float64\n",
       "status        object\n",
       "zip_code      object\n",
       "beds          object\n",
       "beds_int       int64\n",
       "dtype: object"
      ]
     },
     "execution_count": 582,
     "metadata": {},
     "output_type": "execute_result"
    }
   ],
   "source": [
    "df1.dtypes"
   ]
  },
  {
   "cell_type": "code",
   "execution_count": 583,
   "metadata": {
    "collapsed": true
   },
   "outputs": [],
   "source": [
    "df1.drop('beds', axis = 1, inplace = True)"
   ]
  },
  {
   "cell_type": "code",
   "execution_count": 584,
   "metadata": {
    "collapsed": false
   },
   "outputs": [
    {
     "data": {
      "text/plain": [
       "index          int64\n",
       "address       object\n",
       "bed_bath      object\n",
       "more_info     object\n",
       "price        float64\n",
       "status        object\n",
       "zip_code      object\n",
       "beds_int       int64\n",
       "dtype: object"
      ]
     },
     "execution_count": 584,
     "metadata": {},
     "output_type": "execute_result"
    }
   ],
   "source": [
    "df1.dtypes"
   ]
  },
  {
   "cell_type": "code",
   "execution_count": 585,
   "metadata": {
    "collapsed": false
   },
   "outputs": [],
   "source": [
    "df1['baths'] = df1['bed_bath'].apply(lambda x: x.split(' ba')[0][-1])"
   ]
  },
  {
   "cell_type": "code",
   "execution_count": 586,
   "metadata": {
    "collapsed": false
   },
   "outputs": [
    {
     "data": {
      "text/html": [
       "<div>\n",
       "<table border=\"1\" class=\"dataframe\">\n",
       "  <thead>\n",
       "    <tr style=\"text-align: right;\">\n",
       "      <th></th>\n",
       "      <th>index</th>\n",
       "      <th>address</th>\n",
       "      <th>bed_bath</th>\n",
       "      <th>more_info</th>\n",
       "      <th>price</th>\n",
       "      <th>status</th>\n",
       "      <th>zip_code</th>\n",
       "      <th>beds_int</th>\n",
       "      <th>baths</th>\n",
       "    </tr>\n",
       "  </thead>\n",
       "  <tbody>\n",
       "    <tr>\n",
       "      <th>243</th>\n",
       "      <td>479</td>\n",
       "      <td>41 E 8th St # P-34, Chicago, IL</td>\n",
       "      <td>Studio · -- ba · -- sqft</td>\n",
       "      <td>http://www.zillow.com/homedetails/41-E-8th-St-...</td>\n",
       "      <td>34000.0</td>\n",
       "      <td>House For Sale</td>\n",
       "      <td>60605</td>\n",
       "      <td>0</td>\n",
       "      <td>-</td>\n",
       "    </tr>\n",
       "    <tr>\n",
       "      <th>258</th>\n",
       "      <td>515</td>\n",
       "      <td>1250 S Michigan Ave # P-222, Chicago, IL</td>\n",
       "      <td>Studio · -- ba · -- sqft</td>\n",
       "      <td>http://www.zillow.com/homedetails/1250-S-Michi...</td>\n",
       "      <td>30000.0</td>\n",
       "      <td>House For Sale</td>\n",
       "      <td>60605</td>\n",
       "      <td>0</td>\n",
       "      <td>-</td>\n",
       "    </tr>\n",
       "    <tr>\n",
       "      <th>335</th>\n",
       "      <td>694</td>\n",
       "      <td>800 S Wells St # M44, Chicago, IL</td>\n",
       "      <td>Studio · -- ba · -- sqft</td>\n",
       "      <td>http://www.zillow.com/homedetails/800-S-Wells-...</td>\n",
       "      <td>50000.0</td>\n",
       "      <td>For Sale by Owner</td>\n",
       "      <td>60607</td>\n",
       "      <td>0</td>\n",
       "      <td>-</td>\n",
       "    </tr>\n",
       "    <tr>\n",
       "      <th>361</th>\n",
       "      <td>723</td>\n",
       "      <td>222 S Racine Ave # P-11, Chicago, IL</td>\n",
       "      <td>Studio · -- ba · -- sqft</td>\n",
       "      <td>http://www.zillow.com/homedetails/222-S-Racine...</td>\n",
       "      <td>39900.0</td>\n",
       "      <td>House For Sale</td>\n",
       "      <td>60607</td>\n",
       "      <td>0</td>\n",
       "      <td>-</td>\n",
       "    </tr>\n",
       "    <tr>\n",
       "      <th>363</th>\n",
       "      <td>727</td>\n",
       "      <td>235 W Van Buren St # P387T, Chicago, IL</td>\n",
       "      <td>Studio · -- ba · -- sqft</td>\n",
       "      <td>http://www.zillow.com/homedetails/235-W-Van-Bu...</td>\n",
       "      <td>39800.0</td>\n",
       "      <td>House For Sale</td>\n",
       "      <td>60607</td>\n",
       "      <td>0</td>\n",
       "      <td>-</td>\n",
       "    </tr>\n",
       "    <tr>\n",
       "      <th>381</th>\n",
       "      <td>758</td>\n",
       "      <td>1224 W Van Buren St, Chicago, IL</td>\n",
       "      <td>2 Xs · -- ba · 1,043 sqft</td>\n",
       "      <td>http://www.zillow.com/homedetails/1224-W-Van-B...</td>\n",
       "      <td>270000.0</td>\n",
       "      <td>House For Sale</td>\n",
       "      <td>60607</td>\n",
       "      <td>2</td>\n",
       "      <td>-</td>\n",
       "    </tr>\n",
       "    <tr>\n",
       "      <th>419</th>\n",
       "      <td>802</td>\n",
       "      <td>1000 W 15th St # GU106, Chicago, IL</td>\n",
       "      <td>Studio · -- ba · -- sqft</td>\n",
       "      <td>http://www.zillow.com/homedetails/1000-W-15th-...</td>\n",
       "      <td>30000.0</td>\n",
       "      <td>House For Sale</td>\n",
       "      <td>60608</td>\n",
       "      <td>0</td>\n",
       "      <td>-</td>\n",
       "    </tr>\n",
       "    <tr>\n",
       "      <th>461</th>\n",
       "      <td>893</td>\n",
       "      <td>2979 S Archer Ave UNIT 1, Chicago, IL</td>\n",
       "      <td>Studio · -- ba · -- sqft</td>\n",
       "      <td>http://www.zillow.com/homedetails/2979-S-Arche...</td>\n",
       "      <td>799900.0</td>\n",
       "      <td>Apartment For Sale</td>\n",
       "      <td>60608</td>\n",
       "      <td>0</td>\n",
       "      <td>-</td>\n",
       "    </tr>\n",
       "    <tr>\n",
       "      <th>469</th>\n",
       "      <td>902</td>\n",
       "      <td>1942 S Carpenter St, Chicago, IL</td>\n",
       "      <td>Studio · -- ba · -- sqft</td>\n",
       "      <td>http://www.zillow.com/homedetails/1942-S-Carpe...</td>\n",
       "      <td>1500000.0</td>\n",
       "      <td>Apartment For Sale</td>\n",
       "      <td>60608</td>\n",
       "      <td>0</td>\n",
       "      <td>-</td>\n",
       "    </tr>\n",
       "    <tr>\n",
       "      <th>486</th>\n",
       "      <td>923</td>\n",
       "      <td>3300 S Bell Ave, Chicago, IL</td>\n",
       "      <td>7 Xs · -- ba · -- sqft</td>\n",
       "      <td>http://www.zillow.com/homedetails/3300-S-Bell-...</td>\n",
       "      <td>235000.0</td>\n",
       "      <td>Condo For Sale</td>\n",
       "      <td>60608</td>\n",
       "      <td>7</td>\n",
       "      <td>-</td>\n",
       "    </tr>\n",
       "    <tr>\n",
       "      <th>510</th>\n",
       "      <td>958</td>\n",
       "      <td>642 W 48th Pl, Chicago, IL</td>\n",
       "      <td>Studio · -- ba · -- sqft</td>\n",
       "      <td>http://www.zillow.com/homedetails/642-W-48th-P...</td>\n",
       "      <td>54900.0</td>\n",
       "      <td>For Sale by Owner</td>\n",
       "      <td>60609</td>\n",
       "      <td>0</td>\n",
       "      <td>-</td>\n",
       "    </tr>\n",
       "    <tr>\n",
       "      <th>538</th>\n",
       "      <td>1005</td>\n",
       "      <td>5140 S Union Ave, Chicago, IL</td>\n",
       "      <td>Studio · -- ba · -- sqft</td>\n",
       "      <td>http://www.zillow.com/homedetails/5140-S-Union...</td>\n",
       "      <td>18000.0</td>\n",
       "      <td>For Sale by Owner</td>\n",
       "      <td>60609</td>\n",
       "      <td>0</td>\n",
       "      <td>-</td>\n",
       "    </tr>\n",
       "    <tr>\n",
       "      <th>644</th>\n",
       "      <td>1169</td>\n",
       "      <td>1516 N Lake Shore Dr, Chicago, IL</td>\n",
       "      <td>10 Xs · -- ba · 12,000 sqft</td>\n",
       "      <td>http://www.zillow.com/homedetails/1516-N-Lake-...</td>\n",
       "      <td>13000000.0</td>\n",
       "      <td>House For Sale</td>\n",
       "      <td>60610</td>\n",
       "      <td>10</td>\n",
       "      <td>-</td>\n",
       "    </tr>\n",
       "    <tr>\n",
       "      <th>648</th>\n",
       "      <td>1174</td>\n",
       "      <td>1508 N State Pkwy, Chicago, IL</td>\n",
       "      <td>Studio · -- ba · 10,000 sqft</td>\n",
       "      <td>http://www.zillow.com/homedetails/1508-N-State...</td>\n",
       "      <td>6500000.0</td>\n",
       "      <td>Apartment For Sale</td>\n",
       "      <td>60610</td>\n",
       "      <td>0</td>\n",
       "      <td>-</td>\n",
       "    </tr>\n",
       "    <tr>\n",
       "      <th>650</th>\n",
       "      <td>1178</td>\n",
       "      <td>1444 N Orleans St # G-24, Chicago, IL</td>\n",
       "      <td>Studio · -- ba · -- sqft</td>\n",
       "      <td>http://www.zillow.com/homedetails/1444-N-Orlea...</td>\n",
       "      <td>16500.0</td>\n",
       "      <td>House For Sale</td>\n",
       "      <td>60610</td>\n",
       "      <td>0</td>\n",
       "      <td>-</td>\n",
       "    </tr>\n",
       "    <tr>\n",
       "      <th>799</th>\n",
       "      <td>1355</td>\n",
       "      <td>2703 W Polk St, Chicago, IL</td>\n",
       "      <td>4 Xs · -- ba · -- sqft</td>\n",
       "      <td>http://www.zillow.com/homedetails/2703-W-Polk-...</td>\n",
       "      <td>149000.0</td>\n",
       "      <td>Apartment For Sale</td>\n",
       "      <td>60612</td>\n",
       "      <td>4</td>\n",
       "      <td>-</td>\n",
       "    </tr>\n",
       "    <tr>\n",
       "      <th>826</th>\n",
       "      <td>1415</td>\n",
       "      <td>2342 W Jackson Blvd, Chicago, IL</td>\n",
       "      <td>6 Xs · -- ba · -- sqft</td>\n",
       "      <td>http://www.zillow.com/homedetails/2342-W-Jacks...</td>\n",
       "      <td>249000.0</td>\n",
       "      <td>Condo For Sale</td>\n",
       "      <td>60612</td>\n",
       "      <td>6</td>\n",
       "      <td>-</td>\n",
       "    </tr>\n",
       "    <tr>\n",
       "      <th>839</th>\n",
       "      <td>1455</td>\n",
       "      <td>3125 W Arthington St, Chicago, IL</td>\n",
       "      <td>Studio · -- ba · -- sqft</td>\n",
       "      <td>http://www.zillow.com/homedetails/3125-W-Arthi...</td>\n",
       "      <td>109900.0</td>\n",
       "      <td>Apartment For Sale</td>\n",
       "      <td>60612</td>\n",
       "      <td>0</td>\n",
       "      <td>-</td>\n",
       "    </tr>\n",
       "    <tr>\n",
       "      <th>1046</th>\n",
       "      <td>1708</td>\n",
       "      <td>2700 N Halsted St APT 205, Chicago, IL</td>\n",
       "      <td>Studio · -- ba · -- sqft</td>\n",
       "      <td>http://www.zillow.com/homedetails/2700-N-Halst...</td>\n",
       "      <td>173000.0</td>\n",
       "      <td>For Sale by Owner</td>\n",
       "      <td>60614</td>\n",
       "      <td>0</td>\n",
       "      <td>-</td>\n",
       "    </tr>\n",
       "    <tr>\n",
       "      <th>1061</th>\n",
       "      <td>1723</td>\n",
       "      <td>2252 N Geneva Ter, Chicago, IL</td>\n",
       "      <td>9 Xs · -- ba · -- sqft</td>\n",
       "      <td>http://www.zillow.com/homedetails/2252-N-Genev...</td>\n",
       "      <td>1499000.0</td>\n",
       "      <td>Apartment For Sale</td>\n",
       "      <td>60614</td>\n",
       "      <td>9</td>\n",
       "      <td>-</td>\n",
       "    </tr>\n",
       "    <tr>\n",
       "      <th>1084</th>\n",
       "      <td>1747</td>\n",
       "      <td>1434 W Wrightwood Ave, Chicago, IL</td>\n",
       "      <td>Studio · -- ba · 1,500 sqft</td>\n",
       "      <td>http://www.zillow.com/homedetails/1434-W-Wrigh...</td>\n",
       "      <td>500000.0</td>\n",
       "      <td>For Sale by Owner</td>\n",
       "      <td>60614</td>\n",
       "      <td>0</td>\n",
       "      <td>-</td>\n",
       "    </tr>\n",
       "    <tr>\n",
       "      <th>1165</th>\n",
       "      <td>1906</td>\n",
       "      <td>1861 S Canal St, Chicago, IL</td>\n",
       "      <td>Studio · -- ba · -- sqft</td>\n",
       "      <td>http://www.zillow.com/homedetails/1861-S-Canal...</td>\n",
       "      <td>7100000.0</td>\n",
       "      <td>House For Sale</td>\n",
       "      <td>60616</td>\n",
       "      <td>0</td>\n",
       "      <td>-</td>\n",
       "    </tr>\n",
       "    <tr>\n",
       "      <th>1213</th>\n",
       "      <td>2003</td>\n",
       "      <td>2243 S Wentworth Ave, Chicago, IL</td>\n",
       "      <td>Studio · -- ba · -- sqft</td>\n",
       "      <td>http://www.zillow.com/homedetails/2243-S-Wentw...</td>\n",
       "      <td>1550000.0</td>\n",
       "      <td>Apartment For Sale</td>\n",
       "      <td>60616</td>\n",
       "      <td>0</td>\n",
       "      <td>-</td>\n",
       "    </tr>\n",
       "    <tr>\n",
       "      <th>1234</th>\n",
       "      <td>2026</td>\n",
       "      <td>8509 S Exchange Ave, Chicago, IL</td>\n",
       "      <td>5 Xs · -- ba · 1,391 sqft</td>\n",
       "      <td>http://www.zillow.com/homedetails/8509-S-Excha...</td>\n",
       "      <td>119900.0</td>\n",
       "      <td>Condo For Sale</td>\n",
       "      <td>60617</td>\n",
       "      <td>5</td>\n",
       "      <td>-</td>\n",
       "    </tr>\n",
       "    <tr>\n",
       "      <th>1274</th>\n",
       "      <td>2114</td>\n",
       "      <td>8801 S Stony Island Ave, Chicago, IL</td>\n",
       "      <td>Studio · -- ba · -- sqft</td>\n",
       "      <td>http://www.zillow.com/homedetails/8801-S-Stony...</td>\n",
       "      <td>475000.0</td>\n",
       "      <td>House For Sale</td>\n",
       "      <td>60617</td>\n",
       "      <td>0</td>\n",
       "      <td>-</td>\n",
       "    </tr>\n",
       "    <tr>\n",
       "      <th>1400</th>\n",
       "      <td>2294</td>\n",
       "      <td>3017 N Troy St, Chicago, IL</td>\n",
       "      <td>5 Xs · -- ba · -- sqft</td>\n",
       "      <td>http://www.zillow.com/homedetails/3017-N-Troy-...</td>\n",
       "      <td>549900.0</td>\n",
       "      <td>House For Sale</td>\n",
       "      <td>60618</td>\n",
       "      <td>5</td>\n",
       "      <td>-</td>\n",
       "    </tr>\n",
       "    <tr>\n",
       "      <th>1433</th>\n",
       "      <td>2351</td>\n",
       "      <td>7132 S University Ave, Chicago, IL</td>\n",
       "      <td>4 Xs · -- ba · -- sqft</td>\n",
       "      <td>http://www.zillow.com/homedetails/7132-S-Unive...</td>\n",
       "      <td>180000.0</td>\n",
       "      <td>Condo For Sale</td>\n",
       "      <td>60619</td>\n",
       "      <td>4</td>\n",
       "      <td>-</td>\n",
       "    </tr>\n",
       "    <tr>\n",
       "      <th>1438</th>\n",
       "      <td>2374</td>\n",
       "      <td>7334 S Wabash Ave, Chicago, IL</td>\n",
       "      <td>4 Xs · -- ba · -- sqft</td>\n",
       "      <td>http://www.zillow.com/homedetails/7334-S-Wabas...</td>\n",
       "      <td>89900.0</td>\n",
       "      <td>Apartment For Sale</td>\n",
       "      <td>60619</td>\n",
       "      <td>4</td>\n",
       "      <td>-</td>\n",
       "    </tr>\n",
       "    <tr>\n",
       "      <th>1460</th>\n",
       "      <td>2408</td>\n",
       "      <td>1308 E 72nd St, Chicago, IL</td>\n",
       "      <td>Studio · -- ba · -- sqft</td>\n",
       "      <td>http://www.zillow.com/homedetails/1308-E-72nd-...</td>\n",
       "      <td>17000.0</td>\n",
       "      <td>For Sale by Owner</td>\n",
       "      <td>60619</td>\n",
       "      <td>0</td>\n",
       "      <td>-</td>\n",
       "    </tr>\n",
       "    <tr>\n",
       "      <th>1478</th>\n",
       "      <td>2451</td>\n",
       "      <td>8618 S Carpenter St, Chicago, IL</td>\n",
       "      <td>5 Xs · -- ba · -- sqft</td>\n",
       "      <td>http://www.zillow.com/homedetails/8618-S-Carpe...</td>\n",
       "      <td>169000.0</td>\n",
       "      <td>Condo For Sale</td>\n",
       "      <td>60620</td>\n",
       "      <td>5</td>\n",
       "      <td>-</td>\n",
       "    </tr>\n",
       "    <tr>\n",
       "      <th>...</th>\n",
       "      <td>...</td>\n",
       "      <td>...</td>\n",
       "      <td>...</td>\n",
       "      <td>...</td>\n",
       "      <td>...</td>\n",
       "      <td>...</td>\n",
       "      <td>...</td>\n",
       "      <td>...</td>\n",
       "      <td>...</td>\n",
       "    </tr>\n",
       "    <tr>\n",
       "      <th>1745</th>\n",
       "      <td>3008</td>\n",
       "      <td>3602 W Lexington St, Chicago, IL</td>\n",
       "      <td>4 Xs · -- ba · 1 sqft</td>\n",
       "      <td>http://www.zillow.com/homedetails/3602-W-Lexin...</td>\n",
       "      <td>220000.0</td>\n",
       "      <td>Condo For Sale</td>\n",
       "      <td>60624</td>\n",
       "      <td>4</td>\n",
       "      <td>-</td>\n",
       "    </tr>\n",
       "    <tr>\n",
       "      <th>1775</th>\n",
       "      <td>3101</td>\n",
       "      <td>3852 W Monroe St, Chicago, IL</td>\n",
       "      <td>6 Xs · -- ba · -- sqft</td>\n",
       "      <td>http://www.zillow.com/homedetails/3852-W-Monro...</td>\n",
       "      <td>77900.0</td>\n",
       "      <td>Apartment For Sale</td>\n",
       "      <td>60624</td>\n",
       "      <td>6</td>\n",
       "      <td>-</td>\n",
       "    </tr>\n",
       "    <tr>\n",
       "      <th>1802</th>\n",
       "      <td>3147</td>\n",
       "      <td>4951 N Troy St, Chicago, IL</td>\n",
       "      <td>8 Xs · -- ba · 3,462 sqft</td>\n",
       "      <td>http://www.zillow.com/homedetails/4951-N-Troy-...</td>\n",
       "      <td>575000.0</td>\n",
       "      <td>Condo For Sale</td>\n",
       "      <td>60625</td>\n",
       "      <td>8</td>\n",
       "      <td>-</td>\n",
       "    </tr>\n",
       "    <tr>\n",
       "      <th>2054</th>\n",
       "      <td>3615</td>\n",
       "      <td>6827 S Artesian Ave, Chicago, IL</td>\n",
       "      <td>Studio · -- ba · -- sqft</td>\n",
       "      <td>http://www.zillow.com/homedetails/6827-S-Artes...</td>\n",
       "      <td>290000.0</td>\n",
       "      <td>Apartment For Sale</td>\n",
       "      <td>60629</td>\n",
       "      <td>0</td>\n",
       "      <td>-</td>\n",
       "    </tr>\n",
       "    <tr>\n",
       "      <th>2058</th>\n",
       "      <td>3620</td>\n",
       "      <td>2654 W 59th St, Chicago, IL</td>\n",
       "      <td>Studio · -- ba · -- sqft</td>\n",
       "      <td>http://www.zillow.com/homedetails/2654-W-59th-...</td>\n",
       "      <td>220000.0</td>\n",
       "      <td>House For Sale</td>\n",
       "      <td>60629</td>\n",
       "      <td>0</td>\n",
       "      <td>-</td>\n",
       "    </tr>\n",
       "    <tr>\n",
       "      <th>2074</th>\n",
       "      <td>3644</td>\n",
       "      <td>4211 W 60th St, Chicago, IL</td>\n",
       "      <td>3 Xs · -- ba · -- sqft</td>\n",
       "      <td>http://www.zillow.com/homedetails/4211-W-60th-...</td>\n",
       "      <td>179873.0</td>\n",
       "      <td>Apartment For Sale</td>\n",
       "      <td>60629</td>\n",
       "      <td>3</td>\n",
       "      <td>-</td>\n",
       "    </tr>\n",
       "    <tr>\n",
       "      <th>2200</th>\n",
       "      <td>3907</td>\n",
       "      <td>6933 W Imlay St, Chicago, IL</td>\n",
       "      <td>4 Xs · -- ba · 1 sqft</td>\n",
       "      <td>http://www.zillow.com/homedetails/6933-W-Imlay...</td>\n",
       "      <td>307400.0</td>\n",
       "      <td>Condo For Sale</td>\n",
       "      <td>60631</td>\n",
       "      <td>4</td>\n",
       "      <td>-</td>\n",
       "    </tr>\n",
       "    <tr>\n",
       "      <th>2365</th>\n",
       "      <td>4335</td>\n",
       "      <td>4307 W Drummond Pl, Chicago, IL</td>\n",
       "      <td>6 Xs · -- ba · -- sqft</td>\n",
       "      <td>http://www.zillow.com/homedetails/4307-W-Drumm...</td>\n",
       "      <td>389900.0</td>\n",
       "      <td>Apartment For Sale</td>\n",
       "      <td>60635</td>\n",
       "      <td>6</td>\n",
       "      <td>-</td>\n",
       "    </tr>\n",
       "    <tr>\n",
       "      <th>2366</th>\n",
       "      <td>4336</td>\n",
       "      <td>5225 W Altgeld St, Chicago, IL</td>\n",
       "      <td>6 Xs · -- ba · -- sqft</td>\n",
       "      <td>http://www.zillow.com/homedetails/5225-W-Altge...</td>\n",
       "      <td>389900.0</td>\n",
       "      <td>Apartment For Sale</td>\n",
       "      <td>60635</td>\n",
       "      <td>6</td>\n",
       "      <td>-</td>\n",
       "    </tr>\n",
       "    <tr>\n",
       "      <th>2400</th>\n",
       "      <td>4474</td>\n",
       "      <td>1214 W 71st St, Chicago, IL</td>\n",
       "      <td>Studio · -- ba · 900 sqft</td>\n",
       "      <td>http://www.zillow.com/homedetails/1214-W-71st-...</td>\n",
       "      <td>99900.0</td>\n",
       "      <td>Apartment For Sale</td>\n",
       "      <td>60636</td>\n",
       "      <td>0</td>\n",
       "      <td>-</td>\n",
       "    </tr>\n",
       "    <tr>\n",
       "      <th>2418</th>\n",
       "      <td>4502</td>\n",
       "      <td>1235 W Garfield Blvd, Chicago, IL</td>\n",
       "      <td>4 Xs · -- ba · -- sqft</td>\n",
       "      <td>http://www.zillow.com/homedetails/1235-W-Garfi...</td>\n",
       "      <td>39990.0</td>\n",
       "      <td>Apartment For Sale</td>\n",
       "      <td>60636</td>\n",
       "      <td>4</td>\n",
       "      <td>-</td>\n",
       "    </tr>\n",
       "    <tr>\n",
       "      <th>2432</th>\n",
       "      <td>4546</td>\n",
       "      <td>6515 S Hermitage Ave # 2, Chicago, IL</td>\n",
       "      <td>Studio · -- ba · -- sqft</td>\n",
       "      <td>http://www.zillow.com/homedetails/6515-S-Hermi...</td>\n",
       "      <td>15000.0</td>\n",
       "      <td>For Sale by Owner</td>\n",
       "      <td>60636</td>\n",
       "      <td>0</td>\n",
       "      <td>-</td>\n",
       "    </tr>\n",
       "    <tr>\n",
       "      <th>2433</th>\n",
       "      <td>4547</td>\n",
       "      <td>6521 S Hermitage Ave # 1, Chicago, IL</td>\n",
       "      <td>Studio · -- ba · -- sqft</td>\n",
       "      <td>http://www.zillow.com/homedetails/6521-S-Hermi...</td>\n",
       "      <td>17000.0</td>\n",
       "      <td>For Sale by Owner</td>\n",
       "      <td>60636</td>\n",
       "      <td>0</td>\n",
       "      <td>-</td>\n",
       "    </tr>\n",
       "    <tr>\n",
       "      <th>2481</th>\n",
       "      <td>4717</td>\n",
       "      <td>6430 S Ellis Ave, Chicago, IL</td>\n",
       "      <td>Studio · -- ba · 6,972 sqft</td>\n",
       "      <td>http://www.zillow.com/homedetails/6430-S-Ellis...</td>\n",
       "      <td>549000.0</td>\n",
       "      <td>Apartment For Sale</td>\n",
       "      <td>60637</td>\n",
       "      <td>0</td>\n",
       "      <td>-</td>\n",
       "    </tr>\n",
       "    <tr>\n",
       "      <th>2488</th>\n",
       "      <td>4741</td>\n",
       "      <td>6636 S Rhodes Ave, Chicago, IL</td>\n",
       "      <td>Studio · -- ba · -- sqft</td>\n",
       "      <td>http://www.zillow.com/homedetails/6636-S-Rhode...</td>\n",
       "      <td>174000.0</td>\n",
       "      <td>Apartment For Sale</td>\n",
       "      <td>60637</td>\n",
       "      <td>0</td>\n",
       "      <td>-</td>\n",
       "    </tr>\n",
       "    <tr>\n",
       "      <th>2511</th>\n",
       "      <td>4775</td>\n",
       "      <td>6253 S Archer Ave, Chicago, IL</td>\n",
       "      <td>Studio · -- ba · -- sqft</td>\n",
       "      <td>http://www.zillow.com/homedetails/6253-S-Arche...</td>\n",
       "      <td>60000.0</td>\n",
       "      <td>For Sale by Owner</td>\n",
       "      <td>60638</td>\n",
       "      <td>0</td>\n",
       "      <td>-</td>\n",
       "    </tr>\n",
       "    <tr>\n",
       "      <th>2763</th>\n",
       "      <td>5448</td>\n",
       "      <td>162 N La Crosse Ave, Chicago, IL</td>\n",
       "      <td>4 Xs · -- ba · -- sqft</td>\n",
       "      <td>http://www.zillow.com/homedetails/162-N-La-Cro...</td>\n",
       "      <td>65000.0</td>\n",
       "      <td>Apartment For Sale</td>\n",
       "      <td>60644</td>\n",
       "      <td>4</td>\n",
       "      <td>-</td>\n",
       "    </tr>\n",
       "    <tr>\n",
       "      <th>2764</th>\n",
       "      <td>5450</td>\n",
       "      <td>4626 W Huron St, Chicago, IL</td>\n",
       "      <td>4 Xs · -- ba · -- sqft</td>\n",
       "      <td>http://www.zillow.com/homedetails/4626-W-Huron...</td>\n",
       "      <td>52000.0</td>\n",
       "      <td>Apartment For Sale</td>\n",
       "      <td>60644</td>\n",
       "      <td>4</td>\n",
       "      <td>-</td>\n",
       "    </tr>\n",
       "    <tr>\n",
       "      <th>2802</th>\n",
       "      <td>5578</td>\n",
       "      <td>2634 W Lunt Ave, Chicago, IL</td>\n",
       "      <td>6 Xs · -- ba · 4,200 sqft</td>\n",
       "      <td>http://www.zillow.com/homedetails/2634-W-Lunt-...</td>\n",
       "      <td>499000.0</td>\n",
       "      <td>Apartment For Sale</td>\n",
       "      <td>60645</td>\n",
       "      <td>6</td>\n",
       "      <td>-</td>\n",
       "    </tr>\n",
       "    <tr>\n",
       "      <th>2824</th>\n",
       "      <td>5640</td>\n",
       "      <td>2639 W Fitch Ave APT 2, Chicago, IL</td>\n",
       "      <td>Studio · -- ba · 75,000 sqft</td>\n",
       "      <td>http://www.zillow.com/homedetails/2639-W-Fitch...</td>\n",
       "      <td>114000.0</td>\n",
       "      <td>Condo For Sale</td>\n",
       "      <td>60645</td>\n",
       "      <td>0</td>\n",
       "      <td>-</td>\n",
       "    </tr>\n",
       "    <tr>\n",
       "      <th>2840</th>\n",
       "      <td>5666</td>\n",
       "      <td>2000 W Birchwood Ave, Chicago, IL</td>\n",
       "      <td>2 Xs · -- ba · -- sqft</td>\n",
       "      <td>http://www.zillow.com/homedetails/2000-W-Birch...</td>\n",
       "      <td>2699900.0</td>\n",
       "      <td>Apartment For Sale</td>\n",
       "      <td>60645</td>\n",
       "      <td>2</td>\n",
       "      <td>-</td>\n",
       "    </tr>\n",
       "    <tr>\n",
       "      <th>2962</th>\n",
       "      <td>5825</td>\n",
       "      <td>6154 N Melvina Ave, Chicago, IL</td>\n",
       "      <td>Studio · -- ba · 1 sqft</td>\n",
       "      <td>http://www.zillow.com/homedetails/6154-N-Melvi...</td>\n",
       "      <td>519900.0</td>\n",
       "      <td>Apartment For Sale</td>\n",
       "      <td>60646</td>\n",
       "      <td>0</td>\n",
       "      <td>-</td>\n",
       "    </tr>\n",
       "    <tr>\n",
       "      <th>3026</th>\n",
       "      <td>5900</td>\n",
       "      <td>2040 W Webster Ave STE 1, Chicago, IL</td>\n",
       "      <td>Studio · -- ba · -- sqft</td>\n",
       "      <td>http://www.zillow.com/homedetails/2040-W-Webst...</td>\n",
       "      <td>148000.0</td>\n",
       "      <td>House For Sale</td>\n",
       "      <td>60647</td>\n",
       "      <td>0</td>\n",
       "      <td>-</td>\n",
       "    </tr>\n",
       "    <tr>\n",
       "      <th>3094</th>\n",
       "      <td>5999</td>\n",
       "      <td>7250 S East End Ave, Chicago, IL</td>\n",
       "      <td>4 Xs · -- ba · -- sqft</td>\n",
       "      <td>http://www.zillow.com/homedetails/7250-S-East-...</td>\n",
       "      <td>199900.0</td>\n",
       "      <td>Apartment For Sale</td>\n",
       "      <td>60649</td>\n",
       "      <td>4</td>\n",
       "      <td>-</td>\n",
       "    </tr>\n",
       "    <tr>\n",
       "      <th>3130</th>\n",
       "      <td>6127</td>\n",
       "      <td>918 N Lawndale Ave, Chicago, IL</td>\n",
       "      <td>8 Xs · -- ba · -- sqft</td>\n",
       "      <td>http://www.zillow.com/homedetails/918-N-Lawnda...</td>\n",
       "      <td>235000.0</td>\n",
       "      <td>Apartment For Sale</td>\n",
       "      <td>60651</td>\n",
       "      <td>8</td>\n",
       "      <td>-</td>\n",
       "    </tr>\n",
       "    <tr>\n",
       "      <th>3232</th>\n",
       "      <td>6498</td>\n",
       "      <td>4631 S Evans Ave, Chicago, IL</td>\n",
       "      <td>6 Xs · -- ba · -- sqft</td>\n",
       "      <td>http://www.zillow.com/homedetails/4631-S-Evans...</td>\n",
       "      <td>130000.0</td>\n",
       "      <td>Condo For Sale</td>\n",
       "      <td>60653</td>\n",
       "      <td>6</td>\n",
       "      <td>-</td>\n",
       "    </tr>\n",
       "    <tr>\n",
       "      <th>3234</th>\n",
       "      <td>6503</td>\n",
       "      <td>3556 S King Dr, Chicago, IL</td>\n",
       "      <td>4 Xs · -- ba · -- sqft</td>\n",
       "      <td>http://www.zillow.com/homedetails/3556-S-King-...</td>\n",
       "      <td>279000.0</td>\n",
       "      <td>Condo For Sale</td>\n",
       "      <td>60653</td>\n",
       "      <td>4</td>\n",
       "      <td>-</td>\n",
       "    </tr>\n",
       "    <tr>\n",
       "      <th>3680</th>\n",
       "      <td>7222</td>\n",
       "      <td>125 S Jefferson St # P-98, Chicago, IL</td>\n",
       "      <td>Studio · -- ba · -- sqft</td>\n",
       "      <td>http://www.zillow.com/homedetails/125-S-Jeffer...</td>\n",
       "      <td>32000.0</td>\n",
       "      <td>House For Sale</td>\n",
       "      <td>60661</td>\n",
       "      <td>0</td>\n",
       "      <td>-</td>\n",
       "    </tr>\n",
       "    <tr>\n",
       "      <th>3713</th>\n",
       "      <td>7380</td>\n",
       "      <td>13831 S Wentworth Ave, Chicago, IL</td>\n",
       "      <td>1 X · -- ba · 900 sqft</td>\n",
       "      <td>http://www.zillow.com/homedetails/13831-S-Went...</td>\n",
       "      <td>11750.0</td>\n",
       "      <td>House For Sale</td>\n",
       "      <td>60827</td>\n",
       "      <td>1</td>\n",
       "      <td>-</td>\n",
       "    </tr>\n",
       "    <tr>\n",
       "      <th>3716</th>\n",
       "      <td>7432</td>\n",
       "      <td>14141 S Tracy Ave, Riverdale, IL</td>\n",
       "      <td>Studio · -- ba · 4,687 sqft</td>\n",
       "      <td>http://www.zillow.com/homedetails/14141-S-Trac...</td>\n",
       "      <td>100000.0</td>\n",
       "      <td>Apartment For Sale</td>\n",
       "      <td>60827</td>\n",
       "      <td>0</td>\n",
       "      <td>-</td>\n",
       "    </tr>\n",
       "  </tbody>\n",
       "</table>\n",
       "<p>74 rows × 9 columns</p>\n",
       "</div>"
      ],
      "text/plain": [
       "      index                                   address  \\\n",
       "243     479           41 E 8th St # P-34, Chicago, IL   \n",
       "258     515  1250 S Michigan Ave # P-222, Chicago, IL   \n",
       "335     694         800 S Wells St # M44, Chicago, IL   \n",
       "361     723      222 S Racine Ave # P-11, Chicago, IL   \n",
       "363     727   235 W Van Buren St # P387T, Chicago, IL   \n",
       "381     758          1224 W Van Buren St, Chicago, IL   \n",
       "419     802       1000 W 15th St # GU106, Chicago, IL   \n",
       "461     893     2979 S Archer Ave UNIT 1, Chicago, IL   \n",
       "469     902          1942 S Carpenter St, Chicago, IL   \n",
       "486     923              3300 S Bell Ave, Chicago, IL   \n",
       "510     958                642 W 48th Pl, Chicago, IL   \n",
       "538    1005             5140 S Union Ave, Chicago, IL   \n",
       "644    1169         1516 N Lake Shore Dr, Chicago, IL   \n",
       "648    1174            1508 N State Pkwy, Chicago, IL   \n",
       "650    1178     1444 N Orleans St # G-24, Chicago, IL   \n",
       "799    1355               2703 W Polk St, Chicago, IL   \n",
       "826    1415          2342 W Jackson Blvd, Chicago, IL   \n",
       "839    1455         3125 W Arthington St, Chicago, IL   \n",
       "1046   1708    2700 N Halsted St APT 205, Chicago, IL   \n",
       "1061   1723            2252 N Geneva Ter, Chicago, IL   \n",
       "1084   1747        1434 W Wrightwood Ave, Chicago, IL   \n",
       "1165   1906              1861 S Canal St, Chicago, IL   \n",
       "1213   2003         2243 S Wentworth Ave, Chicago, IL   \n",
       "1234   2026          8509 S Exchange Ave, Chicago, IL   \n",
       "1274   2114      8801 S Stony Island Ave, Chicago, IL   \n",
       "1400   2294               3017 N Troy St, Chicago, IL   \n",
       "1433   2351        7132 S University Ave, Chicago, IL   \n",
       "1438   2374            7334 S Wabash Ave, Chicago, IL   \n",
       "1460   2408               1308 E 72nd St, Chicago, IL   \n",
       "1478   2451          8618 S Carpenter St, Chicago, IL   \n",
       "...     ...                                       ...   \n",
       "1745   3008          3602 W Lexington St, Chicago, IL   \n",
       "1775   3101             3852 W Monroe St, Chicago, IL   \n",
       "1802   3147               4951 N Troy St, Chicago, IL   \n",
       "2054   3615          6827 S Artesian Ave, Chicago, IL   \n",
       "2058   3620               2654 W 59th St, Chicago, IL   \n",
       "2074   3644               4211 W 60th St, Chicago, IL   \n",
       "2200   3907              6933 W Imlay St, Chicago, IL   \n",
       "2365   4335           4307 W Drummond Pl, Chicago, IL   \n",
       "2366   4336            5225 W Altgeld St, Chicago, IL   \n",
       "2400   4474               1214 W 71st St, Chicago, IL   \n",
       "2418   4502         1235 W Garfield Blvd, Chicago, IL   \n",
       "2432   4546     6515 S Hermitage Ave # 2, Chicago, IL   \n",
       "2433   4547     6521 S Hermitage Ave # 1, Chicago, IL   \n",
       "2481   4717             6430 S Ellis Ave, Chicago, IL   \n",
       "2488   4741            6636 S Rhodes Ave, Chicago, IL   \n",
       "2511   4775            6253 S Archer Ave, Chicago, IL   \n",
       "2763   5448          162 N La Crosse Ave, Chicago, IL   \n",
       "2764   5450              4626 W Huron St, Chicago, IL   \n",
       "2802   5578              2634 W Lunt Ave, Chicago, IL   \n",
       "2824   5640       2639 W Fitch Ave APT 2, Chicago, IL   \n",
       "2840   5666         2000 W Birchwood Ave, Chicago, IL   \n",
       "2962   5825           6154 N Melvina Ave, Chicago, IL   \n",
       "3026   5900     2040 W Webster Ave STE 1, Chicago, IL   \n",
       "3094   5999          7250 S East End Ave, Chicago, IL   \n",
       "3130   6127           918 N Lawndale Ave, Chicago, IL   \n",
       "3232   6498             4631 S Evans Ave, Chicago, IL   \n",
       "3234   6503               3556 S King Dr, Chicago, IL   \n",
       "3680   7222    125 S Jefferson St # P-98, Chicago, IL   \n",
       "3713   7380        13831 S Wentworth Ave, Chicago, IL   \n",
       "3716   7432          14141 S Tracy Ave, Riverdale, IL   \n",
       "\n",
       "                          bed_bath  \\\n",
       "243       Studio · -- ba · -- sqft   \n",
       "258       Studio · -- ba · -- sqft   \n",
       "335       Studio · -- ba · -- sqft   \n",
       "361       Studio · -- ba · -- sqft   \n",
       "363       Studio · -- ba · -- sqft   \n",
       "381      2 Xs · -- ba · 1,043 sqft   \n",
       "419       Studio · -- ba · -- sqft   \n",
       "461       Studio · -- ba · -- sqft   \n",
       "469       Studio · -- ba · -- sqft   \n",
       "486         7 Xs · -- ba · -- sqft   \n",
       "510       Studio · -- ba · -- sqft   \n",
       "538       Studio · -- ba · -- sqft   \n",
       "644    10 Xs · -- ba · 12,000 sqft   \n",
       "648   Studio · -- ba · 10,000 sqft   \n",
       "650       Studio · -- ba · -- sqft   \n",
       "799         4 Xs · -- ba · -- sqft   \n",
       "826         6 Xs · -- ba · -- sqft   \n",
       "839       Studio · -- ba · -- sqft   \n",
       "1046      Studio · -- ba · -- sqft   \n",
       "1061        9 Xs · -- ba · -- sqft   \n",
       "1084   Studio · -- ba · 1,500 sqft   \n",
       "1165      Studio · -- ba · -- sqft   \n",
       "1213      Studio · -- ba · -- sqft   \n",
       "1234     5 Xs · -- ba · 1,391 sqft   \n",
       "1274      Studio · -- ba · -- sqft   \n",
       "1400        5 Xs · -- ba · -- sqft   \n",
       "1433        4 Xs · -- ba · -- sqft   \n",
       "1438        4 Xs · -- ba · -- sqft   \n",
       "1460      Studio · -- ba · -- sqft   \n",
       "1478        5 Xs · -- ba · -- sqft   \n",
       "...                            ...   \n",
       "1745         4 Xs · -- ba · 1 sqft   \n",
       "1775        6 Xs · -- ba · -- sqft   \n",
       "1802     8 Xs · -- ba · 3,462 sqft   \n",
       "2054      Studio · -- ba · -- sqft   \n",
       "2058      Studio · -- ba · -- sqft   \n",
       "2074        3 Xs · -- ba · -- sqft   \n",
       "2200         4 Xs · -- ba · 1 sqft   \n",
       "2365        6 Xs · -- ba · -- sqft   \n",
       "2366        6 Xs · -- ba · -- sqft   \n",
       "2400     Studio · -- ba · 900 sqft   \n",
       "2418        4 Xs · -- ba · -- sqft   \n",
       "2432      Studio · -- ba · -- sqft   \n",
       "2433      Studio · -- ba · -- sqft   \n",
       "2481   Studio · -- ba · 6,972 sqft   \n",
       "2488      Studio · -- ba · -- sqft   \n",
       "2511      Studio · -- ba · -- sqft   \n",
       "2763        4 Xs · -- ba · -- sqft   \n",
       "2764        4 Xs · -- ba · -- sqft   \n",
       "2802     6 Xs · -- ba · 4,200 sqft   \n",
       "2824  Studio · -- ba · 75,000 sqft   \n",
       "2840        2 Xs · -- ba · -- sqft   \n",
       "2962       Studio · -- ba · 1 sqft   \n",
       "3026      Studio · -- ba · -- sqft   \n",
       "3094        4 Xs · -- ba · -- sqft   \n",
       "3130        8 Xs · -- ba · -- sqft   \n",
       "3232        6 Xs · -- ba · -- sqft   \n",
       "3234        4 Xs · -- ba · -- sqft   \n",
       "3680      Studio · -- ba · -- sqft   \n",
       "3713        1 X · -- ba · 900 sqft   \n",
       "3716   Studio · -- ba · 4,687 sqft   \n",
       "\n",
       "                                              more_info       price  \\\n",
       "243   http://www.zillow.com/homedetails/41-E-8th-St-...     34000.0   \n",
       "258   http://www.zillow.com/homedetails/1250-S-Michi...     30000.0   \n",
       "335   http://www.zillow.com/homedetails/800-S-Wells-...     50000.0   \n",
       "361   http://www.zillow.com/homedetails/222-S-Racine...     39900.0   \n",
       "363   http://www.zillow.com/homedetails/235-W-Van-Bu...     39800.0   \n",
       "381   http://www.zillow.com/homedetails/1224-W-Van-B...    270000.0   \n",
       "419   http://www.zillow.com/homedetails/1000-W-15th-...     30000.0   \n",
       "461   http://www.zillow.com/homedetails/2979-S-Arche...    799900.0   \n",
       "469   http://www.zillow.com/homedetails/1942-S-Carpe...   1500000.0   \n",
       "486   http://www.zillow.com/homedetails/3300-S-Bell-...    235000.0   \n",
       "510   http://www.zillow.com/homedetails/642-W-48th-P...     54900.0   \n",
       "538   http://www.zillow.com/homedetails/5140-S-Union...     18000.0   \n",
       "644   http://www.zillow.com/homedetails/1516-N-Lake-...  13000000.0   \n",
       "648   http://www.zillow.com/homedetails/1508-N-State...   6500000.0   \n",
       "650   http://www.zillow.com/homedetails/1444-N-Orlea...     16500.0   \n",
       "799   http://www.zillow.com/homedetails/2703-W-Polk-...    149000.0   \n",
       "826   http://www.zillow.com/homedetails/2342-W-Jacks...    249000.0   \n",
       "839   http://www.zillow.com/homedetails/3125-W-Arthi...    109900.0   \n",
       "1046  http://www.zillow.com/homedetails/2700-N-Halst...    173000.0   \n",
       "1061  http://www.zillow.com/homedetails/2252-N-Genev...   1499000.0   \n",
       "1084  http://www.zillow.com/homedetails/1434-W-Wrigh...    500000.0   \n",
       "1165  http://www.zillow.com/homedetails/1861-S-Canal...   7100000.0   \n",
       "1213  http://www.zillow.com/homedetails/2243-S-Wentw...   1550000.0   \n",
       "1234  http://www.zillow.com/homedetails/8509-S-Excha...    119900.0   \n",
       "1274  http://www.zillow.com/homedetails/8801-S-Stony...    475000.0   \n",
       "1400  http://www.zillow.com/homedetails/3017-N-Troy-...    549900.0   \n",
       "1433  http://www.zillow.com/homedetails/7132-S-Unive...    180000.0   \n",
       "1438  http://www.zillow.com/homedetails/7334-S-Wabas...     89900.0   \n",
       "1460  http://www.zillow.com/homedetails/1308-E-72nd-...     17000.0   \n",
       "1478  http://www.zillow.com/homedetails/8618-S-Carpe...    169000.0   \n",
       "...                                                 ...         ...   \n",
       "1745  http://www.zillow.com/homedetails/3602-W-Lexin...    220000.0   \n",
       "1775  http://www.zillow.com/homedetails/3852-W-Monro...     77900.0   \n",
       "1802  http://www.zillow.com/homedetails/4951-N-Troy-...    575000.0   \n",
       "2054  http://www.zillow.com/homedetails/6827-S-Artes...    290000.0   \n",
       "2058  http://www.zillow.com/homedetails/2654-W-59th-...    220000.0   \n",
       "2074  http://www.zillow.com/homedetails/4211-W-60th-...    179873.0   \n",
       "2200  http://www.zillow.com/homedetails/6933-W-Imlay...    307400.0   \n",
       "2365  http://www.zillow.com/homedetails/4307-W-Drumm...    389900.0   \n",
       "2366  http://www.zillow.com/homedetails/5225-W-Altge...    389900.0   \n",
       "2400  http://www.zillow.com/homedetails/1214-W-71st-...     99900.0   \n",
       "2418  http://www.zillow.com/homedetails/1235-W-Garfi...     39990.0   \n",
       "2432  http://www.zillow.com/homedetails/6515-S-Hermi...     15000.0   \n",
       "2433  http://www.zillow.com/homedetails/6521-S-Hermi...     17000.0   \n",
       "2481  http://www.zillow.com/homedetails/6430-S-Ellis...    549000.0   \n",
       "2488  http://www.zillow.com/homedetails/6636-S-Rhode...    174000.0   \n",
       "2511  http://www.zillow.com/homedetails/6253-S-Arche...     60000.0   \n",
       "2763  http://www.zillow.com/homedetails/162-N-La-Cro...     65000.0   \n",
       "2764  http://www.zillow.com/homedetails/4626-W-Huron...     52000.0   \n",
       "2802  http://www.zillow.com/homedetails/2634-W-Lunt-...    499000.0   \n",
       "2824  http://www.zillow.com/homedetails/2639-W-Fitch...    114000.0   \n",
       "2840  http://www.zillow.com/homedetails/2000-W-Birch...   2699900.0   \n",
       "2962  http://www.zillow.com/homedetails/6154-N-Melvi...    519900.0   \n",
       "3026  http://www.zillow.com/homedetails/2040-W-Webst...    148000.0   \n",
       "3094  http://www.zillow.com/homedetails/7250-S-East-...    199900.0   \n",
       "3130  http://www.zillow.com/homedetails/918-N-Lawnda...    235000.0   \n",
       "3232  http://www.zillow.com/homedetails/4631-S-Evans...    130000.0   \n",
       "3234  http://www.zillow.com/homedetails/3556-S-King-...    279000.0   \n",
       "3680  http://www.zillow.com/homedetails/125-S-Jeffer...     32000.0   \n",
       "3713  http://www.zillow.com/homedetails/13831-S-Went...     11750.0   \n",
       "3716  http://www.zillow.com/homedetails/14141-S-Trac...    100000.0   \n",
       "\n",
       "                  status zip_code  beds_int baths  \n",
       "243       House For Sale    60605         0     -  \n",
       "258       House For Sale    60605         0     -  \n",
       "335    For Sale by Owner    60607         0     -  \n",
       "361       House For Sale    60607         0     -  \n",
       "363       House For Sale    60607         0     -  \n",
       "381       House For Sale    60607         2     -  \n",
       "419       House For Sale    60608         0     -  \n",
       "461   Apartment For Sale    60608         0     -  \n",
       "469   Apartment For Sale    60608         0     -  \n",
       "486       Condo For Sale    60608         7     -  \n",
       "510    For Sale by Owner    60609         0     -  \n",
       "538    For Sale by Owner    60609         0     -  \n",
       "644       House For Sale    60610        10     -  \n",
       "648   Apartment For Sale    60610         0     -  \n",
       "650       House For Sale    60610         0     -  \n",
       "799   Apartment For Sale    60612         4     -  \n",
       "826       Condo For Sale    60612         6     -  \n",
       "839   Apartment For Sale    60612         0     -  \n",
       "1046   For Sale by Owner    60614         0     -  \n",
       "1061  Apartment For Sale    60614         9     -  \n",
       "1084   For Sale by Owner    60614         0     -  \n",
       "1165      House For Sale    60616         0     -  \n",
       "1213  Apartment For Sale    60616         0     -  \n",
       "1234      Condo For Sale    60617         5     -  \n",
       "1274      House For Sale    60617         0     -  \n",
       "1400      House For Sale    60618         5     -  \n",
       "1433      Condo For Sale    60619         4     -  \n",
       "1438  Apartment For Sale    60619         4     -  \n",
       "1460   For Sale by Owner    60619         0     -  \n",
       "1478      Condo For Sale    60620         5     -  \n",
       "...                  ...      ...       ...   ...  \n",
       "1745      Condo For Sale    60624         4     -  \n",
       "1775  Apartment For Sale    60624         6     -  \n",
       "1802      Condo For Sale    60625         8     -  \n",
       "2054  Apartment For Sale    60629         0     -  \n",
       "2058      House For Sale    60629         0     -  \n",
       "2074  Apartment For Sale    60629         3     -  \n",
       "2200      Condo For Sale    60631         4     -  \n",
       "2365  Apartment For Sale    60635         6     -  \n",
       "2366  Apartment For Sale    60635         6     -  \n",
       "2400  Apartment For Sale    60636         0     -  \n",
       "2418  Apartment For Sale    60636         4     -  \n",
       "2432   For Sale by Owner    60636         0     -  \n",
       "2433   For Sale by Owner    60636         0     -  \n",
       "2481  Apartment For Sale    60637         0     -  \n",
       "2488  Apartment For Sale    60637         0     -  \n",
       "2511   For Sale by Owner    60638         0     -  \n",
       "2763  Apartment For Sale    60644         4     -  \n",
       "2764  Apartment For Sale    60644         4     -  \n",
       "2802  Apartment For Sale    60645         6     -  \n",
       "2824      Condo For Sale    60645         0     -  \n",
       "2840  Apartment For Sale    60645         2     -  \n",
       "2962  Apartment For Sale    60646         0     -  \n",
       "3026      House For Sale    60647         0     -  \n",
       "3094  Apartment For Sale    60649         4     -  \n",
       "3130  Apartment For Sale    60651         8     -  \n",
       "3232      Condo For Sale    60653         6     -  \n",
       "3234      Condo For Sale    60653         4     -  \n",
       "3680      House For Sale    60661         0     -  \n",
       "3713      House For Sale    60827         1     -  \n",
       "3716  Apartment For Sale    60827         0     -  \n",
       "\n",
       "[74 rows x 9 columns]"
      ]
     },
     "execution_count": 586,
     "metadata": {},
     "output_type": "execute_result"
    }
   ],
   "source": [
    "df1[df1['baths'] == '-']"
   ]
  },
  {
   "cell_type": "code",
   "execution_count": 587,
   "metadata": {
    "collapsed": false
   },
   "outputs": [
    {
     "data": {
      "text/html": [
       "<div>\n",
       "<table border=\"1\" class=\"dataframe\">\n",
       "  <thead>\n",
       "    <tr style=\"text-align: right;\">\n",
       "      <th></th>\n",
       "      <th>index</th>\n",
       "      <th>address</th>\n",
       "      <th>bed_bath</th>\n",
       "      <th>more_info</th>\n",
       "      <th>price</th>\n",
       "      <th>status</th>\n",
       "      <th>zip_code</th>\n",
       "      <th>beds_int</th>\n",
       "      <th>baths</th>\n",
       "    </tr>\n",
       "  </thead>\n",
       "  <tbody>\n",
       "    <tr>\n",
       "      <th>243</th>\n",
       "      <td>479</td>\n",
       "      <td>41 E 8th St # P-34, Chicago, IL</td>\n",
       "      <td>Studio · -- ba · -- sqft</td>\n",
       "      <td>http://www.zillow.com/homedetails/41-E-8th-St-...</td>\n",
       "      <td>34000.0</td>\n",
       "      <td>House For Sale</td>\n",
       "      <td>60605</td>\n",
       "      <td>0</td>\n",
       "      <td>-</td>\n",
       "    </tr>\n",
       "    <tr>\n",
       "      <th>258</th>\n",
       "      <td>515</td>\n",
       "      <td>1250 S Michigan Ave # P-222, Chicago, IL</td>\n",
       "      <td>Studio · -- ba · -- sqft</td>\n",
       "      <td>http://www.zillow.com/homedetails/1250-S-Michi...</td>\n",
       "      <td>30000.0</td>\n",
       "      <td>House For Sale</td>\n",
       "      <td>60605</td>\n",
       "      <td>0</td>\n",
       "      <td>-</td>\n",
       "    </tr>\n",
       "    <tr>\n",
       "      <th>361</th>\n",
       "      <td>723</td>\n",
       "      <td>222 S Racine Ave # P-11, Chicago, IL</td>\n",
       "      <td>Studio · -- ba · -- sqft</td>\n",
       "      <td>http://www.zillow.com/homedetails/222-S-Racine...</td>\n",
       "      <td>39900.0</td>\n",
       "      <td>House For Sale</td>\n",
       "      <td>60607</td>\n",
       "      <td>0</td>\n",
       "      <td>-</td>\n",
       "    </tr>\n",
       "    <tr>\n",
       "      <th>3680</th>\n",
       "      <td>7222</td>\n",
       "      <td>125 S Jefferson St # P-98, Chicago, IL</td>\n",
       "      <td>Studio · -- ba · -- sqft</td>\n",
       "      <td>http://www.zillow.com/homedetails/125-S-Jeffer...</td>\n",
       "      <td>32000.0</td>\n",
       "      <td>House For Sale</td>\n",
       "      <td>60661</td>\n",
       "      <td>0</td>\n",
       "      <td>-</td>\n",
       "    </tr>\n",
       "  </tbody>\n",
       "</table>\n",
       "</div>"
      ],
      "text/plain": [
       "      index                                   address  \\\n",
       "243     479           41 E 8th St # P-34, Chicago, IL   \n",
       "258     515  1250 S Michigan Ave # P-222, Chicago, IL   \n",
       "361     723      222 S Racine Ave # P-11, Chicago, IL   \n",
       "3680   7222    125 S Jefferson St # P-98, Chicago, IL   \n",
       "\n",
       "                      bed_bath  \\\n",
       "243   Studio · -- ba · -- sqft   \n",
       "258   Studio · -- ba · -- sqft   \n",
       "361   Studio · -- ba · -- sqft   \n",
       "3680  Studio · -- ba · -- sqft   \n",
       "\n",
       "                                              more_info    price  \\\n",
       "243   http://www.zillow.com/homedetails/41-E-8th-St-...  34000.0   \n",
       "258   http://www.zillow.com/homedetails/1250-S-Michi...  30000.0   \n",
       "361   http://www.zillow.com/homedetails/222-S-Racine...  39900.0   \n",
       "3680  http://www.zillow.com/homedetails/125-S-Jeffer...  32000.0   \n",
       "\n",
       "              status zip_code  beds_int baths  \n",
       "243   House For Sale    60605         0     -  \n",
       "258   House For Sale    60605         0     -  \n",
       "361   House For Sale    60607         0     -  \n",
       "3680  House For Sale    60661         0     -  "
      ]
     },
     "execution_count": 587,
     "metadata": {},
     "output_type": "execute_result"
    }
   ],
   "source": [
    "df1[df1['address'].str.contains('P-')]"
   ]
  },
  {
   "cell_type": "code",
   "execution_count": 588,
   "metadata": {
    "collapsed": true
   },
   "outputs": [],
   "source": [
    "df1.drop([241,256,359,3678],inplace = True)\n",
    "#drop more parking spots"
   ]
  },
  {
   "cell_type": "code",
   "execution_count": 589,
   "metadata": {
    "collapsed": false
   },
   "outputs": [
    {
     "data": {
      "text/html": [
       "<div>\n",
       "<table border=\"1\" class=\"dataframe\">\n",
       "  <thead>\n",
       "    <tr style=\"text-align: right;\">\n",
       "      <th></th>\n",
       "      <th>index</th>\n",
       "      <th>address</th>\n",
       "      <th>bed_bath</th>\n",
       "      <th>more_info</th>\n",
       "      <th>price</th>\n",
       "      <th>status</th>\n",
       "      <th>zip_code</th>\n",
       "      <th>beds_int</th>\n",
       "      <th>baths</th>\n",
       "    </tr>\n",
       "  </thead>\n",
       "  <tbody>\n",
       "    <tr>\n",
       "      <th>243</th>\n",
       "      <td>479</td>\n",
       "      <td>41 E 8th St # P-34, Chicago, IL</td>\n",
       "      <td>Studio · -- ba · -- sqft</td>\n",
       "      <td>http://www.zillow.com/homedetails/41-E-8th-St-...</td>\n",
       "      <td>34000.0</td>\n",
       "      <td>House For Sale</td>\n",
       "      <td>60605</td>\n",
       "      <td>0</td>\n",
       "      <td>-</td>\n",
       "    </tr>\n",
       "    <tr>\n",
       "      <th>258</th>\n",
       "      <td>515</td>\n",
       "      <td>1250 S Michigan Ave # P-222, Chicago, IL</td>\n",
       "      <td>Studio · -- ba · -- sqft</td>\n",
       "      <td>http://www.zillow.com/homedetails/1250-S-Michi...</td>\n",
       "      <td>30000.0</td>\n",
       "      <td>House For Sale</td>\n",
       "      <td>60605</td>\n",
       "      <td>0</td>\n",
       "      <td>-</td>\n",
       "    </tr>\n",
       "    <tr>\n",
       "      <th>335</th>\n",
       "      <td>694</td>\n",
       "      <td>800 S Wells St # M44, Chicago, IL</td>\n",
       "      <td>Studio · -- ba · -- sqft</td>\n",
       "      <td>http://www.zillow.com/homedetails/800-S-Wells-...</td>\n",
       "      <td>50000.0</td>\n",
       "      <td>For Sale by Owner</td>\n",
       "      <td>60607</td>\n",
       "      <td>0</td>\n",
       "      <td>-</td>\n",
       "    </tr>\n",
       "    <tr>\n",
       "      <th>361</th>\n",
       "      <td>723</td>\n",
       "      <td>222 S Racine Ave # P-11, Chicago, IL</td>\n",
       "      <td>Studio · -- ba · -- sqft</td>\n",
       "      <td>http://www.zillow.com/homedetails/222-S-Racine...</td>\n",
       "      <td>39900.0</td>\n",
       "      <td>House For Sale</td>\n",
       "      <td>60607</td>\n",
       "      <td>0</td>\n",
       "      <td>-</td>\n",
       "    </tr>\n",
       "    <tr>\n",
       "      <th>363</th>\n",
       "      <td>727</td>\n",
       "      <td>235 W Van Buren St # P387T, Chicago, IL</td>\n",
       "      <td>Studio · -- ba · -- sqft</td>\n",
       "      <td>http://www.zillow.com/homedetails/235-W-Van-Bu...</td>\n",
       "      <td>39800.0</td>\n",
       "      <td>House For Sale</td>\n",
       "      <td>60607</td>\n",
       "      <td>0</td>\n",
       "      <td>-</td>\n",
       "    </tr>\n",
       "    <tr>\n",
       "      <th>381</th>\n",
       "      <td>758</td>\n",
       "      <td>1224 W Van Buren St, Chicago, IL</td>\n",
       "      <td>2 Xs · -- ba · 1,043 sqft</td>\n",
       "      <td>http://www.zillow.com/homedetails/1224-W-Van-B...</td>\n",
       "      <td>270000.0</td>\n",
       "      <td>House For Sale</td>\n",
       "      <td>60607</td>\n",
       "      <td>2</td>\n",
       "      <td>-</td>\n",
       "    </tr>\n",
       "    <tr>\n",
       "      <th>419</th>\n",
       "      <td>802</td>\n",
       "      <td>1000 W 15th St # GU106, Chicago, IL</td>\n",
       "      <td>Studio · -- ba · -- sqft</td>\n",
       "      <td>http://www.zillow.com/homedetails/1000-W-15th-...</td>\n",
       "      <td>30000.0</td>\n",
       "      <td>House For Sale</td>\n",
       "      <td>60608</td>\n",
       "      <td>0</td>\n",
       "      <td>-</td>\n",
       "    </tr>\n",
       "    <tr>\n",
       "      <th>461</th>\n",
       "      <td>893</td>\n",
       "      <td>2979 S Archer Ave UNIT 1, Chicago, IL</td>\n",
       "      <td>Studio · -- ba · -- sqft</td>\n",
       "      <td>http://www.zillow.com/homedetails/2979-S-Arche...</td>\n",
       "      <td>799900.0</td>\n",
       "      <td>Apartment For Sale</td>\n",
       "      <td>60608</td>\n",
       "      <td>0</td>\n",
       "      <td>-</td>\n",
       "    </tr>\n",
       "    <tr>\n",
       "      <th>469</th>\n",
       "      <td>902</td>\n",
       "      <td>1942 S Carpenter St, Chicago, IL</td>\n",
       "      <td>Studio · -- ba · -- sqft</td>\n",
       "      <td>http://www.zillow.com/homedetails/1942-S-Carpe...</td>\n",
       "      <td>1500000.0</td>\n",
       "      <td>Apartment For Sale</td>\n",
       "      <td>60608</td>\n",
       "      <td>0</td>\n",
       "      <td>-</td>\n",
       "    </tr>\n",
       "    <tr>\n",
       "      <th>486</th>\n",
       "      <td>923</td>\n",
       "      <td>3300 S Bell Ave, Chicago, IL</td>\n",
       "      <td>7 Xs · -- ba · -- sqft</td>\n",
       "      <td>http://www.zillow.com/homedetails/3300-S-Bell-...</td>\n",
       "      <td>235000.0</td>\n",
       "      <td>Condo For Sale</td>\n",
       "      <td>60608</td>\n",
       "      <td>7</td>\n",
       "      <td>-</td>\n",
       "    </tr>\n",
       "    <tr>\n",
       "      <th>510</th>\n",
       "      <td>958</td>\n",
       "      <td>642 W 48th Pl, Chicago, IL</td>\n",
       "      <td>Studio · -- ba · -- sqft</td>\n",
       "      <td>http://www.zillow.com/homedetails/642-W-48th-P...</td>\n",
       "      <td>54900.0</td>\n",
       "      <td>For Sale by Owner</td>\n",
       "      <td>60609</td>\n",
       "      <td>0</td>\n",
       "      <td>-</td>\n",
       "    </tr>\n",
       "    <tr>\n",
       "      <th>538</th>\n",
       "      <td>1005</td>\n",
       "      <td>5140 S Union Ave, Chicago, IL</td>\n",
       "      <td>Studio · -- ba · -- sqft</td>\n",
       "      <td>http://www.zillow.com/homedetails/5140-S-Union...</td>\n",
       "      <td>18000.0</td>\n",
       "      <td>For Sale by Owner</td>\n",
       "      <td>60609</td>\n",
       "      <td>0</td>\n",
       "      <td>-</td>\n",
       "    </tr>\n",
       "    <tr>\n",
       "      <th>644</th>\n",
       "      <td>1169</td>\n",
       "      <td>1516 N Lake Shore Dr, Chicago, IL</td>\n",
       "      <td>10 Xs · -- ba · 12,000 sqft</td>\n",
       "      <td>http://www.zillow.com/homedetails/1516-N-Lake-...</td>\n",
       "      <td>13000000.0</td>\n",
       "      <td>House For Sale</td>\n",
       "      <td>60610</td>\n",
       "      <td>10</td>\n",
       "      <td>-</td>\n",
       "    </tr>\n",
       "    <tr>\n",
       "      <th>648</th>\n",
       "      <td>1174</td>\n",
       "      <td>1508 N State Pkwy, Chicago, IL</td>\n",
       "      <td>Studio · -- ba · 10,000 sqft</td>\n",
       "      <td>http://www.zillow.com/homedetails/1508-N-State...</td>\n",
       "      <td>6500000.0</td>\n",
       "      <td>Apartment For Sale</td>\n",
       "      <td>60610</td>\n",
       "      <td>0</td>\n",
       "      <td>-</td>\n",
       "    </tr>\n",
       "    <tr>\n",
       "      <th>650</th>\n",
       "      <td>1178</td>\n",
       "      <td>1444 N Orleans St # G-24, Chicago, IL</td>\n",
       "      <td>Studio · -- ba · -- sqft</td>\n",
       "      <td>http://www.zillow.com/homedetails/1444-N-Orlea...</td>\n",
       "      <td>16500.0</td>\n",
       "      <td>House For Sale</td>\n",
       "      <td>60610</td>\n",
       "      <td>0</td>\n",
       "      <td>-</td>\n",
       "    </tr>\n",
       "    <tr>\n",
       "      <th>799</th>\n",
       "      <td>1355</td>\n",
       "      <td>2703 W Polk St, Chicago, IL</td>\n",
       "      <td>4 Xs · -- ba · -- sqft</td>\n",
       "      <td>http://www.zillow.com/homedetails/2703-W-Polk-...</td>\n",
       "      <td>149000.0</td>\n",
       "      <td>Apartment For Sale</td>\n",
       "      <td>60612</td>\n",
       "      <td>4</td>\n",
       "      <td>-</td>\n",
       "    </tr>\n",
       "    <tr>\n",
       "      <th>826</th>\n",
       "      <td>1415</td>\n",
       "      <td>2342 W Jackson Blvd, Chicago, IL</td>\n",
       "      <td>6 Xs · -- ba · -- sqft</td>\n",
       "      <td>http://www.zillow.com/homedetails/2342-W-Jacks...</td>\n",
       "      <td>249000.0</td>\n",
       "      <td>Condo For Sale</td>\n",
       "      <td>60612</td>\n",
       "      <td>6</td>\n",
       "      <td>-</td>\n",
       "    </tr>\n",
       "    <tr>\n",
       "      <th>839</th>\n",
       "      <td>1455</td>\n",
       "      <td>3125 W Arthington St, Chicago, IL</td>\n",
       "      <td>Studio · -- ba · -- sqft</td>\n",
       "      <td>http://www.zillow.com/homedetails/3125-W-Arthi...</td>\n",
       "      <td>109900.0</td>\n",
       "      <td>Apartment For Sale</td>\n",
       "      <td>60612</td>\n",
       "      <td>0</td>\n",
       "      <td>-</td>\n",
       "    </tr>\n",
       "    <tr>\n",
       "      <th>1046</th>\n",
       "      <td>1708</td>\n",
       "      <td>2700 N Halsted St APT 205, Chicago, IL</td>\n",
       "      <td>Studio · -- ba · -- sqft</td>\n",
       "      <td>http://www.zillow.com/homedetails/2700-N-Halst...</td>\n",
       "      <td>173000.0</td>\n",
       "      <td>For Sale by Owner</td>\n",
       "      <td>60614</td>\n",
       "      <td>0</td>\n",
       "      <td>-</td>\n",
       "    </tr>\n",
       "    <tr>\n",
       "      <th>1061</th>\n",
       "      <td>1723</td>\n",
       "      <td>2252 N Geneva Ter, Chicago, IL</td>\n",
       "      <td>9 Xs · -- ba · -- sqft</td>\n",
       "      <td>http://www.zillow.com/homedetails/2252-N-Genev...</td>\n",
       "      <td>1499000.0</td>\n",
       "      <td>Apartment For Sale</td>\n",
       "      <td>60614</td>\n",
       "      <td>9</td>\n",
       "      <td>-</td>\n",
       "    </tr>\n",
       "    <tr>\n",
       "      <th>1084</th>\n",
       "      <td>1747</td>\n",
       "      <td>1434 W Wrightwood Ave, Chicago, IL</td>\n",
       "      <td>Studio · -- ba · 1,500 sqft</td>\n",
       "      <td>http://www.zillow.com/homedetails/1434-W-Wrigh...</td>\n",
       "      <td>500000.0</td>\n",
       "      <td>For Sale by Owner</td>\n",
       "      <td>60614</td>\n",
       "      <td>0</td>\n",
       "      <td>-</td>\n",
       "    </tr>\n",
       "    <tr>\n",
       "      <th>1165</th>\n",
       "      <td>1906</td>\n",
       "      <td>1861 S Canal St, Chicago, IL</td>\n",
       "      <td>Studio · -- ba · -- sqft</td>\n",
       "      <td>http://www.zillow.com/homedetails/1861-S-Canal...</td>\n",
       "      <td>7100000.0</td>\n",
       "      <td>House For Sale</td>\n",
       "      <td>60616</td>\n",
       "      <td>0</td>\n",
       "      <td>-</td>\n",
       "    </tr>\n",
       "    <tr>\n",
       "      <th>1213</th>\n",
       "      <td>2003</td>\n",
       "      <td>2243 S Wentworth Ave, Chicago, IL</td>\n",
       "      <td>Studio · -- ba · -- sqft</td>\n",
       "      <td>http://www.zillow.com/homedetails/2243-S-Wentw...</td>\n",
       "      <td>1550000.0</td>\n",
       "      <td>Apartment For Sale</td>\n",
       "      <td>60616</td>\n",
       "      <td>0</td>\n",
       "      <td>-</td>\n",
       "    </tr>\n",
       "    <tr>\n",
       "      <th>1234</th>\n",
       "      <td>2026</td>\n",
       "      <td>8509 S Exchange Ave, Chicago, IL</td>\n",
       "      <td>5 Xs · -- ba · 1,391 sqft</td>\n",
       "      <td>http://www.zillow.com/homedetails/8509-S-Excha...</td>\n",
       "      <td>119900.0</td>\n",
       "      <td>Condo For Sale</td>\n",
       "      <td>60617</td>\n",
       "      <td>5</td>\n",
       "      <td>-</td>\n",
       "    </tr>\n",
       "    <tr>\n",
       "      <th>1274</th>\n",
       "      <td>2114</td>\n",
       "      <td>8801 S Stony Island Ave, Chicago, IL</td>\n",
       "      <td>Studio · -- ba · -- sqft</td>\n",
       "      <td>http://www.zillow.com/homedetails/8801-S-Stony...</td>\n",
       "      <td>475000.0</td>\n",
       "      <td>House For Sale</td>\n",
       "      <td>60617</td>\n",
       "      <td>0</td>\n",
       "      <td>-</td>\n",
       "    </tr>\n",
       "    <tr>\n",
       "      <th>1400</th>\n",
       "      <td>2294</td>\n",
       "      <td>3017 N Troy St, Chicago, IL</td>\n",
       "      <td>5 Xs · -- ba · -- sqft</td>\n",
       "      <td>http://www.zillow.com/homedetails/3017-N-Troy-...</td>\n",
       "      <td>549900.0</td>\n",
       "      <td>House For Sale</td>\n",
       "      <td>60618</td>\n",
       "      <td>5</td>\n",
       "      <td>-</td>\n",
       "    </tr>\n",
       "    <tr>\n",
       "      <th>1433</th>\n",
       "      <td>2351</td>\n",
       "      <td>7132 S University Ave, Chicago, IL</td>\n",
       "      <td>4 Xs · -- ba · -- sqft</td>\n",
       "      <td>http://www.zillow.com/homedetails/7132-S-Unive...</td>\n",
       "      <td>180000.0</td>\n",
       "      <td>Condo For Sale</td>\n",
       "      <td>60619</td>\n",
       "      <td>4</td>\n",
       "      <td>-</td>\n",
       "    </tr>\n",
       "    <tr>\n",
       "      <th>1438</th>\n",
       "      <td>2374</td>\n",
       "      <td>7334 S Wabash Ave, Chicago, IL</td>\n",
       "      <td>4 Xs · -- ba · -- sqft</td>\n",
       "      <td>http://www.zillow.com/homedetails/7334-S-Wabas...</td>\n",
       "      <td>89900.0</td>\n",
       "      <td>Apartment For Sale</td>\n",
       "      <td>60619</td>\n",
       "      <td>4</td>\n",
       "      <td>-</td>\n",
       "    </tr>\n",
       "    <tr>\n",
       "      <th>1460</th>\n",
       "      <td>2408</td>\n",
       "      <td>1308 E 72nd St, Chicago, IL</td>\n",
       "      <td>Studio · -- ba · -- sqft</td>\n",
       "      <td>http://www.zillow.com/homedetails/1308-E-72nd-...</td>\n",
       "      <td>17000.0</td>\n",
       "      <td>For Sale by Owner</td>\n",
       "      <td>60619</td>\n",
       "      <td>0</td>\n",
       "      <td>-</td>\n",
       "    </tr>\n",
       "    <tr>\n",
       "      <th>1478</th>\n",
       "      <td>2451</td>\n",
       "      <td>8618 S Carpenter St, Chicago, IL</td>\n",
       "      <td>5 Xs · -- ba · -- sqft</td>\n",
       "      <td>http://www.zillow.com/homedetails/8618-S-Carpe...</td>\n",
       "      <td>169000.0</td>\n",
       "      <td>Condo For Sale</td>\n",
       "      <td>60620</td>\n",
       "      <td>5</td>\n",
       "      <td>-</td>\n",
       "    </tr>\n",
       "    <tr>\n",
       "      <th>...</th>\n",
       "      <td>...</td>\n",
       "      <td>...</td>\n",
       "      <td>...</td>\n",
       "      <td>...</td>\n",
       "      <td>...</td>\n",
       "      <td>...</td>\n",
       "      <td>...</td>\n",
       "      <td>...</td>\n",
       "      <td>...</td>\n",
       "    </tr>\n",
       "    <tr>\n",
       "      <th>1745</th>\n",
       "      <td>3008</td>\n",
       "      <td>3602 W Lexington St, Chicago, IL</td>\n",
       "      <td>4 Xs · -- ba · 1 sqft</td>\n",
       "      <td>http://www.zillow.com/homedetails/3602-W-Lexin...</td>\n",
       "      <td>220000.0</td>\n",
       "      <td>Condo For Sale</td>\n",
       "      <td>60624</td>\n",
       "      <td>4</td>\n",
       "      <td>-</td>\n",
       "    </tr>\n",
       "    <tr>\n",
       "      <th>1775</th>\n",
       "      <td>3101</td>\n",
       "      <td>3852 W Monroe St, Chicago, IL</td>\n",
       "      <td>6 Xs · -- ba · -- sqft</td>\n",
       "      <td>http://www.zillow.com/homedetails/3852-W-Monro...</td>\n",
       "      <td>77900.0</td>\n",
       "      <td>Apartment For Sale</td>\n",
       "      <td>60624</td>\n",
       "      <td>6</td>\n",
       "      <td>-</td>\n",
       "    </tr>\n",
       "    <tr>\n",
       "      <th>1802</th>\n",
       "      <td>3147</td>\n",
       "      <td>4951 N Troy St, Chicago, IL</td>\n",
       "      <td>8 Xs · -- ba · 3,462 sqft</td>\n",
       "      <td>http://www.zillow.com/homedetails/4951-N-Troy-...</td>\n",
       "      <td>575000.0</td>\n",
       "      <td>Condo For Sale</td>\n",
       "      <td>60625</td>\n",
       "      <td>8</td>\n",
       "      <td>-</td>\n",
       "    </tr>\n",
       "    <tr>\n",
       "      <th>2054</th>\n",
       "      <td>3615</td>\n",
       "      <td>6827 S Artesian Ave, Chicago, IL</td>\n",
       "      <td>Studio · -- ba · -- sqft</td>\n",
       "      <td>http://www.zillow.com/homedetails/6827-S-Artes...</td>\n",
       "      <td>290000.0</td>\n",
       "      <td>Apartment For Sale</td>\n",
       "      <td>60629</td>\n",
       "      <td>0</td>\n",
       "      <td>-</td>\n",
       "    </tr>\n",
       "    <tr>\n",
       "      <th>2058</th>\n",
       "      <td>3620</td>\n",
       "      <td>2654 W 59th St, Chicago, IL</td>\n",
       "      <td>Studio · -- ba · -- sqft</td>\n",
       "      <td>http://www.zillow.com/homedetails/2654-W-59th-...</td>\n",
       "      <td>220000.0</td>\n",
       "      <td>House For Sale</td>\n",
       "      <td>60629</td>\n",
       "      <td>0</td>\n",
       "      <td>-</td>\n",
       "    </tr>\n",
       "    <tr>\n",
       "      <th>2074</th>\n",
       "      <td>3644</td>\n",
       "      <td>4211 W 60th St, Chicago, IL</td>\n",
       "      <td>3 Xs · -- ba · -- sqft</td>\n",
       "      <td>http://www.zillow.com/homedetails/4211-W-60th-...</td>\n",
       "      <td>179873.0</td>\n",
       "      <td>Apartment For Sale</td>\n",
       "      <td>60629</td>\n",
       "      <td>3</td>\n",
       "      <td>-</td>\n",
       "    </tr>\n",
       "    <tr>\n",
       "      <th>2200</th>\n",
       "      <td>3907</td>\n",
       "      <td>6933 W Imlay St, Chicago, IL</td>\n",
       "      <td>4 Xs · -- ba · 1 sqft</td>\n",
       "      <td>http://www.zillow.com/homedetails/6933-W-Imlay...</td>\n",
       "      <td>307400.0</td>\n",
       "      <td>Condo For Sale</td>\n",
       "      <td>60631</td>\n",
       "      <td>4</td>\n",
       "      <td>-</td>\n",
       "    </tr>\n",
       "    <tr>\n",
       "      <th>2365</th>\n",
       "      <td>4335</td>\n",
       "      <td>4307 W Drummond Pl, Chicago, IL</td>\n",
       "      <td>6 Xs · -- ba · -- sqft</td>\n",
       "      <td>http://www.zillow.com/homedetails/4307-W-Drumm...</td>\n",
       "      <td>389900.0</td>\n",
       "      <td>Apartment For Sale</td>\n",
       "      <td>60635</td>\n",
       "      <td>6</td>\n",
       "      <td>-</td>\n",
       "    </tr>\n",
       "    <tr>\n",
       "      <th>2366</th>\n",
       "      <td>4336</td>\n",
       "      <td>5225 W Altgeld St, Chicago, IL</td>\n",
       "      <td>6 Xs · -- ba · -- sqft</td>\n",
       "      <td>http://www.zillow.com/homedetails/5225-W-Altge...</td>\n",
       "      <td>389900.0</td>\n",
       "      <td>Apartment For Sale</td>\n",
       "      <td>60635</td>\n",
       "      <td>6</td>\n",
       "      <td>-</td>\n",
       "    </tr>\n",
       "    <tr>\n",
       "      <th>2400</th>\n",
       "      <td>4474</td>\n",
       "      <td>1214 W 71st St, Chicago, IL</td>\n",
       "      <td>Studio · -- ba · 900 sqft</td>\n",
       "      <td>http://www.zillow.com/homedetails/1214-W-71st-...</td>\n",
       "      <td>99900.0</td>\n",
       "      <td>Apartment For Sale</td>\n",
       "      <td>60636</td>\n",
       "      <td>0</td>\n",
       "      <td>-</td>\n",
       "    </tr>\n",
       "    <tr>\n",
       "      <th>2418</th>\n",
       "      <td>4502</td>\n",
       "      <td>1235 W Garfield Blvd, Chicago, IL</td>\n",
       "      <td>4 Xs · -- ba · -- sqft</td>\n",
       "      <td>http://www.zillow.com/homedetails/1235-W-Garfi...</td>\n",
       "      <td>39990.0</td>\n",
       "      <td>Apartment For Sale</td>\n",
       "      <td>60636</td>\n",
       "      <td>4</td>\n",
       "      <td>-</td>\n",
       "    </tr>\n",
       "    <tr>\n",
       "      <th>2432</th>\n",
       "      <td>4546</td>\n",
       "      <td>6515 S Hermitage Ave # 2, Chicago, IL</td>\n",
       "      <td>Studio · -- ba · -- sqft</td>\n",
       "      <td>http://www.zillow.com/homedetails/6515-S-Hermi...</td>\n",
       "      <td>15000.0</td>\n",
       "      <td>For Sale by Owner</td>\n",
       "      <td>60636</td>\n",
       "      <td>0</td>\n",
       "      <td>-</td>\n",
       "    </tr>\n",
       "    <tr>\n",
       "      <th>2433</th>\n",
       "      <td>4547</td>\n",
       "      <td>6521 S Hermitage Ave # 1, Chicago, IL</td>\n",
       "      <td>Studio · -- ba · -- sqft</td>\n",
       "      <td>http://www.zillow.com/homedetails/6521-S-Hermi...</td>\n",
       "      <td>17000.0</td>\n",
       "      <td>For Sale by Owner</td>\n",
       "      <td>60636</td>\n",
       "      <td>0</td>\n",
       "      <td>-</td>\n",
       "    </tr>\n",
       "    <tr>\n",
       "      <th>2481</th>\n",
       "      <td>4717</td>\n",
       "      <td>6430 S Ellis Ave, Chicago, IL</td>\n",
       "      <td>Studio · -- ba · 6,972 sqft</td>\n",
       "      <td>http://www.zillow.com/homedetails/6430-S-Ellis...</td>\n",
       "      <td>549000.0</td>\n",
       "      <td>Apartment For Sale</td>\n",
       "      <td>60637</td>\n",
       "      <td>0</td>\n",
       "      <td>-</td>\n",
       "    </tr>\n",
       "    <tr>\n",
       "      <th>2488</th>\n",
       "      <td>4741</td>\n",
       "      <td>6636 S Rhodes Ave, Chicago, IL</td>\n",
       "      <td>Studio · -- ba · -- sqft</td>\n",
       "      <td>http://www.zillow.com/homedetails/6636-S-Rhode...</td>\n",
       "      <td>174000.0</td>\n",
       "      <td>Apartment For Sale</td>\n",
       "      <td>60637</td>\n",
       "      <td>0</td>\n",
       "      <td>-</td>\n",
       "    </tr>\n",
       "    <tr>\n",
       "      <th>2511</th>\n",
       "      <td>4775</td>\n",
       "      <td>6253 S Archer Ave, Chicago, IL</td>\n",
       "      <td>Studio · -- ba · -- sqft</td>\n",
       "      <td>http://www.zillow.com/homedetails/6253-S-Arche...</td>\n",
       "      <td>60000.0</td>\n",
       "      <td>For Sale by Owner</td>\n",
       "      <td>60638</td>\n",
       "      <td>0</td>\n",
       "      <td>-</td>\n",
       "    </tr>\n",
       "    <tr>\n",
       "      <th>2763</th>\n",
       "      <td>5448</td>\n",
       "      <td>162 N La Crosse Ave, Chicago, IL</td>\n",
       "      <td>4 Xs · -- ba · -- sqft</td>\n",
       "      <td>http://www.zillow.com/homedetails/162-N-La-Cro...</td>\n",
       "      <td>65000.0</td>\n",
       "      <td>Apartment For Sale</td>\n",
       "      <td>60644</td>\n",
       "      <td>4</td>\n",
       "      <td>-</td>\n",
       "    </tr>\n",
       "    <tr>\n",
       "      <th>2764</th>\n",
       "      <td>5450</td>\n",
       "      <td>4626 W Huron St, Chicago, IL</td>\n",
       "      <td>4 Xs · -- ba · -- sqft</td>\n",
       "      <td>http://www.zillow.com/homedetails/4626-W-Huron...</td>\n",
       "      <td>52000.0</td>\n",
       "      <td>Apartment For Sale</td>\n",
       "      <td>60644</td>\n",
       "      <td>4</td>\n",
       "      <td>-</td>\n",
       "    </tr>\n",
       "    <tr>\n",
       "      <th>2802</th>\n",
       "      <td>5578</td>\n",
       "      <td>2634 W Lunt Ave, Chicago, IL</td>\n",
       "      <td>6 Xs · -- ba · 4,200 sqft</td>\n",
       "      <td>http://www.zillow.com/homedetails/2634-W-Lunt-...</td>\n",
       "      <td>499000.0</td>\n",
       "      <td>Apartment For Sale</td>\n",
       "      <td>60645</td>\n",
       "      <td>6</td>\n",
       "      <td>-</td>\n",
       "    </tr>\n",
       "    <tr>\n",
       "      <th>2824</th>\n",
       "      <td>5640</td>\n",
       "      <td>2639 W Fitch Ave APT 2, Chicago, IL</td>\n",
       "      <td>Studio · -- ba · 75,000 sqft</td>\n",
       "      <td>http://www.zillow.com/homedetails/2639-W-Fitch...</td>\n",
       "      <td>114000.0</td>\n",
       "      <td>Condo For Sale</td>\n",
       "      <td>60645</td>\n",
       "      <td>0</td>\n",
       "      <td>-</td>\n",
       "    </tr>\n",
       "    <tr>\n",
       "      <th>2840</th>\n",
       "      <td>5666</td>\n",
       "      <td>2000 W Birchwood Ave, Chicago, IL</td>\n",
       "      <td>2 Xs · -- ba · -- sqft</td>\n",
       "      <td>http://www.zillow.com/homedetails/2000-W-Birch...</td>\n",
       "      <td>2699900.0</td>\n",
       "      <td>Apartment For Sale</td>\n",
       "      <td>60645</td>\n",
       "      <td>2</td>\n",
       "      <td>-</td>\n",
       "    </tr>\n",
       "    <tr>\n",
       "      <th>2962</th>\n",
       "      <td>5825</td>\n",
       "      <td>6154 N Melvina Ave, Chicago, IL</td>\n",
       "      <td>Studio · -- ba · 1 sqft</td>\n",
       "      <td>http://www.zillow.com/homedetails/6154-N-Melvi...</td>\n",
       "      <td>519900.0</td>\n",
       "      <td>Apartment For Sale</td>\n",
       "      <td>60646</td>\n",
       "      <td>0</td>\n",
       "      <td>-</td>\n",
       "    </tr>\n",
       "    <tr>\n",
       "      <th>3026</th>\n",
       "      <td>5900</td>\n",
       "      <td>2040 W Webster Ave STE 1, Chicago, IL</td>\n",
       "      <td>Studio · -- ba · -- sqft</td>\n",
       "      <td>http://www.zillow.com/homedetails/2040-W-Webst...</td>\n",
       "      <td>148000.0</td>\n",
       "      <td>House For Sale</td>\n",
       "      <td>60647</td>\n",
       "      <td>0</td>\n",
       "      <td>-</td>\n",
       "    </tr>\n",
       "    <tr>\n",
       "      <th>3094</th>\n",
       "      <td>5999</td>\n",
       "      <td>7250 S East End Ave, Chicago, IL</td>\n",
       "      <td>4 Xs · -- ba · -- sqft</td>\n",
       "      <td>http://www.zillow.com/homedetails/7250-S-East-...</td>\n",
       "      <td>199900.0</td>\n",
       "      <td>Apartment For Sale</td>\n",
       "      <td>60649</td>\n",
       "      <td>4</td>\n",
       "      <td>-</td>\n",
       "    </tr>\n",
       "    <tr>\n",
       "      <th>3130</th>\n",
       "      <td>6127</td>\n",
       "      <td>918 N Lawndale Ave, Chicago, IL</td>\n",
       "      <td>8 Xs · -- ba · -- sqft</td>\n",
       "      <td>http://www.zillow.com/homedetails/918-N-Lawnda...</td>\n",
       "      <td>235000.0</td>\n",
       "      <td>Apartment For Sale</td>\n",
       "      <td>60651</td>\n",
       "      <td>8</td>\n",
       "      <td>-</td>\n",
       "    </tr>\n",
       "    <tr>\n",
       "      <th>3232</th>\n",
       "      <td>6498</td>\n",
       "      <td>4631 S Evans Ave, Chicago, IL</td>\n",
       "      <td>6 Xs · -- ba · -- sqft</td>\n",
       "      <td>http://www.zillow.com/homedetails/4631-S-Evans...</td>\n",
       "      <td>130000.0</td>\n",
       "      <td>Condo For Sale</td>\n",
       "      <td>60653</td>\n",
       "      <td>6</td>\n",
       "      <td>-</td>\n",
       "    </tr>\n",
       "    <tr>\n",
       "      <th>3234</th>\n",
       "      <td>6503</td>\n",
       "      <td>3556 S King Dr, Chicago, IL</td>\n",
       "      <td>4 Xs · -- ba · -- sqft</td>\n",
       "      <td>http://www.zillow.com/homedetails/3556-S-King-...</td>\n",
       "      <td>279000.0</td>\n",
       "      <td>Condo For Sale</td>\n",
       "      <td>60653</td>\n",
       "      <td>4</td>\n",
       "      <td>-</td>\n",
       "    </tr>\n",
       "    <tr>\n",
       "      <th>3680</th>\n",
       "      <td>7222</td>\n",
       "      <td>125 S Jefferson St # P-98, Chicago, IL</td>\n",
       "      <td>Studio · -- ba · -- sqft</td>\n",
       "      <td>http://www.zillow.com/homedetails/125-S-Jeffer...</td>\n",
       "      <td>32000.0</td>\n",
       "      <td>House For Sale</td>\n",
       "      <td>60661</td>\n",
       "      <td>0</td>\n",
       "      <td>-</td>\n",
       "    </tr>\n",
       "    <tr>\n",
       "      <th>3713</th>\n",
       "      <td>7380</td>\n",
       "      <td>13831 S Wentworth Ave, Chicago, IL</td>\n",
       "      <td>1 X · -- ba · 900 sqft</td>\n",
       "      <td>http://www.zillow.com/homedetails/13831-S-Went...</td>\n",
       "      <td>11750.0</td>\n",
       "      <td>House For Sale</td>\n",
       "      <td>60827</td>\n",
       "      <td>1</td>\n",
       "      <td>-</td>\n",
       "    </tr>\n",
       "    <tr>\n",
       "      <th>3716</th>\n",
       "      <td>7432</td>\n",
       "      <td>14141 S Tracy Ave, Riverdale, IL</td>\n",
       "      <td>Studio · -- ba · 4,687 sqft</td>\n",
       "      <td>http://www.zillow.com/homedetails/14141-S-Trac...</td>\n",
       "      <td>100000.0</td>\n",
       "      <td>Apartment For Sale</td>\n",
       "      <td>60827</td>\n",
       "      <td>0</td>\n",
       "      <td>-</td>\n",
       "    </tr>\n",
       "  </tbody>\n",
       "</table>\n",
       "<p>74 rows × 9 columns</p>\n",
       "</div>"
      ],
      "text/plain": [
       "      index                                   address  \\\n",
       "243     479           41 E 8th St # P-34, Chicago, IL   \n",
       "258     515  1250 S Michigan Ave # P-222, Chicago, IL   \n",
       "335     694         800 S Wells St # M44, Chicago, IL   \n",
       "361     723      222 S Racine Ave # P-11, Chicago, IL   \n",
       "363     727   235 W Van Buren St # P387T, Chicago, IL   \n",
       "381     758          1224 W Van Buren St, Chicago, IL   \n",
       "419     802       1000 W 15th St # GU106, Chicago, IL   \n",
       "461     893     2979 S Archer Ave UNIT 1, Chicago, IL   \n",
       "469     902          1942 S Carpenter St, Chicago, IL   \n",
       "486     923              3300 S Bell Ave, Chicago, IL   \n",
       "510     958                642 W 48th Pl, Chicago, IL   \n",
       "538    1005             5140 S Union Ave, Chicago, IL   \n",
       "644    1169         1516 N Lake Shore Dr, Chicago, IL   \n",
       "648    1174            1508 N State Pkwy, Chicago, IL   \n",
       "650    1178     1444 N Orleans St # G-24, Chicago, IL   \n",
       "799    1355               2703 W Polk St, Chicago, IL   \n",
       "826    1415          2342 W Jackson Blvd, Chicago, IL   \n",
       "839    1455         3125 W Arthington St, Chicago, IL   \n",
       "1046   1708    2700 N Halsted St APT 205, Chicago, IL   \n",
       "1061   1723            2252 N Geneva Ter, Chicago, IL   \n",
       "1084   1747        1434 W Wrightwood Ave, Chicago, IL   \n",
       "1165   1906              1861 S Canal St, Chicago, IL   \n",
       "1213   2003         2243 S Wentworth Ave, Chicago, IL   \n",
       "1234   2026          8509 S Exchange Ave, Chicago, IL   \n",
       "1274   2114      8801 S Stony Island Ave, Chicago, IL   \n",
       "1400   2294               3017 N Troy St, Chicago, IL   \n",
       "1433   2351        7132 S University Ave, Chicago, IL   \n",
       "1438   2374            7334 S Wabash Ave, Chicago, IL   \n",
       "1460   2408               1308 E 72nd St, Chicago, IL   \n",
       "1478   2451          8618 S Carpenter St, Chicago, IL   \n",
       "...     ...                                       ...   \n",
       "1745   3008          3602 W Lexington St, Chicago, IL   \n",
       "1775   3101             3852 W Monroe St, Chicago, IL   \n",
       "1802   3147               4951 N Troy St, Chicago, IL   \n",
       "2054   3615          6827 S Artesian Ave, Chicago, IL   \n",
       "2058   3620               2654 W 59th St, Chicago, IL   \n",
       "2074   3644               4211 W 60th St, Chicago, IL   \n",
       "2200   3907              6933 W Imlay St, Chicago, IL   \n",
       "2365   4335           4307 W Drummond Pl, Chicago, IL   \n",
       "2366   4336            5225 W Altgeld St, Chicago, IL   \n",
       "2400   4474               1214 W 71st St, Chicago, IL   \n",
       "2418   4502         1235 W Garfield Blvd, Chicago, IL   \n",
       "2432   4546     6515 S Hermitage Ave # 2, Chicago, IL   \n",
       "2433   4547     6521 S Hermitage Ave # 1, Chicago, IL   \n",
       "2481   4717             6430 S Ellis Ave, Chicago, IL   \n",
       "2488   4741            6636 S Rhodes Ave, Chicago, IL   \n",
       "2511   4775            6253 S Archer Ave, Chicago, IL   \n",
       "2763   5448          162 N La Crosse Ave, Chicago, IL   \n",
       "2764   5450              4626 W Huron St, Chicago, IL   \n",
       "2802   5578              2634 W Lunt Ave, Chicago, IL   \n",
       "2824   5640       2639 W Fitch Ave APT 2, Chicago, IL   \n",
       "2840   5666         2000 W Birchwood Ave, Chicago, IL   \n",
       "2962   5825           6154 N Melvina Ave, Chicago, IL   \n",
       "3026   5900     2040 W Webster Ave STE 1, Chicago, IL   \n",
       "3094   5999          7250 S East End Ave, Chicago, IL   \n",
       "3130   6127           918 N Lawndale Ave, Chicago, IL   \n",
       "3232   6498             4631 S Evans Ave, Chicago, IL   \n",
       "3234   6503               3556 S King Dr, Chicago, IL   \n",
       "3680   7222    125 S Jefferson St # P-98, Chicago, IL   \n",
       "3713   7380        13831 S Wentworth Ave, Chicago, IL   \n",
       "3716   7432          14141 S Tracy Ave, Riverdale, IL   \n",
       "\n",
       "                          bed_bath  \\\n",
       "243       Studio · -- ba · -- sqft   \n",
       "258       Studio · -- ba · -- sqft   \n",
       "335       Studio · -- ba · -- sqft   \n",
       "361       Studio · -- ba · -- sqft   \n",
       "363       Studio · -- ba · -- sqft   \n",
       "381      2 Xs · -- ba · 1,043 sqft   \n",
       "419       Studio · -- ba · -- sqft   \n",
       "461       Studio · -- ba · -- sqft   \n",
       "469       Studio · -- ba · -- sqft   \n",
       "486         7 Xs · -- ba · -- sqft   \n",
       "510       Studio · -- ba · -- sqft   \n",
       "538       Studio · -- ba · -- sqft   \n",
       "644    10 Xs · -- ba · 12,000 sqft   \n",
       "648   Studio · -- ba · 10,000 sqft   \n",
       "650       Studio · -- ba · -- sqft   \n",
       "799         4 Xs · -- ba · -- sqft   \n",
       "826         6 Xs · -- ba · -- sqft   \n",
       "839       Studio · -- ba · -- sqft   \n",
       "1046      Studio · -- ba · -- sqft   \n",
       "1061        9 Xs · -- ba · -- sqft   \n",
       "1084   Studio · -- ba · 1,500 sqft   \n",
       "1165      Studio · -- ba · -- sqft   \n",
       "1213      Studio · -- ba · -- sqft   \n",
       "1234     5 Xs · -- ba · 1,391 sqft   \n",
       "1274      Studio · -- ba · -- sqft   \n",
       "1400        5 Xs · -- ba · -- sqft   \n",
       "1433        4 Xs · -- ba · -- sqft   \n",
       "1438        4 Xs · -- ba · -- sqft   \n",
       "1460      Studio · -- ba · -- sqft   \n",
       "1478        5 Xs · -- ba · -- sqft   \n",
       "...                            ...   \n",
       "1745         4 Xs · -- ba · 1 sqft   \n",
       "1775        6 Xs · -- ba · -- sqft   \n",
       "1802     8 Xs · -- ba · 3,462 sqft   \n",
       "2054      Studio · -- ba · -- sqft   \n",
       "2058      Studio · -- ba · -- sqft   \n",
       "2074        3 Xs · -- ba · -- sqft   \n",
       "2200         4 Xs · -- ba · 1 sqft   \n",
       "2365        6 Xs · -- ba · -- sqft   \n",
       "2366        6 Xs · -- ba · -- sqft   \n",
       "2400     Studio · -- ba · 900 sqft   \n",
       "2418        4 Xs · -- ba · -- sqft   \n",
       "2432      Studio · -- ba · -- sqft   \n",
       "2433      Studio · -- ba · -- sqft   \n",
       "2481   Studio · -- ba · 6,972 sqft   \n",
       "2488      Studio · -- ba · -- sqft   \n",
       "2511      Studio · -- ba · -- sqft   \n",
       "2763        4 Xs · -- ba · -- sqft   \n",
       "2764        4 Xs · -- ba · -- sqft   \n",
       "2802     6 Xs · -- ba · 4,200 sqft   \n",
       "2824  Studio · -- ba · 75,000 sqft   \n",
       "2840        2 Xs · -- ba · -- sqft   \n",
       "2962       Studio · -- ba · 1 sqft   \n",
       "3026      Studio · -- ba · -- sqft   \n",
       "3094        4 Xs · -- ba · -- sqft   \n",
       "3130        8 Xs · -- ba · -- sqft   \n",
       "3232        6 Xs · -- ba · -- sqft   \n",
       "3234        4 Xs · -- ba · -- sqft   \n",
       "3680      Studio · -- ba · -- sqft   \n",
       "3713        1 X · -- ba · 900 sqft   \n",
       "3716   Studio · -- ba · 4,687 sqft   \n",
       "\n",
       "                                              more_info       price  \\\n",
       "243   http://www.zillow.com/homedetails/41-E-8th-St-...     34000.0   \n",
       "258   http://www.zillow.com/homedetails/1250-S-Michi...     30000.0   \n",
       "335   http://www.zillow.com/homedetails/800-S-Wells-...     50000.0   \n",
       "361   http://www.zillow.com/homedetails/222-S-Racine...     39900.0   \n",
       "363   http://www.zillow.com/homedetails/235-W-Van-Bu...     39800.0   \n",
       "381   http://www.zillow.com/homedetails/1224-W-Van-B...    270000.0   \n",
       "419   http://www.zillow.com/homedetails/1000-W-15th-...     30000.0   \n",
       "461   http://www.zillow.com/homedetails/2979-S-Arche...    799900.0   \n",
       "469   http://www.zillow.com/homedetails/1942-S-Carpe...   1500000.0   \n",
       "486   http://www.zillow.com/homedetails/3300-S-Bell-...    235000.0   \n",
       "510   http://www.zillow.com/homedetails/642-W-48th-P...     54900.0   \n",
       "538   http://www.zillow.com/homedetails/5140-S-Union...     18000.0   \n",
       "644   http://www.zillow.com/homedetails/1516-N-Lake-...  13000000.0   \n",
       "648   http://www.zillow.com/homedetails/1508-N-State...   6500000.0   \n",
       "650   http://www.zillow.com/homedetails/1444-N-Orlea...     16500.0   \n",
       "799   http://www.zillow.com/homedetails/2703-W-Polk-...    149000.0   \n",
       "826   http://www.zillow.com/homedetails/2342-W-Jacks...    249000.0   \n",
       "839   http://www.zillow.com/homedetails/3125-W-Arthi...    109900.0   \n",
       "1046  http://www.zillow.com/homedetails/2700-N-Halst...    173000.0   \n",
       "1061  http://www.zillow.com/homedetails/2252-N-Genev...   1499000.0   \n",
       "1084  http://www.zillow.com/homedetails/1434-W-Wrigh...    500000.0   \n",
       "1165  http://www.zillow.com/homedetails/1861-S-Canal...   7100000.0   \n",
       "1213  http://www.zillow.com/homedetails/2243-S-Wentw...   1550000.0   \n",
       "1234  http://www.zillow.com/homedetails/8509-S-Excha...    119900.0   \n",
       "1274  http://www.zillow.com/homedetails/8801-S-Stony...    475000.0   \n",
       "1400  http://www.zillow.com/homedetails/3017-N-Troy-...    549900.0   \n",
       "1433  http://www.zillow.com/homedetails/7132-S-Unive...    180000.0   \n",
       "1438  http://www.zillow.com/homedetails/7334-S-Wabas...     89900.0   \n",
       "1460  http://www.zillow.com/homedetails/1308-E-72nd-...     17000.0   \n",
       "1478  http://www.zillow.com/homedetails/8618-S-Carpe...    169000.0   \n",
       "...                                                 ...         ...   \n",
       "1745  http://www.zillow.com/homedetails/3602-W-Lexin...    220000.0   \n",
       "1775  http://www.zillow.com/homedetails/3852-W-Monro...     77900.0   \n",
       "1802  http://www.zillow.com/homedetails/4951-N-Troy-...    575000.0   \n",
       "2054  http://www.zillow.com/homedetails/6827-S-Artes...    290000.0   \n",
       "2058  http://www.zillow.com/homedetails/2654-W-59th-...    220000.0   \n",
       "2074  http://www.zillow.com/homedetails/4211-W-60th-...    179873.0   \n",
       "2200  http://www.zillow.com/homedetails/6933-W-Imlay...    307400.0   \n",
       "2365  http://www.zillow.com/homedetails/4307-W-Drumm...    389900.0   \n",
       "2366  http://www.zillow.com/homedetails/5225-W-Altge...    389900.0   \n",
       "2400  http://www.zillow.com/homedetails/1214-W-71st-...     99900.0   \n",
       "2418  http://www.zillow.com/homedetails/1235-W-Garfi...     39990.0   \n",
       "2432  http://www.zillow.com/homedetails/6515-S-Hermi...     15000.0   \n",
       "2433  http://www.zillow.com/homedetails/6521-S-Hermi...     17000.0   \n",
       "2481  http://www.zillow.com/homedetails/6430-S-Ellis...    549000.0   \n",
       "2488  http://www.zillow.com/homedetails/6636-S-Rhode...    174000.0   \n",
       "2511  http://www.zillow.com/homedetails/6253-S-Arche...     60000.0   \n",
       "2763  http://www.zillow.com/homedetails/162-N-La-Cro...     65000.0   \n",
       "2764  http://www.zillow.com/homedetails/4626-W-Huron...     52000.0   \n",
       "2802  http://www.zillow.com/homedetails/2634-W-Lunt-...    499000.0   \n",
       "2824  http://www.zillow.com/homedetails/2639-W-Fitch...    114000.0   \n",
       "2840  http://www.zillow.com/homedetails/2000-W-Birch...   2699900.0   \n",
       "2962  http://www.zillow.com/homedetails/6154-N-Melvi...    519900.0   \n",
       "3026  http://www.zillow.com/homedetails/2040-W-Webst...    148000.0   \n",
       "3094  http://www.zillow.com/homedetails/7250-S-East-...    199900.0   \n",
       "3130  http://www.zillow.com/homedetails/918-N-Lawnda...    235000.0   \n",
       "3232  http://www.zillow.com/homedetails/4631-S-Evans...    130000.0   \n",
       "3234  http://www.zillow.com/homedetails/3556-S-King-...    279000.0   \n",
       "3680  http://www.zillow.com/homedetails/125-S-Jeffer...     32000.0   \n",
       "3713  http://www.zillow.com/homedetails/13831-S-Went...     11750.0   \n",
       "3716  http://www.zillow.com/homedetails/14141-S-Trac...    100000.0   \n",
       "\n",
       "                  status zip_code  beds_int baths  \n",
       "243       House For Sale    60605         0     -  \n",
       "258       House For Sale    60605         0     -  \n",
       "335    For Sale by Owner    60607         0     -  \n",
       "361       House For Sale    60607         0     -  \n",
       "363       House For Sale    60607         0     -  \n",
       "381       House For Sale    60607         2     -  \n",
       "419       House For Sale    60608         0     -  \n",
       "461   Apartment For Sale    60608         0     -  \n",
       "469   Apartment For Sale    60608         0     -  \n",
       "486       Condo For Sale    60608         7     -  \n",
       "510    For Sale by Owner    60609         0     -  \n",
       "538    For Sale by Owner    60609         0     -  \n",
       "644       House For Sale    60610        10     -  \n",
       "648   Apartment For Sale    60610         0     -  \n",
       "650       House For Sale    60610         0     -  \n",
       "799   Apartment For Sale    60612         4     -  \n",
       "826       Condo For Sale    60612         6     -  \n",
       "839   Apartment For Sale    60612         0     -  \n",
       "1046   For Sale by Owner    60614         0     -  \n",
       "1061  Apartment For Sale    60614         9     -  \n",
       "1084   For Sale by Owner    60614         0     -  \n",
       "1165      House For Sale    60616         0     -  \n",
       "1213  Apartment For Sale    60616         0     -  \n",
       "1234      Condo For Sale    60617         5     -  \n",
       "1274      House For Sale    60617         0     -  \n",
       "1400      House For Sale    60618         5     -  \n",
       "1433      Condo For Sale    60619         4     -  \n",
       "1438  Apartment For Sale    60619         4     -  \n",
       "1460   For Sale by Owner    60619         0     -  \n",
       "1478      Condo For Sale    60620         5     -  \n",
       "...                  ...      ...       ...   ...  \n",
       "1745      Condo For Sale    60624         4     -  \n",
       "1775  Apartment For Sale    60624         6     -  \n",
       "1802      Condo For Sale    60625         8     -  \n",
       "2054  Apartment For Sale    60629         0     -  \n",
       "2058      House For Sale    60629         0     -  \n",
       "2074  Apartment For Sale    60629         3     -  \n",
       "2200      Condo For Sale    60631         4     -  \n",
       "2365  Apartment For Sale    60635         6     -  \n",
       "2366  Apartment For Sale    60635         6     -  \n",
       "2400  Apartment For Sale    60636         0     -  \n",
       "2418  Apartment For Sale    60636         4     -  \n",
       "2432   For Sale by Owner    60636         0     -  \n",
       "2433   For Sale by Owner    60636         0     -  \n",
       "2481  Apartment For Sale    60637         0     -  \n",
       "2488  Apartment For Sale    60637         0     -  \n",
       "2511   For Sale by Owner    60638         0     -  \n",
       "2763  Apartment For Sale    60644         4     -  \n",
       "2764  Apartment For Sale    60644         4     -  \n",
       "2802  Apartment For Sale    60645         6     -  \n",
       "2824      Condo For Sale    60645         0     -  \n",
       "2840  Apartment For Sale    60645         2     -  \n",
       "2962  Apartment For Sale    60646         0     -  \n",
       "3026      House For Sale    60647         0     -  \n",
       "3094  Apartment For Sale    60649         4     -  \n",
       "3130  Apartment For Sale    60651         8     -  \n",
       "3232      Condo For Sale    60653         6     -  \n",
       "3234      Condo For Sale    60653         4     -  \n",
       "3680      House For Sale    60661         0     -  \n",
       "3713      House For Sale    60827         1     -  \n",
       "3716  Apartment For Sale    60827         0     -  \n",
       "\n",
       "[74 rows x 9 columns]"
      ]
     },
     "execution_count": 589,
     "metadata": {},
     "output_type": "execute_result"
    }
   ],
   "source": [
    "df1[df1['baths'] == '-']"
   ]
  },
  {
   "cell_type": "code",
   "execution_count": 590,
   "metadata": {
    "collapsed": false
   },
   "outputs": [
    {
     "data": {
      "text/plain": [
       "'http://www.zillow.com/community/university-village-row-homes/2096071519_zpid/'"
      ]
     },
     "execution_count": 590,
     "metadata": {},
     "output_type": "execute_result"
    }
   ],
   "source": [
    "df1['more_info'][333]\n",
    "#boat"
   ]
  },
  {
   "cell_type": "code",
   "execution_count": 591,
   "metadata": {
    "collapsed": false
   },
   "outputs": [
    {
     "data": {
      "text/plain": [
       "'http://www.zillow.com/homedetails/3210-S-Leavitt-St-Chicago-IL-60608/3879249_zpid/'"
      ]
     },
     "execution_count": 591,
     "metadata": {},
     "output_type": "execute_result"
    }
   ],
   "source": [
    "df1['more_info'][467]\n",
    "#multi unit"
   ]
  },
  {
   "cell_type": "code",
   "execution_count": 592,
   "metadata": {
    "collapsed": false
   },
   "outputs": [],
   "source": [
    "df1.drop([417,648], inplace = True)"
   ]
  },
  {
   "cell_type": "code",
   "execution_count": 593,
   "metadata": {
    "collapsed": false
   },
   "outputs": [
    {
     "data": {
      "text/plain": [
       "index        73\n",
       "address      73\n",
       "bed_bath     73\n",
       "more_info    73\n",
       "price        73\n",
       "status       73\n",
       "zip_code     73\n",
       "beds_int     73\n",
       "baths        73\n",
       "dtype: int64"
      ]
     },
     "execution_count": 593,
     "metadata": {},
     "output_type": "execute_result"
    }
   ],
   "source": [
    "df1[df1['baths'] == '-'].count()"
   ]
  },
  {
   "cell_type": "code",
   "execution_count": 594,
   "metadata": {
    "collapsed": true
   },
   "outputs": [],
   "source": [
    "df1 = df1[df1['baths'] != '-']"
   ]
  },
  {
   "cell_type": "code",
   "execution_count": 595,
   "metadata": {
    "collapsed": false
   },
   "outputs": [],
   "source": [
    "df1['baths_int'] = pd.to_numeric(df1['baths'])"
   ]
  },
  {
   "cell_type": "code",
   "execution_count": 596,
   "metadata": {
    "collapsed": false
   },
   "outputs": [],
   "source": [
    "df1.drop(['baths'], axis = 1, inplace = True)"
   ]
  },
  {
   "cell_type": "code",
   "execution_count": 597,
   "metadata": {
    "collapsed": false
   },
   "outputs": [
    {
     "data": {
      "text/plain": [
       "'1 X \\xc2\\xb7 1 ba \\xc2\\xb7 850 sqft'"
      ]
     },
     "execution_count": 597,
     "metadata": {},
     "output_type": "execute_result"
    }
   ],
   "source": [
    "df1['bed_bath'][1]"
   ]
  },
  {
   "cell_type": "code",
   "execution_count": 598,
   "metadata": {
    "collapsed": false
   },
   "outputs": [
    {
     "data": {
      "text/plain": [
       "'850'"
      ]
     },
     "execution_count": 598,
     "metadata": {},
     "output_type": "execute_result"
    }
   ],
   "source": [
    "df1['bed_bath'][1].split('\\xc2\\xb7 ')[2].split(' sqft')[0]"
   ]
  },
  {
   "cell_type": "code",
   "execution_count": 599,
   "metadata": {
    "collapsed": false
   },
   "outputs": [],
   "source": [
    "df1['bed_bath'] = df1['bed_bath'].apply(lambda x: x.replace(' ','|'))"
   ]
  },
  {
   "cell_type": "code",
   "execution_count": 601,
   "metadata": {
    "collapsed": false,
    "scrolled": true
   },
   "outputs": [
    {
     "data": {
      "text/html": [
       "<div>\n",
       "<table border=\"1\" class=\"dataframe\">\n",
       "  <thead>\n",
       "    <tr style=\"text-align: right;\">\n",
       "      <th></th>\n",
       "      <th>index</th>\n",
       "      <th>address</th>\n",
       "      <th>bed_bath</th>\n",
       "      <th>more_info</th>\n",
       "      <th>price</th>\n",
       "      <th>status</th>\n",
       "      <th>zip_code</th>\n",
       "      <th>beds_int</th>\n",
       "      <th>baths_int</th>\n",
       "    </tr>\n",
       "  </thead>\n",
       "  <tbody>\n",
       "    <tr>\n",
       "      <th>0</th>\n",
       "      <td>0</td>\n",
       "      <td>360 E Randolph St # 601-602, Chicago, IL</td>\n",
       "      <td>3|Xs|·|4|ba|·|2,700|sqft</td>\n",
       "      <td>http://www.zillow.com/homedetails/360-E-Randol...</td>\n",
       "      <td>1299000.0</td>\n",
       "      <td>Condo For Sale</td>\n",
       "      <td>60601</td>\n",
       "      <td>3</td>\n",
       "      <td>4</td>\n",
       "    </tr>\n",
       "    <tr>\n",
       "      <th>1</th>\n",
       "      <td>1</td>\n",
       "      <td>8 E Randolph St UNIT 1006, Chicago, IL</td>\n",
       "      <td>1|X|·|1|ba|·|850|sqft</td>\n",
       "      <td>http://www.zillow.com/homedetails/8-E-Randolph...</td>\n",
       "      <td>324900.0</td>\n",
       "      <td>Condo For Sale</td>\n",
       "      <td>60601</td>\n",
       "      <td>1</td>\n",
       "      <td>1</td>\n",
       "    </tr>\n",
       "    <tr>\n",
       "      <th>2</th>\n",
       "      <td>3</td>\n",
       "      <td>340 E Randolph St APT 704, Chicago, IL</td>\n",
       "      <td>2|Xs|·|3|ba|·|1,902|sqft</td>\n",
       "      <td>http://www.zillow.com/homedetails/340-E-Randol...</td>\n",
       "      <td>1099000.0</td>\n",
       "      <td>Condo For Sale</td>\n",
       "      <td>60601</td>\n",
       "      <td>2</td>\n",
       "      <td>3</td>\n",
       "    </tr>\n",
       "    <tr>\n",
       "      <th>3</th>\n",
       "      <td>4</td>\n",
       "      <td>420 E Waterside Dr UNIT 310, Chicago, IL</td>\n",
       "      <td>2|Xs|·|3|ba|·|1,500|sqft</td>\n",
       "      <td>http://www.zillow.com/homedetails/420-E-Waters...</td>\n",
       "      <td>567770.0</td>\n",
       "      <td>Condo For Sale</td>\n",
       "      <td>60601</td>\n",
       "      <td>2</td>\n",
       "      <td>3</td>\n",
       "    </tr>\n",
       "    <tr>\n",
       "      <th>4</th>\n",
       "      <td>5</td>\n",
       "      <td>155 N Harbor Dr # 1212-13, Chicago, IL</td>\n",
       "      <td>3|Xs|·|3|ba|·|2,367|sqft</td>\n",
       "      <td>http://www.zillow.com/homedetails/155-N-Harbor...</td>\n",
       "      <td>1350000.0</td>\n",
       "      <td>Condo For Sale</td>\n",
       "      <td>60601</td>\n",
       "      <td>3</td>\n",
       "      <td>3</td>\n",
       "    </tr>\n",
       "  </tbody>\n",
       "</table>\n",
       "</div>"
      ],
      "text/plain": [
       "   index                                   address                  bed_bath  \\\n",
       "0      0  360 E Randolph St # 601-602, Chicago, IL  3|Xs|·|4|ba|·|2,700|sqft   \n",
       "1      1    8 E Randolph St UNIT 1006, Chicago, IL     1|X|·|1|ba|·|850|sqft   \n",
       "2      3    340 E Randolph St APT 704, Chicago, IL  2|Xs|·|3|ba|·|1,902|sqft   \n",
       "3      4  420 E Waterside Dr UNIT 310, Chicago, IL  2|Xs|·|3|ba|·|1,500|sqft   \n",
       "4      5    155 N Harbor Dr # 1212-13, Chicago, IL  3|Xs|·|3|ba|·|2,367|sqft   \n",
       "\n",
       "                                           more_info      price  \\\n",
       "0  http://www.zillow.com/homedetails/360-E-Randol...  1299000.0   \n",
       "1  http://www.zillow.com/homedetails/8-E-Randolph...   324900.0   \n",
       "2  http://www.zillow.com/homedetails/340-E-Randol...  1099000.0   \n",
       "3  http://www.zillow.com/homedetails/420-E-Waters...   567770.0   \n",
       "4  http://www.zillow.com/homedetails/155-N-Harbor...  1350000.0   \n",
       "\n",
       "           status zip_code  beds_int  baths_int  \n",
       "0  Condo For Sale    60601         3          4  \n",
       "1  Condo For Sale    60601         1          1  \n",
       "2  Condo For Sale    60601         2          3  \n",
       "3  Condo For Sale    60601         2          3  \n",
       "4  Condo For Sale    60601         3          3  "
      ]
     },
     "execution_count": 601,
     "metadata": {},
     "output_type": "execute_result"
    }
   ],
   "source": [
    "df1.head()"
   ]
  },
  {
   "cell_type": "code",
   "execution_count": 603,
   "metadata": {
    "collapsed": false
   },
   "outputs": [],
   "source": [
    "df1['sqrt'] = df1['bed_bath'].apply(lambda x: x.split('|')[-2])"
   ]
  },
  {
   "cell_type": "code",
   "execution_count": 604,
   "metadata": {
    "collapsed": false
   },
   "outputs": [
    {
     "data": {
      "text/html": [
       "<div>\n",
       "<table border=\"1\" class=\"dataframe\">\n",
       "  <thead>\n",
       "    <tr style=\"text-align: right;\">\n",
       "      <th></th>\n",
       "      <th>index</th>\n",
       "      <th>address</th>\n",
       "      <th>bed_bath</th>\n",
       "      <th>more_info</th>\n",
       "      <th>price</th>\n",
       "      <th>status</th>\n",
       "      <th>zip_code</th>\n",
       "      <th>beds_int</th>\n",
       "      <th>baths_int</th>\n",
       "      <th>sqrt</th>\n",
       "    </tr>\n",
       "  </thead>\n",
       "  <tbody>\n",
       "    <tr>\n",
       "      <th>0</th>\n",
       "      <td>0</td>\n",
       "      <td>360 E Randolph St # 601-602, Chicago, IL</td>\n",
       "      <td>3|Xs|·|4|ba|·|2,700|sqft</td>\n",
       "      <td>http://www.zillow.com/homedetails/360-E-Randol...</td>\n",
       "      <td>1299000.0</td>\n",
       "      <td>Condo For Sale</td>\n",
       "      <td>60601</td>\n",
       "      <td>3</td>\n",
       "      <td>4</td>\n",
       "      <td>2,700</td>\n",
       "    </tr>\n",
       "    <tr>\n",
       "      <th>1</th>\n",
       "      <td>1</td>\n",
       "      <td>8 E Randolph St UNIT 1006, Chicago, IL</td>\n",
       "      <td>1|X|·|1|ba|·|850|sqft</td>\n",
       "      <td>http://www.zillow.com/homedetails/8-E-Randolph...</td>\n",
       "      <td>324900.0</td>\n",
       "      <td>Condo For Sale</td>\n",
       "      <td>60601</td>\n",
       "      <td>1</td>\n",
       "      <td>1</td>\n",
       "      <td>850</td>\n",
       "    </tr>\n",
       "    <tr>\n",
       "      <th>2</th>\n",
       "      <td>3</td>\n",
       "      <td>340 E Randolph St APT 704, Chicago, IL</td>\n",
       "      <td>2|Xs|·|3|ba|·|1,902|sqft</td>\n",
       "      <td>http://www.zillow.com/homedetails/340-E-Randol...</td>\n",
       "      <td>1099000.0</td>\n",
       "      <td>Condo For Sale</td>\n",
       "      <td>60601</td>\n",
       "      <td>2</td>\n",
       "      <td>3</td>\n",
       "      <td>1,902</td>\n",
       "    </tr>\n",
       "    <tr>\n",
       "      <th>3</th>\n",
       "      <td>4</td>\n",
       "      <td>420 E Waterside Dr UNIT 310, Chicago, IL</td>\n",
       "      <td>2|Xs|·|3|ba|·|1,500|sqft</td>\n",
       "      <td>http://www.zillow.com/homedetails/420-E-Waters...</td>\n",
       "      <td>567770.0</td>\n",
       "      <td>Condo For Sale</td>\n",
       "      <td>60601</td>\n",
       "      <td>2</td>\n",
       "      <td>3</td>\n",
       "      <td>1,500</td>\n",
       "    </tr>\n",
       "    <tr>\n",
       "      <th>4</th>\n",
       "      <td>5</td>\n",
       "      <td>155 N Harbor Dr # 1212-13, Chicago, IL</td>\n",
       "      <td>3|Xs|·|3|ba|·|2,367|sqft</td>\n",
       "      <td>http://www.zillow.com/homedetails/155-N-Harbor...</td>\n",
       "      <td>1350000.0</td>\n",
       "      <td>Condo For Sale</td>\n",
       "      <td>60601</td>\n",
       "      <td>3</td>\n",
       "      <td>3</td>\n",
       "      <td>2,367</td>\n",
       "    </tr>\n",
       "  </tbody>\n",
       "</table>\n",
       "</div>"
      ],
      "text/plain": [
       "   index                                   address                  bed_bath  \\\n",
       "0      0  360 E Randolph St # 601-602, Chicago, IL  3|Xs|·|4|ba|·|2,700|sqft   \n",
       "1      1    8 E Randolph St UNIT 1006, Chicago, IL     1|X|·|1|ba|·|850|sqft   \n",
       "2      3    340 E Randolph St APT 704, Chicago, IL  2|Xs|·|3|ba|·|1,902|sqft   \n",
       "3      4  420 E Waterside Dr UNIT 310, Chicago, IL  2|Xs|·|3|ba|·|1,500|sqft   \n",
       "4      5    155 N Harbor Dr # 1212-13, Chicago, IL  3|Xs|·|3|ba|·|2,367|sqft   \n",
       "\n",
       "                                           more_info      price  \\\n",
       "0  http://www.zillow.com/homedetails/360-E-Randol...  1299000.0   \n",
       "1  http://www.zillow.com/homedetails/8-E-Randolph...   324900.0   \n",
       "2  http://www.zillow.com/homedetails/340-E-Randol...  1099000.0   \n",
       "3  http://www.zillow.com/homedetails/420-E-Waters...   567770.0   \n",
       "4  http://www.zillow.com/homedetails/155-N-Harbor...  1350000.0   \n",
       "\n",
       "           status zip_code  beds_int  baths_int   sqrt  \n",
       "0  Condo For Sale    60601         3          4  2,700  \n",
       "1  Condo For Sale    60601         1          1    850  \n",
       "2  Condo For Sale    60601         2          3  1,902  \n",
       "3  Condo For Sale    60601         2          3  1,500  \n",
       "4  Condo For Sale    60601         3          3  2,367  "
      ]
     },
     "execution_count": 604,
     "metadata": {},
     "output_type": "execute_result"
    }
   ],
   "source": [
    "df1.head()"
   ]
  },
  {
   "cell_type": "code",
   "execution_count": 605,
   "metadata": {
    "collapsed": false
   },
   "outputs": [],
   "source": [
    "df1['sqrt'] = df1['sqrt'].apply(lambda x: x.replace(',',''))"
   ]
  },
  {
   "cell_type": "code",
   "execution_count": 606,
   "metadata": {
    "collapsed": false
   },
   "outputs": [
    {
     "data": {
      "text/html": [
       "<div>\n",
       "<table border=\"1\" class=\"dataframe\">\n",
       "  <thead>\n",
       "    <tr style=\"text-align: right;\">\n",
       "      <th></th>\n",
       "      <th>index</th>\n",
       "      <th>address</th>\n",
       "      <th>bed_bath</th>\n",
       "      <th>more_info</th>\n",
       "      <th>price</th>\n",
       "      <th>status</th>\n",
       "      <th>zip_code</th>\n",
       "      <th>beds_int</th>\n",
       "      <th>baths_int</th>\n",
       "      <th>sqrt</th>\n",
       "    </tr>\n",
       "  </thead>\n",
       "  <tbody>\n",
       "    <tr>\n",
       "      <th>29</th>\n",
       "      <td>33</td>\n",
       "      <td>155 N Harbor Dr APT 3814, Chicago, IL</td>\n",
       "      <td>1|X|·|1|ba|·|--|sqft</td>\n",
       "      <td>http://www.zillow.com/homedetails/155-N-Harbor...</td>\n",
       "      <td>289000.0</td>\n",
       "      <td>Condo For Sale</td>\n",
       "      <td>60601</td>\n",
       "      <td>1</td>\n",
       "      <td>1</td>\n",
       "      <td>--</td>\n",
       "    </tr>\n",
       "    <tr>\n",
       "      <th>91</th>\n",
       "      <td>111</td>\n",
       "      <td>222 N Columbus Dr APT 3106, Chicago, IL</td>\n",
       "      <td>1|X|·|1|ba|·|--|sqft</td>\n",
       "      <td>http://www.zillow.com/homedetails/222-N-Columb...</td>\n",
       "      <td>249500.0</td>\n",
       "      <td>Condo For Sale</td>\n",
       "      <td>60601</td>\n",
       "      <td>1</td>\n",
       "      <td>1</td>\n",
       "      <td>--</td>\n",
       "    </tr>\n",
       "    <tr>\n",
       "      <th>115</th>\n",
       "      <td>139</td>\n",
       "      <td>6 N Michigan Ave UNIT 1608, Chicago, IL</td>\n",
       "      <td>2|Xs|·|3|ba|·|--|sqft</td>\n",
       "      <td>http://www.zillow.com/homedetails/6-N-Michigan...</td>\n",
       "      <td>989900.0</td>\n",
       "      <td>Condo For Sale</td>\n",
       "      <td>60602</td>\n",
       "      <td>2</td>\n",
       "      <td>3</td>\n",
       "      <td>--</td>\n",
       "    </tr>\n",
       "    <tr>\n",
       "      <th>176</th>\n",
       "      <td>405</td>\n",
       "      <td>1464 S Michigan Ave APT 1004, Chicago, IL</td>\n",
       "      <td>2|Xs|·|2|ba|·|--|sqft</td>\n",
       "      <td>http://www.zillow.com/homedetails/1464-S-Michi...</td>\n",
       "      <td>355000.0</td>\n",
       "      <td>Condo For Sale</td>\n",
       "      <td>60605</td>\n",
       "      <td>2</td>\n",
       "      <td>2</td>\n",
       "      <td>--</td>\n",
       "    </tr>\n",
       "    <tr>\n",
       "      <th>182</th>\n",
       "      <td>412</td>\n",
       "      <td>124 W Polk St APT 506, Chicago, IL</td>\n",
       "      <td>1|X|·|1|ba|·|--|sqft</td>\n",
       "      <td>http://www.zillow.com/homedetails/124-W-Polk-S...</td>\n",
       "      <td>275000.0</td>\n",
       "      <td>Condo For Sale</td>\n",
       "      <td>60605</td>\n",
       "      <td>1</td>\n",
       "      <td>1</td>\n",
       "      <td>--</td>\n",
       "    </tr>\n",
       "    <tr>\n",
       "      <th>218</th>\n",
       "      <td>452</td>\n",
       "      <td>1255 S State St UNIT 1318, Chicago, IL</td>\n",
       "      <td>2|Xs|·|1|ba|·|--|sqft</td>\n",
       "      <td>http://www.zillow.com/homedetails/1255-S-State...</td>\n",
       "      <td>319000.0</td>\n",
       "      <td>Condo For Sale</td>\n",
       "      <td>60605</td>\n",
       "      <td>2</td>\n",
       "      <td>1</td>\n",
       "      <td>--</td>\n",
       "    </tr>\n",
       "    <tr>\n",
       "      <th>245</th>\n",
       "      <td>487</td>\n",
       "      <td>621 S Plymouth Ct APT 304, Chicago, IL</td>\n",
       "      <td>1|X|·|1|ba|·|--|sqft</td>\n",
       "      <td>http://www.zillow.com/homedetails/621-S-Plymou...</td>\n",
       "      <td>225000.0</td>\n",
       "      <td>Condo For Sale</td>\n",
       "      <td>60605</td>\n",
       "      <td>1</td>\n",
       "      <td>1</td>\n",
       "      <td>--</td>\n",
       "    </tr>\n",
       "    <tr>\n",
       "      <th>251</th>\n",
       "      <td>507</td>\n",
       "      <td>600 S Dearborn St APT 508, Chicago, IL</td>\n",
       "      <td>1|X|·|1|ba|·|--|sqft</td>\n",
       "      <td>http://www.zillow.com/homedetails/600-S-Dearbo...</td>\n",
       "      <td>224900.0</td>\n",
       "      <td>Condo For Sale</td>\n",
       "      <td>60605</td>\n",
       "      <td>1</td>\n",
       "      <td>1</td>\n",
       "      <td>--</td>\n",
       "    </tr>\n",
       "    <tr>\n",
       "      <th>262</th>\n",
       "      <td>520</td>\n",
       "      <td>1464 S Michigan Ave APT 1101, Chicago, IL</td>\n",
       "      <td>2|Xs|·|2|ba|·|--|sqft</td>\n",
       "      <td>http://www.zillow.com/homedetails/1464-S-Michi...</td>\n",
       "      <td>349724.0</td>\n",
       "      <td>Condo For Sale</td>\n",
       "      <td>60605</td>\n",
       "      <td>2</td>\n",
       "      <td>2</td>\n",
       "      <td>--</td>\n",
       "    </tr>\n",
       "    <tr>\n",
       "      <th>281</th>\n",
       "      <td>540</td>\n",
       "      <td>1515 S Prairie Ave UNIT 701, Chicago, IL</td>\n",
       "      <td>1|X|·|2|ba|·|--|sqft</td>\n",
       "      <td>http://www.zillow.com/homedetails/1515-S-Prair...</td>\n",
       "      <td>335000.0</td>\n",
       "      <td>Condo For Sale</td>\n",
       "      <td>60605</td>\n",
       "      <td>1</td>\n",
       "      <td>2</td>\n",
       "      <td>--</td>\n",
       "    </tr>\n",
       "    <tr>\n",
       "      <th>287</th>\n",
       "      <td>547</td>\n",
       "      <td>212 W Washington St APT 1106, Chicago, IL</td>\n",
       "      <td>1|X|·|1|ba|·|--|sqft</td>\n",
       "      <td>http://www.zillow.com/homedetails/212-W-Washin...</td>\n",
       "      <td>250000.0</td>\n",
       "      <td>Condo For Sale</td>\n",
       "      <td>60606</td>\n",
       "      <td>1</td>\n",
       "      <td>1</td>\n",
       "      <td>--</td>\n",
       "    </tr>\n",
       "    <tr>\n",
       "      <th>294</th>\n",
       "      <td>558</td>\n",
       "      <td>208 W Washington St APT 1106, Chicago, IL</td>\n",
       "      <td>2|Xs|·|2|ba|·|--|sqft</td>\n",
       "      <td>http://www.zillow.com/homedetails/208-W-Washin...</td>\n",
       "      <td>325000.0</td>\n",
       "      <td>Condo For Sale</td>\n",
       "      <td>60606</td>\n",
       "      <td>2</td>\n",
       "      <td>2</td>\n",
       "      <td>--</td>\n",
       "    </tr>\n",
       "    <tr>\n",
       "      <th>300</th>\n",
       "      <td>656</td>\n",
       "      <td>1224 W Van Buren St APT 522, Chicago, IL</td>\n",
       "      <td>2|Xs|·|1|ba|·|--|sqft</td>\n",
       "      <td>http://www.zillow.com/homedetails/1224-W-Van-B...</td>\n",
       "      <td>289900.0</td>\n",
       "      <td>Condo For Sale</td>\n",
       "      <td>60607</td>\n",
       "      <td>2</td>\n",
       "      <td>1</td>\n",
       "      <td>--</td>\n",
       "    </tr>\n",
       "    <tr>\n",
       "      <th>304</th>\n",
       "      <td>661</td>\n",
       "      <td>1040 W Adams St UNIT 420, Chicago, IL</td>\n",
       "      <td>1|X|·|1|ba|·|--|sqft</td>\n",
       "      <td>http://www.zillow.com/homedetails/1040-W-Adams...</td>\n",
       "      <td>299900.0</td>\n",
       "      <td>Condo For Sale</td>\n",
       "      <td>60607</td>\n",
       "      <td>1</td>\n",
       "      <td>1</td>\n",
       "      <td>--</td>\n",
       "    </tr>\n",
       "    <tr>\n",
       "      <th>320</th>\n",
       "      <td>678</td>\n",
       "      <td>611 S Wells St APT 1201, Chicago, IL</td>\n",
       "      <td>1|X|·|1|ba|·|--|sqft</td>\n",
       "      <td>http://www.zillow.com/homedetails/611-S-Wells-...</td>\n",
       "      <td>229900.0</td>\n",
       "      <td>Condo For Sale</td>\n",
       "      <td>60607</td>\n",
       "      <td>1</td>\n",
       "      <td>1</td>\n",
       "      <td>--</td>\n",
       "    </tr>\n",
       "    <tr>\n",
       "      <th>339</th>\n",
       "      <td>698</td>\n",
       "      <td>1250 W Van Buren St APT 510, Chicago, IL</td>\n",
       "      <td>1|X|·|1|ba|·|--|sqft</td>\n",
       "      <td>http://www.zillow.com/homedetails/1250-W-Van-B...</td>\n",
       "      <td>259000.0</td>\n",
       "      <td>Condo For Sale</td>\n",
       "      <td>60607</td>\n",
       "      <td>1</td>\n",
       "      <td>1</td>\n",
       "      <td>--</td>\n",
       "    </tr>\n",
       "    <tr>\n",
       "      <th>342</th>\n",
       "      <td>701</td>\n",
       "      <td>839 S Miller St APT 2, Chicago, IL</td>\n",
       "      <td>3|Xs|·|2|ba|·|--|sqft</td>\n",
       "      <td>http://www.zillow.com/homedetails/839-S-Miller...</td>\n",
       "      <td>463000.0</td>\n",
       "      <td>Condo For Sale</td>\n",
       "      <td>60607</td>\n",
       "      <td>3</td>\n",
       "      <td>2</td>\n",
       "      <td>--</td>\n",
       "    </tr>\n",
       "    <tr>\n",
       "      <th>391</th>\n",
       "      <td>769</td>\n",
       "      <td>1418 W Fillmore St # 1E, Chicago, IL</td>\n",
       "      <td>4|Xs|·|3|ba|·|--|sqft</td>\n",
       "      <td>http://www.zillow.com/homedetails/1418-W-Fillm...</td>\n",
       "      <td>669900.0</td>\n",
       "      <td>New Construction</td>\n",
       "      <td>60607</td>\n",
       "      <td>4</td>\n",
       "      <td>3</td>\n",
       "      <td>--</td>\n",
       "    </tr>\n",
       "    <tr>\n",
       "      <th>392</th>\n",
       "      <td>770</td>\n",
       "      <td>1418 W Fillmore St # 3W, Chicago, IL</td>\n",
       "      <td>3|Xs|·|2|ba|·|--|sqft</td>\n",
       "      <td>http://www.zillow.com/homedetails/1418-W-Fillm...</td>\n",
       "      <td>539900.0</td>\n",
       "      <td>New Construction</td>\n",
       "      <td>60607</td>\n",
       "      <td>3</td>\n",
       "      <td>2</td>\n",
       "      <td>--</td>\n",
       "    </tr>\n",
       "    <tr>\n",
       "      <th>410</th>\n",
       "      <td>788</td>\n",
       "      <td>1020 W 19th St, Chicago, IL</td>\n",
       "      <td>7|Xs|·|4|ba|·|--|sqft</td>\n",
       "      <td>http://www.zillow.com/homedetails/1020-W-19th-...</td>\n",
       "      <td>249900.0</td>\n",
       "      <td>Apartment For Sale</td>\n",
       "      <td>60608</td>\n",
       "      <td>7</td>\n",
       "      <td>4</td>\n",
       "      <td>--</td>\n",
       "    </tr>\n",
       "    <tr>\n",
       "      <th>411</th>\n",
       "      <td>790</td>\n",
       "      <td>2734 W 23rd St, Chicago, IL</td>\n",
       "      <td>4|Xs|·|2|ba|·|--|sqft</td>\n",
       "      <td>http://www.zillow.com/homedetails/2734-W-23rd-...</td>\n",
       "      <td>134900.0</td>\n",
       "      <td>Apartment For Sale</td>\n",
       "      <td>60608</td>\n",
       "      <td>4</td>\n",
       "      <td>2</td>\n",
       "      <td>--</td>\n",
       "    </tr>\n",
       "    <tr>\n",
       "      <th>415</th>\n",
       "      <td>797</td>\n",
       "      <td>2720 W Cermak Rd, Chicago, IL</td>\n",
       "      <td>8|Xs|·|3|ba|·|--|sqft</td>\n",
       "      <td>http://www.zillow.com/homedetails/2720-W-Cerma...</td>\n",
       "      <td>120000.0</td>\n",
       "      <td>Apartment For Sale</td>\n",
       "      <td>60608</td>\n",
       "      <td>8</td>\n",
       "      <td>3</td>\n",
       "      <td>--</td>\n",
       "    </tr>\n",
       "    <tr>\n",
       "      <th>416</th>\n",
       "      <td>798</td>\n",
       "      <td>2231 W 21st Pl, Chicago, IL</td>\n",
       "      <td>6|Xs|·|4|ba|·|--|sqft</td>\n",
       "      <td>http://www.zillow.com/homedetails/2231-W-21st-...</td>\n",
       "      <td>300000.0</td>\n",
       "      <td>Apartment For Sale</td>\n",
       "      <td>60608</td>\n",
       "      <td>6</td>\n",
       "      <td>4</td>\n",
       "      <td>--</td>\n",
       "    </tr>\n",
       "    <tr>\n",
       "      <th>421</th>\n",
       "      <td>806</td>\n",
       "      <td>2729 W 23rd St, Chicago, IL</td>\n",
       "      <td>3|Xs|·|2|ba|·|--|sqft</td>\n",
       "      <td>http://www.zillow.com/homedetails/2729-W-23rd-...</td>\n",
       "      <td>250000.0</td>\n",
       "      <td>Apartment For Sale</td>\n",
       "      <td>60608</td>\n",
       "      <td>3</td>\n",
       "      <td>2</td>\n",
       "      <td>--</td>\n",
       "    </tr>\n",
       "    <tr>\n",
       "      <th>424</th>\n",
       "      <td>813</td>\n",
       "      <td>1714 S Newberry Ave, Chicago, IL</td>\n",
       "      <td>3|Xs|·|4|ba|·|--|sqft</td>\n",
       "      <td>http://www.zillow.com/homedetails/1714-S-Newbe...</td>\n",
       "      <td>729900.0</td>\n",
       "      <td>New Construction</td>\n",
       "      <td>60608</td>\n",
       "      <td>3</td>\n",
       "      <td>4</td>\n",
       "      <td>--</td>\n",
       "    </tr>\n",
       "    <tr>\n",
       "      <th>430</th>\n",
       "      <td>823</td>\n",
       "      <td>2951 S Haynes Ct, Chicago, IL</td>\n",
       "      <td>5|Xs|·|3|ba|·|--|sqft</td>\n",
       "      <td>http://www.zillow.com/homedetails/2951-S-Hayne...</td>\n",
       "      <td>450000.0</td>\n",
       "      <td>Apartment For Sale</td>\n",
       "      <td>60608</td>\n",
       "      <td>5</td>\n",
       "      <td>3</td>\n",
       "      <td>--</td>\n",
       "    </tr>\n",
       "    <tr>\n",
       "      <th>443</th>\n",
       "      <td>840</td>\n",
       "      <td>948 W College Pkwy, Chicago, IL</td>\n",
       "      <td>2|Xs|·|3|ba|·|--|sqft</td>\n",
       "      <td>http://www.zillow.com/homedetails/948-W-Colleg...</td>\n",
       "      <td>474999.0</td>\n",
       "      <td>Townhouse For Sale</td>\n",
       "      <td>60608</td>\n",
       "      <td>2</td>\n",
       "      <td>3</td>\n",
       "      <td>--</td>\n",
       "    </tr>\n",
       "    <tr>\n",
       "      <th>450</th>\n",
       "      <td>860</td>\n",
       "      <td>2928 S Poplar Ave, Chicago, IL</td>\n",
       "      <td>4|Xs|·|2|ba|·|--|sqft</td>\n",
       "      <td>http://www.zillow.com/homedetails/2928-S-Popla...</td>\n",
       "      <td>229000.0</td>\n",
       "      <td>Apartment For Sale</td>\n",
       "      <td>60608</td>\n",
       "      <td>4</td>\n",
       "      <td>2</td>\n",
       "      <td>--</td>\n",
       "    </tr>\n",
       "    <tr>\n",
       "      <th>453</th>\n",
       "      <td>875</td>\n",
       "      <td>1735 W Cullerton St, Chicago, IL</td>\n",
       "      <td>4|Xs|·|2|ba|·|--|sqft</td>\n",
       "      <td>http://www.zillow.com/homedetails/1735-W-Culle...</td>\n",
       "      <td>240000.0</td>\n",
       "      <td>Apartment For Sale</td>\n",
       "      <td>60608</td>\n",
       "      <td>4</td>\n",
       "      <td>2</td>\n",
       "      <td>--</td>\n",
       "    </tr>\n",
       "    <tr>\n",
       "      <th>455</th>\n",
       "      <td>883</td>\n",
       "      <td>2823 S Keeley St, Chicago, IL</td>\n",
       "      <td>4|Xs|·|2|ba|·|--|sqft</td>\n",
       "      <td>http://www.zillow.com/homedetails/2823-S-Keele...</td>\n",
       "      <td>235000.0</td>\n",
       "      <td>Apartment For Sale</td>\n",
       "      <td>60608</td>\n",
       "      <td>4</td>\n",
       "      <td>2</td>\n",
       "      <td>--</td>\n",
       "    </tr>\n",
       "    <tr>\n",
       "      <th>...</th>\n",
       "      <td>...</td>\n",
       "      <td>...</td>\n",
       "      <td>...</td>\n",
       "      <td>...</td>\n",
       "      <td>...</td>\n",
       "      <td>...</td>\n",
       "      <td>...</td>\n",
       "      <td>...</td>\n",
       "      <td>...</td>\n",
       "      <td>...</td>\n",
       "    </tr>\n",
       "    <tr>\n",
       "      <th>3809</th>\n",
       "      <td>20</td>\n",
       "      <td>849 W Diversey Pkwy APT 2W, Chicago, IL</td>\n",
       "      <td>3|Xs||2|ba||--|sqft</td>\n",
       "      <td>https://www.zillow.com/homedetails/849-W-Diver...</td>\n",
       "      <td>690000.0</td>\n",
       "      <td>Condo For Sale</td>\n",
       "      <td>60614</td>\n",
       "      <td>3</td>\n",
       "      <td>2</td>\n",
       "      <td>--</td>\n",
       "    </tr>\n",
       "    <tr>\n",
       "      <th>3811</th>\n",
       "      <td>22</td>\n",
       "      <td>4314 S Berkeley Ave, Chicago, IL</td>\n",
       "      <td>9|Xs||6|ba||--|sqft</td>\n",
       "      <td>https://www.zillow.com/homedetails/4314-S-Berk...</td>\n",
       "      <td>229000.0</td>\n",
       "      <td>Apartment For Sale</td>\n",
       "      <td>60653</td>\n",
       "      <td>9</td>\n",
       "      <td>6</td>\n",
       "      <td>--</td>\n",
       "    </tr>\n",
       "    <tr>\n",
       "      <th>3814</th>\n",
       "      <td>25</td>\n",
       "      <td>2659 W Cortez St # 3, Chicago, IL</td>\n",
       "      <td>2|Xs||1|ba||--|sqft</td>\n",
       "      <td>https://www.zillow.com/homedetails/2659-W-Cort...</td>\n",
       "      <td>215000.0</td>\n",
       "      <td>Condo For Sale</td>\n",
       "      <td>60622</td>\n",
       "      <td>2</td>\n",
       "      <td>1</td>\n",
       "      <td>--</td>\n",
       "    </tr>\n",
       "    <tr>\n",
       "      <th>3816</th>\n",
       "      <td>1</td>\n",
       "      <td>1413 W Farwell Ave APT C2, Chicago, IL</td>\n",
       "      <td>2|Xs||1|ba||--|sqft</td>\n",
       "      <td>https://www.zillow.com/homedetails/1413-W-Farw...</td>\n",
       "      <td>160000.0</td>\n",
       "      <td>Condo For Sale</td>\n",
       "      <td>60626</td>\n",
       "      <td>2</td>\n",
       "      <td>1</td>\n",
       "      <td>--</td>\n",
       "    </tr>\n",
       "    <tr>\n",
       "      <th>3817</th>\n",
       "      <td>3</td>\n",
       "      <td>1706 W Chicago Ave # 3, Chicago, IL</td>\n",
       "      <td>3|Xs||2|ba||--|sqft</td>\n",
       "      <td>https://www.zillow.com/homedetails/1706-W-Chic...</td>\n",
       "      <td>465000.0</td>\n",
       "      <td>Condo For Sale</td>\n",
       "      <td>60622</td>\n",
       "      <td>3</td>\n",
       "      <td>2</td>\n",
       "      <td>--</td>\n",
       "    </tr>\n",
       "    <tr>\n",
       "      <th>3819</th>\n",
       "      <td>5</td>\n",
       "      <td>745 W Cornelia Ave APT S1, Chicago, IL</td>\n",
       "      <td>2|Xs||1|ba||--|sqft</td>\n",
       "      <td>https://www.zillow.com/homedetails/745-W-Corne...</td>\n",
       "      <td>289900.0</td>\n",
       "      <td>Condo For Sale</td>\n",
       "      <td>60657</td>\n",
       "      <td>2</td>\n",
       "      <td>1</td>\n",
       "      <td>--</td>\n",
       "    </tr>\n",
       "    <tr>\n",
       "      <th>3826</th>\n",
       "      <td>12</td>\n",
       "      <td>2106 N Bissell St, Chicago, IL</td>\n",
       "      <td>5|Xs||3|ba||--|sqft</td>\n",
       "      <td>https://www.zillow.com/homedetails/2106-N-Biss...</td>\n",
       "      <td>749000.0</td>\n",
       "      <td>Apartment For Sale</td>\n",
       "      <td>60614</td>\n",
       "      <td>5</td>\n",
       "      <td>3</td>\n",
       "      <td>--</td>\n",
       "    </tr>\n",
       "    <tr>\n",
       "      <th>3833</th>\n",
       "      <td>19</td>\n",
       "      <td>3518 W Wabansia Ave # 1, Chicago, IL</td>\n",
       "      <td>3|Xs||2|ba||--|sqft</td>\n",
       "      <td>https://www.zillow.com/homedetails/3518-W-Waba...</td>\n",
       "      <td>349900.0</td>\n",
       "      <td>New Construction</td>\n",
       "      <td>60647</td>\n",
       "      <td>3</td>\n",
       "      <td>2</td>\n",
       "      <td>--</td>\n",
       "    </tr>\n",
       "    <tr>\n",
       "      <th>3834</th>\n",
       "      <td>20</td>\n",
       "      <td>1703 W Wolfram St, Chicago, IL</td>\n",
       "      <td>5|Xs||5|ba||--|sqft</td>\n",
       "      <td>https://www.zillow.com/homedetails/1703-W-Wolf...</td>\n",
       "      <td>2250000.0</td>\n",
       "      <td>House For Sale</td>\n",
       "      <td>60657</td>\n",
       "      <td>5</td>\n",
       "      <td>5</td>\n",
       "      <td>--</td>\n",
       "    </tr>\n",
       "    <tr>\n",
       "      <th>3836</th>\n",
       "      <td>22</td>\n",
       "      <td>4856 N Bell Ave # 2, Chicago, IL</td>\n",
       "      <td>2|Xs||1|ba||--|sqft</td>\n",
       "      <td>https://www.zillow.com/homedetails/4856-N-Bell...</td>\n",
       "      <td>259500.0</td>\n",
       "      <td>Condo For Sale</td>\n",
       "      <td>60625</td>\n",
       "      <td>2</td>\n",
       "      <td>1</td>\n",
       "      <td>--</td>\n",
       "    </tr>\n",
       "    <tr>\n",
       "      <th>3838</th>\n",
       "      <td>24</td>\n",
       "      <td>842 N Campbell Ave # 3N, Chicago, IL</td>\n",
       "      <td>3|Xs||3|ba||--|sqft</td>\n",
       "      <td>https://www.zillow.com/homedetails/842-N-Campb...</td>\n",
       "      <td>539000.0</td>\n",
       "      <td>New Construction</td>\n",
       "      <td>60622</td>\n",
       "      <td>3</td>\n",
       "      <td>3</td>\n",
       "      <td>--</td>\n",
       "    </tr>\n",
       "    <tr>\n",
       "      <th>3841</th>\n",
       "      <td>1</td>\n",
       "      <td>2014 W Addison St # 1, Chicago, IL</td>\n",
       "      <td>3|Xs||3|ba||--|sqft</td>\n",
       "      <td>https://www.zillow.com/homedetails/2014-W-Addi...</td>\n",
       "      <td>719900.0</td>\n",
       "      <td>Condo For Sale</td>\n",
       "      <td>60618</td>\n",
       "      <td>3</td>\n",
       "      <td>3</td>\n",
       "      <td>--</td>\n",
       "    </tr>\n",
       "    <tr>\n",
       "      <th>3842</th>\n",
       "      <td>2</td>\n",
       "      <td>2554 W Wilson Ave APT 3, Chicago, IL</td>\n",
       "      <td>2|Xs||1|ba||--|sqft</td>\n",
       "      <td>https://www.zillow.com/homedetails/2554-W-Wils...</td>\n",
       "      <td>279000.0</td>\n",
       "      <td>Condo For Sale</td>\n",
       "      <td>60625</td>\n",
       "      <td>2</td>\n",
       "      <td>1</td>\n",
       "      <td>--</td>\n",
       "    </tr>\n",
       "    <tr>\n",
       "      <th>3850</th>\n",
       "      <td>12</td>\n",
       "      <td>2111 W Belle Plaine Ave, Chicago, IL</td>\n",
       "      <td>4|Xs||3|ba||--|sqft</td>\n",
       "      <td>https://www.zillow.com/homedetails/2111-W-Bell...</td>\n",
       "      <td>700000.0</td>\n",
       "      <td>Apartment For Sale</td>\n",
       "      <td>60618</td>\n",
       "      <td>4</td>\n",
       "      <td>3</td>\n",
       "      <td>--</td>\n",
       "    </tr>\n",
       "    <tr>\n",
       "      <th>3851</th>\n",
       "      <td>13</td>\n",
       "      <td>2521 N Ashland Ave APT 2S, Chicago, IL</td>\n",
       "      <td>3|Xs||2|ba||--|sqft</td>\n",
       "      <td>https://www.zillow.com/homedetails/2521-N-Ashl...</td>\n",
       "      <td>529900.0</td>\n",
       "      <td>Condo For Sale</td>\n",
       "      <td>60614</td>\n",
       "      <td>3</td>\n",
       "      <td>2</td>\n",
       "      <td>--</td>\n",
       "    </tr>\n",
       "    <tr>\n",
       "      <th>3852</th>\n",
       "      <td>14</td>\n",
       "      <td>1350 W Byron St UNIT 12, Chicago, IL</td>\n",
       "      <td>3|Xs||4|ba||--|sqft</td>\n",
       "      <td>https://www.zillow.com/homedetails/1350-W-Byro...</td>\n",
       "      <td>579900.0</td>\n",
       "      <td>Condo For Sale</td>\n",
       "      <td>60613</td>\n",
       "      <td>3</td>\n",
       "      <td>4</td>\n",
       "      <td>--</td>\n",
       "    </tr>\n",
       "    <tr>\n",
       "      <th>3855</th>\n",
       "      <td>18</td>\n",
       "      <td>1122 W Catalpa Ave APT 918, Chicago, IL</td>\n",
       "      <td>2|Xs||2|ba||--|sqft</td>\n",
       "      <td>https://www.zillow.com/homedetails/1122-W-Cata...</td>\n",
       "      <td>269000.0</td>\n",
       "      <td>Condo For Sale</td>\n",
       "      <td>60640</td>\n",
       "      <td>2</td>\n",
       "      <td>2</td>\n",
       "      <td>--</td>\n",
       "    </tr>\n",
       "    <tr>\n",
       "      <th>3856</th>\n",
       "      <td>19</td>\n",
       "      <td>2608 W Estes Ave, Chicago, IL</td>\n",
       "      <td>6|Xs||4|ba||--|sqft</td>\n",
       "      <td>https://www.zillow.com/homedetails/2608-W-Este...</td>\n",
       "      <td>435000.0</td>\n",
       "      <td>Apartment For Sale</td>\n",
       "      <td>60645</td>\n",
       "      <td>6</td>\n",
       "      <td>4</td>\n",
       "      <td>--</td>\n",
       "    </tr>\n",
       "    <tr>\n",
       "      <th>3864</th>\n",
       "      <td>2</td>\n",
       "      <td>1951 W Byron St APT 2E, Chicago, IL</td>\n",
       "      <td>2|Xs||1|ba||--|sqft</td>\n",
       "      <td>https://www.zillow.com/homedetails/1951-W-Byro...</td>\n",
       "      <td>299000.0</td>\n",
       "      <td>Condo For Sale</td>\n",
       "      <td>60613</td>\n",
       "      <td>2</td>\n",
       "      <td>1</td>\n",
       "      <td>--</td>\n",
       "    </tr>\n",
       "    <tr>\n",
       "      <th>3866</th>\n",
       "      <td>4</td>\n",
       "      <td>7409 N Seeley Ave APT 2B, Chicago, IL</td>\n",
       "      <td>2|Xs||1|ba||--|sqft</td>\n",
       "      <td>https://www.zillow.com/homedetails/7409-N-Seel...</td>\n",
       "      <td>120000.0</td>\n",
       "      <td>Condo For Sale</td>\n",
       "      <td>60645</td>\n",
       "      <td>2</td>\n",
       "      <td>1</td>\n",
       "      <td>--</td>\n",
       "    </tr>\n",
       "    <tr>\n",
       "      <th>3867</th>\n",
       "      <td>6</td>\n",
       "      <td>2738 W Chicago Ave, Chicago, IL</td>\n",
       "      <td>5|Xs||2|ba||--|sqft</td>\n",
       "      <td>https://www.zillow.com/homedetails/2738-W-Chic...</td>\n",
       "      <td>355000.0</td>\n",
       "      <td>Apartment For Sale</td>\n",
       "      <td>60622</td>\n",
       "      <td>5</td>\n",
       "      <td>2</td>\n",
       "      <td>--</td>\n",
       "    </tr>\n",
       "    <tr>\n",
       "      <th>3874</th>\n",
       "      <td>13</td>\n",
       "      <td>3328 N Ashland Ave, Chicago, IL</td>\n",
       "      <td>12|Xs||7|ba||--|sqft</td>\n",
       "      <td>https://www.zillow.com/homedetails/3328-N-Ashl...</td>\n",
       "      <td>1650000.0</td>\n",
       "      <td>Apartment For Sale</td>\n",
       "      <td>60657</td>\n",
       "      <td>12</td>\n",
       "      <td>7</td>\n",
       "      <td>--</td>\n",
       "    </tr>\n",
       "    <tr>\n",
       "      <th>3875</th>\n",
       "      <td>14</td>\n",
       "      <td>4864 N Ashland Ave APT 2W, Chicago, IL</td>\n",
       "      <td>2|Xs||1|ba||--|sqft</td>\n",
       "      <td>https://www.zillow.com/homedetails/4864-N-Ashl...</td>\n",
       "      <td>225000.0</td>\n",
       "      <td>Condo For Sale</td>\n",
       "      <td>60640</td>\n",
       "      <td>2</td>\n",
       "      <td>1</td>\n",
       "      <td>--</td>\n",
       "    </tr>\n",
       "    <tr>\n",
       "      <th>3881</th>\n",
       "      <td>20</td>\n",
       "      <td>1117 W 18th Pl, Chicago, IL</td>\n",
       "      <td>6|Xs||5|ba||--|sqft</td>\n",
       "      <td>https://www.zillow.com/homedetails/1117-W-18th...</td>\n",
       "      <td>325000.0</td>\n",
       "      <td>Apartment For Sale</td>\n",
       "      <td>60608</td>\n",
       "      <td>6</td>\n",
       "      <td>5</td>\n",
       "      <td>--</td>\n",
       "    </tr>\n",
       "    <tr>\n",
       "      <th>3888</th>\n",
       "      <td>1</td>\n",
       "      <td>5955 N Lakewood Ave # 3S, Chicago, IL</td>\n",
       "      <td>2|Xs||1|ba||--|sqft</td>\n",
       "      <td>https://www.zillow.com/homedetails/5955-N-Lake...</td>\n",
       "      <td>249900.0</td>\n",
       "      <td>Condo For Sale</td>\n",
       "      <td>60660</td>\n",
       "      <td>2</td>\n",
       "      <td>1</td>\n",
       "      <td>--</td>\n",
       "    </tr>\n",
       "    <tr>\n",
       "      <th>3890</th>\n",
       "      <td>3</td>\n",
       "      <td>2123 W Rice St APT 2E, Chicago, IL</td>\n",
       "      <td>2|Xs||2|ba||--|sqft</td>\n",
       "      <td>https://www.zillow.com/homedetails/2123-W-Rice...</td>\n",
       "      <td>365000.0</td>\n",
       "      <td>Condo For Sale</td>\n",
       "      <td>60622</td>\n",
       "      <td>2</td>\n",
       "      <td>2</td>\n",
       "      <td>--</td>\n",
       "    </tr>\n",
       "    <tr>\n",
       "      <th>3895</th>\n",
       "      <td>8</td>\n",
       "      <td>30 E Huron St # U1005, Chicago, IL</td>\n",
       "      <td>1|X||1|ba||--|sqft</td>\n",
       "      <td>https://www.zillow.com/homedetails/30-E-Huron-...</td>\n",
       "      <td>299000.0</td>\n",
       "      <td>Condo For Sale</td>\n",
       "      <td>60611</td>\n",
       "      <td>1</td>\n",
       "      <td>1</td>\n",
       "      <td>--</td>\n",
       "    </tr>\n",
       "    <tr>\n",
       "      <th>3898</th>\n",
       "      <td>11</td>\n",
       "      <td>4327 N Western Ave, Chicago, IL</td>\n",
       "      <td>4|Xs||3|ba||--|sqft</td>\n",
       "      <td>https://www.zillow.com/homedetails/4327-N-West...</td>\n",
       "      <td>679900.0</td>\n",
       "      <td>Apartment For Sale</td>\n",
       "      <td>60618</td>\n",
       "      <td>4</td>\n",
       "      <td>3</td>\n",
       "      <td>--</td>\n",
       "    </tr>\n",
       "    <tr>\n",
       "      <th>3907</th>\n",
       "      <td>20</td>\n",
       "      <td>1125 W Farwell Ave APT G1, Chicago, IL</td>\n",
       "      <td>1|X||1|ba||--|sqft</td>\n",
       "      <td>https://www.zillow.com/homedetails/1125-W-Farw...</td>\n",
       "      <td>139000.0</td>\n",
       "      <td>Condo For Sale</td>\n",
       "      <td>60626</td>\n",
       "      <td>1</td>\n",
       "      <td>1</td>\n",
       "      <td>--</td>\n",
       "    </tr>\n",
       "    <tr>\n",
       "      <th>3910</th>\n",
       "      <td>25</td>\n",
       "      <td>5336 W Addison St, Chicago, IL</td>\n",
       "      <td>2|Xs||2|ba||--|sqft</td>\n",
       "      <td>https://www.zillow.com/homedetails/5336-W-Addi...</td>\n",
       "      <td>225000.0</td>\n",
       "      <td>House For Sale</td>\n",
       "      <td>60641</td>\n",
       "      <td>2</td>\n",
       "      <td>2</td>\n",
       "      <td>--</td>\n",
       "    </tr>\n",
       "  </tbody>\n",
       "</table>\n",
       "<p>812 rows × 10 columns</p>\n",
       "</div>"
      ],
      "text/plain": [
       "      index                                    address               bed_bath  \\\n",
       "29       33      155 N Harbor Dr APT 3814, Chicago, IL   1|X|·|1|ba|·|--|sqft   \n",
       "91      111    222 N Columbus Dr APT 3106, Chicago, IL   1|X|·|1|ba|·|--|sqft   \n",
       "115     139    6 N Michigan Ave UNIT 1608, Chicago, IL  2|Xs|·|3|ba|·|--|sqft   \n",
       "176     405  1464 S Michigan Ave APT 1004, Chicago, IL  2|Xs|·|2|ba|·|--|sqft   \n",
       "182     412         124 W Polk St APT 506, Chicago, IL   1|X|·|1|ba|·|--|sqft   \n",
       "218     452     1255 S State St UNIT 1318, Chicago, IL  2|Xs|·|1|ba|·|--|sqft   \n",
       "245     487     621 S Plymouth Ct APT 304, Chicago, IL   1|X|·|1|ba|·|--|sqft   \n",
       "251     507     600 S Dearborn St APT 508, Chicago, IL   1|X|·|1|ba|·|--|sqft   \n",
       "262     520  1464 S Michigan Ave APT 1101, Chicago, IL  2|Xs|·|2|ba|·|--|sqft   \n",
       "281     540   1515 S Prairie Ave UNIT 701, Chicago, IL   1|X|·|2|ba|·|--|sqft   \n",
       "287     547  212 W Washington St APT 1106, Chicago, IL   1|X|·|1|ba|·|--|sqft   \n",
       "294     558  208 W Washington St APT 1106, Chicago, IL  2|Xs|·|2|ba|·|--|sqft   \n",
       "300     656   1224 W Van Buren St APT 522, Chicago, IL  2|Xs|·|1|ba|·|--|sqft   \n",
       "304     661      1040 W Adams St UNIT 420, Chicago, IL   1|X|·|1|ba|·|--|sqft   \n",
       "320     678       611 S Wells St APT 1201, Chicago, IL   1|X|·|1|ba|·|--|sqft   \n",
       "339     698   1250 W Van Buren St APT 510, Chicago, IL   1|X|·|1|ba|·|--|sqft   \n",
       "342     701         839 S Miller St APT 2, Chicago, IL  3|Xs|·|2|ba|·|--|sqft   \n",
       "391     769       1418 W Fillmore St # 1E, Chicago, IL  4|Xs|·|3|ba|·|--|sqft   \n",
       "392     770       1418 W Fillmore St # 3W, Chicago, IL  3|Xs|·|2|ba|·|--|sqft   \n",
       "410     788                1020 W 19th St, Chicago, IL  7|Xs|·|4|ba|·|--|sqft   \n",
       "411     790                2734 W 23rd St, Chicago, IL  4|Xs|·|2|ba|·|--|sqft   \n",
       "415     797              2720 W Cermak Rd, Chicago, IL  8|Xs|·|3|ba|·|--|sqft   \n",
       "416     798                2231 W 21st Pl, Chicago, IL  6|Xs|·|4|ba|·|--|sqft   \n",
       "421     806                2729 W 23rd St, Chicago, IL  3|Xs|·|2|ba|·|--|sqft   \n",
       "424     813           1714 S Newberry Ave, Chicago, IL  3|Xs|·|4|ba|·|--|sqft   \n",
       "430     823              2951 S Haynes Ct, Chicago, IL  5|Xs|·|3|ba|·|--|sqft   \n",
       "443     840            948 W College Pkwy, Chicago, IL  2|Xs|·|3|ba|·|--|sqft   \n",
       "450     860             2928 S Poplar Ave, Chicago, IL  4|Xs|·|2|ba|·|--|sqft   \n",
       "453     875           1735 W Cullerton St, Chicago, IL  4|Xs|·|2|ba|·|--|sqft   \n",
       "455     883              2823 S Keeley St, Chicago, IL  4|Xs|·|2|ba|·|--|sqft   \n",
       "...     ...                                        ...                    ...   \n",
       "3809     20    849 W Diversey Pkwy APT 2W, Chicago, IL    3|Xs||2|ba||--|sqft   \n",
       "3811     22           4314 S Berkeley Ave, Chicago, IL    9|Xs||6|ba||--|sqft   \n",
       "3814     25          2659 W Cortez St # 3, Chicago, IL    2|Xs||1|ba||--|sqft   \n",
       "3816      1     1413 W Farwell Ave APT C2, Chicago, IL    2|Xs||1|ba||--|sqft   \n",
       "3817      3        1706 W Chicago Ave # 3, Chicago, IL    3|Xs||2|ba||--|sqft   \n",
       "3819      5     745 W Cornelia Ave APT S1, Chicago, IL    2|Xs||1|ba||--|sqft   \n",
       "3826     12             2106 N Bissell St, Chicago, IL    5|Xs||3|ba||--|sqft   \n",
       "3833     19       3518 W Wabansia Ave # 1, Chicago, IL    3|Xs||2|ba||--|sqft   \n",
       "3834     20             1703 W Wolfram St, Chicago, IL    5|Xs||5|ba||--|sqft   \n",
       "3836     22           4856 N Bell Ave # 2, Chicago, IL    2|Xs||1|ba||--|sqft   \n",
       "3838     24       842 N Campbell Ave # 3N, Chicago, IL    3|Xs||3|ba||--|sqft   \n",
       "3841      1         2014 W Addison St # 1, Chicago, IL    3|Xs||3|ba||--|sqft   \n",
       "3842      2       2554 W Wilson Ave APT 3, Chicago, IL    2|Xs||1|ba||--|sqft   \n",
       "3850     12       2111 W Belle Plaine Ave, Chicago, IL    4|Xs||3|ba||--|sqft   \n",
       "3851     13     2521 N Ashland Ave APT 2S, Chicago, IL    3|Xs||2|ba||--|sqft   \n",
       "3852     14       1350 W Byron St UNIT 12, Chicago, IL    3|Xs||4|ba||--|sqft   \n",
       "3855     18    1122 W Catalpa Ave APT 918, Chicago, IL    2|Xs||2|ba||--|sqft   \n",
       "3856     19              2608 W Estes Ave, Chicago, IL    6|Xs||4|ba||--|sqft   \n",
       "3864      2        1951 W Byron St APT 2E, Chicago, IL    2|Xs||1|ba||--|sqft   \n",
       "3866      4      7409 N Seeley Ave APT 2B, Chicago, IL    2|Xs||1|ba||--|sqft   \n",
       "3867      6            2738 W Chicago Ave, Chicago, IL    5|Xs||2|ba||--|sqft   \n",
       "3874     13            3328 N Ashland Ave, Chicago, IL   12|Xs||7|ba||--|sqft   \n",
       "3875     14     4864 N Ashland Ave APT 2W, Chicago, IL    2|Xs||1|ba||--|sqft   \n",
       "3881     20                1117 W 18th Pl, Chicago, IL    6|Xs||5|ba||--|sqft   \n",
       "3888      1      5955 N Lakewood Ave # 3S, Chicago, IL    2|Xs||1|ba||--|sqft   \n",
       "3890      3         2123 W Rice St APT 2E, Chicago, IL    2|Xs||2|ba||--|sqft   \n",
       "3895      8         30 E Huron St # U1005, Chicago, IL     1|X||1|ba||--|sqft   \n",
       "3898     11            4327 N Western Ave, Chicago, IL    4|Xs||3|ba||--|sqft   \n",
       "3907     20     1125 W Farwell Ave APT G1, Chicago, IL     1|X||1|ba||--|sqft   \n",
       "3910     25             5336 W Addison St, Chicago, IL    2|Xs||2|ba||--|sqft   \n",
       "\n",
       "                                              more_info      price  \\\n",
       "29    http://www.zillow.com/homedetails/155-N-Harbor...   289000.0   \n",
       "91    http://www.zillow.com/homedetails/222-N-Columb...   249500.0   \n",
       "115   http://www.zillow.com/homedetails/6-N-Michigan...   989900.0   \n",
       "176   http://www.zillow.com/homedetails/1464-S-Michi...   355000.0   \n",
       "182   http://www.zillow.com/homedetails/124-W-Polk-S...   275000.0   \n",
       "218   http://www.zillow.com/homedetails/1255-S-State...   319000.0   \n",
       "245   http://www.zillow.com/homedetails/621-S-Plymou...   225000.0   \n",
       "251   http://www.zillow.com/homedetails/600-S-Dearbo...   224900.0   \n",
       "262   http://www.zillow.com/homedetails/1464-S-Michi...   349724.0   \n",
       "281   http://www.zillow.com/homedetails/1515-S-Prair...   335000.0   \n",
       "287   http://www.zillow.com/homedetails/212-W-Washin...   250000.0   \n",
       "294   http://www.zillow.com/homedetails/208-W-Washin...   325000.0   \n",
       "300   http://www.zillow.com/homedetails/1224-W-Van-B...   289900.0   \n",
       "304   http://www.zillow.com/homedetails/1040-W-Adams...   299900.0   \n",
       "320   http://www.zillow.com/homedetails/611-S-Wells-...   229900.0   \n",
       "339   http://www.zillow.com/homedetails/1250-W-Van-B...   259000.0   \n",
       "342   http://www.zillow.com/homedetails/839-S-Miller...   463000.0   \n",
       "391   http://www.zillow.com/homedetails/1418-W-Fillm...   669900.0   \n",
       "392   http://www.zillow.com/homedetails/1418-W-Fillm...   539900.0   \n",
       "410   http://www.zillow.com/homedetails/1020-W-19th-...   249900.0   \n",
       "411   http://www.zillow.com/homedetails/2734-W-23rd-...   134900.0   \n",
       "415   http://www.zillow.com/homedetails/2720-W-Cerma...   120000.0   \n",
       "416   http://www.zillow.com/homedetails/2231-W-21st-...   300000.0   \n",
       "421   http://www.zillow.com/homedetails/2729-W-23rd-...   250000.0   \n",
       "424   http://www.zillow.com/homedetails/1714-S-Newbe...   729900.0   \n",
       "430   http://www.zillow.com/homedetails/2951-S-Hayne...   450000.0   \n",
       "443   http://www.zillow.com/homedetails/948-W-Colleg...   474999.0   \n",
       "450   http://www.zillow.com/homedetails/2928-S-Popla...   229000.0   \n",
       "453   http://www.zillow.com/homedetails/1735-W-Culle...   240000.0   \n",
       "455   http://www.zillow.com/homedetails/2823-S-Keele...   235000.0   \n",
       "...                                                 ...        ...   \n",
       "3809  https://www.zillow.com/homedetails/849-W-Diver...   690000.0   \n",
       "3811  https://www.zillow.com/homedetails/4314-S-Berk...   229000.0   \n",
       "3814  https://www.zillow.com/homedetails/2659-W-Cort...   215000.0   \n",
       "3816  https://www.zillow.com/homedetails/1413-W-Farw...   160000.0   \n",
       "3817  https://www.zillow.com/homedetails/1706-W-Chic...   465000.0   \n",
       "3819  https://www.zillow.com/homedetails/745-W-Corne...   289900.0   \n",
       "3826  https://www.zillow.com/homedetails/2106-N-Biss...   749000.0   \n",
       "3833  https://www.zillow.com/homedetails/3518-W-Waba...   349900.0   \n",
       "3834  https://www.zillow.com/homedetails/1703-W-Wolf...  2250000.0   \n",
       "3836  https://www.zillow.com/homedetails/4856-N-Bell...   259500.0   \n",
       "3838  https://www.zillow.com/homedetails/842-N-Campb...   539000.0   \n",
       "3841  https://www.zillow.com/homedetails/2014-W-Addi...   719900.0   \n",
       "3842  https://www.zillow.com/homedetails/2554-W-Wils...   279000.0   \n",
       "3850  https://www.zillow.com/homedetails/2111-W-Bell...   700000.0   \n",
       "3851  https://www.zillow.com/homedetails/2521-N-Ashl...   529900.0   \n",
       "3852  https://www.zillow.com/homedetails/1350-W-Byro...   579900.0   \n",
       "3855  https://www.zillow.com/homedetails/1122-W-Cata...   269000.0   \n",
       "3856  https://www.zillow.com/homedetails/2608-W-Este...   435000.0   \n",
       "3864  https://www.zillow.com/homedetails/1951-W-Byro...   299000.0   \n",
       "3866  https://www.zillow.com/homedetails/7409-N-Seel...   120000.0   \n",
       "3867  https://www.zillow.com/homedetails/2738-W-Chic...   355000.0   \n",
       "3874  https://www.zillow.com/homedetails/3328-N-Ashl...  1650000.0   \n",
       "3875  https://www.zillow.com/homedetails/4864-N-Ashl...   225000.0   \n",
       "3881  https://www.zillow.com/homedetails/1117-W-18th...   325000.0   \n",
       "3888  https://www.zillow.com/homedetails/5955-N-Lake...   249900.0   \n",
       "3890  https://www.zillow.com/homedetails/2123-W-Rice...   365000.0   \n",
       "3895  https://www.zillow.com/homedetails/30-E-Huron-...   299000.0   \n",
       "3898  https://www.zillow.com/homedetails/4327-N-West...   679900.0   \n",
       "3907  https://www.zillow.com/homedetails/1125-W-Farw...   139000.0   \n",
       "3910  https://www.zillow.com/homedetails/5336-W-Addi...   225000.0   \n",
       "\n",
       "                  status zip_code  beds_int  baths_int sqrt  \n",
       "29        Condo For Sale    60601         1          1   --  \n",
       "91        Condo For Sale    60601         1          1   --  \n",
       "115       Condo For Sale    60602         2          3   --  \n",
       "176       Condo For Sale    60605         2          2   --  \n",
       "182       Condo For Sale    60605         1          1   --  \n",
       "218       Condo For Sale    60605         2          1   --  \n",
       "245       Condo For Sale    60605         1          1   --  \n",
       "251       Condo For Sale    60605         1          1   --  \n",
       "262       Condo For Sale    60605         2          2   --  \n",
       "281       Condo For Sale    60605         1          2   --  \n",
       "287       Condo For Sale    60606         1          1   --  \n",
       "294       Condo For Sale    60606         2          2   --  \n",
       "300       Condo For Sale    60607         2          1   --  \n",
       "304       Condo For Sale    60607         1          1   --  \n",
       "320       Condo For Sale    60607         1          1   --  \n",
       "339       Condo For Sale    60607         1          1   --  \n",
       "342       Condo For Sale    60607         3          2   --  \n",
       "391     New Construction    60607         4          3   --  \n",
       "392     New Construction    60607         3          2   --  \n",
       "410   Apartment For Sale    60608         7          4   --  \n",
       "411   Apartment For Sale    60608         4          2   --  \n",
       "415   Apartment For Sale    60608         8          3   --  \n",
       "416   Apartment For Sale    60608         6          4   --  \n",
       "421   Apartment For Sale    60608         3          2   --  \n",
       "424     New Construction    60608         3          4   --  \n",
       "430   Apartment For Sale    60608         5          3   --  \n",
       "443   Townhouse For Sale    60608         2          3   --  \n",
       "450   Apartment For Sale    60608         4          2   --  \n",
       "453   Apartment For Sale    60608         4          2   --  \n",
       "455   Apartment For Sale    60608         4          2   --  \n",
       "...                  ...      ...       ...        ...  ...  \n",
       "3809      Condo For Sale    60614         3          2   --  \n",
       "3811  Apartment For Sale    60653         9          6   --  \n",
       "3814      Condo For Sale    60622         2          1   --  \n",
       "3816      Condo For Sale    60626         2          1   --  \n",
       "3817      Condo For Sale    60622         3          2   --  \n",
       "3819      Condo For Sale    60657         2          1   --  \n",
       "3826  Apartment For Sale    60614         5          3   --  \n",
       "3833    New Construction    60647         3          2   --  \n",
       "3834      House For Sale    60657         5          5   --  \n",
       "3836      Condo For Sale    60625         2          1   --  \n",
       "3838    New Construction    60622         3          3   --  \n",
       "3841      Condo For Sale    60618         3          3   --  \n",
       "3842      Condo For Sale    60625         2          1   --  \n",
       "3850  Apartment For Sale    60618         4          3   --  \n",
       "3851      Condo For Sale    60614         3          2   --  \n",
       "3852      Condo For Sale    60613         3          4   --  \n",
       "3855      Condo For Sale    60640         2          2   --  \n",
       "3856  Apartment For Sale    60645         6          4   --  \n",
       "3864      Condo For Sale    60613         2          1   --  \n",
       "3866      Condo For Sale    60645         2          1   --  \n",
       "3867  Apartment For Sale    60622         5          2   --  \n",
       "3874  Apartment For Sale    60657        12          7   --  \n",
       "3875      Condo For Sale    60640         2          1   --  \n",
       "3881  Apartment For Sale    60608         6          5   --  \n",
       "3888      Condo For Sale    60660         2          1   --  \n",
       "3890      Condo For Sale    60622         2          2   --  \n",
       "3895      Condo For Sale    60611         1          1   --  \n",
       "3898  Apartment For Sale    60618         4          3   --  \n",
       "3907      Condo For Sale    60626         1          1   --  \n",
       "3910      House For Sale    60641         2          2   --  \n",
       "\n",
       "[812 rows x 10 columns]"
      ]
     },
     "execution_count": 606,
     "metadata": {},
     "output_type": "execute_result"
    }
   ],
   "source": [
    "df1[df1['sqrt'] == '--']"
   ]
  },
  {
   "cell_type": "code",
   "execution_count": 607,
   "metadata": {
    "collapsed": true
   },
   "outputs": [],
   "source": [
    "df1['sqrt'] = df1['sqrt'].apply(lambda x:x.replace('+',''))"
   ]
  },
  {
   "cell_type": "code",
   "execution_count": 608,
   "metadata": {
    "collapsed": false
   },
   "outputs": [],
   "source": [
    "dfnosqft = df1\n",
    "#This dataframe contains more rows, but we won't be using the square feet feature"
   ]
  },
  {
   "cell_type": "code",
   "execution_count": 609,
   "metadata": {
    "collapsed": false
   },
   "outputs": [
    {
     "data": {
      "text/plain": [
       "(2998, 8)"
      ]
     },
     "execution_count": 609,
     "metadata": {},
     "output_type": "execute_result"
    }
   ],
   "source": [
    "dfsqft = df1.loc[df1['sqrt'] != '--', ['address','more_info','price','status','zip_code','beds_int','baths_int','sqrt']]\n",
    "dfsqft.shape\n",
    "#This dataframe contains only rows that don't have '--' as square feet values. "
   ]
  },
  {
   "cell_type": "code",
   "execution_count": 610,
   "metadata": {
    "collapsed": false
   },
   "outputs": [],
   "source": [
    "dfsqft['sqrtint'] = pd.to_numeric(dfsqft['sqrt'])"
   ]
  },
  {
   "cell_type": "code",
   "execution_count": 611,
   "metadata": {
    "collapsed": false
   },
   "outputs": [
    {
     "data": {
      "text/plain": [
       "address       object\n",
       "more_info     object\n",
       "price        float64\n",
       "status        object\n",
       "zip_code      object\n",
       "beds_int       int64\n",
       "baths_int      int64\n",
       "sqrt          object\n",
       "sqrtint        int64\n",
       "dtype: object"
      ]
     },
     "execution_count": 611,
     "metadata": {},
     "output_type": "execute_result"
    }
   ],
   "source": [
    "dfsqft.dtypes"
   ]
  },
  {
   "cell_type": "code",
   "execution_count": 614,
   "metadata": {
    "collapsed": false
   },
   "outputs": [
    {
     "data": {
      "text/plain": [
       "count               2,998.00\n",
       "mean              521,430.92\n",
       "std               828,383.46\n",
       "min                 5,000.00\n",
       "25%               179,000.00\n",
       "50%               319,900.00\n",
       "75%               549,000.00\n",
       "max            12,950,000.00\n",
       "Name: price, dtype: float64"
      ]
     },
     "execution_count": 614,
     "metadata": {},
     "output_type": "execute_result"
    }
   ],
   "source": [
    "pd.options.display.float_format = '{:20,.2f}'.format\n",
    "dfsqft['price'].describe()"
   ]
  },
  {
   "cell_type": "code",
   "execution_count": 624,
   "metadata": {
    "collapsed": false
   },
   "outputs": [
    {
     "data": {
      "text/plain": [
       "<matplotlib.axes._subplots.AxesSubplot at 0x11bc54f50>"
      ]
     },
     "execution_count": 624,
     "metadata": {},
     "output_type": "execute_result"
    },
    {
     "data": {
      "image/png": "[encoded data removed]",
      "text/plain": [
       "<matplotlib.figure.Figure at 0x121558a90>"
      ]
     },
     "metadata": {},
     "output_type": "display_data"
    }
   ],
   "source": [
    "sns.plt.ticklabel_format(style='plain', axis='x',useOffset=False)\n",
    "sns.distplot(dfsqft['price'])"
   ]
  },
  {
   "cell_type": "code",
   "execution_count": 625,
   "metadata": {
    "collapsed": true
   },
   "outputs": [],
   "source": [
    "#We will use the median as the split between 'high' and 'low' prices, since there a large values that bring the mean up"
   ]
  },
  {
   "cell_type": "code",
   "execution_count": 626,
   "metadata": {
    "collapsed": true
   },
   "outputs": [],
   "source": [
    "dfsqft['ishigh'] = dfsqft['price'].apply(lambda x: 1 if x > 319900 else 0)"
   ]
  },
  {
   "cell_type": "code",
   "execution_count": 627,
   "metadata": {
    "collapsed": false
   },
   "outputs": [
    {
     "data": {
      "text/plain": [
       "0    1507\n",
       "1    1491\n",
       "Name: ishigh, dtype: int64"
      ]
     },
     "execution_count": 627,
     "metadata": {},
     "output_type": "execute_result"
    }
   ],
   "source": [
    "dfsqft['ishigh'].value_counts()"
   ]
  },
  {
   "cell_type": "code",
   "execution_count": 642,
   "metadata": {
    "collapsed": false,
    "scrolled": true
   },
   "outputs": [
    {
     "data": {
      "text/html": [
       "<div>\n",
       "<table border=\"1\" class=\"dataframe\">\n",
       "  <thead>\n",
       "    <tr style=\"text-align: right;\">\n",
       "      <th></th>\n",
       "      <th>address</th>\n",
       "      <th>more_info</th>\n",
       "      <th>price</th>\n",
       "      <th>status</th>\n",
       "      <th>zip_code</th>\n",
       "      <th>beds_int</th>\n",
       "      <th>baths_int</th>\n",
       "      <th>sqrt</th>\n",
       "      <th>sqrtint</th>\n",
       "      <th>ishigh</th>\n",
       "    </tr>\n",
       "  </thead>\n",
       "  <tbody>\n",
       "    <tr>\n",
       "      <th>0</th>\n",
       "      <td>360 E Randolph St # 601-602, Chicago, IL</td>\n",
       "      <td>http://www.zillow.com/homedetails/360-E-Randol...</td>\n",
       "      <td>1,299,000.00</td>\n",
       "      <td>Condo For Sale</td>\n",
       "      <td>60601</td>\n",
       "      <td>3</td>\n",
       "      <td>4</td>\n",
       "      <td>2700</td>\n",
       "      <td>2700</td>\n",
       "      <td>1</td>\n",
       "    </tr>\n",
       "    <tr>\n",
       "      <th>1</th>\n",
       "      <td>8 E Randolph St UNIT 1006, Chicago, IL</td>\n",
       "      <td>http://www.zillow.com/homedetails/8-E-Randolph...</td>\n",
       "      <td>324,900.00</td>\n",
       "      <td>Condo For Sale</td>\n",
       "      <td>60601</td>\n",
       "      <td>1</td>\n",
       "      <td>1</td>\n",
       "      <td>850</td>\n",
       "      <td>850</td>\n",
       "      <td>1</td>\n",
       "    </tr>\n",
       "    <tr>\n",
       "      <th>2</th>\n",
       "      <td>340 E Randolph St APT 704, Chicago, IL</td>\n",
       "      <td>http://www.zillow.com/homedetails/340-E-Randol...</td>\n",
       "      <td>1,099,000.00</td>\n",
       "      <td>Condo For Sale</td>\n",
       "      <td>60601</td>\n",
       "      <td>2</td>\n",
       "      <td>3</td>\n",
       "      <td>1902</td>\n",
       "      <td>1902</td>\n",
       "      <td>1</td>\n",
       "    </tr>\n",
       "    <tr>\n",
       "      <th>3</th>\n",
       "      <td>420 E Waterside Dr UNIT 310, Chicago, IL</td>\n",
       "      <td>http://www.zillow.com/homedetails/420-E-Waters...</td>\n",
       "      <td>567,770.00</td>\n",
       "      <td>Condo For Sale</td>\n",
       "      <td>60601</td>\n",
       "      <td>2</td>\n",
       "      <td>3</td>\n",
       "      <td>1500</td>\n",
       "      <td>1500</td>\n",
       "      <td>1</td>\n",
       "    </tr>\n",
       "    <tr>\n",
       "      <th>4</th>\n",
       "      <td>155 N Harbor Dr # 1212-13, Chicago, IL</td>\n",
       "      <td>http://www.zillow.com/homedetails/155-N-Harbor...</td>\n",
       "      <td>1,350,000.00</td>\n",
       "      <td>Condo For Sale</td>\n",
       "      <td>60601</td>\n",
       "      <td>3</td>\n",
       "      <td>3</td>\n",
       "      <td>2367</td>\n",
       "      <td>2367</td>\n",
       "      <td>1</td>\n",
       "    </tr>\n",
       "  </tbody>\n",
       "</table>\n",
       "</div>"
      ],
      "text/plain": [
       "                                    address  \\\n",
       "0  360 E Randolph St # 601-602, Chicago, IL   \n",
       "1    8 E Randolph St UNIT 1006, Chicago, IL   \n",
       "2    340 E Randolph St APT 704, Chicago, IL   \n",
       "3  420 E Waterside Dr UNIT 310, Chicago, IL   \n",
       "4    155 N Harbor Dr # 1212-13, Chicago, IL   \n",
       "\n",
       "                                           more_info                price  \\\n",
       "0  http://www.zillow.com/homedetails/360-E-Randol...         1,299,000.00   \n",
       "1  http://www.zillow.com/homedetails/8-E-Randolph...           324,900.00   \n",
       "2  http://www.zillow.com/homedetails/340-E-Randol...         1,099,000.00   \n",
       "3  http://www.zillow.com/homedetails/420-E-Waters...           567,770.00   \n",
       "4  http://www.zillow.com/homedetails/155-N-Harbor...         1,350,000.00   \n",
       "\n",
       "           status zip_code  beds_int  baths_int  sqrt  sqrtint  ishigh  \n",
       "0  Condo For Sale    60601         3          4  2700     2700       1  \n",
       "1  Condo For Sale    60601         1          1   850      850       1  \n",
       "2  Condo For Sale    60601         2          3  1902     1902       1  \n",
       "3  Condo For Sale    60601         2          3  1500     1500       1  \n",
       "4  Condo For Sale    60601         3          3  2367     2367       1  "
      ]
     },
     "execution_count": 642,
     "metadata": {},
     "output_type": "execute_result"
    }
   ],
   "source": [
    "dfsqft.head()"
   ]
  },
  {
   "cell_type": "code",
   "execution_count": 644,
   "metadata": {
    "collapsed": false
   },
   "outputs": [
    {
     "data": {
      "text/plain": [
       "<matplotlib.axes._subplots.AxesSubplot at 0x121aac110>"
      ]
     },
     "execution_count": 644,
     "metadata": {},
     "output_type": "execute_result"
    },
    {
     "data": {
      "image/png": "[encoded data removed]",
      "text/plain": [
       "<matplotlib.figure.Figure at 0x121a98c10>"
      ]
     },
     "metadata": {},
     "output_type": "display_data"
    }
   ],
   "source": [
    "sns.heatmap(dfsqft.corr(), cmap = 'coolwarm', annot = True)"
   ]
  },
  {
   "cell_type": "code",
   "execution_count": 633,
   "metadata": {
    "collapsed": false
   },
   "outputs": [
    {
     "name": "stdout",
     "output_type": "stream",
     "text": [
      "Fitting 3 folds for each of 6 candidates, totalling 18 fits\n",
      "[CV] penalty=l1, C=0.1 ...............................................\n",
      "[CV] ................ penalty=l1, C=0.1, score=0.736000, total=   0.0s\n",
      "[CV] penalty=l1, C=0.1 ...............................................\n",
      "[CV] ................ penalty=l1, C=0.1, score=0.784785, total=   0.0s\n",
      "[CV] penalty=l1, C=0.1 ...............................................\n",
      "[CV] ................ penalty=l1, C=0.1, score=0.764765, total=   0.0s\n",
      "[CV] penalty=l2, C=0.1 ...............................................\n",
      "[CV] ................ penalty=l2, C=0.1, score=0.755000, total=   0.0s\n",
      "[CV] penalty=l2, C=0.1 ...............................................\n",
      "[CV] ................ penalty=l2, C=0.1, score=0.783784, total=   0.0s\n",
      "[CV] penalty=l2, C=0.1 ...............................................\n",
      "[CV] ................ penalty=l2, C=0.1, score=0.758759, total=   0.0s\n",
      "[CV] penalty=l1, C=1.0 ...............................................\n",
      "[CV] ................ penalty=l1, C=1.0, score=0.719000, total=   0.0s\n",
      "[CV] penalty=l1, C=1.0 ...............................................\n",
      "[CV] ................ penalty=l1, C=1.0, score=0.782783, total=   0.0s\n",
      "[CV] penalty=l1, C=1.0 ...............................................\n",
      "[CV] ................ penalty=l1, C=1.0, score=0.764765, total=   0.0s\n",
      "[CV] penalty=l2, C=1.0 ...............................................\n",
      "[CV] ................ penalty=l2, C=1.0, score=0.735000, total=   0.0s\n",
      "[CV] penalty=l2, C=1.0 ...............................................\n",
      "[CV] ................ penalty=l2, C=1.0, score=0.778779, total=   0.0s\n",
      "[CV] penalty=l2, C=1.0 ...............................................\n",
      "[CV] ................ penalty=l2, C=1.0, score=0.763764, total=   0.0s\n",
      "[CV] penalty=l1, C=10 ................................................\n",
      "[CV] ................. penalty=l1, C=10, score=0.723000, total=   0.0s\n",
      "[CV] penalty=l1, C=10 ................................................\n",
      "[CV] ................. penalty=l1, C=10, score=0.779780, total=   0.0s\n",
      "[CV] penalty=l1, C=10 ................................................\n",
      "[CV] ................. penalty=l1, C=10, score=0.764765, total=   0.0s\n",
      "[CV] penalty=l2, C=10 ................................................\n",
      "[CV] ................. penalty=l2, C=10, score=0.728000, total=   0.0s\n",
      "[CV] penalty=l2, C=10 ................................................\n",
      "[CV] ................. penalty=l2, C=10, score=0.778779, total=   0.0s\n",
      "[CV] penalty=l2, C=10 ................................................\n",
      "[CV] ................. penalty=l2, C=10, score=0.764765, total=   0.0s\n"
     ]
    },
    {
     "name": "stderr",
     "output_type": "stream",
     "text": [
      "[Parallel(n_jobs=1)]: Done   1 out of   1 | elapsed:    0.0s remaining:    0.0s\n",
      "[Parallel(n_jobs=1)]: Done   2 out of   2 | elapsed:    0.0s remaining:    0.0s\n",
      "[Parallel(n_jobs=1)]: Done   3 out of   3 | elapsed:    0.0s remaining:    0.0s\n",
      "[Parallel(n_jobs=1)]: Done   4 out of   4 | elapsed:    0.0s remaining:    0.0s\n",
      "[Parallel(n_jobs=1)]: Done   5 out of   5 | elapsed:    0.1s remaining:    0.0s\n",
      "[Parallel(n_jobs=1)]: Done   6 out of   6 | elapsed:    0.1s remaining:    0.0s\n",
      "[Parallel(n_jobs=1)]: Done   7 out of   7 | elapsed:    0.1s remaining:    0.0s\n",
      "[Parallel(n_jobs=1)]: Done   8 out of   8 | elapsed:    0.1s remaining:    0.0s\n",
      "[Parallel(n_jobs=1)]: Done   9 out of   9 | elapsed:    0.1s remaining:    0.0s\n",
      "[Parallel(n_jobs=1)]: Done  18 out of  18 | elapsed:    0.2s finished\n"
     ]
    },
    {
     "data": {
      "text/plain": [
       "GridSearchCV(cv=None, error_score='raise',\n",
       "       estimator=LogisticRegression(C=1.0, class_weight=None, dual=False, fit_intercept=True,\n",
       "          intercept_scaling=1, max_iter=100, multi_class='ovr', n_jobs=1,\n",
       "          penalty='l2', random_state=None, solver='liblinear', tol=0.0001,\n",
       "          verbose=0, warm_start=False),\n",
       "       fit_params={}, iid=True, n_jobs=1,\n",
       "       param_grid={'penalty': ['l1', 'l2'], 'C': [0.1, 1.0, 10]},\n",
       "       pre_dispatch='2*n_jobs', refit=True, return_train_score=True,\n",
       "       scoring=None, verbose=10)"
      ]
     },
     "execution_count": 633,
     "metadata": {},
     "output_type": "execute_result"
    }
   ],
   "source": [
    "features = ['beds_int','baths_int','sqrtint']\n",
    "y = dfsqft['ishigh']\n",
    "log_reg = LogisticRegression()\n",
    "hyperparameters = {'penalty':['l1','l2'],\n",
    "                  'C': [0.1, 1.0, 10]}\n",
    "grid_search = GridSearchCV(log_reg, hyperparameters, verbose = 10)\n",
    "grid_search.fit(dfsqft[features], y)"
   ]
  },
  {
   "cell_type": "code",
   "execution_count": 634,
   "metadata": {
    "collapsed": false
   },
   "outputs": [
    {
     "data": {
      "text/plain": [
       "LogisticRegression(C=0.1, class_weight=None, dual=False, fit_intercept=True,\n",
       "          intercept_scaling=1, max_iter=100, multi_class='ovr', n_jobs=1,\n",
       "          penalty='l2', random_state=None, solver='liblinear', tol=0.0001,\n",
       "          verbose=0, warm_start=False)"
      ]
     },
     "execution_count": 634,
     "metadata": {},
     "output_type": "execute_result"
    }
   ],
   "source": [
    "grid_search.best_estimator_"
   ]
  },
  {
   "cell_type": "code",
   "execution_count": 636,
   "metadata": {
    "collapsed": false
   },
   "outputs": [
    {
     "data": {
      "text/plain": [
       "LogisticRegression(C=0.1, class_weight=None, dual=False, fit_intercept=True,\n",
       "          intercept_scaling=1, max_iter=100, multi_class='ovr', n_jobs=1,\n",
       "          penalty='l2', random_state=None, solver='liblinear', tol=0.0001,\n",
       "          verbose=0, warm_start=False)"
      ]
     },
     "execution_count": 636,
     "metadata": {},
     "output_type": "execute_result"
    }
   ],
   "source": [
    "grid_search.best_estimator_.fit(dfsqft[features],y)"
   ]
  },
  {
   "cell_type": "code",
   "execution_count": 637,
   "metadata": {
    "collapsed": false
   },
   "outputs": [
    {
     "data": {
      "text/plain": [
       "0.7888592394929953"
      ]
     },
     "execution_count": 637,
     "metadata": {},
     "output_type": "execute_result"
    }
   ],
   "source": [
    "grid_search.best_estimator_.score(dfsqft[features],y)"
   ]
  },
  {
   "cell_type": "code",
   "execution_count": 638,
   "metadata": {
    "collapsed": true
   },
   "outputs": [],
   "source": [
    "predictions = grid_search.best_estimator_.predict(dfsqft[features])"
   ]
  },
  {
   "cell_type": "code",
   "execution_count": 640,
   "metadata": {
    "collapsed": false
   },
   "outputs": [
    {
     "name": "stdout",
     "output_type": "stream",
     "text": [
      "             precision    recall  f1-score   support\n",
      "\n",
      "          0       0.77      0.83      0.80      1507\n",
      "          1       0.81      0.75      0.78      1491\n",
      "\n",
      "avg / total       0.79      0.79      0.79      2998\n",
      "\n"
     ]
    }
   ],
   "source": [
    "print metrics.classification_report(y, predictions)"
   ]
  },
  {
   "cell_type": "code",
   "execution_count": 641,
   "metadata": {
    "collapsed": false
   },
   "outputs": [
    {
     "name": "stdout",
     "output_type": "stream",
     "text": [
      "         Predicted Low  Predicted High\n",
      "Is Low            1245             262\n",
      "Is High            371            1120\n"
     ]
    }
   ],
   "source": [
    "print pd.DataFrame(metrics.confusion_matrix(y, predictions), \n",
    "                   columns=['Predicted Low', 'Predicted High'],\n",
    "                   index=['Is Low', 'Is High'])"
   ]
  },
  {
   "cell_type": "code",
   "execution_count": 650,
   "metadata": {
    "collapsed": false
   },
   "outputs": [
    {
     "data": {
      "image/png": "[encoded data removed]",
      "text/plain": [
       "<matplotlib.figure.Figure at 0x1216d79d0>"
      ]
     },
     "metadata": {},
     "output_type": "display_data"
    }
   ],
   "source": [
    "plt.style.use('seaborn-white')\n",
    "\n",
    "Y_score = grid_search.best_estimator_.decision_function(dfsqft[features])\n",
    "\n",
    "FPR = dict()\n",
    "TPR = dict()\n",
    "ROC_AUC = dict() # {}\n",
    "\n",
    "# For class 1, find the area under the curve\n",
    "\n",
    "#print metrics.roc_curve(y, Y_score)\n",
    "\n",
    "FPR[1], TPR[1], _ = metrics.roc_curve(y, Y_score)\n",
    "ROC_AUC[1] = metrics.auc(FPR[1], TPR[1])\n",
    "\n",
    "\n",
    "# Plot of a ROC curve for class 1 (high price)\n",
    "plt.figure(figsize=[11,9])\n",
    "plt.plot(FPR[1], TPR[1], label='ROC curve (area = %0.2f)' % ROC_AUC[1], linewidth=4, color = 'r')\n",
    "plt.plot([0, 1], [0, 1], 'k--', linewidth=4)\n",
    "plt.xlim([0.0, 1.0])\n",
    "plt.ylim([0.0, 1.05])\n",
    "plt.xlabel('False Positive Rate', fontsize=18)\n",
    "plt.ylabel('True Positive Rate', fontsize=18)\n",
    "plt.title('Receiver operating characteristic for housing price classification', fontsize=18)\n",
    "plt.legend(loc=\"lower right\")\n",
    "plt.show()"
   ]
  },
  {
   "cell_type": "code",
   "execution_count": 651,
   "metadata": {
    "collapsed": true
   },
   "outputs": [],
   "source": [
    "#Now we will test with kNN\n",
    "from sklearn.preprocessing import StandardScaler\n",
    "x = dfsqft[features]\n",
    "standard_scale = StandardScaler()\n",
    "standard_scale.fit(x)\n",
    "standardized_x = standard_scale.transform(x)"
   ]
  },
  {
   "cell_type": "code",
   "execution_count": 652,
   "metadata": {
    "collapsed": true
   },
   "outputs": [],
   "source": [
    "X_train, X_test, y_train, y_test = train_test_split(standardized_x, y, test_size = 0.3)"
   ]
  },
  {
   "cell_type": "code",
   "execution_count": 655,
   "metadata": {
    "collapsed": false
   },
   "outputs": [
    {
     "data": {
      "text/plain": [
       "0.83555767397521452"
      ]
     },
     "execution_count": 655,
     "metadata": {},
     "output_type": "execute_result"
    }
   ],
   "source": [
    "knn = KNeighborsClassifier()\n",
    "knn.fit(X_train,y_train)\n",
    "knn.score(X_train,y_train)"
   ]
  },
  {
   "cell_type": "code",
   "execution_count": 657,
   "metadata": {
    "collapsed": false
   },
   "outputs": [
    {
     "name": "stdout",
     "output_type": "stream",
     "text": [
      "             precision    recall  f1-score   support\n",
      "\n",
      "          0       0.82      0.87      0.84      1071\n",
      "          1       0.85      0.80      0.83      1027\n",
      "\n",
      "avg / total       0.84      0.84      0.84      2098\n",
      "\n"
     ]
    }
   ],
   "source": [
    "predictions = knn.predict(X_train)\n",
    "print metrics.classification_report(y_train, predictions)"
   ]
  },
  {
   "cell_type": "code",
   "execution_count": 665,
   "metadata": {
    "collapsed": false
   },
   "outputs": [
    {
     "name": "stdout",
     "output_type": "stream",
     "text": [
      "         Predict Low  Predict High\n",
      "Is Low           927           144\n",
      "Is High          201           826\n"
     ]
    }
   ],
   "source": [
    "cmatrix = np.array(metrics.confusion_matrix(y_train, predictions, labels=[0,1]))\n",
    "\n",
    "confusion = pd.DataFrame(cmatrix, index=['Is Low', 'Is High'],\n",
    "                            columns=['Predict Low','Predict High'])\n",
    "print confusion"
   ]
  },
  {
   "cell_type": "code",
   "execution_count": 684,
   "metadata": {
    "collapsed": true
   },
   "outputs": [],
   "source": [
    "probabilities = knn.predict_proba(X_train)[:,1]"
   ]
  },
  {
   "cell_type": "code",
   "execution_count": 685,
   "metadata": {
    "collapsed": false
   },
   "outputs": [],
   "source": [
    "fpr, tpr, thresholds = metrics.roc_curve(y_train, probabilities, pos_label=1)"
   ]
  },
  {
   "cell_type": "code",
   "execution_count": 686,
   "metadata": {
    "collapsed": false
   },
   "outputs": [
    {
     "data": {
      "text/plain": [
       "0.92467658923355123"
      ]
     },
     "execution_count": 686,
     "metadata": {},
     "output_type": "execute_result"
    }
   ],
   "source": [
    "m = metrics.auc(fpr, tpr)\n",
    "m"
   ]
  },
  {
   "cell_type": "code",
   "execution_count": 687,
   "metadata": {
    "collapsed": false
   },
   "outputs": [
    {
     "data": {
      "text/plain": [
       "<matplotlib.legend.Legend at 0x1223f5d10>"
      ]
     },
     "execution_count": 687,
     "metadata": {},
     "output_type": "execute_result"
    },
    {
     "data": {
      "image/png": "[encoded data removed]",
      "text/plain": [
       "<matplotlib.figure.Figure at 0x1223f5e10>"
      ]
     },
     "metadata": {},
     "output_type": "display_data"
    }
   ],
   "source": [
    "plt.plot(fpr, tpr, label='ROC curve (area = %0.2f)' % m)\n",
    "plt.plot([0, 1], [0, 1], linestyle='--')\n",
    "plt.legend()"
   ]
  },
  {
   "cell_type": "code",
   "execution_count": 688,
   "metadata": {
    "collapsed": false
   },
   "outputs": [
    {
     "data": {
      "text/plain": [
       "0.76888888888888884"
      ]
     },
     "execution_count": 688,
     "metadata": {},
     "output_type": "execute_result"
    }
   ],
   "source": [
    "knn.score(X_test, y_test)"
   ]
  },
  {
   "cell_type": "code",
   "execution_count": 689,
   "metadata": {
    "collapsed": false
   },
   "outputs": [
    {
     "name": "stdout",
     "output_type": "stream",
     "text": [
      "             precision    recall  f1-score   support\n",
      "\n",
      "          0       0.74      0.81      0.77       436\n",
      "          1       0.81      0.73      0.76       464\n",
      "\n",
      "avg / total       0.77      0.77      0.77       900\n",
      "\n"
     ]
    }
   ],
   "source": [
    "predictions = knn.predict(X_test)\n",
    "\n",
    "print metrics.classification_report(y_test, predictions)"
   ]
  },
  {
   "cell_type": "code",
   "execution_count": 690,
   "metadata": {
    "collapsed": false
   },
   "outputs": [
    {
     "name": "stdout",
     "output_type": "stream",
     "text": [
      "         Predict Low  Predict High\n",
      "Is Low           355            81\n",
      "Is High          127           337\n"
     ]
    }
   ],
   "source": [
    "cmatrix = np.array(metrics.confusion_matrix(y_test, predictions, labels=[0,1]))\n",
    "\n",
    "confusion = pd.DataFrame(cmatrix, index=['Is Low', 'Is High'],\n",
    "                            columns=['Predict Low','Predict High'])\n",
    "print confusion"
   ]
  },
  {
   "cell_type": "code",
   "execution_count": 691,
   "metadata": {
    "collapsed": true
   },
   "outputs": [],
   "source": [
    "probabilities = knn.predict_proba(X_test)[:,1]"
   ]
  },
  {
   "cell_type": "code",
   "execution_count": 692,
   "metadata": {
    "collapsed": true
   },
   "outputs": [],
   "source": [
    "fpr, tpr, thresholds = metrics.roc_curve(y_test, probabilities, pos_label=1)"
   ]
  },
  {
   "cell_type": "code",
   "execution_count": 693,
   "metadata": {
    "collapsed": false
   },
   "outputs": [
    {
     "data": {
      "text/plain": [
       "0.84110546504270811"
      ]
     },
     "execution_count": 693,
     "metadata": {},
     "output_type": "execute_result"
    }
   ],
   "source": [
    "m = metrics.auc(fpr, tpr)\n",
    "m"
   ]
  },
  {
   "cell_type": "code",
   "execution_count": 695,
   "metadata": {
    "collapsed": false
   },
   "outputs": [
    {
     "data": {
      "text/plain": [
       "<matplotlib.legend.Legend at 0x12264fd90>"
      ]
     },
     "execution_count": 695,
     "metadata": {},
     "output_type": "execute_result"
    },
    {
     "data": {
      "image/png": "[encoded data removed]",
      "text/plain": [
       "<matplotlib.figure.Figure at 0x12264f3d0>"
      ]
     },
     "metadata": {},
     "output_type": "display_data"
    }
   ],
   "source": [
    "plt.plot(fpr, tpr, label='ROC curve (area = %0.2f)' % m)\n",
    "plt.plot([0, 1], [0, 1], linestyle='--')\n",
    "plt.legend()"
   ]
  },
  {
   "cell_type": "code",
   "execution_count": 742,
   "metadata": {
    "collapsed": false
   },
   "outputs": [
    {
     "data": {
      "text/plain": [
       "0.82388258839226147"
      ]
     },
     "execution_count": 742,
     "metadata": {},
     "output_type": "execute_result"
    }
   ],
   "source": [
    "#fit over entire dataframe\n",
    "y = dfsqft['ishigh']\n",
    "knn.fit(standardized_x,y)\n",
    "knn.score(standardized_x,y)"
   ]
  },
  {
   "cell_type": "code",
   "execution_count": 743,
   "metadata": {
    "collapsed": false
   },
   "outputs": [
    {
     "name": "stdout",
     "output_type": "stream",
     "text": [
      "             precision    recall  f1-score   support\n",
      "\n",
      "          0       0.83      0.81      0.82      1507\n",
      "          1       0.81      0.84      0.83      1491\n",
      "\n",
      "avg / total       0.82      0.82      0.82      2998\n",
      "\n"
     ]
    }
   ],
   "source": [
    "predictionfinal = knn.predict(standardized_x)\n",
    "print metrics.classification_report(y, predictionfinal)"
   ]
  },
  {
   "cell_type": "code",
   "execution_count": 744,
   "metadata": {
    "collapsed": false
   },
   "outputs": [
    {
     "name": "stdout",
     "output_type": "stream",
     "text": [
      "         Predict Low  Predict High\n",
      "Is Low          1224           283\n",
      "Is High          245          1246\n"
     ]
    }
   ],
   "source": [
    "cmatrixfinal = np.array(metrics.confusion_matrix(y, predictionfinal, labels=[0,1]))\n",
    "\n",
    "confusionfinal = pd.DataFrame(cmatrixfinal, index=['Is Low', 'Is High'],\n",
    "                            columns=['Predict Low','Predict High'])\n",
    "print confusionfinal"
   ]
  },
  {
   "cell_type": "code",
   "execution_count": 745,
   "metadata": {
    "collapsed": true
   },
   "outputs": [],
   "source": [
    "probabilitiesfinal = knn.predict_proba(standardized_x)[:,1]"
   ]
  },
  {
   "cell_type": "code",
   "execution_count": 746,
   "metadata": {
    "collapsed": true
   },
   "outputs": [],
   "source": [
    "fpr, tpr, thresholds = metrics.roc_curve(y, probabilitiesfinal, pos_label=1)"
   ]
  },
  {
   "cell_type": "code",
   "execution_count": 747,
   "metadata": {
    "collapsed": false
   },
   "outputs": [
    {
     "data": {
      "text/plain": [
       "0.91217933569120979"
      ]
     },
     "execution_count": 747,
     "metadata": {},
     "output_type": "execute_result"
    }
   ],
   "source": [
    "mfinal = metrics.auc(fpr, tpr)\n",
    "mfinal"
   ]
  },
  {
   "cell_type": "code",
   "execution_count": 749,
   "metadata": {
    "collapsed": false
   },
   "outputs": [
    {
     "data": {
      "text/plain": [
       "<matplotlib.legend.Legend at 0x1232932d0>"
      ]
     },
     "execution_count": 749,
     "metadata": {},
     "output_type": "execute_result"
    },
    {
     "data": {
      "image/png": "[encoded data removed]",
      "text/plain": [
       "<matplotlib.figure.Figure at 0x123293310>"
      ]
     },
     "metadata": {},
     "output_type": "display_data"
    }
   ],
   "source": [
    "plt.plot(fpr, tpr, label='ROC curve (area = %0.2f)' % mfinal)\n",
    "plt.plot([0, 1], [0, 1], linestyle='--')\n",
    "plt.legend()"
   ]
  },
  {
   "cell_type": "code",
   "execution_count": 705,
   "metadata": {
    "collapsed": false
   },
   "outputs": [
    {
     "data": {
      "text/plain": [
       "count               3,810.00\n",
       "mean              489,139.01\n",
       "std               787,327.39\n",
       "min                 5,000.00\n",
       "25%               169,000.00\n",
       "50%               299,900.00\n",
       "75%               525,000.00\n",
       "max            12,950,000.00\n",
       "Name: price, dtype: float64"
      ]
     },
     "execution_count": 705,
     "metadata": {},
     "output_type": "execute_result"
    }
   ],
   "source": [
    "#Now we will do a run with dfnosqrt\n",
    "dfnosqft['price'].describe()"
   ]
  },
  {
   "cell_type": "code",
   "execution_count": null,
   "metadata": {
    "collapsed": false
   },
   "outputs": [],
   "source": [
    "#We will use the median as the split between 'high' and 'low' prices, since there a large values that bring the mean up"
   ]
  },
  {
   "cell_type": "code",
   "execution_count": 706,
   "metadata": {
    "collapsed": true
   },
   "outputs": [],
   "source": [
    "dfnosqft['ishigh'] = dfnosqft['price'].apply(lambda x: 1 if x > 299900 else 0)"
   ]
  },
  {
   "cell_type": "code",
   "execution_count": 707,
   "metadata": {
    "collapsed": false
   },
   "outputs": [
    {
     "data": {
      "text/plain": [
       "0    1911\n",
       "1    1899\n",
       "Name: ishigh, dtype: int64"
      ]
     },
     "execution_count": 707,
     "metadata": {},
     "output_type": "execute_result"
    }
   ],
   "source": [
    "dfnosqft['ishigh'].value_counts()"
   ]
  },
  {
   "cell_type": "code",
   "execution_count": 709,
   "metadata": {
    "collapsed": false
   },
   "outputs": [
    {
     "data": {
      "text/plain": [
       "<matplotlib.axes._subplots.AxesSubplot at 0x121b909d0>"
      ]
     },
     "execution_count": 709,
     "metadata": {},
     "output_type": "execute_result"
    },
    {
     "data": {
      "image/png": "[encoded data removed]",
      "text/plain": [
       "<matplotlib.figure.Figure at 0x121d92e90>"
      ]
     },
     "metadata": {},
     "output_type": "display_data"
    }
   ],
   "source": [
    "sns.heatmap(dfnosqft.corr(), cmap = 'coolwarm', annot = True)"
   ]
  },
  {
   "cell_type": "code",
   "execution_count": 713,
   "metadata": {
    "collapsed": false
   },
   "outputs": [
    {
     "name": "stdout",
     "output_type": "stream",
     "text": [
      "Fitting 3 folds for each of 6 candidates, totalling 18 fits\n",
      "[CV] penalty=l1, C=0.1 ...............................................\n",
      "[CV] ................ penalty=l1, C=0.1, score=0.660630, total=   0.0s\n",
      "[CV] penalty=l1, C=0.1 ...............................................\n",
      "[CV] ................ penalty=l1, C=0.1, score=0.726772, total=   0.0s\n",
      "[CV] penalty=l1, C=0.1 ...............................................\n",
      "[CV] ................ penalty=l1, C=0.1, score=0.727559, total=   0.0s\n",
      "[CV] penalty=l2, C=0.1 ...............................................\n",
      "[CV] ................ penalty=l2, C=0.1, score=0.660630, total=   0.0s\n",
      "[CV] penalty=l2, C=0.1 ...............................................\n",
      "[CV] ................ penalty=l2, C=0.1, score=0.726772, total=   0.0s\n",
      "[CV] penalty=l2, C=0.1 ...............................................\n",
      "[CV] ................ penalty=l2, C=0.1, score=0.727559, total=   0.0s\n",
      "[CV] penalty=l1, C=1.0 ...............................................\n",
      "[CV] ................ penalty=l1, C=1.0, score=0.660630, total=   0.0s\n",
      "[CV] penalty=l1, C=1.0 ...............................................\n",
      "[CV] ................ penalty=l1, C=1.0, score=0.726772, total=   0.0s\n",
      "[CV] penalty=l1, C=1.0 ...............................................\n",
      "[CV] ................ penalty=l1, C=1.0, score=0.727559, total=   0.0s\n",
      "[CV] penalty=l2, C=1.0 ...............................................\n",
      "[CV] ................ penalty=l2, C=1.0, score=0.660630, total=   0.0s\n",
      "[CV] penalty=l2, C=1.0 ...............................................\n",
      "[CV] ................ penalty=l2, C=1.0, score=0.726772, total=   0.0s\n",
      "[CV] penalty=l2, C=1.0 ...............................................\n",
      "[CV] ................ penalty=l2, C=1.0, score=0.727559, total=   0.0s\n",
      "[CV] penalty=l1, C=10 ................................................\n",
      "[CV] ................. penalty=l1, C=10, score=0.660630, total=   0.0s\n",
      "[CV] penalty=l1, C=10 ................................................\n",
      "[CV] ................. penalty=l1, C=10, score=0.726772, total=   0.0s\n",
      "[CV] penalty=l1, C=10 ................................................\n",
      "[CV] ................. penalty=l1, C=10, score=0.727559, total=   0.0s\n",
      "[CV] penalty=l2, C=10 ................................................\n"
     ]
    },
    {
     "name": "stderr",
     "output_type": "stream",
     "text": [
      "[Parallel(n_jobs=1)]: Done   1 out of   1 | elapsed:    0.0s remaining:    0.0s\n",
      "[Parallel(n_jobs=1)]: Done   2 out of   2 | elapsed:    0.0s remaining:    0.0s\n",
      "[Parallel(n_jobs=1)]: Done   3 out of   3 | elapsed:    0.0s remaining:    0.0s\n",
      "[Parallel(n_jobs=1)]: Done   4 out of   4 | elapsed:    0.0s remaining:    0.0s\n",
      "[Parallel(n_jobs=1)]: Done   5 out of   5 | elapsed:    0.1s remaining:    0.0s\n",
      "[Parallel(n_jobs=1)]: Done   6 out of   6 | elapsed:    0.1s remaining:    0.0s\n",
      "[Parallel(n_jobs=1)]: Done   7 out of   7 | elapsed:    0.1s remaining:    0.0s\n",
      "[Parallel(n_jobs=1)]: Done   8 out of   8 | elapsed:    0.1s remaining:    0.0s\n",
      "[Parallel(n_jobs=1)]: Done   9 out of   9 | elapsed:    0.1s remaining:    0.0s\n"
     ]
    },
    {
     "name": "stdout",
     "output_type": "stream",
     "text": [
      "[CV] ................. penalty=l2, C=10, score=0.660630, total=   0.0s\n",
      "[CV] penalty=l2, C=10 ................................................\n",
      "[CV] ................. penalty=l2, C=10, score=0.726772, total=   0.0s\n",
      "[CV] penalty=l2, C=10 ................................................\n",
      "[CV] ................. penalty=l2, C=10, score=0.727559, total=   0.0s\n"
     ]
    },
    {
     "name": "stderr",
     "output_type": "stream",
     "text": [
      "[Parallel(n_jobs=1)]: Done  18 out of  18 | elapsed:    0.2s finished\n"
     ]
    },
    {
     "data": {
      "text/plain": [
       "GridSearchCV(cv=None, error_score='raise',\n",
       "       estimator=LogisticRegression(C=1.0, class_weight=None, dual=False, fit_intercept=True,\n",
       "          intercept_scaling=1, max_iter=100, multi_class='ovr', n_jobs=1,\n",
       "          penalty='l2', random_state=None, solver='liblinear', tol=0.0001,\n",
       "          verbose=0, warm_start=False),\n",
       "       fit_params={}, iid=True, n_jobs=1,\n",
       "       param_grid={'penalty': ['l1', 'l2'], 'C': [0.1, 1.0, 10]},\n",
       "       pre_dispatch='2*n_jobs', refit=True, return_train_score=True,\n",
       "       scoring=None, verbose=10)"
      ]
     },
     "execution_count": 713,
     "metadata": {},
     "output_type": "execute_result"
    }
   ],
   "source": [
    "features = ['beds_int','baths_int']\n",
    "y = dfnosqft['ishigh']\n",
    "log_reg1 = LogisticRegression()\n",
    "hyperparameters = {'penalty':['l1','l2'],\n",
    "                  'C': [0.1, 1.0, 10]}\n",
    "grid_search1 = GridSearchCV(log_reg1, hyperparameters, verbose = 10)\n",
    "grid_search1.fit(dfnosqft[features], y)"
   ]
  },
  {
   "cell_type": "code",
   "execution_count": 714,
   "metadata": {
    "collapsed": false
   },
   "outputs": [
    {
     "data": {
      "text/plain": [
       "LogisticRegression(C=0.1, class_weight=None, dual=False, fit_intercept=True,\n",
       "          intercept_scaling=1, max_iter=100, multi_class='ovr', n_jobs=1,\n",
       "          penalty='l1', random_state=None, solver='liblinear', tol=0.0001,\n",
       "          verbose=0, warm_start=False)"
      ]
     },
     "execution_count": 714,
     "metadata": {},
     "output_type": "execute_result"
    }
   ],
   "source": [
    "grid_search1.best_estimator_.fit(dfnosqft[features],y)"
   ]
  },
  {
   "cell_type": "code",
   "execution_count": 715,
   "metadata": {
    "collapsed": false
   },
   "outputs": [
    {
     "data": {
      "text/plain": [
       "0.74934383202099741"
      ]
     },
     "execution_count": 715,
     "metadata": {},
     "output_type": "execute_result"
    }
   ],
   "source": [
    "grid_search1.best_estimator_.score(dfnosqft[features],y)"
   ]
  },
  {
   "cell_type": "code",
   "execution_count": 716,
   "metadata": {
    "collapsed": true
   },
   "outputs": [],
   "source": [
    "predictions1 = grid_search1.best_estimator_.predict(dfnosqft[features])"
   ]
  },
  {
   "cell_type": "code",
   "execution_count": 717,
   "metadata": {
    "collapsed": false
   },
   "outputs": [
    {
     "name": "stdout",
     "output_type": "stream",
     "text": [
      "             precision    recall  f1-score   support\n",
      "\n",
      "          0       0.75      0.75      0.75      1911\n",
      "          1       0.75      0.75      0.75      1899\n",
      "\n",
      "avg / total       0.75      0.75      0.75      3810\n",
      "\n"
     ]
    }
   ],
   "source": [
    "print metrics.classification_report(y, predictions1)"
   ]
  },
  {
   "cell_type": "code",
   "execution_count": 718,
   "metadata": {
    "collapsed": false
   },
   "outputs": [
    {
     "name": "stdout",
     "output_type": "stream",
     "text": [
      "         Predicted Low  Predicted High\n",
      "Is Low            1430             481\n",
      "Is High            474            1425\n"
     ]
    }
   ],
   "source": [
    "print pd.DataFrame(metrics.confusion_matrix(y, predictions1), \n",
    "                   columns=['Predicted Low', 'Predicted High'],\n",
    "                   index=['Is Low', 'Is High'])"
   ]
  },
  {
   "cell_type": "code",
   "execution_count": 720,
   "metadata": {
    "collapsed": false
   },
   "outputs": [
    {
     "data": {
      "image/png": "[encoded data removed]",
      "text/plain": [
       "<matplotlib.figure.Figure at 0x1229cf190>"
      ]
     },
     "metadata": {},
     "output_type": "display_data"
    }
   ],
   "source": [
    "plt.style.use('seaborn-white')\n",
    "\n",
    "Y_score1 = grid_search1.best_estimator_.decision_function(dfnosqft[features])\n",
    "\n",
    "FPR = dict()\n",
    "TPR = dict()\n",
    "ROC_AUC = dict() # {}\n",
    "\n",
    "# For class 1, find the area under the curve\n",
    "\n",
    "#print metrics.roc_curve(y, Y_score)\n",
    "\n",
    "FPR[1], TPR[1], _ = metrics.roc_curve(y, Y_score1)\n",
    "ROC_AUC[1] = metrics.auc(FPR[1], TPR[1])\n",
    "\n",
    "\n",
    "# Plot of a ROC curve for class 1 (high price)\n",
    "plt.figure(figsize=[11,9])\n",
    "plt.plot(FPR[1], TPR[1], label='ROC curve (area = %0.2f)' % ROC_AUC[1], linewidth=4, color = 'r')\n",
    "plt.plot([0, 1], [0, 1], 'k--', linewidth=4)\n",
    "plt.xlim([0.0, 1.0])\n",
    "plt.ylim([0.0, 1.05])\n",
    "plt.xlabel('False Positive Rate', fontsize=18)\n",
    "plt.ylabel('True Positive Rate', fontsize=18)\n",
    "plt.title('Receiver operating characteristic for housing price classification', fontsize=18)\n",
    "plt.legend(loc=\"lower right\")\n",
    "plt.show()"
   ]
  },
  {
   "cell_type": "code",
   "execution_count": 721,
   "metadata": {
    "collapsed": true
   },
   "outputs": [],
   "source": [
    "x1 = dfnosqft[features]\n",
    "standard_scale1 = StandardScaler()\n",
    "standard_scale1.fit(x1)\n",
    "standardized_x1 = standard_scale1.transform(x1)"
   ]
  },
  {
   "cell_type": "code",
   "execution_count": 722,
   "metadata": {
    "collapsed": true
   },
   "outputs": [],
   "source": [
    "X_train1, X_test1, y_train1, y_test1 = train_test_split(standardized_x1, y, test_size = 0.3)"
   ]
  },
  {
   "cell_type": "code",
   "execution_count": 723,
   "metadata": {
    "collapsed": false
   },
   "outputs": [
    {
     "data": {
      "text/plain": [
       "0.75590551181102361"
      ]
     },
     "execution_count": 723,
     "metadata": {},
     "output_type": "execute_result"
    }
   ],
   "source": [
    "knn1 = KNeighborsClassifier()\n",
    "knn1.fit(X_train1,y_train1)\n",
    "knn1.score(X_train1,y_train1)"
   ]
  },
  {
   "cell_type": "code",
   "execution_count": 724,
   "metadata": {
    "collapsed": false
   },
   "outputs": [
    {
     "name": "stdout",
     "output_type": "stream",
     "text": [
      "             precision    recall  f1-score   support\n",
      "\n",
      "          0       0.76      0.75      0.75      1327\n",
      "          1       0.75      0.76      0.76      1340\n",
      "\n",
      "avg / total       0.76      0.76      0.76      2667\n",
      "\n"
     ]
    }
   ],
   "source": [
    "predictions1 = knn1.predict(X_train1)\n",
    "print metrics.classification_report(y_train1, predictions1)"
   ]
  },
  {
   "cell_type": "code",
   "execution_count": 725,
   "metadata": {
    "collapsed": false
   },
   "outputs": [
    {
     "name": "stdout",
     "output_type": "stream",
     "text": [
      "         Predict Low  Predict High\n",
      "Is Low           995           332\n",
      "Is High          319          1021\n"
     ]
    }
   ],
   "source": [
    "cmatrix1 = np.array(metrics.confusion_matrix(y_train1, predictions1, labels=[0,1]))\n",
    "\n",
    "confusion1 = pd.DataFrame(cmatrix1, index=['Is Low', 'Is High'],\n",
    "                            columns=['Predict Low','Predict High'])\n",
    "print confusion1"
   ]
  },
  {
   "cell_type": "code",
   "execution_count": 726,
   "metadata": {
    "collapsed": true
   },
   "outputs": [],
   "source": [
    "probabilities1 = knn1.predict_proba(X_train1)[:,1]"
   ]
  },
  {
   "cell_type": "code",
   "execution_count": 727,
   "metadata": {
    "collapsed": true
   },
   "outputs": [],
   "source": [
    "fpr, tpr, thresholds = metrics.roc_curve(y_train1, probabilities1, pos_label=1)"
   ]
  },
  {
   "cell_type": "code",
   "execution_count": 728,
   "metadata": {
    "collapsed": false
   },
   "outputs": [
    {
     "data": {
      "text/plain": [
       "0.80986008165652534"
      ]
     },
     "execution_count": 728,
     "metadata": {},
     "output_type": "execute_result"
    }
   ],
   "source": [
    "m1 = metrics.auc(fpr, tpr)\n",
    "m1"
   ]
  },
  {
   "cell_type": "code",
   "execution_count": 729,
   "metadata": {
    "collapsed": false
   },
   "outputs": [
    {
     "data": {
      "text/plain": [
       "<matplotlib.legend.Legend at 0x122a439d0>"
      ]
     },
     "execution_count": 729,
     "metadata": {},
     "output_type": "execute_result"
    },
    {
     "data": {
      "image/png": "[encoded data removed]",
      "text/plain": [
       "<matplotlib.figure.Figure at 0x122a43990>"
      ]
     },
     "metadata": {},
     "output_type": "display_data"
    }
   ],
   "source": [
    "plt.plot(fpr, tpr, label='ROC curve (area = %0.2f)' % m1)\n",
    "plt.plot([0, 1], [0, 1], linestyle='--')\n",
    "plt.legend()"
   ]
  },
  {
   "cell_type": "code",
   "execution_count": 730,
   "metadata": {
    "collapsed": false
   },
   "outputs": [
    {
     "data": {
      "text/plain": [
       "0.74015748031496065"
      ]
     },
     "execution_count": 730,
     "metadata": {},
     "output_type": "execute_result"
    }
   ],
   "source": [
    "knn1.score(X_test1, y_test1)"
   ]
  },
  {
   "cell_type": "code",
   "execution_count": 731,
   "metadata": {
    "collapsed": true
   },
   "outputs": [],
   "source": [
    "probabilities2 = knn1.predict_proba(X_test1)[:,1]"
   ]
  },
  {
   "cell_type": "code",
   "execution_count": 732,
   "metadata": {
    "collapsed": true
   },
   "outputs": [],
   "source": [
    "fpr, tpr, thresholds = metrics.roc_curve(y_test1, probabilities2, pos_label=1)"
   ]
  },
  {
   "cell_type": "code",
   "execution_count": 733,
   "metadata": {
    "collapsed": false
   },
   "outputs": [
    {
     "data": {
      "text/plain": [
       "0.78570006371455881"
      ]
     },
     "execution_count": 733,
     "metadata": {},
     "output_type": "execute_result"
    }
   ],
   "source": [
    "m2 = metrics.auc(fpr, tpr)\n",
    "m2"
   ]
  },
  {
   "cell_type": "code",
   "execution_count": 734,
   "metadata": {
    "collapsed": false
   },
   "outputs": [
    {
     "data": {
      "text/plain": [
       "<matplotlib.legend.Legend at 0x1229ae710>"
      ]
     },
     "execution_count": 734,
     "metadata": {},
     "output_type": "execute_result"
    },
    {
     "data": {
      "image/png": "[encoded data removed]",
      "text/plain": [
       "<matplotlib.figure.Figure at 0x121e9b790>"
      ]
     },
     "metadata": {},
     "output_type": "display_data"
    }
   ],
   "source": [
    "plt.plot(fpr, tpr, label='ROC curve (area = %0.2f)' % m2)\n",
    "plt.plot([0, 1], [0, 1], linestyle='--')\n",
    "plt.legend()"
   ]
  },
  {
   "cell_type": "code",
   "execution_count": 735,
   "metadata": {
    "collapsed": true
   },
   "outputs": [],
   "source": [
    "#We can see that the dataset with square feet included showed better scores, and we will select the k Nearest \n",
    "#Neighbors model as it fared better than the Logistic Regression. Additional details to be elaborated on in the \n",
    "#Executive Summary"
   ]
  },
  {
   "cell_type": "markdown",
   "metadata": {},
   "source": [
    "**The code below shows the additional data I could have scraped on each individual listing. However, due to the time spent working on the original scraping code above, as well as cleaning the data, I did not have time to incorporate the data below. The data below would have allowed for more features to be included for model testing. Unfortunately, the variance in the structure and availability of the data that could be scraped with the code below would require a lot more time to clean and organize until they can be incorporated into the completed dataframes.**"
   ]
  },
  {
   "cell_type": "code",
   "execution_count": 738,
   "metadata": {
    "collapsed": true
   },
   "outputs": [],
   "source": [
    "website = 'http://www.zillow.com/homedetails/360-E-Randolph-St-601-602-Chicago-IL-60601/2095099011_zpid/'\n",
    "\n",
    "r = requests.get(website)\n",
    "\n",
    "with open('chicago_houses.html', 'w') as f:\n",
    "    f.write(r.content)\n",
    "\n",
    "with open('chicago_houses.html', 'r') as f:\n",
    "    soup = BeautifulSoup(f,'lxml')\n",
    "    "
   ]
  },
  {
   "cell_type": "markdown",
   "metadata": {},
   "source": [
    "**The commented section is a loop that will retrieve every link in the 'more_info' column and make it the requested site so that it can be scraped with Beautiful Soup. For demonstration purposes, I am only printing out what the data of one listing contained. Additional features that could have been used were: Type of property, Year Built, days listed on Zillow, views on Zillow, specified agent for the listing.**"
   ]
  },
  {
   "cell_type": "code",
   "execution_count": 739,
   "metadata": {
    "collapsed": false
   },
   "outputs": [
    {
     "name": "stdout",
     "output_type": "stream",
     "text": [
      "Baths: 3 full, 1 half\n",
      "Condo\n",
      "Built in 1982\n",
      "11 days on Zillow\n",
      "Views since listing: 833\n",
      "All time views: 833\n",
      "10 shoppers saved this home\n",
      "Price/sqft: $481\n",
      "MLS #: 09337885\n",
      "Coldwell Banker Residential Brokera...\n"
     ]
    }
   ],
   "source": [
    "# for i, link in enumerate(df['more_info']):\n",
    "#     website = '\"' + link + '\"'\n",
    "#     r = requests.get(website)\n",
    "#     soup = BeautifulSoup(r.content, 'lxml')\n",
    "#     yrb = {}\n",
    "facts = soup.find('div',{'class':'fact-group-container zsg-content-component top-facts'})\n",
    "children = facts.findChildren()\n",
    "for child in children:\n",
    "    fact = child.find_all('li')\n",
    "    for tag in fact:\n",
    "        print tag.text\n"
   ]
  },
  {
   "cell_type": "code",
   "execution_count": null,
   "metadata": {
    "collapsed": true
   },
   "outputs": [],
   "source": []
  }
 ],
 "metadata": {
  "kernelspec": {
   "display_name": "Python 2",
   "language": "python",
   "name": "python2"
  },
  "language_info": {
   "codemirror_mode": {
    "name": "ipython",
    "version": 2
   },
   "file_extension": ".py",
   "mimetype": "text/x-python",
   "name": "python",
   "nbconvert_exporter": "python",
   "pygments_lexer": "ipython2",
   "version": "2.7.13"
  }
 },
 "nbformat": 4,
 "nbformat_minor": 2
}
